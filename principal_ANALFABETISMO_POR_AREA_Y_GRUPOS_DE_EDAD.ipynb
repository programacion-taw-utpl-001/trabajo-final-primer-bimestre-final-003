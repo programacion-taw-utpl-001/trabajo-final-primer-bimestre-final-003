{
 "cells": [
  {
   "cell_type": "markdown",
   "metadata": {},
   "source": [
    "<h1 style=\"text-align:center\">Trabajo Final - Primer Bimestre</h1>\n",
    "***\n",
    "* **Manejo y Visualización de Datos con Python**\n",
    "***\n",
    "Para la realización del presente trabajo se llevo a cabo la obtención de los datos estadísticos enfocados en el tema de **Hombres y Mujeres en el Ecuador** extraidos de [Ecuador en Cifras](http://www.ecuadorencifras.gob.ec/estadisticas/).\n",
    "\n",
    "Librerías en python a utilizar: **jupyter, pandas, bokeh.**\n",
    "\n",
    "Autores : **Jorge Hurtado - Jonathan Rosero**\n"
   ]
  },
  {
   "cell_type": "code",
   "execution_count": 23,
   "metadata": {
    "collapsed": true
   },
   "outputs": [],
   "source": [
    "# Se inicia con la importacion de pandas con un respectivo alias para facilitar su llamada\n",
    "import pandas as pd"
   ]
  },
  {
   "cell_type": "code",
   "execution_count": 24,
   "metadata": {
    "scrolled": true
   },
   "outputs": [
    {
     "data": {
      "text/html": [
       "<div>\n",
       "<style>\n",
       "    .dataframe thead tr:only-child th {\n",
       "        text-align: right;\n",
       "    }\n",
       "\n",
       "    .dataframe thead th {\n",
       "        text-align: left;\n",
       "    }\n",
       "\n",
       "    .dataframe tbody tr th {\n",
       "        vertical-align: top;\n",
       "    }\n",
       "</style>\n",
       "<table border=\"1\" class=\"dataframe\">\n",
       "  <thead>\n",
       "    <tr style=\"text-align: right;\">\n",
       "      <th></th>\n",
       "      <th>GRANDES_GRUPOS_DE_EDAD</th>\n",
       "      <th>A_URBANA_M</th>\n",
       "      <th>A_URBANA_H</th>\n",
       "      <th>A_RURAL_M</th>\n",
       "      <th>A_RURAL_H</th>\n",
       "      <th>TOTAL_M</th>\n",
       "      <th>TOTAL_H</th>\n",
       "    </tr>\n",
       "  </thead>\n",
       "  <tbody>\n",
       "    <tr>\n",
       "      <th>0</th>\n",
       "      <td>15-24 años</td>\n",
       "      <td>0.009</td>\n",
       "      <td>0.012</td>\n",
       "      <td>0.025</td>\n",
       "      <td>0.028</td>\n",
       "      <td>0.015</td>\n",
       "      <td>0.018</td>\n",
       "    </tr>\n",
       "    <tr>\n",
       "      <th>1</th>\n",
       "      <td>25-39 años</td>\n",
       "      <td>0.017</td>\n",
       "      <td>0.018</td>\n",
       "      <td>0.056</td>\n",
       "      <td>0.053</td>\n",
       "      <td>0.030</td>\n",
       "      <td>0.030</td>\n",
       "    </tr>\n",
       "    <tr>\n",
       "      <th>2</th>\n",
       "      <td>40-64 años</td>\n",
       "      <td>0.054</td>\n",
       "      <td>0.038</td>\n",
       "      <td>0.205</td>\n",
       "      <td>0.134</td>\n",
       "      <td>0.104</td>\n",
       "      <td>0.072</td>\n",
       "    </tr>\n",
       "    <tr>\n",
       "      <th>3</th>\n",
       "      <td>65 años y mas</td>\n",
       "      <td>0.195</td>\n",
       "      <td>0.128</td>\n",
       "      <td>0.497</td>\n",
       "      <td>0.343</td>\n",
       "      <td>0.316</td>\n",
       "      <td>0.224</td>\n",
       "    </tr>\n",
       "    <tr>\n",
       "      <th>4</th>\n",
       "      <td>Total nacional</td>\n",
       "      <td>0.043</td>\n",
       "      <td>0.031</td>\n",
       "      <td>0.142</td>\n",
       "      <td>0.103</td>\n",
       "      <td>0.077</td>\n",
       "      <td>0.058</td>\n",
       "    </tr>\n",
       "  </tbody>\n",
       "</table>\n",
       "</div>"
      ],
      "text/plain": [
       "  GRANDES_GRUPOS_DE_EDAD  A_URBANA_M  A_URBANA_H  A_RURAL_M  A_RURAL_H  \\\n",
       "0             15-24 años       0.009       0.012      0.025      0.028   \n",
       "1             25-39 años       0.017       0.018      0.056      0.053   \n",
       "2             40-64 años       0.054       0.038      0.205      0.134   \n",
       "3          65 años y mas       0.195       0.128      0.497      0.343   \n",
       "4         Total nacional       0.043       0.031      0.142      0.103   \n",
       "\n",
       "   TOTAL_M  TOTAL_H  \n",
       "0    0.015    0.018  \n",
       "1    0.030    0.030  \n",
       "2    0.104    0.072  \n",
       "3    0.316    0.224  \n",
       "4    0.077    0.058  "
      ]
     },
     "execution_count": 24,
     "metadata": {},
     "output_type": "execute_result"
    }
   ],
   "source": [
    "# Con el uso de \".read_csv\" leemos el archivo con lo datos extraidos de EcuadorEnCifras\n",
    "pd.read_csv('./data/ANALFABETISMO_POR_AREA_Y_GRUPOS_DE_EDAD.csv')"
   ]
  },
  {
   "cell_type": "code",
   "execution_count": 25,
   "metadata": {
    "collapsed": true
   },
   "outputs": [],
   "source": [
    "# Como se va ha trabajar con el con los datos presentados anteriomente los guardamos en una variable\n",
    "tabla1 = pd.read_csv('./data/ANALFABETISMO_POR_AREA_Y_GRUPOS_DE_EDAD.csv')"
   ]
  },
  {
   "cell_type": "code",
   "execution_count": 26,
   "metadata": {},
   "outputs": [
    {
     "data": {
      "text/plain": [
       "pandas.core.frame.DataFrame"
      ]
     },
     "execution_count": 26,
     "metadata": {},
     "output_type": "execute_result"
    }
   ],
   "source": [
    "# Cabe mencionar el tipo de objeto de \"tabla1\" por lo que usaremos los atributos y metodos para explorar entre los datos\n",
    "type(tabla1)"
   ]
  },
  {
   "cell_type": "code",
   "execution_count": 27,
   "metadata": {},
   "outputs": [
    {
     "data": {
      "text/html": [
       "<div>\n",
       "<style>\n",
       "    .dataframe thead tr:only-child th {\n",
       "        text-align: right;\n",
       "    }\n",
       "\n",
       "    .dataframe thead th {\n",
       "        text-align: left;\n",
       "    }\n",
       "\n",
       "    .dataframe tbody tr th {\n",
       "        vertical-align: top;\n",
       "    }\n",
       "</style>\n",
       "<table border=\"1\" class=\"dataframe\">\n",
       "  <thead>\n",
       "    <tr style=\"text-align: right;\">\n",
       "      <th></th>\n",
       "      <th>GRANDES_GRUPOS_DE_EDAD</th>\n",
       "      <th>A_URBANA_M</th>\n",
       "      <th>A_URBANA_H</th>\n",
       "    </tr>\n",
       "  </thead>\n",
       "  <tbody>\n",
       "    <tr>\n",
       "      <th>0</th>\n",
       "      <td>15-24 años</td>\n",
       "      <td>0.009</td>\n",
       "      <td>0.012</td>\n",
       "    </tr>\n",
       "    <tr>\n",
       "      <th>1</th>\n",
       "      <td>25-39 años</td>\n",
       "      <td>0.017</td>\n",
       "      <td>0.018</td>\n",
       "    </tr>\n",
       "    <tr>\n",
       "      <th>2</th>\n",
       "      <td>40-64 años</td>\n",
       "      <td>0.054</td>\n",
       "      <td>0.038</td>\n",
       "    </tr>\n",
       "    <tr>\n",
       "      <th>3</th>\n",
       "      <td>65 años y mas</td>\n",
       "      <td>0.195</td>\n",
       "      <td>0.128</td>\n",
       "    </tr>\n",
       "    <tr>\n",
       "      <th>4</th>\n",
       "      <td>Total nacional</td>\n",
       "      <td>0.043</td>\n",
       "      <td>0.031</td>\n",
       "    </tr>\n",
       "  </tbody>\n",
       "</table>\n",
       "</div>"
      ],
      "text/plain": [
       "  GRANDES_GRUPOS_DE_EDAD  A_URBANA_M  A_URBANA_H\n",
       "0             15-24 años       0.009       0.012\n",
       "1             25-39 años       0.017       0.018\n",
       "2             40-64 años       0.054       0.038\n",
       "3          65 años y mas       0.195       0.128\n",
       "4         Total nacional       0.043       0.031"
      ]
     },
     "execution_count": 27,
     "metadata": {},
     "output_type": "execute_result"
    }
   ],
   "source": [
    "# Pandas nos permite trabajar con subconjunto en caso de tener una tabla dividida bajo ciertos parametros\n",
    "tabla1[['GRANDES_GRUPOS_DE_EDAD', 'A_URBANA_M', 'A_URBANA_H']]"
   ]
  },
  {
   "cell_type": "code",
   "execution_count": 28,
   "metadata": {},
   "outputs": [
    {
     "data": {
      "text/html": [
       "<div>\n",
       "<style>\n",
       "    .dataframe thead tr:only-child th {\n",
       "        text-align: right;\n",
       "    }\n",
       "\n",
       "    .dataframe thead th {\n",
       "        text-align: left;\n",
       "    }\n",
       "\n",
       "    .dataframe tbody tr th {\n",
       "        vertical-align: top;\n",
       "    }\n",
       "</style>\n",
       "<table border=\"1\" class=\"dataframe\">\n",
       "  <thead>\n",
       "    <tr style=\"text-align: right;\">\n",
       "      <th></th>\n",
       "      <th>GRANDES_GRUPOS_DE_EDAD</th>\n",
       "      <th>A_URBANA_M</th>\n",
       "      <th>A_URBANA_H</th>\n",
       "      <th>A_RURAL_M</th>\n",
       "      <th>A_RURAL_H</th>\n",
       "      <th>TOTAL_M</th>\n",
       "      <th>TOTAL_H</th>\n",
       "    </tr>\n",
       "  </thead>\n",
       "  <tbody>\n",
       "    <tr>\n",
       "      <th>2</th>\n",
       "      <td>40-64 años</td>\n",
       "      <td>0.054</td>\n",
       "      <td>0.038</td>\n",
       "      <td>0.205</td>\n",
       "      <td>0.134</td>\n",
       "      <td>0.104</td>\n",
       "      <td>0.072</td>\n",
       "    </tr>\n",
       "  </tbody>\n",
       "</table>\n",
       "</div>"
      ],
      "text/plain": [
       "  GRANDES_GRUPOS_DE_EDAD  A_URBANA_M  A_URBANA_H  A_RURAL_M  A_RURAL_H  \\\n",
       "2             40-64 años       0.054       0.038      0.205      0.134   \n",
       "\n",
       "   TOTAL_M  TOTAL_H  \n",
       "2    0.104    0.072  "
      ]
     },
     "execution_count": 28,
     "metadata": {},
     "output_type": "execute_result"
    }
   ],
   "source": [
    "# A la vez que podemso buscar un dato en especifico\n",
    "tabla1.loc[tabla1.GRANDES_GRUPOS_DE_EDAD == '40-64 años']"
   ]
  },
  {
   "cell_type": "code",
   "execution_count": 29,
   "metadata": {},
   "outputs": [
    {
     "data": {
      "text/plain": [
       "0.0636"
      ]
     },
     "execution_count": 29,
     "metadata": {},
     "output_type": "execute_result"
    }
   ],
   "source": [
    "# También podemos utilizar funciones propias de pandas, en este caso sacamos la media con el uso de \".mean()\"\n",
    "mediaUrbanaM = tabla1.A_URBANA_M.mean()\n",
    "mediaUrbanaM"
   ]
  },
  {
   "cell_type": "code",
   "execution_count": 30,
   "metadata": {},
   "outputs": [
    {
     "data": {
      "text/plain": [
       "GRANDES_GRUPOS_DE_EDAD\n",
       "15-24 años        0.015\n",
       "25-39 años        0.030\n",
       "40-64 años        0.104\n",
       "65 años y mas     0.316\n",
       "Total nacional    0.077\n",
       "Name: TOTAL_M, dtype: float64"
      ]
     },
     "execution_count": 30,
     "metadata": {},
     "output_type": "execute_result"
    }
   ],
   "source": [
    "# Podemos agrupar los datos por columnas\n",
    "tabla1.groupby('GRANDES_GRUPOS_DE_EDAD')['TOTAL_M'].mean()"
   ]
  },
  {
   "cell_type": "code",
   "execution_count": 31,
   "metadata": {},
   "outputs": [
    {
     "data": {
      "text/plain": [
       "<matplotlib.axes._subplots.AxesSubplot at 0x2225aaa43c8>"
      ]
     },
     "execution_count": 31,
     "metadata": {},
     "output_type": "execute_result"
    },
    {
     "data": {
      "image/png": "[encoded data removed]",
      "text/plain": [
       "<matplotlib.figure.Figure at 0x2225ab062b0>"
      ]
     },
     "metadata": {},
     "output_type": "display_data"
    }
   ],
   "source": [
    "# Por parte de pandas sugiere la presentacion de los datos tras es uso de matplotlib\n",
    "import matplotlib.pyplot\n",
    "\n",
    "%matplotlib inline\n",
    "\n",
    "gytle = tabla1.groupby('GRANDES_GRUPOS_DE_EDAD')['TOTAL_M'].mean()\n",
    "\n",
    "gytle.plot()"
   ]
  },
  {
   "cell_type": "code",
   "execution_count": 32,
   "metadata": {},
   "outputs": [
    {
     "data": {
      "text/html": [
       "\n",
       "    <div class=\"bk-root\">\n",
       "        <a href=\"https://bokeh.pydata.org\" target=\"_blank\" class=\"bk-logo bk-logo-small bk-logo-notebook\"></a>\n",
       "        <span id=\"5c6240de-e2fb-4f36-9243-4c6de35733a6\">Loading BokehJS ...</span>\n",
       "    </div>"
      ]
     },
     "metadata": {},
     "output_type": "display_data"
    },
    {
     "data": {
      "application/javascript": [
       "\n",
       "(function(root) {\n",
       "  function now() {\n",
       "    return new Date();\n",
       "  }\n",
       "\n",
       "  var force = true;\n",
       "\n",
       "  if (typeof (root._bokeh_onload_callbacks) === \"undefined\" || force === true) {\n",
       "    root._bokeh_onload_callbacks = [];\n",
       "    root._bokeh_is_loading = undefined;\n",
       "  }\n",
       "\n",
       "  var JS_MIME_TYPE = 'application/javascript';\n",
       "  var HTML_MIME_TYPE = 'text/html';\n",
       "  var EXEC_MIME_TYPE = 'application/vnd.bokehjs_exec.v0+json';\n",
       "  var CLASS_NAME = 'output_bokeh rendered_html';\n",
       "\n",
       "  /**\n",
       "   * Render data to the DOM node\n",
       "   */\n",
       "  function render(props, node) {\n",
       "    var script = document.createElement(\"script\");\n",
       "    node.appendChild(script);\n",
       "  }\n",
       "\n",
       "  /**\n",
       "   * Handle when an output is cleared or removed\n",
       "   */\n",
       "  function handleClearOutput(event, handle) {\n",
       "    var cell = handle.cell;\n",
       "\n",
       "    var id = cell.output_area._bokeh_element_id;\n",
       "    var server_id = cell.output_area._bokeh_server_id;\n",
       "    // Clean up Bokeh references\n",
       "    if (id !== undefined) {\n",
       "      Bokeh.index[id].model.document.clear();\n",
       "      delete Bokeh.index[id];\n",
       "    }\n",
       "\n",
       "    if (server_id !== undefined) {\n",
       "      // Clean up Bokeh references\n",
       "      var cmd = \"from bokeh.io.state import curstate; print(curstate().uuid_to_server['\" + server_id + \"'].get_sessions()[0].document.roots[0]._id)\";\n",
       "      cell.notebook.kernel.execute(cmd, {\n",
       "        iopub: {\n",
       "          output: function(msg) {\n",
       "            var element_id = msg.content.text.trim();\n",
       "            Bokeh.index[element_id].model.document.clear();\n",
       "            delete Bokeh.index[element_id];\n",
       "          }\n",
       "        }\n",
       "      });\n",
       "      // Destroy server and session\n",
       "      var cmd = \"import bokeh.io.notebook as ion; ion.destroy_server('\" + server_id + \"')\";\n",
       "      cell.notebook.kernel.execute(cmd);\n",
       "    }\n",
       "  }\n",
       "\n",
       "  /**\n",
       "   * Handle when a new output is added\n",
       "   */\n",
       "  function handleAddOutput(event, handle) {\n",
       "    var output_area = handle.output_area;\n",
       "    var output = handle.output;\n",
       "\n",
       "    // limit handleAddOutput to display_data with EXEC_MIME_TYPE content only\n",
       "    if ((output.output_type != \"display_data\") || (!output.data.hasOwnProperty(EXEC_MIME_TYPE))) {\n",
       "      return\n",
       "    }\n",
       "\n",
       "    var toinsert = output_area.element.find(`.${CLASS_NAME.split(' ')[0]}`);\n",
       "\n",
       "    if (output.metadata[EXEC_MIME_TYPE][\"id\"] !== undefined) {\n",
       "      toinsert[0].firstChild.textContent = output.data[JS_MIME_TYPE];\n",
       "      // store reference to embed id on output_area\n",
       "      output_area._bokeh_element_id = output.metadata[EXEC_MIME_TYPE][\"id\"];\n",
       "    }\n",
       "    if (output.metadata[EXEC_MIME_TYPE][\"server_id\"] !== undefined) {\n",
       "      var bk_div = document.createElement(\"div\");\n",
       "      bk_div.innerHTML = output.data[HTML_MIME_TYPE];\n",
       "      var script_attrs = bk_div.children[0].attributes;\n",
       "      for (var i = 0; i < script_attrs.length; i++) {\n",
       "        toinsert[0].firstChild.setAttribute(script_attrs[i].name, script_attrs[i].value);\n",
       "      }\n",
       "      // store reference to server id on output_area\n",
       "      output_area._bokeh_server_id = output.metadata[EXEC_MIME_TYPE][\"server_id\"];\n",
       "    }\n",
       "  }\n",
       "\n",
       "  function register_renderer(events, OutputArea) {\n",
       "\n",
       "    function append_mime(data, metadata, element) {\n",
       "      // create a DOM node to render to\n",
       "      var toinsert = this.create_output_subarea(\n",
       "        metadata,\n",
       "        CLASS_NAME,\n",
       "        EXEC_MIME_TYPE\n",
       "      );\n",
       "      this.keyboard_manager.register_events(toinsert);\n",
       "      // Render to node\n",
       "      var props = {data: data, metadata: metadata[EXEC_MIME_TYPE]};\n",
       "      render(props, toinsert[0]);\n",
       "      element.append(toinsert);\n",
       "      return toinsert\n",
       "    }\n",
       "\n",
       "    /* Handle when an output is cleared or removed */\n",
       "    events.on('clear_output.CodeCell', handleClearOutput);\n",
       "    events.on('delete.Cell', handleClearOutput);\n",
       "\n",
       "    /* Handle when a new output is added */\n",
       "    events.on('output_added.OutputArea', handleAddOutput);\n",
       "\n",
       "    /**\n",
       "     * Register the mime type and append_mime function with output_area\n",
       "     */\n",
       "    OutputArea.prototype.register_mime_type(EXEC_MIME_TYPE, append_mime, {\n",
       "      /* Is output safe? */\n",
       "      safe: true,\n",
       "      /* Index of renderer in `output_area.display_order` */\n",
       "      index: 0\n",
       "    });\n",
       "  }\n",
       "\n",
       "  // register the mime type if in Jupyter Notebook environment and previously unregistered\n",
       "  if (root.Jupyter !== undefined) {\n",
       "    var events = require('base/js/events');\n",
       "    var OutputArea = require('notebook/js/outputarea').OutputArea;\n",
       "\n",
       "    if (OutputArea.prototype.mime_types().indexOf(EXEC_MIME_TYPE) == -1) {\n",
       "      register_renderer(events, OutputArea);\n",
       "    }\n",
       "  }\n",
       "\n",
       "  \n",
       "  if (typeof (root._bokeh_timeout) === \"undefined\" || force === true) {\n",
       "    root._bokeh_timeout = Date.now() + 5000;\n",
       "    root._bokeh_failed_load = false;\n",
       "  }\n",
       "\n",
       "  var NB_LOAD_WARNING = {'data': {'text/html':\n",
       "     \"<div style='background-color: #fdd'>\\n\"+\n",
       "     \"<p>\\n\"+\n",
       "     \"BokehJS does not appear to have successfully loaded. If loading BokehJS from CDN, this \\n\"+\n",
       "     \"may be due to a slow or bad network connection. Possible fixes:\\n\"+\n",
       "     \"</p>\\n\"+\n",
       "     \"<ul>\\n\"+\n",
       "     \"<li>re-rerun `output_notebook()` to attempt to load from CDN again, or</li>\\n\"+\n",
       "     \"<li>use INLINE resources instead, as so:</li>\\n\"+\n",
       "     \"</ul>\\n\"+\n",
       "     \"<code>\\n\"+\n",
       "     \"from bokeh.resources import INLINE\\n\"+\n",
       "     \"output_notebook(resources=INLINE)\\n\"+\n",
       "     \"</code>\\n\"+\n",
       "     \"</div>\"}};\n",
       "\n",
       "  function display_loaded() {\n",
       "    var el = document.getElementById(\"5c6240de-e2fb-4f36-9243-4c6de35733a6\");\n",
       "    if (el != null) {\n",
       "      el.textContent = \"BokehJS is loading...\";\n",
       "    }\n",
       "    if (root.Bokeh !== undefined) {\n",
       "      if (el != null) {\n",
       "        el.textContent = \"BokehJS \" + root.Bokeh.version + \" successfully loaded.\";\n",
       "      }\n",
       "    } else if (Date.now() < root._bokeh_timeout) {\n",
       "      setTimeout(display_loaded, 100)\n",
       "    }\n",
       "  }\n",
       "\n",
       "\n",
       "  function run_callbacks() {\n",
       "    try {\n",
       "      root._bokeh_onload_callbacks.forEach(function(callback) { callback() });\n",
       "    }\n",
       "    finally {\n",
       "      delete root._bokeh_onload_callbacks\n",
       "    }\n",
       "    console.info(\"Bokeh: all callbacks have finished\");\n",
       "  }\n",
       "\n",
       "  function load_libs(js_urls, callback) {\n",
       "    root._bokeh_onload_callbacks.push(callback);\n",
       "    if (root._bokeh_is_loading > 0) {\n",
       "      console.log(\"Bokeh: BokehJS is being loaded, scheduling callback at\", now());\n",
       "      return null;\n",
       "    }\n",
       "    if (js_urls == null || js_urls.length === 0) {\n",
       "      run_callbacks();\n",
       "      return null;\n",
       "    }\n",
       "    console.log(\"Bokeh: BokehJS not loaded, scheduling load and callback at\", now());\n",
       "    root._bokeh_is_loading = js_urls.length;\n",
       "    for (var i = 0; i < js_urls.length; i++) {\n",
       "      var url = js_urls[i];\n",
       "      var s = document.createElement('script');\n",
       "      s.src = url;\n",
       "      s.async = false;\n",
       "      s.onreadystatechange = s.onload = function() {\n",
       "        root._bokeh_is_loading--;\n",
       "        if (root._bokeh_is_loading === 0) {\n",
       "          console.log(\"Bokeh: all BokehJS libraries loaded\");\n",
       "          run_callbacks()\n",
       "        }\n",
       "      };\n",
       "      s.onerror = function() {\n",
       "        console.warn(\"failed to load library \" + url);\n",
       "      };\n",
       "      console.log(\"Bokeh: injecting script tag for BokehJS library: \", url);\n",
       "      document.getElementsByTagName(\"head\")[0].appendChild(s);\n",
       "    }\n",
       "  };var element = document.getElementById(\"5c6240de-e2fb-4f36-9243-4c6de35733a6\");\n",
       "  if (element == null) {\n",
       "    console.log(\"Bokeh: ERROR: autoload.js configured with elementid '5c6240de-e2fb-4f36-9243-4c6de35733a6' but no matching script tag was found. \")\n",
       "    return false;\n",
       "  }\n",
       "\n",
       "  var js_urls = [\"https://cdn.pydata.org/bokeh/release/bokeh-0.12.10.min.js\", \"https://cdn.pydata.org/bokeh/release/bokeh-widgets-0.12.10.min.js\", \"https://cdn.pydata.org/bokeh/release/bokeh-tables-0.12.10.min.js\", \"https://cdn.pydata.org/bokeh/release/bokeh-gl-0.12.10.min.js\"];\n",
       "\n",
       "  var inline_js = [\n",
       "    function(Bokeh) {\n",
       "      Bokeh.set_log_level(\"info\");\n",
       "    },\n",
       "    \n",
       "    function(Bokeh) {\n",
       "      \n",
       "    },\n",
       "    function(Bokeh) {\n",
       "      console.log(\"Bokeh: injecting CSS: https://cdn.pydata.org/bokeh/release/bokeh-0.12.10.min.css\");\n",
       "      Bokeh.embed.inject_css(\"https://cdn.pydata.org/bokeh/release/bokeh-0.12.10.min.css\");\n",
       "      console.log(\"Bokeh: injecting CSS: https://cdn.pydata.org/bokeh/release/bokeh-widgets-0.12.10.min.css\");\n",
       "      Bokeh.embed.inject_css(\"https://cdn.pydata.org/bokeh/release/bokeh-widgets-0.12.10.min.css\");\n",
       "      console.log(\"Bokeh: injecting CSS: https://cdn.pydata.org/bokeh/release/bokeh-tables-0.12.10.min.css\");\n",
       "      Bokeh.embed.inject_css(\"https://cdn.pydata.org/bokeh/release/bokeh-tables-0.12.10.min.css\");\n",
       "    }\n",
       "  ];\n",
       "\n",
       "  function run_inline_js() {\n",
       "    \n",
       "    if ((root.Bokeh !== undefined) || (force === true)) {\n",
       "      for (var i = 0; i < inline_js.length; i++) {\n",
       "        inline_js[i].call(root, root.Bokeh);\n",
       "      }if (force === true) {\n",
       "        display_loaded();\n",
       "      }} else if (Date.now() < root._bokeh_timeout) {\n",
       "      setTimeout(run_inline_js, 100);\n",
       "    } else if (!root._bokeh_failed_load) {\n",
       "      console.log(\"Bokeh: BokehJS failed to load within specified timeout.\");\n",
       "      root._bokeh_failed_load = true;\n",
       "    } else if (force !== true) {\n",
       "      var cell = $(document.getElementById(\"5c6240de-e2fb-4f36-9243-4c6de35733a6\")).parents('.cell').data().cell;\n",
       "      cell.output_area.append_execute_result(NB_LOAD_WARNING)\n",
       "    }\n",
       "\n",
       "  }\n",
       "\n",
       "  if (root._bokeh_is_loading === 0) {\n",
       "    console.log(\"Bokeh: BokehJS loaded, going straight to plotting\");\n",
       "    run_inline_js();\n",
       "  } else {\n",
       "    load_libs(js_urls, function() {\n",
       "      console.log(\"Bokeh: BokehJS plotting callback run at\", now());\n",
       "      run_inline_js();\n",
       "    });\n",
       "  }\n",
       "}(window));"
      ],
      "application/vnd.bokehjs_load.v0+json": "\n(function(root) {\n  function now() {\n    return new Date();\n  }\n\n  var force = true;\n\n  if (typeof (root._bokeh_onload_callbacks) === \"undefined\" || force === true) {\n    root._bokeh_onload_callbacks = [];\n    root._bokeh_is_loading = undefined;\n  }\n\n  \n\n  \n  if (typeof (root._bokeh_timeout) === \"undefined\" || force === true) {\n    root._bokeh_timeout = Date.now() + 5000;\n    root._bokeh_failed_load = false;\n  }\n\n  var NB_LOAD_WARNING = {'data': {'text/html':\n     \"<div style='background-color: #fdd'>\\n\"+\n     \"<p>\\n\"+\n     \"BokehJS does not appear to have successfully loaded. If loading BokehJS from CDN, this \\n\"+\n     \"may be due to a slow or bad network connection. Possible fixes:\\n\"+\n     \"</p>\\n\"+\n     \"<ul>\\n\"+\n     \"<li>re-rerun `output_notebook()` to attempt to load from CDN again, or</li>\\n\"+\n     \"<li>use INLINE resources instead, as so:</li>\\n\"+\n     \"</ul>\\n\"+\n     \"<code>\\n\"+\n     \"from bokeh.resources import INLINE\\n\"+\n     \"output_notebook(resources=INLINE)\\n\"+\n     \"</code>\\n\"+\n     \"</div>\"}};\n\n  function display_loaded() {\n    var el = document.getElementById(\"5c6240de-e2fb-4f36-9243-4c6de35733a6\");\n    if (el != null) {\n      el.textContent = \"BokehJS is loading...\";\n    }\n    if (root.Bokeh !== undefined) {\n      if (el != null) {\n        el.textContent = \"BokehJS \" + root.Bokeh.version + \" successfully loaded.\";\n      }\n    } else if (Date.now() < root._bokeh_timeout) {\n      setTimeout(display_loaded, 100)\n    }\n  }\n\n\n  function run_callbacks() {\n    try {\n      root._bokeh_onload_callbacks.forEach(function(callback) { callback() });\n    }\n    finally {\n      delete root._bokeh_onload_callbacks\n    }\n    console.info(\"Bokeh: all callbacks have finished\");\n  }\n\n  function load_libs(js_urls, callback) {\n    root._bokeh_onload_callbacks.push(callback);\n    if (root._bokeh_is_loading > 0) {\n      console.log(\"Bokeh: BokehJS is being loaded, scheduling callback at\", now());\n      return null;\n    }\n    if (js_urls == null || js_urls.length === 0) {\n      run_callbacks();\n      return null;\n    }\n    console.log(\"Bokeh: BokehJS not loaded, scheduling load and callback at\", now());\n    root._bokeh_is_loading = js_urls.length;\n    for (var i = 0; i < js_urls.length; i++) {\n      var url = js_urls[i];\n      var s = document.createElement('script');\n      s.src = url;\n      s.async = false;\n      s.onreadystatechange = s.onload = function() {\n        root._bokeh_is_loading--;\n        if (root._bokeh_is_loading === 0) {\n          console.log(\"Bokeh: all BokehJS libraries loaded\");\n          run_callbacks()\n        }\n      };\n      s.onerror = function() {\n        console.warn(\"failed to load library \" + url);\n      };\n      console.log(\"Bokeh: injecting script tag for BokehJS library: \", url);\n      document.getElementsByTagName(\"head\")[0].appendChild(s);\n    }\n  };var element = document.getElementById(\"5c6240de-e2fb-4f36-9243-4c6de35733a6\");\n  if (element == null) {\n    console.log(\"Bokeh: ERROR: autoload.js configured with elementid '5c6240de-e2fb-4f36-9243-4c6de35733a6' but no matching script tag was found. \")\n    return false;\n  }\n\n  var js_urls = [\"https://cdn.pydata.org/bokeh/release/bokeh-0.12.10.min.js\", \"https://cdn.pydata.org/bokeh/release/bokeh-widgets-0.12.10.min.js\", \"https://cdn.pydata.org/bokeh/release/bokeh-tables-0.12.10.min.js\", \"https://cdn.pydata.org/bokeh/release/bokeh-gl-0.12.10.min.js\"];\n\n  var inline_js = [\n    function(Bokeh) {\n      Bokeh.set_log_level(\"info\");\n    },\n    \n    function(Bokeh) {\n      \n    },\n    function(Bokeh) {\n      console.log(\"Bokeh: injecting CSS: https://cdn.pydata.org/bokeh/release/bokeh-0.12.10.min.css\");\n      Bokeh.embed.inject_css(\"https://cdn.pydata.org/bokeh/release/bokeh-0.12.10.min.css\");\n      console.log(\"Bokeh: injecting CSS: https://cdn.pydata.org/bokeh/release/bokeh-widgets-0.12.10.min.css\");\n      Bokeh.embed.inject_css(\"https://cdn.pydata.org/bokeh/release/bokeh-widgets-0.12.10.min.css\");\n      console.log(\"Bokeh: injecting CSS: https://cdn.pydata.org/bokeh/release/bokeh-tables-0.12.10.min.css\");\n      Bokeh.embed.inject_css(\"https://cdn.pydata.org/bokeh/release/bokeh-tables-0.12.10.min.css\");\n    }\n  ];\n\n  function run_inline_js() {\n    \n    if ((root.Bokeh !== undefined) || (force === true)) {\n      for (var i = 0; i < inline_js.length; i++) {\n        inline_js[i].call(root, root.Bokeh);\n      }if (force === true) {\n        display_loaded();\n      }} else if (Date.now() < root._bokeh_timeout) {\n      setTimeout(run_inline_js, 100);\n    } else if (!root._bokeh_failed_load) {\n      console.log(\"Bokeh: BokehJS failed to load within specified timeout.\");\n      root._bokeh_failed_load = true;\n    } else if (force !== true) {\n      var cell = $(document.getElementById(\"5c6240de-e2fb-4f36-9243-4c6de35733a6\")).parents('.cell').data().cell;\n      cell.output_area.append_execute_result(NB_LOAD_WARNING)\n    }\n\n  }\n\n  if (root._bokeh_is_loading === 0) {\n    console.log(\"Bokeh: BokehJS loaded, going straight to plotting\");\n    run_inline_js();\n  } else {\n    load_libs(js_urls, function() {\n      console.log(\"Bokeh: BokehJS plotting callback run at\", now());\n      run_inline_js();\n    });\n  }\n}(window));"
     },
     "metadata": {},
     "output_type": "display_data"
    }
   ],
   "source": [
    "# Importamos la libreria de bokeh para presentar los datos leidos por pandas\n",
    "from bokeh.io import output_notebook, show\n",
    "from bokeh.plotting import figure\n",
    "from bokeh.models import ColumnDataSource\n",
    "\n",
    "# Llamamos a output_notebook para mostrar mostrar los resultanos en el cuaderno de jupyter\n",
    "output_notebook()"
   ]
  },
  {
   "cell_type": "code",
   "execution_count": 33,
   "metadata": {},
   "outputs": [
    {
     "data": {
      "text/plain": [
       "{'A_RURAL_H_25%': array([ 0.028,  0.053,  0.134,  0.343,  0.103]),\n",
       " 'A_RURAL_H_50%': array([ 0.028,  0.053,  0.134,  0.343,  0.103]),\n",
       " 'A_RURAL_H_75%': array([ 0.028,  0.053,  0.134,  0.343,  0.103]),\n",
       " 'A_RURAL_H_count': array([ 1.,  1.,  1.,  1.,  1.]),\n",
       " 'A_RURAL_H_max': array([ 0.028,  0.053,  0.134,  0.343,  0.103]),\n",
       " 'A_RURAL_H_mean': array([ 0.028,  0.053,  0.134,  0.343,  0.103]),\n",
       " 'A_RURAL_H_min': array([ 0.028,  0.053,  0.134,  0.343,  0.103]),\n",
       " 'A_RURAL_H_std': array([ nan,  nan,  nan,  nan,  nan]),\n",
       " 'A_RURAL_M_25%': array([ 0.025,  0.056,  0.205,  0.497,  0.142]),\n",
       " 'A_RURAL_M_50%': array([ 0.025,  0.056,  0.205,  0.497,  0.142]),\n",
       " 'A_RURAL_M_75%': array([ 0.025,  0.056,  0.205,  0.497,  0.142]),\n",
       " 'A_RURAL_M_count': array([ 1.,  1.,  1.,  1.,  1.]),\n",
       " 'A_RURAL_M_max': array([ 0.025,  0.056,  0.205,  0.497,  0.142]),\n",
       " 'A_RURAL_M_mean': array([ 0.025,  0.056,  0.205,  0.497,  0.142]),\n",
       " 'A_RURAL_M_min': array([ 0.025,  0.056,  0.205,  0.497,  0.142]),\n",
       " 'A_RURAL_M_std': array([ nan,  nan,  nan,  nan,  nan]),\n",
       " 'A_URBANA_H_25%': array([ 0.012,  0.018,  0.038,  0.128,  0.031]),\n",
       " 'A_URBANA_H_50%': array([ 0.012,  0.018,  0.038,  0.128,  0.031]),\n",
       " 'A_URBANA_H_75%': array([ 0.012,  0.018,  0.038,  0.128,  0.031]),\n",
       " 'A_URBANA_H_count': array([ 1.,  1.,  1.,  1.,  1.]),\n",
       " 'A_URBANA_H_max': array([ 0.012,  0.018,  0.038,  0.128,  0.031]),\n",
       " 'A_URBANA_H_mean': array([ 0.012,  0.018,  0.038,  0.128,  0.031]),\n",
       " 'A_URBANA_H_min': array([ 0.012,  0.018,  0.038,  0.128,  0.031]),\n",
       " 'A_URBANA_H_std': array([ nan,  nan,  nan,  nan,  nan]),\n",
       " 'A_URBANA_M_25%': array([ 0.009,  0.017,  0.054,  0.195,  0.043]),\n",
       " 'A_URBANA_M_50%': array([ 0.009,  0.017,  0.054,  0.195,  0.043]),\n",
       " 'A_URBANA_M_75%': array([ 0.009,  0.017,  0.054,  0.195,  0.043]),\n",
       " 'A_URBANA_M_count': array([ 1.,  1.,  1.,  1.,  1.]),\n",
       " 'A_URBANA_M_max': array([ 0.009,  0.017,  0.054,  0.195,  0.043]),\n",
       " 'A_URBANA_M_mean': array([ 0.009,  0.017,  0.054,  0.195,  0.043]),\n",
       " 'A_URBANA_M_min': array([ 0.009,  0.017,  0.054,  0.195,  0.043]),\n",
       " 'A_URBANA_M_std': array([ nan,  nan,  nan,  nan,  nan]),\n",
       " 'GRANDES_GRUPOS_DE_EDAD': array(['15-24 años', '25-39 años', '40-64 años', '65 años y mas',\n",
       "        'Total nacional'], dtype=object),\n",
       " 'TOTAL_H_25%': array([ 0.018,  0.03 ,  0.072,  0.224,  0.058]),\n",
       " 'TOTAL_H_50%': array([ 0.018,  0.03 ,  0.072,  0.224,  0.058]),\n",
       " 'TOTAL_H_75%': array([ 0.018,  0.03 ,  0.072,  0.224,  0.058]),\n",
       " 'TOTAL_H_count': array([ 1.,  1.,  1.,  1.,  1.]),\n",
       " 'TOTAL_H_max': array([ 0.018,  0.03 ,  0.072,  0.224,  0.058]),\n",
       " 'TOTAL_H_mean': array([ 0.018,  0.03 ,  0.072,  0.224,  0.058]),\n",
       " 'TOTAL_H_min': array([ 0.018,  0.03 ,  0.072,  0.224,  0.058]),\n",
       " 'TOTAL_H_std': array([ nan,  nan,  nan,  nan,  nan]),\n",
       " 'TOTAL_M_25%': array([ 0.015,  0.03 ,  0.104,  0.316,  0.077]),\n",
       " 'TOTAL_M_50%': array([ 0.015,  0.03 ,  0.104,  0.316,  0.077]),\n",
       " 'TOTAL_M_75%': array([ 0.015,  0.03 ,  0.104,  0.316,  0.077]),\n",
       " 'TOTAL_M_count': array([ 1.,  1.,  1.,  1.,  1.]),\n",
       " 'TOTAL_M_max': array([ 0.015,  0.03 ,  0.104,  0.316,  0.077]),\n",
       " 'TOTAL_M_mean': array([ 0.015,  0.03 ,  0.104,  0.316,  0.077]),\n",
       " 'TOTAL_M_min': array([ 0.015,  0.03 ,  0.104,  0.316,  0.077]),\n",
       " 'TOTAL_M_std': array([ nan,  nan,  nan,  nan,  nan])}"
      ]
     },
     "execution_count": 33,
     "metadata": {},
     "output_type": "execute_result"
    }
   ],
   "source": [
    "# Agrupamos los valores en base a la columna \"GRANDES_GRUPOS_DE_EDAD\" \n",
    "group1 = tabla1.groupby('GRANDES_GRUPOS_DE_EDAD')\n",
    "\n",
    "# Nos permite obtener Mapas nombres de columnas a secuencias o matrices.\n",
    "source = ColumnDataSource(group1)\n",
    "\n",
    "# Mostramos los nombres de los datos albergados en source - donde buscamos los nombre de los datos que buscamos en concreto\n",
    "source.data"
   ]
  },
  {
   "cell_type": "code",
   "execution_count": 34,
   "metadata": {},
   "outputs": [
    {
     "data": {
      "text/html": [
       "\n",
       "<div class=\"bk-root\">\n",
       "    <div class=\"bk-plotdiv\" id=\"44d4ca94-4127-4841-93b8-b571ef9595b4\"></div>\n",
       "</div>"
      ]
     },
     "metadata": {},
     "output_type": "display_data"
    },
    {
     "data": {
      "application/javascript": [
       "(function(root) {\n",
       "  function embed_document(root) {\n",
       "    var docs_json = {\"65e7fc5b-9a9c-4475-bdcd-e68063478e7c\":{\"roots\":{\"references\":[{\"attributes\":{\"callback\":null,\"column_names\":[\"A_RURAL_H_count\",\"A_RURAL_H_mean\",\"A_RURAL_H_std\",\"A_RURAL_H_min\",\"A_RURAL_H_25%\",\"A_RURAL_H_50%\",\"A_RURAL_H_75%\",\"A_RURAL_H_max\",\"A_RURAL_M_count\",\"A_RURAL_M_mean\",\"A_RURAL_M_std\",\"A_RURAL_M_min\",\"A_RURAL_M_25%\",\"A_RURAL_M_50%\",\"A_RURAL_M_75%\",\"A_RURAL_M_max\",\"A_URBANA_H_count\",\"A_URBANA_H_mean\",\"A_URBANA_H_std\",\"A_URBANA_H_min\",\"A_URBANA_H_25%\",\"A_URBANA_H_50%\",\"A_URBANA_H_75%\",\"A_URBANA_H_max\",\"A_URBANA_M_count\",\"A_URBANA_M_mean\",\"A_URBANA_M_std\",\"A_URBANA_M_min\",\"A_URBANA_M_25%\",\"A_URBANA_M_50%\",\"A_URBANA_M_75%\",\"A_URBANA_M_max\",\"TOTAL_H_count\",\"TOTAL_H_mean\",\"TOTAL_H_std\",\"TOTAL_H_min\",\"TOTAL_H_25%\",\"TOTAL_H_50%\",\"TOTAL_H_75%\",\"TOTAL_H_max\",\"TOTAL_M_count\",\"TOTAL_M_mean\",\"TOTAL_M_std\",\"TOTAL_M_min\",\"TOTAL_M_25%\",\"TOTAL_M_50%\",\"TOTAL_M_75%\",\"TOTAL_M_max\",\"GRANDES_GRUPOS_DE_EDAD\"],\"data\":{\"A_RURAL_H_25%\":{\"__ndarray__\":\"eOkmMQisnD+JQWDl0CKrP/T91HjpJsE/wMqhRbbz1T+S7Xw/NV66Pw==\",\"dtype\":\"float64\",\"shape\":[5]},\"A_RURAL_H_50%\":{\"__ndarray__\":\"eOkmMQisnD+JQWDl0CKrP/T91HjpJsE/wMqhRbbz1T+S7Xw/NV66Pw==\",\"dtype\":\"float64\",\"shape\":[5]},\"A_RURAL_H_75%\":{\"__ndarray__\":\"eOkmMQisnD+JQWDl0CKrP/T91HjpJsE/wMqhRbbz1T+S7Xw/NV66Pw==\",\"dtype\":\"float64\",\"shape\":[5]},\"A_RURAL_H_count\":{\"__ndarray__\":\"AAAAAAAA8D8AAAAAAADwPwAAAAAAAPA/AAAAAAAA8D8AAAAAAADwPw==\",\"dtype\":\"float64\",\"shape\":[5]},\"A_RURAL_H_max\":{\"__ndarray__\":\"eOkmMQisnD+JQWDl0CKrP/T91HjpJsE/wMqhRbbz1T+S7Xw/NV66Pw==\",\"dtype\":\"float64\",\"shape\":[5]},\"A_RURAL_H_mean\":{\"__ndarray__\":\"eOkmMQisnD+JQWDl0CKrP/T91HjpJsE/wMqhRbbz1T+S7Xw/NV66Pw==\",\"dtype\":\"float64\",\"shape\":[5]},\"A_RURAL_H_min\":{\"__ndarray__\":\"eOkmMQisnD+JQWDl0CKrP/T91HjpJsE/wMqhRbbz1T+S7Xw/NV66Pw==\",\"dtype\":\"float64\",\"shape\":[5]},\"A_RURAL_H_std\":{\"__ndarray__\":\"AAAAAAAA+H8AAAAAAAD4fwAAAAAAAPh/AAAAAAAA+H8AAAAAAAD4fw==\",\"dtype\":\"float64\",\"shape\":[5]},\"A_RURAL_M_25%\":{\"__ndarray__\":\"mpmZmZmZmT946SYxCKysPz0K16NwPco/AyuHFtnO3z+TGARWDi3CPw==\",\"dtype\":\"float64\",\"shape\":[5]},\"A_RURAL_M_50%\":{\"__ndarray__\":\"mpmZmZmZmT946SYxCKysPz0K16NwPco/AyuHFtnO3z+TGARWDi3CPw==\",\"dtype\":\"float64\",\"shape\":[5]},\"A_RURAL_M_75%\":{\"__ndarray__\":\"mpmZmZmZmT946SYxCKysPz0K16NwPco/AyuHFtnO3z+TGARWDi3CPw==\",\"dtype\":\"float64\",\"shape\":[5]},\"A_RURAL_M_count\":{\"__ndarray__\":\"AAAAAAAA8D8AAAAAAADwPwAAAAAAAPA/AAAAAAAA8D8AAAAAAADwPw==\",\"dtype\":\"float64\",\"shape\":[5]},\"A_RURAL_M_max\":{\"__ndarray__\":\"mpmZmZmZmT946SYxCKysPz0K16NwPco/AyuHFtnO3z+TGARWDi3CPw==\",\"dtype\":\"float64\",\"shape\":[5]},\"A_RURAL_M_mean\":{\"__ndarray__\":\"mpmZmZmZmT946SYxCKysPz0K16NwPco/AyuHFtnO3z+TGARWDi3CPw==\",\"dtype\":\"float64\",\"shape\":[5]},\"A_RURAL_M_min\":{\"__ndarray__\":\"mpmZmZmZmT946SYxCKysPz0K16NwPco/AyuHFtnO3z+TGARWDi3CPw==\",\"dtype\":\"float64\",\"shape\":[5]},\"A_RURAL_M_std\":{\"__ndarray__\":\"AAAAAAAA+H8AAAAAAAD4fwAAAAAAAPh/AAAAAAAA+H8AAAAAAAD4fw==\",\"dtype\":\"float64\",\"shape\":[5]},\"A_URBANA_H_25%\":{\"__ndarray__\":\"+n5qvHSTiD8830+Nl26SP9v5fmq8dKM//Knx0k1iwD9YObTIdr6fPw==\",\"dtype\":\"float64\",\"shape\":[5]},\"A_URBANA_H_50%\":{\"__ndarray__\":\"+n5qvHSTiD8830+Nl26SP9v5fmq8dKM//Knx0k1iwD9YObTIdr6fPw==\",\"dtype\":\"float64\",\"shape\":[5]},\"A_URBANA_H_75%\":{\"__ndarray__\":\"+n5qvHSTiD8830+Nl26SP9v5fmq8dKM//Knx0k1iwD9YObTIdr6fPw==\",\"dtype\":\"float64\",\"shape\":[5]},\"A_URBANA_H_count\":{\"__ndarray__\":\"AAAAAAAA8D8AAAAAAADwPwAAAAAAAPA/AAAAAAAA8D8AAAAAAADwPw==\",\"dtype\":\"float64\",\"shape\":[5]},\"A_URBANA_H_max\":{\"__ndarray__\":\"+n5qvHSTiD8830+Nl26SP9v5fmq8dKM//Knx0k1iwD9YObTIdr6fPw==\",\"dtype\":\"float64\",\"shape\":[5]},\"A_URBANA_H_mean\":{\"__ndarray__\":\"+n5qvHSTiD8830+Nl26SP9v5fmq8dKM//Knx0k1iwD9YObTIdr6fPw==\",\"dtype\":\"float64\",\"shape\":[5]},\"A_URBANA_H_min\":{\"__ndarray__\":\"+n5qvHSTiD8830+Nl26SP9v5fmq8dKM//Knx0k1iwD9YObTIdr6fPw==\",\"dtype\":\"float64\",\"shape\":[5]},\"A_URBANA_H_std\":{\"__ndarray__\":\"AAAAAAAA+H8AAAAAAAD4fwAAAAAAAPh/AAAAAAAA+H8AAAAAAAD4fw==\",\"dtype\":\"float64\",\"shape\":[5]},\"A_URBANA_M_25%\":{\"__ndarray__\":\"PN9PjZdugj+cxCCwcmiRP9rO91Pjpas/9ihcj8L1yD9qvHSTGASmPw==\",\"dtype\":\"float64\",\"shape\":[5]},\"A_URBANA_M_50%\":{\"__ndarray__\":\"PN9PjZdugj+cxCCwcmiRP9rO91Pjpas/9ihcj8L1yD9qvHSTGASmPw==\",\"dtype\":\"float64\",\"shape\":[5]},\"A_URBANA_M_75%\":{\"__ndarray__\":\"PN9PjZdugj+cxCCwcmiRP9rO91Pjpas/9ihcj8L1yD9qvHSTGASmPw==\",\"dtype\":\"float64\",\"shape\":[5]},\"A_URBANA_M_count\":{\"__ndarray__\":\"AAAAAAAA8D8AAAAAAADwPwAAAAAAAPA/AAAAAAAA8D8AAAAAAADwPw==\",\"dtype\":\"float64\",\"shape\":[5]},\"A_URBANA_M_max\":{\"__ndarray__\":\"PN9PjZdugj+cxCCwcmiRP9rO91Pjpas/9ihcj8L1yD9qvHSTGASmPw==\",\"dtype\":\"float64\",\"shape\":[5]},\"A_URBANA_M_mean\":{\"__ndarray__\":\"PN9PjZdugj+cxCCwcmiRP9rO91Pjpas/9ihcj8L1yD9qvHSTGASmPw==\",\"dtype\":\"float64\",\"shape\":[5]},\"A_URBANA_M_min\":{\"__ndarray__\":\"PN9PjZdugj+cxCCwcmiRP9rO91Pjpas/9ihcj8L1yD9qvHSTGASmPw==\",\"dtype\":\"float64\",\"shape\":[5]},\"A_URBANA_M_std\":{\"__ndarray__\":\"AAAAAAAA+H8AAAAAAAD4fwAAAAAAAPh/AAAAAAAA+H8AAAAAAAD4fw==\",\"dtype\":\"float64\",\"shape\":[5]},\"GRANDES_GRUPOS_DE_EDAD\":[\"15-24 a\\u00f1os\",\"25-39 a\\u00f1os\",\"40-64 a\\u00f1os\",\"65 a\\u00f1os y mas\",\"Total nacional\"],\"TOTAL_H_25%\":{\"__ndarray__\":\"PN9PjZdukj+4HoXrUbiePzzfT42XbrI/eOkmMQiszD8YBFYOLbKtPw==\",\"dtype\":\"float64\",\"shape\":[5]},\"TOTAL_H_50%\":{\"__ndarray__\":\"PN9PjZdukj+4HoXrUbiePzzfT42XbrI/eOkmMQiszD8YBFYOLbKtPw==\",\"dtype\":\"float64\",\"shape\":[5]},\"TOTAL_H_75%\":{\"__ndarray__\":\"PN9PjZdukj+4HoXrUbiePzzfT42XbrI/eOkmMQiszD8YBFYOLbKtPw==\",\"dtype\":\"float64\",\"shape\":[5]},\"TOTAL_H_count\":{\"__ndarray__\":\"AAAAAAAA8D8AAAAAAADwPwAAAAAAAPA/AAAAAAAA8D8AAAAAAADwPw==\",\"dtype\":\"float64\",\"shape\":[5]},\"TOTAL_H_max\":{\"__ndarray__\":\"PN9PjZdukj+4HoXrUbiePzzfT42XbrI/eOkmMQiszD8YBFYOLbKtPw==\",\"dtype\":\"float64\",\"shape\":[5]},\"TOTAL_H_mean\":{\"__ndarray__\":\"PN9PjZdukj+4HoXrUbiePzzfT42XbrI/eOkmMQiszD8YBFYOLbKtPw==\",\"dtype\":\"float64\",\"shape\":[5]},\"TOTAL_H_min\":{\"__ndarray__\":\"PN9PjZdukj+4HoXrUbiePzzfT42XbrI/eOkmMQiszD8YBFYOLbKtPw==\",\"dtype\":\"float64\",\"shape\":[5]},\"TOTAL_H_std\":{\"__ndarray__\":\"AAAAAAAA+H8AAAAAAAD4fwAAAAAAAPh/AAAAAAAA+H8AAAAAAAD4fw==\",\"dtype\":\"float64\",\"shape\":[5]},\"TOTAL_M_25%\":{\"__ndarray__\":\"uB6F61G4jj+4HoXrUbiePzq0yHa+n7o/001iEFg51D+DwMqhRbazPw==\",\"dtype\":\"float64\",\"shape\":[5]},\"TOTAL_M_50%\":{\"__ndarray__\":\"uB6F61G4jj+4HoXrUbiePzq0yHa+n7o/001iEFg51D+DwMqhRbazPw==\",\"dtype\":\"float64\",\"shape\":[5]},\"TOTAL_M_75%\":{\"__ndarray__\":\"uB6F61G4jj+4HoXrUbiePzq0yHa+n7o/001iEFg51D+DwMqhRbazPw==\",\"dtype\":\"float64\",\"shape\":[5]},\"TOTAL_M_count\":{\"__ndarray__\":\"AAAAAAAA8D8AAAAAAADwPwAAAAAAAPA/AAAAAAAA8D8AAAAAAADwPw==\",\"dtype\":\"float64\",\"shape\":[5]},\"TOTAL_M_max\":{\"__ndarray__\":\"uB6F61G4jj+4HoXrUbiePzq0yHa+n7o/001iEFg51D+DwMqhRbazPw==\",\"dtype\":\"float64\",\"shape\":[5]},\"TOTAL_M_mean\":{\"__ndarray__\":\"uB6F61G4jj+4HoXrUbiePzq0yHa+n7o/001iEFg51D+DwMqhRbazPw==\",\"dtype\":\"float64\",\"shape\":[5]},\"TOTAL_M_min\":{\"__ndarray__\":\"uB6F61G4jj+4HoXrUbiePzq0yHa+n7o/001iEFg51D+DwMqhRbazPw==\",\"dtype\":\"float64\",\"shape\":[5]},\"TOTAL_M_std\":{\"__ndarray__\":\"AAAAAAAA+H8AAAAAAAD4fwAAAAAAAPh/AAAAAAAA+H8AAAAAAAD4fw==\",\"dtype\":\"float64\",\"shape\":[5]}}},\"id\":\"00362f29-adde-42af-a693-219f0474d93f\",\"type\":\"ColumnDataSource\"},{\"attributes\":{},\"id\":\"b15baa55-f9d0-4662-b44e-eea41a2d814f\",\"type\":\"ResetTool\"},{\"attributes\":{},\"id\":\"ee9c898e-8b0b-4bec-9cd5-8226a55204fb\",\"type\":\"LinearScale\"},{\"attributes\":{},\"id\":\"f3dca82c-6df8-448d-8887-1fe9b0cf7b06\",\"type\":\"CategoricalScale\"},{\"attributes\":{\"data_source\":{\"id\":\"00362f29-adde-42af-a693-219f0474d93f\",\"type\":\"ColumnDataSource\"},\"glyph\":{\"id\":\"2c81a734-b960-4963-8e5c-89132c2fa194\",\"type\":\"VBar\"},\"hover_glyph\":null,\"muted_glyph\":null,\"nonselection_glyph\":{\"id\":\"da955d74-3b3a-467f-8f3f-12734d288f79\",\"type\":\"VBar\"},\"selection_glyph\":null,\"view\":{\"id\":\"ff93f47d-dd2b-4fb3-a3f9-25e7d1a0bf1f\",\"type\":\"CDSView\"}},\"id\":\"0d34bad6-bae9-4f85-9bbe-23a60059026d\",\"type\":\"GlyphRenderer\"},{\"attributes\":{\"fill_alpha\":{\"value\":0.1},\"fill_color\":{\"value\":\"#1f77b4\"},\"line_alpha\":{\"value\":0.1},\"line_color\":{\"value\":\"#1f77b4\"},\"top\":{\"field\":\"A_URBANA_H_mean\"},\"width\":{\"value\":0.9},\"x\":{\"field\":\"GRANDES_GRUPOS_DE_EDAD\"}},\"id\":\"da955d74-3b3a-467f-8f3f-12734d288f79\",\"type\":\"VBar\"},{\"attributes\":{\"source\":{\"id\":\"00362f29-adde-42af-a693-219f0474d93f\",\"type\":\"ColumnDataSource\"}},\"id\":\"ff93f47d-dd2b-4fb3-a3f9-25e7d1a0bf1f\",\"type\":\"CDSView\"},{\"attributes\":{\"dimension\":1,\"plot\":{\"id\":\"03bd1154-ef5d-4743-adc8-5ddda180bdad\",\"subtype\":\"Figure\",\"type\":\"Plot\"},\"ticker\":{\"id\":\"4ca87900-7ed9-4bdf-827f-5f327420c075\",\"type\":\"BasicTicker\"}},\"id\":\"cee6ad7d-94f8-42e9-b1ac-582094273b07\",\"type\":\"Grid\"},{\"attributes\":{\"active_drag\":\"auto\",\"active_inspect\":\"auto\",\"active_scroll\":\"auto\",\"active_tap\":\"auto\",\"tools\":[{\"id\":\"a0dabb02-4eb5-4cc4-a19a-f9a4e9d13b3a\",\"type\":\"PanTool\"},{\"id\":\"dffccc05-6fcb-4227-8414-484709888300\",\"type\":\"WheelZoomTool\"},{\"id\":\"27a47c43-6d45-4ddf-83e0-9ea0a7bcdae7\",\"type\":\"BoxZoomTool\"},{\"id\":\"c34ccb5f-0dee-4796-aa77-5dfb074224b5\",\"type\":\"SaveTool\"},{\"id\":\"b15baa55-f9d0-4662-b44e-eea41a2d814f\",\"type\":\"ResetTool\"},{\"id\":\"769ee939-50e8-4ca1-9764-036d3ca89f0a\",\"type\":\"HelpTool\"}]},\"id\":\"6e12434f-589e-4daf-af5d-07b8eec700f6\",\"type\":\"Toolbar\"},{\"attributes\":{\"plot\":null,\"text\":\"ANALFABETISMO POR AREA Y GRUPOS DE EDAD\"},\"id\":\"053e5798-781a-4a63-9d47-4bfbc68c0da7\",\"type\":\"Title\"},{\"attributes\":{},\"id\":\"dffccc05-6fcb-4227-8414-484709888300\",\"type\":\"WheelZoomTool\"},{\"attributes\":{\"fill_color\":{\"value\":\"#1f77b4\"},\"line_color\":{\"value\":\"white\"},\"top\":{\"field\":\"A_URBANA_H_mean\"},\"width\":{\"value\":0.9},\"x\":{\"field\":\"GRANDES_GRUPOS_DE_EDAD\"}},\"id\":\"2c81a734-b960-4963-8e5c-89132c2fa194\",\"type\":\"VBar\"},{\"attributes\":{\"bottom_units\":\"screen\",\"fill_alpha\":{\"value\":0.5},\"fill_color\":{\"value\":\"lightgrey\"},\"left_units\":\"screen\",\"level\":\"overlay\",\"line_alpha\":{\"value\":1.0},\"line_color\":{\"value\":\"black\"},\"line_dash\":[4,4],\"line_width\":{\"value\":2},\"plot\":null,\"render_mode\":\"css\",\"right_units\":\"screen\",\"top_units\":\"screen\"},\"id\":\"a3de0c55-676d-40b6-a51c-609de81a5d93\",\"type\":\"BoxAnnotation\"},{\"attributes\":{},\"id\":\"4ca87900-7ed9-4bdf-827f-5f327420c075\",\"type\":\"BasicTicker\"},{\"attributes\":{\"grid_line_color\":{\"value\":null},\"plot\":{\"id\":\"03bd1154-ef5d-4743-adc8-5ddda180bdad\",\"subtype\":\"Figure\",\"type\":\"Plot\"},\"ticker\":{\"id\":\"35d87fd6-7747-4802-93b4-ce3bf7d2282c\",\"type\":\"CategoricalTicker\"}},\"id\":\"84239b3a-7fce-4226-b078-c3d7d9df31e4\",\"type\":\"Grid\"},{\"attributes\":{},\"id\":\"787a8c65-5b0f-4435-a10c-3d28c7ab2c1a\",\"type\":\"BasicTickFormatter\"},{\"attributes\":{},\"id\":\"6be3d0b3-5be7-40b9-8a15-4c81e05cc661\",\"type\":\"CategoricalTickFormatter\"},{\"attributes\":{\"callback\":null,\"factors\":[\"15-24 a\\u00f1os\",\"25-39 a\\u00f1os\",\"40-64 a\\u00f1os\",\"65 a\\u00f1os y mas\",\"Total nacional\"]},\"id\":\"02adb234-57bf-4d62-a073-2cdcaa8861ba\",\"type\":\"FactorRange\"},{\"attributes\":{},\"id\":\"769ee939-50e8-4ca1-9764-036d3ca89f0a\",\"type\":\"HelpTool\"},{\"attributes\":{},\"id\":\"35d87fd6-7747-4802-93b4-ce3bf7d2282c\",\"type\":\"CategoricalTicker\"},{\"attributes\":{\"below\":[{\"id\":\"25e346a0-17c7-47fd-8535-ddd27ab5a685\",\"type\":\"CategoricalAxis\"}],\"left\":[{\"id\":\"2f7db969-3251-4b74-995e-dbef3c24156f\",\"type\":\"LinearAxis\"}],\"plot_height\":250,\"plot_width\":750,\"renderers\":[{\"id\":\"25e346a0-17c7-47fd-8535-ddd27ab5a685\",\"type\":\"CategoricalAxis\"},{\"id\":\"84239b3a-7fce-4226-b078-c3d7d9df31e4\",\"type\":\"Grid\"},{\"id\":\"2f7db969-3251-4b74-995e-dbef3c24156f\",\"type\":\"LinearAxis\"},{\"id\":\"cee6ad7d-94f8-42e9-b1ac-582094273b07\",\"type\":\"Grid\"},{\"id\":\"a3de0c55-676d-40b6-a51c-609de81a5d93\",\"type\":\"BoxAnnotation\"},{\"id\":\"0d34bad6-bae9-4f85-9bbe-23a60059026d\",\"type\":\"GlyphRenderer\"}],\"title\":{\"id\":\"053e5798-781a-4a63-9d47-4bfbc68c0da7\",\"type\":\"Title\"},\"toolbar\":{\"id\":\"6e12434f-589e-4daf-af5d-07b8eec700f6\",\"type\":\"Toolbar\"},\"x_range\":{\"id\":\"02adb234-57bf-4d62-a073-2cdcaa8861ba\",\"type\":\"FactorRange\"},\"x_scale\":{\"id\":\"f3dca82c-6df8-448d-8887-1fe9b0cf7b06\",\"type\":\"CategoricalScale\"},\"y_range\":{\"id\":\"6c4ba2c9-7c6c-4df6-9ba5-770bfc56b727\",\"type\":\"DataRange1d\"},\"y_scale\":{\"id\":\"ee9c898e-8b0b-4bec-9cd5-8226a55204fb\",\"type\":\"LinearScale\"}},\"id\":\"03bd1154-ef5d-4743-adc8-5ddda180bdad\",\"subtype\":\"Figure\",\"type\":\"Plot\"},{\"attributes\":{},\"id\":\"c34ccb5f-0dee-4796-aa77-5dfb074224b5\",\"type\":\"SaveTool\"},{\"attributes\":{\"callback\":null,\"start\":0},\"id\":\"6c4ba2c9-7c6c-4df6-9ba5-770bfc56b727\",\"type\":\"DataRange1d\"},{\"attributes\":{\"axis_label\":\"AREA URBANA - HOMBRES\",\"formatter\":{\"id\":\"6be3d0b3-5be7-40b9-8a15-4c81e05cc661\",\"type\":\"CategoricalTickFormatter\"},\"plot\":{\"id\":\"03bd1154-ef5d-4743-adc8-5ddda180bdad\",\"subtype\":\"Figure\",\"type\":\"Plot\"},\"ticker\":{\"id\":\"35d87fd6-7747-4802-93b4-ce3bf7d2282c\",\"type\":\"CategoricalTicker\"}},\"id\":\"25e346a0-17c7-47fd-8535-ddd27ab5a685\",\"type\":\"CategoricalAxis\"},{\"attributes\":{\"formatter\":{\"id\":\"787a8c65-5b0f-4435-a10c-3d28c7ab2c1a\",\"type\":\"BasicTickFormatter\"},\"plot\":{\"id\":\"03bd1154-ef5d-4743-adc8-5ddda180bdad\",\"subtype\":\"Figure\",\"type\":\"Plot\"},\"ticker\":{\"id\":\"4ca87900-7ed9-4bdf-827f-5f327420c075\",\"type\":\"BasicTicker\"}},\"id\":\"2f7db969-3251-4b74-995e-dbef3c24156f\",\"type\":\"LinearAxis\"},{\"attributes\":{\"overlay\":{\"id\":\"a3de0c55-676d-40b6-a51c-609de81a5d93\",\"type\":\"BoxAnnotation\"}},\"id\":\"27a47c43-6d45-4ddf-83e0-9ea0a7bcdae7\",\"type\":\"BoxZoomTool\"},{\"attributes\":{},\"id\":\"a0dabb02-4eb5-4cc4-a19a-f9a4e9d13b3a\",\"type\":\"PanTool\"}],\"root_ids\":[\"03bd1154-ef5d-4743-adc8-5ddda180bdad\"]},\"title\":\"Bokeh Application\",\"version\":\"0.12.10\"}};\n",
       "    var render_items = [{\"docid\":\"65e7fc5b-9a9c-4475-bdcd-e68063478e7c\",\"elementid\":\"44d4ca94-4127-4841-93b8-b571ef9595b4\",\"modelid\":\"03bd1154-ef5d-4743-adc8-5ddda180bdad\"}];\n",
       "\n",
       "    root.Bokeh.embed.embed_items(docs_json, render_items);\n",
       "  }\n",
       "\n",
       "  if (root.Bokeh !== undefined) {\n",
       "    embed_document(root);\n",
       "  } else {\n",
       "    var attempts = 0;\n",
       "    var timer = setInterval(function(root) {\n",
       "      if (root.Bokeh !== undefined) {\n",
       "        embed_document(root);\n",
       "        clearInterval(timer);\n",
       "      }\n",
       "      attempts++;\n",
       "      if (attempts > 100) {\n",
       "        console.log(\"Bokeh: ERROR: Unable to embed document because BokehJS library is missing\")\n",
       "        clearInterval(timer);\n",
       "      }\n",
       "    }, 10, root)\n",
       "  }\n",
       "})(window);"
      ],
      "application/vnd.bokehjs_exec.v0+json": ""
     },
     "metadata": {
      "application/vnd.bokehjs_exec.v0+json": {
       "id": "03bd1154-ef5d-4743-adc8-5ddda180bdad"
      }
     },
     "output_type": "display_data"
    }
   ],
   "source": [
    "# Agrupamos los valores en base a la columna \"GRANDES_GRUPOS_DE_EDAD\" \n",
    "group1 = tabla1.groupby('GRANDES_GRUPOS_DE_EDAD')\n",
    "\n",
    "# Nos permite obtener Mapas de nombres columnas, secuencias, matrices.\n",
    "source = ColumnDataSource(group1)\n",
    "\n",
    "# Creamos un objeto de figura\n",
    "gph = figure(\n",
    "    plot_height=250, plot_width=750, # Establecemos el tamaño\n",
    "    x_range=group1,  # Establecemos el rango de x\n",
    "    title='ANALFABETISMO POR AREA Y GRUPOS DE EDAD' # Establecemos un titulo para la grafica \n",
    ")\n",
    "\n",
    "# Establecemos los atributos de \"vbar()\"\n",
    "gph.vbar(\n",
    "    x='GRANDES_GRUPOS_DE_EDAD', # Valores de x\n",
    "    top='A_URBANA_H_mean', # Valores de y\n",
    "    width=0.9, # El tamaño de las barras \n",
    "    line_color=\"white\", # El color de la linea separadora\n",
    "    source=source # Determinamos la fuente de datos\n",
    ")\n",
    "\n",
    "gph.xgrid.grid_line_color = None # Determinamos que en la grafica no se presente la linea de las x para hacer mas visible la grafica\n",
    "\n",
    "gph.xaxis.axis_label = \"AREA URBANA - HOMBRES\" # Damos un nombre al eje x\n",
    "\n",
    "gph.y_range.start = 0 # Modificamos para la presentación el rango inicial\n",
    "\n",
    "show(gph) # Mostramos el objeto"
   ]
  },
  {
   "cell_type": "code",
   "execution_count": 35,
   "metadata": {},
   "outputs": [
    {
     "data": {
      "text/html": [
       "\n",
       "<div class=\"bk-root\">\n",
       "    <div class=\"bk-plotdiv\" id=\"248f2344-2beb-47cc-b361-f2d8359e1ebc\"></div>\n",
       "</div>"
      ]
     },
     "metadata": {},
     "output_type": "display_data"
    },
    {
     "data": {
      "application/javascript": [
       "(function(root) {\n",
       "  function embed_document(root) {\n",
       "    var docs_json = {\"f19432d6-6221-4f94-a389-0b67b84d9dc5\":{\"roots\":{\"references\":[{\"attributes\":{},\"id\":\"028ea365-5f7e-411c-880e-5bf3aa74a213\",\"type\":\"WheelZoomTool\"},{\"attributes\":{\"source\":{\"id\":\"f25dd638-d52f-4c88-9007-b7478a0aba1b\",\"type\":\"ColumnDataSource\"}},\"id\":\"1b398f02-8899-496e-8fe7-6b9c15006e2b\",\"type\":\"CDSView\"},{\"attributes\":{\"callback\":null,\"factors\":[\"15-24 a\\u00f1os\",\"25-39 a\\u00f1os\",\"40-64 a\\u00f1os\",\"65 a\\u00f1os y mas\",\"Total nacional\"]},\"id\":\"cb8e2f17-8769-4dab-8de5-49f706512586\",\"type\":\"FactorRange\"},{\"attributes\":{\"grid_line_color\":{\"value\":null},\"plot\":{\"id\":\"28418e9e-12ae-4b17-b4ca-9a32da3f5d32\",\"subtype\":\"Figure\",\"type\":\"Plot\"},\"ticker\":{\"id\":\"a93a809c-70bf-46e5-9fce-9ddaccb41e48\",\"type\":\"CategoricalTicker\"}},\"id\":\"17065509-c446-4fc5-b046-f4adbd5871c4\",\"type\":\"Grid\"},{\"attributes\":{},\"id\":\"f640515a-6904-4bb5-b796-b5af0f984792\",\"type\":\"CategoricalScale\"},{\"attributes\":{},\"id\":\"1be70e4c-07ed-4c4a-9338-a17661d30c57\",\"type\":\"BasicTicker\"},{\"attributes\":{\"callback\":null,\"column_names\":[\"A_RURAL_H_count\",\"A_RURAL_H_mean\",\"A_RURAL_H_std\",\"A_RURAL_H_min\",\"A_RURAL_H_25%\",\"A_RURAL_H_50%\",\"A_RURAL_H_75%\",\"A_RURAL_H_max\",\"A_RURAL_M_count\",\"A_RURAL_M_mean\",\"A_RURAL_M_std\",\"A_RURAL_M_min\",\"A_RURAL_M_25%\",\"A_RURAL_M_50%\",\"A_RURAL_M_75%\",\"A_RURAL_M_max\",\"A_URBANA_H_count\",\"A_URBANA_H_mean\",\"A_URBANA_H_std\",\"A_URBANA_H_min\",\"A_URBANA_H_25%\",\"A_URBANA_H_50%\",\"A_URBANA_H_75%\",\"A_URBANA_H_max\",\"A_URBANA_M_count\",\"A_URBANA_M_mean\",\"A_URBANA_M_std\",\"A_URBANA_M_min\",\"A_URBANA_M_25%\",\"A_URBANA_M_50%\",\"A_URBANA_M_75%\",\"A_URBANA_M_max\",\"TOTAL_H_count\",\"TOTAL_H_mean\",\"TOTAL_H_std\",\"TOTAL_H_min\",\"TOTAL_H_25%\",\"TOTAL_H_50%\",\"TOTAL_H_75%\",\"TOTAL_H_max\",\"TOTAL_M_count\",\"TOTAL_M_mean\",\"TOTAL_M_std\",\"TOTAL_M_min\",\"TOTAL_M_25%\",\"TOTAL_M_50%\",\"TOTAL_M_75%\",\"TOTAL_M_max\",\"GRANDES_GRUPOS_DE_EDAD\"],\"data\":{\"A_RURAL_H_25%\":{\"__ndarray__\":\"eOkmMQisnD+JQWDl0CKrP/T91HjpJsE/wMqhRbbz1T+S7Xw/NV66Pw==\",\"dtype\":\"float64\",\"shape\":[5]},\"A_RURAL_H_50%\":{\"__ndarray__\":\"eOkmMQisnD+JQWDl0CKrP/T91HjpJsE/wMqhRbbz1T+S7Xw/NV66Pw==\",\"dtype\":\"float64\",\"shape\":[5]},\"A_RURAL_H_75%\":{\"__ndarray__\":\"eOkmMQisnD+JQWDl0CKrP/T91HjpJsE/wMqhRbbz1T+S7Xw/NV66Pw==\",\"dtype\":\"float64\",\"shape\":[5]},\"A_RURAL_H_count\":{\"__ndarray__\":\"AAAAAAAA8D8AAAAAAADwPwAAAAAAAPA/AAAAAAAA8D8AAAAAAADwPw==\",\"dtype\":\"float64\",\"shape\":[5]},\"A_RURAL_H_max\":{\"__ndarray__\":\"eOkmMQisnD+JQWDl0CKrP/T91HjpJsE/wMqhRbbz1T+S7Xw/NV66Pw==\",\"dtype\":\"float64\",\"shape\":[5]},\"A_RURAL_H_mean\":{\"__ndarray__\":\"eOkmMQisnD+JQWDl0CKrP/T91HjpJsE/wMqhRbbz1T+S7Xw/NV66Pw==\",\"dtype\":\"float64\",\"shape\":[5]},\"A_RURAL_H_min\":{\"__ndarray__\":\"eOkmMQisnD+JQWDl0CKrP/T91HjpJsE/wMqhRbbz1T+S7Xw/NV66Pw==\",\"dtype\":\"float64\",\"shape\":[5]},\"A_RURAL_H_std\":{\"__ndarray__\":\"AAAAAAAA+H8AAAAAAAD4fwAAAAAAAPh/AAAAAAAA+H8AAAAAAAD4fw==\",\"dtype\":\"float64\",\"shape\":[5]},\"A_RURAL_M_25%\":{\"__ndarray__\":\"mpmZmZmZmT946SYxCKysPz0K16NwPco/AyuHFtnO3z+TGARWDi3CPw==\",\"dtype\":\"float64\",\"shape\":[5]},\"A_RURAL_M_50%\":{\"__ndarray__\":\"mpmZmZmZmT946SYxCKysPz0K16NwPco/AyuHFtnO3z+TGARWDi3CPw==\",\"dtype\":\"float64\",\"shape\":[5]},\"A_RURAL_M_75%\":{\"__ndarray__\":\"mpmZmZmZmT946SYxCKysPz0K16NwPco/AyuHFtnO3z+TGARWDi3CPw==\",\"dtype\":\"float64\",\"shape\":[5]},\"A_RURAL_M_count\":{\"__ndarray__\":\"AAAAAAAA8D8AAAAAAADwPwAAAAAAAPA/AAAAAAAA8D8AAAAAAADwPw==\",\"dtype\":\"float64\",\"shape\":[5]},\"A_RURAL_M_max\":{\"__ndarray__\":\"mpmZmZmZmT946SYxCKysPz0K16NwPco/AyuHFtnO3z+TGARWDi3CPw==\",\"dtype\":\"float64\",\"shape\":[5]},\"A_RURAL_M_mean\":{\"__ndarray__\":\"mpmZmZmZmT946SYxCKysPz0K16NwPco/AyuHFtnO3z+TGARWDi3CPw==\",\"dtype\":\"float64\",\"shape\":[5]},\"A_RURAL_M_min\":{\"__ndarray__\":\"mpmZmZmZmT946SYxCKysPz0K16NwPco/AyuHFtnO3z+TGARWDi3CPw==\",\"dtype\":\"float64\",\"shape\":[5]},\"A_RURAL_M_std\":{\"__ndarray__\":\"AAAAAAAA+H8AAAAAAAD4fwAAAAAAAPh/AAAAAAAA+H8AAAAAAAD4fw==\",\"dtype\":\"float64\",\"shape\":[5]},\"A_URBANA_H_25%\":{\"__ndarray__\":\"+n5qvHSTiD8830+Nl26SP9v5fmq8dKM//Knx0k1iwD9YObTIdr6fPw==\",\"dtype\":\"float64\",\"shape\":[5]},\"A_URBANA_H_50%\":{\"__ndarray__\":\"+n5qvHSTiD8830+Nl26SP9v5fmq8dKM//Knx0k1iwD9YObTIdr6fPw==\",\"dtype\":\"float64\",\"shape\":[5]},\"A_URBANA_H_75%\":{\"__ndarray__\":\"+n5qvHSTiD8830+Nl26SP9v5fmq8dKM//Knx0k1iwD9YObTIdr6fPw==\",\"dtype\":\"float64\",\"shape\":[5]},\"A_URBANA_H_count\":{\"__ndarray__\":\"AAAAAAAA8D8AAAAAAADwPwAAAAAAAPA/AAAAAAAA8D8AAAAAAADwPw==\",\"dtype\":\"float64\",\"shape\":[5]},\"A_URBANA_H_max\":{\"__ndarray__\":\"+n5qvHSTiD8830+Nl26SP9v5fmq8dKM//Knx0k1iwD9YObTIdr6fPw==\",\"dtype\":\"float64\",\"shape\":[5]},\"A_URBANA_H_mean\":{\"__ndarray__\":\"+n5qvHSTiD8830+Nl26SP9v5fmq8dKM//Knx0k1iwD9YObTIdr6fPw==\",\"dtype\":\"float64\",\"shape\":[5]},\"A_URBANA_H_min\":{\"__ndarray__\":\"+n5qvHSTiD8830+Nl26SP9v5fmq8dKM//Knx0k1iwD9YObTIdr6fPw==\",\"dtype\":\"float64\",\"shape\":[5]},\"A_URBANA_H_std\":{\"__ndarray__\":\"AAAAAAAA+H8AAAAAAAD4fwAAAAAAAPh/AAAAAAAA+H8AAAAAAAD4fw==\",\"dtype\":\"float64\",\"shape\":[5]},\"A_URBANA_M_25%\":{\"__ndarray__\":\"PN9PjZdugj+cxCCwcmiRP9rO91Pjpas/9ihcj8L1yD9qvHSTGASmPw==\",\"dtype\":\"float64\",\"shape\":[5]},\"A_URBANA_M_50%\":{\"__ndarray__\":\"PN9PjZdugj+cxCCwcmiRP9rO91Pjpas/9ihcj8L1yD9qvHSTGASmPw==\",\"dtype\":\"float64\",\"shape\":[5]},\"A_URBANA_M_75%\":{\"__ndarray__\":\"PN9PjZdugj+cxCCwcmiRP9rO91Pjpas/9ihcj8L1yD9qvHSTGASmPw==\",\"dtype\":\"float64\",\"shape\":[5]},\"A_URBANA_M_count\":{\"__ndarray__\":\"AAAAAAAA8D8AAAAAAADwPwAAAAAAAPA/AAAAAAAA8D8AAAAAAADwPw==\",\"dtype\":\"float64\",\"shape\":[5]},\"A_URBANA_M_max\":{\"__ndarray__\":\"PN9PjZdugj+cxCCwcmiRP9rO91Pjpas/9ihcj8L1yD9qvHSTGASmPw==\",\"dtype\":\"float64\",\"shape\":[5]},\"A_URBANA_M_mean\":{\"__ndarray__\":\"PN9PjZdugj+cxCCwcmiRP9rO91Pjpas/9ihcj8L1yD9qvHSTGASmPw==\",\"dtype\":\"float64\",\"shape\":[5]},\"A_URBANA_M_min\":{\"__ndarray__\":\"PN9PjZdugj+cxCCwcmiRP9rO91Pjpas/9ihcj8L1yD9qvHSTGASmPw==\",\"dtype\":\"float64\",\"shape\":[5]},\"A_URBANA_M_std\":{\"__ndarray__\":\"AAAAAAAA+H8AAAAAAAD4fwAAAAAAAPh/AAAAAAAA+H8AAAAAAAD4fw==\",\"dtype\":\"float64\",\"shape\":[5]},\"GRANDES_GRUPOS_DE_EDAD\":[\"15-24 a\\u00f1os\",\"25-39 a\\u00f1os\",\"40-64 a\\u00f1os\",\"65 a\\u00f1os y mas\",\"Total nacional\"],\"TOTAL_H_25%\":{\"__ndarray__\":\"PN9PjZdukj+4HoXrUbiePzzfT42XbrI/eOkmMQiszD8YBFYOLbKtPw==\",\"dtype\":\"float64\",\"shape\":[5]},\"TOTAL_H_50%\":{\"__ndarray__\":\"PN9PjZdukj+4HoXrUbiePzzfT42XbrI/eOkmMQiszD8YBFYOLbKtPw==\",\"dtype\":\"float64\",\"shape\":[5]},\"TOTAL_H_75%\":{\"__ndarray__\":\"PN9PjZdukj+4HoXrUbiePzzfT42XbrI/eOkmMQiszD8YBFYOLbKtPw==\",\"dtype\":\"float64\",\"shape\":[5]},\"TOTAL_H_count\":{\"__ndarray__\":\"AAAAAAAA8D8AAAAAAADwPwAAAAAAAPA/AAAAAAAA8D8AAAAAAADwPw==\",\"dtype\":\"float64\",\"shape\":[5]},\"TOTAL_H_max\":{\"__ndarray__\":\"PN9PjZdukj+4HoXrUbiePzzfT42XbrI/eOkmMQiszD8YBFYOLbKtPw==\",\"dtype\":\"float64\",\"shape\":[5]},\"TOTAL_H_mean\":{\"__ndarray__\":\"PN9PjZdukj+4HoXrUbiePzzfT42XbrI/eOkmMQiszD8YBFYOLbKtPw==\",\"dtype\":\"float64\",\"shape\":[5]},\"TOTAL_H_min\":{\"__ndarray__\":\"PN9PjZdukj+4HoXrUbiePzzfT42XbrI/eOkmMQiszD8YBFYOLbKtPw==\",\"dtype\":\"float64\",\"shape\":[5]},\"TOTAL_H_std\":{\"__ndarray__\":\"AAAAAAAA+H8AAAAAAAD4fwAAAAAAAPh/AAAAAAAA+H8AAAAAAAD4fw==\",\"dtype\":\"float64\",\"shape\":[5]},\"TOTAL_M_25%\":{\"__ndarray__\":\"uB6F61G4jj+4HoXrUbiePzq0yHa+n7o/001iEFg51D+DwMqhRbazPw==\",\"dtype\":\"float64\",\"shape\":[5]},\"TOTAL_M_50%\":{\"__ndarray__\":\"uB6F61G4jj+4HoXrUbiePzq0yHa+n7o/001iEFg51D+DwMqhRbazPw==\",\"dtype\":\"float64\",\"shape\":[5]},\"TOTAL_M_75%\":{\"__ndarray__\":\"uB6F61G4jj+4HoXrUbiePzq0yHa+n7o/001iEFg51D+DwMqhRbazPw==\",\"dtype\":\"float64\",\"shape\":[5]},\"TOTAL_M_count\":{\"__ndarray__\":\"AAAAAAAA8D8AAAAAAADwPwAAAAAAAPA/AAAAAAAA8D8AAAAAAADwPw==\",\"dtype\":\"float64\",\"shape\":[5]},\"TOTAL_M_max\":{\"__ndarray__\":\"uB6F61G4jj+4HoXrUbiePzq0yHa+n7o/001iEFg51D+DwMqhRbazPw==\",\"dtype\":\"float64\",\"shape\":[5]},\"TOTAL_M_mean\":{\"__ndarray__\":\"uB6F61G4jj+4HoXrUbiePzq0yHa+n7o/001iEFg51D+DwMqhRbazPw==\",\"dtype\":\"float64\",\"shape\":[5]},\"TOTAL_M_min\":{\"__ndarray__\":\"uB6F61G4jj+4HoXrUbiePzq0yHa+n7o/001iEFg51D+DwMqhRbazPw==\",\"dtype\":\"float64\",\"shape\":[5]},\"TOTAL_M_std\":{\"__ndarray__\":\"AAAAAAAA+H8AAAAAAAD4fwAAAAAAAPh/AAAAAAAA+H8AAAAAAAD4fw==\",\"dtype\":\"float64\",\"shape\":[5]}}},\"id\":\"f25dd638-d52f-4c88-9007-b7478a0aba1b\",\"type\":\"ColumnDataSource\"},{\"attributes\":{\"axis_label\":\"AREA URBANA - MUJERES\",\"formatter\":{\"id\":\"ab923cfb-0836-4909-86ff-ff3bf35faab0\",\"type\":\"CategoricalTickFormatter\"},\"plot\":{\"id\":\"28418e9e-12ae-4b17-b4ca-9a32da3f5d32\",\"subtype\":\"Figure\",\"type\":\"Plot\"},\"ticker\":{\"id\":\"a93a809c-70bf-46e5-9fce-9ddaccb41e48\",\"type\":\"CategoricalTicker\"}},\"id\":\"f58f2d9c-2256-424f-8bc2-8a6f8c1b2b98\",\"type\":\"CategoricalAxis\"},{\"attributes\":{\"line_color\":{\"value\":\"#FF69B4\"},\"x\":{\"field\":\"GRANDES_GRUPOS_DE_EDAD\"},\"y\":{\"field\":\"A_URBANA_M_mean\"}},\"id\":\"6e06c208-78ec-47c4-be8c-9ca9359e7e0d\",\"type\":\"Line\"},{\"attributes\":{},\"id\":\"ab923cfb-0836-4909-86ff-ff3bf35faab0\",\"type\":\"CategoricalTickFormatter\"},{\"attributes\":{},\"id\":\"d79bd8f3-1421-414c-b2a8-4270999140fb\",\"type\":\"BasicTickFormatter\"},{\"attributes\":{\"active_drag\":\"auto\",\"active_inspect\":\"auto\",\"active_scroll\":\"auto\",\"active_tap\":\"auto\",\"tools\":[{\"id\":\"bd333590-651e-4acf-9e36-bc50e4eb1d38\",\"type\":\"PanTool\"},{\"id\":\"028ea365-5f7e-411c-880e-5bf3aa74a213\",\"type\":\"WheelZoomTool\"},{\"id\":\"31ceedba-8954-4d4e-9622-4251d2f8bb34\",\"type\":\"BoxZoomTool\"},{\"id\":\"4d423a06-59c9-4f7e-aed9-cd30f15a272d\",\"type\":\"SaveTool\"},{\"id\":\"480bf3e3-03b6-4f3e-a72f-9124a3c2b98c\",\"type\":\"ResetTool\"},{\"id\":\"f9d75ac2-0043-4611-9d84-205c0023edc2\",\"type\":\"HelpTool\"}]},\"id\":\"a5ff4c60-c05a-4e72-ade9-af333cee1132\",\"type\":\"Toolbar\"},{\"attributes\":{\"below\":[{\"id\":\"f58f2d9c-2256-424f-8bc2-8a6f8c1b2b98\",\"type\":\"CategoricalAxis\"}],\"left\":[{\"id\":\"17694502-fbc9-4152-abc0-964c27443f70\",\"type\":\"LinearAxis\"}],\"plot_height\":250,\"plot_width\":750,\"renderers\":[{\"id\":\"f58f2d9c-2256-424f-8bc2-8a6f8c1b2b98\",\"type\":\"CategoricalAxis\"},{\"id\":\"17065509-c446-4fc5-b046-f4adbd5871c4\",\"type\":\"Grid\"},{\"id\":\"17694502-fbc9-4152-abc0-964c27443f70\",\"type\":\"LinearAxis\"},{\"id\":\"1ebee8d4-bd40-4695-be38-9461d7e5d407\",\"type\":\"Grid\"},{\"id\":\"2d4c74f7-1667-45b3-bea6-5b2dc6636b9f\",\"type\":\"BoxAnnotation\"},{\"id\":\"17f82537-df48-4eaf-a5fd-8124f598aef0\",\"type\":\"GlyphRenderer\"}],\"title\":{\"id\":\"9b909cd5-5a89-4edc-8840-b8e66de46256\",\"type\":\"Title\"},\"toolbar\":{\"id\":\"a5ff4c60-c05a-4e72-ade9-af333cee1132\",\"type\":\"Toolbar\"},\"x_range\":{\"id\":\"cb8e2f17-8769-4dab-8de5-49f706512586\",\"type\":\"FactorRange\"},\"x_scale\":{\"id\":\"f640515a-6904-4bb5-b796-b5af0f984792\",\"type\":\"CategoricalScale\"},\"y_range\":{\"id\":\"c6f1fc80-b137-41f7-ba48-8805fec08f15\",\"type\":\"DataRange1d\"},\"y_scale\":{\"id\":\"d063856b-4a69-4537-8442-a03a3569d601\",\"type\":\"LinearScale\"}},\"id\":\"28418e9e-12ae-4b17-b4ca-9a32da3f5d32\",\"subtype\":\"Figure\",\"type\":\"Plot\"},{\"attributes\":{\"dimension\":1,\"plot\":{\"id\":\"28418e9e-12ae-4b17-b4ca-9a32da3f5d32\",\"subtype\":\"Figure\",\"type\":\"Plot\"},\"ticker\":{\"id\":\"1be70e4c-07ed-4c4a-9338-a17661d30c57\",\"type\":\"BasicTicker\"}},\"id\":\"1ebee8d4-bd40-4695-be38-9461d7e5d407\",\"type\":\"Grid\"},{\"attributes\":{\"line_alpha\":{\"value\":0.1},\"line_color\":{\"value\":\"#1f77b4\"},\"x\":{\"field\":\"GRANDES_GRUPOS_DE_EDAD\"},\"y\":{\"field\":\"A_URBANA_M_mean\"}},\"id\":\"a831096c-042d-48b8-bf35-fdd70593474a\",\"type\":\"Line\"},{\"attributes\":{},\"id\":\"f9d75ac2-0043-4611-9d84-205c0023edc2\",\"type\":\"HelpTool\"},{\"attributes\":{\"callback\":null,\"start\":0},\"id\":\"c6f1fc80-b137-41f7-ba48-8805fec08f15\",\"type\":\"DataRange1d\"},{\"attributes\":{},\"id\":\"a93a809c-70bf-46e5-9fce-9ddaccb41e48\",\"type\":\"CategoricalTicker\"},{\"attributes\":{},\"id\":\"4d423a06-59c9-4f7e-aed9-cd30f15a272d\",\"type\":\"SaveTool\"},{\"attributes\":{},\"id\":\"480bf3e3-03b6-4f3e-a72f-9124a3c2b98c\",\"type\":\"ResetTool\"},{\"attributes\":{},\"id\":\"d063856b-4a69-4537-8442-a03a3569d601\",\"type\":\"LinearScale\"},{\"attributes\":{\"data_source\":{\"id\":\"f25dd638-d52f-4c88-9007-b7478a0aba1b\",\"type\":\"ColumnDataSource\"},\"glyph\":{\"id\":\"6e06c208-78ec-47c4-be8c-9ca9359e7e0d\",\"type\":\"Line\"},\"hover_glyph\":null,\"muted_glyph\":null,\"nonselection_glyph\":{\"id\":\"a831096c-042d-48b8-bf35-fdd70593474a\",\"type\":\"Line\"},\"selection_glyph\":null,\"view\":{\"id\":\"1b398f02-8899-496e-8fe7-6b9c15006e2b\",\"type\":\"CDSView\"}},\"id\":\"17f82537-df48-4eaf-a5fd-8124f598aef0\",\"type\":\"GlyphRenderer\"},{\"attributes\":{\"overlay\":{\"id\":\"2d4c74f7-1667-45b3-bea6-5b2dc6636b9f\",\"type\":\"BoxAnnotation\"}},\"id\":\"31ceedba-8954-4d4e-9622-4251d2f8bb34\",\"type\":\"BoxZoomTool\"},{\"attributes\":{\"bottom_units\":\"screen\",\"fill_alpha\":{\"value\":0.5},\"fill_color\":{\"value\":\"lightgrey\"},\"left_units\":\"screen\",\"level\":\"overlay\",\"line_alpha\":{\"value\":1.0},\"line_color\":{\"value\":\"black\"},\"line_dash\":[4,4],\"line_width\":{\"value\":2},\"plot\":null,\"render_mode\":\"css\",\"right_units\":\"screen\",\"top_units\":\"screen\"},\"id\":\"2d4c74f7-1667-45b3-bea6-5b2dc6636b9f\",\"type\":\"BoxAnnotation\"},{\"attributes\":{\"plot\":null,\"text\":\"ANALFABETISMO POR AREA Y GRUPOS DE EDAD\"},\"id\":\"9b909cd5-5a89-4edc-8840-b8e66de46256\",\"type\":\"Title\"},{\"attributes\":{},\"id\":\"bd333590-651e-4acf-9e36-bc50e4eb1d38\",\"type\":\"PanTool\"},{\"attributes\":{\"formatter\":{\"id\":\"d79bd8f3-1421-414c-b2a8-4270999140fb\",\"type\":\"BasicTickFormatter\"},\"plot\":{\"id\":\"28418e9e-12ae-4b17-b4ca-9a32da3f5d32\",\"subtype\":\"Figure\",\"type\":\"Plot\"},\"ticker\":{\"id\":\"1be70e4c-07ed-4c4a-9338-a17661d30c57\",\"type\":\"BasicTicker\"}},\"id\":\"17694502-fbc9-4152-abc0-964c27443f70\",\"type\":\"LinearAxis\"}],\"root_ids\":[\"28418e9e-12ae-4b17-b4ca-9a32da3f5d32\"]},\"title\":\"Bokeh Application\",\"version\":\"0.12.10\"}};\n",
       "    var render_items = [{\"docid\":\"f19432d6-6221-4f94-a389-0b67b84d9dc5\",\"elementid\":\"248f2344-2beb-47cc-b361-f2d8359e1ebc\",\"modelid\":\"28418e9e-12ae-4b17-b4ca-9a32da3f5d32\"}];\n",
       "\n",
       "    root.Bokeh.embed.embed_items(docs_json, render_items);\n",
       "  }\n",
       "\n",
       "  if (root.Bokeh !== undefined) {\n",
       "    embed_document(root);\n",
       "  } else {\n",
       "    var attempts = 0;\n",
       "    var timer = setInterval(function(root) {\n",
       "      if (root.Bokeh !== undefined) {\n",
       "        embed_document(root);\n",
       "        clearInterval(timer);\n",
       "      }\n",
       "      attempts++;\n",
       "      if (attempts > 100) {\n",
       "        console.log(\"Bokeh: ERROR: Unable to embed document because BokehJS library is missing\")\n",
       "        clearInterval(timer);\n",
       "      }\n",
       "    }, 10, root)\n",
       "  }\n",
       "})(window);"
      ],
      "application/vnd.bokehjs_exec.v0+json": ""
     },
     "metadata": {
      "application/vnd.bokehjs_exec.v0+json": {
       "id": "28418e9e-12ae-4b17-b4ca-9a32da3f5d32"
      }
     },
     "output_type": "display_data"
    }
   ],
   "source": [
    "# Agrupamos los valores en base a la columna \"GRANDES_GRUPOS_DE_EDAD\" \n",
    "group1 = tabla1.groupby('GRANDES_GRUPOS_DE_EDAD')\n",
    "\n",
    "# Nos permite obtener Mapas nombres de columnas a secuencias o matrices.\n",
    "source = ColumnDataSource(group1)\n",
    "\n",
    "# Creamos un objeto de figura \n",
    "p = figure(\n",
    "    plot_height=250, plot_width=750, # Modificamos tamaño\n",
    "    x_range=group1, # Determinamos el rango x va hacer el grupo1\n",
    "    title='ANALFABETISMO POR AREA Y GRUPOS DE EDAD' # Ponemos un título a la grafica\n",
    ")\n",
    "\n",
    "# Establecemos los atributos de \"line()\"\n",
    "p.line(\n",
    "    x='GRANDES_GRUPOS_DE_EDAD',\n",
    "    y='A_URBANA_M_mean', \n",
    "    color='#FF69B4', # Determinamos el color de la linea \n",
    "    source=source\n",
    ")\n",
    "\n",
    "p.xgrid.grid_line_color = None # No mostramos la linea separadora de x\n",
    "\n",
    "p.xaxis.axis_label = \"AREA URBANA - MUJERES\" # Nombramos al eje x\n",
    "\n",
    "p.y_range.start = 0 # Modificamos para la presentación el rango inicial \n",
    "\n",
    "show(p) # Presentamos"
   ]
  },
  {
   "cell_type": "code",
   "execution_count": 36,
   "metadata": {},
   "outputs": [
    {
     "data": {
      "text/html": [
       "\n",
       "<div class=\"bk-root\">\n",
       "    <div class=\"bk-plotdiv\" id=\"07e72f0a-c9d6-4ec9-97e5-e379b14f667b\"></div>\n",
       "</div>"
      ]
     },
     "metadata": {},
     "output_type": "display_data"
    },
    {
     "data": {
      "application/javascript": [
       "(function(root) {\n",
       "  function embed_document(root) {\n",
       "    var docs_json = {\"8bc11e4b-1eac-464d-84a0-7a595394c6d5\":{\"roots\":{\"references\":[{\"attributes\":{},\"id\":\"bb9c9625-b0e2-4bd6-8ce0-9d0600670b97\",\"type\":\"SaveTool\"},{\"attributes\":{\"axis_label\":\"AREA URBANA - MUJERES\",\"formatter\":{\"id\":\"676c11b7-ecc7-46b6-881a-3dce1bf94e68\",\"type\":\"CategoricalTickFormatter\"},\"plot\":{\"id\":\"69e7026b-0212-4180-98e4-a8048855704a\",\"subtype\":\"Figure\",\"type\":\"Plot\"},\"ticker\":{\"id\":\"1f34a900-f0b4-423d-aba6-d500607a4d27\",\"type\":\"CategoricalTicker\"}},\"id\":\"9a6c1d4b-2e28-41e8-bf67-3ba202e2e6ed\",\"type\":\"CategoricalAxis\"},{\"attributes\":{},\"id\":\"676c11b7-ecc7-46b6-881a-3dce1bf94e68\",\"type\":\"CategoricalTickFormatter\"},{\"attributes\":{\"plot\":{\"id\":\"69e7026b-0212-4180-98e4-a8048855704a\",\"subtype\":\"Figure\",\"type\":\"Plot\"},\"ticker\":{\"id\":\"1f34a900-f0b4-423d-aba6-d500607a4d27\",\"type\":\"CategoricalTicker\"}},\"id\":\"63c6fafe-c536-4dfe-860a-600613892fd4\",\"type\":\"Grid\"},{\"attributes\":{\"data_source\":{\"id\":\"26634c60-e65b-4bf3-94cb-af994dde1cf2\",\"type\":\"ColumnDataSource\"},\"glyph\":{\"id\":\"4f343deb-cb47-4f84-a12f-d24367589890\",\"type\":\"Circle\"},\"hover_glyph\":null,\"muted_glyph\":null,\"nonselection_glyph\":{\"id\":\"756b26e1-beaf-45e7-ae59-e9edcad827ea\",\"type\":\"Circle\"},\"selection_glyph\":null,\"view\":{\"id\":\"872bec8e-d051-466b-9793-aa174528aba0\",\"type\":\"CDSView\"}},\"id\":\"21e7455d-dd8f-4ede-afbe-d03df375d84c\",\"type\":\"GlyphRenderer\"},{\"attributes\":{\"plot\":null,\"text\":\"ANALFABETISMO POR AREA Y GRUPOS DE EDAD\"},\"id\":\"e6684718-bbe6-45f5-b094-8b092e469202\",\"type\":\"Title\"},{\"attributes\":{},\"id\":\"de655e2d-df36-489c-a05d-922da9972c02\",\"type\":\"PanTool\"},{\"attributes\":{\"callback\":null,\"factors\":[\"15-24 a\\u00f1os\",\"25-39 a\\u00f1os\",\"40-64 a\\u00f1os\",\"65 a\\u00f1os y mas\",\"Total nacional\"]},\"id\":\"86b431db-7d51-497f-8490-60281deeedb6\",\"type\":\"FactorRange\"},{\"attributes\":{\"below\":[{\"id\":\"9a6c1d4b-2e28-41e8-bf67-3ba202e2e6ed\",\"type\":\"CategoricalAxis\"}],\"left\":[{\"id\":\"2fdfae2d-4849-4fe5-9fe9-c1cffb7c300f\",\"type\":\"LinearAxis\"}],\"plot_height\":250,\"plot_width\":750,\"renderers\":[{\"id\":\"9a6c1d4b-2e28-41e8-bf67-3ba202e2e6ed\",\"type\":\"CategoricalAxis\"},{\"id\":\"63c6fafe-c536-4dfe-860a-600613892fd4\",\"type\":\"Grid\"},{\"id\":\"2fdfae2d-4849-4fe5-9fe9-c1cffb7c300f\",\"type\":\"LinearAxis\"},{\"id\":\"c740c94e-4399-4b51-a613-6abafb9a560a\",\"type\":\"Grid\"},{\"id\":\"7360bcf1-b6cc-4e8f-9f4f-1561f3c13cdc\",\"type\":\"BoxAnnotation\"},{\"id\":\"f6d266c7-07ce-4863-8e57-6889d61fd5e9\",\"type\":\"GlyphRenderer\"},{\"id\":\"21e7455d-dd8f-4ede-afbe-d03df375d84c\",\"type\":\"GlyphRenderer\"}],\"title\":{\"id\":\"e6684718-bbe6-45f5-b094-8b092e469202\",\"type\":\"Title\"},\"toolbar\":{\"id\":\"21ffc40f-ad85-429b-9717-7f8a261b5c28\",\"type\":\"Toolbar\"},\"x_range\":{\"id\":\"86b431db-7d51-497f-8490-60281deeedb6\",\"type\":\"FactorRange\"},\"x_scale\":{\"id\":\"66fb28a5-a785-4c56-b697-bda36809a4e4\",\"type\":\"CategoricalScale\"},\"y_range\":{\"id\":\"8985d75a-2695-4407-9ea6-f9d8e7f7f7e6\",\"type\":\"DataRange1d\"},\"y_scale\":{\"id\":\"4528b701-14f9-44e1-b648-d1e5aef2e852\",\"type\":\"LinearScale\"}},\"id\":\"69e7026b-0212-4180-98e4-a8048855704a\",\"subtype\":\"Figure\",\"type\":\"Plot\"},{\"attributes\":{\"data_source\":{\"id\":\"26634c60-e65b-4bf3-94cb-af994dde1cf2\",\"type\":\"ColumnDataSource\"},\"glyph\":{\"id\":\"45f33c20-335a-4288-a7ce-bbdae7389758\",\"type\":\"Line\"},\"hover_glyph\":null,\"muted_glyph\":null,\"nonselection_glyph\":{\"id\":\"b29c0f05-0132-4378-ae24-df8a807be5ca\",\"type\":\"Line\"},\"selection_glyph\":null,\"view\":{\"id\":\"ef50773f-a232-4480-91b3-bab48199a882\",\"type\":\"CDSView\"}},\"id\":\"f6d266c7-07ce-4863-8e57-6889d61fd5e9\",\"type\":\"GlyphRenderer\"},{\"attributes\":{\"line_alpha\":{\"value\":0.1},\"line_color\":{\"value\":\"#1f77b4\"},\"x\":{\"field\":\"GRANDES_GRUPOS_DE_EDAD\"},\"y\":{\"field\":\"A_URBANA_M_mean\"}},\"id\":\"b29c0f05-0132-4378-ae24-df8a807be5ca\",\"type\":\"Line\"},{\"attributes\":{\"active_drag\":\"auto\",\"active_inspect\":\"auto\",\"active_scroll\":\"auto\",\"active_tap\":\"auto\",\"tools\":[{\"id\":\"de655e2d-df36-489c-a05d-922da9972c02\",\"type\":\"PanTool\"},{\"id\":\"6265b9cc-caf2-47a6-9802-0759c87ce8d7\",\"type\":\"WheelZoomTool\"},{\"id\":\"b1f37c5c-9070-43a4-9f14-1d12c595ae1f\",\"type\":\"BoxZoomTool\"},{\"id\":\"bb9c9625-b0e2-4bd6-8ce0-9d0600670b97\",\"type\":\"SaveTool\"},{\"id\":\"4131e0d3-2df6-4b0c-b192-fe667af282d7\",\"type\":\"ResetTool\"},{\"id\":\"9dd1aaaf-0fa4-433a-87b8-5092de80aa36\",\"type\":\"HelpTool\"}]},\"id\":\"21ffc40f-ad85-429b-9717-7f8a261b5c28\",\"type\":\"Toolbar\"},{\"attributes\":{},\"id\":\"6265b9cc-caf2-47a6-9802-0759c87ce8d7\",\"type\":\"WheelZoomTool\"},{\"attributes\":{\"callback\":null,\"start\":0},\"id\":\"8985d75a-2695-4407-9ea6-f9d8e7f7f7e6\",\"type\":\"DataRange1d\"},{\"attributes\":{},\"id\":\"1f34a900-f0b4-423d-aba6-d500607a4d27\",\"type\":\"CategoricalTicker\"},{\"attributes\":{\"dimension\":1,\"plot\":{\"id\":\"69e7026b-0212-4180-98e4-a8048855704a\",\"subtype\":\"Figure\",\"type\":\"Plot\"},\"ticker\":{\"id\":\"0fef05df-0620-46ca-8152-689f574f47fa\",\"type\":\"BasicTicker\"}},\"id\":\"c740c94e-4399-4b51-a613-6abafb9a560a\",\"type\":\"Grid\"},{\"attributes\":{},\"id\":\"f0d9510e-9e5c-4c00-80bb-1a428dd64184\",\"type\":\"BasicTickFormatter\"},{\"attributes\":{\"formatter\":{\"id\":\"f0d9510e-9e5c-4c00-80bb-1a428dd64184\",\"type\":\"BasicTickFormatter\"},\"plot\":{\"id\":\"69e7026b-0212-4180-98e4-a8048855704a\",\"subtype\":\"Figure\",\"type\":\"Plot\"},\"ticker\":{\"id\":\"0fef05df-0620-46ca-8152-689f574f47fa\",\"type\":\"BasicTicker\"}},\"id\":\"2fdfae2d-4849-4fe5-9fe9-c1cffb7c300f\",\"type\":\"LinearAxis\"},{\"attributes\":{\"fill_color\":{\"value\":\"#FF69B4\"},\"line_color\":{\"value\":\"#FF69B4\"},\"size\":{\"units\":\"screen\",\"value\":5.5},\"x\":{\"field\":\"GRANDES_GRUPOS_DE_EDAD\"},\"y\":{\"field\":\"A_URBANA_M_mean\"}},\"id\":\"4f343deb-cb47-4f84-a12f-d24367589890\",\"type\":\"Circle\"},{\"attributes\":{},\"id\":\"0fef05df-0620-46ca-8152-689f574f47fa\",\"type\":\"BasicTicker\"},{\"attributes\":{\"fill_alpha\":{\"value\":0.1},\"fill_color\":{\"value\":\"#1f77b4\"},\"line_alpha\":{\"value\":0.1},\"line_color\":{\"value\":\"#1f77b4\"},\"size\":{\"units\":\"screen\",\"value\":5.5},\"x\":{\"field\":\"GRANDES_GRUPOS_DE_EDAD\"},\"y\":{\"field\":\"A_URBANA_M_mean\"}},\"id\":\"756b26e1-beaf-45e7-ae59-e9edcad827ea\",\"type\":\"Circle\"},{\"attributes\":{\"callback\":null,\"column_names\":[\"A_RURAL_H_count\",\"A_RURAL_H_mean\",\"A_RURAL_H_std\",\"A_RURAL_H_min\",\"A_RURAL_H_25%\",\"A_RURAL_H_50%\",\"A_RURAL_H_75%\",\"A_RURAL_H_max\",\"A_RURAL_M_count\",\"A_RURAL_M_mean\",\"A_RURAL_M_std\",\"A_RURAL_M_min\",\"A_RURAL_M_25%\",\"A_RURAL_M_50%\",\"A_RURAL_M_75%\",\"A_RURAL_M_max\",\"A_URBANA_H_count\",\"A_URBANA_H_mean\",\"A_URBANA_H_std\",\"A_URBANA_H_min\",\"A_URBANA_H_25%\",\"A_URBANA_H_50%\",\"A_URBANA_H_75%\",\"A_URBANA_H_max\",\"A_URBANA_M_count\",\"A_URBANA_M_mean\",\"A_URBANA_M_std\",\"A_URBANA_M_min\",\"A_URBANA_M_25%\",\"A_URBANA_M_50%\",\"A_URBANA_M_75%\",\"A_URBANA_M_max\",\"TOTAL_H_count\",\"TOTAL_H_mean\",\"TOTAL_H_std\",\"TOTAL_H_min\",\"TOTAL_H_25%\",\"TOTAL_H_50%\",\"TOTAL_H_75%\",\"TOTAL_H_max\",\"TOTAL_M_count\",\"TOTAL_M_mean\",\"TOTAL_M_std\",\"TOTAL_M_min\",\"TOTAL_M_25%\",\"TOTAL_M_50%\",\"TOTAL_M_75%\",\"TOTAL_M_max\",\"GRANDES_GRUPOS_DE_EDAD\"],\"data\":{\"A_RURAL_H_25%\":{\"__ndarray__\":\"eOkmMQisnD+JQWDl0CKrP/T91HjpJsE/wMqhRbbz1T+S7Xw/NV66Pw==\",\"dtype\":\"float64\",\"shape\":[5]},\"A_RURAL_H_50%\":{\"__ndarray__\":\"eOkmMQisnD+JQWDl0CKrP/T91HjpJsE/wMqhRbbz1T+S7Xw/NV66Pw==\",\"dtype\":\"float64\",\"shape\":[5]},\"A_RURAL_H_75%\":{\"__ndarray__\":\"eOkmMQisnD+JQWDl0CKrP/T91HjpJsE/wMqhRbbz1T+S7Xw/NV66Pw==\",\"dtype\":\"float64\",\"shape\":[5]},\"A_RURAL_H_count\":{\"__ndarray__\":\"AAAAAAAA8D8AAAAAAADwPwAAAAAAAPA/AAAAAAAA8D8AAAAAAADwPw==\",\"dtype\":\"float64\",\"shape\":[5]},\"A_RURAL_H_max\":{\"__ndarray__\":\"eOkmMQisnD+JQWDl0CKrP/T91HjpJsE/wMqhRbbz1T+S7Xw/NV66Pw==\",\"dtype\":\"float64\",\"shape\":[5]},\"A_RURAL_H_mean\":{\"__ndarray__\":\"eOkmMQisnD+JQWDl0CKrP/T91HjpJsE/wMqhRbbz1T+S7Xw/NV66Pw==\",\"dtype\":\"float64\",\"shape\":[5]},\"A_RURAL_H_min\":{\"__ndarray__\":\"eOkmMQisnD+JQWDl0CKrP/T91HjpJsE/wMqhRbbz1T+S7Xw/NV66Pw==\",\"dtype\":\"float64\",\"shape\":[5]},\"A_RURAL_H_std\":{\"__ndarray__\":\"AAAAAAAA+H8AAAAAAAD4fwAAAAAAAPh/AAAAAAAA+H8AAAAAAAD4fw==\",\"dtype\":\"float64\",\"shape\":[5]},\"A_RURAL_M_25%\":{\"__ndarray__\":\"mpmZmZmZmT946SYxCKysPz0K16NwPco/AyuHFtnO3z+TGARWDi3CPw==\",\"dtype\":\"float64\",\"shape\":[5]},\"A_RURAL_M_50%\":{\"__ndarray__\":\"mpmZmZmZmT946SYxCKysPz0K16NwPco/AyuHFtnO3z+TGARWDi3CPw==\",\"dtype\":\"float64\",\"shape\":[5]},\"A_RURAL_M_75%\":{\"__ndarray__\":\"mpmZmZmZmT946SYxCKysPz0K16NwPco/AyuHFtnO3z+TGARWDi3CPw==\",\"dtype\":\"float64\",\"shape\":[5]},\"A_RURAL_M_count\":{\"__ndarray__\":\"AAAAAAAA8D8AAAAAAADwPwAAAAAAAPA/AAAAAAAA8D8AAAAAAADwPw==\",\"dtype\":\"float64\",\"shape\":[5]},\"A_RURAL_M_max\":{\"__ndarray__\":\"mpmZmZmZmT946SYxCKysPz0K16NwPco/AyuHFtnO3z+TGARWDi3CPw==\",\"dtype\":\"float64\",\"shape\":[5]},\"A_RURAL_M_mean\":{\"__ndarray__\":\"mpmZmZmZmT946SYxCKysPz0K16NwPco/AyuHFtnO3z+TGARWDi3CPw==\",\"dtype\":\"float64\",\"shape\":[5]},\"A_RURAL_M_min\":{\"__ndarray__\":\"mpmZmZmZmT946SYxCKysPz0K16NwPco/AyuHFtnO3z+TGARWDi3CPw==\",\"dtype\":\"float64\",\"shape\":[5]},\"A_RURAL_M_std\":{\"__ndarray__\":\"AAAAAAAA+H8AAAAAAAD4fwAAAAAAAPh/AAAAAAAA+H8AAAAAAAD4fw==\",\"dtype\":\"float64\",\"shape\":[5]},\"A_URBANA_H_25%\":{\"__ndarray__\":\"+n5qvHSTiD8830+Nl26SP9v5fmq8dKM//Knx0k1iwD9YObTIdr6fPw==\",\"dtype\":\"float64\",\"shape\":[5]},\"A_URBANA_H_50%\":{\"__ndarray__\":\"+n5qvHSTiD8830+Nl26SP9v5fmq8dKM//Knx0k1iwD9YObTIdr6fPw==\",\"dtype\":\"float64\",\"shape\":[5]},\"A_URBANA_H_75%\":{\"__ndarray__\":\"+n5qvHSTiD8830+Nl26SP9v5fmq8dKM//Knx0k1iwD9YObTIdr6fPw==\",\"dtype\":\"float64\",\"shape\":[5]},\"A_URBANA_H_count\":{\"__ndarray__\":\"AAAAAAAA8D8AAAAAAADwPwAAAAAAAPA/AAAAAAAA8D8AAAAAAADwPw==\",\"dtype\":\"float64\",\"shape\":[5]},\"A_URBANA_H_max\":{\"__ndarray__\":\"+n5qvHSTiD8830+Nl26SP9v5fmq8dKM//Knx0k1iwD9YObTIdr6fPw==\",\"dtype\":\"float64\",\"shape\":[5]},\"A_URBANA_H_mean\":{\"__ndarray__\":\"+n5qvHSTiD8830+Nl26SP9v5fmq8dKM//Knx0k1iwD9YObTIdr6fPw==\",\"dtype\":\"float64\",\"shape\":[5]},\"A_URBANA_H_min\":{\"__ndarray__\":\"+n5qvHSTiD8830+Nl26SP9v5fmq8dKM//Knx0k1iwD9YObTIdr6fPw==\",\"dtype\":\"float64\",\"shape\":[5]},\"A_URBANA_H_std\":{\"__ndarray__\":\"AAAAAAAA+H8AAAAAAAD4fwAAAAAAAPh/AAAAAAAA+H8AAAAAAAD4fw==\",\"dtype\":\"float64\",\"shape\":[5]},\"A_URBANA_M_25%\":{\"__ndarray__\":\"PN9PjZdugj+cxCCwcmiRP9rO91Pjpas/9ihcj8L1yD9qvHSTGASmPw==\",\"dtype\":\"float64\",\"shape\":[5]},\"A_URBANA_M_50%\":{\"__ndarray__\":\"PN9PjZdugj+cxCCwcmiRP9rO91Pjpas/9ihcj8L1yD9qvHSTGASmPw==\",\"dtype\":\"float64\",\"shape\":[5]},\"A_URBANA_M_75%\":{\"__ndarray__\":\"PN9PjZdugj+cxCCwcmiRP9rO91Pjpas/9ihcj8L1yD9qvHSTGASmPw==\",\"dtype\":\"float64\",\"shape\":[5]},\"A_URBANA_M_count\":{\"__ndarray__\":\"AAAAAAAA8D8AAAAAAADwPwAAAAAAAPA/AAAAAAAA8D8AAAAAAADwPw==\",\"dtype\":\"float64\",\"shape\":[5]},\"A_URBANA_M_max\":{\"__ndarray__\":\"PN9PjZdugj+cxCCwcmiRP9rO91Pjpas/9ihcj8L1yD9qvHSTGASmPw==\",\"dtype\":\"float64\",\"shape\":[5]},\"A_URBANA_M_mean\":{\"__ndarray__\":\"PN9PjZdugj+cxCCwcmiRP9rO91Pjpas/9ihcj8L1yD9qvHSTGASmPw==\",\"dtype\":\"float64\",\"shape\":[5]},\"A_URBANA_M_min\":{\"__ndarray__\":\"PN9PjZdugj+cxCCwcmiRP9rO91Pjpas/9ihcj8L1yD9qvHSTGASmPw==\",\"dtype\":\"float64\",\"shape\":[5]},\"A_URBANA_M_std\":{\"__ndarray__\":\"AAAAAAAA+H8AAAAAAAD4fwAAAAAAAPh/AAAAAAAA+H8AAAAAAAD4fw==\",\"dtype\":\"float64\",\"shape\":[5]},\"GRANDES_GRUPOS_DE_EDAD\":[\"15-24 a\\u00f1os\",\"25-39 a\\u00f1os\",\"40-64 a\\u00f1os\",\"65 a\\u00f1os y mas\",\"Total nacional\"],\"TOTAL_H_25%\":{\"__ndarray__\":\"PN9PjZdukj+4HoXrUbiePzzfT42XbrI/eOkmMQiszD8YBFYOLbKtPw==\",\"dtype\":\"float64\",\"shape\":[5]},\"TOTAL_H_50%\":{\"__ndarray__\":\"PN9PjZdukj+4HoXrUbiePzzfT42XbrI/eOkmMQiszD8YBFYOLbKtPw==\",\"dtype\":\"float64\",\"shape\":[5]},\"TOTAL_H_75%\":{\"__ndarray__\":\"PN9PjZdukj+4HoXrUbiePzzfT42XbrI/eOkmMQiszD8YBFYOLbKtPw==\",\"dtype\":\"float64\",\"shape\":[5]},\"TOTAL_H_count\":{\"__ndarray__\":\"AAAAAAAA8D8AAAAAAADwPwAAAAAAAPA/AAAAAAAA8D8AAAAAAADwPw==\",\"dtype\":\"float64\",\"shape\":[5]},\"TOTAL_H_max\":{\"__ndarray__\":\"PN9PjZdukj+4HoXrUbiePzzfT42XbrI/eOkmMQiszD8YBFYOLbKtPw==\",\"dtype\":\"float64\",\"shape\":[5]},\"TOTAL_H_mean\":{\"__ndarray__\":\"PN9PjZdukj+4HoXrUbiePzzfT42XbrI/eOkmMQiszD8YBFYOLbKtPw==\",\"dtype\":\"float64\",\"shape\":[5]},\"TOTAL_H_min\":{\"__ndarray__\":\"PN9PjZdukj+4HoXrUbiePzzfT42XbrI/eOkmMQiszD8YBFYOLbKtPw==\",\"dtype\":\"float64\",\"shape\":[5]},\"TOTAL_H_std\":{\"__ndarray__\":\"AAAAAAAA+H8AAAAAAAD4fwAAAAAAAPh/AAAAAAAA+H8AAAAAAAD4fw==\",\"dtype\":\"float64\",\"shape\":[5]},\"TOTAL_M_25%\":{\"__ndarray__\":\"uB6F61G4jj+4HoXrUbiePzq0yHa+n7o/001iEFg51D+DwMqhRbazPw==\",\"dtype\":\"float64\",\"shape\":[5]},\"TOTAL_M_50%\":{\"__ndarray__\":\"uB6F61G4jj+4HoXrUbiePzq0yHa+n7o/001iEFg51D+DwMqhRbazPw==\",\"dtype\":\"float64\",\"shape\":[5]},\"TOTAL_M_75%\":{\"__ndarray__\":\"uB6F61G4jj+4HoXrUbiePzq0yHa+n7o/001iEFg51D+DwMqhRbazPw==\",\"dtype\":\"float64\",\"shape\":[5]},\"TOTAL_M_count\":{\"__ndarray__\":\"AAAAAAAA8D8AAAAAAADwPwAAAAAAAPA/AAAAAAAA8D8AAAAAAADwPw==\",\"dtype\":\"float64\",\"shape\":[5]},\"TOTAL_M_max\":{\"__ndarray__\":\"uB6F61G4jj+4HoXrUbiePzq0yHa+n7o/001iEFg51D+DwMqhRbazPw==\",\"dtype\":\"float64\",\"shape\":[5]},\"TOTAL_M_mean\":{\"__ndarray__\":\"uB6F61G4jj+4HoXrUbiePzq0yHa+n7o/001iEFg51D+DwMqhRbazPw==\",\"dtype\":\"float64\",\"shape\":[5]},\"TOTAL_M_min\":{\"__ndarray__\":\"uB6F61G4jj+4HoXrUbiePzq0yHa+n7o/001iEFg51D+DwMqhRbazPw==\",\"dtype\":\"float64\",\"shape\":[5]},\"TOTAL_M_std\":{\"__ndarray__\":\"AAAAAAAA+H8AAAAAAAD4fwAAAAAAAPh/AAAAAAAA+H8AAAAAAAD4fw==\",\"dtype\":\"float64\",\"shape\":[5]}}},\"id\":\"26634c60-e65b-4bf3-94cb-af994dde1cf2\",\"type\":\"ColumnDataSource\"},{\"attributes\":{\"source\":{\"id\":\"26634c60-e65b-4bf3-94cb-af994dde1cf2\",\"type\":\"ColumnDataSource\"}},\"id\":\"872bec8e-d051-466b-9793-aa174528aba0\",\"type\":\"CDSView\"},{\"attributes\":{\"line_color\":{\"value\":\"#FF69B4\"},\"x\":{\"field\":\"GRANDES_GRUPOS_DE_EDAD\"},\"y\":{\"field\":\"A_URBANA_M_mean\"}},\"id\":\"45f33c20-335a-4288-a7ce-bbdae7389758\",\"type\":\"Line\"},{\"attributes\":{\"overlay\":{\"id\":\"7360bcf1-b6cc-4e8f-9f4f-1561f3c13cdc\",\"type\":\"BoxAnnotation\"}},\"id\":\"b1f37c5c-9070-43a4-9f14-1d12c595ae1f\",\"type\":\"BoxZoomTool\"},{\"attributes\":{},\"id\":\"4131e0d3-2df6-4b0c-b192-fe667af282d7\",\"type\":\"ResetTool\"},{\"attributes\":{\"source\":{\"id\":\"26634c60-e65b-4bf3-94cb-af994dde1cf2\",\"type\":\"ColumnDataSource\"}},\"id\":\"ef50773f-a232-4480-91b3-bab48199a882\",\"type\":\"CDSView\"},{\"attributes\":{\"bottom_units\":\"screen\",\"fill_alpha\":{\"value\":0.5},\"fill_color\":{\"value\":\"lightgrey\"},\"left_units\":\"screen\",\"level\":\"overlay\",\"line_alpha\":{\"value\":1.0},\"line_color\":{\"value\":\"black\"},\"line_dash\":[4,4],\"line_width\":{\"value\":2},\"plot\":null,\"render_mode\":\"css\",\"right_units\":\"screen\",\"top_units\":\"screen\"},\"id\":\"7360bcf1-b6cc-4e8f-9f4f-1561f3c13cdc\",\"type\":\"BoxAnnotation\"},{\"attributes\":{},\"id\":\"9dd1aaaf-0fa4-433a-87b8-5092de80aa36\",\"type\":\"HelpTool\"},{\"attributes\":{},\"id\":\"66fb28a5-a785-4c56-b697-bda36809a4e4\",\"type\":\"CategoricalScale\"},{\"attributes\":{},\"id\":\"4528b701-14f9-44e1-b648-d1e5aef2e852\",\"type\":\"LinearScale\"}],\"root_ids\":[\"69e7026b-0212-4180-98e4-a8048855704a\"]},\"title\":\"Bokeh Application\",\"version\":\"0.12.10\"}};\n",
       "    var render_items = [{\"docid\":\"8bc11e4b-1eac-464d-84a0-7a595394c6d5\",\"elementid\":\"07e72f0a-c9d6-4ec9-97e5-e379b14f667b\",\"modelid\":\"69e7026b-0212-4180-98e4-a8048855704a\"}];\n",
       "\n",
       "    root.Bokeh.embed.embed_items(docs_json, render_items);\n",
       "  }\n",
       "\n",
       "  if (root.Bokeh !== undefined) {\n",
       "    embed_document(root);\n",
       "  } else {\n",
       "    var attempts = 0;\n",
       "    var timer = setInterval(function(root) {\n",
       "      if (root.Bokeh !== undefined) {\n",
       "        embed_document(root);\n",
       "        clearInterval(timer);\n",
       "      }\n",
       "      attempts++;\n",
       "      if (attempts > 100) {\n",
       "        console.log(\"Bokeh: ERROR: Unable to embed document because BokehJS library is missing\")\n",
       "        clearInterval(timer);\n",
       "      }\n",
       "    }, 10, root)\n",
       "  }\n",
       "})(window);"
      ],
      "application/vnd.bokehjs_exec.v0+json": ""
     },
     "metadata": {
      "application/vnd.bokehjs_exec.v0+json": {
       "id": "69e7026b-0212-4180-98e4-a8048855704a"
      }
     },
     "output_type": "display_data"
    }
   ],
   "source": [
    "# Agrupamos los valores en base a la columna \"GRANDES_GRUPOS_DE_EDAD\" \n",
    "group1 = tabla1.groupby('GRANDES_GRUPOS_DE_EDAD')\n",
    "\n",
    "# Nos permite obtener Mapas nombres de columnas a secuencias o matrices.\n",
    "source = ColumnDataSource(group1)\n",
    "\n",
    "# Creamos un objeto de figura y establecemos su tamaño, rango, y le damos un título \n",
    "p = figure(plot_height=250, plot_width=750, x_range=group1,  title='ANALFABETISMO POR AREA Y GRUPOS DE EDAD')\n",
    "\n",
    "# Podemos crear una grafica que combine dos o más plotting\n",
    "\n",
    "p.line(x='GRANDES_GRUPOS_DE_EDAD', y='A_URBANA_M_mean', color='#FF69B4', source=source)\n",
    "\n",
    "p.circle(\n",
    "    x='GRANDES_GRUPOS_DE_EDAD', \n",
    "    y='A_URBANA_M_mean', \n",
    "    color='#FF69B4', \n",
    "    size=5.5, # Damos el tamaño de los circulos\n",
    "    source=source\n",
    ")\n",
    "\n",
    "p.xaxis.axis_label = \"AREA URBANA - MUJERES\" # Damos un titulo al eje x\n",
    "\n",
    "p.y_range.start = 0 # Modificamos para la presentación el rango inicial \n",
    "\n",
    "show(p)"
   ]
  },
  {
   "cell_type": "code",
   "execution_count": 37,
   "metadata": {},
   "outputs": [
    {
     "data": {
      "text/html": [
       "\n",
       "<div class=\"bk-root\">\n",
       "    <div class=\"bk-plotdiv\" id=\"a1516ab2-dad9-4811-9f8b-8a96e64a2420\"></div>\n",
       "</div>"
      ]
     },
     "metadata": {},
     "output_type": "display_data"
    },
    {
     "data": {
      "application/javascript": [
       "(function(root) {\n",
       "  function embed_document(root) {\n",
       "    var docs_json = {\"bb950d65-ce6a-45f0-a827-fcf85a119159\":{\"roots\":{\"references\":[{\"attributes\":{},\"id\":\"b91b1e8f-002d-4eca-99ff-c186fa54afc4\",\"type\":\"BasicTicker\"},{\"attributes\":{\"fill_color\":{\"value\":\"#82B1FF\"},\"line_color\":{\"value\":\"white\"},\"top\":{\"field\":\"TOTAL_M_mean\"},\"width\":{\"value\":0.7},\"x\":{\"field\":\"GRANDES_GRUPOS_DE_EDAD\"}},\"id\":\"68fb7cf1-ca46-4eab-af45-819df830d607\",\"type\":\"VBar\"},{\"attributes\":{\"bottom_units\":\"screen\",\"fill_alpha\":{\"value\":0.5},\"fill_color\":{\"value\":\"lightgrey\"},\"left_units\":\"screen\",\"level\":\"overlay\",\"line_alpha\":{\"value\":1.0},\"line_color\":{\"value\":\"black\"},\"line_dash\":[4,4],\"line_width\":{\"value\":2},\"plot\":null,\"render_mode\":\"css\",\"right_units\":\"screen\",\"top_units\":\"screen\"},\"id\":\"5fa51278-fac6-4804-ab93-68c8348e9e82\",\"type\":\"BoxAnnotation\"},{\"attributes\":{\"formatter\":{\"id\":\"f034ec42-8839-453d-b6f7-2b2e302ee851\",\"type\":\"CategoricalTickFormatter\"},\"plot\":{\"id\":\"f503e5ac-ca98-424e-8082-99924a335810\",\"subtype\":\"Figure\",\"type\":\"Plot\"},\"ticker\":{\"id\":\"b7ee5f9d-0062-45e3-b1c6-53a7fa1acf91\",\"type\":\"CategoricalTicker\"}},\"id\":\"b7157796-f4da-4729-8d62-11aa2e40d767\",\"type\":\"CategoricalAxis\"},{\"attributes\":{\"plot\":null,\"text\":\"TOTAL MUJERES\"},\"id\":\"5f7840a7-ee34-4092-815e-6ccb55324cdf\",\"type\":\"Title\"},{\"attributes\":{},\"id\":\"73dfa6a9-8e3a-4ef2-a380-f8c1916cd92e\",\"type\":\"ResetTool\"},{\"attributes\":{\"overlay\":{\"id\":\"5fa51278-fac6-4804-ab93-68c8348e9e82\",\"type\":\"BoxAnnotation\"}},\"id\":\"4566ca12-4712-4f3e-a70a-af299a68910d\",\"type\":\"BoxZoomTool\"},{\"attributes\":{\"below\":[{\"id\":\"cbf4b2e2-4df4-43a0-932a-3c3e7db18fe2\",\"type\":\"CategoricalAxis\"}],\"left\":[{\"id\":\"75e82ae1-44e5-47aa-81d7-c0f78fbac943\",\"type\":\"LinearAxis\"}],\"plot_height\":450,\"plot_width\":450,\"renderers\":[{\"id\":\"cbf4b2e2-4df4-43a0-932a-3c3e7db18fe2\",\"type\":\"CategoricalAxis\"},{\"id\":\"4833abe2-786c-439a-aeb6-a1b55f271fbc\",\"type\":\"Grid\"},{\"id\":\"75e82ae1-44e5-47aa-81d7-c0f78fbac943\",\"type\":\"LinearAxis\"},{\"id\":\"7fbdc640-5a6d-48c4-877e-5b597e759df2\",\"type\":\"Grid\"},{\"id\":\"5fa51278-fac6-4804-ab93-68c8348e9e82\",\"type\":\"BoxAnnotation\"},{\"id\":\"8084b14e-7ce0-4534-b92c-40add0a83d41\",\"type\":\"GlyphRenderer\"}],\"title\":{\"id\":\"93ce6fa5-82e6-4c86-8dc1-ccab2ee33965\",\"type\":\"Title\"},\"toolbar\":{\"id\":\"7b549010-42f6-42ca-aa3d-291de9150e24\",\"type\":\"Toolbar\"},\"toolbar_location\":null,\"x_range\":{\"id\":\"dc6186e9-fc82-4c5e-8849-fab0bfdcd62e\",\"type\":\"FactorRange\"},\"x_scale\":{\"id\":\"c6e3f86a-6b56-4422-8c07-bec19ec5dc88\",\"type\":\"CategoricalScale\"},\"y_range\":{\"id\":\"c3fd0dda-2162-4b79-b338-d6e76d5e470c\",\"type\":\"DataRange1d\"},\"y_scale\":{\"id\":\"0836dfda-230c-4b81-9297-d9e4c8b5323b\",\"type\":\"LinearScale\"}},\"id\":\"488baed2-8b98-4474-98c1-15e3974a2099\",\"subtype\":\"Figure\",\"type\":\"Plot\"},{\"attributes\":{},\"id\":\"faff228a-4a32-4511-9c88-96c8d93bb3f4\",\"type\":\"ResetTool\"},{\"attributes\":{\"source\":{\"id\":\"e707dd09-7ca9-42b6-8499-f4d19b04b3b4\",\"type\":\"ColumnDataSource\"}},\"id\":\"ba60b450-6c30-4e4d-b5cf-fc823dc44100\",\"type\":\"CDSView\"},{\"attributes\":{},\"id\":\"5d3b27fa-887e-44d9-81f6-9f7bb1705ba0\",\"type\":\"CategoricalTickFormatter\"},{\"attributes\":{},\"id\":\"71c7a052-2ffa-43aa-8480-491ed9c723b8\",\"type\":\"WheelZoomTool\"},{\"attributes\":{},\"id\":\"7a3672b9-11be-4c5a-bb5c-208d2eafe84a\",\"type\":\"WheelZoomTool\"},{\"attributes\":{\"overlay\":{\"id\":\"292bc2a7-1ad7-4a09-9365-9e88b19261ed\",\"type\":\"BoxAnnotation\"}},\"id\":\"865523e3-91fc-48f5-98d3-5f565d04a12c\",\"type\":\"BoxZoomTool\"},{\"attributes\":{\"fill_color\":{\"value\":\"#F08080\"},\"line_color\":{\"value\":\"white\"},\"top\":{\"field\":\"TOTAL_H_mean\"},\"width\":{\"value\":0.7},\"x\":{\"field\":\"GRANDES_GRUPOS_DE_EDAD\"}},\"id\":\"57f1f854-88c2-4f3c-9cbe-3ed7f1ad22ab\",\"type\":\"VBar\"},{\"attributes\":{\"fill_alpha\":{\"value\":0.1},\"fill_color\":{\"value\":\"#1f77b4\"},\"line_alpha\":{\"value\":0.1},\"line_color\":{\"value\":\"#1f77b4\"},\"top\":{\"field\":\"TOTAL_M_mean\"},\"width\":{\"value\":0.7},\"x\":{\"field\":\"GRANDES_GRUPOS_DE_EDAD\"}},\"id\":\"6ad1860b-b183-4863-abf1-b9236924de8e\",\"type\":\"VBar\"},{\"attributes\":{\"callback\":null,\"factors\":[\"15-24 a\\u00f1os\",\"25-39 a\\u00f1os\",\"40-64 a\\u00f1os\",\"65 a\\u00f1os y mas\",\"Total nacional\"]},\"id\":\"dc6186e9-fc82-4c5e-8849-fab0bfdcd62e\",\"type\":\"FactorRange\"},{\"attributes\":{\"callback\":null,\"column_names\":[\"A_RURAL_H_count\",\"A_RURAL_H_mean\",\"A_RURAL_H_std\",\"A_RURAL_H_min\",\"A_RURAL_H_25%\",\"A_RURAL_H_50%\",\"A_RURAL_H_75%\",\"A_RURAL_H_max\",\"A_RURAL_M_count\",\"A_RURAL_M_mean\",\"A_RURAL_M_std\",\"A_RURAL_M_min\",\"A_RURAL_M_25%\",\"A_RURAL_M_50%\",\"A_RURAL_M_75%\",\"A_RURAL_M_max\",\"A_URBANA_H_count\",\"A_URBANA_H_mean\",\"A_URBANA_H_std\",\"A_URBANA_H_min\",\"A_URBANA_H_25%\",\"A_URBANA_H_50%\",\"A_URBANA_H_75%\",\"A_URBANA_H_max\",\"A_URBANA_M_count\",\"A_URBANA_M_mean\",\"A_URBANA_M_std\",\"A_URBANA_M_min\",\"A_URBANA_M_25%\",\"A_URBANA_M_50%\",\"A_URBANA_M_75%\",\"A_URBANA_M_max\",\"TOTAL_H_count\",\"TOTAL_H_mean\",\"TOTAL_H_std\",\"TOTAL_H_min\",\"TOTAL_H_25%\",\"TOTAL_H_50%\",\"TOTAL_H_75%\",\"TOTAL_H_max\",\"TOTAL_M_count\",\"TOTAL_M_mean\",\"TOTAL_M_std\",\"TOTAL_M_min\",\"TOTAL_M_25%\",\"TOTAL_M_50%\",\"TOTAL_M_75%\",\"TOTAL_M_max\",\"GRANDES_GRUPOS_DE_EDAD\"],\"data\":{\"A_RURAL_H_25%\":{\"__ndarray__\":\"eOkmMQisnD+JQWDl0CKrP/T91HjpJsE/wMqhRbbz1T+S7Xw/NV66Pw==\",\"dtype\":\"float64\",\"shape\":[5]},\"A_RURAL_H_50%\":{\"__ndarray__\":\"eOkmMQisnD+JQWDl0CKrP/T91HjpJsE/wMqhRbbz1T+S7Xw/NV66Pw==\",\"dtype\":\"float64\",\"shape\":[5]},\"A_RURAL_H_75%\":{\"__ndarray__\":\"eOkmMQisnD+JQWDl0CKrP/T91HjpJsE/wMqhRbbz1T+S7Xw/NV66Pw==\",\"dtype\":\"float64\",\"shape\":[5]},\"A_RURAL_H_count\":{\"__ndarray__\":\"AAAAAAAA8D8AAAAAAADwPwAAAAAAAPA/AAAAAAAA8D8AAAAAAADwPw==\",\"dtype\":\"float64\",\"shape\":[5]},\"A_RURAL_H_max\":{\"__ndarray__\":\"eOkmMQisnD+JQWDl0CKrP/T91HjpJsE/wMqhRbbz1T+S7Xw/NV66Pw==\",\"dtype\":\"float64\",\"shape\":[5]},\"A_RURAL_H_mean\":{\"__ndarray__\":\"eOkmMQisnD+JQWDl0CKrP/T91HjpJsE/wMqhRbbz1T+S7Xw/NV66Pw==\",\"dtype\":\"float64\",\"shape\":[5]},\"A_RURAL_H_min\":{\"__ndarray__\":\"eOkmMQisnD+JQWDl0CKrP/T91HjpJsE/wMqhRbbz1T+S7Xw/NV66Pw==\",\"dtype\":\"float64\",\"shape\":[5]},\"A_RURAL_H_std\":{\"__ndarray__\":\"AAAAAAAA+H8AAAAAAAD4fwAAAAAAAPh/AAAAAAAA+H8AAAAAAAD4fw==\",\"dtype\":\"float64\",\"shape\":[5]},\"A_RURAL_M_25%\":{\"__ndarray__\":\"mpmZmZmZmT946SYxCKysPz0K16NwPco/AyuHFtnO3z+TGARWDi3CPw==\",\"dtype\":\"float64\",\"shape\":[5]},\"A_RURAL_M_50%\":{\"__ndarray__\":\"mpmZmZmZmT946SYxCKysPz0K16NwPco/AyuHFtnO3z+TGARWDi3CPw==\",\"dtype\":\"float64\",\"shape\":[5]},\"A_RURAL_M_75%\":{\"__ndarray__\":\"mpmZmZmZmT946SYxCKysPz0K16NwPco/AyuHFtnO3z+TGARWDi3CPw==\",\"dtype\":\"float64\",\"shape\":[5]},\"A_RURAL_M_count\":{\"__ndarray__\":\"AAAAAAAA8D8AAAAAAADwPwAAAAAAAPA/AAAAAAAA8D8AAAAAAADwPw==\",\"dtype\":\"float64\",\"shape\":[5]},\"A_RURAL_M_max\":{\"__ndarray__\":\"mpmZmZmZmT946SYxCKysPz0K16NwPco/AyuHFtnO3z+TGARWDi3CPw==\",\"dtype\":\"float64\",\"shape\":[5]},\"A_RURAL_M_mean\":{\"__ndarray__\":\"mpmZmZmZmT946SYxCKysPz0K16NwPco/AyuHFtnO3z+TGARWDi3CPw==\",\"dtype\":\"float64\",\"shape\":[5]},\"A_RURAL_M_min\":{\"__ndarray__\":\"mpmZmZmZmT946SYxCKysPz0K16NwPco/AyuHFtnO3z+TGARWDi3CPw==\",\"dtype\":\"float64\",\"shape\":[5]},\"A_RURAL_M_std\":{\"__ndarray__\":\"AAAAAAAA+H8AAAAAAAD4fwAAAAAAAPh/AAAAAAAA+H8AAAAAAAD4fw==\",\"dtype\":\"float64\",\"shape\":[5]},\"A_URBANA_H_25%\":{\"__ndarray__\":\"+n5qvHSTiD8830+Nl26SP9v5fmq8dKM//Knx0k1iwD9YObTIdr6fPw==\",\"dtype\":\"float64\",\"shape\":[5]},\"A_URBANA_H_50%\":{\"__ndarray__\":\"+n5qvHSTiD8830+Nl26SP9v5fmq8dKM//Knx0k1iwD9YObTIdr6fPw==\",\"dtype\":\"float64\",\"shape\":[5]},\"A_URBANA_H_75%\":{\"__ndarray__\":\"+n5qvHSTiD8830+Nl26SP9v5fmq8dKM//Knx0k1iwD9YObTIdr6fPw==\",\"dtype\":\"float64\",\"shape\":[5]},\"A_URBANA_H_count\":{\"__ndarray__\":\"AAAAAAAA8D8AAAAAAADwPwAAAAAAAPA/AAAAAAAA8D8AAAAAAADwPw==\",\"dtype\":\"float64\",\"shape\":[5]},\"A_URBANA_H_max\":{\"__ndarray__\":\"+n5qvHSTiD8830+Nl26SP9v5fmq8dKM//Knx0k1iwD9YObTIdr6fPw==\",\"dtype\":\"float64\",\"shape\":[5]},\"A_URBANA_H_mean\":{\"__ndarray__\":\"+n5qvHSTiD8830+Nl26SP9v5fmq8dKM//Knx0k1iwD9YObTIdr6fPw==\",\"dtype\":\"float64\",\"shape\":[5]},\"A_URBANA_H_min\":{\"__ndarray__\":\"+n5qvHSTiD8830+Nl26SP9v5fmq8dKM//Knx0k1iwD9YObTIdr6fPw==\",\"dtype\":\"float64\",\"shape\":[5]},\"A_URBANA_H_std\":{\"__ndarray__\":\"AAAAAAAA+H8AAAAAAAD4fwAAAAAAAPh/AAAAAAAA+H8AAAAAAAD4fw==\",\"dtype\":\"float64\",\"shape\":[5]},\"A_URBANA_M_25%\":{\"__ndarray__\":\"PN9PjZdugj+cxCCwcmiRP9rO91Pjpas/9ihcj8L1yD9qvHSTGASmPw==\",\"dtype\":\"float64\",\"shape\":[5]},\"A_URBANA_M_50%\":{\"__ndarray__\":\"PN9PjZdugj+cxCCwcmiRP9rO91Pjpas/9ihcj8L1yD9qvHSTGASmPw==\",\"dtype\":\"float64\",\"shape\":[5]},\"A_URBANA_M_75%\":{\"__ndarray__\":\"PN9PjZdugj+cxCCwcmiRP9rO91Pjpas/9ihcj8L1yD9qvHSTGASmPw==\",\"dtype\":\"float64\",\"shape\":[5]},\"A_URBANA_M_count\":{\"__ndarray__\":\"AAAAAAAA8D8AAAAAAADwPwAAAAAAAPA/AAAAAAAA8D8AAAAAAADwPw==\",\"dtype\":\"float64\",\"shape\":[5]},\"A_URBANA_M_max\":{\"__ndarray__\":\"PN9PjZdugj+cxCCwcmiRP9rO91Pjpas/9ihcj8L1yD9qvHSTGASmPw==\",\"dtype\":\"float64\",\"shape\":[5]},\"A_URBANA_M_mean\":{\"__ndarray__\":\"PN9PjZdugj+cxCCwcmiRP9rO91Pjpas/9ihcj8L1yD9qvHSTGASmPw==\",\"dtype\":\"float64\",\"shape\":[5]},\"A_URBANA_M_min\":{\"__ndarray__\":\"PN9PjZdugj+cxCCwcmiRP9rO91Pjpas/9ihcj8L1yD9qvHSTGASmPw==\",\"dtype\":\"float64\",\"shape\":[5]},\"A_URBANA_M_std\":{\"__ndarray__\":\"AAAAAAAA+H8AAAAAAAD4fwAAAAAAAPh/AAAAAAAA+H8AAAAAAAD4fw==\",\"dtype\":\"float64\",\"shape\":[5]},\"GRANDES_GRUPOS_DE_EDAD\":[\"15-24 a\\u00f1os\",\"25-39 a\\u00f1os\",\"40-64 a\\u00f1os\",\"65 a\\u00f1os y mas\",\"Total nacional\"],\"TOTAL_H_25%\":{\"__ndarray__\":\"PN9PjZdukj+4HoXrUbiePzzfT42XbrI/eOkmMQiszD8YBFYOLbKtPw==\",\"dtype\":\"float64\",\"shape\":[5]},\"TOTAL_H_50%\":{\"__ndarray__\":\"PN9PjZdukj+4HoXrUbiePzzfT42XbrI/eOkmMQiszD8YBFYOLbKtPw==\",\"dtype\":\"float64\",\"shape\":[5]},\"TOTAL_H_75%\":{\"__ndarray__\":\"PN9PjZdukj+4HoXrUbiePzzfT42XbrI/eOkmMQiszD8YBFYOLbKtPw==\",\"dtype\":\"float64\",\"shape\":[5]},\"TOTAL_H_count\":{\"__ndarray__\":\"AAAAAAAA8D8AAAAAAADwPwAAAAAAAPA/AAAAAAAA8D8AAAAAAADwPw==\",\"dtype\":\"float64\",\"shape\":[5]},\"TOTAL_H_max\":{\"__ndarray__\":\"PN9PjZdukj+4HoXrUbiePzzfT42XbrI/eOkmMQiszD8YBFYOLbKtPw==\",\"dtype\":\"float64\",\"shape\":[5]},\"TOTAL_H_mean\":{\"__ndarray__\":\"PN9PjZdukj+4HoXrUbiePzzfT42XbrI/eOkmMQiszD8YBFYOLbKtPw==\",\"dtype\":\"float64\",\"shape\":[5]},\"TOTAL_H_min\":{\"__ndarray__\":\"PN9PjZdukj+4HoXrUbiePzzfT42XbrI/eOkmMQiszD8YBFYOLbKtPw==\",\"dtype\":\"float64\",\"shape\":[5]},\"TOTAL_H_std\":{\"__ndarray__\":\"AAAAAAAA+H8AAAAAAAD4fwAAAAAAAPh/AAAAAAAA+H8AAAAAAAD4fw==\",\"dtype\":\"float64\",\"shape\":[5]},\"TOTAL_M_25%\":{\"__ndarray__\":\"uB6F61G4jj+4HoXrUbiePzq0yHa+n7o/001iEFg51D+DwMqhRbazPw==\",\"dtype\":\"float64\",\"shape\":[5]},\"TOTAL_M_50%\":{\"__ndarray__\":\"uB6F61G4jj+4HoXrUbiePzq0yHa+n7o/001iEFg51D+DwMqhRbazPw==\",\"dtype\":\"float64\",\"shape\":[5]},\"TOTAL_M_75%\":{\"__ndarray__\":\"uB6F61G4jj+4HoXrUbiePzq0yHa+n7o/001iEFg51D+DwMqhRbazPw==\",\"dtype\":\"float64\",\"shape\":[5]},\"TOTAL_M_count\":{\"__ndarray__\":\"AAAAAAAA8D8AAAAAAADwPwAAAAAAAPA/AAAAAAAA8D8AAAAAAADwPw==\",\"dtype\":\"float64\",\"shape\":[5]},\"TOTAL_M_max\":{\"__ndarray__\":\"uB6F61G4jj+4HoXrUbiePzq0yHa+n7o/001iEFg51D+DwMqhRbazPw==\",\"dtype\":\"float64\",\"shape\":[5]},\"TOTAL_M_mean\":{\"__ndarray__\":\"uB6F61G4jj+4HoXrUbiePzq0yHa+n7o/001iEFg51D+DwMqhRbazPw==\",\"dtype\":\"float64\",\"shape\":[5]},\"TOTAL_M_min\":{\"__ndarray__\":\"uB6F61G4jj+4HoXrUbiePzq0yHa+n7o/001iEFg51D+DwMqhRbazPw==\",\"dtype\":\"float64\",\"shape\":[5]},\"TOTAL_M_std\":{\"__ndarray__\":\"AAAAAAAA+H8AAAAAAAD4fwAAAAAAAPh/AAAAAAAA+H8AAAAAAAD4fw==\",\"dtype\":\"float64\",\"shape\":[5]}}},\"id\":\"e707dd09-7ca9-42b6-8499-f4d19b04b3b4\",\"type\":\"ColumnDataSource\"},{\"attributes\":{\"children\":[{\"id\":\"8c789892-5fb8-48a0-95c1-5bb5a8f60129\",\"type\":\"ToolbarBox\"},{\"id\":\"3ed30984-4755-4a11-a4f1-d2ea53915de7\",\"type\":\"Column\"}]},\"id\":\"68a91cfe-9074-4d96-af61-13fc1195fd19\",\"type\":\"Column\"},{\"attributes\":{\"fill_alpha\":{\"value\":0.1},\"fill_color\":{\"value\":\"#1f77b4\"},\"line_alpha\":{\"value\":0.1},\"line_color\":{\"value\":\"#1f77b4\"},\"top\":{\"field\":\"TOTAL_H_mean\"},\"width\":{\"value\":0.7},\"x\":{\"field\":\"GRANDES_GRUPOS_DE_EDAD\"}},\"id\":\"0f63083a-0469-4d2f-a8f1-ac6bab6470d1\",\"type\":\"VBar\"},{\"attributes\":{\"plot\":{\"id\":\"f503e5ac-ca98-424e-8082-99924a335810\",\"subtype\":\"Figure\",\"type\":\"Plot\"},\"ticker\":{\"id\":\"b7ee5f9d-0062-45e3-b1c6-53a7fa1acf91\",\"type\":\"CategoricalTicker\"}},\"id\":\"9be1795b-8ba8-495e-bd4a-2bc6081501ea\",\"type\":\"Grid\"},{\"attributes\":{\"plot\":{\"id\":\"488baed2-8b98-4474-98c1-15e3974a2099\",\"subtype\":\"Figure\",\"type\":\"Plot\"},\"ticker\":{\"id\":\"9c477fea-8621-4eab-b23b-0259e7bc7469\",\"type\":\"CategoricalTicker\"}},\"id\":\"4833abe2-786c-439a-aeb6-a1b55f271fbc\",\"type\":\"Grid\"},{\"attributes\":{\"callback\":null,\"factors\":[\"15-24 a\\u00f1os\",\"25-39 a\\u00f1os\",\"40-64 a\\u00f1os\",\"65 a\\u00f1os y mas\",\"Total nacional\"]},\"id\":\"ee0a695a-e6e3-4424-acad-e486d88037ee\",\"type\":\"FactorRange\"},{\"attributes\":{},\"id\":\"8b14ddcd-a9d7-453c-9f08-c72dfbee2d57\",\"type\":\"CategoricalScale\"},{\"attributes\":{\"active_drag\":\"auto\",\"active_inspect\":\"auto\",\"active_scroll\":\"auto\",\"active_tap\":\"auto\",\"tools\":[{\"id\":\"433ed557-c84a-4d44-9e06-52506c810414\",\"type\":\"PanTool\"},{\"id\":\"7a3672b9-11be-4c5a-bb5c-208d2eafe84a\",\"type\":\"WheelZoomTool\"},{\"id\":\"4566ca12-4712-4f3e-a70a-af299a68910d\",\"type\":\"BoxZoomTool\"},{\"id\":\"faff228a-4a32-4511-9c88-96c8d93bb3f4\",\"type\":\"ResetTool\"}]},\"id\":\"7b549010-42f6-42ca-aa3d-291de9150e24\",\"type\":\"Toolbar\"},{\"attributes\":{},\"id\":\"5b8c7f97-a15f-4eb0-9c83-ac5910e7fb3f\",\"type\":\"BasicTicker\"},{\"attributes\":{},\"id\":\"45ad2685-9f15-468d-a7e5-c6f97ac0d7eb\",\"type\":\"BasicTickFormatter\"},{\"attributes\":{\"bottom_units\":\"screen\",\"fill_alpha\":{\"value\":0.5},\"fill_color\":{\"value\":\"lightgrey\"},\"left_units\":\"screen\",\"level\":\"overlay\",\"line_alpha\":{\"value\":1.0},\"line_color\":{\"value\":\"black\"},\"line_dash\":[4,4],\"line_width\":{\"value\":2},\"plot\":null,\"render_mode\":\"css\",\"right_units\":\"screen\",\"top_units\":\"screen\"},\"id\":\"292bc2a7-1ad7-4a09-9365-9e88b19261ed\",\"type\":\"BoxAnnotation\"},{\"attributes\":{},\"id\":\"9c477fea-8621-4eab-b23b-0259e7bc7469\",\"type\":\"CategoricalTicker\"},{\"attributes\":{\"sizing_mode\":\"scale_width\",\"toolbar_location\":\"above\",\"tools\":[{\"id\":\"36fe88ec-cc66-4102-8c7a-ef6459078b93\",\"type\":\"PanTool\"},{\"id\":\"71c7a052-2ffa-43aa-8480-491ed9c723b8\",\"type\":\"WheelZoomTool\"},{\"id\":\"865523e3-91fc-48f5-98d3-5f565d04a12c\",\"type\":\"BoxZoomTool\"},{\"id\":\"73dfa6a9-8e3a-4ef2-a380-f8c1916cd92e\",\"type\":\"ResetTool\"},{\"id\":\"433ed557-c84a-4d44-9e06-52506c810414\",\"type\":\"PanTool\"},{\"id\":\"7a3672b9-11be-4c5a-bb5c-208d2eafe84a\",\"type\":\"WheelZoomTool\"},{\"id\":\"4566ca12-4712-4f3e-a70a-af299a68910d\",\"type\":\"BoxZoomTool\"},{\"id\":\"faff228a-4a32-4511-9c88-96c8d93bb3f4\",\"type\":\"ResetTool\"}]},\"id\":\"8c789892-5fb8-48a0-95c1-5bb5a8f60129\",\"type\":\"ToolbarBox\"},{\"attributes\":{\"formatter\":{\"id\":\"5d3b27fa-887e-44d9-81f6-9f7bb1705ba0\",\"type\":\"CategoricalTickFormatter\"},\"plot\":{\"id\":\"488baed2-8b98-4474-98c1-15e3974a2099\",\"subtype\":\"Figure\",\"type\":\"Plot\"},\"ticker\":{\"id\":\"9c477fea-8621-4eab-b23b-0259e7bc7469\",\"type\":\"CategoricalTicker\"}},\"id\":\"cbf4b2e2-4df4-43a0-932a-3c3e7db18fe2\",\"type\":\"CategoricalAxis\"},{\"attributes\":{\"below\":[{\"id\":\"b7157796-f4da-4729-8d62-11aa2e40d767\",\"type\":\"CategoricalAxis\"}],\"left\":[{\"id\":\"1baa00af-65e8-41f0-bfda-8548b9429b02\",\"type\":\"LinearAxis\"}],\"plot_height\":450,\"plot_width\":450,\"renderers\":[{\"id\":\"b7157796-f4da-4729-8d62-11aa2e40d767\",\"type\":\"CategoricalAxis\"},{\"id\":\"9be1795b-8ba8-495e-bd4a-2bc6081501ea\",\"type\":\"Grid\"},{\"id\":\"1baa00af-65e8-41f0-bfda-8548b9429b02\",\"type\":\"LinearAxis\"},{\"id\":\"507f50c3-96d7-466f-8366-7b389951923c\",\"type\":\"Grid\"},{\"id\":\"292bc2a7-1ad7-4a09-9365-9e88b19261ed\",\"type\":\"BoxAnnotation\"},{\"id\":\"7d6e8fa4-3a5e-4657-bd2a-13885c94cd7e\",\"type\":\"GlyphRenderer\"}],\"title\":{\"id\":\"5f7840a7-ee34-4092-815e-6ccb55324cdf\",\"type\":\"Title\"},\"toolbar\":{\"id\":\"f91a52c8-68aa-45ad-aac5-8e2a1b03a21e\",\"type\":\"Toolbar\"},\"toolbar_location\":null,\"x_range\":{\"id\":\"ee0a695a-e6e3-4424-acad-e486d88037ee\",\"type\":\"FactorRange\"},\"x_scale\":{\"id\":\"8b14ddcd-a9d7-453c-9f08-c72dfbee2d57\",\"type\":\"CategoricalScale\"},\"y_range\":{\"id\":\"9ee52b7f-b630-42da-994a-0c641b8f22db\",\"type\":\"DataRange1d\"},\"y_scale\":{\"id\":\"110313ab-c240-43eb-b2e8-b2306fbd48f1\",\"type\":\"LinearScale\"}},\"id\":\"f503e5ac-ca98-424e-8082-99924a335810\",\"subtype\":\"Figure\",\"type\":\"Plot\"},{\"attributes\":{\"source\":{\"id\":\"e707dd09-7ca9-42b6-8499-f4d19b04b3b4\",\"type\":\"ColumnDataSource\"}},\"id\":\"e80e44fd-ade0-4f75-b556-2333a173d60c\",\"type\":\"CDSView\"},{\"attributes\":{},\"id\":\"36fe88ec-cc66-4102-8c7a-ef6459078b93\",\"type\":\"PanTool\"},{\"attributes\":{\"dimension\":1,\"plot\":{\"id\":\"488baed2-8b98-4474-98c1-15e3974a2099\",\"subtype\":\"Figure\",\"type\":\"Plot\"},\"ticker\":{\"id\":\"b91b1e8f-002d-4eca-99ff-c186fa54afc4\",\"type\":\"BasicTicker\"}},\"id\":\"7fbdc640-5a6d-48c4-877e-5b597e759df2\",\"type\":\"Grid\"},{\"attributes\":{\"data_source\":{\"id\":\"e707dd09-7ca9-42b6-8499-f4d19b04b3b4\",\"type\":\"ColumnDataSource\"},\"glyph\":{\"id\":\"57f1f854-88c2-4f3c-9cbe-3ed7f1ad22ab\",\"type\":\"VBar\"},\"hover_glyph\":null,\"muted_glyph\":null,\"nonselection_glyph\":{\"id\":\"0f63083a-0469-4d2f-a8f1-ac6bab6470d1\",\"type\":\"VBar\"},\"selection_glyph\":null,\"view\":{\"id\":\"e80e44fd-ade0-4f75-b556-2333a173d60c\",\"type\":\"CDSView\"}},\"id\":\"8084b14e-7ce0-4534-b92c-40add0a83d41\",\"type\":\"GlyphRenderer\"},{\"attributes\":{\"children\":[{\"id\":\"f503e5ac-ca98-424e-8082-99924a335810\",\"subtype\":\"Figure\",\"type\":\"Plot\"},{\"id\":\"488baed2-8b98-4474-98c1-15e3974a2099\",\"subtype\":\"Figure\",\"type\":\"Plot\"}]},\"id\":\"55871533-19e0-43d4-8bd3-afdf46ff8a72\",\"type\":\"Row\"},{\"attributes\":{},\"id\":\"433ed557-c84a-4d44-9e06-52506c810414\",\"type\":\"PanTool\"},{\"attributes\":{\"children\":[{\"id\":\"55871533-19e0-43d4-8bd3-afdf46ff8a72\",\"type\":\"Row\"}]},\"id\":\"3ed30984-4755-4a11-a4f1-d2ea53915de7\",\"type\":\"Column\"},{\"attributes\":{},\"id\":\"f034ec42-8839-453d-b6f7-2b2e302ee851\",\"type\":\"CategoricalTickFormatter\"},{\"attributes\":{\"callback\":null},\"id\":\"9ee52b7f-b630-42da-994a-0c641b8f22db\",\"type\":\"DataRange1d\"},{\"attributes\":{},\"id\":\"c6e3f86a-6b56-4422-8c07-bec19ec5dc88\",\"type\":\"CategoricalScale\"},{\"attributes\":{},\"id\":\"32063475-48ab-4fcd-9cee-07a5ab4f5ca8\",\"type\":\"BasicTickFormatter\"},{\"attributes\":{\"formatter\":{\"id\":\"45ad2685-9f15-468d-a7e5-c6f97ac0d7eb\",\"type\":\"BasicTickFormatter\"},\"plot\":{\"id\":\"488baed2-8b98-4474-98c1-15e3974a2099\",\"subtype\":\"Figure\",\"type\":\"Plot\"},\"ticker\":{\"id\":\"b91b1e8f-002d-4eca-99ff-c186fa54afc4\",\"type\":\"BasicTicker\"}},\"id\":\"75e82ae1-44e5-47aa-81d7-c0f78fbac943\",\"type\":\"LinearAxis\"},{\"attributes\":{\"active_drag\":\"auto\",\"active_inspect\":\"auto\",\"active_scroll\":\"auto\",\"active_tap\":\"auto\",\"tools\":[{\"id\":\"36fe88ec-cc66-4102-8c7a-ef6459078b93\",\"type\":\"PanTool\"},{\"id\":\"71c7a052-2ffa-43aa-8480-491ed9c723b8\",\"type\":\"WheelZoomTool\"},{\"id\":\"865523e3-91fc-48f5-98d3-5f565d04a12c\",\"type\":\"BoxZoomTool\"},{\"id\":\"73dfa6a9-8e3a-4ef2-a380-f8c1916cd92e\",\"type\":\"ResetTool\"}]},\"id\":\"f91a52c8-68aa-45ad-aac5-8e2a1b03a21e\",\"type\":\"Toolbar\"},{\"attributes\":{\"callback\":null},\"id\":\"c3fd0dda-2162-4b79-b338-d6e76d5e470c\",\"type\":\"DataRange1d\"},{\"attributes\":{\"formatter\":{\"id\":\"32063475-48ab-4fcd-9cee-07a5ab4f5ca8\",\"type\":\"BasicTickFormatter\"},\"plot\":{\"id\":\"f503e5ac-ca98-424e-8082-99924a335810\",\"subtype\":\"Figure\",\"type\":\"Plot\"},\"ticker\":{\"id\":\"5b8c7f97-a15f-4eb0-9c83-ac5910e7fb3f\",\"type\":\"BasicTicker\"}},\"id\":\"1baa00af-65e8-41f0-bfda-8548b9429b02\",\"type\":\"LinearAxis\"},{\"attributes\":{},\"id\":\"110313ab-c240-43eb-b2e8-b2306fbd48f1\",\"type\":\"LinearScale\"},{\"attributes\":{},\"id\":\"b7ee5f9d-0062-45e3-b1c6-53a7fa1acf91\",\"type\":\"CategoricalTicker\"},{\"attributes\":{\"data_source\":{\"id\":\"e707dd09-7ca9-42b6-8499-f4d19b04b3b4\",\"type\":\"ColumnDataSource\"},\"glyph\":{\"id\":\"68fb7cf1-ca46-4eab-af45-819df830d607\",\"type\":\"VBar\"},\"hover_glyph\":null,\"muted_glyph\":null,\"nonselection_glyph\":{\"id\":\"6ad1860b-b183-4863-abf1-b9236924de8e\",\"type\":\"VBar\"},\"selection_glyph\":null,\"view\":{\"id\":\"ba60b450-6c30-4e4d-b5cf-fc823dc44100\",\"type\":\"CDSView\"}},\"id\":\"7d6e8fa4-3a5e-4657-bd2a-13885c94cd7e\",\"type\":\"GlyphRenderer\"},{\"attributes\":{\"plot\":null,\"text\":\"TOTAL HOMBRES\"},\"id\":\"93ce6fa5-82e6-4c86-8dc1-ccab2ee33965\",\"type\":\"Title\"},{\"attributes\":{\"dimension\":1,\"plot\":{\"id\":\"f503e5ac-ca98-424e-8082-99924a335810\",\"subtype\":\"Figure\",\"type\":\"Plot\"},\"ticker\":{\"id\":\"5b8c7f97-a15f-4eb0-9c83-ac5910e7fb3f\",\"type\":\"BasicTicker\"}},\"id\":\"507f50c3-96d7-466f-8366-7b389951923c\",\"type\":\"Grid\"},{\"attributes\":{},\"id\":\"0836dfda-230c-4b81-9297-d9e4c8b5323b\",\"type\":\"LinearScale\"}],\"root_ids\":[\"68a91cfe-9074-4d96-af61-13fc1195fd19\"]},\"title\":\"Bokeh Application\",\"version\":\"0.12.10\"}};\n",
       "    var render_items = [{\"docid\":\"bb950d65-ce6a-45f0-a827-fcf85a119159\",\"elementid\":\"a1516ab2-dad9-4811-9f8b-8a96e64a2420\",\"modelid\":\"68a91cfe-9074-4d96-af61-13fc1195fd19\"}];\n",
       "\n",
       "    root.Bokeh.embed.embed_items(docs_json, render_items);\n",
       "  }\n",
       "\n",
       "  if (root.Bokeh !== undefined) {\n",
       "    embed_document(root);\n",
       "  } else {\n",
       "    var attempts = 0;\n",
       "    var timer = setInterval(function(root) {\n",
       "      if (root.Bokeh !== undefined) {\n",
       "        embed_document(root);\n",
       "        clearInterval(timer);\n",
       "      }\n",
       "      attempts++;\n",
       "      if (attempts > 100) {\n",
       "        console.log(\"Bokeh: ERROR: Unable to embed document because BokehJS library is missing\")\n",
       "        clearInterval(timer);\n",
       "      }\n",
       "    }, 10, root)\n",
       "  }\n",
       "})(window);"
      ],
      "application/vnd.bokehjs_exec.v0+json": ""
     },
     "metadata": {
      "application/vnd.bokehjs_exec.v0+json": {
       "id": "68a91cfe-9074-4d96-af61-13fc1195fd19"
      }
     },
     "output_type": "display_data"
    }
   ],
   "source": [
    "# Importamos gridplot - para presentar varias graficas en una\n",
    "from bokeh.layouts import gridplot\n",
    "\n",
    "# Agrupamos los valores en base a la columna \"GRANDES_GRUPOS_DE_EDAD\" \n",
    "group1 = tabla1.groupby('GRANDES_GRUPOS_DE_EDAD')\n",
    "\n",
    "# Nos permite obtener Mapas nombres de columnas a secuencias o matrices.\n",
    "source = ColumnDataSource(group1)\n",
    "\n",
    "# Creamos un una variable con un diccionario que alberga las parametros de la figura ha crear\n",
    "options = dict(plot_width=450, plot_height=450, # Tamaño\n",
    "                x_range=group1, # Mandamos el rango de x\n",
    "               tools=\"pan,wheel_zoom,box_zoom,reset\") # Herramientas de bokeh a mostrar\n",
    "\n",
    "# Creamos un objeto de figura y establecemos su tamaño, rango, y le damos un título \n",
    "graph1 = figure(title='TOTAL MUJERES', # Le damos un título\n",
    "               **options # Enviamos los atributos albergados en options\n",
    "              )\n",
    "\n",
    "graph2 = figure(title='TOTAL HOMBRES', **options)\n",
    "\n",
    "graph1.vbar(x='GRANDES_GRUPOS_DE_EDAD', top='TOTAL_M_mean', width=0.7, line_color=\"white\", color=\"#82B1FF\", source=source)\n",
    "graph2.vbar(x='GRANDES_GRUPOS_DE_EDAD', top='TOTAL_H_mean', width=0.7, line_color=\"white\", color=\"#F08080\", source=source)\n",
    "\n",
    "# Creamos una nueva figura que esta compuesta por las dos figuras creadas anteriormente\n",
    "graph = gridplot([[graph1, graph2]])\n",
    "\n",
    "# Mostramos los resultados\n",
    "show(graph)"
   ]
  },
  {
   "cell_type": "code",
   "execution_count": 38,
   "metadata": {},
   "outputs": [
    {
     "data": {
      "text/html": [
       "\n",
       "<div class=\"bk-root\">\n",
       "    <div class=\"bk-plotdiv\" id=\"c4936f90-e7d4-4ca2-af12-16c55949f731\"></div>\n",
       "</div>"
      ]
     },
     "metadata": {},
     "output_type": "display_data"
    },
    {
     "data": {
      "application/javascript": [
       "(function(root) {\n",
       "  function embed_document(root) {\n",
       "    var docs_json = {\"61ea82f6-216b-4482-a7c6-fe7be97f377f\":{\"roots\":{\"references\":[{\"attributes\":{\"source\":{\"id\":\"018dd57e-2e4c-4404-a7d5-edf3d6ad57d8\",\"type\":\"ColumnDataSource\"}},\"id\":\"3134e312-c2f9-45bc-970c-b7c7e52c4ef0\",\"type\":\"CDSView\"},{\"attributes\":{\"overlay\":{\"id\":\"1bc80161-7dc0-4d2b-9689-cd0a25713c8b\",\"type\":\"BoxAnnotation\"}},\"id\":\"2cacab64-b9cf-4cbe-af65-c9c6dbb1f526\",\"type\":\"BoxZoomTool\"},{\"attributes\":{\"label\":{\"value\":\"MUJERES\"},\"renderers\":[{\"id\":\"30e22233-dac7-4904-bf64-32d55efc1728\",\"type\":\"GlyphRenderer\"}]},\"id\":\"649c6abc-e89f-4932-b074-0e20ce87c4ba\",\"type\":\"LegendItem\"},{\"attributes\":{},\"id\":\"ce64b8c0-84e9-483c-9cef-1b1f8937cf5d\",\"type\":\"CategoricalTickFormatter\"},{\"attributes\":{\"data_source\":{\"id\":\"018dd57e-2e4c-4404-a7d5-edf3d6ad57d8\",\"type\":\"ColumnDataSource\"},\"glyph\":{\"id\":\"f6e616b4-bb98-4a8e-90b3-2c58c99e791d\",\"type\":\"Line\"},\"hover_glyph\":null,\"muted_glyph\":null,\"nonselection_glyph\":{\"id\":\"b5552dd9-d9d6-4cdf-9285-6880bd1a08f8\",\"type\":\"Line\"},\"selection_glyph\":null,\"view\":{\"id\":\"474b2d12-8494-43c9-93e5-1e0e993ef6ca\",\"type\":\"CDSView\"}},\"id\":\"30e22233-dac7-4904-bf64-32d55efc1728\",\"type\":\"GlyphRenderer\"},{\"attributes\":{\"label\":{\"value\":\"HOMBRES\"},\"renderers\":[{\"id\":\"07adf747-f6b0-44e8-8eec-f53f4893a2f0\",\"type\":\"GlyphRenderer\"}]},\"id\":\"4ba06651-ef93-4fb6-af88-0e2c6ef896c5\",\"type\":\"LegendItem\"},{\"attributes\":{\"line_alpha\":{\"value\":0.1},\"line_color\":{\"value\":\"#1f77b4\"},\"x\":{\"field\":\"GRANDES_GRUPOS_DE_EDAD\"},\"y\":{\"field\":\"A_URBANA_H_mean\"}},\"id\":\"da243b06-6090-427d-8ec9-2fcde435cff6\",\"type\":\"Line\"},{\"attributes\":{\"callback\":null,\"column_names\":[\"A_RURAL_H_count\",\"A_RURAL_H_mean\",\"A_RURAL_H_std\",\"A_RURAL_H_min\",\"A_RURAL_H_25%\",\"A_RURAL_H_50%\",\"A_RURAL_H_75%\",\"A_RURAL_H_max\",\"A_RURAL_M_count\",\"A_RURAL_M_mean\",\"A_RURAL_M_std\",\"A_RURAL_M_min\",\"A_RURAL_M_25%\",\"A_RURAL_M_50%\",\"A_RURAL_M_75%\",\"A_RURAL_M_max\",\"A_URBANA_H_count\",\"A_URBANA_H_mean\",\"A_URBANA_H_std\",\"A_URBANA_H_min\",\"A_URBANA_H_25%\",\"A_URBANA_H_50%\",\"A_URBANA_H_75%\",\"A_URBANA_H_max\",\"A_URBANA_M_count\",\"A_URBANA_M_mean\",\"A_URBANA_M_std\",\"A_URBANA_M_min\",\"A_URBANA_M_25%\",\"A_URBANA_M_50%\",\"A_URBANA_M_75%\",\"A_URBANA_M_max\",\"TOTAL_H_count\",\"TOTAL_H_mean\",\"TOTAL_H_std\",\"TOTAL_H_min\",\"TOTAL_H_25%\",\"TOTAL_H_50%\",\"TOTAL_H_75%\",\"TOTAL_H_max\",\"TOTAL_M_count\",\"TOTAL_M_mean\",\"TOTAL_M_std\",\"TOTAL_M_min\",\"TOTAL_M_25%\",\"TOTAL_M_50%\",\"TOTAL_M_75%\",\"TOTAL_M_max\",\"GRANDES_GRUPOS_DE_EDAD\"],\"data\":{\"A_RURAL_H_25%\":{\"__ndarray__\":\"eOkmMQisnD+JQWDl0CKrP/T91HjpJsE/wMqhRbbz1T+S7Xw/NV66Pw==\",\"dtype\":\"float64\",\"shape\":[5]},\"A_RURAL_H_50%\":{\"__ndarray__\":\"eOkmMQisnD+JQWDl0CKrP/T91HjpJsE/wMqhRbbz1T+S7Xw/NV66Pw==\",\"dtype\":\"float64\",\"shape\":[5]},\"A_RURAL_H_75%\":{\"__ndarray__\":\"eOkmMQisnD+JQWDl0CKrP/T91HjpJsE/wMqhRbbz1T+S7Xw/NV66Pw==\",\"dtype\":\"float64\",\"shape\":[5]},\"A_RURAL_H_count\":{\"__ndarray__\":\"AAAAAAAA8D8AAAAAAADwPwAAAAAAAPA/AAAAAAAA8D8AAAAAAADwPw==\",\"dtype\":\"float64\",\"shape\":[5]},\"A_RURAL_H_max\":{\"__ndarray__\":\"eOkmMQisnD+JQWDl0CKrP/T91HjpJsE/wMqhRbbz1T+S7Xw/NV66Pw==\",\"dtype\":\"float64\",\"shape\":[5]},\"A_RURAL_H_mean\":{\"__ndarray__\":\"eOkmMQisnD+JQWDl0CKrP/T91HjpJsE/wMqhRbbz1T+S7Xw/NV66Pw==\",\"dtype\":\"float64\",\"shape\":[5]},\"A_RURAL_H_min\":{\"__ndarray__\":\"eOkmMQisnD+JQWDl0CKrP/T91HjpJsE/wMqhRbbz1T+S7Xw/NV66Pw==\",\"dtype\":\"float64\",\"shape\":[5]},\"A_RURAL_H_std\":{\"__ndarray__\":\"AAAAAAAA+H8AAAAAAAD4fwAAAAAAAPh/AAAAAAAA+H8AAAAAAAD4fw==\",\"dtype\":\"float64\",\"shape\":[5]},\"A_RURAL_M_25%\":{\"__ndarray__\":\"mpmZmZmZmT946SYxCKysPz0K16NwPco/AyuHFtnO3z+TGARWDi3CPw==\",\"dtype\":\"float64\",\"shape\":[5]},\"A_RURAL_M_50%\":{\"__ndarray__\":\"mpmZmZmZmT946SYxCKysPz0K16NwPco/AyuHFtnO3z+TGARWDi3CPw==\",\"dtype\":\"float64\",\"shape\":[5]},\"A_RURAL_M_75%\":{\"__ndarray__\":\"mpmZmZmZmT946SYxCKysPz0K16NwPco/AyuHFtnO3z+TGARWDi3CPw==\",\"dtype\":\"float64\",\"shape\":[5]},\"A_RURAL_M_count\":{\"__ndarray__\":\"AAAAAAAA8D8AAAAAAADwPwAAAAAAAPA/AAAAAAAA8D8AAAAAAADwPw==\",\"dtype\":\"float64\",\"shape\":[5]},\"A_RURAL_M_max\":{\"__ndarray__\":\"mpmZmZmZmT946SYxCKysPz0K16NwPco/AyuHFtnO3z+TGARWDi3CPw==\",\"dtype\":\"float64\",\"shape\":[5]},\"A_RURAL_M_mean\":{\"__ndarray__\":\"mpmZmZmZmT946SYxCKysPz0K16NwPco/AyuHFtnO3z+TGARWDi3CPw==\",\"dtype\":\"float64\",\"shape\":[5]},\"A_RURAL_M_min\":{\"__ndarray__\":\"mpmZmZmZmT946SYxCKysPz0K16NwPco/AyuHFtnO3z+TGARWDi3CPw==\",\"dtype\":\"float64\",\"shape\":[5]},\"A_RURAL_M_std\":{\"__ndarray__\":\"AAAAAAAA+H8AAAAAAAD4fwAAAAAAAPh/AAAAAAAA+H8AAAAAAAD4fw==\",\"dtype\":\"float64\",\"shape\":[5]},\"A_URBANA_H_25%\":{\"__ndarray__\":\"+n5qvHSTiD8830+Nl26SP9v5fmq8dKM//Knx0k1iwD9YObTIdr6fPw==\",\"dtype\":\"float64\",\"shape\":[5]},\"A_URBANA_H_50%\":{\"__ndarray__\":\"+n5qvHSTiD8830+Nl26SP9v5fmq8dKM//Knx0k1iwD9YObTIdr6fPw==\",\"dtype\":\"float64\",\"shape\":[5]},\"A_URBANA_H_75%\":{\"__ndarray__\":\"+n5qvHSTiD8830+Nl26SP9v5fmq8dKM//Knx0k1iwD9YObTIdr6fPw==\",\"dtype\":\"float64\",\"shape\":[5]},\"A_URBANA_H_count\":{\"__ndarray__\":\"AAAAAAAA8D8AAAAAAADwPwAAAAAAAPA/AAAAAAAA8D8AAAAAAADwPw==\",\"dtype\":\"float64\",\"shape\":[5]},\"A_URBANA_H_max\":{\"__ndarray__\":\"+n5qvHSTiD8830+Nl26SP9v5fmq8dKM//Knx0k1iwD9YObTIdr6fPw==\",\"dtype\":\"float64\",\"shape\":[5]},\"A_URBANA_H_mean\":{\"__ndarray__\":\"+n5qvHSTiD8830+Nl26SP9v5fmq8dKM//Knx0k1iwD9YObTIdr6fPw==\",\"dtype\":\"float64\",\"shape\":[5]},\"A_URBANA_H_min\":{\"__ndarray__\":\"+n5qvHSTiD8830+Nl26SP9v5fmq8dKM//Knx0k1iwD9YObTIdr6fPw==\",\"dtype\":\"float64\",\"shape\":[5]},\"A_URBANA_H_std\":{\"__ndarray__\":\"AAAAAAAA+H8AAAAAAAD4fwAAAAAAAPh/AAAAAAAA+H8AAAAAAAD4fw==\",\"dtype\":\"float64\",\"shape\":[5]},\"A_URBANA_M_25%\":{\"__ndarray__\":\"PN9PjZdugj+cxCCwcmiRP9rO91Pjpas/9ihcj8L1yD9qvHSTGASmPw==\",\"dtype\":\"float64\",\"shape\":[5]},\"A_URBANA_M_50%\":{\"__ndarray__\":\"PN9PjZdugj+cxCCwcmiRP9rO91Pjpas/9ihcj8L1yD9qvHSTGASmPw==\",\"dtype\":\"float64\",\"shape\":[5]},\"A_URBANA_M_75%\":{\"__ndarray__\":\"PN9PjZdugj+cxCCwcmiRP9rO91Pjpas/9ihcj8L1yD9qvHSTGASmPw==\",\"dtype\":\"float64\",\"shape\":[5]},\"A_URBANA_M_count\":{\"__ndarray__\":\"AAAAAAAA8D8AAAAAAADwPwAAAAAAAPA/AAAAAAAA8D8AAAAAAADwPw==\",\"dtype\":\"float64\",\"shape\":[5]},\"A_URBANA_M_max\":{\"__ndarray__\":\"PN9PjZdugj+cxCCwcmiRP9rO91Pjpas/9ihcj8L1yD9qvHSTGASmPw==\",\"dtype\":\"float64\",\"shape\":[5]},\"A_URBANA_M_mean\":{\"__ndarray__\":\"PN9PjZdugj+cxCCwcmiRP9rO91Pjpas/9ihcj8L1yD9qvHSTGASmPw==\",\"dtype\":\"float64\",\"shape\":[5]},\"A_URBANA_M_min\":{\"__ndarray__\":\"PN9PjZdugj+cxCCwcmiRP9rO91Pjpas/9ihcj8L1yD9qvHSTGASmPw==\",\"dtype\":\"float64\",\"shape\":[5]},\"A_URBANA_M_std\":{\"__ndarray__\":\"AAAAAAAA+H8AAAAAAAD4fwAAAAAAAPh/AAAAAAAA+H8AAAAAAAD4fw==\",\"dtype\":\"float64\",\"shape\":[5]},\"GRANDES_GRUPOS_DE_EDAD\":[\"15-24 a\\u00f1os\",\"25-39 a\\u00f1os\",\"40-64 a\\u00f1os\",\"65 a\\u00f1os y mas\",\"Total nacional\"],\"TOTAL_H_25%\":{\"__ndarray__\":\"PN9PjZdukj+4HoXrUbiePzzfT42XbrI/eOkmMQiszD8YBFYOLbKtPw==\",\"dtype\":\"float64\",\"shape\":[5]},\"TOTAL_H_50%\":{\"__ndarray__\":\"PN9PjZdukj+4HoXrUbiePzzfT42XbrI/eOkmMQiszD8YBFYOLbKtPw==\",\"dtype\":\"float64\",\"shape\":[5]},\"TOTAL_H_75%\":{\"__ndarray__\":\"PN9PjZdukj+4HoXrUbiePzzfT42XbrI/eOkmMQiszD8YBFYOLbKtPw==\",\"dtype\":\"float64\",\"shape\":[5]},\"TOTAL_H_count\":{\"__ndarray__\":\"AAAAAAAA8D8AAAAAAADwPwAAAAAAAPA/AAAAAAAA8D8AAAAAAADwPw==\",\"dtype\":\"float64\",\"shape\":[5]},\"TOTAL_H_max\":{\"__ndarray__\":\"PN9PjZdukj+4HoXrUbiePzzfT42XbrI/eOkmMQiszD8YBFYOLbKtPw==\",\"dtype\":\"float64\",\"shape\":[5]},\"TOTAL_H_mean\":{\"__ndarray__\":\"PN9PjZdukj+4HoXrUbiePzzfT42XbrI/eOkmMQiszD8YBFYOLbKtPw==\",\"dtype\":\"float64\",\"shape\":[5]},\"TOTAL_H_min\":{\"__ndarray__\":\"PN9PjZdukj+4HoXrUbiePzzfT42XbrI/eOkmMQiszD8YBFYOLbKtPw==\",\"dtype\":\"float64\",\"shape\":[5]},\"TOTAL_H_std\":{\"__ndarray__\":\"AAAAAAAA+H8AAAAAAAD4fwAAAAAAAPh/AAAAAAAA+H8AAAAAAAD4fw==\",\"dtype\":\"float64\",\"shape\":[5]},\"TOTAL_M_25%\":{\"__ndarray__\":\"uB6F61G4jj+4HoXrUbiePzq0yHa+n7o/001iEFg51D+DwMqhRbazPw==\",\"dtype\":\"float64\",\"shape\":[5]},\"TOTAL_M_50%\":{\"__ndarray__\":\"uB6F61G4jj+4HoXrUbiePzq0yHa+n7o/001iEFg51D+DwMqhRbazPw==\",\"dtype\":\"float64\",\"shape\":[5]},\"TOTAL_M_75%\":{\"__ndarray__\":\"uB6F61G4jj+4HoXrUbiePzq0yHa+n7o/001iEFg51D+DwMqhRbazPw==\",\"dtype\":\"float64\",\"shape\":[5]},\"TOTAL_M_count\":{\"__ndarray__\":\"AAAAAAAA8D8AAAAAAADwPwAAAAAAAPA/AAAAAAAA8D8AAAAAAADwPw==\",\"dtype\":\"float64\",\"shape\":[5]},\"TOTAL_M_max\":{\"__ndarray__\":\"uB6F61G4jj+4HoXrUbiePzq0yHa+n7o/001iEFg51D+DwMqhRbazPw==\",\"dtype\":\"float64\",\"shape\":[5]},\"TOTAL_M_mean\":{\"__ndarray__\":\"uB6F61G4jj+4HoXrUbiePzq0yHa+n7o/001iEFg51D+DwMqhRbazPw==\",\"dtype\":\"float64\",\"shape\":[5]},\"TOTAL_M_min\":{\"__ndarray__\":\"uB6F61G4jj+4HoXrUbiePzq0yHa+n7o/001iEFg51D+DwMqhRbazPw==\",\"dtype\":\"float64\",\"shape\":[5]},\"TOTAL_M_std\":{\"__ndarray__\":\"AAAAAAAA+H8AAAAAAAD4fwAAAAAAAPh/AAAAAAAA+H8AAAAAAAD4fw==\",\"dtype\":\"float64\",\"shape\":[5]}}},\"id\":\"018dd57e-2e4c-4404-a7d5-edf3d6ad57d8\",\"type\":\"ColumnDataSource\"},{\"attributes\":{\"below\":[{\"id\":\"a2d18af9-e5c8-420d-b535-ff812fec5cbb\",\"type\":\"CategoricalAxis\"}],\"left\":[{\"id\":\"4d3267f3-0640-4bc4-94e5-cf27ea1d102b\",\"type\":\"LinearAxis\"}],\"plot_height\":250,\"plot_width\":900,\"renderers\":[{\"id\":\"a2d18af9-e5c8-420d-b535-ff812fec5cbb\",\"type\":\"CategoricalAxis\"},{\"id\":\"1c029fc2-946c-40f1-8e69-4475d7698d16\",\"type\":\"Grid\"},{\"id\":\"4d3267f3-0640-4bc4-94e5-cf27ea1d102b\",\"type\":\"LinearAxis\"},{\"id\":\"f99022a2-5c48-4c13-b058-97d47607f433\",\"type\":\"Grid\"},{\"id\":\"1bc80161-7dc0-4d2b-9689-cd0a25713c8b\",\"type\":\"BoxAnnotation\"},{\"id\":\"43210258-eb3f-43e0-9737-93f6f5eed0d7\",\"type\":\"Legend\"},{\"id\":\"30e22233-dac7-4904-bf64-32d55efc1728\",\"type\":\"GlyphRenderer\"},{\"id\":\"07adf747-f6b0-44e8-8eec-f53f4893a2f0\",\"type\":\"GlyphRenderer\"}],\"title\":{\"id\":\"02e26c39-f1bb-4af9-b5c6-8a9faeb47d90\",\"type\":\"Title\"},\"toolbar\":{\"id\":\"c87d0c8e-931d-4532-a58a-0fbe0b238c79\",\"type\":\"Toolbar\"},\"x_range\":{\"id\":\"123af5e1-edbf-4f31-8aa4-2e9854ead702\",\"type\":\"FactorRange\"},\"x_scale\":{\"id\":\"8dd9424d-6535-4df9-bf31-460a1dcb0af8\",\"type\":\"CategoricalScale\"},\"y_range\":{\"id\":\"823ce292-8fa3-4859-8b5b-7961c9c275b8\",\"type\":\"DataRange1d\"},\"y_scale\":{\"id\":\"0fea9abb-1496-40f4-81fa-0c5c1e08c866\",\"type\":\"LinearScale\"}},\"id\":\"05645a75-7f7e-4c87-9e59-5de8e35f84e0\",\"subtype\":\"Figure\",\"type\":\"Plot\"},{\"attributes\":{\"source\":{\"id\":\"018dd57e-2e4c-4404-a7d5-edf3d6ad57d8\",\"type\":\"ColumnDataSource\"}},\"id\":\"474b2d12-8494-43c9-93e5-1e0e993ef6ca\",\"type\":\"CDSView\"},{\"attributes\":{\"line_alpha\":{\"value\":0.1},\"line_color\":{\"value\":\"#1f77b4\"},\"x\":{\"field\":\"GRANDES_GRUPOS_DE_EDAD\"},\"y\":{\"field\":\"A_URBANA_M_mean\"}},\"id\":\"b5552dd9-d9d6-4cdf-9285-6880bd1a08f8\",\"type\":\"Line\"},{\"attributes\":{\"items\":[{\"id\":\"649c6abc-e89f-4932-b074-0e20ce87c4ba\",\"type\":\"LegendItem\"},{\"id\":\"4ba06651-ef93-4fb6-af88-0e2c6ef896c5\",\"type\":\"LegendItem\"}],\"plot\":{\"id\":\"05645a75-7f7e-4c87-9e59-5de8e35f84e0\",\"subtype\":\"Figure\",\"type\":\"Plot\"}},\"id\":\"43210258-eb3f-43e0-9737-93f6f5eed0d7\",\"type\":\"Legend\"},{\"attributes\":{\"dimension\":1,\"grid_line_color\":{\"value\":null},\"plot\":{\"id\":\"05645a75-7f7e-4c87-9e59-5de8e35f84e0\",\"subtype\":\"Figure\",\"type\":\"Plot\"},\"ticker\":{\"id\":\"22ea0ddb-2e81-4334-be69-aad325b30a2b\",\"type\":\"BasicTicker\"}},\"id\":\"f99022a2-5c48-4c13-b058-97d47607f433\",\"type\":\"Grid\"},{\"attributes\":{},\"id\":\"036a6178-cfe4-4082-bda5-1848ce801f5f\",\"type\":\"BasicTickFormatter\"},{\"attributes\":{\"formatter\":{\"id\":\"ce64b8c0-84e9-483c-9cef-1b1f8937cf5d\",\"type\":\"CategoricalTickFormatter\"},\"plot\":{\"id\":\"05645a75-7f7e-4c87-9e59-5de8e35f84e0\",\"subtype\":\"Figure\",\"type\":\"Plot\"},\"ticker\":{\"id\":\"86d1a3e5-a5a3-47a3-b69c-d9a60a251c33\",\"type\":\"CategoricalTicker\"}},\"id\":\"a2d18af9-e5c8-420d-b535-ff812fec5cbb\",\"type\":\"CategoricalAxis\"},{\"attributes\":{\"callback\":null},\"id\":\"823ce292-8fa3-4859-8b5b-7961c9c275b8\",\"type\":\"DataRange1d\"},{\"attributes\":{},\"id\":\"86d1a3e5-a5a3-47a3-b69c-d9a60a251c33\",\"type\":\"CategoricalTicker\"},{\"attributes\":{\"line_color\":{\"value\":\"#8C9EFF\"},\"x\":{\"field\":\"GRANDES_GRUPOS_DE_EDAD\"},\"y\":{\"field\":\"A_URBANA_H_mean\"}},\"id\":\"47af56ea-38bc-4dd6-a9f2-43240812b998\",\"type\":\"Line\"},{\"attributes\":{},\"id\":\"ff98f53e-e1ee-45de-ad29-74157e08c6c5\",\"type\":\"ResetTool\"},{\"attributes\":{},\"id\":\"8dd9424d-6535-4df9-bf31-460a1dcb0af8\",\"type\":\"CategoricalScale\"},{\"attributes\":{},\"id\":\"29bf3736-fe2e-41fc-99dc-e82bda63dbf3\",\"type\":\"WheelZoomTool\"},{\"attributes\":{},\"id\":\"536d8d16-89fb-4e37-a72e-6406e1b64fa1\",\"type\":\"HelpTool\"},{\"attributes\":{},\"id\":\"91b3dfda-67d9-45ae-9f85-72ec1214a603\",\"type\":\"SaveTool\"},{\"attributes\":{\"bottom_units\":\"screen\",\"fill_alpha\":{\"value\":0.5},\"fill_color\":{\"value\":\"lightgrey\"},\"left_units\":\"screen\",\"level\":\"overlay\",\"line_alpha\":{\"value\":1.0},\"line_color\":{\"value\":\"black\"},\"line_dash\":[4,4],\"line_width\":{\"value\":2},\"plot\":null,\"render_mode\":\"css\",\"right_units\":\"screen\",\"top_units\":\"screen\"},\"id\":\"1bc80161-7dc0-4d2b-9689-cd0a25713c8b\",\"type\":\"BoxAnnotation\"},{\"attributes\":{},\"id\":\"22ea0ddb-2e81-4334-be69-aad325b30a2b\",\"type\":\"BasicTicker\"},{\"attributes\":{\"active_drag\":\"auto\",\"active_inspect\":\"auto\",\"active_scroll\":\"auto\",\"active_tap\":\"auto\",\"tools\":[{\"id\":\"93db84ef-3f44-4b4c-b0d0-59e21a23c191\",\"type\":\"PanTool\"},{\"id\":\"29bf3736-fe2e-41fc-99dc-e82bda63dbf3\",\"type\":\"WheelZoomTool\"},{\"id\":\"2cacab64-b9cf-4cbe-af65-c9c6dbb1f526\",\"type\":\"BoxZoomTool\"},{\"id\":\"91b3dfda-67d9-45ae-9f85-72ec1214a603\",\"type\":\"SaveTool\"},{\"id\":\"ff98f53e-e1ee-45de-ad29-74157e08c6c5\",\"type\":\"ResetTool\"},{\"id\":\"536d8d16-89fb-4e37-a72e-6406e1b64fa1\",\"type\":\"HelpTool\"}]},\"id\":\"c87d0c8e-931d-4532-a58a-0fbe0b238c79\",\"type\":\"Toolbar\"},{\"attributes\":{\"formatter\":{\"id\":\"036a6178-cfe4-4082-bda5-1848ce801f5f\",\"type\":\"BasicTickFormatter\"},\"plot\":{\"id\":\"05645a75-7f7e-4c87-9e59-5de8e35f84e0\",\"subtype\":\"Figure\",\"type\":\"Plot\"},\"ticker\":{\"id\":\"22ea0ddb-2e81-4334-be69-aad325b30a2b\",\"type\":\"BasicTicker\"}},\"id\":\"4d3267f3-0640-4bc4-94e5-cf27ea1d102b\",\"type\":\"LinearAxis\"},{\"attributes\":{\"data_source\":{\"id\":\"018dd57e-2e4c-4404-a7d5-edf3d6ad57d8\",\"type\":\"ColumnDataSource\"},\"glyph\":{\"id\":\"47af56ea-38bc-4dd6-a9f2-43240812b998\",\"type\":\"Line\"},\"hover_glyph\":null,\"muted_glyph\":null,\"nonselection_glyph\":{\"id\":\"da243b06-6090-427d-8ec9-2fcde435cff6\",\"type\":\"Line\"},\"selection_glyph\":null,\"view\":{\"id\":\"3134e312-c2f9-45bc-970c-b7c7e52c4ef0\",\"type\":\"CDSView\"}},\"id\":\"07adf747-f6b0-44e8-8eec-f53f4893a2f0\",\"type\":\"GlyphRenderer\"},{\"attributes\":{\"plot\":null,\"text\":\"AREA URBANA - ANALFABETISMO POR AREA Y GRUPOS DE EDAD\"},\"id\":\"02e26c39-f1bb-4af9-b5c6-8a9faeb47d90\",\"type\":\"Title\"},{\"attributes\":{\"grid_line_color\":{\"value\":null},\"plot\":{\"id\":\"05645a75-7f7e-4c87-9e59-5de8e35f84e0\",\"subtype\":\"Figure\",\"type\":\"Plot\"},\"ticker\":{\"id\":\"86d1a3e5-a5a3-47a3-b69c-d9a60a251c33\",\"type\":\"CategoricalTicker\"}},\"id\":\"1c029fc2-946c-40f1-8e69-4475d7698d16\",\"type\":\"Grid\"},{\"attributes\":{},\"id\":\"93db84ef-3f44-4b4c-b0d0-59e21a23c191\",\"type\":\"PanTool\"},{\"attributes\":{\"line_color\":{\"value\":\"#B388FF\"},\"x\":{\"field\":\"GRANDES_GRUPOS_DE_EDAD\"},\"y\":{\"field\":\"A_URBANA_M_mean\"}},\"id\":\"f6e616b4-bb98-4a8e-90b3-2c58c99e791d\",\"type\":\"Line\"},{\"attributes\":{\"callback\":null,\"factors\":[\"15-24 a\\u00f1os\",\"25-39 a\\u00f1os\",\"40-64 a\\u00f1os\",\"65 a\\u00f1os y mas\",\"Total nacional\"]},\"id\":\"123af5e1-edbf-4f31-8aa4-2e9854ead702\",\"type\":\"FactorRange\"},{\"attributes\":{},\"id\":\"0fea9abb-1496-40f4-81fa-0c5c1e08c866\",\"type\":\"LinearScale\"}],\"root_ids\":[\"05645a75-7f7e-4c87-9e59-5de8e35f84e0\"]},\"title\":\"Bokeh Application\",\"version\":\"0.12.10\"}};\n",
       "    var render_items = [{\"docid\":\"61ea82f6-216b-4482-a7c6-fe7be97f377f\",\"elementid\":\"c4936f90-e7d4-4ca2-af12-16c55949f731\",\"modelid\":\"05645a75-7f7e-4c87-9e59-5de8e35f84e0\"}];\n",
       "\n",
       "    root.Bokeh.embed.embed_items(docs_json, render_items);\n",
       "  }\n",
       "\n",
       "  if (root.Bokeh !== undefined) {\n",
       "    embed_document(root);\n",
       "  } else {\n",
       "    var attempts = 0;\n",
       "    var timer = setInterval(function(root) {\n",
       "      if (root.Bokeh !== undefined) {\n",
       "        embed_document(root);\n",
       "        clearInterval(timer);\n",
       "      }\n",
       "      attempts++;\n",
       "      if (attempts > 100) {\n",
       "        console.log(\"Bokeh: ERROR: Unable to embed document because BokehJS library is missing\")\n",
       "        clearInterval(timer);\n",
       "      }\n",
       "    }, 10, root)\n",
       "  }\n",
       "})(window);"
      ],
      "application/vnd.bokehjs_exec.v0+json": ""
     },
     "metadata": {
      "application/vnd.bokehjs_exec.v0+json": {
       "id": "05645a75-7f7e-4c87-9e59-5de8e35f84e0"
      }
     },
     "output_type": "display_data"
    }
   ],
   "source": [
    "group1 = tabla1.groupby('GRANDES_GRUPOS_DE_EDAD')\n",
    "\n",
    "source = ColumnDataSource(group1)\n",
    "\n",
    "# Creamos un objeto de figura y establecemos su tamaño, rango, y le damos un título \n",
    "graph1 = figure(plot_height=250, plot_width=900, x_range=group1,  title='AREA URBANA - ANALFABETISMO POR AREA Y GRUPOS DE EDAD')\n",
    "\n",
    "\n",
    "graph1.line(\n",
    "    x='GRANDES_GRUPOS_DE_EDAD', \n",
    "    y='A_URBANA_M_mean', \n",
    "    color='#B388FF', \n",
    "    legend='MUJERES', # Nos permite generar un cuadro de legendas predeterminado\n",
    "    source=source\n",
    ")\n",
    "\n",
    "graph1.line(x='GRANDES_GRUPOS_DE_EDAD', y='A_URBANA_H_mean', color='#8C9EFF', legend='HOMBRES', source=source)\n",
    "\n",
    "# No mostramos ningun trasado del plano\n",
    "graph1.xgrid.grid_line_color = None\n",
    "graph1.ygrid.grid_line_color = None\n",
    "\n",
    "show(graph1)"
   ]
  },
  {
   "cell_type": "code",
   "execution_count": 41,
   "metadata": {},
   "outputs": [
    {
     "data": {
      "text/html": [
       "\n",
       "<div class=\"bk-root\">\n",
       "    <div class=\"bk-plotdiv\" id=\"221e3c9e-fa97-4c33-ae58-1a6457792f8c\"></div>\n",
       "</div>"
      ]
     },
     "metadata": {},
     "output_type": "display_data"
    },
    {
     "data": {
      "application/javascript": [
       "(function(root) {\n",
       "  function embed_document(root) {\n",
       "    var docs_json = {\"ce8c159e-d87e-447b-a439-eaf86e838f36\":{\"roots\":{\"references\":[{\"attributes\":{},\"id\":\"53bf9f77-dee9-4224-a40d-123f487bcd2e\",\"type\":\"BasicTickFormatter\"},{\"attributes\":{\"children\":[{\"id\":\"3bbd08e5-a860-4d57-bc7a-5c33400acb2f\",\"subtype\":\"Figure\",\"type\":\"Plot\"},{\"id\":\"8126948b-190e-4746-92f8-8a7f17aecef9\",\"subtype\":\"Figure\",\"type\":\"Plot\"}]},\"id\":\"4a5881d8-1f2f-4285-b56f-420d144a7d1a\",\"type\":\"Row\"},{\"attributes\":{},\"id\":\"77b9dd5f-e355-4671-9743-7090b58a5d55\",\"type\":\"WheelZoomTool\"},{\"attributes\":{},\"id\":\"908ee829-b833-4b9c-a3ce-077386261b9e\",\"type\":\"BasicTicker\"},{\"attributes\":{\"callback\":null},\"id\":\"f288ceaa-efa7-4132-91cb-7a2874f192ba\",\"type\":\"DataRange1d\"},{\"attributes\":{},\"id\":\"3330cad1-f36b-4782-8550-035868432ed1\",\"type\":\"LinearScale\"},{\"attributes\":{\"data_source\":{\"id\":\"998b58f5-d6de-429a-bdab-7eec2a9ebdb7\",\"type\":\"ColumnDataSource\"},\"glyph\":{\"id\":\"eca25287-8602-4f1e-ac30-da28c1def6d2\",\"type\":\"HBar\"},\"hover_glyph\":null,\"muted_glyph\":null,\"nonselection_glyph\":{\"id\":\"95dade73-874a-4d03-bd6b-2477cb54d553\",\"type\":\"HBar\"},\"selection_glyph\":null,\"view\":{\"id\":\"1498c60b-e441-4112-a6fa-36a61e2226fd\",\"type\":\"CDSView\"}},\"id\":\"bcffc899-c8b5-47f9-a0f8-b47a15dd8510\",\"type\":\"GlyphRenderer\"},{\"attributes\":{\"plot\":null,\"text\":\"AREA RURAL - MUJERES\"},\"id\":\"0298f057-578c-4aa8-b0b8-4f2de19a4e3a\",\"type\":\"Title\"},{\"attributes\":{\"formatter\":{\"id\":\"1e51f082-1f89-4f8f-b0dc-36af7ea82f19\",\"type\":\"BasicTickFormatter\"},\"plot\":{\"id\":\"8126948b-190e-4746-92f8-8a7f17aecef9\",\"subtype\":\"Figure\",\"type\":\"Plot\"},\"ticker\":{\"id\":\"908ee829-b833-4b9c-a3ce-077386261b9e\",\"type\":\"BasicTicker\"}},\"id\":\"7ce83d6d-f487-4fe9-bbe6-bad4e43d6922\",\"type\":\"LinearAxis\"},{\"attributes\":{},\"id\":\"1acb3973-9939-4579-83e0-86e964f5b593\",\"type\":\"CategoricalTicker\"},{\"attributes\":{},\"id\":\"5406b882-d5ef-4279-bddd-900773903096\",\"type\":\"ResetTool\"},{\"attributes\":{\"active_drag\":\"auto\",\"active_inspect\":\"auto\",\"active_scroll\":\"auto\",\"active_tap\":\"auto\",\"tools\":[{\"id\":\"92390b73-07b4-4f3e-9023-d0d3d95ce612\",\"type\":\"PanTool\"},{\"id\":\"b55f6c49-0097-412b-852b-24424926f852\",\"type\":\"WheelZoomTool\"},{\"id\":\"fb5c3e14-3730-44cb-a13c-92e108c0bc71\",\"type\":\"BoxZoomTool\"},{\"id\":\"5406b882-d5ef-4279-bddd-900773903096\",\"type\":\"ResetTool\"}]},\"id\":\"0ff75384-af3d-42ae-ac68-4473f319bbc4\",\"type\":\"Toolbar\"},{\"attributes\":{\"formatter\":{\"id\":\"9a63c1d2-da66-4d57-9560-d6917c75ae9c\",\"type\":\"CategoricalTickFormatter\"},\"plot\":{\"id\":\"8126948b-190e-4746-92f8-8a7f17aecef9\",\"subtype\":\"Figure\",\"type\":\"Plot\"},\"ticker\":{\"id\":\"1acb3973-9939-4579-83e0-86e964f5b593\",\"type\":\"CategoricalTicker\"}},\"id\":\"d98f7e83-db9d-49c6-af50-9e915576f0e9\",\"type\":\"CategoricalAxis\"},{\"attributes\":{},\"id\":\"9a63c1d2-da66-4d57-9560-d6917c75ae9c\",\"type\":\"CategoricalTickFormatter\"},{\"attributes\":{\"fill_alpha\":{\"value\":0.1},\"fill_color\":{\"value\":\"#1f77b4\"},\"height\":{\"value\":0.5},\"line_alpha\":{\"value\":0.1},\"line_color\":{\"value\":\"#1f77b4\"},\"right\":{\"field\":\"A_RURAL_H_mean\"},\"y\":{\"field\":\"GRANDES_GRUPOS_DE_EDAD\"}},\"id\":\"e43eec9f-0c7c-46b0-9557-bb2fd1262dbd\",\"type\":\"HBar\"},{\"attributes\":{\"data_source\":{\"id\":\"998b58f5-d6de-429a-bdab-7eec2a9ebdb7\",\"type\":\"ColumnDataSource\"},\"glyph\":{\"id\":\"1fcd2b2a-e1d9-42c7-a83a-1d371d2856fa\",\"type\":\"HBar\"},\"hover_glyph\":null,\"muted_glyph\":null,\"nonselection_glyph\":{\"id\":\"e43eec9f-0c7c-46b0-9557-bb2fd1262dbd\",\"type\":\"HBar\"},\"selection_glyph\":null,\"view\":{\"id\":\"0ac69660-14c9-4154-98ec-6198eeb2bda6\",\"type\":\"CDSView\"}},\"id\":\"d557c7ae-6b47-47b4-abe1-f3106a343956\",\"type\":\"GlyphRenderer\"},{\"attributes\":{\"children\":[{\"id\":\"4a5881d8-1f2f-4285-b56f-420d144a7d1a\",\"type\":\"Row\"}]},\"id\":\"21457c38-d927-44de-bdb0-dd62d38e7cf4\",\"type\":\"Column\"},{\"attributes\":{\"plot\":null,\"text\":\"AREA RURAL - HOMBRES\"},\"id\":\"a98be950-d2a0-4a03-b8f4-d221fbe3b198\",\"type\":\"Title\"},{\"attributes\":{\"callback\":null,\"factors\":[\"15-24 a\\u00f1os\",\"25-39 a\\u00f1os\",\"40-64 a\\u00f1os\",\"65 a\\u00f1os y mas\",\"Total nacional\"]},\"id\":\"e214f2d9-e75c-44f4-96e9-5298f83d560a\",\"type\":\"FactorRange\"},{\"attributes\":{\"fill_color\":{\"value\":\"#F08080\"},\"height\":{\"value\":0.5},\"line_color\":{\"value\":\"#F08080\"},\"right\":{\"field\":\"A_RURAL_H_mean\"},\"y\":{\"field\":\"GRANDES_GRUPOS_DE_EDAD\"}},\"id\":\"1fcd2b2a-e1d9-42c7-a83a-1d371d2856fa\",\"type\":\"HBar\"},{\"attributes\":{},\"id\":\"1e51f082-1f89-4f8f-b0dc-36af7ea82f19\",\"type\":\"BasicTickFormatter\"},{\"attributes\":{\"formatter\":{\"id\":\"53bf9f77-dee9-4224-a40d-123f487bcd2e\",\"type\":\"BasicTickFormatter\"},\"plot\":{\"id\":\"3bbd08e5-a860-4d57-bc7a-5c33400acb2f\",\"subtype\":\"Figure\",\"type\":\"Plot\"},\"ticker\":{\"id\":\"2bc00519-d09b-4154-8604-4983b0d38c38\",\"type\":\"BasicTicker\"}},\"id\":\"f7de0794-f8e4-444d-aebb-c1d1fa381df4\",\"type\":\"LinearAxis\"},{\"attributes\":{\"callback\":null,\"column_names\":[\"A_RURAL_H_count\",\"A_RURAL_H_mean\",\"A_RURAL_H_std\",\"A_RURAL_H_min\",\"A_RURAL_H_25%\",\"A_RURAL_H_50%\",\"A_RURAL_H_75%\",\"A_RURAL_H_max\",\"A_RURAL_M_count\",\"A_RURAL_M_mean\",\"A_RURAL_M_std\",\"A_RURAL_M_min\",\"A_RURAL_M_25%\",\"A_RURAL_M_50%\",\"A_RURAL_M_75%\",\"A_RURAL_M_max\",\"A_URBANA_H_count\",\"A_URBANA_H_mean\",\"A_URBANA_H_std\",\"A_URBANA_H_min\",\"A_URBANA_H_25%\",\"A_URBANA_H_50%\",\"A_URBANA_H_75%\",\"A_URBANA_H_max\",\"A_URBANA_M_count\",\"A_URBANA_M_mean\",\"A_URBANA_M_std\",\"A_URBANA_M_min\",\"A_URBANA_M_25%\",\"A_URBANA_M_50%\",\"A_URBANA_M_75%\",\"A_URBANA_M_max\",\"TOTAL_H_count\",\"TOTAL_H_mean\",\"TOTAL_H_std\",\"TOTAL_H_min\",\"TOTAL_H_25%\",\"TOTAL_H_50%\",\"TOTAL_H_75%\",\"TOTAL_H_max\",\"TOTAL_M_count\",\"TOTAL_M_mean\",\"TOTAL_M_std\",\"TOTAL_M_min\",\"TOTAL_M_25%\",\"TOTAL_M_50%\",\"TOTAL_M_75%\",\"TOTAL_M_max\",\"GRANDES_GRUPOS_DE_EDAD\"],\"data\":{\"A_RURAL_H_25%\":{\"__ndarray__\":\"eOkmMQisnD+JQWDl0CKrP/T91HjpJsE/wMqhRbbz1T+S7Xw/NV66Pw==\",\"dtype\":\"float64\",\"shape\":[5]},\"A_RURAL_H_50%\":{\"__ndarray__\":\"eOkmMQisnD+JQWDl0CKrP/T91HjpJsE/wMqhRbbz1T+S7Xw/NV66Pw==\",\"dtype\":\"float64\",\"shape\":[5]},\"A_RURAL_H_75%\":{\"__ndarray__\":\"eOkmMQisnD+JQWDl0CKrP/T91HjpJsE/wMqhRbbz1T+S7Xw/NV66Pw==\",\"dtype\":\"float64\",\"shape\":[5]},\"A_RURAL_H_count\":{\"__ndarray__\":\"AAAAAAAA8D8AAAAAAADwPwAAAAAAAPA/AAAAAAAA8D8AAAAAAADwPw==\",\"dtype\":\"float64\",\"shape\":[5]},\"A_RURAL_H_max\":{\"__ndarray__\":\"eOkmMQisnD+JQWDl0CKrP/T91HjpJsE/wMqhRbbz1T+S7Xw/NV66Pw==\",\"dtype\":\"float64\",\"shape\":[5]},\"A_RURAL_H_mean\":{\"__ndarray__\":\"eOkmMQisnD+JQWDl0CKrP/T91HjpJsE/wMqhRbbz1T+S7Xw/NV66Pw==\",\"dtype\":\"float64\",\"shape\":[5]},\"A_RURAL_H_min\":{\"__ndarray__\":\"eOkmMQisnD+JQWDl0CKrP/T91HjpJsE/wMqhRbbz1T+S7Xw/NV66Pw==\",\"dtype\":\"float64\",\"shape\":[5]},\"A_RURAL_H_std\":{\"__ndarray__\":\"AAAAAAAA+H8AAAAAAAD4fwAAAAAAAPh/AAAAAAAA+H8AAAAAAAD4fw==\",\"dtype\":\"float64\",\"shape\":[5]},\"A_RURAL_M_25%\":{\"__ndarray__\":\"mpmZmZmZmT946SYxCKysPz0K16NwPco/AyuHFtnO3z+TGARWDi3CPw==\",\"dtype\":\"float64\",\"shape\":[5]},\"A_RURAL_M_50%\":{\"__ndarray__\":\"mpmZmZmZmT946SYxCKysPz0K16NwPco/AyuHFtnO3z+TGARWDi3CPw==\",\"dtype\":\"float64\",\"shape\":[5]},\"A_RURAL_M_75%\":{\"__ndarray__\":\"mpmZmZmZmT946SYxCKysPz0K16NwPco/AyuHFtnO3z+TGARWDi3CPw==\",\"dtype\":\"float64\",\"shape\":[5]},\"A_RURAL_M_count\":{\"__ndarray__\":\"AAAAAAAA8D8AAAAAAADwPwAAAAAAAPA/AAAAAAAA8D8AAAAAAADwPw==\",\"dtype\":\"float64\",\"shape\":[5]},\"A_RURAL_M_max\":{\"__ndarray__\":\"mpmZmZmZmT946SYxCKysPz0K16NwPco/AyuHFtnO3z+TGARWDi3CPw==\",\"dtype\":\"float64\",\"shape\":[5]},\"A_RURAL_M_mean\":{\"__ndarray__\":\"mpmZmZmZmT946SYxCKysPz0K16NwPco/AyuHFtnO3z+TGARWDi3CPw==\",\"dtype\":\"float64\",\"shape\":[5]},\"A_RURAL_M_min\":{\"__ndarray__\":\"mpmZmZmZmT946SYxCKysPz0K16NwPco/AyuHFtnO3z+TGARWDi3CPw==\",\"dtype\":\"float64\",\"shape\":[5]},\"A_RURAL_M_std\":{\"__ndarray__\":\"AAAAAAAA+H8AAAAAAAD4fwAAAAAAAPh/AAAAAAAA+H8AAAAAAAD4fw==\",\"dtype\":\"float64\",\"shape\":[5]},\"A_URBANA_H_25%\":{\"__ndarray__\":\"+n5qvHSTiD8830+Nl26SP9v5fmq8dKM//Knx0k1iwD9YObTIdr6fPw==\",\"dtype\":\"float64\",\"shape\":[5]},\"A_URBANA_H_50%\":{\"__ndarray__\":\"+n5qvHSTiD8830+Nl26SP9v5fmq8dKM//Knx0k1iwD9YObTIdr6fPw==\",\"dtype\":\"float64\",\"shape\":[5]},\"A_URBANA_H_75%\":{\"__ndarray__\":\"+n5qvHSTiD8830+Nl26SP9v5fmq8dKM//Knx0k1iwD9YObTIdr6fPw==\",\"dtype\":\"float64\",\"shape\":[5]},\"A_URBANA_H_count\":{\"__ndarray__\":\"AAAAAAAA8D8AAAAAAADwPwAAAAAAAPA/AAAAAAAA8D8AAAAAAADwPw==\",\"dtype\":\"float64\",\"shape\":[5]},\"A_URBANA_H_max\":{\"__ndarray__\":\"+n5qvHSTiD8830+Nl26SP9v5fmq8dKM//Knx0k1iwD9YObTIdr6fPw==\",\"dtype\":\"float64\",\"shape\":[5]},\"A_URBANA_H_mean\":{\"__ndarray__\":\"+n5qvHSTiD8830+Nl26SP9v5fmq8dKM//Knx0k1iwD9YObTIdr6fPw==\",\"dtype\":\"float64\",\"shape\":[5]},\"A_URBANA_H_min\":{\"__ndarray__\":\"+n5qvHSTiD8830+Nl26SP9v5fmq8dKM//Knx0k1iwD9YObTIdr6fPw==\",\"dtype\":\"float64\",\"shape\":[5]},\"A_URBANA_H_std\":{\"__ndarray__\":\"AAAAAAAA+H8AAAAAAAD4fwAAAAAAAPh/AAAAAAAA+H8AAAAAAAD4fw==\",\"dtype\":\"float64\",\"shape\":[5]},\"A_URBANA_M_25%\":{\"__ndarray__\":\"PN9PjZdugj+cxCCwcmiRP9rO91Pjpas/9ihcj8L1yD9qvHSTGASmPw==\",\"dtype\":\"float64\",\"shape\":[5]},\"A_URBANA_M_50%\":{\"__ndarray__\":\"PN9PjZdugj+cxCCwcmiRP9rO91Pjpas/9ihcj8L1yD9qvHSTGASmPw==\",\"dtype\":\"float64\",\"shape\":[5]},\"A_URBANA_M_75%\":{\"__ndarray__\":\"PN9PjZdugj+cxCCwcmiRP9rO91Pjpas/9ihcj8L1yD9qvHSTGASmPw==\",\"dtype\":\"float64\",\"shape\":[5]},\"A_URBANA_M_count\":{\"__ndarray__\":\"AAAAAAAA8D8AAAAAAADwPwAAAAAAAPA/AAAAAAAA8D8AAAAAAADwPw==\",\"dtype\":\"float64\",\"shape\":[5]},\"A_URBANA_M_max\":{\"__ndarray__\":\"PN9PjZdugj+cxCCwcmiRP9rO91Pjpas/9ihcj8L1yD9qvHSTGASmPw==\",\"dtype\":\"float64\",\"shape\":[5]},\"A_URBANA_M_mean\":{\"__ndarray__\":\"PN9PjZdugj+cxCCwcmiRP9rO91Pjpas/9ihcj8L1yD9qvHSTGASmPw==\",\"dtype\":\"float64\",\"shape\":[5]},\"A_URBANA_M_min\":{\"__ndarray__\":\"PN9PjZdugj+cxCCwcmiRP9rO91Pjpas/9ihcj8L1yD9qvHSTGASmPw==\",\"dtype\":\"float64\",\"shape\":[5]},\"A_URBANA_M_std\":{\"__ndarray__\":\"AAAAAAAA+H8AAAAAAAD4fwAAAAAAAPh/AAAAAAAA+H8AAAAAAAD4fw==\",\"dtype\":\"float64\",\"shape\":[5]},\"GRANDES_GRUPOS_DE_EDAD\":[\"15-24 a\\u00f1os\",\"25-39 a\\u00f1os\",\"40-64 a\\u00f1os\",\"65 a\\u00f1os y mas\",\"Total nacional\"],\"TOTAL_H_25%\":{\"__ndarray__\":\"PN9PjZdukj+4HoXrUbiePzzfT42XbrI/eOkmMQiszD8YBFYOLbKtPw==\",\"dtype\":\"float64\",\"shape\":[5]},\"TOTAL_H_50%\":{\"__ndarray__\":\"PN9PjZdukj+4HoXrUbiePzzfT42XbrI/eOkmMQiszD8YBFYOLbKtPw==\",\"dtype\":\"float64\",\"shape\":[5]},\"TOTAL_H_75%\":{\"__ndarray__\":\"PN9PjZdukj+4HoXrUbiePzzfT42XbrI/eOkmMQiszD8YBFYOLbKtPw==\",\"dtype\":\"float64\",\"shape\":[5]},\"TOTAL_H_count\":{\"__ndarray__\":\"AAAAAAAA8D8AAAAAAADwPwAAAAAAAPA/AAAAAAAA8D8AAAAAAADwPw==\",\"dtype\":\"float64\",\"shape\":[5]},\"TOTAL_H_max\":{\"__ndarray__\":\"PN9PjZdukj+4HoXrUbiePzzfT42XbrI/eOkmMQiszD8YBFYOLbKtPw==\",\"dtype\":\"float64\",\"shape\":[5]},\"TOTAL_H_mean\":{\"__ndarray__\":\"PN9PjZdukj+4HoXrUbiePzzfT42XbrI/eOkmMQiszD8YBFYOLbKtPw==\",\"dtype\":\"float64\",\"shape\":[5]},\"TOTAL_H_min\":{\"__ndarray__\":\"PN9PjZdukj+4HoXrUbiePzzfT42XbrI/eOkmMQiszD8YBFYOLbKtPw==\",\"dtype\":\"float64\",\"shape\":[5]},\"TOTAL_H_std\":{\"__ndarray__\":\"AAAAAAAA+H8AAAAAAAD4fwAAAAAAAPh/AAAAAAAA+H8AAAAAAAD4fw==\",\"dtype\":\"float64\",\"shape\":[5]},\"TOTAL_M_25%\":{\"__ndarray__\":\"uB6F61G4jj+4HoXrUbiePzq0yHa+n7o/001iEFg51D+DwMqhRbazPw==\",\"dtype\":\"float64\",\"shape\":[5]},\"TOTAL_M_50%\":{\"__ndarray__\":\"uB6F61G4jj+4HoXrUbiePzq0yHa+n7o/001iEFg51D+DwMqhRbazPw==\",\"dtype\":\"float64\",\"shape\":[5]},\"TOTAL_M_75%\":{\"__ndarray__\":\"uB6F61G4jj+4HoXrUbiePzq0yHa+n7o/001iEFg51D+DwMqhRbazPw==\",\"dtype\":\"float64\",\"shape\":[5]},\"TOTAL_M_count\":{\"__ndarray__\":\"AAAAAAAA8D8AAAAAAADwPwAAAAAAAPA/AAAAAAAA8D8AAAAAAADwPw==\",\"dtype\":\"float64\",\"shape\":[5]},\"TOTAL_M_max\":{\"__ndarray__\":\"uB6F61G4jj+4HoXrUbiePzq0yHa+n7o/001iEFg51D+DwMqhRbazPw==\",\"dtype\":\"float64\",\"shape\":[5]},\"TOTAL_M_mean\":{\"__ndarray__\":\"uB6F61G4jj+4HoXrUbiePzq0yHa+n7o/001iEFg51D+DwMqhRbazPw==\",\"dtype\":\"float64\",\"shape\":[5]},\"TOTAL_M_min\":{\"__ndarray__\":\"uB6F61G4jj+4HoXrUbiePzq0yHa+n7o/001iEFg51D+DwMqhRbazPw==\",\"dtype\":\"float64\",\"shape\":[5]},\"TOTAL_M_std\":{\"__ndarray__\":\"AAAAAAAA+H8AAAAAAAD4fwAAAAAAAPh/AAAAAAAA+H8AAAAAAAD4fw==\",\"dtype\":\"float64\",\"shape\":[5]}}},\"id\":\"998b58f5-d6de-429a-bdab-7eec2a9ebdb7\",\"type\":\"ColumnDataSource\"},{\"attributes\":{},\"id\":\"36bd4268-4556-47f6-8d7a-c81c2ff37acd\",\"type\":\"LinearScale\"},{\"attributes\":{\"plot\":{\"id\":\"8126948b-190e-4746-92f8-8a7f17aecef9\",\"subtype\":\"Figure\",\"type\":\"Plot\"},\"ticker\":{\"id\":\"908ee829-b833-4b9c-a3ce-077386261b9e\",\"type\":\"BasicTicker\"}},\"id\":\"35df4eeb-7cbd-477d-a0f7-d719bf185681\",\"type\":\"Grid\"},{\"attributes\":{\"sizing_mode\":\"scale_width\",\"toolbar_location\":\"above\",\"tools\":[{\"id\":\"92390b73-07b4-4f3e-9023-d0d3d95ce612\",\"type\":\"PanTool\"},{\"id\":\"b55f6c49-0097-412b-852b-24424926f852\",\"type\":\"WheelZoomTool\"},{\"id\":\"fb5c3e14-3730-44cb-a13c-92e108c0bc71\",\"type\":\"BoxZoomTool\"},{\"id\":\"5406b882-d5ef-4279-bddd-900773903096\",\"type\":\"ResetTool\"},{\"id\":\"7579b5cf-cc52-408a-a078-f575db880718\",\"type\":\"PanTool\"},{\"id\":\"77b9dd5f-e355-4671-9743-7090b58a5d55\",\"type\":\"WheelZoomTool\"},{\"id\":\"38d3c5e1-f7cd-4153-8463-2fadbcf011d8\",\"type\":\"BoxZoomTool\"},{\"id\":\"6b715999-e1f4-4acb-9e75-22e2cade1ab7\",\"type\":\"ResetTool\"}]},\"id\":\"7486a080-706c-4915-9e23-1cd6a7499f6f\",\"type\":\"ToolbarBox\"},{\"attributes\":{},\"id\":\"b55f6c49-0097-412b-852b-24424926f852\",\"type\":\"WheelZoomTool\"},{\"attributes\":{},\"id\":\"92390b73-07b4-4f3e-9023-d0d3d95ce612\",\"type\":\"PanTool\"},{\"attributes\":{},\"id\":\"0f89d4c5-a015-41b8-8726-4c53a1932fec\",\"type\":\"CategoricalScale\"},{\"attributes\":{\"below\":[{\"id\":\"7ce83d6d-f487-4fe9-bbe6-bad4e43d6922\",\"type\":\"LinearAxis\"}],\"left\":[{\"id\":\"d98f7e83-db9d-49c6-af50-9e915576f0e9\",\"type\":\"CategoricalAxis\"}],\"plot_height\":450,\"plot_width\":480,\"renderers\":[{\"id\":\"7ce83d6d-f487-4fe9-bbe6-bad4e43d6922\",\"type\":\"LinearAxis\"},{\"id\":\"35df4eeb-7cbd-477d-a0f7-d719bf185681\",\"type\":\"Grid\"},{\"id\":\"d98f7e83-db9d-49c6-af50-9e915576f0e9\",\"type\":\"CategoricalAxis\"},{\"id\":\"6c5962b4-c63f-4bcf-be78-b2763b27e8ae\",\"type\":\"Grid\"},{\"id\":\"7eaebce7-9567-484c-b5e0-901b414a284a\",\"type\":\"BoxAnnotation\"},{\"id\":\"d557c7ae-6b47-47b4-abe1-f3106a343956\",\"type\":\"GlyphRenderer\"}],\"title\":{\"id\":\"a98be950-d2a0-4a03-b8f4-d221fbe3b198\",\"type\":\"Title\"},\"toolbar\":{\"id\":\"f3868962-3a2e-484a-a3ef-634cfa167869\",\"type\":\"Toolbar\"},\"toolbar_location\":null,\"x_range\":{\"id\":\"4808b1a3-c9e0-44ef-937e-b029db055ec8\",\"type\":\"DataRange1d\"},\"x_scale\":{\"id\":\"3330cad1-f36b-4782-8550-035868432ed1\",\"type\":\"LinearScale\"},\"y_range\":{\"id\":\"e214f2d9-e75c-44f4-96e9-5298f83d560a\",\"type\":\"FactorRange\"},\"y_scale\":{\"id\":\"0f89d4c5-a015-41b8-8726-4c53a1932fec\",\"type\":\"CategoricalScale\"}},\"id\":\"8126948b-190e-4746-92f8-8a7f17aecef9\",\"subtype\":\"Figure\",\"type\":\"Plot\"},{\"attributes\":{\"children\":[{\"id\":\"7486a080-706c-4915-9e23-1cd6a7499f6f\",\"type\":\"ToolbarBox\"},{\"id\":\"21457c38-d927-44de-bdb0-dd62d38e7cf4\",\"type\":\"Column\"}]},\"id\":\"52c592fd-b3d3-4ba5-97d7-aeb0a26d24d9\",\"type\":\"Column\"},{\"attributes\":{\"active_drag\":\"auto\",\"active_inspect\":\"auto\",\"active_scroll\":\"auto\",\"active_tap\":\"auto\",\"tools\":[{\"id\":\"7579b5cf-cc52-408a-a078-f575db880718\",\"type\":\"PanTool\"},{\"id\":\"77b9dd5f-e355-4671-9743-7090b58a5d55\",\"type\":\"WheelZoomTool\"},{\"id\":\"38d3c5e1-f7cd-4153-8463-2fadbcf011d8\",\"type\":\"BoxZoomTool\"},{\"id\":\"6b715999-e1f4-4acb-9e75-22e2cade1ab7\",\"type\":\"ResetTool\"}]},\"id\":\"f3868962-3a2e-484a-a3ef-634cfa167869\",\"type\":\"Toolbar\"},{\"attributes\":{\"bottom_units\":\"screen\",\"fill_alpha\":{\"value\":0.5},\"fill_color\":{\"value\":\"lightgrey\"},\"left_units\":\"screen\",\"level\":\"overlay\",\"line_alpha\":{\"value\":1.0},\"line_color\":{\"value\":\"black\"},\"line_dash\":[4,4],\"line_width\":{\"value\":2},\"plot\":null,\"render_mode\":\"css\",\"right_units\":\"screen\",\"top_units\":\"screen\"},\"id\":\"df7d9033-d0b2-4d66-b3b4-f5b0349e0e52\",\"type\":\"BoxAnnotation\"},{\"attributes\":{\"callback\":null,\"factors\":[\"15-24 a\\u00f1os\",\"25-39 a\\u00f1os\",\"40-64 a\\u00f1os\",\"65 a\\u00f1os y mas\",\"Total nacional\"]},\"id\":\"568ca81e-fbcc-49be-9fca-3e2b69b8e156\",\"type\":\"FactorRange\"},{\"attributes\":{\"fill_alpha\":{\"value\":0.1},\"fill_color\":{\"value\":\"#1f77b4\"},\"height\":{\"value\":0.5},\"line_alpha\":{\"value\":0.1},\"line_color\":{\"value\":\"#1f77b4\"},\"right\":{\"field\":\"A_RURAL_M_mean\"},\"y\":{\"field\":\"GRANDES_GRUPOS_DE_EDAD\"}},\"id\":\"95dade73-874a-4d03-bd6b-2477cb54d553\",\"type\":\"HBar\"},{\"attributes\":{\"fill_color\":{\"value\":\"#82B1FF\"},\"height\":{\"value\":0.5},\"line_color\":{\"value\":\"#82B1FF\"},\"right\":{\"field\":\"A_RURAL_M_mean\"},\"y\":{\"field\":\"GRANDES_GRUPOS_DE_EDAD\"}},\"id\":\"eca25287-8602-4f1e-ac30-da28c1def6d2\",\"type\":\"HBar\"},{\"attributes\":{},\"id\":\"3dd9fe97-1626-4e82-9c54-85c7be0f7275\",\"type\":\"CategoricalTicker\"},{\"attributes\":{\"bottom_units\":\"screen\",\"fill_alpha\":{\"value\":0.5},\"fill_color\":{\"value\":\"lightgrey\"},\"left_units\":\"screen\",\"level\":\"overlay\",\"line_alpha\":{\"value\":1.0},\"line_color\":{\"value\":\"black\"},\"line_dash\":[4,4],\"line_width\":{\"value\":2},\"plot\":null,\"render_mode\":\"css\",\"right_units\":\"screen\",\"top_units\":\"screen\"},\"id\":\"7eaebce7-9567-484c-b5e0-901b414a284a\",\"type\":\"BoxAnnotation\"},{\"attributes\":{\"plot\":{\"id\":\"3bbd08e5-a860-4d57-bc7a-5c33400acb2f\",\"subtype\":\"Figure\",\"type\":\"Plot\"},\"ticker\":{\"id\":\"2bc00519-d09b-4154-8604-4983b0d38c38\",\"type\":\"BasicTicker\"}},\"id\":\"8df82ec9-0f1a-4b5f-88f6-e5831297e405\",\"type\":\"Grid\"},{\"attributes\":{},\"id\":\"55968619-be0b-45be-a4fa-23d3fc78f43c\",\"type\":\"CategoricalTickFormatter\"},{\"attributes\":{},\"id\":\"6b715999-e1f4-4acb-9e75-22e2cade1ab7\",\"type\":\"ResetTool\"},{\"attributes\":{},\"id\":\"600ff9d1-0650-49a2-890a-c647e2a86756\",\"type\":\"CategoricalScale\"},{\"attributes\":{\"callback\":null},\"id\":\"4808b1a3-c9e0-44ef-937e-b029db055ec8\",\"type\":\"DataRange1d\"},{\"attributes\":{\"source\":{\"id\":\"998b58f5-d6de-429a-bdab-7eec2a9ebdb7\",\"type\":\"ColumnDataSource\"}},\"id\":\"1498c60b-e441-4112-a6fa-36a61e2226fd\",\"type\":\"CDSView\"},{\"attributes\":{\"formatter\":{\"id\":\"55968619-be0b-45be-a4fa-23d3fc78f43c\",\"type\":\"CategoricalTickFormatter\"},\"plot\":{\"id\":\"3bbd08e5-a860-4d57-bc7a-5c33400acb2f\",\"subtype\":\"Figure\",\"type\":\"Plot\"},\"ticker\":{\"id\":\"3dd9fe97-1626-4e82-9c54-85c7be0f7275\",\"type\":\"CategoricalTicker\"}},\"id\":\"d468b366-117a-4587-9c10-edea7e13ab72\",\"type\":\"CategoricalAxis\"},{\"attributes\":{},\"id\":\"7579b5cf-cc52-408a-a078-f575db880718\",\"type\":\"PanTool\"},{\"attributes\":{\"below\":[{\"id\":\"f7de0794-f8e4-444d-aebb-c1d1fa381df4\",\"type\":\"LinearAxis\"}],\"left\":[{\"id\":\"d468b366-117a-4587-9c10-edea7e13ab72\",\"type\":\"CategoricalAxis\"}],\"plot_height\":450,\"plot_width\":480,\"renderers\":[{\"id\":\"f7de0794-f8e4-444d-aebb-c1d1fa381df4\",\"type\":\"LinearAxis\"},{\"id\":\"8df82ec9-0f1a-4b5f-88f6-e5831297e405\",\"type\":\"Grid\"},{\"id\":\"d468b366-117a-4587-9c10-edea7e13ab72\",\"type\":\"CategoricalAxis\"},{\"id\":\"cf2e4f05-47eb-4db8-9616-271f4bdaa49a\",\"type\":\"Grid\"},{\"id\":\"df7d9033-d0b2-4d66-b3b4-f5b0349e0e52\",\"type\":\"BoxAnnotation\"},{\"id\":\"bcffc899-c8b5-47f9-a0f8-b47a15dd8510\",\"type\":\"GlyphRenderer\"}],\"title\":{\"id\":\"0298f057-578c-4aa8-b0b8-4f2de19a4e3a\",\"type\":\"Title\"},\"toolbar\":{\"id\":\"0ff75384-af3d-42ae-ac68-4473f319bbc4\",\"type\":\"Toolbar\"},\"toolbar_location\":null,\"x_range\":{\"id\":\"f288ceaa-efa7-4132-91cb-7a2874f192ba\",\"type\":\"DataRange1d\"},\"x_scale\":{\"id\":\"36bd4268-4556-47f6-8d7a-c81c2ff37acd\",\"type\":\"LinearScale\"},\"y_range\":{\"id\":\"568ca81e-fbcc-49be-9fca-3e2b69b8e156\",\"type\":\"FactorRange\"},\"y_scale\":{\"id\":\"600ff9d1-0650-49a2-890a-c647e2a86756\",\"type\":\"CategoricalScale\"}},\"id\":\"3bbd08e5-a860-4d57-bc7a-5c33400acb2f\",\"subtype\":\"Figure\",\"type\":\"Plot\"},{\"attributes\":{\"dimension\":1,\"plot\":{\"id\":\"3bbd08e5-a860-4d57-bc7a-5c33400acb2f\",\"subtype\":\"Figure\",\"type\":\"Plot\"},\"ticker\":{\"id\":\"3dd9fe97-1626-4e82-9c54-85c7be0f7275\",\"type\":\"CategoricalTicker\"}},\"id\":\"cf2e4f05-47eb-4db8-9616-271f4bdaa49a\",\"type\":\"Grid\"},{\"attributes\":{},\"id\":\"2bc00519-d09b-4154-8604-4983b0d38c38\",\"type\":\"BasicTicker\"},{\"attributes\":{\"overlay\":{\"id\":\"7eaebce7-9567-484c-b5e0-901b414a284a\",\"type\":\"BoxAnnotation\"}},\"id\":\"38d3c5e1-f7cd-4153-8463-2fadbcf011d8\",\"type\":\"BoxZoomTool\"},{\"attributes\":{\"source\":{\"id\":\"998b58f5-d6de-429a-bdab-7eec2a9ebdb7\",\"type\":\"ColumnDataSource\"}},\"id\":\"0ac69660-14c9-4154-98ec-6198eeb2bda6\",\"type\":\"CDSView\"},{\"attributes\":{\"dimension\":1,\"plot\":{\"id\":\"8126948b-190e-4746-92f8-8a7f17aecef9\",\"subtype\":\"Figure\",\"type\":\"Plot\"},\"ticker\":{\"id\":\"1acb3973-9939-4579-83e0-86e964f5b593\",\"type\":\"CategoricalTicker\"}},\"id\":\"6c5962b4-c63f-4bcf-be78-b2763b27e8ae\",\"type\":\"Grid\"},{\"attributes\":{\"overlay\":{\"id\":\"df7d9033-d0b2-4d66-b3b4-f5b0349e0e52\",\"type\":\"BoxAnnotation\"}},\"id\":\"fb5c3e14-3730-44cb-a13c-92e108c0bc71\",\"type\":\"BoxZoomTool\"}],\"root_ids\":[\"52c592fd-b3d3-4ba5-97d7-aeb0a26d24d9\"]},\"title\":\"Bokeh Application\",\"version\":\"0.12.10\"}};\n",
       "    var render_items = [{\"docid\":\"ce8c159e-d87e-447b-a439-eaf86e838f36\",\"elementid\":\"221e3c9e-fa97-4c33-ae58-1a6457792f8c\",\"modelid\":\"52c592fd-b3d3-4ba5-97d7-aeb0a26d24d9\"}];\n",
       "\n",
       "    root.Bokeh.embed.embed_items(docs_json, render_items);\n",
       "  }\n",
       "\n",
       "  if (root.Bokeh !== undefined) {\n",
       "    embed_document(root);\n",
       "  } else {\n",
       "    var attempts = 0;\n",
       "    var timer = setInterval(function(root) {\n",
       "      if (root.Bokeh !== undefined) {\n",
       "        embed_document(root);\n",
       "        clearInterval(timer);\n",
       "      }\n",
       "      attempts++;\n",
       "      if (attempts > 100) {\n",
       "        console.log(\"Bokeh: ERROR: Unable to embed document because BokehJS library is missing\")\n",
       "        clearInterval(timer);\n",
       "      }\n",
       "    }, 10, root)\n",
       "  }\n",
       "})(window);"
      ],
      "application/vnd.bokehjs_exec.v0+json": ""
     },
     "metadata": {
      "application/vnd.bokehjs_exec.v0+json": {
       "id": "52c592fd-b3d3-4ba5-97d7-aeb0a26d24d9"
      }
     },
     "output_type": "display_data"
    }
   ],
   "source": [
    "from bokeh.layouts import gridplot\n",
    "\n",
    "group1 = tabla1.groupby('GRANDES_GRUPOS_DE_EDAD')\n",
    "\n",
    "source = ColumnDataSource(group1)\n",
    "\n",
    "options = dict(plot_width=480, plot_height=450, y_range=group1, tools=\"pan,wheel_zoom,box_zoom,reset\")\n",
    "\n",
    "# Creamos dos objetos figuras uno para mujeres y otro para hombres\n",
    "graph1 = figure(title='AREA RURAL - MUJERES', **options)\n",
    "graph2 = figure(title='AREA RURAL - HOMBRES',**options)\n",
    "\n",
    "\n",
    "graph1.hbar(\n",
    "    y='GRANDES_GRUPOS_DE_EDAD',  # Establecemos los valores de y\n",
    "    right='A_RURAL_M_mean', # Establecemos los valores de x\n",
    "    height = 0.5, # El tamaño  de las barras\n",
    "    left = 0, # EL comienzo para presentar los valores de x\n",
    "    color=\"#82B1FF\", # Color de la barra \n",
    "    source=source\n",
    ")\n",
    "\n",
    "graph2.hbar(y='GRANDES_GRUPOS_DE_EDAD', right='A_RURAL_H_mean', height=0.5, left=0, color=\"#F08080\", source=source)\n",
    "\n",
    "# Creamos una nueva figura que esta compuesta por las dos figuras creadas anteriormente\n",
    "graph = gridplot([[graph1, graph2]])\n",
    "\n",
    "# Mostramos los resultados\n",
    "show(graph)"
   ]
  },
  {
   "cell_type": "code",
   "execution_count": null,
   "metadata": {
    "collapsed": true
   },
   "outputs": [],
   "source": []
  }
 ],
 "metadata": {
  "kernelspec": {
   "display_name": "Python 3",
   "language": "python",
   "name": "python3"
  },
  "language_info": {
   "codemirror_mode": {
    "name": "ipython",
    "version": 3
   },
   "file_extension": ".py",
   "mimetype": "text/x-python",
   "name": "python",
   "nbconvert_exporter": "python",
   "pygments_lexer": "ipython3",
   "version": "3.6.3"
  }
 },
 "nbformat": 4,
 "nbformat_minor": 2
}
