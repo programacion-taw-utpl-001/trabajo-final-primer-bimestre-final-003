{
 "cells": [
  {
   "cell_type": "markdown",
   "metadata": {},
   "source": [
    "<h1 style=\"text-align:center\">Trabajo Final - Primer Bimestre</h1>\n",
    "***\n",
    "* **Manejo y Visualización de Datos con Python**\n",
    "***\n",
    "Para la realización del presente trabajo se llevo a cabo la obtención de los datos estadísticos enfocados en el tema de **Hombres y Mujeres en el Ecuador** extraidos de [Ecuador en Cifras](http://www.ecuadorencifras.gob.ec/estadisticas/).\n",
    "\n",
    "Librerías en python a utilizar: **jupyter, pandas, bokeh.**\n",
    "\n",
    "Autores : **Jorge Hurtado - Jonathan Rosero**\n"
   ]
  },
  {
   "cell_type": "code",
   "execution_count": 5,
   "metadata": {
    "collapsed": true
   },
   "outputs": [],
   "source": [
    "# Se inicia con la importacion de pandas con un respectivo alias para facilitar su llamada\n",
    "import pandas as pd"
   ]
  },
  {
   "cell_type": "code",
   "execution_count": 6,
   "metadata": {
    "scrolled": true
   },
   "outputs": [
    {
     "data": {
      "text/html": [
       "<div>\n",
       "<style>\n",
       "    .dataframe thead tr:only-child th {\n",
       "        text-align: right;\n",
       "    }\n",
       "\n",
       "    .dataframe thead th {\n",
       "        text-align: left;\n",
       "    }\n",
       "\n",
       "    .dataframe tbody tr th {\n",
       "        vertical-align: top;\n",
       "    }\n",
       "</style>\n",
       "<table border=\"1\" class=\"dataframe\">\n",
       "  <thead>\n",
       "    <tr style=\"text-align: right;\">\n",
       "      <th></th>\n",
       "      <th>GRANDES_GRUPOS_DE_EDAD</th>\n",
       "      <th>A_URBANA_M</th>\n",
       "      <th>A_URBANA_H</th>\n",
       "      <th>A_RURAL_M</th>\n",
       "      <th>A_RURAL_H</th>\n",
       "      <th>TOTAL_M</th>\n",
       "      <th>TOTAL_H</th>\n",
       "    </tr>\n",
       "  </thead>\n",
       "  <tbody>\n",
       "    <tr>\n",
       "      <th>0</th>\n",
       "      <td>15-24 años</td>\n",
       "      <td>0.9</td>\n",
       "      <td>1.2</td>\n",
       "      <td>2.5</td>\n",
       "      <td>2.8</td>\n",
       "      <td>1.5</td>\n",
       "      <td>1.8</td>\n",
       "    </tr>\n",
       "    <tr>\n",
       "      <th>1</th>\n",
       "      <td>25-39 años</td>\n",
       "      <td>1.7</td>\n",
       "      <td>1.8</td>\n",
       "      <td>5.6</td>\n",
       "      <td>5.3</td>\n",
       "      <td>3.0</td>\n",
       "      <td>3.0</td>\n",
       "    </tr>\n",
       "    <tr>\n",
       "      <th>2</th>\n",
       "      <td>40-64 años</td>\n",
       "      <td>5.4</td>\n",
       "      <td>3.8</td>\n",
       "      <td>20.5</td>\n",
       "      <td>13.4</td>\n",
       "      <td>10.4</td>\n",
       "      <td>7.2</td>\n",
       "    </tr>\n",
       "    <tr>\n",
       "      <th>3</th>\n",
       "      <td>65 años y mas</td>\n",
       "      <td>19.5</td>\n",
       "      <td>12.8</td>\n",
       "      <td>49.7</td>\n",
       "      <td>34.3</td>\n",
       "      <td>31.6</td>\n",
       "      <td>22.4</td>\n",
       "    </tr>\n",
       "    <tr>\n",
       "      <th>4</th>\n",
       "      <td>Total nacional</td>\n",
       "      <td>4.3</td>\n",
       "      <td>3.1</td>\n",
       "      <td>14.2</td>\n",
       "      <td>10.3</td>\n",
       "      <td>7.7</td>\n",
       "      <td>5.8</td>\n",
       "    </tr>\n",
       "  </tbody>\n",
       "</table>\n",
       "</div>"
      ],
      "text/plain": [
       "  GRANDES_GRUPOS_DE_EDAD  A_URBANA_M  A_URBANA_H  A_RURAL_M  A_RURAL_H  \\\n",
       "0             15-24 años         0.9         1.2        2.5        2.8   \n",
       "1             25-39 años         1.7         1.8        5.6        5.3   \n",
       "2             40-64 años         5.4         3.8       20.5       13.4   \n",
       "3          65 años y mas        19.5        12.8       49.7       34.3   \n",
       "4         Total nacional         4.3         3.1       14.2       10.3   \n",
       "\n",
       "   TOTAL_M  TOTAL_H  \n",
       "0      1.5      1.8  \n",
       "1      3.0      3.0  \n",
       "2     10.4      7.2  \n",
       "3     31.6     22.4  \n",
       "4      7.7      5.8  "
      ]
     },
     "execution_count": 6,
     "metadata": {},
     "output_type": "execute_result"
    }
   ],
   "source": [
    "# Con el uso de \".read_csv\" leemos el archivo con lo datos extraidos de EcuadorEnCifras\n",
    "pd.read_csv('./data/ANALFABETISMO_POR_AREA_Y_GRUPOS_DE_EDAD.csv')"
   ]
  },
  {
   "cell_type": "code",
   "execution_count": 7,
   "metadata": {
    "collapsed": true
   },
   "outputs": [],
   "source": [
    "# Como se va ha trabajar con el con los datos presentados anteriomente los guardamos en una variable\n",
    "tabla1 = pd.read_csv('./data/ANALFABETISMO_POR_AREA_Y_GRUPOS_DE_EDAD.csv')"
   ]
  },
  {
   "cell_type": "code",
   "execution_count": 8,
   "metadata": {},
   "outputs": [
    {
     "data": {
      "text/plain": [
       "pandas.core.frame.DataFrame"
      ]
     },
     "execution_count": 8,
     "metadata": {},
     "output_type": "execute_result"
    }
   ],
   "source": [
    "# Cabe mencionar el tipo de objeto de \"tabla1\" por lo que usaremos los atributos y metodos para explorar entre los datos\n",
    "type(tabla1)"
   ]
  },
  {
   "cell_type": "code",
   "execution_count": 9,
   "metadata": {},
   "outputs": [
    {
     "data": {
      "text/html": [
       "<div>\n",
       "<style>\n",
       "    .dataframe thead tr:only-child th {\n",
       "        text-align: right;\n",
       "    }\n",
       "\n",
       "    .dataframe thead th {\n",
       "        text-align: left;\n",
       "    }\n",
       "\n",
       "    .dataframe tbody tr th {\n",
       "        vertical-align: top;\n",
       "    }\n",
       "</style>\n",
       "<table border=\"1\" class=\"dataframe\">\n",
       "  <thead>\n",
       "    <tr style=\"text-align: right;\">\n",
       "      <th></th>\n",
       "      <th>GRANDES_GRUPOS_DE_EDAD</th>\n",
       "      <th>A_URBANA_M</th>\n",
       "      <th>A_URBANA_H</th>\n",
       "    </tr>\n",
       "  </thead>\n",
       "  <tbody>\n",
       "    <tr>\n",
       "      <th>0</th>\n",
       "      <td>15-24 años</td>\n",
       "      <td>0.9</td>\n",
       "      <td>1.2</td>\n",
       "    </tr>\n",
       "    <tr>\n",
       "      <th>1</th>\n",
       "      <td>25-39 años</td>\n",
       "      <td>1.7</td>\n",
       "      <td>1.8</td>\n",
       "    </tr>\n",
       "    <tr>\n",
       "      <th>2</th>\n",
       "      <td>40-64 años</td>\n",
       "      <td>5.4</td>\n",
       "      <td>3.8</td>\n",
       "    </tr>\n",
       "    <tr>\n",
       "      <th>3</th>\n",
       "      <td>65 años y mas</td>\n",
       "      <td>19.5</td>\n",
       "      <td>12.8</td>\n",
       "    </tr>\n",
       "    <tr>\n",
       "      <th>4</th>\n",
       "      <td>Total nacional</td>\n",
       "      <td>4.3</td>\n",
       "      <td>3.1</td>\n",
       "    </tr>\n",
       "  </tbody>\n",
       "</table>\n",
       "</div>"
      ],
      "text/plain": [
       "  GRANDES_GRUPOS_DE_EDAD  A_URBANA_M  A_URBANA_H\n",
       "0             15-24 años         0.9         1.2\n",
       "1             25-39 años         1.7         1.8\n",
       "2             40-64 años         5.4         3.8\n",
       "3          65 años y mas        19.5        12.8\n",
       "4         Total nacional         4.3         3.1"
      ]
     },
     "execution_count": 9,
     "metadata": {},
     "output_type": "execute_result"
    }
   ],
   "source": [
    "# Pandas nos permite trabajar con subconjunto en caso de tener una tabla dividida bajo ciertos parametros\n",
    "tabla1[['GRANDES_GRUPOS_DE_EDAD', 'A_URBANA_M', 'A_URBANA_H']]"
   ]
  },
  {
   "cell_type": "code",
   "execution_count": 10,
   "metadata": {},
   "outputs": [
    {
     "data": {
      "text/html": [
       "<div>\n",
       "<style>\n",
       "    .dataframe thead tr:only-child th {\n",
       "        text-align: right;\n",
       "    }\n",
       "\n",
       "    .dataframe thead th {\n",
       "        text-align: left;\n",
       "    }\n",
       "\n",
       "    .dataframe tbody tr th {\n",
       "        vertical-align: top;\n",
       "    }\n",
       "</style>\n",
       "<table border=\"1\" class=\"dataframe\">\n",
       "  <thead>\n",
       "    <tr style=\"text-align: right;\">\n",
       "      <th></th>\n",
       "      <th>GRANDES_GRUPOS_DE_EDAD</th>\n",
       "      <th>A_URBANA_M</th>\n",
       "      <th>A_URBANA_H</th>\n",
       "      <th>A_RURAL_M</th>\n",
       "      <th>A_RURAL_H</th>\n",
       "      <th>TOTAL_M</th>\n",
       "      <th>TOTAL_H</th>\n",
       "    </tr>\n",
       "  </thead>\n",
       "  <tbody>\n",
       "    <tr>\n",
       "      <th>2</th>\n",
       "      <td>40-64 años</td>\n",
       "      <td>5.4</td>\n",
       "      <td>3.8</td>\n",
       "      <td>20.5</td>\n",
       "      <td>13.4</td>\n",
       "      <td>10.4</td>\n",
       "      <td>7.2</td>\n",
       "    </tr>\n",
       "  </tbody>\n",
       "</table>\n",
       "</div>"
      ],
      "text/plain": [
       "  GRANDES_GRUPOS_DE_EDAD  A_URBANA_M  A_URBANA_H  A_RURAL_M  A_RURAL_H  \\\n",
       "2             40-64 años         5.4         3.8       20.5       13.4   \n",
       "\n",
       "   TOTAL_M  TOTAL_H  \n",
       "2     10.4      7.2  "
      ]
     },
     "execution_count": 10,
     "metadata": {},
     "output_type": "execute_result"
    }
   ],
   "source": [
    "# A la vez que podemso buscar un dato en especifico\n",
    "tabla1.loc[tabla1.GRANDES_GRUPOS_DE_EDAD == '40-64 años']"
   ]
  },
  {
   "cell_type": "code",
   "execution_count": 11,
   "metadata": {},
   "outputs": [
    {
     "data": {
      "text/plain": [
       "6.36"
      ]
     },
     "execution_count": 11,
     "metadata": {},
     "output_type": "execute_result"
    }
   ],
   "source": [
    "# También podemos utilizar funciones propias de pandas, en este caso sacamos la media con el uso de \".mean()\"\n",
    "mediaUrbanaM = tabla1.A_URBANA_M.mean()\n",
    "mediaUrbanaM"
   ]
  },
  {
   "cell_type": "code",
   "execution_count": 12,
   "metadata": {},
   "outputs": [
    {
     "data": {
      "text/plain": [
       "GRANDES_GRUPOS_DE_EDAD\n",
       "15-24 años         1.5\n",
       "25-39 años         3.0\n",
       "40-64 años        10.4\n",
       "65 años y mas     31.6\n",
       "Total nacional     7.7\n",
       "Name: TOTAL_M, dtype: float64"
      ]
     },
     "execution_count": 12,
     "metadata": {},
     "output_type": "execute_result"
    }
   ],
   "source": [
    "# Podemos agrupar los datos por columnas\n",
    "tabla1.groupby('GRANDES_GRUPOS_DE_EDAD')['TOTAL_M'].mean()"
   ]
  },
  {
   "cell_type": "code",
   "execution_count": 13,
   "metadata": {},
   "outputs": [
    {
     "data": {
      "text/plain": [
       "<matplotlib.axes._subplots.AxesSubplot at 0x2bef6008160>"
      ]
     },
     "execution_count": 13,
     "metadata": {},
     "output_type": "execute_result"
    },
    {
     "data": {
      "image/png": "[encoded data removed]",
      "text/plain": [
       "<matplotlib.figure.Figure at 0x2bef5e7f6a0>"
      ]
     },
     "metadata": {},
     "output_type": "display_data"
    }
   ],
   "source": [
    "# Por parte de pandas sugiere la presentacion de los datos tras es uso de matplotlib\n",
    "import matplotlib.pyplot\n",
    "\n",
    "%matplotlib inline\n",
    "\n",
    "gytle = tabla1.groupby('GRANDES_GRUPOS_DE_EDAD')['TOTAL_M'].mean()\n",
    "\n",
    "gytle.plot()"
   ]
  },
  {
   "cell_type": "code",
   "execution_count": 14,
   "metadata": {},
   "outputs": [
    {
     "data": {
      "text/html": [
       "\n",
       "    <div class=\"bk-root\">\n",
       "        <a href=\"https://bokeh.pydata.org\" target=\"_blank\" class=\"bk-logo bk-logo-small bk-logo-notebook\"></a>\n",
       "        <span id=\"53d291d7-99e7-4221-a3d5-5f39bda9b14d\">Loading BokehJS ...</span>\n",
       "    </div>"
      ]
     },
     "metadata": {},
     "output_type": "display_data"
    },
    {
     "data": {
      "application/javascript": [
       "\n",
       "(function(root) {\n",
       "  function now() {\n",
       "    return new Date();\n",
       "  }\n",
       "\n",
       "  var force = true;\n",
       "\n",
       "  if (typeof (root._bokeh_onload_callbacks) === \"undefined\" || force === true) {\n",
       "    root._bokeh_onload_callbacks = [];\n",
       "    root._bokeh_is_loading = undefined;\n",
       "  }\n",
       "\n",
       "  var JS_MIME_TYPE = 'application/javascript';\n",
       "  var HTML_MIME_TYPE = 'text/html';\n",
       "  var EXEC_MIME_TYPE = 'application/vnd.bokehjs_exec.v0+json';\n",
       "  var CLASS_NAME = 'output_bokeh rendered_html';\n",
       "\n",
       "  /**\n",
       "   * Render data to the DOM node\n",
       "   */\n",
       "  function render(props, node) {\n",
       "    var script = document.createElement(\"script\");\n",
       "    node.appendChild(script);\n",
       "  }\n",
       "\n",
       "  /**\n",
       "   * Handle when an output is cleared or removed\n",
       "   */\n",
       "  function handleClearOutput(event, handle) {\n",
       "    var cell = handle.cell;\n",
       "\n",
       "    var id = cell.output_area._bokeh_element_id;\n",
       "    var server_id = cell.output_area._bokeh_server_id;\n",
       "    // Clean up Bokeh references\n",
       "    if (id !== undefined) {\n",
       "      Bokeh.index[id].model.document.clear();\n",
       "      delete Bokeh.index[id];\n",
       "    }\n",
       "\n",
       "    if (server_id !== undefined) {\n",
       "      // Clean up Bokeh references\n",
       "      var cmd = \"from bokeh.io.state import curstate; print(curstate().uuid_to_server['\" + server_id + \"'].get_sessions()[0].document.roots[0]._id)\";\n",
       "      cell.notebook.kernel.execute(cmd, {\n",
       "        iopub: {\n",
       "          output: function(msg) {\n",
       "            var element_id = msg.content.text.trim();\n",
       "            Bokeh.index[element_id].model.document.clear();\n",
       "            delete Bokeh.index[element_id];\n",
       "          }\n",
       "        }\n",
       "      });\n",
       "      // Destroy server and session\n",
       "      var cmd = \"import bokeh.io.notebook as ion; ion.destroy_server('\" + server_id + \"')\";\n",
       "      cell.notebook.kernel.execute(cmd);\n",
       "    }\n",
       "  }\n",
       "\n",
       "  /**\n",
       "   * Handle when a new output is added\n",
       "   */\n",
       "  function handleAddOutput(event, handle) {\n",
       "    var output_area = handle.output_area;\n",
       "    var output = handle.output;\n",
       "\n",
       "    // limit handleAddOutput to display_data with EXEC_MIME_TYPE content only\n",
       "    if ((output.output_type != \"display_data\") || (!output.data.hasOwnProperty(EXEC_MIME_TYPE))) {\n",
       "      return\n",
       "    }\n",
       "\n",
       "    var toinsert = output_area.element.find(`.${CLASS_NAME.split(' ')[0]}`);\n",
       "\n",
       "    if (output.metadata[EXEC_MIME_TYPE][\"id\"] !== undefined) {\n",
       "      toinsert[0].firstChild.textContent = output.data[JS_MIME_TYPE];\n",
       "      // store reference to embed id on output_area\n",
       "      output_area._bokeh_element_id = output.metadata[EXEC_MIME_TYPE][\"id\"];\n",
       "    }\n",
       "    if (output.metadata[EXEC_MIME_TYPE][\"server_id\"] !== undefined) {\n",
       "      var bk_div = document.createElement(\"div\");\n",
       "      bk_div.innerHTML = output.data[HTML_MIME_TYPE];\n",
       "      var script_attrs = bk_div.children[0].attributes;\n",
       "      for (var i = 0; i < script_attrs.length; i++) {\n",
       "        toinsert[0].firstChild.setAttribute(script_attrs[i].name, script_attrs[i].value);\n",
       "      }\n",
       "      // store reference to server id on output_area\n",
       "      output_area._bokeh_server_id = output.metadata[EXEC_MIME_TYPE][\"server_id\"];\n",
       "    }\n",
       "  }\n",
       "\n",
       "  function register_renderer(events, OutputArea) {\n",
       "\n",
       "    function append_mime(data, metadata, element) {\n",
       "      // create a DOM node to render to\n",
       "      var toinsert = this.create_output_subarea(\n",
       "        metadata,\n",
       "        CLASS_NAME,\n",
       "        EXEC_MIME_TYPE\n",
       "      );\n",
       "      this.keyboard_manager.register_events(toinsert);\n",
       "      // Render to node\n",
       "      var props = {data: data, metadata: metadata[EXEC_MIME_TYPE]};\n",
       "      render(props, toinsert[0]);\n",
       "      element.append(toinsert);\n",
       "      return toinsert\n",
       "    }\n",
       "\n",
       "    /* Handle when an output is cleared or removed */\n",
       "    events.on('clear_output.CodeCell', handleClearOutput);\n",
       "    events.on('delete.Cell', handleClearOutput);\n",
       "\n",
       "    /* Handle when a new output is added */\n",
       "    events.on('output_added.OutputArea', handleAddOutput);\n",
       "\n",
       "    /**\n",
       "     * Register the mime type and append_mime function with output_area\n",
       "     */\n",
       "    OutputArea.prototype.register_mime_type(EXEC_MIME_TYPE, append_mime, {\n",
       "      /* Is output safe? */\n",
       "      safe: true,\n",
       "      /* Index of renderer in `output_area.display_order` */\n",
       "      index: 0\n",
       "    });\n",
       "  }\n",
       "\n",
       "  // register the mime type if in Jupyter Notebook environment and previously unregistered\n",
       "  if (root.Jupyter !== undefined) {\n",
       "    var events = require('base/js/events');\n",
       "    var OutputArea = require('notebook/js/outputarea').OutputArea;\n",
       "\n",
       "    if (OutputArea.prototype.mime_types().indexOf(EXEC_MIME_TYPE) == -1) {\n",
       "      register_renderer(events, OutputArea);\n",
       "    }\n",
       "  }\n",
       "\n",
       "  \n",
       "  if (typeof (root._bokeh_timeout) === \"undefined\" || force === true) {\n",
       "    root._bokeh_timeout = Date.now() + 5000;\n",
       "    root._bokeh_failed_load = false;\n",
       "  }\n",
       "\n",
       "  var NB_LOAD_WARNING = {'data': {'text/html':\n",
       "     \"<div style='background-color: #fdd'>\\n\"+\n",
       "     \"<p>\\n\"+\n",
       "     \"BokehJS does not appear to have successfully loaded. If loading BokehJS from CDN, this \\n\"+\n",
       "     \"may be due to a slow or bad network connection. Possible fixes:\\n\"+\n",
       "     \"</p>\\n\"+\n",
       "     \"<ul>\\n\"+\n",
       "     \"<li>re-rerun `output_notebook()` to attempt to load from CDN again, or</li>\\n\"+\n",
       "     \"<li>use INLINE resources instead, as so:</li>\\n\"+\n",
       "     \"</ul>\\n\"+\n",
       "     \"<code>\\n\"+\n",
       "     \"from bokeh.resources import INLINE\\n\"+\n",
       "     \"output_notebook(resources=INLINE)\\n\"+\n",
       "     \"</code>\\n\"+\n",
       "     \"</div>\"}};\n",
       "\n",
       "  function display_loaded() {\n",
       "    var el = document.getElementById(\"53d291d7-99e7-4221-a3d5-5f39bda9b14d\");\n",
       "    if (el != null) {\n",
       "      el.textContent = \"BokehJS is loading...\";\n",
       "    }\n",
       "    if (root.Bokeh !== undefined) {\n",
       "      if (el != null) {\n",
       "        el.textContent = \"BokehJS \" + root.Bokeh.version + \" successfully loaded.\";\n",
       "      }\n",
       "    } else if (Date.now() < root._bokeh_timeout) {\n",
       "      setTimeout(display_loaded, 100)\n",
       "    }\n",
       "  }\n",
       "\n",
       "\n",
       "  function run_callbacks() {\n",
       "    try {\n",
       "      root._bokeh_onload_callbacks.forEach(function(callback) { callback() });\n",
       "    }\n",
       "    finally {\n",
       "      delete root._bokeh_onload_callbacks\n",
       "    }\n",
       "    console.info(\"Bokeh: all callbacks have finished\");\n",
       "  }\n",
       "\n",
       "  function load_libs(js_urls, callback) {\n",
       "    root._bokeh_onload_callbacks.push(callback);\n",
       "    if (root._bokeh_is_loading > 0) {\n",
       "      console.log(\"Bokeh: BokehJS is being loaded, scheduling callback at\", now());\n",
       "      return null;\n",
       "    }\n",
       "    if (js_urls == null || js_urls.length === 0) {\n",
       "      run_callbacks();\n",
       "      return null;\n",
       "    }\n",
       "    console.log(\"Bokeh: BokehJS not loaded, scheduling load and callback at\", now());\n",
       "    root._bokeh_is_loading = js_urls.length;\n",
       "    for (var i = 0; i < js_urls.length; i++) {\n",
       "      var url = js_urls[i];\n",
       "      var s = document.createElement('script');\n",
       "      s.src = url;\n",
       "      s.async = false;\n",
       "      s.onreadystatechange = s.onload = function() {\n",
       "        root._bokeh_is_loading--;\n",
       "        if (root._bokeh_is_loading === 0) {\n",
       "          console.log(\"Bokeh: all BokehJS libraries loaded\");\n",
       "          run_callbacks()\n",
       "        }\n",
       "      };\n",
       "      s.onerror = function() {\n",
       "        console.warn(\"failed to load library \" + url);\n",
       "      };\n",
       "      console.log(\"Bokeh: injecting script tag for BokehJS library: \", url);\n",
       "      document.getElementsByTagName(\"head\")[0].appendChild(s);\n",
       "    }\n",
       "  };var element = document.getElementById(\"53d291d7-99e7-4221-a3d5-5f39bda9b14d\");\n",
       "  if (element == null) {\n",
       "    console.log(\"Bokeh: ERROR: autoload.js configured with elementid '53d291d7-99e7-4221-a3d5-5f39bda9b14d' but no matching script tag was found. \")\n",
       "    return false;\n",
       "  }\n",
       "\n",
       "  var js_urls = [\"https://cdn.pydata.org/bokeh/release/bokeh-0.12.10.min.js\", \"https://cdn.pydata.org/bokeh/release/bokeh-widgets-0.12.10.min.js\", \"https://cdn.pydata.org/bokeh/release/bokeh-tables-0.12.10.min.js\", \"https://cdn.pydata.org/bokeh/release/bokeh-gl-0.12.10.min.js\"];\n",
       "\n",
       "  var inline_js = [\n",
       "    function(Bokeh) {\n",
       "      Bokeh.set_log_level(\"info\");\n",
       "    },\n",
       "    \n",
       "    function(Bokeh) {\n",
       "      \n",
       "    },\n",
       "    function(Bokeh) {\n",
       "      console.log(\"Bokeh: injecting CSS: https://cdn.pydata.org/bokeh/release/bokeh-0.12.10.min.css\");\n",
       "      Bokeh.embed.inject_css(\"https://cdn.pydata.org/bokeh/release/bokeh-0.12.10.min.css\");\n",
       "      console.log(\"Bokeh: injecting CSS: https://cdn.pydata.org/bokeh/release/bokeh-widgets-0.12.10.min.css\");\n",
       "      Bokeh.embed.inject_css(\"https://cdn.pydata.org/bokeh/release/bokeh-widgets-0.12.10.min.css\");\n",
       "      console.log(\"Bokeh: injecting CSS: https://cdn.pydata.org/bokeh/release/bokeh-tables-0.12.10.min.css\");\n",
       "      Bokeh.embed.inject_css(\"https://cdn.pydata.org/bokeh/release/bokeh-tables-0.12.10.min.css\");\n",
       "    }\n",
       "  ];\n",
       "\n",
       "  function run_inline_js() {\n",
       "    \n",
       "    if ((root.Bokeh !== undefined) || (force === true)) {\n",
       "      for (var i = 0; i < inline_js.length; i++) {\n",
       "        inline_js[i].call(root, root.Bokeh);\n",
       "      }if (force === true) {\n",
       "        display_loaded();\n",
       "      }} else if (Date.now() < root._bokeh_timeout) {\n",
       "      setTimeout(run_inline_js, 100);\n",
       "    } else if (!root._bokeh_failed_load) {\n",
       "      console.log(\"Bokeh: BokehJS failed to load within specified timeout.\");\n",
       "      root._bokeh_failed_load = true;\n",
       "    } else if (force !== true) {\n",
       "      var cell = $(document.getElementById(\"53d291d7-99e7-4221-a3d5-5f39bda9b14d\")).parents('.cell').data().cell;\n",
       "      cell.output_area.append_execute_result(NB_LOAD_WARNING)\n",
       "    }\n",
       "\n",
       "  }\n",
       "\n",
       "  if (root._bokeh_is_loading === 0) {\n",
       "    console.log(\"Bokeh: BokehJS loaded, going straight to plotting\");\n",
       "    run_inline_js();\n",
       "  } else {\n",
       "    load_libs(js_urls, function() {\n",
       "      console.log(\"Bokeh: BokehJS plotting callback run at\", now());\n",
       "      run_inline_js();\n",
       "    });\n",
       "  }\n",
       "}(window));"
      ],
      "application/vnd.bokehjs_load.v0+json": "\n(function(root) {\n  function now() {\n    return new Date();\n  }\n\n  var force = true;\n\n  if (typeof (root._bokeh_onload_callbacks) === \"undefined\" || force === true) {\n    root._bokeh_onload_callbacks = [];\n    root._bokeh_is_loading = undefined;\n  }\n\n  \n\n  \n  if (typeof (root._bokeh_timeout) === \"undefined\" || force === true) {\n    root._bokeh_timeout = Date.now() + 5000;\n    root._bokeh_failed_load = false;\n  }\n\n  var NB_LOAD_WARNING = {'data': {'text/html':\n     \"<div style='background-color: #fdd'>\\n\"+\n     \"<p>\\n\"+\n     \"BokehJS does not appear to have successfully loaded. If loading BokehJS from CDN, this \\n\"+\n     \"may be due to a slow or bad network connection. Possible fixes:\\n\"+\n     \"</p>\\n\"+\n     \"<ul>\\n\"+\n     \"<li>re-rerun `output_notebook()` to attempt to load from CDN again, or</li>\\n\"+\n     \"<li>use INLINE resources instead, as so:</li>\\n\"+\n     \"</ul>\\n\"+\n     \"<code>\\n\"+\n     \"from bokeh.resources import INLINE\\n\"+\n     \"output_notebook(resources=INLINE)\\n\"+\n     \"</code>\\n\"+\n     \"</div>\"}};\n\n  function display_loaded() {\n    var el = document.getElementById(\"53d291d7-99e7-4221-a3d5-5f39bda9b14d\");\n    if (el != null) {\n      el.textContent = \"BokehJS is loading...\";\n    }\n    if (root.Bokeh !== undefined) {\n      if (el != null) {\n        el.textContent = \"BokehJS \" + root.Bokeh.version + \" successfully loaded.\";\n      }\n    } else if (Date.now() < root._bokeh_timeout) {\n      setTimeout(display_loaded, 100)\n    }\n  }\n\n\n  function run_callbacks() {\n    try {\n      root._bokeh_onload_callbacks.forEach(function(callback) { callback() });\n    }\n    finally {\n      delete root._bokeh_onload_callbacks\n    }\n    console.info(\"Bokeh: all callbacks have finished\");\n  }\n\n  function load_libs(js_urls, callback) {\n    root._bokeh_onload_callbacks.push(callback);\n    if (root._bokeh_is_loading > 0) {\n      console.log(\"Bokeh: BokehJS is being loaded, scheduling callback at\", now());\n      return null;\n    }\n    if (js_urls == null || js_urls.length === 0) {\n      run_callbacks();\n      return null;\n    }\n    console.log(\"Bokeh: BokehJS not loaded, scheduling load and callback at\", now());\n    root._bokeh_is_loading = js_urls.length;\n    for (var i = 0; i < js_urls.length; i++) {\n      var url = js_urls[i];\n      var s = document.createElement('script');\n      s.src = url;\n      s.async = false;\n      s.onreadystatechange = s.onload = function() {\n        root._bokeh_is_loading--;\n        if (root._bokeh_is_loading === 0) {\n          console.log(\"Bokeh: all BokehJS libraries loaded\");\n          run_callbacks()\n        }\n      };\n      s.onerror = function() {\n        console.warn(\"failed to load library \" + url);\n      };\n      console.log(\"Bokeh: injecting script tag for BokehJS library: \", url);\n      document.getElementsByTagName(\"head\")[0].appendChild(s);\n    }\n  };var element = document.getElementById(\"53d291d7-99e7-4221-a3d5-5f39bda9b14d\");\n  if (element == null) {\n    console.log(\"Bokeh: ERROR: autoload.js configured with elementid '53d291d7-99e7-4221-a3d5-5f39bda9b14d' but no matching script tag was found. \")\n    return false;\n  }\n\n  var js_urls = [\"https://cdn.pydata.org/bokeh/release/bokeh-0.12.10.min.js\", \"https://cdn.pydata.org/bokeh/release/bokeh-widgets-0.12.10.min.js\", \"https://cdn.pydata.org/bokeh/release/bokeh-tables-0.12.10.min.js\", \"https://cdn.pydata.org/bokeh/release/bokeh-gl-0.12.10.min.js\"];\n\n  var inline_js = [\n    function(Bokeh) {\n      Bokeh.set_log_level(\"info\");\n    },\n    \n    function(Bokeh) {\n      \n    },\n    function(Bokeh) {\n      console.log(\"Bokeh: injecting CSS: https://cdn.pydata.org/bokeh/release/bokeh-0.12.10.min.css\");\n      Bokeh.embed.inject_css(\"https://cdn.pydata.org/bokeh/release/bokeh-0.12.10.min.css\");\n      console.log(\"Bokeh: injecting CSS: https://cdn.pydata.org/bokeh/release/bokeh-widgets-0.12.10.min.css\");\n      Bokeh.embed.inject_css(\"https://cdn.pydata.org/bokeh/release/bokeh-widgets-0.12.10.min.css\");\n      console.log(\"Bokeh: injecting CSS: https://cdn.pydata.org/bokeh/release/bokeh-tables-0.12.10.min.css\");\n      Bokeh.embed.inject_css(\"https://cdn.pydata.org/bokeh/release/bokeh-tables-0.12.10.min.css\");\n    }\n  ];\n\n  function run_inline_js() {\n    \n    if ((root.Bokeh !== undefined) || (force === true)) {\n      for (var i = 0; i < inline_js.length; i++) {\n        inline_js[i].call(root, root.Bokeh);\n      }if (force === true) {\n        display_loaded();\n      }} else if (Date.now() < root._bokeh_timeout) {\n      setTimeout(run_inline_js, 100);\n    } else if (!root._bokeh_failed_load) {\n      console.log(\"Bokeh: BokehJS failed to load within specified timeout.\");\n      root._bokeh_failed_load = true;\n    } else if (force !== true) {\n      var cell = $(document.getElementById(\"53d291d7-99e7-4221-a3d5-5f39bda9b14d\")).parents('.cell').data().cell;\n      cell.output_area.append_execute_result(NB_LOAD_WARNING)\n    }\n\n  }\n\n  if (root._bokeh_is_loading === 0) {\n    console.log(\"Bokeh: BokehJS loaded, going straight to plotting\");\n    run_inline_js();\n  } else {\n    load_libs(js_urls, function() {\n      console.log(\"Bokeh: BokehJS plotting callback run at\", now());\n      run_inline_js();\n    });\n  }\n}(window));"
     },
     "metadata": {},
     "output_type": "display_data"
    }
   ],
   "source": [
    "# Importamos la libreria de bokeh para presentar los datos leidos por pandas\n",
    "from bokeh.io import output_notebook, show\n",
    "from bokeh.plotting import figure\n",
    "from bokeh.models import ColumnDataSource\n",
    "\n",
    "# Llamamos a output_notebook para mostrar mostrar los resultanos en el cuaderno de jupyter\n",
    "output_notebook()"
   ]
  },
  {
   "cell_type": "code",
   "execution_count": 15,
   "metadata": {},
   "outputs": [
    {
     "data": {
      "text/plain": [
       "{'A_RURAL_H_25%': array([  2.8,   5.3,  13.4,  34.3,  10.3]),\n",
       " 'A_RURAL_H_50%': array([  2.8,   5.3,  13.4,  34.3,  10.3]),\n",
       " 'A_RURAL_H_75%': array([  2.8,   5.3,  13.4,  34.3,  10.3]),\n",
       " 'A_RURAL_H_count': array([ 1.,  1.,  1.,  1.,  1.]),\n",
       " 'A_RURAL_H_max': array([  2.8,   5.3,  13.4,  34.3,  10.3]),\n",
       " 'A_RURAL_H_mean': array([  2.8,   5.3,  13.4,  34.3,  10.3]),\n",
       " 'A_RURAL_H_min': array([  2.8,   5.3,  13.4,  34.3,  10.3]),\n",
       " 'A_RURAL_H_std': array([ nan,  nan,  nan,  nan,  nan]),\n",
       " 'A_RURAL_M_25%': array([  2.5,   5.6,  20.5,  49.7,  14.2]),\n",
       " 'A_RURAL_M_50%': array([  2.5,   5.6,  20.5,  49.7,  14.2]),\n",
       " 'A_RURAL_M_75%': array([  2.5,   5.6,  20.5,  49.7,  14.2]),\n",
       " 'A_RURAL_M_count': array([ 1.,  1.,  1.,  1.,  1.]),\n",
       " 'A_RURAL_M_max': array([  2.5,   5.6,  20.5,  49.7,  14.2]),\n",
       " 'A_RURAL_M_mean': array([  2.5,   5.6,  20.5,  49.7,  14.2]),\n",
       " 'A_RURAL_M_min': array([  2.5,   5.6,  20.5,  49.7,  14.2]),\n",
       " 'A_RURAL_M_std': array([ nan,  nan,  nan,  nan,  nan]),\n",
       " 'A_URBANA_H_25%': array([  1.2,   1.8,   3.8,  12.8,   3.1]),\n",
       " 'A_URBANA_H_50%': array([  1.2,   1.8,   3.8,  12.8,   3.1]),\n",
       " 'A_URBANA_H_75%': array([  1.2,   1.8,   3.8,  12.8,   3.1]),\n",
       " 'A_URBANA_H_count': array([ 1.,  1.,  1.,  1.,  1.]),\n",
       " 'A_URBANA_H_max': array([  1.2,   1.8,   3.8,  12.8,   3.1]),\n",
       " 'A_URBANA_H_mean': array([  1.2,   1.8,   3.8,  12.8,   3.1]),\n",
       " 'A_URBANA_H_min': array([  1.2,   1.8,   3.8,  12.8,   3.1]),\n",
       " 'A_URBANA_H_std': array([ nan,  nan,  nan,  nan,  nan]),\n",
       " 'A_URBANA_M_25%': array([  0.9,   1.7,   5.4,  19.5,   4.3]),\n",
       " 'A_URBANA_M_50%': array([  0.9,   1.7,   5.4,  19.5,   4.3]),\n",
       " 'A_URBANA_M_75%': array([  0.9,   1.7,   5.4,  19.5,   4.3]),\n",
       " 'A_URBANA_M_count': array([ 1.,  1.,  1.,  1.,  1.]),\n",
       " 'A_URBANA_M_max': array([  0.9,   1.7,   5.4,  19.5,   4.3]),\n",
       " 'A_URBANA_M_mean': array([  0.9,   1.7,   5.4,  19.5,   4.3]),\n",
       " 'A_URBANA_M_min': array([  0.9,   1.7,   5.4,  19.5,   4.3]),\n",
       " 'A_URBANA_M_std': array([ nan,  nan,  nan,  nan,  nan]),\n",
       " 'GRANDES_GRUPOS_DE_EDAD': array(['15-24 años', '25-39 años', '40-64 años', '65 años y mas',\n",
       "        'Total nacional'], dtype=object),\n",
       " 'TOTAL_H_25%': array([  1.8,   3. ,   7.2,  22.4,   5.8]),\n",
       " 'TOTAL_H_50%': array([  1.8,   3. ,   7.2,  22.4,   5.8]),\n",
       " 'TOTAL_H_75%': array([  1.8,   3. ,   7.2,  22.4,   5.8]),\n",
       " 'TOTAL_H_count': array([ 1.,  1.,  1.,  1.,  1.]),\n",
       " 'TOTAL_H_max': array([  1.8,   3. ,   7.2,  22.4,   5.8]),\n",
       " 'TOTAL_H_mean': array([  1.8,   3. ,   7.2,  22.4,   5.8]),\n",
       " 'TOTAL_H_min': array([  1.8,   3. ,   7.2,  22.4,   5.8]),\n",
       " 'TOTAL_H_std': array([ nan,  nan,  nan,  nan,  nan]),\n",
       " 'TOTAL_M_25%': array([  1.5,   3. ,  10.4,  31.6,   7.7]),\n",
       " 'TOTAL_M_50%': array([  1.5,   3. ,  10.4,  31.6,   7.7]),\n",
       " 'TOTAL_M_75%': array([  1.5,   3. ,  10.4,  31.6,   7.7]),\n",
       " 'TOTAL_M_count': array([ 1.,  1.,  1.,  1.,  1.]),\n",
       " 'TOTAL_M_max': array([  1.5,   3. ,  10.4,  31.6,   7.7]),\n",
       " 'TOTAL_M_mean': array([  1.5,   3. ,  10.4,  31.6,   7.7]),\n",
       " 'TOTAL_M_min': array([  1.5,   3. ,  10.4,  31.6,   7.7]),\n",
       " 'TOTAL_M_std': array([ nan,  nan,  nan,  nan,  nan])}"
      ]
     },
     "execution_count": 15,
     "metadata": {},
     "output_type": "execute_result"
    }
   ],
   "source": [
    "# Agrupamos los valores en base a la columna \"GRANDES_GRUPOS_DE_EDAD\" \n",
    "group1 = tabla1.groupby('GRANDES_GRUPOS_DE_EDAD')\n",
    "\n",
    "# Nos permite obtener Mapas nombres de columnas a secuencias o matrices.\n",
    "source = ColumnDataSource(group1)\n",
    "\n",
    "# Mostramos los nombres de los datos albergados en source - donde buscamos los nombre de los datos que buscamos en concreto\n",
    "source.data"
   ]
  },
  {
   "cell_type": "code",
   "execution_count": 16,
   "metadata": {},
   "outputs": [
    {
     "data": {
      "text/html": [
       "\n",
       "<div class=\"bk-root\">\n",
       "    <div class=\"bk-plotdiv\" id=\"4fbb4c9f-de14-4780-963f-db596742b34c\"></div>\n",
       "</div>"
      ]
     },
     "metadata": {},
     "output_type": "display_data"
    },
    {
     "data": {
      "application/javascript": [
       "(function(root) {\n",
       "  function embed_document(root) {\n",
       "    var docs_json = {\"c749fb6d-3fb6-4ad2-bb43-d37b77eb6d13\":{\"roots\":{\"references\":[{\"attributes\":{\"grid_line_color\":{\"value\":null},\"plot\":{\"id\":\"faf04e69-f13a-4e02-9a03-d28ebccf4bf9\",\"subtype\":\"Figure\",\"type\":\"Plot\"},\"ticker\":{\"id\":\"ac025281-b51d-4fa4-bc4d-9ecbd45975c4\",\"type\":\"CategoricalTicker\"}},\"id\":\"31618a79-4505-44e8-8270-ee1c7e995fce\",\"type\":\"Grid\"},{\"attributes\":{\"axis_label\":\"AREA URBANA - HOMBRES\",\"formatter\":{\"id\":\"7e3dcd12-4bc6-4c46-a96f-d74fe7e0a4a9\",\"type\":\"CategoricalTickFormatter\"},\"plot\":{\"id\":\"faf04e69-f13a-4e02-9a03-d28ebccf4bf9\",\"subtype\":\"Figure\",\"type\":\"Plot\"},\"ticker\":{\"id\":\"ac025281-b51d-4fa4-bc4d-9ecbd45975c4\",\"type\":\"CategoricalTicker\"}},\"id\":\"18bc75e7-0381-43d1-b65c-5b9778846e2a\",\"type\":\"CategoricalAxis\"},{\"attributes\":{\"callback\":null,\"column_names\":[\"A_RURAL_H_count\",\"A_RURAL_H_mean\",\"A_RURAL_H_std\",\"A_RURAL_H_min\",\"A_RURAL_H_25%\",\"A_RURAL_H_50%\",\"A_RURAL_H_75%\",\"A_RURAL_H_max\",\"A_RURAL_M_count\",\"A_RURAL_M_mean\",\"A_RURAL_M_std\",\"A_RURAL_M_min\",\"A_RURAL_M_25%\",\"A_RURAL_M_50%\",\"A_RURAL_M_75%\",\"A_RURAL_M_max\",\"A_URBANA_H_count\",\"A_URBANA_H_mean\",\"A_URBANA_H_std\",\"A_URBANA_H_min\",\"A_URBANA_H_25%\",\"A_URBANA_H_50%\",\"A_URBANA_H_75%\",\"A_URBANA_H_max\",\"A_URBANA_M_count\",\"A_URBANA_M_mean\",\"A_URBANA_M_std\",\"A_URBANA_M_min\",\"A_URBANA_M_25%\",\"A_URBANA_M_50%\",\"A_URBANA_M_75%\",\"A_URBANA_M_max\",\"TOTAL_H_count\",\"TOTAL_H_mean\",\"TOTAL_H_std\",\"TOTAL_H_min\",\"TOTAL_H_25%\",\"TOTAL_H_50%\",\"TOTAL_H_75%\",\"TOTAL_H_max\",\"TOTAL_M_count\",\"TOTAL_M_mean\",\"TOTAL_M_std\",\"TOTAL_M_min\",\"TOTAL_M_25%\",\"TOTAL_M_50%\",\"TOTAL_M_75%\",\"TOTAL_M_max\",\"GRANDES_GRUPOS_DE_EDAD\"],\"data\":{\"A_RURAL_H_25%\":{\"__ndarray__\":\"ZmZmZmZmBkAzMzMzMzMVQM3MzMzMzCpAZmZmZmYmQUCamZmZmZkkQA==\",\"dtype\":\"float64\",\"shape\":[5]},\"A_RURAL_H_50%\":{\"__ndarray__\":\"ZmZmZmZmBkAzMzMzMzMVQM3MzMzMzCpAZmZmZmYmQUCamZmZmZkkQA==\",\"dtype\":\"float64\",\"shape\":[5]},\"A_RURAL_H_75%\":{\"__ndarray__\":\"ZmZmZmZmBkAzMzMzMzMVQM3MzMzMzCpAZmZmZmYmQUCamZmZmZkkQA==\",\"dtype\":\"float64\",\"shape\":[5]},\"A_RURAL_H_count\":{\"__ndarray__\":\"AAAAAAAA8D8AAAAAAADwPwAAAAAAAPA/AAAAAAAA8D8AAAAAAADwPw==\",\"dtype\":\"float64\",\"shape\":[5]},\"A_RURAL_H_max\":{\"__ndarray__\":\"ZmZmZmZmBkAzMzMzMzMVQM3MzMzMzCpAZmZmZmYmQUCamZmZmZkkQA==\",\"dtype\":\"float64\",\"shape\":[5]},\"A_RURAL_H_mean\":{\"__ndarray__\":\"ZmZmZmZmBkAzMzMzMzMVQM3MzMzMzCpAZmZmZmYmQUCamZmZmZkkQA==\",\"dtype\":\"float64\",\"shape\":[5]},\"A_RURAL_H_min\":{\"__ndarray__\":\"ZmZmZmZmBkAzMzMzMzMVQM3MzMzMzCpAZmZmZmYmQUCamZmZmZkkQA==\",\"dtype\":\"float64\",\"shape\":[5]},\"A_RURAL_H_std\":{\"__ndarray__\":\"AAAAAAAA+H8AAAAAAAD4fwAAAAAAAPh/AAAAAAAA+H8AAAAAAAD4fw==\",\"dtype\":\"float64\",\"shape\":[5]},\"A_RURAL_M_25%\":{\"__ndarray__\":\"AAAAAAAABEBmZmZmZmYWQAAAAAAAgDRAmpmZmZnZSEBmZmZmZmYsQA==\",\"dtype\":\"float64\",\"shape\":[5]},\"A_RURAL_M_50%\":{\"__ndarray__\":\"AAAAAAAABEBmZmZmZmYWQAAAAAAAgDRAmpmZmZnZSEBmZmZmZmYsQA==\",\"dtype\":\"float64\",\"shape\":[5]},\"A_RURAL_M_75%\":{\"__ndarray__\":\"AAAAAAAABEBmZmZmZmYWQAAAAAAAgDRAmpmZmZnZSEBmZmZmZmYsQA==\",\"dtype\":\"float64\",\"shape\":[5]},\"A_RURAL_M_count\":{\"__ndarray__\":\"AAAAAAAA8D8AAAAAAADwPwAAAAAAAPA/AAAAAAAA8D8AAAAAAADwPw==\",\"dtype\":\"float64\",\"shape\":[5]},\"A_RURAL_M_max\":{\"__ndarray__\":\"AAAAAAAABEBmZmZmZmYWQAAAAAAAgDRAmpmZmZnZSEBmZmZmZmYsQA==\",\"dtype\":\"float64\",\"shape\":[5]},\"A_RURAL_M_mean\":{\"__ndarray__\":\"AAAAAAAABEBmZmZmZmYWQAAAAAAAgDRAmpmZmZnZSEBmZmZmZmYsQA==\",\"dtype\":\"float64\",\"shape\":[5]},\"A_RURAL_M_min\":{\"__ndarray__\":\"AAAAAAAABEBmZmZmZmYWQAAAAAAAgDRAmpmZmZnZSEBmZmZmZmYsQA==\",\"dtype\":\"float64\",\"shape\":[5]},\"A_RURAL_M_std\":{\"__ndarray__\":\"AAAAAAAA+H8AAAAAAAD4fwAAAAAAAPh/AAAAAAAA+H8AAAAAAAD4fw==\",\"dtype\":\"float64\",\"shape\":[5]},\"A_URBANA_H_25%\":{\"__ndarray__\":\"MzMzMzMz8z/NzMzMzMz8P2ZmZmZmZg5AmpmZmZmZKUDNzMzMzMwIQA==\",\"dtype\":\"float64\",\"shape\":[5]},\"A_URBANA_H_50%\":{\"__ndarray__\":\"MzMzMzMz8z/NzMzMzMz8P2ZmZmZmZg5AmpmZmZmZKUDNzMzMzMwIQA==\",\"dtype\":\"float64\",\"shape\":[5]},\"A_URBANA_H_75%\":{\"__ndarray__\":\"MzMzMzMz8z/NzMzMzMz8P2ZmZmZmZg5AmpmZmZmZKUDNzMzMzMwIQA==\",\"dtype\":\"float64\",\"shape\":[5]},\"A_URBANA_H_count\":{\"__ndarray__\":\"AAAAAAAA8D8AAAAAAADwPwAAAAAAAPA/AAAAAAAA8D8AAAAAAADwPw==\",\"dtype\":\"float64\",\"shape\":[5]},\"A_URBANA_H_max\":{\"__ndarray__\":\"MzMzMzMz8z/NzMzMzMz8P2ZmZmZmZg5AmpmZmZmZKUDNzMzMzMwIQA==\",\"dtype\":\"float64\",\"shape\":[5]},\"A_URBANA_H_mean\":{\"__ndarray__\":\"MzMzMzMz8z/NzMzMzMz8P2ZmZmZmZg5AmpmZmZmZKUDNzMzMzMwIQA==\",\"dtype\":\"float64\",\"shape\":[5]},\"A_URBANA_H_min\":{\"__ndarray__\":\"MzMzMzMz8z/NzMzMzMz8P2ZmZmZmZg5AmpmZmZmZKUDNzMzMzMwIQA==\",\"dtype\":\"float64\",\"shape\":[5]},\"A_URBANA_H_std\":{\"__ndarray__\":\"AAAAAAAA+H8AAAAAAAD4fwAAAAAAAPh/AAAAAAAA+H8AAAAAAAD4fw==\",\"dtype\":\"float64\",\"shape\":[5]},\"A_URBANA_M_25%\":{\"__ndarray__\":\"zczMzMzM7D8zMzMzMzP7P5qZmZmZmRVAAAAAAACAM0AzMzMzMzMRQA==\",\"dtype\":\"float64\",\"shape\":[5]},\"A_URBANA_M_50%\":{\"__ndarray__\":\"zczMzMzM7D8zMzMzMzP7P5qZmZmZmRVAAAAAAACAM0AzMzMzMzMRQA==\",\"dtype\":\"float64\",\"shape\":[5]},\"A_URBANA_M_75%\":{\"__ndarray__\":\"zczMzMzM7D8zMzMzMzP7P5qZmZmZmRVAAAAAAACAM0AzMzMzMzMRQA==\",\"dtype\":\"float64\",\"shape\":[5]},\"A_URBANA_M_count\":{\"__ndarray__\":\"AAAAAAAA8D8AAAAAAADwPwAAAAAAAPA/AAAAAAAA8D8AAAAAAADwPw==\",\"dtype\":\"float64\",\"shape\":[5]},\"A_URBANA_M_max\":{\"__ndarray__\":\"zczMzMzM7D8zMzMzMzP7P5qZmZmZmRVAAAAAAACAM0AzMzMzMzMRQA==\",\"dtype\":\"float64\",\"shape\":[5]},\"A_URBANA_M_mean\":{\"__ndarray__\":\"zczMzMzM7D8zMzMzMzP7P5qZmZmZmRVAAAAAAACAM0AzMzMzMzMRQA==\",\"dtype\":\"float64\",\"shape\":[5]},\"A_URBANA_M_min\":{\"__ndarray__\":\"zczMzMzM7D8zMzMzMzP7P5qZmZmZmRVAAAAAAACAM0AzMzMzMzMRQA==\",\"dtype\":\"float64\",\"shape\":[5]},\"A_URBANA_M_std\":{\"__ndarray__\":\"AAAAAAAA+H8AAAAAAAD4fwAAAAAAAPh/AAAAAAAA+H8AAAAAAAD4fw==\",\"dtype\":\"float64\",\"shape\":[5]},\"GRANDES_GRUPOS_DE_EDAD\":[\"15-24 a\\u00f1os\",\"25-39 a\\u00f1os\",\"40-64 a\\u00f1os\",\"65 a\\u00f1os y mas\",\"Total nacional\"],\"TOTAL_H_25%\":{\"__ndarray__\":\"zczMzMzM/D8AAAAAAAAIQM3MzMzMzBxAZmZmZmZmNkAzMzMzMzMXQA==\",\"dtype\":\"float64\",\"shape\":[5]},\"TOTAL_H_50%\":{\"__ndarray__\":\"zczMzMzM/D8AAAAAAAAIQM3MzMzMzBxAZmZmZmZmNkAzMzMzMzMXQA==\",\"dtype\":\"float64\",\"shape\":[5]},\"TOTAL_H_75%\":{\"__ndarray__\":\"zczMzMzM/D8AAAAAAAAIQM3MzMzMzBxAZmZmZmZmNkAzMzMzMzMXQA==\",\"dtype\":\"float64\",\"shape\":[5]},\"TOTAL_H_count\":{\"__ndarray__\":\"AAAAAAAA8D8AAAAAAADwPwAAAAAAAPA/AAAAAAAA8D8AAAAAAADwPw==\",\"dtype\":\"float64\",\"shape\":[5]},\"TOTAL_H_max\":{\"__ndarray__\":\"zczMzMzM/D8AAAAAAAAIQM3MzMzMzBxAZmZmZmZmNkAzMzMzMzMXQA==\",\"dtype\":\"float64\",\"shape\":[5]},\"TOTAL_H_mean\":{\"__ndarray__\":\"zczMzMzM/D8AAAAAAAAIQM3MzMzMzBxAZmZmZmZmNkAzMzMzMzMXQA==\",\"dtype\":\"float64\",\"shape\":[5]},\"TOTAL_H_min\":{\"__ndarray__\":\"zczMzMzM/D8AAAAAAAAIQM3MzMzMzBxAZmZmZmZmNkAzMzMzMzMXQA==\",\"dtype\":\"float64\",\"shape\":[5]},\"TOTAL_H_std\":{\"__ndarray__\":\"AAAAAAAA+H8AAAAAAAD4fwAAAAAAAPh/AAAAAAAA+H8AAAAAAAD4fw==\",\"dtype\":\"float64\",\"shape\":[5]},\"TOTAL_M_25%\":{\"__ndarray__\":\"AAAAAAAA+D8AAAAAAAAIQM3MzMzMzCRAmpmZmZmZP0DNzMzMzMweQA==\",\"dtype\":\"float64\",\"shape\":[5]},\"TOTAL_M_50%\":{\"__ndarray__\":\"AAAAAAAA+D8AAAAAAAAIQM3MzMzMzCRAmpmZmZmZP0DNzMzMzMweQA==\",\"dtype\":\"float64\",\"shape\":[5]},\"TOTAL_M_75%\":{\"__ndarray__\":\"AAAAAAAA+D8AAAAAAAAIQM3MzMzMzCRAmpmZmZmZP0DNzMzMzMweQA==\",\"dtype\":\"float64\",\"shape\":[5]},\"TOTAL_M_count\":{\"__ndarray__\":\"AAAAAAAA8D8AAAAAAADwPwAAAAAAAPA/AAAAAAAA8D8AAAAAAADwPw==\",\"dtype\":\"float64\",\"shape\":[5]},\"TOTAL_M_max\":{\"__ndarray__\":\"AAAAAAAA+D8AAAAAAAAIQM3MzMzMzCRAmpmZmZmZP0DNzMzMzMweQA==\",\"dtype\":\"float64\",\"shape\":[5]},\"TOTAL_M_mean\":{\"__ndarray__\":\"AAAAAAAA+D8AAAAAAAAIQM3MzMzMzCRAmpmZmZmZP0DNzMzMzMweQA==\",\"dtype\":\"float64\",\"shape\":[5]},\"TOTAL_M_min\":{\"__ndarray__\":\"AAAAAAAA+D8AAAAAAAAIQM3MzMzMzCRAmpmZmZmZP0DNzMzMzMweQA==\",\"dtype\":\"float64\",\"shape\":[5]},\"TOTAL_M_std\":{\"__ndarray__\":\"AAAAAAAA+H8AAAAAAAD4fwAAAAAAAPh/AAAAAAAA+H8AAAAAAAD4fw==\",\"dtype\":\"float64\",\"shape\":[5]}}},\"id\":\"216b153b-9ed8-48fb-b4df-27dd5e09b09f\",\"type\":\"ColumnDataSource\"},{\"attributes\":{\"dimension\":1,\"plot\":{\"id\":\"faf04e69-f13a-4e02-9a03-d28ebccf4bf9\",\"subtype\":\"Figure\",\"type\":\"Plot\"},\"ticker\":{\"id\":\"3a883d58-5b08-4f9a-b370-7687a0d935c8\",\"type\":\"BasicTicker\"}},\"id\":\"9d4965a6-bc3f-41e4-8c01-e47a1f4f00f9\",\"type\":\"Grid\"},{\"attributes\":{\"overlay\":{\"id\":\"545015bb-1394-4aa4-b3f2-093610208f82\",\"type\":\"BoxAnnotation\"}},\"id\":\"1f4bfa09-54d4-4011-ab08-0f171b1ca6de\",\"type\":\"BoxZoomTool\"},{\"attributes\":{},\"id\":\"68636360-9a7a-4d60-abb1-42dd49b6679a\",\"type\":\"BasicTickFormatter\"},{\"attributes\":{},\"id\":\"537dfd54-c844-4fc9-a335-8de70db6ab35\",\"type\":\"SaveTool\"},{\"attributes\":{\"active_drag\":\"auto\",\"active_inspect\":\"auto\",\"active_scroll\":\"auto\",\"active_tap\":\"auto\",\"tools\":[{\"id\":\"9346587a-def5-49f3-b027-ab9b920b988a\",\"type\":\"PanTool\"},{\"id\":\"f315f743-9d0e-48fe-bf9d-9023969a6ea8\",\"type\":\"WheelZoomTool\"},{\"id\":\"1f4bfa09-54d4-4011-ab08-0f171b1ca6de\",\"type\":\"BoxZoomTool\"},{\"id\":\"537dfd54-c844-4fc9-a335-8de70db6ab35\",\"type\":\"SaveTool\"},{\"id\":\"b101a778-b550-47aa-8f53-238fdc8e275c\",\"type\":\"ResetTool\"},{\"id\":\"9c663c22-392c-4b21-b87f-2e26b251c3d2\",\"type\":\"HelpTool\"}]},\"id\":\"fdf9eedd-647e-4eea-bffd-1dd94a6b1f7c\",\"type\":\"Toolbar\"},{\"attributes\":{\"plot\":null,\"text\":\"ANALFABETISMO POR AREA Y GRUPOS DE EDAD\"},\"id\":\"b8ba5465-98d2-49df-acec-ac70c2a44abd\",\"type\":\"Title\"},{\"attributes\":{},\"id\":\"ac025281-b51d-4fa4-bc4d-9ecbd45975c4\",\"type\":\"CategoricalTicker\"},{\"attributes\":{\"below\":[{\"id\":\"18bc75e7-0381-43d1-b65c-5b9778846e2a\",\"type\":\"CategoricalAxis\"}],\"left\":[{\"id\":\"bcec40be-84ad-47b7-9aae-c8a8f6174503\",\"type\":\"LinearAxis\"}],\"plot_height\":250,\"plot_width\":750,\"renderers\":[{\"id\":\"18bc75e7-0381-43d1-b65c-5b9778846e2a\",\"type\":\"CategoricalAxis\"},{\"id\":\"31618a79-4505-44e8-8270-ee1c7e995fce\",\"type\":\"Grid\"},{\"id\":\"bcec40be-84ad-47b7-9aae-c8a8f6174503\",\"type\":\"LinearAxis\"},{\"id\":\"9d4965a6-bc3f-41e4-8c01-e47a1f4f00f9\",\"type\":\"Grid\"},{\"id\":\"545015bb-1394-4aa4-b3f2-093610208f82\",\"type\":\"BoxAnnotation\"},{\"id\":\"657768e8-40da-4e92-9f9d-8a5bb21cb3e7\",\"type\":\"GlyphRenderer\"}],\"title\":{\"id\":\"b8ba5465-98d2-49df-acec-ac70c2a44abd\",\"type\":\"Title\"},\"toolbar\":{\"id\":\"fdf9eedd-647e-4eea-bffd-1dd94a6b1f7c\",\"type\":\"Toolbar\"},\"x_range\":{\"id\":\"861fead4-0f14-4a05-bb68-6aba2ec9e8b6\",\"type\":\"FactorRange\"},\"x_scale\":{\"id\":\"48305ef1-1959-4e48-9ba3-0201512f7337\",\"type\":\"CategoricalScale\"},\"y_range\":{\"id\":\"8ebcc9ac-9435-4be0-ab84-deea0a27a231\",\"type\":\"DataRange1d\"},\"y_scale\":{\"id\":\"3cc37768-ae05-4791-b974-364e28e98e17\",\"type\":\"LinearScale\"}},\"id\":\"faf04e69-f13a-4e02-9a03-d28ebccf4bf9\",\"subtype\":\"Figure\",\"type\":\"Plot\"},{\"attributes\":{},\"id\":\"f315f743-9d0e-48fe-bf9d-9023969a6ea8\",\"type\":\"WheelZoomTool\"},{\"attributes\":{},\"id\":\"48305ef1-1959-4e48-9ba3-0201512f7337\",\"type\":\"CategoricalScale\"},{\"attributes\":{},\"id\":\"7e3dcd12-4bc6-4c46-a96f-d74fe7e0a4a9\",\"type\":\"CategoricalTickFormatter\"},{\"attributes\":{\"formatter\":{\"id\":\"68636360-9a7a-4d60-abb1-42dd49b6679a\",\"type\":\"BasicTickFormatter\"},\"plot\":{\"id\":\"faf04e69-f13a-4e02-9a03-d28ebccf4bf9\",\"subtype\":\"Figure\",\"type\":\"Plot\"},\"ticker\":{\"id\":\"3a883d58-5b08-4f9a-b370-7687a0d935c8\",\"type\":\"BasicTicker\"}},\"id\":\"bcec40be-84ad-47b7-9aae-c8a8f6174503\",\"type\":\"LinearAxis\"},{\"attributes\":{},\"id\":\"9346587a-def5-49f3-b027-ab9b920b988a\",\"type\":\"PanTool\"},{\"attributes\":{\"fill_alpha\":{\"value\":0.1},\"fill_color\":{\"value\":\"#1f77b4\"},\"line_alpha\":{\"value\":0.1},\"line_color\":{\"value\":\"#1f77b4\"},\"top\":{\"field\":\"A_URBANA_H_mean\"},\"width\":{\"value\":0.9},\"x\":{\"field\":\"GRANDES_GRUPOS_DE_EDAD\"}},\"id\":\"333f270d-dc7f-481e-bd47-5f0edf3d85b5\",\"type\":\"VBar\"},{\"attributes\":{\"fill_color\":{\"value\":\"#1f77b4\"},\"line_color\":{\"value\":\"white\"},\"top\":{\"field\":\"A_URBANA_H_mean\"},\"width\":{\"value\":0.9},\"x\":{\"field\":\"GRANDES_GRUPOS_DE_EDAD\"}},\"id\":\"31b40f38-343a-4aa2-9b64-5e94b5c11e62\",\"type\":\"VBar\"},{\"attributes\":{},\"id\":\"9c663c22-392c-4b21-b87f-2e26b251c3d2\",\"type\":\"HelpTool\"},{\"attributes\":{\"data_source\":{\"id\":\"216b153b-9ed8-48fb-b4df-27dd5e09b09f\",\"type\":\"ColumnDataSource\"},\"glyph\":{\"id\":\"31b40f38-343a-4aa2-9b64-5e94b5c11e62\",\"type\":\"VBar\"},\"hover_glyph\":null,\"muted_glyph\":null,\"nonselection_glyph\":{\"id\":\"333f270d-dc7f-481e-bd47-5f0edf3d85b5\",\"type\":\"VBar\"},\"selection_glyph\":null,\"view\":{\"id\":\"09b5837a-13ee-4ea2-acb3-a68b85a904bf\",\"type\":\"CDSView\"}},\"id\":\"657768e8-40da-4e92-9f9d-8a5bb21cb3e7\",\"type\":\"GlyphRenderer\"},{\"attributes\":{\"bottom_units\":\"screen\",\"fill_alpha\":{\"value\":0.5},\"fill_color\":{\"value\":\"lightgrey\"},\"left_units\":\"screen\",\"level\":\"overlay\",\"line_alpha\":{\"value\":1.0},\"line_color\":{\"value\":\"black\"},\"line_dash\":[4,4],\"line_width\":{\"value\":2},\"plot\":null,\"render_mode\":\"css\",\"right_units\":\"screen\",\"top_units\":\"screen\"},\"id\":\"545015bb-1394-4aa4-b3f2-093610208f82\",\"type\":\"BoxAnnotation\"},{\"attributes\":{},\"id\":\"3a883d58-5b08-4f9a-b370-7687a0d935c8\",\"type\":\"BasicTicker\"},{\"attributes\":{\"callback\":null,\"factors\":[\"15-24 a\\u00f1os\",\"25-39 a\\u00f1os\",\"40-64 a\\u00f1os\",\"65 a\\u00f1os y mas\",\"Total nacional\"]},\"id\":\"861fead4-0f14-4a05-bb68-6aba2ec9e8b6\",\"type\":\"FactorRange\"},{\"attributes\":{},\"id\":\"3cc37768-ae05-4791-b974-364e28e98e17\",\"type\":\"LinearScale\"},{\"attributes\":{\"source\":{\"id\":\"216b153b-9ed8-48fb-b4df-27dd5e09b09f\",\"type\":\"ColumnDataSource\"}},\"id\":\"09b5837a-13ee-4ea2-acb3-a68b85a904bf\",\"type\":\"CDSView\"},{\"attributes\":{\"callback\":null,\"start\":0},\"id\":\"8ebcc9ac-9435-4be0-ab84-deea0a27a231\",\"type\":\"DataRange1d\"},{\"attributes\":{},\"id\":\"b101a778-b550-47aa-8f53-238fdc8e275c\",\"type\":\"ResetTool\"}],\"root_ids\":[\"faf04e69-f13a-4e02-9a03-d28ebccf4bf9\"]},\"title\":\"Bokeh Application\",\"version\":\"0.12.10\"}};\n",
       "    var render_items = [{\"docid\":\"c749fb6d-3fb6-4ad2-bb43-d37b77eb6d13\",\"elementid\":\"4fbb4c9f-de14-4780-963f-db596742b34c\",\"modelid\":\"faf04e69-f13a-4e02-9a03-d28ebccf4bf9\"}];\n",
       "\n",
       "    root.Bokeh.embed.embed_items(docs_json, render_items);\n",
       "  }\n",
       "\n",
       "  if (root.Bokeh !== undefined) {\n",
       "    embed_document(root);\n",
       "  } else {\n",
       "    var attempts = 0;\n",
       "    var timer = setInterval(function(root) {\n",
       "      if (root.Bokeh !== undefined) {\n",
       "        embed_document(root);\n",
       "        clearInterval(timer);\n",
       "      }\n",
       "      attempts++;\n",
       "      if (attempts > 100) {\n",
       "        console.log(\"Bokeh: ERROR: Unable to embed document because BokehJS library is missing\")\n",
       "        clearInterval(timer);\n",
       "      }\n",
       "    }, 10, root)\n",
       "  }\n",
       "})(window);"
      ],
      "application/vnd.bokehjs_exec.v0+json": ""
     },
     "metadata": {
      "application/vnd.bokehjs_exec.v0+json": {
       "id": "faf04e69-f13a-4e02-9a03-d28ebccf4bf9"
      }
     },
     "output_type": "display_data"
    }
   ],
   "source": [
    "# Agrupamos los valores en base a la columna \"GRANDES_GRUPOS_DE_EDAD\" \n",
    "group1 = tabla1.groupby('GRANDES_GRUPOS_DE_EDAD')\n",
    "\n",
    "# Nos permite obtener Mapas de nombres columnas, secuencias, matrices.\n",
    "source = ColumnDataSource(group1)\n",
    "\n",
    "# Creamos un objeto de figura\n",
    "gph = figure(\n",
    "    plot_height=250, plot_width=750, # Establecemos el tamaño\n",
    "    x_range=group1,  # Establecemos el rango de x\n",
    "    title='ANALFABETISMO POR AREA Y GRUPOS DE EDAD' # Establecemos un titulo para la grafica \n",
    ")\n",
    "\n",
    "# Establecemos los atributos de \"vbar()\"\n",
    "gph.vbar(\n",
    "    x='GRANDES_GRUPOS_DE_EDAD', # Valores de x\n",
    "    top='A_URBANA_H_mean', # Valores de y\n",
    "    width=0.9, # El tamaño de las barras \n",
    "    line_color=\"white\", # El color de la linea separadora\n",
    "    source=source # Determinamos la fuente de datos\n",
    ")\n",
    "\n",
    "gph.xgrid.grid_line_color = None # Determinamos que en la grafica no se presente la linea de las x para hacer mas visible la grafica\n",
    "\n",
    "gph.xaxis.axis_label = \"AREA URBANA - HOMBRES\" # Damos un nombre al eje x\n",
    "\n",
    "gph.y_range.start = 0 # Modificamos para la presentación el rango inicial\n",
    "\n",
    "show(gph) # Mostramos el objeto"
   ]
  },
  {
   "cell_type": "code",
   "execution_count": 17,
   "metadata": {},
   "outputs": [
    {
     "data": {
      "text/html": [
       "\n",
       "<div class=\"bk-root\">\n",
       "    <div class=\"bk-plotdiv\" id=\"b23f2484-e42c-474b-a175-ad30e37343cd\"></div>\n",
       "</div>"
      ]
     },
     "metadata": {},
     "output_type": "display_data"
    },
    {
     "data": {
      "application/javascript": [
       "(function(root) {\n",
       "  function embed_document(root) {\n",
       "    var docs_json = {\"1244258c-6340-40e7-b22c-0291af480649\":{\"roots\":{\"references\":[{\"attributes\":{},\"id\":\"64c4cbd3-e5ed-4bd3-a449-4f7b02c1a261\",\"type\":\"PanTool\"},{\"attributes\":{\"axis_label\":\"AREA URBANA - MUJERES\",\"formatter\":{\"id\":\"f9119fd2-825b-4424-9000-a3e81d41bedb\",\"type\":\"CategoricalTickFormatter\"},\"plot\":{\"id\":\"c7d5a276-53a8-433a-ba31-fa20887a1c09\",\"subtype\":\"Figure\",\"type\":\"Plot\"},\"ticker\":{\"id\":\"d59aef49-1951-4327-8388-5d68bda8bbb4\",\"type\":\"CategoricalTicker\"}},\"id\":\"e1939993-330d-4c18-8827-d31f7e512a7e\",\"type\":\"CategoricalAxis\"},{\"attributes\":{\"callback\":null,\"factors\":[\"15-24 a\\u00f1os\",\"25-39 a\\u00f1os\",\"40-64 a\\u00f1os\",\"65 a\\u00f1os y mas\",\"Total nacional\"]},\"id\":\"8fa00628-dd2c-4d8e-b66d-62d0190b481b\",\"type\":\"FactorRange\"},{\"attributes\":{\"below\":[{\"id\":\"e1939993-330d-4c18-8827-d31f7e512a7e\",\"type\":\"CategoricalAxis\"}],\"left\":[{\"id\":\"ebc00888-e048-4c3e-a611-9c24ce744b39\",\"type\":\"LinearAxis\"}],\"plot_height\":250,\"plot_width\":750,\"renderers\":[{\"id\":\"e1939993-330d-4c18-8827-d31f7e512a7e\",\"type\":\"CategoricalAxis\"},{\"id\":\"1220f88e-7c40-4dbc-8503-b6cc6863c845\",\"type\":\"Grid\"},{\"id\":\"ebc00888-e048-4c3e-a611-9c24ce744b39\",\"type\":\"LinearAxis\"},{\"id\":\"4c957c5a-f0b9-458d-8031-79469919ca6a\",\"type\":\"Grid\"},{\"id\":\"1292792a-cb38-413c-a8c4-4b850de34c92\",\"type\":\"BoxAnnotation\"},{\"id\":\"cddd22df-5237-4133-8c88-eba42402ca83\",\"type\":\"GlyphRenderer\"}],\"title\":{\"id\":\"7819c9f1-7e80-4db8-894f-a5c152630b2c\",\"type\":\"Title\"},\"toolbar\":{\"id\":\"611c5bbc-e35d-492c-96c3-4dc0d7ce1eb2\",\"type\":\"Toolbar\"},\"x_range\":{\"id\":\"8fa00628-dd2c-4d8e-b66d-62d0190b481b\",\"type\":\"FactorRange\"},\"x_scale\":{\"id\":\"98da8cf8-05ec-4ac4-906b-4ba50f695e06\",\"type\":\"CategoricalScale\"},\"y_range\":{\"id\":\"7000d289-0f6f-49d1-b125-0f78ba97da31\",\"type\":\"DataRange1d\"},\"y_scale\":{\"id\":\"f794b817-10fb-4667-81a8-78292238eaac\",\"type\":\"LinearScale\"}},\"id\":\"c7d5a276-53a8-433a-ba31-fa20887a1c09\",\"subtype\":\"Figure\",\"type\":\"Plot\"},{\"attributes\":{},\"id\":\"f9119fd2-825b-4424-9000-a3e81d41bedb\",\"type\":\"CategoricalTickFormatter\"},{\"attributes\":{},\"id\":\"aaff31ed-e4c1-4709-9c9d-f4ae1b5ff910\",\"type\":\"SaveTool\"},{\"attributes\":{\"data_source\":{\"id\":\"d6df914c-6661-42c8-a4e1-593ea4ac33f4\",\"type\":\"ColumnDataSource\"},\"glyph\":{\"id\":\"a9f9c6d2-d625-49ae-bf79-8b014f7bb7e6\",\"type\":\"Line\"},\"hover_glyph\":null,\"muted_glyph\":null,\"nonselection_glyph\":{\"id\":\"90b88ce3-c6da-40b8-9295-aa8966ad7e78\",\"type\":\"Line\"},\"selection_glyph\":null,\"view\":{\"id\":\"dd205295-d7b4-436e-b4c2-e19ca0a46fc9\",\"type\":\"CDSView\"}},\"id\":\"cddd22df-5237-4133-8c88-eba42402ca83\",\"type\":\"GlyphRenderer\"},{\"attributes\":{\"plot\":null,\"text\":\"ANALFABETISMO POR AREA Y GRUPOS DE EDAD\"},\"id\":\"7819c9f1-7e80-4db8-894f-a5c152630b2c\",\"type\":\"Title\"},{\"attributes\":{},\"id\":\"d59aef49-1951-4327-8388-5d68bda8bbb4\",\"type\":\"CategoricalTicker\"},{\"attributes\":{},\"id\":\"271c7015-7dc2-429c-ad9d-d2dc7a370d20\",\"type\":\"WheelZoomTool\"},{\"attributes\":{\"grid_line_color\":{\"value\":null},\"plot\":{\"id\":\"c7d5a276-53a8-433a-ba31-fa20887a1c09\",\"subtype\":\"Figure\",\"type\":\"Plot\"},\"ticker\":{\"id\":\"d59aef49-1951-4327-8388-5d68bda8bbb4\",\"type\":\"CategoricalTicker\"}},\"id\":\"1220f88e-7c40-4dbc-8503-b6cc6863c845\",\"type\":\"Grid\"},{\"attributes\":{},\"id\":\"c9f416a3-c048-4356-b152-cdcfe5be66c3\",\"type\":\"BasicTickFormatter\"},{\"attributes\":{},\"id\":\"799ea391-86b6-4282-bdaa-e130af8a46b7\",\"type\":\"HelpTool\"},{\"attributes\":{\"callback\":null,\"column_names\":[\"A_RURAL_H_count\",\"A_RURAL_H_mean\",\"A_RURAL_H_std\",\"A_RURAL_H_min\",\"A_RURAL_H_25%\",\"A_RURAL_H_50%\",\"A_RURAL_H_75%\",\"A_RURAL_H_max\",\"A_RURAL_M_count\",\"A_RURAL_M_mean\",\"A_RURAL_M_std\",\"A_RURAL_M_min\",\"A_RURAL_M_25%\",\"A_RURAL_M_50%\",\"A_RURAL_M_75%\",\"A_RURAL_M_max\",\"A_URBANA_H_count\",\"A_URBANA_H_mean\",\"A_URBANA_H_std\",\"A_URBANA_H_min\",\"A_URBANA_H_25%\",\"A_URBANA_H_50%\",\"A_URBANA_H_75%\",\"A_URBANA_H_max\",\"A_URBANA_M_count\",\"A_URBANA_M_mean\",\"A_URBANA_M_std\",\"A_URBANA_M_min\",\"A_URBANA_M_25%\",\"A_URBANA_M_50%\",\"A_URBANA_M_75%\",\"A_URBANA_M_max\",\"TOTAL_H_count\",\"TOTAL_H_mean\",\"TOTAL_H_std\",\"TOTAL_H_min\",\"TOTAL_H_25%\",\"TOTAL_H_50%\",\"TOTAL_H_75%\",\"TOTAL_H_max\",\"TOTAL_M_count\",\"TOTAL_M_mean\",\"TOTAL_M_std\",\"TOTAL_M_min\",\"TOTAL_M_25%\",\"TOTAL_M_50%\",\"TOTAL_M_75%\",\"TOTAL_M_max\",\"GRANDES_GRUPOS_DE_EDAD\"],\"data\":{\"A_RURAL_H_25%\":{\"__ndarray__\":\"ZmZmZmZmBkAzMzMzMzMVQM3MzMzMzCpAZmZmZmYmQUCamZmZmZkkQA==\",\"dtype\":\"float64\",\"shape\":[5]},\"A_RURAL_H_50%\":{\"__ndarray__\":\"ZmZmZmZmBkAzMzMzMzMVQM3MzMzMzCpAZmZmZmYmQUCamZmZmZkkQA==\",\"dtype\":\"float64\",\"shape\":[5]},\"A_RURAL_H_75%\":{\"__ndarray__\":\"ZmZmZmZmBkAzMzMzMzMVQM3MzMzMzCpAZmZmZmYmQUCamZmZmZkkQA==\",\"dtype\":\"float64\",\"shape\":[5]},\"A_RURAL_H_count\":{\"__ndarray__\":\"AAAAAAAA8D8AAAAAAADwPwAAAAAAAPA/AAAAAAAA8D8AAAAAAADwPw==\",\"dtype\":\"float64\",\"shape\":[5]},\"A_RURAL_H_max\":{\"__ndarray__\":\"ZmZmZmZmBkAzMzMzMzMVQM3MzMzMzCpAZmZmZmYmQUCamZmZmZkkQA==\",\"dtype\":\"float64\",\"shape\":[5]},\"A_RURAL_H_mean\":{\"__ndarray__\":\"ZmZmZmZmBkAzMzMzMzMVQM3MzMzMzCpAZmZmZmYmQUCamZmZmZkkQA==\",\"dtype\":\"float64\",\"shape\":[5]},\"A_RURAL_H_min\":{\"__ndarray__\":\"ZmZmZmZmBkAzMzMzMzMVQM3MzMzMzCpAZmZmZmYmQUCamZmZmZkkQA==\",\"dtype\":\"float64\",\"shape\":[5]},\"A_RURAL_H_std\":{\"__ndarray__\":\"AAAAAAAA+H8AAAAAAAD4fwAAAAAAAPh/AAAAAAAA+H8AAAAAAAD4fw==\",\"dtype\":\"float64\",\"shape\":[5]},\"A_RURAL_M_25%\":{\"__ndarray__\":\"AAAAAAAABEBmZmZmZmYWQAAAAAAAgDRAmpmZmZnZSEBmZmZmZmYsQA==\",\"dtype\":\"float64\",\"shape\":[5]},\"A_RURAL_M_50%\":{\"__ndarray__\":\"AAAAAAAABEBmZmZmZmYWQAAAAAAAgDRAmpmZmZnZSEBmZmZmZmYsQA==\",\"dtype\":\"float64\",\"shape\":[5]},\"A_RURAL_M_75%\":{\"__ndarray__\":\"AAAAAAAABEBmZmZmZmYWQAAAAAAAgDRAmpmZmZnZSEBmZmZmZmYsQA==\",\"dtype\":\"float64\",\"shape\":[5]},\"A_RURAL_M_count\":{\"__ndarray__\":\"AAAAAAAA8D8AAAAAAADwPwAAAAAAAPA/AAAAAAAA8D8AAAAAAADwPw==\",\"dtype\":\"float64\",\"shape\":[5]},\"A_RURAL_M_max\":{\"__ndarray__\":\"AAAAAAAABEBmZmZmZmYWQAAAAAAAgDRAmpmZmZnZSEBmZmZmZmYsQA==\",\"dtype\":\"float64\",\"shape\":[5]},\"A_RURAL_M_mean\":{\"__ndarray__\":\"AAAAAAAABEBmZmZmZmYWQAAAAAAAgDRAmpmZmZnZSEBmZmZmZmYsQA==\",\"dtype\":\"float64\",\"shape\":[5]},\"A_RURAL_M_min\":{\"__ndarray__\":\"AAAAAAAABEBmZmZmZmYWQAAAAAAAgDRAmpmZmZnZSEBmZmZmZmYsQA==\",\"dtype\":\"float64\",\"shape\":[5]},\"A_RURAL_M_std\":{\"__ndarray__\":\"AAAAAAAA+H8AAAAAAAD4fwAAAAAAAPh/AAAAAAAA+H8AAAAAAAD4fw==\",\"dtype\":\"float64\",\"shape\":[5]},\"A_URBANA_H_25%\":{\"__ndarray__\":\"MzMzMzMz8z/NzMzMzMz8P2ZmZmZmZg5AmpmZmZmZKUDNzMzMzMwIQA==\",\"dtype\":\"float64\",\"shape\":[5]},\"A_URBANA_H_50%\":{\"__ndarray__\":\"MzMzMzMz8z/NzMzMzMz8P2ZmZmZmZg5AmpmZmZmZKUDNzMzMzMwIQA==\",\"dtype\":\"float64\",\"shape\":[5]},\"A_URBANA_H_75%\":{\"__ndarray__\":\"MzMzMzMz8z/NzMzMzMz8P2ZmZmZmZg5AmpmZmZmZKUDNzMzMzMwIQA==\",\"dtype\":\"float64\",\"shape\":[5]},\"A_URBANA_H_count\":{\"__ndarray__\":\"AAAAAAAA8D8AAAAAAADwPwAAAAAAAPA/AAAAAAAA8D8AAAAAAADwPw==\",\"dtype\":\"float64\",\"shape\":[5]},\"A_URBANA_H_max\":{\"__ndarray__\":\"MzMzMzMz8z/NzMzMzMz8P2ZmZmZmZg5AmpmZmZmZKUDNzMzMzMwIQA==\",\"dtype\":\"float64\",\"shape\":[5]},\"A_URBANA_H_mean\":{\"__ndarray__\":\"MzMzMzMz8z/NzMzMzMz8P2ZmZmZmZg5AmpmZmZmZKUDNzMzMzMwIQA==\",\"dtype\":\"float64\",\"shape\":[5]},\"A_URBANA_H_min\":{\"__ndarray__\":\"MzMzMzMz8z/NzMzMzMz8P2ZmZmZmZg5AmpmZmZmZKUDNzMzMzMwIQA==\",\"dtype\":\"float64\",\"shape\":[5]},\"A_URBANA_H_std\":{\"__ndarray__\":\"AAAAAAAA+H8AAAAAAAD4fwAAAAAAAPh/AAAAAAAA+H8AAAAAAAD4fw==\",\"dtype\":\"float64\",\"shape\":[5]},\"A_URBANA_M_25%\":{\"__ndarray__\":\"zczMzMzM7D8zMzMzMzP7P5qZmZmZmRVAAAAAAACAM0AzMzMzMzMRQA==\",\"dtype\":\"float64\",\"shape\":[5]},\"A_URBANA_M_50%\":{\"__ndarray__\":\"zczMzMzM7D8zMzMzMzP7P5qZmZmZmRVAAAAAAACAM0AzMzMzMzMRQA==\",\"dtype\":\"float64\",\"shape\":[5]},\"A_URBANA_M_75%\":{\"__ndarray__\":\"zczMzMzM7D8zMzMzMzP7P5qZmZmZmRVAAAAAAACAM0AzMzMzMzMRQA==\",\"dtype\":\"float64\",\"shape\":[5]},\"A_URBANA_M_count\":{\"__ndarray__\":\"AAAAAAAA8D8AAAAAAADwPwAAAAAAAPA/AAAAAAAA8D8AAAAAAADwPw==\",\"dtype\":\"float64\",\"shape\":[5]},\"A_URBANA_M_max\":{\"__ndarray__\":\"zczMzMzM7D8zMzMzMzP7P5qZmZmZmRVAAAAAAACAM0AzMzMzMzMRQA==\",\"dtype\":\"float64\",\"shape\":[5]},\"A_URBANA_M_mean\":{\"__ndarray__\":\"zczMzMzM7D8zMzMzMzP7P5qZmZmZmRVAAAAAAACAM0AzMzMzMzMRQA==\",\"dtype\":\"float64\",\"shape\":[5]},\"A_URBANA_M_min\":{\"__ndarray__\":\"zczMzMzM7D8zMzMzMzP7P5qZmZmZmRVAAAAAAACAM0AzMzMzMzMRQA==\",\"dtype\":\"float64\",\"shape\":[5]},\"A_URBANA_M_std\":{\"__ndarray__\":\"AAAAAAAA+H8AAAAAAAD4fwAAAAAAAPh/AAAAAAAA+H8AAAAAAAD4fw==\",\"dtype\":\"float64\",\"shape\":[5]},\"GRANDES_GRUPOS_DE_EDAD\":[\"15-24 a\\u00f1os\",\"25-39 a\\u00f1os\",\"40-64 a\\u00f1os\",\"65 a\\u00f1os y mas\",\"Total nacional\"],\"TOTAL_H_25%\":{\"__ndarray__\":\"zczMzMzM/D8AAAAAAAAIQM3MzMzMzBxAZmZmZmZmNkAzMzMzMzMXQA==\",\"dtype\":\"float64\",\"shape\":[5]},\"TOTAL_H_50%\":{\"__ndarray__\":\"zczMzMzM/D8AAAAAAAAIQM3MzMzMzBxAZmZmZmZmNkAzMzMzMzMXQA==\",\"dtype\":\"float64\",\"shape\":[5]},\"TOTAL_H_75%\":{\"__ndarray__\":\"zczMzMzM/D8AAAAAAAAIQM3MzMzMzBxAZmZmZmZmNkAzMzMzMzMXQA==\",\"dtype\":\"float64\",\"shape\":[5]},\"TOTAL_H_count\":{\"__ndarray__\":\"AAAAAAAA8D8AAAAAAADwPwAAAAAAAPA/AAAAAAAA8D8AAAAAAADwPw==\",\"dtype\":\"float64\",\"shape\":[5]},\"TOTAL_H_max\":{\"__ndarray__\":\"zczMzMzM/D8AAAAAAAAIQM3MzMzMzBxAZmZmZmZmNkAzMzMzMzMXQA==\",\"dtype\":\"float64\",\"shape\":[5]},\"TOTAL_H_mean\":{\"__ndarray__\":\"zczMzMzM/D8AAAAAAAAIQM3MzMzMzBxAZmZmZmZmNkAzMzMzMzMXQA==\",\"dtype\":\"float64\",\"shape\":[5]},\"TOTAL_H_min\":{\"__ndarray__\":\"zczMzMzM/D8AAAAAAAAIQM3MzMzMzBxAZmZmZmZmNkAzMzMzMzMXQA==\",\"dtype\":\"float64\",\"shape\":[5]},\"TOTAL_H_std\":{\"__ndarray__\":\"AAAAAAAA+H8AAAAAAAD4fwAAAAAAAPh/AAAAAAAA+H8AAAAAAAD4fw==\",\"dtype\":\"float64\",\"shape\":[5]},\"TOTAL_M_25%\":{\"__ndarray__\":\"AAAAAAAA+D8AAAAAAAAIQM3MzMzMzCRAmpmZmZmZP0DNzMzMzMweQA==\",\"dtype\":\"float64\",\"shape\":[5]},\"TOTAL_M_50%\":{\"__ndarray__\":\"AAAAAAAA+D8AAAAAAAAIQM3MzMzMzCRAmpmZmZmZP0DNzMzMzMweQA==\",\"dtype\":\"float64\",\"shape\":[5]},\"TOTAL_M_75%\":{\"__ndarray__\":\"AAAAAAAA+D8AAAAAAAAIQM3MzMzMzCRAmpmZmZmZP0DNzMzMzMweQA==\",\"dtype\":\"float64\",\"shape\":[5]},\"TOTAL_M_count\":{\"__ndarray__\":\"AAAAAAAA8D8AAAAAAADwPwAAAAAAAPA/AAAAAAAA8D8AAAAAAADwPw==\",\"dtype\":\"float64\",\"shape\":[5]},\"TOTAL_M_max\":{\"__ndarray__\":\"AAAAAAAA+D8AAAAAAAAIQM3MzMzMzCRAmpmZmZmZP0DNzMzMzMweQA==\",\"dtype\":\"float64\",\"shape\":[5]},\"TOTAL_M_mean\":{\"__ndarray__\":\"AAAAAAAA+D8AAAAAAAAIQM3MzMzMzCRAmpmZmZmZP0DNzMzMzMweQA==\",\"dtype\":\"float64\",\"shape\":[5]},\"TOTAL_M_min\":{\"__ndarray__\":\"AAAAAAAA+D8AAAAAAAAIQM3MzMzMzCRAmpmZmZmZP0DNzMzMzMweQA==\",\"dtype\":\"float64\",\"shape\":[5]},\"TOTAL_M_std\":{\"__ndarray__\":\"AAAAAAAA+H8AAAAAAAD4fwAAAAAAAPh/AAAAAAAA+H8AAAAAAAD4fw==\",\"dtype\":\"float64\",\"shape\":[5]}}},\"id\":\"d6df914c-6661-42c8-a4e1-593ea4ac33f4\",\"type\":\"ColumnDataSource\"},{\"attributes\":{},\"id\":\"98da8cf8-05ec-4ac4-906b-4ba50f695e06\",\"type\":\"CategoricalScale\"},{\"attributes\":{\"bottom_units\":\"screen\",\"fill_alpha\":{\"value\":0.5},\"fill_color\":{\"value\":\"lightgrey\"},\"left_units\":\"screen\",\"level\":\"overlay\",\"line_alpha\":{\"value\":1.0},\"line_color\":{\"value\":\"black\"},\"line_dash\":[4,4],\"line_width\":{\"value\":2},\"plot\":null,\"render_mode\":\"css\",\"right_units\":\"screen\",\"top_units\":\"screen\"},\"id\":\"1292792a-cb38-413c-a8c4-4b850de34c92\",\"type\":\"BoxAnnotation\"},{\"attributes\":{\"overlay\":{\"id\":\"1292792a-cb38-413c-a8c4-4b850de34c92\",\"type\":\"BoxAnnotation\"}},\"id\":\"04426d6c-2e7e-4699-8598-d0d240f78f26\",\"type\":\"BoxZoomTool\"},{\"attributes\":{\"active_drag\":\"auto\",\"active_inspect\":\"auto\",\"active_scroll\":\"auto\",\"active_tap\":\"auto\",\"tools\":[{\"id\":\"64c4cbd3-e5ed-4bd3-a449-4f7b02c1a261\",\"type\":\"PanTool\"},{\"id\":\"271c7015-7dc2-429c-ad9d-d2dc7a370d20\",\"type\":\"WheelZoomTool\"},{\"id\":\"04426d6c-2e7e-4699-8598-d0d240f78f26\",\"type\":\"BoxZoomTool\"},{\"id\":\"aaff31ed-e4c1-4709-9c9d-f4ae1b5ff910\",\"type\":\"SaveTool\"},{\"id\":\"0ca36730-6b5a-472e-a6c7-b6a7c5b8eb75\",\"type\":\"ResetTool\"},{\"id\":\"799ea391-86b6-4282-bdaa-e130af8a46b7\",\"type\":\"HelpTool\"}]},\"id\":\"611c5bbc-e35d-492c-96c3-4dc0d7ce1eb2\",\"type\":\"Toolbar\"},{\"attributes\":{\"source\":{\"id\":\"d6df914c-6661-42c8-a4e1-593ea4ac33f4\",\"type\":\"ColumnDataSource\"}},\"id\":\"dd205295-d7b4-436e-b4c2-e19ca0a46fc9\",\"type\":\"CDSView\"},{\"attributes\":{},\"id\":\"0d0bfbd0-d7f4-43fe-8bfe-94986a1fae55\",\"type\":\"BasicTicker\"},{\"attributes\":{},\"id\":\"0ca36730-6b5a-472e-a6c7-b6a7c5b8eb75\",\"type\":\"ResetTool\"},{\"attributes\":{\"callback\":null,\"start\":0},\"id\":\"7000d289-0f6f-49d1-b125-0f78ba97da31\",\"type\":\"DataRange1d\"},{\"attributes\":{\"line_alpha\":{\"value\":0.1},\"line_color\":{\"value\":\"#1f77b4\"},\"x\":{\"field\":\"GRANDES_GRUPOS_DE_EDAD\"},\"y\":{\"field\":\"A_URBANA_M_mean\"}},\"id\":\"90b88ce3-c6da-40b8-9295-aa8966ad7e78\",\"type\":\"Line\"},{\"attributes\":{\"formatter\":{\"id\":\"c9f416a3-c048-4356-b152-cdcfe5be66c3\",\"type\":\"BasicTickFormatter\"},\"plot\":{\"id\":\"c7d5a276-53a8-433a-ba31-fa20887a1c09\",\"subtype\":\"Figure\",\"type\":\"Plot\"},\"ticker\":{\"id\":\"0d0bfbd0-d7f4-43fe-8bfe-94986a1fae55\",\"type\":\"BasicTicker\"}},\"id\":\"ebc00888-e048-4c3e-a611-9c24ce744b39\",\"type\":\"LinearAxis\"},{\"attributes\":{},\"id\":\"f794b817-10fb-4667-81a8-78292238eaac\",\"type\":\"LinearScale\"},{\"attributes\":{\"line_color\":{\"value\":\"#FF69B4\"},\"x\":{\"field\":\"GRANDES_GRUPOS_DE_EDAD\"},\"y\":{\"field\":\"A_URBANA_M_mean\"}},\"id\":\"a9f9c6d2-d625-49ae-bf79-8b014f7bb7e6\",\"type\":\"Line\"},{\"attributes\":{\"dimension\":1,\"plot\":{\"id\":\"c7d5a276-53a8-433a-ba31-fa20887a1c09\",\"subtype\":\"Figure\",\"type\":\"Plot\"},\"ticker\":{\"id\":\"0d0bfbd0-d7f4-43fe-8bfe-94986a1fae55\",\"type\":\"BasicTicker\"}},\"id\":\"4c957c5a-f0b9-458d-8031-79469919ca6a\",\"type\":\"Grid\"}],\"root_ids\":[\"c7d5a276-53a8-433a-ba31-fa20887a1c09\"]},\"title\":\"Bokeh Application\",\"version\":\"0.12.10\"}};\n",
       "    var render_items = [{\"docid\":\"1244258c-6340-40e7-b22c-0291af480649\",\"elementid\":\"b23f2484-e42c-474b-a175-ad30e37343cd\",\"modelid\":\"c7d5a276-53a8-433a-ba31-fa20887a1c09\"}];\n",
       "\n",
       "    root.Bokeh.embed.embed_items(docs_json, render_items);\n",
       "  }\n",
       "\n",
       "  if (root.Bokeh !== undefined) {\n",
       "    embed_document(root);\n",
       "  } else {\n",
       "    var attempts = 0;\n",
       "    var timer = setInterval(function(root) {\n",
       "      if (root.Bokeh !== undefined) {\n",
       "        embed_document(root);\n",
       "        clearInterval(timer);\n",
       "      }\n",
       "      attempts++;\n",
       "      if (attempts > 100) {\n",
       "        console.log(\"Bokeh: ERROR: Unable to embed document because BokehJS library is missing\")\n",
       "        clearInterval(timer);\n",
       "      }\n",
       "    }, 10, root)\n",
       "  }\n",
       "})(window);"
      ],
      "application/vnd.bokehjs_exec.v0+json": ""
     },
     "metadata": {
      "application/vnd.bokehjs_exec.v0+json": {
       "id": "c7d5a276-53a8-433a-ba31-fa20887a1c09"
      }
     },
     "output_type": "display_data"
    }
   ],
   "source": [
    "# Agrupamos los valores en base a la columna \"GRANDES_GRUPOS_DE_EDAD\" \n",
    "group1 = tabla1.groupby('GRANDES_GRUPOS_DE_EDAD')\n",
    "\n",
    "# Nos permite obtener Mapas nombres de columnas a secuencias o matrices.\n",
    "source = ColumnDataSource(group1)\n",
    "\n",
    "# Creamos un objeto de figura \n",
    "p = figure(\n",
    "    plot_height=250, plot_width=750, # Modificamos tamaño\n",
    "    x_range=group1, # Determinamos el rango x va hacer el grupo1\n",
    "    title='ANALFABETISMO POR AREA Y GRUPOS DE EDAD' # Ponemos un título a la grafica\n",
    ")\n",
    "\n",
    "# Establecemos los atributos de \"line()\"\n",
    "p.line(\n",
    "    x='GRANDES_GRUPOS_DE_EDAD',\n",
    "    y='A_URBANA_M_mean', \n",
    "    color='#FF69B4', # Determinamos el color de la linea \n",
    "    source=source\n",
    ")\n",
    "\n",
    "p.xgrid.grid_line_color = None # No mostramos la linea separadora de x\n",
    "\n",
    "p.xaxis.axis_label = \"AREA URBANA - MUJERES\" # Nombramos al eje x\n",
    "\n",
    "p.y_range.start = 0 # Modificamos para la presentación el rango inicial \n",
    "\n",
    "show(p) # Presentamos"
   ]
  },
  {
   "cell_type": "code",
   "execution_count": 18,
   "metadata": {},
   "outputs": [
    {
     "data": {
      "text/html": [
       "\n",
       "<div class=\"bk-root\">\n",
       "    <div class=\"bk-plotdiv\" id=\"87c5e8e3-c46f-48b7-a717-ac4224111af9\"></div>\n",
       "</div>"
      ]
     },
     "metadata": {},
     "output_type": "display_data"
    },
    {
     "data": {
      "application/javascript": [
       "(function(root) {\n",
       "  function embed_document(root) {\n",
       "    var docs_json = {\"e481ad4f-361b-4df8-806a-92ef47dbef76\":{\"roots\":{\"references\":[{\"attributes\":{},\"id\":\"1b6d8487-1c33-469a-98c0-a1e60210b3f9\",\"type\":\"CategoricalTickFormatter\"},{\"attributes\":{},\"id\":\"432c9c84-552b-44ad-9666-74bc8900e844\",\"type\":\"CategoricalScale\"},{\"attributes\":{\"callback\":null,\"start\":0},\"id\":\"87d93ee9-b0a0-41cc-af3f-78ba6f110b40\",\"type\":\"DataRange1d\"},{\"attributes\":{},\"id\":\"14027e75-6baf-4680-af7a-2a8b50ee0d1f\",\"type\":\"CategoricalTicker\"},{\"attributes\":{\"plot\":null,\"text\":\"ANALFABETISMO POR AREA Y GRUPOS DE EDAD\"},\"id\":\"51665eec-6145-4156-8152-2a8dbeb2d3c0\",\"type\":\"Title\"},{\"attributes\":{\"source\":{\"id\":\"a8a74884-b22d-46d8-bc5d-2eff71413ef1\",\"type\":\"ColumnDataSource\"}},\"id\":\"92782f90-9dfd-454c-b260-10180d42eccc\",\"type\":\"CDSView\"},{\"attributes\":{\"formatter\":{\"id\":\"a8f8d5fc-6e56-4cfe-b0e7-4eb85d40b36a\",\"type\":\"BasicTickFormatter\"},\"plot\":{\"id\":\"5ba1e2a9-ef32-4b91-874a-c2f93d51ec36\",\"subtype\":\"Figure\",\"type\":\"Plot\"},\"ticker\":{\"id\":\"722f067a-6ac2-4b56-997b-98a6ef4862db\",\"type\":\"BasicTicker\"}},\"id\":\"1a524dc2-1c95-43f7-bc32-a0b0d01530c4\",\"type\":\"LinearAxis\"},{\"attributes\":{},\"id\":\"c33ec156-bd17-46f2-89a5-dbcdbedc8e82\",\"type\":\"LinearScale\"},{\"attributes\":{},\"id\":\"a8f8d5fc-6e56-4cfe-b0e7-4eb85d40b36a\",\"type\":\"BasicTickFormatter\"},{\"attributes\":{},\"id\":\"80ea1ea3-a5cb-4631-a5c1-6b290a56a83f\",\"type\":\"ResetTool\"},{\"attributes\":{\"source\":{\"id\":\"a8a74884-b22d-46d8-bc5d-2eff71413ef1\",\"type\":\"ColumnDataSource\"}},\"id\":\"be394539-fc80-45c9-a4c6-66b98c1ea8b0\",\"type\":\"CDSView\"},{\"attributes\":{\"bottom_units\":\"screen\",\"fill_alpha\":{\"value\":0.5},\"fill_color\":{\"value\":\"lightgrey\"},\"left_units\":\"screen\",\"level\":\"overlay\",\"line_alpha\":{\"value\":1.0},\"line_color\":{\"value\":\"black\"},\"line_dash\":[4,4],\"line_width\":{\"value\":2},\"plot\":null,\"render_mode\":\"css\",\"right_units\":\"screen\",\"top_units\":\"screen\"},\"id\":\"8f364b07-0cd6-4425-aa65-4980ebe4d600\",\"type\":\"BoxAnnotation\"},{\"attributes\":{\"dimension\":1,\"plot\":{\"id\":\"5ba1e2a9-ef32-4b91-874a-c2f93d51ec36\",\"subtype\":\"Figure\",\"type\":\"Plot\"},\"ticker\":{\"id\":\"722f067a-6ac2-4b56-997b-98a6ef4862db\",\"type\":\"BasicTicker\"}},\"id\":\"f8ac887c-24ee-4208-9324-731546c37684\",\"type\":\"Grid\"},{\"attributes\":{\"line_alpha\":{\"value\":0.1},\"line_color\":{\"value\":\"#1f77b4\"},\"x\":{\"field\":\"GRANDES_GRUPOS_DE_EDAD\"},\"y\":{\"field\":\"A_URBANA_M_mean\"}},\"id\":\"dae648d4-91d1-4cda-a89f-56dbcbdb820f\",\"type\":\"Line\"},{\"attributes\":{\"data_source\":{\"id\":\"a8a74884-b22d-46d8-bc5d-2eff71413ef1\",\"type\":\"ColumnDataSource\"},\"glyph\":{\"id\":\"774fc2b8-9bc1-41f0-8795-7ecb3744ec5d\",\"type\":\"Line\"},\"hover_glyph\":null,\"muted_glyph\":null,\"nonselection_glyph\":{\"id\":\"dae648d4-91d1-4cda-a89f-56dbcbdb820f\",\"type\":\"Line\"},\"selection_glyph\":null,\"view\":{\"id\":\"92782f90-9dfd-454c-b260-10180d42eccc\",\"type\":\"CDSView\"}},\"id\":\"935b6555-5026-4a2a-ae3d-0e78462c6f46\",\"type\":\"GlyphRenderer\"},{\"attributes\":{\"overlay\":{\"id\":\"8f364b07-0cd6-4425-aa65-4980ebe4d600\",\"type\":\"BoxAnnotation\"}},\"id\":\"76cddb3b-32bd-46b3-b82e-2eef59b9b4d5\",\"type\":\"BoxZoomTool\"},{\"attributes\":{},\"id\":\"cbdf6457-f16c-4a54-bc74-b137f5815de6\",\"type\":\"PanTool\"},{\"attributes\":{},\"id\":\"2cb8c49f-fdbd-434a-ac06-3026b47bed1f\",\"type\":\"SaveTool\"},{\"attributes\":{\"fill_alpha\":{\"value\":0.1},\"fill_color\":{\"value\":\"#1f77b4\"},\"line_alpha\":{\"value\":0.1},\"line_color\":{\"value\":\"#1f77b4\"},\"size\":{\"units\":\"screen\",\"value\":5.5},\"x\":{\"field\":\"GRANDES_GRUPOS_DE_EDAD\"},\"y\":{\"field\":\"A_URBANA_M_mean\"}},\"id\":\"cbc226ac-22d9-41bd-87aa-8ec98c1843d6\",\"type\":\"Circle\"},{\"attributes\":{\"data_source\":{\"id\":\"a8a74884-b22d-46d8-bc5d-2eff71413ef1\",\"type\":\"ColumnDataSource\"},\"glyph\":{\"id\":\"f9f7ead4-b2d7-4363-be59-820b8f7f895d\",\"type\":\"Circle\"},\"hover_glyph\":null,\"muted_glyph\":null,\"nonselection_glyph\":{\"id\":\"cbc226ac-22d9-41bd-87aa-8ec98c1843d6\",\"type\":\"Circle\"},\"selection_glyph\":null,\"view\":{\"id\":\"be394539-fc80-45c9-a4c6-66b98c1ea8b0\",\"type\":\"CDSView\"}},\"id\":\"8864cc15-96c2-4312-8ec3-01ebf71ecedd\",\"type\":\"GlyphRenderer\"},{\"attributes\":{\"fill_color\":{\"value\":\"#FF69B4\"},\"line_color\":{\"value\":\"#FF69B4\"},\"size\":{\"units\":\"screen\",\"value\":5.5},\"x\":{\"field\":\"GRANDES_GRUPOS_DE_EDAD\"},\"y\":{\"field\":\"A_URBANA_M_mean\"}},\"id\":\"f9f7ead4-b2d7-4363-be59-820b8f7f895d\",\"type\":\"Circle\"},{\"attributes\":{\"callback\":null,\"column_names\":[\"A_RURAL_H_count\",\"A_RURAL_H_mean\",\"A_RURAL_H_std\",\"A_RURAL_H_min\",\"A_RURAL_H_25%\",\"A_RURAL_H_50%\",\"A_RURAL_H_75%\",\"A_RURAL_H_max\",\"A_RURAL_M_count\",\"A_RURAL_M_mean\",\"A_RURAL_M_std\",\"A_RURAL_M_min\",\"A_RURAL_M_25%\",\"A_RURAL_M_50%\",\"A_RURAL_M_75%\",\"A_RURAL_M_max\",\"A_URBANA_H_count\",\"A_URBANA_H_mean\",\"A_URBANA_H_std\",\"A_URBANA_H_min\",\"A_URBANA_H_25%\",\"A_URBANA_H_50%\",\"A_URBANA_H_75%\",\"A_URBANA_H_max\",\"A_URBANA_M_count\",\"A_URBANA_M_mean\",\"A_URBANA_M_std\",\"A_URBANA_M_min\",\"A_URBANA_M_25%\",\"A_URBANA_M_50%\",\"A_URBANA_M_75%\",\"A_URBANA_M_max\",\"TOTAL_H_count\",\"TOTAL_H_mean\",\"TOTAL_H_std\",\"TOTAL_H_min\",\"TOTAL_H_25%\",\"TOTAL_H_50%\",\"TOTAL_H_75%\",\"TOTAL_H_max\",\"TOTAL_M_count\",\"TOTAL_M_mean\",\"TOTAL_M_std\",\"TOTAL_M_min\",\"TOTAL_M_25%\",\"TOTAL_M_50%\",\"TOTAL_M_75%\",\"TOTAL_M_max\",\"GRANDES_GRUPOS_DE_EDAD\"],\"data\":{\"A_RURAL_H_25%\":{\"__ndarray__\":\"ZmZmZmZmBkAzMzMzMzMVQM3MzMzMzCpAZmZmZmYmQUCamZmZmZkkQA==\",\"dtype\":\"float64\",\"shape\":[5]},\"A_RURAL_H_50%\":{\"__ndarray__\":\"ZmZmZmZmBkAzMzMzMzMVQM3MzMzMzCpAZmZmZmYmQUCamZmZmZkkQA==\",\"dtype\":\"float64\",\"shape\":[5]},\"A_RURAL_H_75%\":{\"__ndarray__\":\"ZmZmZmZmBkAzMzMzMzMVQM3MzMzMzCpAZmZmZmYmQUCamZmZmZkkQA==\",\"dtype\":\"float64\",\"shape\":[5]},\"A_RURAL_H_count\":{\"__ndarray__\":\"AAAAAAAA8D8AAAAAAADwPwAAAAAAAPA/AAAAAAAA8D8AAAAAAADwPw==\",\"dtype\":\"float64\",\"shape\":[5]},\"A_RURAL_H_max\":{\"__ndarray__\":\"ZmZmZmZmBkAzMzMzMzMVQM3MzMzMzCpAZmZmZmYmQUCamZmZmZkkQA==\",\"dtype\":\"float64\",\"shape\":[5]},\"A_RURAL_H_mean\":{\"__ndarray__\":\"ZmZmZmZmBkAzMzMzMzMVQM3MzMzMzCpAZmZmZmYmQUCamZmZmZkkQA==\",\"dtype\":\"float64\",\"shape\":[5]},\"A_RURAL_H_min\":{\"__ndarray__\":\"ZmZmZmZmBkAzMzMzMzMVQM3MzMzMzCpAZmZmZmYmQUCamZmZmZkkQA==\",\"dtype\":\"float64\",\"shape\":[5]},\"A_RURAL_H_std\":{\"__ndarray__\":\"AAAAAAAA+H8AAAAAAAD4fwAAAAAAAPh/AAAAAAAA+H8AAAAAAAD4fw==\",\"dtype\":\"float64\",\"shape\":[5]},\"A_RURAL_M_25%\":{\"__ndarray__\":\"AAAAAAAABEBmZmZmZmYWQAAAAAAAgDRAmpmZmZnZSEBmZmZmZmYsQA==\",\"dtype\":\"float64\",\"shape\":[5]},\"A_RURAL_M_50%\":{\"__ndarray__\":\"AAAAAAAABEBmZmZmZmYWQAAAAAAAgDRAmpmZmZnZSEBmZmZmZmYsQA==\",\"dtype\":\"float64\",\"shape\":[5]},\"A_RURAL_M_75%\":{\"__ndarray__\":\"AAAAAAAABEBmZmZmZmYWQAAAAAAAgDRAmpmZmZnZSEBmZmZmZmYsQA==\",\"dtype\":\"float64\",\"shape\":[5]},\"A_RURAL_M_count\":{\"__ndarray__\":\"AAAAAAAA8D8AAAAAAADwPwAAAAAAAPA/AAAAAAAA8D8AAAAAAADwPw==\",\"dtype\":\"float64\",\"shape\":[5]},\"A_RURAL_M_max\":{\"__ndarray__\":\"AAAAAAAABEBmZmZmZmYWQAAAAAAAgDRAmpmZmZnZSEBmZmZmZmYsQA==\",\"dtype\":\"float64\",\"shape\":[5]},\"A_RURAL_M_mean\":{\"__ndarray__\":\"AAAAAAAABEBmZmZmZmYWQAAAAAAAgDRAmpmZmZnZSEBmZmZmZmYsQA==\",\"dtype\":\"float64\",\"shape\":[5]},\"A_RURAL_M_min\":{\"__ndarray__\":\"AAAAAAAABEBmZmZmZmYWQAAAAAAAgDRAmpmZmZnZSEBmZmZmZmYsQA==\",\"dtype\":\"float64\",\"shape\":[5]},\"A_RURAL_M_std\":{\"__ndarray__\":\"AAAAAAAA+H8AAAAAAAD4fwAAAAAAAPh/AAAAAAAA+H8AAAAAAAD4fw==\",\"dtype\":\"float64\",\"shape\":[5]},\"A_URBANA_H_25%\":{\"__ndarray__\":\"MzMzMzMz8z/NzMzMzMz8P2ZmZmZmZg5AmpmZmZmZKUDNzMzMzMwIQA==\",\"dtype\":\"float64\",\"shape\":[5]},\"A_URBANA_H_50%\":{\"__ndarray__\":\"MzMzMzMz8z/NzMzMzMz8P2ZmZmZmZg5AmpmZmZmZKUDNzMzMzMwIQA==\",\"dtype\":\"float64\",\"shape\":[5]},\"A_URBANA_H_75%\":{\"__ndarray__\":\"MzMzMzMz8z/NzMzMzMz8P2ZmZmZmZg5AmpmZmZmZKUDNzMzMzMwIQA==\",\"dtype\":\"float64\",\"shape\":[5]},\"A_URBANA_H_count\":{\"__ndarray__\":\"AAAAAAAA8D8AAAAAAADwPwAAAAAAAPA/AAAAAAAA8D8AAAAAAADwPw==\",\"dtype\":\"float64\",\"shape\":[5]},\"A_URBANA_H_max\":{\"__ndarray__\":\"MzMzMzMz8z/NzMzMzMz8P2ZmZmZmZg5AmpmZmZmZKUDNzMzMzMwIQA==\",\"dtype\":\"float64\",\"shape\":[5]},\"A_URBANA_H_mean\":{\"__ndarray__\":\"MzMzMzMz8z/NzMzMzMz8P2ZmZmZmZg5AmpmZmZmZKUDNzMzMzMwIQA==\",\"dtype\":\"float64\",\"shape\":[5]},\"A_URBANA_H_min\":{\"__ndarray__\":\"MzMzMzMz8z/NzMzMzMz8P2ZmZmZmZg5AmpmZmZmZKUDNzMzMzMwIQA==\",\"dtype\":\"float64\",\"shape\":[5]},\"A_URBANA_H_std\":{\"__ndarray__\":\"AAAAAAAA+H8AAAAAAAD4fwAAAAAAAPh/AAAAAAAA+H8AAAAAAAD4fw==\",\"dtype\":\"float64\",\"shape\":[5]},\"A_URBANA_M_25%\":{\"__ndarray__\":\"zczMzMzM7D8zMzMzMzP7P5qZmZmZmRVAAAAAAACAM0AzMzMzMzMRQA==\",\"dtype\":\"float64\",\"shape\":[5]},\"A_URBANA_M_50%\":{\"__ndarray__\":\"zczMzMzM7D8zMzMzMzP7P5qZmZmZmRVAAAAAAACAM0AzMzMzMzMRQA==\",\"dtype\":\"float64\",\"shape\":[5]},\"A_URBANA_M_75%\":{\"__ndarray__\":\"zczMzMzM7D8zMzMzMzP7P5qZmZmZmRVAAAAAAACAM0AzMzMzMzMRQA==\",\"dtype\":\"float64\",\"shape\":[5]},\"A_URBANA_M_count\":{\"__ndarray__\":\"AAAAAAAA8D8AAAAAAADwPwAAAAAAAPA/AAAAAAAA8D8AAAAAAADwPw==\",\"dtype\":\"float64\",\"shape\":[5]},\"A_URBANA_M_max\":{\"__ndarray__\":\"zczMzMzM7D8zMzMzMzP7P5qZmZmZmRVAAAAAAACAM0AzMzMzMzMRQA==\",\"dtype\":\"float64\",\"shape\":[5]},\"A_URBANA_M_mean\":{\"__ndarray__\":\"zczMzMzM7D8zMzMzMzP7P5qZmZmZmRVAAAAAAACAM0AzMzMzMzMRQA==\",\"dtype\":\"float64\",\"shape\":[5]},\"A_URBANA_M_min\":{\"__ndarray__\":\"zczMzMzM7D8zMzMzMzP7P5qZmZmZmRVAAAAAAACAM0AzMzMzMzMRQA==\",\"dtype\":\"float64\",\"shape\":[5]},\"A_URBANA_M_std\":{\"__ndarray__\":\"AAAAAAAA+H8AAAAAAAD4fwAAAAAAAPh/AAAAAAAA+H8AAAAAAAD4fw==\",\"dtype\":\"float64\",\"shape\":[5]},\"GRANDES_GRUPOS_DE_EDAD\":[\"15-24 a\\u00f1os\",\"25-39 a\\u00f1os\",\"40-64 a\\u00f1os\",\"65 a\\u00f1os y mas\",\"Total nacional\"],\"TOTAL_H_25%\":{\"__ndarray__\":\"zczMzMzM/D8AAAAAAAAIQM3MzMzMzBxAZmZmZmZmNkAzMzMzMzMXQA==\",\"dtype\":\"float64\",\"shape\":[5]},\"TOTAL_H_50%\":{\"__ndarray__\":\"zczMzMzM/D8AAAAAAAAIQM3MzMzMzBxAZmZmZmZmNkAzMzMzMzMXQA==\",\"dtype\":\"float64\",\"shape\":[5]},\"TOTAL_H_75%\":{\"__ndarray__\":\"zczMzMzM/D8AAAAAAAAIQM3MzMzMzBxAZmZmZmZmNkAzMzMzMzMXQA==\",\"dtype\":\"float64\",\"shape\":[5]},\"TOTAL_H_count\":{\"__ndarray__\":\"AAAAAAAA8D8AAAAAAADwPwAAAAAAAPA/AAAAAAAA8D8AAAAAAADwPw==\",\"dtype\":\"float64\",\"shape\":[5]},\"TOTAL_H_max\":{\"__ndarray__\":\"zczMzMzM/D8AAAAAAAAIQM3MzMzMzBxAZmZmZmZmNkAzMzMzMzMXQA==\",\"dtype\":\"float64\",\"shape\":[5]},\"TOTAL_H_mean\":{\"__ndarray__\":\"zczMzMzM/D8AAAAAAAAIQM3MzMzMzBxAZmZmZmZmNkAzMzMzMzMXQA==\",\"dtype\":\"float64\",\"shape\":[5]},\"TOTAL_H_min\":{\"__ndarray__\":\"zczMzMzM/D8AAAAAAAAIQM3MzMzMzBxAZmZmZmZmNkAzMzMzMzMXQA==\",\"dtype\":\"float64\",\"shape\":[5]},\"TOTAL_H_std\":{\"__ndarray__\":\"AAAAAAAA+H8AAAAAAAD4fwAAAAAAAPh/AAAAAAAA+H8AAAAAAAD4fw==\",\"dtype\":\"float64\",\"shape\":[5]},\"TOTAL_M_25%\":{\"__ndarray__\":\"AAAAAAAA+D8AAAAAAAAIQM3MzMzMzCRAmpmZmZmZP0DNzMzMzMweQA==\",\"dtype\":\"float64\",\"shape\":[5]},\"TOTAL_M_50%\":{\"__ndarray__\":\"AAAAAAAA+D8AAAAAAAAIQM3MzMzMzCRAmpmZmZmZP0DNzMzMzMweQA==\",\"dtype\":\"float64\",\"shape\":[5]},\"TOTAL_M_75%\":{\"__ndarray__\":\"AAAAAAAA+D8AAAAAAAAIQM3MzMzMzCRAmpmZmZmZP0DNzMzMzMweQA==\",\"dtype\":\"float64\",\"shape\":[5]},\"TOTAL_M_count\":{\"__ndarray__\":\"AAAAAAAA8D8AAAAAAADwPwAAAAAAAPA/AAAAAAAA8D8AAAAAAADwPw==\",\"dtype\":\"float64\",\"shape\":[5]},\"TOTAL_M_max\":{\"__ndarray__\":\"AAAAAAAA+D8AAAAAAAAIQM3MzMzMzCRAmpmZmZmZP0DNzMzMzMweQA==\",\"dtype\":\"float64\",\"shape\":[5]},\"TOTAL_M_mean\":{\"__ndarray__\":\"AAAAAAAA+D8AAAAAAAAIQM3MzMzMzCRAmpmZmZmZP0DNzMzMzMweQA==\",\"dtype\":\"float64\",\"shape\":[5]},\"TOTAL_M_min\":{\"__ndarray__\":\"AAAAAAAA+D8AAAAAAAAIQM3MzMzMzCRAmpmZmZmZP0DNzMzMzMweQA==\",\"dtype\":\"float64\",\"shape\":[5]},\"TOTAL_M_std\":{\"__ndarray__\":\"AAAAAAAA+H8AAAAAAAD4fwAAAAAAAPh/AAAAAAAA+H8AAAAAAAD4fw==\",\"dtype\":\"float64\",\"shape\":[5]}}},\"id\":\"a8a74884-b22d-46d8-bc5d-2eff71413ef1\",\"type\":\"ColumnDataSource\"},{\"attributes\":{\"line_color\":{\"value\":\"#FF69B4\"},\"x\":{\"field\":\"GRANDES_GRUPOS_DE_EDAD\"},\"y\":{\"field\":\"A_URBANA_M_mean\"}},\"id\":\"774fc2b8-9bc1-41f0-8795-7ecb3744ec5d\",\"type\":\"Line\"},{\"attributes\":{\"below\":[{\"id\":\"35517833-9fd1-4bc0-b638-930b7268e4a1\",\"type\":\"CategoricalAxis\"}],\"left\":[{\"id\":\"1a524dc2-1c95-43f7-bc32-a0b0d01530c4\",\"type\":\"LinearAxis\"}],\"plot_height\":250,\"plot_width\":750,\"renderers\":[{\"id\":\"35517833-9fd1-4bc0-b638-930b7268e4a1\",\"type\":\"CategoricalAxis\"},{\"id\":\"e7922ae8-d757-467a-8d72-57762ae73f1f\",\"type\":\"Grid\"},{\"id\":\"1a524dc2-1c95-43f7-bc32-a0b0d01530c4\",\"type\":\"LinearAxis\"},{\"id\":\"f8ac887c-24ee-4208-9324-731546c37684\",\"type\":\"Grid\"},{\"id\":\"8f364b07-0cd6-4425-aa65-4980ebe4d600\",\"type\":\"BoxAnnotation\"},{\"id\":\"935b6555-5026-4a2a-ae3d-0e78462c6f46\",\"type\":\"GlyphRenderer\"},{\"id\":\"8864cc15-96c2-4312-8ec3-01ebf71ecedd\",\"type\":\"GlyphRenderer\"}],\"title\":{\"id\":\"51665eec-6145-4156-8152-2a8dbeb2d3c0\",\"type\":\"Title\"},\"toolbar\":{\"id\":\"ec694727-ac24-492c-a76f-116c03562a10\",\"type\":\"Toolbar\"},\"x_range\":{\"id\":\"bcd39f8e-1001-4c11-b6f0-a409db7585bc\",\"type\":\"FactorRange\"},\"x_scale\":{\"id\":\"432c9c84-552b-44ad-9666-74bc8900e844\",\"type\":\"CategoricalScale\"},\"y_range\":{\"id\":\"87d93ee9-b0a0-41cc-af3f-78ba6f110b40\",\"type\":\"DataRange1d\"},\"y_scale\":{\"id\":\"c33ec156-bd17-46f2-89a5-dbcdbedc8e82\",\"type\":\"LinearScale\"}},\"id\":\"5ba1e2a9-ef32-4b91-874a-c2f93d51ec36\",\"subtype\":\"Figure\",\"type\":\"Plot\"},{\"attributes\":{\"active_drag\":\"auto\",\"active_inspect\":\"auto\",\"active_scroll\":\"auto\",\"active_tap\":\"auto\",\"tools\":[{\"id\":\"cbdf6457-f16c-4a54-bc74-b137f5815de6\",\"type\":\"PanTool\"},{\"id\":\"883256b7-0854-4b0b-97a2-a2fc1b8822c8\",\"type\":\"WheelZoomTool\"},{\"id\":\"76cddb3b-32bd-46b3-b82e-2eef59b9b4d5\",\"type\":\"BoxZoomTool\"},{\"id\":\"2cb8c49f-fdbd-434a-ac06-3026b47bed1f\",\"type\":\"SaveTool\"},{\"id\":\"80ea1ea3-a5cb-4631-a5c1-6b290a56a83f\",\"type\":\"ResetTool\"},{\"id\":\"34842a1c-6b61-4f11-8add-aa64f779c8c5\",\"type\":\"HelpTool\"}]},\"id\":\"ec694727-ac24-492c-a76f-116c03562a10\",\"type\":\"Toolbar\"},{\"attributes\":{\"axis_label\":\"AREA URBANA - MUJERES\",\"formatter\":{\"id\":\"1b6d8487-1c33-469a-98c0-a1e60210b3f9\",\"type\":\"CategoricalTickFormatter\"},\"plot\":{\"id\":\"5ba1e2a9-ef32-4b91-874a-c2f93d51ec36\",\"subtype\":\"Figure\",\"type\":\"Plot\"},\"ticker\":{\"id\":\"14027e75-6baf-4680-af7a-2a8b50ee0d1f\",\"type\":\"CategoricalTicker\"}},\"id\":\"35517833-9fd1-4bc0-b638-930b7268e4a1\",\"type\":\"CategoricalAxis\"},{\"attributes\":{\"callback\":null,\"factors\":[\"15-24 a\\u00f1os\",\"25-39 a\\u00f1os\",\"40-64 a\\u00f1os\",\"65 a\\u00f1os y mas\",\"Total nacional\"]},\"id\":\"bcd39f8e-1001-4c11-b6f0-a409db7585bc\",\"type\":\"FactorRange\"},{\"attributes\":{},\"id\":\"722f067a-6ac2-4b56-997b-98a6ef4862db\",\"type\":\"BasicTicker\"},{\"attributes\":{\"plot\":{\"id\":\"5ba1e2a9-ef32-4b91-874a-c2f93d51ec36\",\"subtype\":\"Figure\",\"type\":\"Plot\"},\"ticker\":{\"id\":\"14027e75-6baf-4680-af7a-2a8b50ee0d1f\",\"type\":\"CategoricalTicker\"}},\"id\":\"e7922ae8-d757-467a-8d72-57762ae73f1f\",\"type\":\"Grid\"},{\"attributes\":{},\"id\":\"883256b7-0854-4b0b-97a2-a2fc1b8822c8\",\"type\":\"WheelZoomTool\"},{\"attributes\":{},\"id\":\"34842a1c-6b61-4f11-8add-aa64f779c8c5\",\"type\":\"HelpTool\"}],\"root_ids\":[\"5ba1e2a9-ef32-4b91-874a-c2f93d51ec36\"]},\"title\":\"Bokeh Application\",\"version\":\"0.12.10\"}};\n",
       "    var render_items = [{\"docid\":\"e481ad4f-361b-4df8-806a-92ef47dbef76\",\"elementid\":\"87c5e8e3-c46f-48b7-a717-ac4224111af9\",\"modelid\":\"5ba1e2a9-ef32-4b91-874a-c2f93d51ec36\"}];\n",
       "\n",
       "    root.Bokeh.embed.embed_items(docs_json, render_items);\n",
       "  }\n",
       "\n",
       "  if (root.Bokeh !== undefined) {\n",
       "    embed_document(root);\n",
       "  } else {\n",
       "    var attempts = 0;\n",
       "    var timer = setInterval(function(root) {\n",
       "      if (root.Bokeh !== undefined) {\n",
       "        embed_document(root);\n",
       "        clearInterval(timer);\n",
       "      }\n",
       "      attempts++;\n",
       "      if (attempts > 100) {\n",
       "        console.log(\"Bokeh: ERROR: Unable to embed document because BokehJS library is missing\")\n",
       "        clearInterval(timer);\n",
       "      }\n",
       "    }, 10, root)\n",
       "  }\n",
       "})(window);"
      ],
      "application/vnd.bokehjs_exec.v0+json": ""
     },
     "metadata": {
      "application/vnd.bokehjs_exec.v0+json": {
       "id": "5ba1e2a9-ef32-4b91-874a-c2f93d51ec36"
      }
     },
     "output_type": "display_data"
    }
   ],
   "source": [
    "# Agrupamos los valores en base a la columna \"GRANDES_GRUPOS_DE_EDAD\" \n",
    "group1 = tabla1.groupby('GRANDES_GRUPOS_DE_EDAD')\n",
    "\n",
    "# Nos permite obtener Mapas nombres de columnas a secuencias o matrices.\n",
    "source = ColumnDataSource(group1)\n",
    "\n",
    "# Creamos un objeto de figura y establecemos su tamaño, rango, y le damos un título \n",
    "p = figure(plot_height=250, plot_width=750, x_range=group1,  title='ANALFABETISMO POR AREA Y GRUPOS DE EDAD')\n",
    "\n",
    "# Podemos crear una grafica que combine dos o más plotting\n",
    "\n",
    "p.line(x='GRANDES_GRUPOS_DE_EDAD', y='A_URBANA_M_mean', color='#FF69B4', source=source)\n",
    "\n",
    "p.circle(\n",
    "    x='GRANDES_GRUPOS_DE_EDAD', \n",
    "    y='A_URBANA_M_mean', \n",
    "    color='#FF69B4', \n",
    "    size=5.5, # Damos el tamaño de los circulos\n",
    "    source=source\n",
    ")\n",
    "\n",
    "p.xaxis.axis_label = \"AREA URBANA - MUJERES\" # Damos un titulo al eje x\n",
    "\n",
    "p.y_range.start = 0 # Modificamos para la presentación el rango inicial \n",
    "\n",
    "show(p)"
   ]
  },
  {
   "cell_type": "code",
   "execution_count": 23,
   "metadata": {},
   "outputs": [
    {
     "data": {
      "text/html": [
       "\n",
       "<div class=\"bk-root\">\n",
       "    <div class=\"bk-plotdiv\" id=\"a1d9e01a-783e-457d-8df0-fb3be20384b1\"></div>\n",
       "</div>"
      ]
     },
     "metadata": {},
     "output_type": "display_data"
    },
    {
     "data": {
      "application/javascript": [
       "(function(root) {\n",
       "  function embed_document(root) {\n",
       "    var docs_json = {\"59ad078b-9aa2-4062-a2bc-ee41289adb44\":{\"roots\":{\"references\":[{\"attributes\":{\"plot\":{\"id\":\"1530b150-6ed9-4cb3-aca4-43fd682b1a87\",\"subtype\":\"Figure\",\"type\":\"Plot\"},\"ticker\":{\"id\":\"63c21f19-0446-4526-9665-571a466bfbd3\",\"type\":\"CategoricalTicker\"}},\"id\":\"c3b08d2b-3e9a-439f-8d28-3f7e3296bf36\",\"type\":\"Grid\"},{\"attributes\":{},\"id\":\"d90507ed-922f-4188-8658-40b2649b7de0\",\"type\":\"BasicTicker\"},{\"attributes\":{\"fill_color\":{\"value\":\"#82B1FF\"},\"line_color\":{\"value\":\"white\"},\"top\":{\"field\":\"TOTAL_M_mean\"},\"width\":{\"value\":0.7},\"x\":{\"field\":\"GRANDES_GRUPOS_DE_EDAD\"}},\"id\":\"aae53dbe-b8da-4109-9951-7623f69f083c\",\"type\":\"VBar\"},{\"attributes\":{\"formatter\":{\"id\":\"214ce0e5-bb91-4ea4-a2ad-f70ba711ef56\",\"type\":\"BasicTickFormatter\"},\"plot\":{\"id\":\"1530b150-6ed9-4cb3-aca4-43fd682b1a87\",\"subtype\":\"Figure\",\"type\":\"Plot\"},\"ticker\":{\"id\":\"906d80f7-50b6-49fd-900f-177c35d71142\",\"type\":\"BasicTicker\"}},\"id\":\"9820f39e-74ef-4bb1-a363-d44a1048f300\",\"type\":\"LinearAxis\"},{\"attributes\":{},\"id\":\"d7a80448-9314-467a-9d2f-bb58c365b59f\",\"type\":\"ResetTool\"},{\"attributes\":{\"callback\":null,\"factors\":[\"15-24 a\\u00f1os\",\"25-39 a\\u00f1os\",\"40-64 a\\u00f1os\",\"65 a\\u00f1os y mas\",\"Total nacional\"]},\"id\":\"b87700f6-7809-41ff-9bfe-e6d2449b7cd0\",\"type\":\"FactorRange\"},{\"attributes\":{},\"id\":\"a24689d2-a451-4707-b1f0-86fdbf4702a9\",\"type\":\"CategoricalScale\"},{\"attributes\":{\"source\":{\"id\":\"6ea96d6e-968f-4866-aa08-2bdcfe175543\",\"type\":\"ColumnDataSource\"}},\"id\":\"dc8bd6cd-6b75-4eb2-8b5f-b5bde524f618\",\"type\":\"CDSView\"},{\"attributes\":{\"formatter\":{\"id\":\"cb098d99-e8a5-4ec3-942b-637242f9d97e\",\"type\":\"BasicTickFormatter\"},\"plot\":{\"id\":\"57386cfa-a74a-4b19-b2dc-b4eb11942ee7\",\"subtype\":\"Figure\",\"type\":\"Plot\"},\"ticker\":{\"id\":\"d90507ed-922f-4188-8658-40b2649b7de0\",\"type\":\"BasicTicker\"}},\"id\":\"af6730cd-b9a7-4177-92c7-305d4b97f971\",\"type\":\"LinearAxis\"},{\"attributes\":{\"plot\":null,\"text\":\"TOTAL MUJERES\"},\"id\":\"abfaeb1d-ea28-45db-9f74-cbaa183e775f\",\"type\":\"Title\"},{\"attributes\":{},\"id\":\"2a16cae5-2924-4d20-a7ac-a24bcbc7c792\",\"type\":\"CategoricalTickFormatter\"},{\"attributes\":{},\"id\":\"95542cb8-dbde-42a2-ac7b-30c6ffa79c82\",\"type\":\"LinearScale\"},{\"attributes\":{},\"id\":\"d490ebbe-2db6-44a3-b48b-0c63bdd9a57c\",\"type\":\"PanTool\"},{\"attributes\":{\"children\":[{\"id\":\"57386cfa-a74a-4b19-b2dc-b4eb11942ee7\",\"subtype\":\"Figure\",\"type\":\"Plot\"},{\"id\":\"1530b150-6ed9-4cb3-aca4-43fd682b1a87\",\"subtype\":\"Figure\",\"type\":\"Plot\"}]},\"id\":\"1cb4735e-93c5-4b3c-ba66-ae8d5c23062e\",\"type\":\"Row\"},{\"attributes\":{\"plot\":null,\"text\":\"TOTAL HOMBRES\"},\"id\":\"b9650aa6-87de-4645-b12f-1b0a3a7d984c\",\"type\":\"Title\"},{\"attributes\":{\"bottom_units\":\"screen\",\"fill_alpha\":{\"value\":0.5},\"fill_color\":{\"value\":\"lightgrey\"},\"left_units\":\"screen\",\"level\":\"overlay\",\"line_alpha\":{\"value\":1.0},\"line_color\":{\"value\":\"black\"},\"line_dash\":[4,4],\"line_width\":{\"value\":2},\"plot\":null,\"render_mode\":\"css\",\"right_units\":\"screen\",\"top_units\":\"screen\"},\"id\":\"9573a895-4b65-4f47-bec1-6b2b4528b287\",\"type\":\"BoxAnnotation\"},{\"attributes\":{},\"id\":\"9f976d0b-948f-4b4b-9e3f-d25eaf3049bd\",\"type\":\"PanTool\"},{\"attributes\":{\"source\":{\"id\":\"6ea96d6e-968f-4866-aa08-2bdcfe175543\",\"type\":\"ColumnDataSource\"}},\"id\":\"8db5cdb2-22f8-4583-aca1-a76ee5157edc\",\"type\":\"CDSView\"},{\"attributes\":{\"dimension\":1,\"plot\":{\"id\":\"57386cfa-a74a-4b19-b2dc-b4eb11942ee7\",\"subtype\":\"Figure\",\"type\":\"Plot\"},\"ticker\":{\"id\":\"d90507ed-922f-4188-8658-40b2649b7de0\",\"type\":\"BasicTicker\"}},\"id\":\"34efe9e2-a9a0-4fc7-89bb-6fc75c4657f6\",\"type\":\"Grid\"},{\"attributes\":{\"fill_alpha\":{\"value\":0.1},\"fill_color\":{\"value\":\"#1f77b4\"},\"line_alpha\":{\"value\":0.1},\"line_color\":{\"value\":\"#1f77b4\"},\"top\":{\"field\":\"TOTAL_M_mean\"},\"width\":{\"value\":0.7},\"x\":{\"field\":\"GRANDES_GRUPOS_DE_EDAD\"}},\"id\":\"78df2bd0-4a10-419f-95e0-fcd102520ed5\",\"type\":\"VBar\"},{\"attributes\":{},\"id\":\"906d80f7-50b6-49fd-900f-177c35d71142\",\"type\":\"BasicTicker\"},{\"attributes\":{\"fill_alpha\":{\"value\":0.1},\"fill_color\":{\"value\":\"#1f77b4\"},\"line_alpha\":{\"value\":0.1},\"line_color\":{\"value\":\"#1f77b4\"},\"top\":{\"field\":\"TOTAL_H_mean\"},\"width\":{\"value\":0.7},\"x\":{\"field\":\"GRANDES_GRUPOS_DE_EDAD\"}},\"id\":\"be521032-06e7-4f6b-8831-0ec24b4d6ab8\",\"type\":\"VBar\"},{\"attributes\":{\"below\":[{\"id\":\"adbf2bf4-38f8-4a7f-b492-efd069afb249\",\"type\":\"CategoricalAxis\"}],\"left\":[{\"id\":\"9820f39e-74ef-4bb1-a363-d44a1048f300\",\"type\":\"LinearAxis\"}],\"plot_height\":450,\"plot_width\":450,\"renderers\":[{\"id\":\"adbf2bf4-38f8-4a7f-b492-efd069afb249\",\"type\":\"CategoricalAxis\"},{\"id\":\"c3b08d2b-3e9a-439f-8d28-3f7e3296bf36\",\"type\":\"Grid\"},{\"id\":\"9820f39e-74ef-4bb1-a363-d44a1048f300\",\"type\":\"LinearAxis\"},{\"id\":\"15450be1-f9ea-4db5-a1bf-6b66122e1f70\",\"type\":\"Grid\"},{\"id\":\"fffc3196-3eae-4cef-b61b-2af8fc2c74b9\",\"type\":\"BoxAnnotation\"},{\"id\":\"12c5ad06-a212-4212-bd80-cb9a4e94d343\",\"type\":\"GlyphRenderer\"}],\"title\":{\"id\":\"b9650aa6-87de-4645-b12f-1b0a3a7d984c\",\"type\":\"Title\"},\"toolbar\":{\"id\":\"745fc7a6-43eb-43be-8481-787837e52e33\",\"type\":\"Toolbar\"},\"toolbar_location\":null,\"x_range\":{\"id\":\"ca401dbe-ec89-4685-bc5d-6ee0cdabaf21\",\"type\":\"FactorRange\"},\"x_scale\":{\"id\":\"4796637a-b7b0-4be4-ab6b-e3d8d81233a5\",\"type\":\"CategoricalScale\"},\"y_range\":{\"id\":\"8a1444ad-a39f-4b3e-9696-0c1a1ff21224\",\"type\":\"DataRange1d\"},\"y_scale\":{\"id\":\"95542cb8-dbde-42a2-ac7b-30c6ffa79c82\",\"type\":\"LinearScale\"}},\"id\":\"1530b150-6ed9-4cb3-aca4-43fd682b1a87\",\"subtype\":\"Figure\",\"type\":\"Plot\"},{\"attributes\":{\"data_source\":{\"id\":\"6ea96d6e-968f-4866-aa08-2bdcfe175543\",\"type\":\"ColumnDataSource\"},\"glyph\":{\"id\":\"5032f745-72b0-4e47-b6fa-53bd3969c5ed\",\"type\":\"VBar\"},\"hover_glyph\":null,\"muted_glyph\":null,\"nonselection_glyph\":{\"id\":\"be521032-06e7-4f6b-8831-0ec24b4d6ab8\",\"type\":\"VBar\"},\"selection_glyph\":null,\"view\":{\"id\":\"8db5cdb2-22f8-4583-aca1-a76ee5157edc\",\"type\":\"CDSView\"}},\"id\":\"12c5ad06-a212-4212-bd80-cb9a4e94d343\",\"type\":\"GlyphRenderer\"},{\"attributes\":{\"data_source\":{\"id\":\"6ea96d6e-968f-4866-aa08-2bdcfe175543\",\"type\":\"ColumnDataSource\"},\"glyph\":{\"id\":\"aae53dbe-b8da-4109-9951-7623f69f083c\",\"type\":\"VBar\"},\"hover_glyph\":null,\"muted_glyph\":null,\"nonselection_glyph\":{\"id\":\"78df2bd0-4a10-419f-95e0-fcd102520ed5\",\"type\":\"VBar\"},\"selection_glyph\":null,\"view\":{\"id\":\"dc8bd6cd-6b75-4eb2-8b5f-b5bde524f618\",\"type\":\"CDSView\"}},\"id\":\"76a3d710-4ecb-4c48-92b1-4d7a854c88d8\",\"type\":\"GlyphRenderer\"},{\"attributes\":{},\"id\":\"cb098d99-e8a5-4ec3-942b-637242f9d97e\",\"type\":\"BasicTickFormatter\"},{\"attributes\":{},\"id\":\"214ce0e5-bb91-4ea4-a2ad-f70ba711ef56\",\"type\":\"BasicTickFormatter\"},{\"attributes\":{\"active_drag\":\"auto\",\"active_inspect\":\"auto\",\"active_scroll\":\"auto\",\"active_tap\":\"auto\",\"tools\":[{\"id\":\"d490ebbe-2db6-44a3-b48b-0c63bdd9a57c\",\"type\":\"PanTool\"},{\"id\":\"eebe2443-0196-4654-a6eb-d2d097d13ff5\",\"type\":\"WheelZoomTool\"},{\"id\":\"f6b67944-efde-48d2-ac1a-5c67241bbafa\",\"type\":\"BoxZoomTool\"},{\"id\":\"b4d682c4-f374-410b-a0ef-4179677d7fc2\",\"type\":\"ResetTool\"},{\"id\":\"4df71128-91c3-44ea-bdc9-849e33291f63\",\"type\":\"SaveTool\"}]},\"id\":\"745fc7a6-43eb-43be-8481-787837e52e33\",\"type\":\"Toolbar\"},{\"attributes\":{\"overlay\":{\"id\":\"9573a895-4b65-4f47-bec1-6b2b4528b287\",\"type\":\"BoxAnnotation\"}},\"id\":\"3f4eaebc-1737-441e-a0ad-329506af99e8\",\"type\":\"BoxZoomTool\"},{\"attributes\":{\"fill_color\":{\"value\":\"#F08080\"},\"line_color\":{\"value\":\"white\"},\"top\":{\"field\":\"TOTAL_H_mean\"},\"width\":{\"value\":0.7},\"x\":{\"field\":\"GRANDES_GRUPOS_DE_EDAD\"}},\"id\":\"5032f745-72b0-4e47-b6fa-53bd3969c5ed\",\"type\":\"VBar\"},{\"attributes\":{\"children\":[{\"id\":\"1cb4735e-93c5-4b3c-ba66-ae8d5c23062e\",\"type\":\"Row\"}]},\"id\":\"7092bd28-6be5-417d-bd97-5bed3f8fc49f\",\"type\":\"Column\"},{\"attributes\":{\"below\":[{\"id\":\"5b7fc9f7-8a07-4f09-922a-57e9771fac50\",\"type\":\"CategoricalAxis\"}],\"left\":[{\"id\":\"af6730cd-b9a7-4177-92c7-305d4b97f971\",\"type\":\"LinearAxis\"}],\"plot_height\":450,\"plot_width\":450,\"renderers\":[{\"id\":\"5b7fc9f7-8a07-4f09-922a-57e9771fac50\",\"type\":\"CategoricalAxis\"},{\"id\":\"25bb4b7a-f020-4d95-82d6-934ef2be06dc\",\"type\":\"Grid\"},{\"id\":\"af6730cd-b9a7-4177-92c7-305d4b97f971\",\"type\":\"LinearAxis\"},{\"id\":\"34efe9e2-a9a0-4fc7-89bb-6fc75c4657f6\",\"type\":\"Grid\"},{\"id\":\"9573a895-4b65-4f47-bec1-6b2b4528b287\",\"type\":\"BoxAnnotation\"},{\"id\":\"76a3d710-4ecb-4c48-92b1-4d7a854c88d8\",\"type\":\"GlyphRenderer\"}],\"title\":{\"id\":\"abfaeb1d-ea28-45db-9f74-cbaa183e775f\",\"type\":\"Title\"},\"toolbar\":{\"id\":\"d305f258-28f2-4440-8648-417d6931c8be\",\"type\":\"Toolbar\"},\"toolbar_location\":null,\"x_range\":{\"id\":\"b87700f6-7809-41ff-9bfe-e6d2449b7cd0\",\"type\":\"FactorRange\"},\"x_scale\":{\"id\":\"a24689d2-a451-4707-b1f0-86fdbf4702a9\",\"type\":\"CategoricalScale\"},\"y_range\":{\"id\":\"49e855ef-888a-4488-b48e-41ede42fb7da\",\"type\":\"DataRange1d\"},\"y_scale\":{\"id\":\"092864ac-5ef5-421f-bb81-d6678316ae9d\",\"type\":\"LinearScale\"}},\"id\":\"57386cfa-a74a-4b19-b2dc-b4eb11942ee7\",\"subtype\":\"Figure\",\"type\":\"Plot\"},{\"attributes\":{},\"id\":\"63c21f19-0446-4526-9665-571a466bfbd3\",\"type\":\"CategoricalTicker\"},{\"attributes\":{},\"id\":\"b4d682c4-f374-410b-a0ef-4179677d7fc2\",\"type\":\"ResetTool\"},{\"attributes\":{},\"id\":\"4796637a-b7b0-4be4-ab6b-e3d8d81233a5\",\"type\":\"CategoricalScale\"},{\"attributes\":{},\"id\":\"eebe2443-0196-4654-a6eb-d2d097d13ff5\",\"type\":\"WheelZoomTool\"},{\"attributes\":{\"children\":[{\"id\":\"48b08594-7388-4706-b790-e3de2792af50\",\"type\":\"ToolbarBox\"},{\"id\":\"7092bd28-6be5-417d-bd97-5bed3f8fc49f\",\"type\":\"Column\"}]},\"id\":\"f6e008ac-46e6-4cfe-b9f1-7a9ec3040a45\",\"type\":\"Column\"},{\"attributes\":{},\"id\":\"d998eb3e-db78-48d3-9097-42f33f4840d5\",\"type\":\"SaveTool\"},{\"attributes\":{\"plot\":{\"id\":\"57386cfa-a74a-4b19-b2dc-b4eb11942ee7\",\"subtype\":\"Figure\",\"type\":\"Plot\"},\"ticker\":{\"id\":\"9d99e755-2f54-4ec7-b4a5-007e46e0d123\",\"type\":\"CategoricalTicker\"}},\"id\":\"25bb4b7a-f020-4d95-82d6-934ef2be06dc\",\"type\":\"Grid\"},{\"attributes\":{},\"id\":\"205df955-d04d-492a-b747-caf3d24c6fba\",\"type\":\"CategoricalTickFormatter\"},{\"attributes\":{\"callback\":null},\"id\":\"49e855ef-888a-4488-b48e-41ede42fb7da\",\"type\":\"DataRange1d\"},{\"attributes\":{\"callback\":null},\"id\":\"8a1444ad-a39f-4b3e-9696-0c1a1ff21224\",\"type\":\"DataRange1d\"},{\"attributes\":{\"active_drag\":\"auto\",\"active_inspect\":\"auto\",\"active_scroll\":\"auto\",\"active_tap\":\"auto\",\"tools\":[{\"id\":\"9f976d0b-948f-4b4b-9e3f-d25eaf3049bd\",\"type\":\"PanTool\"},{\"id\":\"2396e6e3-e8ab-4a6d-991b-009a36c9f782\",\"type\":\"WheelZoomTool\"},{\"id\":\"3f4eaebc-1737-441e-a0ad-329506af99e8\",\"type\":\"BoxZoomTool\"},{\"id\":\"d7a80448-9314-467a-9d2f-bb58c365b59f\",\"type\":\"ResetTool\"},{\"id\":\"d998eb3e-db78-48d3-9097-42f33f4840d5\",\"type\":\"SaveTool\"}]},\"id\":\"d305f258-28f2-4440-8648-417d6931c8be\",\"type\":\"Toolbar\"},{\"attributes\":{},\"id\":\"092864ac-5ef5-421f-bb81-d6678316ae9d\",\"type\":\"LinearScale\"},{\"attributes\":{\"dimension\":1,\"plot\":{\"id\":\"1530b150-6ed9-4cb3-aca4-43fd682b1a87\",\"subtype\":\"Figure\",\"type\":\"Plot\"},\"ticker\":{\"id\":\"906d80f7-50b6-49fd-900f-177c35d71142\",\"type\":\"BasicTicker\"}},\"id\":\"15450be1-f9ea-4db5-a1bf-6b66122e1f70\",\"type\":\"Grid\"},{\"attributes\":{\"overlay\":{\"id\":\"fffc3196-3eae-4cef-b61b-2af8fc2c74b9\",\"type\":\"BoxAnnotation\"}},\"id\":\"f6b67944-efde-48d2-ac1a-5c67241bbafa\",\"type\":\"BoxZoomTool\"},{\"attributes\":{\"callback\":null,\"factors\":[\"15-24 a\\u00f1os\",\"25-39 a\\u00f1os\",\"40-64 a\\u00f1os\",\"65 a\\u00f1os y mas\",\"Total nacional\"]},\"id\":\"ca401dbe-ec89-4685-bc5d-6ee0cdabaf21\",\"type\":\"FactorRange\"},{\"attributes\":{\"formatter\":{\"id\":\"2a16cae5-2924-4d20-a7ac-a24bcbc7c792\",\"type\":\"CategoricalTickFormatter\"},\"plot\":{\"id\":\"1530b150-6ed9-4cb3-aca4-43fd682b1a87\",\"subtype\":\"Figure\",\"type\":\"Plot\"},\"ticker\":{\"id\":\"63c21f19-0446-4526-9665-571a466bfbd3\",\"type\":\"CategoricalTicker\"}},\"id\":\"adbf2bf4-38f8-4a7f-b492-efd069afb249\",\"type\":\"CategoricalAxis\"},{\"attributes\":{},\"id\":\"2396e6e3-e8ab-4a6d-991b-009a36c9f782\",\"type\":\"WheelZoomTool\"},{\"attributes\":{\"callback\":null,\"column_names\":[\"A_RURAL_H_count\",\"A_RURAL_H_mean\",\"A_RURAL_H_std\",\"A_RURAL_H_min\",\"A_RURAL_H_25%\",\"A_RURAL_H_50%\",\"A_RURAL_H_75%\",\"A_RURAL_H_max\",\"A_RURAL_M_count\",\"A_RURAL_M_mean\",\"A_RURAL_M_std\",\"A_RURAL_M_min\",\"A_RURAL_M_25%\",\"A_RURAL_M_50%\",\"A_RURAL_M_75%\",\"A_RURAL_M_max\",\"A_URBANA_H_count\",\"A_URBANA_H_mean\",\"A_URBANA_H_std\",\"A_URBANA_H_min\",\"A_URBANA_H_25%\",\"A_URBANA_H_50%\",\"A_URBANA_H_75%\",\"A_URBANA_H_max\",\"A_URBANA_M_count\",\"A_URBANA_M_mean\",\"A_URBANA_M_std\",\"A_URBANA_M_min\",\"A_URBANA_M_25%\",\"A_URBANA_M_50%\",\"A_URBANA_M_75%\",\"A_URBANA_M_max\",\"TOTAL_H_count\",\"TOTAL_H_mean\",\"TOTAL_H_std\",\"TOTAL_H_min\",\"TOTAL_H_25%\",\"TOTAL_H_50%\",\"TOTAL_H_75%\",\"TOTAL_H_max\",\"TOTAL_M_count\",\"TOTAL_M_mean\",\"TOTAL_M_std\",\"TOTAL_M_min\",\"TOTAL_M_25%\",\"TOTAL_M_50%\",\"TOTAL_M_75%\",\"TOTAL_M_max\",\"GRANDES_GRUPOS_DE_EDAD\"],\"data\":{\"A_RURAL_H_25%\":{\"__ndarray__\":\"ZmZmZmZmBkAzMzMzMzMVQM3MzMzMzCpAZmZmZmYmQUCamZmZmZkkQA==\",\"dtype\":\"float64\",\"shape\":[5]},\"A_RURAL_H_50%\":{\"__ndarray__\":\"ZmZmZmZmBkAzMzMzMzMVQM3MzMzMzCpAZmZmZmYmQUCamZmZmZkkQA==\",\"dtype\":\"float64\",\"shape\":[5]},\"A_RURAL_H_75%\":{\"__ndarray__\":\"ZmZmZmZmBkAzMzMzMzMVQM3MzMzMzCpAZmZmZmYmQUCamZmZmZkkQA==\",\"dtype\":\"float64\",\"shape\":[5]},\"A_RURAL_H_count\":{\"__ndarray__\":\"AAAAAAAA8D8AAAAAAADwPwAAAAAAAPA/AAAAAAAA8D8AAAAAAADwPw==\",\"dtype\":\"float64\",\"shape\":[5]},\"A_RURAL_H_max\":{\"__ndarray__\":\"ZmZmZmZmBkAzMzMzMzMVQM3MzMzMzCpAZmZmZmYmQUCamZmZmZkkQA==\",\"dtype\":\"float64\",\"shape\":[5]},\"A_RURAL_H_mean\":{\"__ndarray__\":\"ZmZmZmZmBkAzMzMzMzMVQM3MzMzMzCpAZmZmZmYmQUCamZmZmZkkQA==\",\"dtype\":\"float64\",\"shape\":[5]},\"A_RURAL_H_min\":{\"__ndarray__\":\"ZmZmZmZmBkAzMzMzMzMVQM3MzMzMzCpAZmZmZmYmQUCamZmZmZkkQA==\",\"dtype\":\"float64\",\"shape\":[5]},\"A_RURAL_H_std\":{\"__ndarray__\":\"AAAAAAAA+H8AAAAAAAD4fwAAAAAAAPh/AAAAAAAA+H8AAAAAAAD4fw==\",\"dtype\":\"float64\",\"shape\":[5]},\"A_RURAL_M_25%\":{\"__ndarray__\":\"AAAAAAAABEBmZmZmZmYWQAAAAAAAgDRAmpmZmZnZSEBmZmZmZmYsQA==\",\"dtype\":\"float64\",\"shape\":[5]},\"A_RURAL_M_50%\":{\"__ndarray__\":\"AAAAAAAABEBmZmZmZmYWQAAAAAAAgDRAmpmZmZnZSEBmZmZmZmYsQA==\",\"dtype\":\"float64\",\"shape\":[5]},\"A_RURAL_M_75%\":{\"__ndarray__\":\"AAAAAAAABEBmZmZmZmYWQAAAAAAAgDRAmpmZmZnZSEBmZmZmZmYsQA==\",\"dtype\":\"float64\",\"shape\":[5]},\"A_RURAL_M_count\":{\"__ndarray__\":\"AAAAAAAA8D8AAAAAAADwPwAAAAAAAPA/AAAAAAAA8D8AAAAAAADwPw==\",\"dtype\":\"float64\",\"shape\":[5]},\"A_RURAL_M_max\":{\"__ndarray__\":\"AAAAAAAABEBmZmZmZmYWQAAAAAAAgDRAmpmZmZnZSEBmZmZmZmYsQA==\",\"dtype\":\"float64\",\"shape\":[5]},\"A_RURAL_M_mean\":{\"__ndarray__\":\"AAAAAAAABEBmZmZmZmYWQAAAAAAAgDRAmpmZmZnZSEBmZmZmZmYsQA==\",\"dtype\":\"float64\",\"shape\":[5]},\"A_RURAL_M_min\":{\"__ndarray__\":\"AAAAAAAABEBmZmZmZmYWQAAAAAAAgDRAmpmZmZnZSEBmZmZmZmYsQA==\",\"dtype\":\"float64\",\"shape\":[5]},\"A_RURAL_M_std\":{\"__ndarray__\":\"AAAAAAAA+H8AAAAAAAD4fwAAAAAAAPh/AAAAAAAA+H8AAAAAAAD4fw==\",\"dtype\":\"float64\",\"shape\":[5]},\"A_URBANA_H_25%\":{\"__ndarray__\":\"MzMzMzMz8z/NzMzMzMz8P2ZmZmZmZg5AmpmZmZmZKUDNzMzMzMwIQA==\",\"dtype\":\"float64\",\"shape\":[5]},\"A_URBANA_H_50%\":{\"__ndarray__\":\"MzMzMzMz8z/NzMzMzMz8P2ZmZmZmZg5AmpmZmZmZKUDNzMzMzMwIQA==\",\"dtype\":\"float64\",\"shape\":[5]},\"A_URBANA_H_75%\":{\"__ndarray__\":\"MzMzMzMz8z/NzMzMzMz8P2ZmZmZmZg5AmpmZmZmZKUDNzMzMzMwIQA==\",\"dtype\":\"float64\",\"shape\":[5]},\"A_URBANA_H_count\":{\"__ndarray__\":\"AAAAAAAA8D8AAAAAAADwPwAAAAAAAPA/AAAAAAAA8D8AAAAAAADwPw==\",\"dtype\":\"float64\",\"shape\":[5]},\"A_URBANA_H_max\":{\"__ndarray__\":\"MzMzMzMz8z/NzMzMzMz8P2ZmZmZmZg5AmpmZmZmZKUDNzMzMzMwIQA==\",\"dtype\":\"float64\",\"shape\":[5]},\"A_URBANA_H_mean\":{\"__ndarray__\":\"MzMzMzMz8z/NzMzMzMz8P2ZmZmZmZg5AmpmZmZmZKUDNzMzMzMwIQA==\",\"dtype\":\"float64\",\"shape\":[5]},\"A_URBANA_H_min\":{\"__ndarray__\":\"MzMzMzMz8z/NzMzMzMz8P2ZmZmZmZg5AmpmZmZmZKUDNzMzMzMwIQA==\",\"dtype\":\"float64\",\"shape\":[5]},\"A_URBANA_H_std\":{\"__ndarray__\":\"AAAAAAAA+H8AAAAAAAD4fwAAAAAAAPh/AAAAAAAA+H8AAAAAAAD4fw==\",\"dtype\":\"float64\",\"shape\":[5]},\"A_URBANA_M_25%\":{\"__ndarray__\":\"zczMzMzM7D8zMzMzMzP7P5qZmZmZmRVAAAAAAACAM0AzMzMzMzMRQA==\",\"dtype\":\"float64\",\"shape\":[5]},\"A_URBANA_M_50%\":{\"__ndarray__\":\"zczMzMzM7D8zMzMzMzP7P5qZmZmZmRVAAAAAAACAM0AzMzMzMzMRQA==\",\"dtype\":\"float64\",\"shape\":[5]},\"A_URBANA_M_75%\":{\"__ndarray__\":\"zczMzMzM7D8zMzMzMzP7P5qZmZmZmRVAAAAAAACAM0AzMzMzMzMRQA==\",\"dtype\":\"float64\",\"shape\":[5]},\"A_URBANA_M_count\":{\"__ndarray__\":\"AAAAAAAA8D8AAAAAAADwPwAAAAAAAPA/AAAAAAAA8D8AAAAAAADwPw==\",\"dtype\":\"float64\",\"shape\":[5]},\"A_URBANA_M_max\":{\"__ndarray__\":\"zczMzMzM7D8zMzMzMzP7P5qZmZmZmRVAAAAAAACAM0AzMzMzMzMRQA==\",\"dtype\":\"float64\",\"shape\":[5]},\"A_URBANA_M_mean\":{\"__ndarray__\":\"zczMzMzM7D8zMzMzMzP7P5qZmZmZmRVAAAAAAACAM0AzMzMzMzMRQA==\",\"dtype\":\"float64\",\"shape\":[5]},\"A_URBANA_M_min\":{\"__ndarray__\":\"zczMzMzM7D8zMzMzMzP7P5qZmZmZmRVAAAAAAACAM0AzMzMzMzMRQA==\",\"dtype\":\"float64\",\"shape\":[5]},\"A_URBANA_M_std\":{\"__ndarray__\":\"AAAAAAAA+H8AAAAAAAD4fwAAAAAAAPh/AAAAAAAA+H8AAAAAAAD4fw==\",\"dtype\":\"float64\",\"shape\":[5]},\"GRANDES_GRUPOS_DE_EDAD\":[\"15-24 a\\u00f1os\",\"25-39 a\\u00f1os\",\"40-64 a\\u00f1os\",\"65 a\\u00f1os y mas\",\"Total nacional\"],\"TOTAL_H_25%\":{\"__ndarray__\":\"zczMzMzM/D8AAAAAAAAIQM3MzMzMzBxAZmZmZmZmNkAzMzMzMzMXQA==\",\"dtype\":\"float64\",\"shape\":[5]},\"TOTAL_H_50%\":{\"__ndarray__\":\"zczMzMzM/D8AAAAAAAAIQM3MzMzMzBxAZmZmZmZmNkAzMzMzMzMXQA==\",\"dtype\":\"float64\",\"shape\":[5]},\"TOTAL_H_75%\":{\"__ndarray__\":\"zczMzMzM/D8AAAAAAAAIQM3MzMzMzBxAZmZmZmZmNkAzMzMzMzMXQA==\",\"dtype\":\"float64\",\"shape\":[5]},\"TOTAL_H_count\":{\"__ndarray__\":\"AAAAAAAA8D8AAAAAAADwPwAAAAAAAPA/AAAAAAAA8D8AAAAAAADwPw==\",\"dtype\":\"float64\",\"shape\":[5]},\"TOTAL_H_max\":{\"__ndarray__\":\"zczMzMzM/D8AAAAAAAAIQM3MzMzMzBxAZmZmZmZmNkAzMzMzMzMXQA==\",\"dtype\":\"float64\",\"shape\":[5]},\"TOTAL_H_mean\":{\"__ndarray__\":\"zczMzMzM/D8AAAAAAAAIQM3MzMzMzBxAZmZmZmZmNkAzMzMzMzMXQA==\",\"dtype\":\"float64\",\"shape\":[5]},\"TOTAL_H_min\":{\"__ndarray__\":\"zczMzMzM/D8AAAAAAAAIQM3MzMzMzBxAZmZmZmZmNkAzMzMzMzMXQA==\",\"dtype\":\"float64\",\"shape\":[5]},\"TOTAL_H_std\":{\"__ndarray__\":\"AAAAAAAA+H8AAAAAAAD4fwAAAAAAAPh/AAAAAAAA+H8AAAAAAAD4fw==\",\"dtype\":\"float64\",\"shape\":[5]},\"TOTAL_M_25%\":{\"__ndarray__\":\"AAAAAAAA+D8AAAAAAAAIQM3MzMzMzCRAmpmZmZmZP0DNzMzMzMweQA==\",\"dtype\":\"float64\",\"shape\":[5]},\"TOTAL_M_50%\":{\"__ndarray__\":\"AAAAAAAA+D8AAAAAAAAIQM3MzMzMzCRAmpmZmZmZP0DNzMzMzMweQA==\",\"dtype\":\"float64\",\"shape\":[5]},\"TOTAL_M_75%\":{\"__ndarray__\":\"AAAAAAAA+D8AAAAAAAAIQM3MzMzMzCRAmpmZmZmZP0DNzMzMzMweQA==\",\"dtype\":\"float64\",\"shape\":[5]},\"TOTAL_M_count\":{\"__ndarray__\":\"AAAAAAAA8D8AAAAAAADwPwAAAAAAAPA/AAAAAAAA8D8AAAAAAADwPw==\",\"dtype\":\"float64\",\"shape\":[5]},\"TOTAL_M_max\":{\"__ndarray__\":\"AAAAAAAA+D8AAAAAAAAIQM3MzMzMzCRAmpmZmZmZP0DNzMzMzMweQA==\",\"dtype\":\"float64\",\"shape\":[5]},\"TOTAL_M_mean\":{\"__ndarray__\":\"AAAAAAAA+D8AAAAAAAAIQM3MzMzMzCRAmpmZmZmZP0DNzMzMzMweQA==\",\"dtype\":\"float64\",\"shape\":[5]},\"TOTAL_M_min\":{\"__ndarray__\":\"AAAAAAAA+D8AAAAAAAAIQM3MzMzMzCRAmpmZmZmZP0DNzMzMzMweQA==\",\"dtype\":\"float64\",\"shape\":[5]},\"TOTAL_M_std\":{\"__ndarray__\":\"AAAAAAAA+H8AAAAAAAD4fwAAAAAAAPh/AAAAAAAA+H8AAAAAAAD4fw==\",\"dtype\":\"float64\",\"shape\":[5]}}},\"id\":\"6ea96d6e-968f-4866-aa08-2bdcfe175543\",\"type\":\"ColumnDataSource\"},{\"attributes\":{},\"id\":\"4df71128-91c3-44ea-bdc9-849e33291f63\",\"type\":\"SaveTool\"},{\"attributes\":{\"formatter\":{\"id\":\"205df955-d04d-492a-b747-caf3d24c6fba\",\"type\":\"CategoricalTickFormatter\"},\"plot\":{\"id\":\"57386cfa-a74a-4b19-b2dc-b4eb11942ee7\",\"subtype\":\"Figure\",\"type\":\"Plot\"},\"ticker\":{\"id\":\"9d99e755-2f54-4ec7-b4a5-007e46e0d123\",\"type\":\"CategoricalTicker\"}},\"id\":\"5b7fc9f7-8a07-4f09-922a-57e9771fac50\",\"type\":\"CategoricalAxis\"},{\"attributes\":{\"bottom_units\":\"screen\",\"fill_alpha\":{\"value\":0.5},\"fill_color\":{\"value\":\"lightgrey\"},\"left_units\":\"screen\",\"level\":\"overlay\",\"line_alpha\":{\"value\":1.0},\"line_color\":{\"value\":\"black\"},\"line_dash\":[4,4],\"line_width\":{\"value\":2},\"plot\":null,\"render_mode\":\"css\",\"right_units\":\"screen\",\"top_units\":\"screen\"},\"id\":\"fffc3196-3eae-4cef-b61b-2af8fc2c74b9\",\"type\":\"BoxAnnotation\"},{\"attributes\":{},\"id\":\"9d99e755-2f54-4ec7-b4a5-007e46e0d123\",\"type\":\"CategoricalTicker\"},{\"attributes\":{\"sizing_mode\":\"scale_width\",\"toolbar_location\":\"above\",\"tools\":[{\"id\":\"9f976d0b-948f-4b4b-9e3f-d25eaf3049bd\",\"type\":\"PanTool\"},{\"id\":\"2396e6e3-e8ab-4a6d-991b-009a36c9f782\",\"type\":\"WheelZoomTool\"},{\"id\":\"3f4eaebc-1737-441e-a0ad-329506af99e8\",\"type\":\"BoxZoomTool\"},{\"id\":\"d7a80448-9314-467a-9d2f-bb58c365b59f\",\"type\":\"ResetTool\"},{\"id\":\"d998eb3e-db78-48d3-9097-42f33f4840d5\",\"type\":\"SaveTool\"},{\"id\":\"d490ebbe-2db6-44a3-b48b-0c63bdd9a57c\",\"type\":\"PanTool\"},{\"id\":\"eebe2443-0196-4654-a6eb-d2d097d13ff5\",\"type\":\"WheelZoomTool\"},{\"id\":\"f6b67944-efde-48d2-ac1a-5c67241bbafa\",\"type\":\"BoxZoomTool\"},{\"id\":\"b4d682c4-f374-410b-a0ef-4179677d7fc2\",\"type\":\"ResetTool\"},{\"id\":\"4df71128-91c3-44ea-bdc9-849e33291f63\",\"type\":\"SaveTool\"}]},\"id\":\"48b08594-7388-4706-b790-e3de2792af50\",\"type\":\"ToolbarBox\"}],\"root_ids\":[\"f6e008ac-46e6-4cfe-b9f1-7a9ec3040a45\"]},\"title\":\"Bokeh Application\",\"version\":\"0.12.10\"}};\n",
       "    var render_items = [{\"docid\":\"59ad078b-9aa2-4062-a2bc-ee41289adb44\",\"elementid\":\"a1d9e01a-783e-457d-8df0-fb3be20384b1\",\"modelid\":\"f6e008ac-46e6-4cfe-b9f1-7a9ec3040a45\"}];\n",
       "\n",
       "    root.Bokeh.embed.embed_items(docs_json, render_items);\n",
       "  }\n",
       "\n",
       "  if (root.Bokeh !== undefined) {\n",
       "    embed_document(root);\n",
       "  } else {\n",
       "    var attempts = 0;\n",
       "    var timer = setInterval(function(root) {\n",
       "      if (root.Bokeh !== undefined) {\n",
       "        embed_document(root);\n",
       "        clearInterval(timer);\n",
       "      }\n",
       "      attempts++;\n",
       "      if (attempts > 100) {\n",
       "        console.log(\"Bokeh: ERROR: Unable to embed document because BokehJS library is missing\")\n",
       "        clearInterval(timer);\n",
       "      }\n",
       "    }, 10, root)\n",
       "  }\n",
       "})(window);"
      ],
      "application/vnd.bokehjs_exec.v0+json": ""
     },
     "metadata": {
      "application/vnd.bokehjs_exec.v0+json": {
       "id": "f6e008ac-46e6-4cfe-b9f1-7a9ec3040a45"
      }
     },
     "output_type": "display_data"
    }
   ],
   "source": [
    "# Importamos gridplot - para presentar varias graficas en una\n",
    "from bokeh.layouts import gridplot\n",
    "\n",
    "# Agrupamos los valores en base a la columna \"GRANDES_GRUPOS_DE_EDAD\" \n",
    "group1 = tabla1.groupby('GRANDES_GRUPOS_DE_EDAD')\n",
    "\n",
    "# Nos permite obtener Mapas nombres de columnas a secuencias o matrices.\n",
    "source = ColumnDataSource(group1)\n",
    "\n",
    "# Creamos un una variable con un diccionario que alberga las parametros de la figura ha crear\n",
    "options = dict(plot_width=450, plot_height=450, # Tamaño\n",
    "                x_range=group1, # Mandamos el rango de x\n",
    "               tools=\"pan,wheel_zoom,box_zoom,reset,save\") # Herramientas de bokeh a mostrar\n",
    "\n",
    "# Creamos un objeto de figura y establecemos su tamaño, rango, y le damos un título \n",
    "graph1 = figure(title='TOTAL MUJERES', # Le damos un título\n",
    "               **options # Enviamos los atributos albergados en options\n",
    "              )\n",
    "\n",
    "graph2 = figure(title='TOTAL HOMBRES', **options)\n",
    "\n",
    "graph1.vbar(x='GRANDES_GRUPOS_DE_EDAD', top='TOTAL_M_mean', width=0.7, line_color=\"white\", color=\"#82B1FF\", source=source)\n",
    "graph2.vbar(x='GRANDES_GRUPOS_DE_EDAD', top='TOTAL_H_mean', width=0.7, line_color=\"white\", color=\"#F08080\", source=source)\n",
    "\n",
    "# Creamos una nueva figura que esta compuesta por las dos figuras creadas anteriormente\n",
    "graph = gridplot([[graph1, graph2]])\n",
    "\n",
    "# Mostramos los resultados\n",
    "show(graph)"
   ]
  },
  {
   "cell_type": "code",
   "execution_count": 20,
   "metadata": {},
   "outputs": [
    {
     "data": {
      "text/html": [
       "\n",
       "<div class=\"bk-root\">\n",
       "    <div class=\"bk-plotdiv\" id=\"3af39858-2d59-4f9d-bd0e-eda396e2002b\"></div>\n",
       "</div>"
      ]
     },
     "metadata": {},
     "output_type": "display_data"
    },
    {
     "data": {
      "application/javascript": [
       "(function(root) {\n",
       "  function embed_document(root) {\n",
       "    var docs_json = {\"6399e8f6-0ffe-4425-9a98-446b8692dd51\":{\"roots\":{\"references\":[{\"attributes\":{\"callback\":null,\"column_names\":[\"A_RURAL_H_count\",\"A_RURAL_H_mean\",\"A_RURAL_H_std\",\"A_RURAL_H_min\",\"A_RURAL_H_25%\",\"A_RURAL_H_50%\",\"A_RURAL_H_75%\",\"A_RURAL_H_max\",\"A_RURAL_M_count\",\"A_RURAL_M_mean\",\"A_RURAL_M_std\",\"A_RURAL_M_min\",\"A_RURAL_M_25%\",\"A_RURAL_M_50%\",\"A_RURAL_M_75%\",\"A_RURAL_M_max\",\"A_URBANA_H_count\",\"A_URBANA_H_mean\",\"A_URBANA_H_std\",\"A_URBANA_H_min\",\"A_URBANA_H_25%\",\"A_URBANA_H_50%\",\"A_URBANA_H_75%\",\"A_URBANA_H_max\",\"A_URBANA_M_count\",\"A_URBANA_M_mean\",\"A_URBANA_M_std\",\"A_URBANA_M_min\",\"A_URBANA_M_25%\",\"A_URBANA_M_50%\",\"A_URBANA_M_75%\",\"A_URBANA_M_max\",\"TOTAL_H_count\",\"TOTAL_H_mean\",\"TOTAL_H_std\",\"TOTAL_H_min\",\"TOTAL_H_25%\",\"TOTAL_H_50%\",\"TOTAL_H_75%\",\"TOTAL_H_max\",\"TOTAL_M_count\",\"TOTAL_M_mean\",\"TOTAL_M_std\",\"TOTAL_M_min\",\"TOTAL_M_25%\",\"TOTAL_M_50%\",\"TOTAL_M_75%\",\"TOTAL_M_max\",\"GRANDES_GRUPOS_DE_EDAD\"],\"data\":{\"A_RURAL_H_25%\":{\"__ndarray__\":\"ZmZmZmZmBkAzMzMzMzMVQM3MzMzMzCpAZmZmZmYmQUCamZmZmZkkQA==\",\"dtype\":\"float64\",\"shape\":[5]},\"A_RURAL_H_50%\":{\"__ndarray__\":\"ZmZmZmZmBkAzMzMzMzMVQM3MzMzMzCpAZmZmZmYmQUCamZmZmZkkQA==\",\"dtype\":\"float64\",\"shape\":[5]},\"A_RURAL_H_75%\":{\"__ndarray__\":\"ZmZmZmZmBkAzMzMzMzMVQM3MzMzMzCpAZmZmZmYmQUCamZmZmZkkQA==\",\"dtype\":\"float64\",\"shape\":[5]},\"A_RURAL_H_count\":{\"__ndarray__\":\"AAAAAAAA8D8AAAAAAADwPwAAAAAAAPA/AAAAAAAA8D8AAAAAAADwPw==\",\"dtype\":\"float64\",\"shape\":[5]},\"A_RURAL_H_max\":{\"__ndarray__\":\"ZmZmZmZmBkAzMzMzMzMVQM3MzMzMzCpAZmZmZmYmQUCamZmZmZkkQA==\",\"dtype\":\"float64\",\"shape\":[5]},\"A_RURAL_H_mean\":{\"__ndarray__\":\"ZmZmZmZmBkAzMzMzMzMVQM3MzMzMzCpAZmZmZmYmQUCamZmZmZkkQA==\",\"dtype\":\"float64\",\"shape\":[5]},\"A_RURAL_H_min\":{\"__ndarray__\":\"ZmZmZmZmBkAzMzMzMzMVQM3MzMzMzCpAZmZmZmYmQUCamZmZmZkkQA==\",\"dtype\":\"float64\",\"shape\":[5]},\"A_RURAL_H_std\":{\"__ndarray__\":\"AAAAAAAA+H8AAAAAAAD4fwAAAAAAAPh/AAAAAAAA+H8AAAAAAAD4fw==\",\"dtype\":\"float64\",\"shape\":[5]},\"A_RURAL_M_25%\":{\"__ndarray__\":\"AAAAAAAABEBmZmZmZmYWQAAAAAAAgDRAmpmZmZnZSEBmZmZmZmYsQA==\",\"dtype\":\"float64\",\"shape\":[5]},\"A_RURAL_M_50%\":{\"__ndarray__\":\"AAAAAAAABEBmZmZmZmYWQAAAAAAAgDRAmpmZmZnZSEBmZmZmZmYsQA==\",\"dtype\":\"float64\",\"shape\":[5]},\"A_RURAL_M_75%\":{\"__ndarray__\":\"AAAAAAAABEBmZmZmZmYWQAAAAAAAgDRAmpmZmZnZSEBmZmZmZmYsQA==\",\"dtype\":\"float64\",\"shape\":[5]},\"A_RURAL_M_count\":{\"__ndarray__\":\"AAAAAAAA8D8AAAAAAADwPwAAAAAAAPA/AAAAAAAA8D8AAAAAAADwPw==\",\"dtype\":\"float64\",\"shape\":[5]},\"A_RURAL_M_max\":{\"__ndarray__\":\"AAAAAAAABEBmZmZmZmYWQAAAAAAAgDRAmpmZmZnZSEBmZmZmZmYsQA==\",\"dtype\":\"float64\",\"shape\":[5]},\"A_RURAL_M_mean\":{\"__ndarray__\":\"AAAAAAAABEBmZmZmZmYWQAAAAAAAgDRAmpmZmZnZSEBmZmZmZmYsQA==\",\"dtype\":\"float64\",\"shape\":[5]},\"A_RURAL_M_min\":{\"__ndarray__\":\"AAAAAAAABEBmZmZmZmYWQAAAAAAAgDRAmpmZmZnZSEBmZmZmZmYsQA==\",\"dtype\":\"float64\",\"shape\":[5]},\"A_RURAL_M_std\":{\"__ndarray__\":\"AAAAAAAA+H8AAAAAAAD4fwAAAAAAAPh/AAAAAAAA+H8AAAAAAAD4fw==\",\"dtype\":\"float64\",\"shape\":[5]},\"A_URBANA_H_25%\":{\"__ndarray__\":\"MzMzMzMz8z/NzMzMzMz8P2ZmZmZmZg5AmpmZmZmZKUDNzMzMzMwIQA==\",\"dtype\":\"float64\",\"shape\":[5]},\"A_URBANA_H_50%\":{\"__ndarray__\":\"MzMzMzMz8z/NzMzMzMz8P2ZmZmZmZg5AmpmZmZmZKUDNzMzMzMwIQA==\",\"dtype\":\"float64\",\"shape\":[5]},\"A_URBANA_H_75%\":{\"__ndarray__\":\"MzMzMzMz8z/NzMzMzMz8P2ZmZmZmZg5AmpmZmZmZKUDNzMzMzMwIQA==\",\"dtype\":\"float64\",\"shape\":[5]},\"A_URBANA_H_count\":{\"__ndarray__\":\"AAAAAAAA8D8AAAAAAADwPwAAAAAAAPA/AAAAAAAA8D8AAAAAAADwPw==\",\"dtype\":\"float64\",\"shape\":[5]},\"A_URBANA_H_max\":{\"__ndarray__\":\"MzMzMzMz8z/NzMzMzMz8P2ZmZmZmZg5AmpmZmZmZKUDNzMzMzMwIQA==\",\"dtype\":\"float64\",\"shape\":[5]},\"A_URBANA_H_mean\":{\"__ndarray__\":\"MzMzMzMz8z/NzMzMzMz8P2ZmZmZmZg5AmpmZmZmZKUDNzMzMzMwIQA==\",\"dtype\":\"float64\",\"shape\":[5]},\"A_URBANA_H_min\":{\"__ndarray__\":\"MzMzMzMz8z/NzMzMzMz8P2ZmZmZmZg5AmpmZmZmZKUDNzMzMzMwIQA==\",\"dtype\":\"float64\",\"shape\":[5]},\"A_URBANA_H_std\":{\"__ndarray__\":\"AAAAAAAA+H8AAAAAAAD4fwAAAAAAAPh/AAAAAAAA+H8AAAAAAAD4fw==\",\"dtype\":\"float64\",\"shape\":[5]},\"A_URBANA_M_25%\":{\"__ndarray__\":\"zczMzMzM7D8zMzMzMzP7P5qZmZmZmRVAAAAAAACAM0AzMzMzMzMRQA==\",\"dtype\":\"float64\",\"shape\":[5]},\"A_URBANA_M_50%\":{\"__ndarray__\":\"zczMzMzM7D8zMzMzMzP7P5qZmZmZmRVAAAAAAACAM0AzMzMzMzMRQA==\",\"dtype\":\"float64\",\"shape\":[5]},\"A_URBANA_M_75%\":{\"__ndarray__\":\"zczMzMzM7D8zMzMzMzP7P5qZmZmZmRVAAAAAAACAM0AzMzMzMzMRQA==\",\"dtype\":\"float64\",\"shape\":[5]},\"A_URBANA_M_count\":{\"__ndarray__\":\"AAAAAAAA8D8AAAAAAADwPwAAAAAAAPA/AAAAAAAA8D8AAAAAAADwPw==\",\"dtype\":\"float64\",\"shape\":[5]},\"A_URBANA_M_max\":{\"__ndarray__\":\"zczMzMzM7D8zMzMzMzP7P5qZmZmZmRVAAAAAAACAM0AzMzMzMzMRQA==\",\"dtype\":\"float64\",\"shape\":[5]},\"A_URBANA_M_mean\":{\"__ndarray__\":\"zczMzMzM7D8zMzMzMzP7P5qZmZmZmRVAAAAAAACAM0AzMzMzMzMRQA==\",\"dtype\":\"float64\",\"shape\":[5]},\"A_URBANA_M_min\":{\"__ndarray__\":\"zczMzMzM7D8zMzMzMzP7P5qZmZmZmRVAAAAAAACAM0AzMzMzMzMRQA==\",\"dtype\":\"float64\",\"shape\":[5]},\"A_URBANA_M_std\":{\"__ndarray__\":\"AAAAAAAA+H8AAAAAAAD4fwAAAAAAAPh/AAAAAAAA+H8AAAAAAAD4fw==\",\"dtype\":\"float64\",\"shape\":[5]},\"GRANDES_GRUPOS_DE_EDAD\":[\"15-24 a\\u00f1os\",\"25-39 a\\u00f1os\",\"40-64 a\\u00f1os\",\"65 a\\u00f1os y mas\",\"Total nacional\"],\"TOTAL_H_25%\":{\"__ndarray__\":\"zczMzMzM/D8AAAAAAAAIQM3MzMzMzBxAZmZmZmZmNkAzMzMzMzMXQA==\",\"dtype\":\"float64\",\"shape\":[5]},\"TOTAL_H_50%\":{\"__ndarray__\":\"zczMzMzM/D8AAAAAAAAIQM3MzMzMzBxAZmZmZmZmNkAzMzMzMzMXQA==\",\"dtype\":\"float64\",\"shape\":[5]},\"TOTAL_H_75%\":{\"__ndarray__\":\"zczMzMzM/D8AAAAAAAAIQM3MzMzMzBxAZmZmZmZmNkAzMzMzMzMXQA==\",\"dtype\":\"float64\",\"shape\":[5]},\"TOTAL_H_count\":{\"__ndarray__\":\"AAAAAAAA8D8AAAAAAADwPwAAAAAAAPA/AAAAAAAA8D8AAAAAAADwPw==\",\"dtype\":\"float64\",\"shape\":[5]},\"TOTAL_H_max\":{\"__ndarray__\":\"zczMzMzM/D8AAAAAAAAIQM3MzMzMzBxAZmZmZmZmNkAzMzMzMzMXQA==\",\"dtype\":\"float64\",\"shape\":[5]},\"TOTAL_H_mean\":{\"__ndarray__\":\"zczMzMzM/D8AAAAAAAAIQM3MzMzMzBxAZmZmZmZmNkAzMzMzMzMXQA==\",\"dtype\":\"float64\",\"shape\":[5]},\"TOTAL_H_min\":{\"__ndarray__\":\"zczMzMzM/D8AAAAAAAAIQM3MzMzMzBxAZmZmZmZmNkAzMzMzMzMXQA==\",\"dtype\":\"float64\",\"shape\":[5]},\"TOTAL_H_std\":{\"__ndarray__\":\"AAAAAAAA+H8AAAAAAAD4fwAAAAAAAPh/AAAAAAAA+H8AAAAAAAD4fw==\",\"dtype\":\"float64\",\"shape\":[5]},\"TOTAL_M_25%\":{\"__ndarray__\":\"AAAAAAAA+D8AAAAAAAAIQM3MzMzMzCRAmpmZmZmZP0DNzMzMzMweQA==\",\"dtype\":\"float64\",\"shape\":[5]},\"TOTAL_M_50%\":{\"__ndarray__\":\"AAAAAAAA+D8AAAAAAAAIQM3MzMzMzCRAmpmZmZmZP0DNzMzMzMweQA==\",\"dtype\":\"float64\",\"shape\":[5]},\"TOTAL_M_75%\":{\"__ndarray__\":\"AAAAAAAA+D8AAAAAAAAIQM3MzMzMzCRAmpmZmZmZP0DNzMzMzMweQA==\",\"dtype\":\"float64\",\"shape\":[5]},\"TOTAL_M_count\":{\"__ndarray__\":\"AAAAAAAA8D8AAAAAAADwPwAAAAAAAPA/AAAAAAAA8D8AAAAAAADwPw==\",\"dtype\":\"float64\",\"shape\":[5]},\"TOTAL_M_max\":{\"__ndarray__\":\"AAAAAAAA+D8AAAAAAAAIQM3MzMzMzCRAmpmZmZmZP0DNzMzMzMweQA==\",\"dtype\":\"float64\",\"shape\":[5]},\"TOTAL_M_mean\":{\"__ndarray__\":\"AAAAAAAA+D8AAAAAAAAIQM3MzMzMzCRAmpmZmZmZP0DNzMzMzMweQA==\",\"dtype\":\"float64\",\"shape\":[5]},\"TOTAL_M_min\":{\"__ndarray__\":\"AAAAAAAA+D8AAAAAAAAIQM3MzMzMzCRAmpmZmZmZP0DNzMzMzMweQA==\",\"dtype\":\"float64\",\"shape\":[5]},\"TOTAL_M_std\":{\"__ndarray__\":\"AAAAAAAA+H8AAAAAAAD4fwAAAAAAAPh/AAAAAAAA+H8AAAAAAAD4fw==\",\"dtype\":\"float64\",\"shape\":[5]}}},\"id\":\"2427a802-4b96-43e0-b605-5741c98546bc\",\"type\":\"ColumnDataSource\"},{\"attributes\":{\"formatter\":{\"id\":\"055ae66f-c35b-4a52-b598-5171bc634166\",\"type\":\"BasicTickFormatter\"},\"plot\":{\"id\":\"3b8e5e87-e5fa-4e6d-bd05-6755757146cf\",\"subtype\":\"Figure\",\"type\":\"Plot\"},\"ticker\":{\"id\":\"7ef5035d-99fd-4181-9ba1-ae87971ce088\",\"type\":\"BasicTicker\"}},\"id\":\"b3de31f1-417f-4f99-b579-85fc2c0ab9fd\",\"type\":\"LinearAxis\"},{\"attributes\":{\"line_alpha\":{\"value\":0.1},\"line_color\":{\"value\":\"#1f77b4\"},\"x\":{\"field\":\"GRANDES_GRUPOS_DE_EDAD\"},\"y\":{\"field\":\"A_URBANA_H_mean\"}},\"id\":\"26b48091-be50-4a05-8ed3-ce860f56b0ff\",\"type\":\"Line\"},{\"attributes\":{},\"id\":\"0216a2e1-1b17-4a11-915c-e2063f515496\",\"type\":\"PanTool\"},{\"attributes\":{\"line_color\":{\"value\":\"#B388FF\"},\"x\":{\"field\":\"GRANDES_GRUPOS_DE_EDAD\"},\"y\":{\"field\":\"A_URBANA_M_mean\"}},\"id\":\"ec2ece4e-d7f7-4d18-a75c-b59e3c879344\",\"type\":\"Line\"},{\"attributes\":{\"callback\":null},\"id\":\"723154b1-d5b9-4701-a579-2a90cd287086\",\"type\":\"DataRange1d\"},{\"attributes\":{\"line_color\":{\"value\":\"#8C9EFF\"},\"x\":{\"field\":\"GRANDES_GRUPOS_DE_EDAD\"},\"y\":{\"field\":\"A_URBANA_H_mean\"}},\"id\":\"9a9dffc5-564a-48cc-a5ca-9374500da1e7\",\"type\":\"Line\"},{\"attributes\":{\"data_source\":{\"id\":\"2427a802-4b96-43e0-b605-5741c98546bc\",\"type\":\"ColumnDataSource\"},\"glyph\":{\"id\":\"9a9dffc5-564a-48cc-a5ca-9374500da1e7\",\"type\":\"Line\"},\"hover_glyph\":null,\"muted_glyph\":null,\"nonselection_glyph\":{\"id\":\"26b48091-be50-4a05-8ed3-ce860f56b0ff\",\"type\":\"Line\"},\"selection_glyph\":null,\"view\":{\"id\":\"e891e793-b75a-46a8-9a7a-202065787be2\",\"type\":\"CDSView\"}},\"id\":\"bc86670a-c01a-466f-a988-63ed86a49d7a\",\"type\":\"GlyphRenderer\"},{\"attributes\":{\"callback\":null,\"factors\":[\"15-24 a\\u00f1os\",\"25-39 a\\u00f1os\",\"40-64 a\\u00f1os\",\"65 a\\u00f1os y mas\",\"Total nacional\"]},\"id\":\"f8746f35-9eaa-4dc8-9ba6-a1818d5210f6\",\"type\":\"FactorRange\"},{\"attributes\":{\"dimension\":1,\"grid_line_color\":{\"value\":null},\"plot\":{\"id\":\"3b8e5e87-e5fa-4e6d-bd05-6755757146cf\",\"subtype\":\"Figure\",\"type\":\"Plot\"},\"ticker\":{\"id\":\"7ef5035d-99fd-4181-9ba1-ae87971ce088\",\"type\":\"BasicTicker\"}},\"id\":\"634dc02a-5dfb-4615-96f4-e0e5d7f55d3e\",\"type\":\"Grid\"},{\"attributes\":{\"items\":[{\"id\":\"6d44ffd5-1386-47b3-b4c4-f073a2be3894\",\"type\":\"LegendItem\"},{\"id\":\"9e90d317-fcfd-44e6-bc7d-30bbf994ce0e\",\"type\":\"LegendItem\"}],\"plot\":{\"id\":\"3b8e5e87-e5fa-4e6d-bd05-6755757146cf\",\"subtype\":\"Figure\",\"type\":\"Plot\"}},\"id\":\"e175dfdb-149e-4368-acc3-09558f02e623\",\"type\":\"Legend\"},{\"attributes\":{\"plot\":null,\"text\":\"AREA URBANA - ANALFABETISMO POR AREA Y GRUPOS DE EDAD\"},\"id\":\"b0c09d2a-2408-40e6-bf04-ce06b28ec997\",\"type\":\"Title\"},{\"attributes\":{\"data_source\":{\"id\":\"2427a802-4b96-43e0-b605-5741c98546bc\",\"type\":\"ColumnDataSource\"},\"glyph\":{\"id\":\"ec2ece4e-d7f7-4d18-a75c-b59e3c879344\",\"type\":\"Line\"},\"hover_glyph\":null,\"muted_glyph\":null,\"nonselection_glyph\":{\"id\":\"74e81ca9-3efe-49d6-a193-ca5938588c26\",\"type\":\"Line\"},\"selection_glyph\":null,\"view\":{\"id\":\"e8f2eef9-46eb-4501-8656-af567da5eba9\",\"type\":\"CDSView\"}},\"id\":\"a88aefb3-26e1-4057-a564-c92b575a571c\",\"type\":\"GlyphRenderer\"},{\"attributes\":{\"label\":{\"value\":\"HOMBRES\"},\"renderers\":[{\"id\":\"bc86670a-c01a-466f-a988-63ed86a49d7a\",\"type\":\"GlyphRenderer\"}]},\"id\":\"9e90d317-fcfd-44e6-bc7d-30bbf994ce0e\",\"type\":\"LegendItem\"},{\"attributes\":{\"active_drag\":\"auto\",\"active_inspect\":\"auto\",\"active_scroll\":\"auto\",\"active_tap\":\"auto\",\"tools\":[{\"id\":\"0216a2e1-1b17-4a11-915c-e2063f515496\",\"type\":\"PanTool\"},{\"id\":\"6ece1816-d4d7-4da4-8ed8-d5c3739891e4\",\"type\":\"WheelZoomTool\"},{\"id\":\"81055046-8394-4c85-8697-f440633cea0f\",\"type\":\"BoxZoomTool\"},{\"id\":\"b116f8a3-cfe9-4c4d-840f-30a0a0e8e15b\",\"type\":\"SaveTool\"},{\"id\":\"bd67987d-9261-4756-8f58-0cbe10ad3476\",\"type\":\"ResetTool\"},{\"id\":\"50ebb554-df8a-44ff-a6d3-f45b7171a68c\",\"type\":\"HelpTool\"}]},\"id\":\"ecd6168f-48d5-4d7b-9d84-3a3b0872a5d4\",\"type\":\"Toolbar\"},{\"attributes\":{},\"id\":\"055ae66f-c35b-4a52-b598-5171bc634166\",\"type\":\"BasicTickFormatter\"},{\"attributes\":{\"label\":{\"value\":\"MUJERES\"},\"renderers\":[{\"id\":\"a88aefb3-26e1-4057-a564-c92b575a571c\",\"type\":\"GlyphRenderer\"}]},\"id\":\"6d44ffd5-1386-47b3-b4c4-f073a2be3894\",\"type\":\"LegendItem\"},{\"attributes\":{\"grid_line_color\":{\"value\":null},\"plot\":{\"id\":\"3b8e5e87-e5fa-4e6d-bd05-6755757146cf\",\"subtype\":\"Figure\",\"type\":\"Plot\"},\"ticker\":{\"id\":\"3ed32a4c-07ce-4c9d-ab5e-2392061650d1\",\"type\":\"CategoricalTicker\"}},\"id\":\"dab3de71-3cde-46e8-b05f-c26314724ef2\",\"type\":\"Grid\"},{\"attributes\":{},\"id\":\"50ebb554-df8a-44ff-a6d3-f45b7171a68c\",\"type\":\"HelpTool\"},{\"attributes\":{},\"id\":\"4efebb14-ff8e-43fe-8ccc-500dfaa79223\",\"type\":\"CategoricalTickFormatter\"},{\"attributes\":{\"bottom_units\":\"screen\",\"fill_alpha\":{\"value\":0.5},\"fill_color\":{\"value\":\"lightgrey\"},\"left_units\":\"screen\",\"level\":\"overlay\",\"line_alpha\":{\"value\":1.0},\"line_color\":{\"value\":\"black\"},\"line_dash\":[4,4],\"line_width\":{\"value\":2},\"plot\":null,\"render_mode\":\"css\",\"right_units\":\"screen\",\"top_units\":\"screen\"},\"id\":\"7eb34c56-fa9e-4225-b54b-d148607029c4\",\"type\":\"BoxAnnotation\"},{\"attributes\":{\"below\":[{\"id\":\"f4e150ab-77de-4c42-af1b-00af6e674992\",\"type\":\"CategoricalAxis\"}],\"left\":[{\"id\":\"b3de31f1-417f-4f99-b579-85fc2c0ab9fd\",\"type\":\"LinearAxis\"}],\"plot_height\":250,\"plot_width\":900,\"renderers\":[{\"id\":\"f4e150ab-77de-4c42-af1b-00af6e674992\",\"type\":\"CategoricalAxis\"},{\"id\":\"dab3de71-3cde-46e8-b05f-c26314724ef2\",\"type\":\"Grid\"},{\"id\":\"b3de31f1-417f-4f99-b579-85fc2c0ab9fd\",\"type\":\"LinearAxis\"},{\"id\":\"634dc02a-5dfb-4615-96f4-e0e5d7f55d3e\",\"type\":\"Grid\"},{\"id\":\"7eb34c56-fa9e-4225-b54b-d148607029c4\",\"type\":\"BoxAnnotation\"},{\"id\":\"e175dfdb-149e-4368-acc3-09558f02e623\",\"type\":\"Legend\"},{\"id\":\"a88aefb3-26e1-4057-a564-c92b575a571c\",\"type\":\"GlyphRenderer\"},{\"id\":\"bc86670a-c01a-466f-a988-63ed86a49d7a\",\"type\":\"GlyphRenderer\"}],\"title\":{\"id\":\"b0c09d2a-2408-40e6-bf04-ce06b28ec997\",\"type\":\"Title\"},\"toolbar\":{\"id\":\"ecd6168f-48d5-4d7b-9d84-3a3b0872a5d4\",\"type\":\"Toolbar\"},\"x_range\":{\"id\":\"f8746f35-9eaa-4dc8-9ba6-a1818d5210f6\",\"type\":\"FactorRange\"},\"x_scale\":{\"id\":\"5a9c838c-2ca3-4bcd-ac50-f0dbbde71300\",\"type\":\"CategoricalScale\"},\"y_range\":{\"id\":\"723154b1-d5b9-4701-a579-2a90cd287086\",\"type\":\"DataRange1d\"},\"y_scale\":{\"id\":\"8f625a6b-cda9-4ef5-b9e6-8d14a0ce93c1\",\"type\":\"LinearScale\"}},\"id\":\"3b8e5e87-e5fa-4e6d-bd05-6755757146cf\",\"subtype\":\"Figure\",\"type\":\"Plot\"},{\"attributes\":{},\"id\":\"3ed32a4c-07ce-4c9d-ab5e-2392061650d1\",\"type\":\"CategoricalTicker\"},{\"attributes\":{},\"id\":\"7ef5035d-99fd-4181-9ba1-ae87971ce088\",\"type\":\"BasicTicker\"},{\"attributes\":{},\"id\":\"bd67987d-9261-4756-8f58-0cbe10ad3476\",\"type\":\"ResetTool\"},{\"attributes\":{\"source\":{\"id\":\"2427a802-4b96-43e0-b605-5741c98546bc\",\"type\":\"ColumnDataSource\"}},\"id\":\"e8f2eef9-46eb-4501-8656-af567da5eba9\",\"type\":\"CDSView\"},{\"attributes\":{\"formatter\":{\"id\":\"4efebb14-ff8e-43fe-8ccc-500dfaa79223\",\"type\":\"CategoricalTickFormatter\"},\"plot\":{\"id\":\"3b8e5e87-e5fa-4e6d-bd05-6755757146cf\",\"subtype\":\"Figure\",\"type\":\"Plot\"},\"ticker\":{\"id\":\"3ed32a4c-07ce-4c9d-ab5e-2392061650d1\",\"type\":\"CategoricalTicker\"}},\"id\":\"f4e150ab-77de-4c42-af1b-00af6e674992\",\"type\":\"CategoricalAxis\"},{\"attributes\":{\"overlay\":{\"id\":\"7eb34c56-fa9e-4225-b54b-d148607029c4\",\"type\":\"BoxAnnotation\"}},\"id\":\"81055046-8394-4c85-8697-f440633cea0f\",\"type\":\"BoxZoomTool\"},{\"attributes\":{},\"id\":\"5a9c838c-2ca3-4bcd-ac50-f0dbbde71300\",\"type\":\"CategoricalScale\"},{\"attributes\":{\"line_alpha\":{\"value\":0.1},\"line_color\":{\"value\":\"#1f77b4\"},\"x\":{\"field\":\"GRANDES_GRUPOS_DE_EDAD\"},\"y\":{\"field\":\"A_URBANA_M_mean\"}},\"id\":\"74e81ca9-3efe-49d6-a193-ca5938588c26\",\"type\":\"Line\"},{\"attributes\":{},\"id\":\"6ece1816-d4d7-4da4-8ed8-d5c3739891e4\",\"type\":\"WheelZoomTool\"},{\"attributes\":{},\"id\":\"8f625a6b-cda9-4ef5-b9e6-8d14a0ce93c1\",\"type\":\"LinearScale\"},{\"attributes\":{\"source\":{\"id\":\"2427a802-4b96-43e0-b605-5741c98546bc\",\"type\":\"ColumnDataSource\"}},\"id\":\"e891e793-b75a-46a8-9a7a-202065787be2\",\"type\":\"CDSView\"},{\"attributes\":{},\"id\":\"b116f8a3-cfe9-4c4d-840f-30a0a0e8e15b\",\"type\":\"SaveTool\"}],\"root_ids\":[\"3b8e5e87-e5fa-4e6d-bd05-6755757146cf\"]},\"title\":\"Bokeh Application\",\"version\":\"0.12.10\"}};\n",
       "    var render_items = [{\"docid\":\"6399e8f6-0ffe-4425-9a98-446b8692dd51\",\"elementid\":\"3af39858-2d59-4f9d-bd0e-eda396e2002b\",\"modelid\":\"3b8e5e87-e5fa-4e6d-bd05-6755757146cf\"}];\n",
       "\n",
       "    root.Bokeh.embed.embed_items(docs_json, render_items);\n",
       "  }\n",
       "\n",
       "  if (root.Bokeh !== undefined) {\n",
       "    embed_document(root);\n",
       "  } else {\n",
       "    var attempts = 0;\n",
       "    var timer = setInterval(function(root) {\n",
       "      if (root.Bokeh !== undefined) {\n",
       "        embed_document(root);\n",
       "        clearInterval(timer);\n",
       "      }\n",
       "      attempts++;\n",
       "      if (attempts > 100) {\n",
       "        console.log(\"Bokeh: ERROR: Unable to embed document because BokehJS library is missing\")\n",
       "        clearInterval(timer);\n",
       "      }\n",
       "    }, 10, root)\n",
       "  }\n",
       "})(window);"
      ],
      "application/vnd.bokehjs_exec.v0+json": ""
     },
     "metadata": {
      "application/vnd.bokehjs_exec.v0+json": {
       "id": "3b8e5e87-e5fa-4e6d-bd05-6755757146cf"
      }
     },
     "output_type": "display_data"
    }
   ],
   "source": [
    "group1 = tabla1.groupby('GRANDES_GRUPOS_DE_EDAD')\n",
    "\n",
    "source = ColumnDataSource(group1)\n",
    "\n",
    "# Creamos un objeto de figura y establecemos su tamaño, rango, y le damos un título \n",
    "graph1 = figure(plot_height=250, plot_width=900, x_range=group1,  title='AREA URBANA - ANALFABETISMO POR AREA Y GRUPOS DE EDAD')\n",
    "\n",
    "\n",
    "graph1.line(\n",
    "    x='GRANDES_GRUPOS_DE_EDAD', \n",
    "    y='A_URBANA_M_mean', \n",
    "    color='#B388FF', \n",
    "    legend='MUJERES', # Nos permite generar un cuadro de legendas predeterminado\n",
    "    source=source\n",
    ")\n",
    "\n",
    "graph1.line(x='GRANDES_GRUPOS_DE_EDAD', y='A_URBANA_H_mean', color='#8C9EFF', legend='HOMBRES', source=source)\n",
    "\n",
    "# No mostramos ningun trasado del plano\n",
    "graph1.xgrid.grid_line_color = None\n",
    "graph1.ygrid.grid_line_color = None\n",
    "\n",
    "show(graph1)"
   ]
  },
  {
   "cell_type": "code",
   "execution_count": 22,
   "metadata": {},
   "outputs": [
    {
     "data": {
      "text/html": [
       "\n",
       "<div class=\"bk-root\">\n",
       "    <div class=\"bk-plotdiv\" id=\"0c85d428-06a5-478b-a1be-c7d6fe34a034\"></div>\n",
       "</div>"
      ]
     },
     "metadata": {},
     "output_type": "display_data"
    },
    {
     "data": {
      "application/javascript": [
       "(function(root) {\n",
       "  function embed_document(root) {\n",
       "    var docs_json = {\"aca25be5-7e51-4a06-b51f-39e96c5bf63b\":{\"roots\":{\"references\":[{\"attributes\":{\"data_source\":{\"id\":\"a2481509-9c44-4f7d-8b53-7de7bd0e0dc1\",\"type\":\"ColumnDataSource\"},\"glyph\":{\"id\":\"c6feed49-d3fe-4e8a-8f97-d4c550a9d37c\",\"type\":\"HBar\"},\"hover_glyph\":null,\"muted_glyph\":null,\"nonselection_glyph\":{\"id\":\"eb84500b-1bb6-4598-a8c9-a2dd423d911b\",\"type\":\"HBar\"},\"selection_glyph\":null,\"view\":{\"id\":\"a7c1e407-f322-4c0b-a6a5-2695d96c1ba6\",\"type\":\"CDSView\"}},\"id\":\"7e47be47-7f40-45bd-9b33-4c6a8ac6f027\",\"type\":\"GlyphRenderer\"},{\"attributes\":{\"callback\":null},\"id\":\"0bbb4a7f-bb71-4189-95b2-1fb7b320f1de\",\"type\":\"DataRange1d\"},{\"attributes\":{\"plot\":{\"id\":\"c6f8e029-7b73-4ef3-a058-8c2299a17c8d\",\"subtype\":\"Figure\",\"type\":\"Plot\"},\"ticker\":{\"id\":\"23325791-25cf-481b-9d40-440f5827d958\",\"type\":\"BasicTicker\"}},\"id\":\"1e25de82-e5d9-4b6c-8cc6-def3882d6dc7\",\"type\":\"Grid\"},{\"attributes\":{},\"id\":\"8a8eebb7-9b14-4b21-af2c-da7c60e9354b\",\"type\":\"PanTool\"},{\"attributes\":{\"active_drag\":\"auto\",\"active_inspect\":\"auto\",\"active_scroll\":\"auto\",\"active_tap\":\"auto\",\"tools\":[{\"id\":\"8a8eebb7-9b14-4b21-af2c-da7c60e9354b\",\"type\":\"PanTool\"},{\"id\":\"631001e0-d379-4255-8b9c-fd61ba87af12\",\"type\":\"WheelZoomTool\"},{\"id\":\"095b8ad8-2533-4024-a68e-84b36d2495a1\",\"type\":\"BoxZoomTool\"},{\"id\":\"e90f50c5-a595-4583-9e3c-ed0117bebe3d\",\"type\":\"ResetTool\"},{\"id\":\"61835e39-a593-4c10-bc43-fff870cd8274\",\"type\":\"SaveTool\"}]},\"id\":\"1398007e-58f1-4820-9b74-edcbbf5581c9\",\"type\":\"Toolbar\"},{\"attributes\":{\"fill_alpha\":{\"value\":0.1},\"fill_color\":{\"value\":\"#1f77b4\"},\"height\":{\"value\":0.5},\"line_alpha\":{\"value\":0.1},\"line_color\":{\"value\":\"#1f77b4\"},\"right\":{\"field\":\"A_RURAL_H_mean\"},\"y\":{\"field\":\"GRANDES_GRUPOS_DE_EDAD\"}},\"id\":\"acc0d488-a6d6-43d5-999a-d3663b7c591e\",\"type\":\"HBar\"},{\"attributes\":{},\"id\":\"6615b310-a2f2-4eaa-a2b9-715b2bf8e9c9\",\"type\":\"WheelZoomTool\"},{\"attributes\":{},\"id\":\"61835e39-a593-4c10-bc43-fff870cd8274\",\"type\":\"SaveTool\"},{\"attributes\":{},\"id\":\"63123286-8b70-4d4f-9632-8ab88d2fb045\",\"type\":\"PanTool\"},{\"attributes\":{\"plot\":null,\"text\":\"AREA RURAL - MUJERES\"},\"id\":\"903a4a65-2f52-4fe2-91e1-e0fd1b88b90b\",\"type\":\"Title\"},{\"attributes\":{\"source\":{\"id\":\"a2481509-9c44-4f7d-8b53-7de7bd0e0dc1\",\"type\":\"ColumnDataSource\"}},\"id\":\"9d8f2f91-c273-4ee1-ba25-8ccfe037b275\",\"type\":\"CDSView\"},{\"attributes\":{\"active_drag\":\"auto\",\"active_inspect\":\"auto\",\"active_scroll\":\"auto\",\"active_tap\":\"auto\",\"tools\":[{\"id\":\"63123286-8b70-4d4f-9632-8ab88d2fb045\",\"type\":\"PanTool\"},{\"id\":\"6615b310-a2f2-4eaa-a2b9-715b2bf8e9c9\",\"type\":\"WheelZoomTool\"},{\"id\":\"42b81406-6119-4cce-bcfe-6f3a6042d7fb\",\"type\":\"BoxZoomTool\"},{\"id\":\"d64bb65b-d009-4d88-b39e-07621dd20683\",\"type\":\"ResetTool\"},{\"id\":\"6a6d0fd6-f5d9-4c7e-b837-e371b6a5c90f\",\"type\":\"SaveTool\"}]},\"id\":\"5e34f52d-ecb0-4897-8f13-405d64d6c948\",\"type\":\"Toolbar\"},{\"attributes\":{\"source\":{\"id\":\"a2481509-9c44-4f7d-8b53-7de7bd0e0dc1\",\"type\":\"ColumnDataSource\"}},\"id\":\"a7c1e407-f322-4c0b-a6a5-2695d96c1ba6\",\"type\":\"CDSView\"},{\"attributes\":{},\"id\":\"d64bb65b-d009-4d88-b39e-07621dd20683\",\"type\":\"ResetTool\"},{\"attributes\":{},\"id\":\"be5f44f2-ada8-450a-889e-c96a62887176\",\"type\":\"CategoricalScale\"},{\"attributes\":{\"bottom_units\":\"screen\",\"fill_alpha\":{\"value\":0.5},\"fill_color\":{\"value\":\"lightgrey\"},\"left_units\":\"screen\",\"level\":\"overlay\",\"line_alpha\":{\"value\":1.0},\"line_color\":{\"value\":\"black\"},\"line_dash\":[4,4],\"line_width\":{\"value\":2},\"plot\":null,\"render_mode\":\"css\",\"right_units\":\"screen\",\"top_units\":\"screen\"},\"id\":\"fa39b0dd-3f86-4a15-ab85-66084070e3e5\",\"type\":\"BoxAnnotation\"},{\"attributes\":{\"bottom_units\":\"screen\",\"fill_alpha\":{\"value\":0.5},\"fill_color\":{\"value\":\"lightgrey\"},\"left_units\":\"screen\",\"level\":\"overlay\",\"line_alpha\":{\"value\":1.0},\"line_color\":{\"value\":\"black\"},\"line_dash\":[4,4],\"line_width\":{\"value\":2},\"plot\":null,\"render_mode\":\"css\",\"right_units\":\"screen\",\"top_units\":\"screen\"},\"id\":\"0bc2d80a-3ba2-402e-9220-be32f31791b4\",\"type\":\"BoxAnnotation\"},{\"attributes\":{\"callback\":null,\"factors\":[\"15-24 a\\u00f1os\",\"25-39 a\\u00f1os\",\"40-64 a\\u00f1os\",\"65 a\\u00f1os y mas\",\"Total nacional\"]},\"id\":\"265b072c-a85b-4526-b4fa-a1bf22e094be\",\"type\":\"FactorRange\"},{\"attributes\":{\"fill_color\":{\"value\":\"#82B1FF\"},\"height\":{\"value\":0.5},\"line_color\":{\"value\":\"#82B1FF\"},\"right\":{\"field\":\"A_RURAL_M_mean\"},\"y\":{\"field\":\"GRANDES_GRUPOS_DE_EDAD\"}},\"id\":\"c6feed49-d3fe-4e8a-8f97-d4c550a9d37c\",\"type\":\"HBar\"},{\"attributes\":{\"formatter\":{\"id\":\"dccc5a23-8853-469e-b76e-c65bce36dcb8\",\"type\":\"CategoricalTickFormatter\"},\"plot\":{\"id\":\"c6f8e029-7b73-4ef3-a058-8c2299a17c8d\",\"subtype\":\"Figure\",\"type\":\"Plot\"},\"ticker\":{\"id\":\"686e2371-64c6-42c7-940a-e62d8d8fce32\",\"type\":\"CategoricalTicker\"}},\"id\":\"e727ad03-51cd-499a-9dc0-5185de410b80\",\"type\":\"CategoricalAxis\"},{\"attributes\":{\"fill_alpha\":{\"value\":0.1},\"fill_color\":{\"value\":\"#1f77b4\"},\"height\":{\"value\":0.5},\"line_alpha\":{\"value\":0.1},\"line_color\":{\"value\":\"#1f77b4\"},\"right\":{\"field\":\"A_RURAL_M_mean\"},\"y\":{\"field\":\"GRANDES_GRUPOS_DE_EDAD\"}},\"id\":\"eb84500b-1bb6-4598-a8c9-a2dd423d911b\",\"type\":\"HBar\"},{\"attributes\":{},\"id\":\"3c629f95-5d5c-4f92-b02d-705b4b1885c5\",\"type\":\"CategoricalScale\"},{\"attributes\":{\"overlay\":{\"id\":\"fa39b0dd-3f86-4a15-ab85-66084070e3e5\",\"type\":\"BoxAnnotation\"}},\"id\":\"095b8ad8-2533-4024-a68e-84b36d2495a1\",\"type\":\"BoxZoomTool\"},{\"attributes\":{\"children\":[{\"id\":\"1de201d4-8a40-4963-9291-a9dbb32806bb\",\"type\":\"ToolbarBox\"},{\"id\":\"2b11ed1c-bb26-4232-8e9f-8a021c97d15c\",\"type\":\"Column\"}]},\"id\":\"22c362fe-50a5-4757-90dc-51539aef20c0\",\"type\":\"Column\"},{\"attributes\":{},\"id\":\"79962593-d023-42d3-a228-121851cf298a\",\"type\":\"BasicTicker\"},{\"attributes\":{\"overlay\":{\"id\":\"0bc2d80a-3ba2-402e-9220-be32f31791b4\",\"type\":\"BoxAnnotation\"}},\"id\":\"42b81406-6119-4cce-bcfe-6f3a6042d7fb\",\"type\":\"BoxZoomTool\"},{\"attributes\":{\"below\":[{\"id\":\"881705e4-ca2b-4db9-b7b5-21cb271a372e\",\"type\":\"LinearAxis\"}],\"left\":[{\"id\":\"e727ad03-51cd-499a-9dc0-5185de410b80\",\"type\":\"CategoricalAxis\"}],\"plot_height\":450,\"plot_width\":480,\"renderers\":[{\"id\":\"881705e4-ca2b-4db9-b7b5-21cb271a372e\",\"type\":\"LinearAxis\"},{\"id\":\"1e25de82-e5d9-4b6c-8cc6-def3882d6dc7\",\"type\":\"Grid\"},{\"id\":\"e727ad03-51cd-499a-9dc0-5185de410b80\",\"type\":\"CategoricalAxis\"},{\"id\":\"25354315-16e2-4654-bb50-b2fb7c9ae013\",\"type\":\"Grid\"},{\"id\":\"0bc2d80a-3ba2-402e-9220-be32f31791b4\",\"type\":\"BoxAnnotation\"},{\"id\":\"800ac601-88d1-4d4a-a299-0d6254cc6f0e\",\"type\":\"GlyphRenderer\"}],\"title\":{\"id\":\"4204ce43-cc4a-4a5c-9362-1bc18f91b77e\",\"type\":\"Title\"},\"toolbar\":{\"id\":\"5e34f52d-ecb0-4897-8f13-405d64d6c948\",\"type\":\"Toolbar\"},\"toolbar_location\":null,\"x_range\":{\"id\":\"0bbb4a7f-bb71-4189-95b2-1fb7b320f1de\",\"type\":\"DataRange1d\"},\"x_scale\":{\"id\":\"caaa2c74-8713-4e35-b142-76f4908687ab\",\"type\":\"LinearScale\"},\"y_range\":{\"id\":\"873ee09e-2ace-4d69-8e0b-1838559d6737\",\"type\":\"FactorRange\"},\"y_scale\":{\"id\":\"3c629f95-5d5c-4f92-b02d-705b4b1885c5\",\"type\":\"CategoricalScale\"}},\"id\":\"c6f8e029-7b73-4ef3-a058-8c2299a17c8d\",\"subtype\":\"Figure\",\"type\":\"Plot\"},{\"attributes\":{\"callback\":null},\"id\":\"a2cd27b5-0455-4c1d-8e8d-79afff3419d8\",\"type\":\"DataRange1d\"},{\"attributes\":{\"callback\":null,\"column_names\":[\"A_RURAL_H_count\",\"A_RURAL_H_mean\",\"A_RURAL_H_std\",\"A_RURAL_H_min\",\"A_RURAL_H_25%\",\"A_RURAL_H_50%\",\"A_RURAL_H_75%\",\"A_RURAL_H_max\",\"A_RURAL_M_count\",\"A_RURAL_M_mean\",\"A_RURAL_M_std\",\"A_RURAL_M_min\",\"A_RURAL_M_25%\",\"A_RURAL_M_50%\",\"A_RURAL_M_75%\",\"A_RURAL_M_max\",\"A_URBANA_H_count\",\"A_URBANA_H_mean\",\"A_URBANA_H_std\",\"A_URBANA_H_min\",\"A_URBANA_H_25%\",\"A_URBANA_H_50%\",\"A_URBANA_H_75%\",\"A_URBANA_H_max\",\"A_URBANA_M_count\",\"A_URBANA_M_mean\",\"A_URBANA_M_std\",\"A_URBANA_M_min\",\"A_URBANA_M_25%\",\"A_URBANA_M_50%\",\"A_URBANA_M_75%\",\"A_URBANA_M_max\",\"TOTAL_H_count\",\"TOTAL_H_mean\",\"TOTAL_H_std\",\"TOTAL_H_min\",\"TOTAL_H_25%\",\"TOTAL_H_50%\",\"TOTAL_H_75%\",\"TOTAL_H_max\",\"TOTAL_M_count\",\"TOTAL_M_mean\",\"TOTAL_M_std\",\"TOTAL_M_min\",\"TOTAL_M_25%\",\"TOTAL_M_50%\",\"TOTAL_M_75%\",\"TOTAL_M_max\",\"GRANDES_GRUPOS_DE_EDAD\"],\"data\":{\"A_RURAL_H_25%\":{\"__ndarray__\":\"ZmZmZmZmBkAzMzMzMzMVQM3MzMzMzCpAZmZmZmYmQUCamZmZmZkkQA==\",\"dtype\":\"float64\",\"shape\":[5]},\"A_RURAL_H_50%\":{\"__ndarray__\":\"ZmZmZmZmBkAzMzMzMzMVQM3MzMzMzCpAZmZmZmYmQUCamZmZmZkkQA==\",\"dtype\":\"float64\",\"shape\":[5]},\"A_RURAL_H_75%\":{\"__ndarray__\":\"ZmZmZmZmBkAzMzMzMzMVQM3MzMzMzCpAZmZmZmYmQUCamZmZmZkkQA==\",\"dtype\":\"float64\",\"shape\":[5]},\"A_RURAL_H_count\":{\"__ndarray__\":\"AAAAAAAA8D8AAAAAAADwPwAAAAAAAPA/AAAAAAAA8D8AAAAAAADwPw==\",\"dtype\":\"float64\",\"shape\":[5]},\"A_RURAL_H_max\":{\"__ndarray__\":\"ZmZmZmZmBkAzMzMzMzMVQM3MzMzMzCpAZmZmZmYmQUCamZmZmZkkQA==\",\"dtype\":\"float64\",\"shape\":[5]},\"A_RURAL_H_mean\":{\"__ndarray__\":\"ZmZmZmZmBkAzMzMzMzMVQM3MzMzMzCpAZmZmZmYmQUCamZmZmZkkQA==\",\"dtype\":\"float64\",\"shape\":[5]},\"A_RURAL_H_min\":{\"__ndarray__\":\"ZmZmZmZmBkAzMzMzMzMVQM3MzMzMzCpAZmZmZmYmQUCamZmZmZkkQA==\",\"dtype\":\"float64\",\"shape\":[5]},\"A_RURAL_H_std\":{\"__ndarray__\":\"AAAAAAAA+H8AAAAAAAD4fwAAAAAAAPh/AAAAAAAA+H8AAAAAAAD4fw==\",\"dtype\":\"float64\",\"shape\":[5]},\"A_RURAL_M_25%\":{\"__ndarray__\":\"AAAAAAAABEBmZmZmZmYWQAAAAAAAgDRAmpmZmZnZSEBmZmZmZmYsQA==\",\"dtype\":\"float64\",\"shape\":[5]},\"A_RURAL_M_50%\":{\"__ndarray__\":\"AAAAAAAABEBmZmZmZmYWQAAAAAAAgDRAmpmZmZnZSEBmZmZmZmYsQA==\",\"dtype\":\"float64\",\"shape\":[5]},\"A_RURAL_M_75%\":{\"__ndarray__\":\"AAAAAAAABEBmZmZmZmYWQAAAAAAAgDRAmpmZmZnZSEBmZmZmZmYsQA==\",\"dtype\":\"float64\",\"shape\":[5]},\"A_RURAL_M_count\":{\"__ndarray__\":\"AAAAAAAA8D8AAAAAAADwPwAAAAAAAPA/AAAAAAAA8D8AAAAAAADwPw==\",\"dtype\":\"float64\",\"shape\":[5]},\"A_RURAL_M_max\":{\"__ndarray__\":\"AAAAAAAABEBmZmZmZmYWQAAAAAAAgDRAmpmZmZnZSEBmZmZmZmYsQA==\",\"dtype\":\"float64\",\"shape\":[5]},\"A_RURAL_M_mean\":{\"__ndarray__\":\"AAAAAAAABEBmZmZmZmYWQAAAAAAAgDRAmpmZmZnZSEBmZmZmZmYsQA==\",\"dtype\":\"float64\",\"shape\":[5]},\"A_RURAL_M_min\":{\"__ndarray__\":\"AAAAAAAABEBmZmZmZmYWQAAAAAAAgDRAmpmZmZnZSEBmZmZmZmYsQA==\",\"dtype\":\"float64\",\"shape\":[5]},\"A_RURAL_M_std\":{\"__ndarray__\":\"AAAAAAAA+H8AAAAAAAD4fwAAAAAAAPh/AAAAAAAA+H8AAAAAAAD4fw==\",\"dtype\":\"float64\",\"shape\":[5]},\"A_URBANA_H_25%\":{\"__ndarray__\":\"MzMzMzMz8z/NzMzMzMz8P2ZmZmZmZg5AmpmZmZmZKUDNzMzMzMwIQA==\",\"dtype\":\"float64\",\"shape\":[5]},\"A_URBANA_H_50%\":{\"__ndarray__\":\"MzMzMzMz8z/NzMzMzMz8P2ZmZmZmZg5AmpmZmZmZKUDNzMzMzMwIQA==\",\"dtype\":\"float64\",\"shape\":[5]},\"A_URBANA_H_75%\":{\"__ndarray__\":\"MzMzMzMz8z/NzMzMzMz8P2ZmZmZmZg5AmpmZmZmZKUDNzMzMzMwIQA==\",\"dtype\":\"float64\",\"shape\":[5]},\"A_URBANA_H_count\":{\"__ndarray__\":\"AAAAAAAA8D8AAAAAAADwPwAAAAAAAPA/AAAAAAAA8D8AAAAAAADwPw==\",\"dtype\":\"float64\",\"shape\":[5]},\"A_URBANA_H_max\":{\"__ndarray__\":\"MzMzMzMz8z/NzMzMzMz8P2ZmZmZmZg5AmpmZmZmZKUDNzMzMzMwIQA==\",\"dtype\":\"float64\",\"shape\":[5]},\"A_URBANA_H_mean\":{\"__ndarray__\":\"MzMzMzMz8z/NzMzMzMz8P2ZmZmZmZg5AmpmZmZmZKUDNzMzMzMwIQA==\",\"dtype\":\"float64\",\"shape\":[5]},\"A_URBANA_H_min\":{\"__ndarray__\":\"MzMzMzMz8z/NzMzMzMz8P2ZmZmZmZg5AmpmZmZmZKUDNzMzMzMwIQA==\",\"dtype\":\"float64\",\"shape\":[5]},\"A_URBANA_H_std\":{\"__ndarray__\":\"AAAAAAAA+H8AAAAAAAD4fwAAAAAAAPh/AAAAAAAA+H8AAAAAAAD4fw==\",\"dtype\":\"float64\",\"shape\":[5]},\"A_URBANA_M_25%\":{\"__ndarray__\":\"zczMzMzM7D8zMzMzMzP7P5qZmZmZmRVAAAAAAACAM0AzMzMzMzMRQA==\",\"dtype\":\"float64\",\"shape\":[5]},\"A_URBANA_M_50%\":{\"__ndarray__\":\"zczMzMzM7D8zMzMzMzP7P5qZmZmZmRVAAAAAAACAM0AzMzMzMzMRQA==\",\"dtype\":\"float64\",\"shape\":[5]},\"A_URBANA_M_75%\":{\"__ndarray__\":\"zczMzMzM7D8zMzMzMzP7P5qZmZmZmRVAAAAAAACAM0AzMzMzMzMRQA==\",\"dtype\":\"float64\",\"shape\":[5]},\"A_URBANA_M_count\":{\"__ndarray__\":\"AAAAAAAA8D8AAAAAAADwPwAAAAAAAPA/AAAAAAAA8D8AAAAAAADwPw==\",\"dtype\":\"float64\",\"shape\":[5]},\"A_URBANA_M_max\":{\"__ndarray__\":\"zczMzMzM7D8zMzMzMzP7P5qZmZmZmRVAAAAAAACAM0AzMzMzMzMRQA==\",\"dtype\":\"float64\",\"shape\":[5]},\"A_URBANA_M_mean\":{\"__ndarray__\":\"zczMzMzM7D8zMzMzMzP7P5qZmZmZmRVAAAAAAACAM0AzMzMzMzMRQA==\",\"dtype\":\"float64\",\"shape\":[5]},\"A_URBANA_M_min\":{\"__ndarray__\":\"zczMzMzM7D8zMzMzMzP7P5qZmZmZmRVAAAAAAACAM0AzMzMzMzMRQA==\",\"dtype\":\"float64\",\"shape\":[5]},\"A_URBANA_M_std\":{\"__ndarray__\":\"AAAAAAAA+H8AAAAAAAD4fwAAAAAAAPh/AAAAAAAA+H8AAAAAAAD4fw==\",\"dtype\":\"float64\",\"shape\":[5]},\"GRANDES_GRUPOS_DE_EDAD\":[\"15-24 a\\u00f1os\",\"25-39 a\\u00f1os\",\"40-64 a\\u00f1os\",\"65 a\\u00f1os y mas\",\"Total nacional\"],\"TOTAL_H_25%\":{\"__ndarray__\":\"zczMzMzM/D8AAAAAAAAIQM3MzMzMzBxAZmZmZmZmNkAzMzMzMzMXQA==\",\"dtype\":\"float64\",\"shape\":[5]},\"TOTAL_H_50%\":{\"__ndarray__\":\"zczMzMzM/D8AAAAAAAAIQM3MzMzMzBxAZmZmZmZmNkAzMzMzMzMXQA==\",\"dtype\":\"float64\",\"shape\":[5]},\"TOTAL_H_75%\":{\"__ndarray__\":\"zczMzMzM/D8AAAAAAAAIQM3MzMzMzBxAZmZmZmZmNkAzMzMzMzMXQA==\",\"dtype\":\"float64\",\"shape\":[5]},\"TOTAL_H_count\":{\"__ndarray__\":\"AAAAAAAA8D8AAAAAAADwPwAAAAAAAPA/AAAAAAAA8D8AAAAAAADwPw==\",\"dtype\":\"float64\",\"shape\":[5]},\"TOTAL_H_max\":{\"__ndarray__\":\"zczMzMzM/D8AAAAAAAAIQM3MzMzMzBxAZmZmZmZmNkAzMzMzMzMXQA==\",\"dtype\":\"float64\",\"shape\":[5]},\"TOTAL_H_mean\":{\"__ndarray__\":\"zczMzMzM/D8AAAAAAAAIQM3MzMzMzBxAZmZmZmZmNkAzMzMzMzMXQA==\",\"dtype\":\"float64\",\"shape\":[5]},\"TOTAL_H_min\":{\"__ndarray__\":\"zczMzMzM/D8AAAAAAAAIQM3MzMzMzBxAZmZmZmZmNkAzMzMzMzMXQA==\",\"dtype\":\"float64\",\"shape\":[5]},\"TOTAL_H_std\":{\"__ndarray__\":\"AAAAAAAA+H8AAAAAAAD4fwAAAAAAAPh/AAAAAAAA+H8AAAAAAAD4fw==\",\"dtype\":\"float64\",\"shape\":[5]},\"TOTAL_M_25%\":{\"__ndarray__\":\"AAAAAAAA+D8AAAAAAAAIQM3MzMzMzCRAmpmZmZmZP0DNzMzMzMweQA==\",\"dtype\":\"float64\",\"shape\":[5]},\"TOTAL_M_50%\":{\"__ndarray__\":\"AAAAAAAA+D8AAAAAAAAIQM3MzMzMzCRAmpmZmZmZP0DNzMzMzMweQA==\",\"dtype\":\"float64\",\"shape\":[5]},\"TOTAL_M_75%\":{\"__ndarray__\":\"AAAAAAAA+D8AAAAAAAAIQM3MzMzMzCRAmpmZmZmZP0DNzMzMzMweQA==\",\"dtype\":\"float64\",\"shape\":[5]},\"TOTAL_M_count\":{\"__ndarray__\":\"AAAAAAAA8D8AAAAAAADwPwAAAAAAAPA/AAAAAAAA8D8AAAAAAADwPw==\",\"dtype\":\"float64\",\"shape\":[5]},\"TOTAL_M_max\":{\"__ndarray__\":\"AAAAAAAA+D8AAAAAAAAIQM3MzMzMzCRAmpmZmZmZP0DNzMzMzMweQA==\",\"dtype\":\"float64\",\"shape\":[5]},\"TOTAL_M_mean\":{\"__ndarray__\":\"AAAAAAAA+D8AAAAAAAAIQM3MzMzMzCRAmpmZmZmZP0DNzMzMzMweQA==\",\"dtype\":\"float64\",\"shape\":[5]},\"TOTAL_M_min\":{\"__ndarray__\":\"AAAAAAAA+D8AAAAAAAAIQM3MzMzMzCRAmpmZmZmZP0DNzMzMzMweQA==\",\"dtype\":\"float64\",\"shape\":[5]},\"TOTAL_M_std\":{\"__ndarray__\":\"AAAAAAAA+H8AAAAAAAD4fwAAAAAAAPh/AAAAAAAA+H8AAAAAAAD4fw==\",\"dtype\":\"float64\",\"shape\":[5]}}},\"id\":\"a2481509-9c44-4f7d-8b53-7de7bd0e0dc1\",\"type\":\"ColumnDataSource\"},{\"attributes\":{},\"id\":\"05f26331-988d-4f1e-827d-494aa63fdc5d\",\"type\":\"LinearScale\"},{\"attributes\":{\"formatter\":{\"id\":\"6c716352-7861-45e4-810b-ff310fe65422\",\"type\":\"BasicTickFormatter\"},\"plot\":{\"id\":\"c6f8e029-7b73-4ef3-a058-8c2299a17c8d\",\"subtype\":\"Figure\",\"type\":\"Plot\"},\"ticker\":{\"id\":\"23325791-25cf-481b-9d40-440f5827d958\",\"type\":\"BasicTicker\"}},\"id\":\"881705e4-ca2b-4db9-b7b5-21cb271a372e\",\"type\":\"LinearAxis\"},{\"attributes\":{\"dimension\":1,\"plot\":{\"id\":\"c6f8e029-7b73-4ef3-a058-8c2299a17c8d\",\"subtype\":\"Figure\",\"type\":\"Plot\"},\"ticker\":{\"id\":\"686e2371-64c6-42c7-940a-e62d8d8fce32\",\"type\":\"CategoricalTicker\"}},\"id\":\"25354315-16e2-4654-bb50-b2fb7c9ae013\",\"type\":\"Grid\"},{\"attributes\":{\"fill_color\":{\"value\":\"#F08080\"},\"height\":{\"value\":0.5},\"line_color\":{\"value\":\"#F08080\"},\"right\":{\"field\":\"A_RURAL_H_mean\"},\"y\":{\"field\":\"GRANDES_GRUPOS_DE_EDAD\"}},\"id\":\"fe124fec-32b9-4e31-86cb-efc2856deb23\",\"type\":\"HBar\"},{\"attributes\":{\"formatter\":{\"id\":\"ef561fdc-b1d2-4f4e-8d08-b7a25289e8df\",\"type\":\"CategoricalTickFormatter\"},\"plot\":{\"id\":\"0cf8f46e-0a94-43fb-b459-819c5289c8e1\",\"subtype\":\"Figure\",\"type\":\"Plot\"},\"ticker\":{\"id\":\"abca0098-9759-4d77-971d-4ccce566f2c8\",\"type\":\"CategoricalTicker\"}},\"id\":\"f6cd344a-7642-4034-ac81-639f47e3a1a0\",\"type\":\"CategoricalAxis\"},{\"attributes\":{},\"id\":\"e90f50c5-a595-4583-9e3c-ed0117bebe3d\",\"type\":\"ResetTool\"},{\"attributes\":{\"formatter\":{\"id\":\"cf4ef095-43eb-43dc-9ac1-1029429b5e1a\",\"type\":\"BasicTickFormatter\"},\"plot\":{\"id\":\"0cf8f46e-0a94-43fb-b459-819c5289c8e1\",\"subtype\":\"Figure\",\"type\":\"Plot\"},\"ticker\":{\"id\":\"79962593-d023-42d3-a228-121851cf298a\",\"type\":\"BasicTicker\"}},\"id\":\"6209cd48-cd44-439b-bb25-ed5126b5031f\",\"type\":\"LinearAxis\"},{\"attributes\":{},\"id\":\"631001e0-d379-4255-8b9c-fd61ba87af12\",\"type\":\"WheelZoomTool\"},{\"attributes\":{\"below\":[{\"id\":\"6209cd48-cd44-439b-bb25-ed5126b5031f\",\"type\":\"LinearAxis\"}],\"left\":[{\"id\":\"f6cd344a-7642-4034-ac81-639f47e3a1a0\",\"type\":\"CategoricalAxis\"}],\"plot_height\":450,\"plot_width\":480,\"renderers\":[{\"id\":\"6209cd48-cd44-439b-bb25-ed5126b5031f\",\"type\":\"LinearAxis\"},{\"id\":\"648cc5ed-2891-4ebd-8e85-23feb7cf78f5\",\"type\":\"Grid\"},{\"id\":\"f6cd344a-7642-4034-ac81-639f47e3a1a0\",\"type\":\"CategoricalAxis\"},{\"id\":\"fdfe8b3d-8c2d-435f-998a-e12b463f1bb9\",\"type\":\"Grid\"},{\"id\":\"fa39b0dd-3f86-4a15-ab85-66084070e3e5\",\"type\":\"BoxAnnotation\"},{\"id\":\"7e47be47-7f40-45bd-9b33-4c6a8ac6f027\",\"type\":\"GlyphRenderer\"}],\"title\":{\"id\":\"903a4a65-2f52-4fe2-91e1-e0fd1b88b90b\",\"type\":\"Title\"},\"toolbar\":{\"id\":\"1398007e-58f1-4820-9b74-edcbbf5581c9\",\"type\":\"Toolbar\"},\"toolbar_location\":null,\"x_range\":{\"id\":\"a2cd27b5-0455-4c1d-8e8d-79afff3419d8\",\"type\":\"DataRange1d\"},\"x_scale\":{\"id\":\"05f26331-988d-4f1e-827d-494aa63fdc5d\",\"type\":\"LinearScale\"},\"y_range\":{\"id\":\"265b072c-a85b-4526-b4fa-a1bf22e094be\",\"type\":\"FactorRange\"},\"y_scale\":{\"id\":\"be5f44f2-ada8-450a-889e-c96a62887176\",\"type\":\"CategoricalScale\"}},\"id\":\"0cf8f46e-0a94-43fb-b459-819c5289c8e1\",\"subtype\":\"Figure\",\"type\":\"Plot\"},{\"attributes\":{\"data_source\":{\"id\":\"a2481509-9c44-4f7d-8b53-7de7bd0e0dc1\",\"type\":\"ColumnDataSource\"},\"glyph\":{\"id\":\"fe124fec-32b9-4e31-86cb-efc2856deb23\",\"type\":\"HBar\"},\"hover_glyph\":null,\"muted_glyph\":null,\"nonselection_glyph\":{\"id\":\"acc0d488-a6d6-43d5-999a-d3663b7c591e\",\"type\":\"HBar\"},\"selection_glyph\":null,\"view\":{\"id\":\"9d8f2f91-c273-4ee1-ba25-8ccfe037b275\",\"type\":\"CDSView\"}},\"id\":\"800ac601-88d1-4d4a-a299-0d6254cc6f0e\",\"type\":\"GlyphRenderer\"},{\"attributes\":{\"sizing_mode\":\"scale_width\",\"toolbar_location\":\"above\",\"tools\":[{\"id\":\"8a8eebb7-9b14-4b21-af2c-da7c60e9354b\",\"type\":\"PanTool\"},{\"id\":\"631001e0-d379-4255-8b9c-fd61ba87af12\",\"type\":\"WheelZoomTool\"},{\"id\":\"095b8ad8-2533-4024-a68e-84b36d2495a1\",\"type\":\"BoxZoomTool\"},{\"id\":\"e90f50c5-a595-4583-9e3c-ed0117bebe3d\",\"type\":\"ResetTool\"},{\"id\":\"61835e39-a593-4c10-bc43-fff870cd8274\",\"type\":\"SaveTool\"},{\"id\":\"63123286-8b70-4d4f-9632-8ab88d2fb045\",\"type\":\"PanTool\"},{\"id\":\"6615b310-a2f2-4eaa-a2b9-715b2bf8e9c9\",\"type\":\"WheelZoomTool\"},{\"id\":\"42b81406-6119-4cce-bcfe-6f3a6042d7fb\",\"type\":\"BoxZoomTool\"},{\"id\":\"d64bb65b-d009-4d88-b39e-07621dd20683\",\"type\":\"ResetTool\"},{\"id\":\"6a6d0fd6-f5d9-4c7e-b837-e371b6a5c90f\",\"type\":\"SaveTool\"}]},\"id\":\"1de201d4-8a40-4963-9291-a9dbb32806bb\",\"type\":\"ToolbarBox\"},{\"attributes\":{},\"id\":\"23325791-25cf-481b-9d40-440f5827d958\",\"type\":\"BasicTicker\"},{\"attributes\":{},\"id\":\"6a6d0fd6-f5d9-4c7e-b837-e371b6a5c90f\",\"type\":\"SaveTool\"},{\"attributes\":{\"children\":[{\"id\":\"0cf8f46e-0a94-43fb-b459-819c5289c8e1\",\"subtype\":\"Figure\",\"type\":\"Plot\"},{\"id\":\"c6f8e029-7b73-4ef3-a058-8c2299a17c8d\",\"subtype\":\"Figure\",\"type\":\"Plot\"}]},\"id\":\"522cde6a-b255-4de4-abee-70999560017a\",\"type\":\"Row\"},{\"attributes\":{\"plot\":{\"id\":\"0cf8f46e-0a94-43fb-b459-819c5289c8e1\",\"subtype\":\"Figure\",\"type\":\"Plot\"},\"ticker\":{\"id\":\"79962593-d023-42d3-a228-121851cf298a\",\"type\":\"BasicTicker\"}},\"id\":\"648cc5ed-2891-4ebd-8e85-23feb7cf78f5\",\"type\":\"Grid\"},{\"attributes\":{},\"id\":\"cf4ef095-43eb-43dc-9ac1-1029429b5e1a\",\"type\":\"BasicTickFormatter\"},{\"attributes\":{},\"id\":\"abca0098-9759-4d77-971d-4ccce566f2c8\",\"type\":\"CategoricalTicker\"},{\"attributes\":{\"plot\":null,\"text\":\"AREA RURAL - HOMBRES\"},\"id\":\"4204ce43-cc4a-4a5c-9362-1bc18f91b77e\",\"type\":\"Title\"},{\"attributes\":{},\"id\":\"686e2371-64c6-42c7-940a-e62d8d8fce32\",\"type\":\"CategoricalTicker\"},{\"attributes\":{\"dimension\":1,\"plot\":{\"id\":\"0cf8f46e-0a94-43fb-b459-819c5289c8e1\",\"subtype\":\"Figure\",\"type\":\"Plot\"},\"ticker\":{\"id\":\"abca0098-9759-4d77-971d-4ccce566f2c8\",\"type\":\"CategoricalTicker\"}},\"id\":\"fdfe8b3d-8c2d-435f-998a-e12b463f1bb9\",\"type\":\"Grid\"},{\"attributes\":{\"children\":[{\"id\":\"522cde6a-b255-4de4-abee-70999560017a\",\"type\":\"Row\"}]},\"id\":\"2b11ed1c-bb26-4232-8e9f-8a021c97d15c\",\"type\":\"Column\"},{\"attributes\":{},\"id\":\"6c716352-7861-45e4-810b-ff310fe65422\",\"type\":\"BasicTickFormatter\"},{\"attributes\":{},\"id\":\"ef561fdc-b1d2-4f4e-8d08-b7a25289e8df\",\"type\":\"CategoricalTickFormatter\"},{\"attributes\":{},\"id\":\"caaa2c74-8713-4e35-b142-76f4908687ab\",\"type\":\"LinearScale\"},{\"attributes\":{},\"id\":\"dccc5a23-8853-469e-b76e-c65bce36dcb8\",\"type\":\"CategoricalTickFormatter\"},{\"attributes\":{\"callback\":null,\"factors\":[\"15-24 a\\u00f1os\",\"25-39 a\\u00f1os\",\"40-64 a\\u00f1os\",\"65 a\\u00f1os y mas\",\"Total nacional\"]},\"id\":\"873ee09e-2ace-4d69-8e0b-1838559d6737\",\"type\":\"FactorRange\"}],\"root_ids\":[\"22c362fe-50a5-4757-90dc-51539aef20c0\"]},\"title\":\"Bokeh Application\",\"version\":\"0.12.10\"}};\n",
       "    var render_items = [{\"docid\":\"aca25be5-7e51-4a06-b51f-39e96c5bf63b\",\"elementid\":\"0c85d428-06a5-478b-a1be-c7d6fe34a034\",\"modelid\":\"22c362fe-50a5-4757-90dc-51539aef20c0\"}];\n",
       "\n",
       "    root.Bokeh.embed.embed_items(docs_json, render_items);\n",
       "  }\n",
       "\n",
       "  if (root.Bokeh !== undefined) {\n",
       "    embed_document(root);\n",
       "  } else {\n",
       "    var attempts = 0;\n",
       "    var timer = setInterval(function(root) {\n",
       "      if (root.Bokeh !== undefined) {\n",
       "        embed_document(root);\n",
       "        clearInterval(timer);\n",
       "      }\n",
       "      attempts++;\n",
       "      if (attempts > 100) {\n",
       "        console.log(\"Bokeh: ERROR: Unable to embed document because BokehJS library is missing\")\n",
       "        clearInterval(timer);\n",
       "      }\n",
       "    }, 10, root)\n",
       "  }\n",
       "})(window);"
      ],
      "application/vnd.bokehjs_exec.v0+json": ""
     },
     "metadata": {
      "application/vnd.bokehjs_exec.v0+json": {
       "id": "22c362fe-50a5-4757-90dc-51539aef20c0"
      }
     },
     "output_type": "display_data"
    }
   ],
   "source": [
    "from bokeh.layouts import gridplot\n",
    "\n",
    "group1 = tabla1.groupby('GRANDES_GRUPOS_DE_EDAD')\n",
    "\n",
    "source = ColumnDataSource(group1)\n",
    "\n",
    "options = dict(plot_width=480, plot_height=450, y_range=group1, tools=\"pan,wheel_zoom,box_zoom,reset,save\")\n",
    "\n",
    "# Creamos dos objetos figuras uno para mujeres y otro para hombres\n",
    "graph1 = figure(title='AREA RURAL - MUJERES', **options)\n",
    "graph2 = figure(title='AREA RURAL - HOMBRES',**options)\n",
    "\n",
    "\n",
    "graph1.hbar(\n",
    "    y='GRANDES_GRUPOS_DE_EDAD',  # Establecemos los valores de y\n",
    "    right='A_RURAL_M_mean', # Establecemos los valores de x\n",
    "    height = 0.5, # El tamaño  de las barras\n",
    "    left = 0, # EL comienzo para presentar los valores de x\n",
    "    color=\"#82B1FF\", # Color de la barra \n",
    "    source=source\n",
    ")\n",
    "\n",
    "graph2.hbar(y='GRANDES_GRUPOS_DE_EDAD', right='A_RURAL_H_mean', height=0.5, left=0, color=\"#F08080\", source=source)\n",
    "\n",
    "# Creamos una nueva figura que esta compuesta por las dos figuras creadas anteriormente\n",
    "graph = gridplot([[graph1, graph2]])\n",
    "\n",
    "# Mostramos los resultados\n",
    "show(graph)"
   ]
  },
  {
   "cell_type": "code",
   "execution_count": null,
   "metadata": {
    "collapsed": true
   },
   "outputs": [],
   "source": []
  }
 ],
 "metadata": {
  "kernelspec": {
   "display_name": "Python 3",
   "language": "python",
   "name": "python3"
  },
  "language_info": {
   "codemirror_mode": {
    "name": "ipython",
    "version": 3
   },
   "file_extension": ".py",
   "mimetype": "text/x-python",
   "name": "python",
   "nbconvert_exporter": "python",
   "pygments_lexer": "ipython3",
   "version": "3.6.3"
  }
 },
 "nbformat": 4,
 "nbformat_minor": 2
}
