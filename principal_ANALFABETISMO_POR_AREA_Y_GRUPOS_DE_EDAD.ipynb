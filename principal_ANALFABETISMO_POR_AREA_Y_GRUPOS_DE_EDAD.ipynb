{
 "cells": [
  {
   "cell_type": "markdown",
   "metadata": {},
   "source": [
    "<h1 style=\"text-align:center\">Trabajo Final - Primer Bimestre</h1>\n",
    "***\n",
    "* **Manejo y Visualización de Datos con Python**\n",
    "***\n",
    "Para la realización del presente trabajo se llevo a cabo la obtención de los datos estadísticos enfocados en el tema de **Hombres y Mujeres en el Ecuador** extraidos de [Ecuador en Cifras](http://www.ecuadorencifras.gob.ec/estadisticas/).\n",
    "\n",
    "Librerías en python a utilizar: **jupyter, pandas, bokeh.**\n",
    "\n",
    "Autores : **Jorge Hurtado - Jonathan Rosero**\n"
   ]
  },
  {
   "cell_type": "code",
   "execution_count": 18,
   "metadata": {
    "collapsed": true
   },
   "outputs": [],
   "source": [
    "# Se inicia con la importacion de pandas con un respectivo alias para facilitar su llamada\n",
    "import pandas as pd"
   ]
  },
  {
   "cell_type": "code",
   "execution_count": 19,
   "metadata": {
    "scrolled": true
   },
   "outputs": [
    {
     "data": {
      "text/html": [
       "<div>\n",
       "<style>\n",
       "    .dataframe thead tr:only-child th {\n",
       "        text-align: right;\n",
       "    }\n",
       "\n",
       "    .dataframe thead th {\n",
       "        text-align: left;\n",
       "    }\n",
       "\n",
       "    .dataframe tbody tr th {\n",
       "        vertical-align: top;\n",
       "    }\n",
       "</style>\n",
       "<table border=\"1\" class=\"dataframe\">\n",
       "  <thead>\n",
       "    <tr style=\"text-align: right;\">\n",
       "      <th></th>\n",
       "      <th>GRANDES_GRUPOS_DE_EDAD</th>\n",
       "      <th>A_URBANA_M</th>\n",
       "      <th>A_URBANA_H</th>\n",
       "      <th>A_RURAL_M</th>\n",
       "      <th>A_RURAL_H</th>\n",
       "      <th>TOTAL_M</th>\n",
       "      <th>TOTAL_H</th>\n",
       "    </tr>\n",
       "  </thead>\n",
       "  <tbody>\n",
       "    <tr>\n",
       "      <th>0</th>\n",
       "      <td>15-24 años</td>\n",
       "      <td>0.009</td>\n",
       "      <td>0.012</td>\n",
       "      <td>0.025</td>\n",
       "      <td>0.028</td>\n",
       "      <td>0.015</td>\n",
       "      <td>0.018</td>\n",
       "    </tr>\n",
       "    <tr>\n",
       "      <th>1</th>\n",
       "      <td>25-39 años</td>\n",
       "      <td>0.017</td>\n",
       "      <td>0.018</td>\n",
       "      <td>0.056</td>\n",
       "      <td>0.053</td>\n",
       "      <td>0.030</td>\n",
       "      <td>0.030</td>\n",
       "    </tr>\n",
       "    <tr>\n",
       "      <th>2</th>\n",
       "      <td>40-64 años</td>\n",
       "      <td>0.054</td>\n",
       "      <td>0.038</td>\n",
       "      <td>0.205</td>\n",
       "      <td>0.134</td>\n",
       "      <td>0.104</td>\n",
       "      <td>0.072</td>\n",
       "    </tr>\n",
       "    <tr>\n",
       "      <th>3</th>\n",
       "      <td>65 años y mas</td>\n",
       "      <td>0.195</td>\n",
       "      <td>0.128</td>\n",
       "      <td>0.497</td>\n",
       "      <td>0.343</td>\n",
       "      <td>0.316</td>\n",
       "      <td>0.224</td>\n",
       "    </tr>\n",
       "    <tr>\n",
       "      <th>4</th>\n",
       "      <td>Total nacional</td>\n",
       "      <td>0.043</td>\n",
       "      <td>0.031</td>\n",
       "      <td>0.142</td>\n",
       "      <td>0.103</td>\n",
       "      <td>0.077</td>\n",
       "      <td>0.058</td>\n",
       "    </tr>\n",
       "  </tbody>\n",
       "</table>\n",
       "</div>"
      ],
      "text/plain": [
       "  GRANDES_GRUPOS_DE_EDAD  A_URBANA_M  A_URBANA_H  A_RURAL_M  A_RURAL_H  \\\n",
       "0             15-24 años       0.009       0.012      0.025      0.028   \n",
       "1             25-39 años       0.017       0.018      0.056      0.053   \n",
       "2             40-64 años       0.054       0.038      0.205      0.134   \n",
       "3          65 años y mas       0.195       0.128      0.497      0.343   \n",
       "4         Total nacional       0.043       0.031      0.142      0.103   \n",
       "\n",
       "   TOTAL_M  TOTAL_H  \n",
       "0    0.015    0.018  \n",
       "1    0.030    0.030  \n",
       "2    0.104    0.072  \n",
       "3    0.316    0.224  \n",
       "4    0.077    0.058  "
      ]
     },
     "execution_count": 19,
     "metadata": {},
     "output_type": "execute_result"
    }
   ],
   "source": [
    "# Con el uso de \".read_csv\" leemos el archivo con lo datos extraidos de EcuadorEnCifras\n",
    "pd.read_csv('./data/ANALFABETISMO_POR_AREA_Y_GRUPOS_DE_EDAD.csv')"
   ]
  },
  {
   "cell_type": "code",
   "execution_count": 20,
   "metadata": {
    "collapsed": true
   },
   "outputs": [],
   "source": [
    "# Como se va ha trabajar con el con los datos presentados anteriomente los guardamos en una variable\n",
    "tabla1 = pd.read_csv('./data/ANALFABETISMO_POR_AREA_Y_GRUPOS_DE_EDAD.csv')"
   ]
  },
  {
   "cell_type": "code",
   "execution_count": 21,
   "metadata": {},
   "outputs": [
    {
     "data": {
      "text/plain": [
       "pandas.core.frame.DataFrame"
      ]
     },
     "execution_count": 21,
     "metadata": {},
     "output_type": "execute_result"
    }
   ],
   "source": [
    "# Cabe mencionar el tipo de objeto de \"tabla1\" por lo que usaremos los atributos y metodos para explorar entre los datos\n",
    "type(tabla1)"
   ]
  },
  {
   "cell_type": "code",
   "execution_count": 22,
   "metadata": {},
   "outputs": [
    {
     "data": {
      "text/html": [
       "<div>\n",
       "<style>\n",
       "    .dataframe thead tr:only-child th {\n",
       "        text-align: right;\n",
       "    }\n",
       "\n",
       "    .dataframe thead th {\n",
       "        text-align: left;\n",
       "    }\n",
       "\n",
       "    .dataframe tbody tr th {\n",
       "        vertical-align: top;\n",
       "    }\n",
       "</style>\n",
       "<table border=\"1\" class=\"dataframe\">\n",
       "  <thead>\n",
       "    <tr style=\"text-align: right;\">\n",
       "      <th></th>\n",
       "      <th>GRANDES_GRUPOS_DE_EDAD</th>\n",
       "      <th>A_URBANA_M</th>\n",
       "      <th>A_URBANA_H</th>\n",
       "    </tr>\n",
       "  </thead>\n",
       "  <tbody>\n",
       "    <tr>\n",
       "      <th>0</th>\n",
       "      <td>15-24 años</td>\n",
       "      <td>0.009</td>\n",
       "      <td>0.012</td>\n",
       "    </tr>\n",
       "    <tr>\n",
       "      <th>1</th>\n",
       "      <td>25-39 años</td>\n",
       "      <td>0.017</td>\n",
       "      <td>0.018</td>\n",
       "    </tr>\n",
       "    <tr>\n",
       "      <th>2</th>\n",
       "      <td>40-64 años</td>\n",
       "      <td>0.054</td>\n",
       "      <td>0.038</td>\n",
       "    </tr>\n",
       "    <tr>\n",
       "      <th>3</th>\n",
       "      <td>65 años y mas</td>\n",
       "      <td>0.195</td>\n",
       "      <td>0.128</td>\n",
       "    </tr>\n",
       "    <tr>\n",
       "      <th>4</th>\n",
       "      <td>Total nacional</td>\n",
       "      <td>0.043</td>\n",
       "      <td>0.031</td>\n",
       "    </tr>\n",
       "  </tbody>\n",
       "</table>\n",
       "</div>"
      ],
      "text/plain": [
       "  GRANDES_GRUPOS_DE_EDAD  A_URBANA_M  A_URBANA_H\n",
       "0             15-24 años       0.009       0.012\n",
       "1             25-39 años       0.017       0.018\n",
       "2             40-64 años       0.054       0.038\n",
       "3          65 años y mas       0.195       0.128\n",
       "4         Total nacional       0.043       0.031"
      ]
     },
     "execution_count": 22,
     "metadata": {},
     "output_type": "execute_result"
    }
   ],
   "source": [
    "# Pandas nos permite trabajar con subconjunto en caso de tener una tabla dividida bajo ciertos parametros\n",
    "tabla1[['GRANDES_GRUPOS_DE_EDAD', 'A_URBANA_M', 'A_URBANA_H']]"
   ]
  },
  {
   "cell_type": "code",
   "execution_count": 23,
   "metadata": {},
   "outputs": [
    {
     "data": {
      "text/html": [
       "<div>\n",
       "<style>\n",
       "    .dataframe thead tr:only-child th {\n",
       "        text-align: right;\n",
       "    }\n",
       "\n",
       "    .dataframe thead th {\n",
       "        text-align: left;\n",
       "    }\n",
       "\n",
       "    .dataframe tbody tr th {\n",
       "        vertical-align: top;\n",
       "    }\n",
       "</style>\n",
       "<table border=\"1\" class=\"dataframe\">\n",
       "  <thead>\n",
       "    <tr style=\"text-align: right;\">\n",
       "      <th></th>\n",
       "      <th>GRANDES_GRUPOS_DE_EDAD</th>\n",
       "      <th>A_URBANA_M</th>\n",
       "      <th>A_URBANA_H</th>\n",
       "      <th>A_RURAL_M</th>\n",
       "      <th>A_RURAL_H</th>\n",
       "      <th>TOTAL_M</th>\n",
       "      <th>TOTAL_H</th>\n",
       "    </tr>\n",
       "  </thead>\n",
       "  <tbody>\n",
       "    <tr>\n",
       "      <th>2</th>\n",
       "      <td>40-64 años</td>\n",
       "      <td>0.054</td>\n",
       "      <td>0.038</td>\n",
       "      <td>0.205</td>\n",
       "      <td>0.134</td>\n",
       "      <td>0.104</td>\n",
       "      <td>0.072</td>\n",
       "    </tr>\n",
       "  </tbody>\n",
       "</table>\n",
       "</div>"
      ],
      "text/plain": [
       "  GRANDES_GRUPOS_DE_EDAD  A_URBANA_M  A_URBANA_H  A_RURAL_M  A_RURAL_H  \\\n",
       "2             40-64 años       0.054       0.038      0.205      0.134   \n",
       "\n",
       "   TOTAL_M  TOTAL_H  \n",
       "2    0.104    0.072  "
      ]
     },
     "execution_count": 23,
     "metadata": {},
     "output_type": "execute_result"
    }
   ],
   "source": [
    "# A la vez que podemso buscar un dato en especifico\n",
    "tabla1.loc[tabla1.GRANDES_GRUPOS_DE_EDAD == '40-64 años']"
   ]
  },
  {
   "cell_type": "code",
   "execution_count": 24,
   "metadata": {},
   "outputs": [
    {
     "data": {
      "text/plain": [
       "0.0636"
      ]
     },
     "execution_count": 24,
     "metadata": {},
     "output_type": "execute_result"
    }
   ],
   "source": [
    "# También podemos utilizar funciones propias de pandas, en este caso sacamos la media con el uso de \".mean()\"\n",
    "mediaUrbanaM = tabla1.A_URBANA_M.mean()\n",
    "mediaUrbanaM"
   ]
  },
  {
   "cell_type": "code",
   "execution_count": 25,
   "metadata": {},
   "outputs": [
    {
     "data": {
      "text/plain": [
       "GRANDES_GRUPOS_DE_EDAD\n",
       "15-24 años        0.015\n",
       "25-39 años        0.030\n",
       "40-64 años        0.104\n",
       "65 años y mas     0.316\n",
       "Total nacional    0.077\n",
       "Name: TOTAL_M, dtype: float64"
      ]
     },
     "execution_count": 25,
     "metadata": {},
     "output_type": "execute_result"
    }
   ],
   "source": [
    "# Podemos agrupar los datos por columnas\n",
    "tabla1.groupby('GRANDES_GRUPOS_DE_EDAD')['TOTAL_M'].mean()"
   ]
  },
  {
   "cell_type": "code",
   "execution_count": 26,
   "metadata": {},
   "outputs": [
    {
     "data": {
      "text/plain": [
       "<matplotlib.axes._subplots.AxesSubplot at 0x22f23a410b8>"
      ]
     },
     "execution_count": 26,
     "metadata": {},
     "output_type": "execute_result"
    },
    {
     "data": {
      "image/png": "[encoded data removed]",
      "text/plain": [
       "<matplotlib.figure.Figure at 0x22f21dd9cc0>"
      ]
     },
     "metadata": {},
     "output_type": "display_data"
    }
   ],
   "source": [
    "# Por parte de pandas sugiere la presentacion de los datos tras es uso de matplotlib\n",
    "import matplotlib.pyplot\n",
    "\n",
    "%matplotlib inline\n",
    "\n",
    "gytle = tabla1.groupby('GRANDES_GRUPOS_DE_EDAD')['TOTAL_M'].mean()\n",
    "\n",
    "gytle.plot()"
   ]
  },
  {
   "cell_type": "code",
   "execution_count": 27,
   "metadata": {},
   "outputs": [
    {
     "data": {
      "text/html": [
       "\n",
       "    <div class=\"bk-root\">\n",
       "        <a href=\"https://bokeh.pydata.org\" target=\"_blank\" class=\"bk-logo bk-logo-small bk-logo-notebook\"></a>\n",
       "        <span id=\"8f018b7d-30cc-44d6-8022-851440f8890b\">Loading BokehJS ...</span>\n",
       "    </div>"
      ]
     },
     "metadata": {},
     "output_type": "display_data"
    },
    {
     "data": {
      "application/javascript": [
       "\n",
       "(function(root) {\n",
       "  function now() {\n",
       "    return new Date();\n",
       "  }\n",
       "\n",
       "  var force = true;\n",
       "\n",
       "  if (typeof (root._bokeh_onload_callbacks) === \"undefined\" || force === true) {\n",
       "    root._bokeh_onload_callbacks = [];\n",
       "    root._bokeh_is_loading = undefined;\n",
       "  }\n",
       "\n",
       "  var JS_MIME_TYPE = 'application/javascript';\n",
       "  var HTML_MIME_TYPE = 'text/html';\n",
       "  var EXEC_MIME_TYPE = 'application/vnd.bokehjs_exec.v0+json';\n",
       "  var CLASS_NAME = 'output_bokeh rendered_html';\n",
       "\n",
       "  /**\n",
       "   * Render data to the DOM node\n",
       "   */\n",
       "  function render(props, node) {\n",
       "    var script = document.createElement(\"script\");\n",
       "    node.appendChild(script);\n",
       "  }\n",
       "\n",
       "  /**\n",
       "   * Handle when an output is cleared or removed\n",
       "   */\n",
       "  function handleClearOutput(event, handle) {\n",
       "    var cell = handle.cell;\n",
       "\n",
       "    var id = cell.output_area._bokeh_element_id;\n",
       "    var server_id = cell.output_area._bokeh_server_id;\n",
       "    // Clean up Bokeh references\n",
       "    if (id !== undefined) {\n",
       "      Bokeh.index[id].model.document.clear();\n",
       "      delete Bokeh.index[id];\n",
       "    }\n",
       "\n",
       "    if (server_id !== undefined) {\n",
       "      // Clean up Bokeh references\n",
       "      var cmd = \"from bokeh.io.state import curstate; print(curstate().uuid_to_server['\" + server_id + \"'].get_sessions()[0].document.roots[0]._id)\";\n",
       "      cell.notebook.kernel.execute(cmd, {\n",
       "        iopub: {\n",
       "          output: function(msg) {\n",
       "            var element_id = msg.content.text.trim();\n",
       "            Bokeh.index[element_id].model.document.clear();\n",
       "            delete Bokeh.index[element_id];\n",
       "          }\n",
       "        }\n",
       "      });\n",
       "      // Destroy server and session\n",
       "      var cmd = \"import bokeh.io.notebook as ion; ion.destroy_server('\" + server_id + \"')\";\n",
       "      cell.notebook.kernel.execute(cmd);\n",
       "    }\n",
       "  }\n",
       "\n",
       "  /**\n",
       "   * Handle when a new output is added\n",
       "   */\n",
       "  function handleAddOutput(event, handle) {\n",
       "    var output_area = handle.output_area;\n",
       "    var output = handle.output;\n",
       "\n",
       "    // limit handleAddOutput to display_data with EXEC_MIME_TYPE content only\n",
       "    if ((output.output_type != \"display_data\") || (!output.data.hasOwnProperty(EXEC_MIME_TYPE))) {\n",
       "      return\n",
       "    }\n",
       "\n",
       "    var toinsert = output_area.element.find(`.${CLASS_NAME.split(' ')[0]}`);\n",
       "\n",
       "    if (output.metadata[EXEC_MIME_TYPE][\"id\"] !== undefined) {\n",
       "      toinsert[0].firstChild.textContent = output.data[JS_MIME_TYPE];\n",
       "      // store reference to embed id on output_area\n",
       "      output_area._bokeh_element_id = output.metadata[EXEC_MIME_TYPE][\"id\"];\n",
       "    }\n",
       "    if (output.metadata[EXEC_MIME_TYPE][\"server_id\"] !== undefined) {\n",
       "      var bk_div = document.createElement(\"div\");\n",
       "      bk_div.innerHTML = output.data[HTML_MIME_TYPE];\n",
       "      var script_attrs = bk_div.children[0].attributes;\n",
       "      for (var i = 0; i < script_attrs.length; i++) {\n",
       "        toinsert[0].firstChild.setAttribute(script_attrs[i].name, script_attrs[i].value);\n",
       "      }\n",
       "      // store reference to server id on output_area\n",
       "      output_area._bokeh_server_id = output.metadata[EXEC_MIME_TYPE][\"server_id\"];\n",
       "    }\n",
       "  }\n",
       "\n",
       "  function register_renderer(events, OutputArea) {\n",
       "\n",
       "    function append_mime(data, metadata, element) {\n",
       "      // create a DOM node to render to\n",
       "      var toinsert = this.create_output_subarea(\n",
       "        metadata,\n",
       "        CLASS_NAME,\n",
       "        EXEC_MIME_TYPE\n",
       "      );\n",
       "      this.keyboard_manager.register_events(toinsert);\n",
       "      // Render to node\n",
       "      var props = {data: data, metadata: metadata[EXEC_MIME_TYPE]};\n",
       "      render(props, toinsert[0]);\n",
       "      element.append(toinsert);\n",
       "      return toinsert\n",
       "    }\n",
       "\n",
       "    /* Handle when an output is cleared or removed */\n",
       "    events.on('clear_output.CodeCell', handleClearOutput);\n",
       "    events.on('delete.Cell', handleClearOutput);\n",
       "\n",
       "    /* Handle when a new output is added */\n",
       "    events.on('output_added.OutputArea', handleAddOutput);\n",
       "\n",
       "    /**\n",
       "     * Register the mime type and append_mime function with output_area\n",
       "     */\n",
       "    OutputArea.prototype.register_mime_type(EXEC_MIME_TYPE, append_mime, {\n",
       "      /* Is output safe? */\n",
       "      safe: true,\n",
       "      /* Index of renderer in `output_area.display_order` */\n",
       "      index: 0\n",
       "    });\n",
       "  }\n",
       "\n",
       "  // register the mime type if in Jupyter Notebook environment and previously unregistered\n",
       "  if (root.Jupyter !== undefined) {\n",
       "    var events = require('base/js/events');\n",
       "    var OutputArea = require('notebook/js/outputarea').OutputArea;\n",
       "\n",
       "    if (OutputArea.prototype.mime_types().indexOf(EXEC_MIME_TYPE) == -1) {\n",
       "      register_renderer(events, OutputArea);\n",
       "    }\n",
       "  }\n",
       "\n",
       "  \n",
       "  if (typeof (root._bokeh_timeout) === \"undefined\" || force === true) {\n",
       "    root._bokeh_timeout = Date.now() + 5000;\n",
       "    root._bokeh_failed_load = false;\n",
       "  }\n",
       "\n",
       "  var NB_LOAD_WARNING = {'data': {'text/html':\n",
       "     \"<div style='background-color: #fdd'>\\n\"+\n",
       "     \"<p>\\n\"+\n",
       "     \"BokehJS does not appear to have successfully loaded. If loading BokehJS from CDN, this \\n\"+\n",
       "     \"may be due to a slow or bad network connection. Possible fixes:\\n\"+\n",
       "     \"</p>\\n\"+\n",
       "     \"<ul>\\n\"+\n",
       "     \"<li>re-rerun `output_notebook()` to attempt to load from CDN again, or</li>\\n\"+\n",
       "     \"<li>use INLINE resources instead, as so:</li>\\n\"+\n",
       "     \"</ul>\\n\"+\n",
       "     \"<code>\\n\"+\n",
       "     \"from bokeh.resources import INLINE\\n\"+\n",
       "     \"output_notebook(resources=INLINE)\\n\"+\n",
       "     \"</code>\\n\"+\n",
       "     \"</div>\"}};\n",
       "\n",
       "  function display_loaded() {\n",
       "    var el = document.getElementById(\"8f018b7d-30cc-44d6-8022-851440f8890b\");\n",
       "    if (el != null) {\n",
       "      el.textContent = \"BokehJS is loading...\";\n",
       "    }\n",
       "    if (root.Bokeh !== undefined) {\n",
       "      if (el != null) {\n",
       "        el.textContent = \"BokehJS \" + root.Bokeh.version + \" successfully loaded.\";\n",
       "      }\n",
       "    } else if (Date.now() < root._bokeh_timeout) {\n",
       "      setTimeout(display_loaded, 100)\n",
       "    }\n",
       "  }\n",
       "\n",
       "\n",
       "  function run_callbacks() {\n",
       "    try {\n",
       "      root._bokeh_onload_callbacks.forEach(function(callback) { callback() });\n",
       "    }\n",
       "    finally {\n",
       "      delete root._bokeh_onload_callbacks\n",
       "    }\n",
       "    console.info(\"Bokeh: all callbacks have finished\");\n",
       "  }\n",
       "\n",
       "  function load_libs(js_urls, callback) {\n",
       "    root._bokeh_onload_callbacks.push(callback);\n",
       "    if (root._bokeh_is_loading > 0) {\n",
       "      console.log(\"Bokeh: BokehJS is being loaded, scheduling callback at\", now());\n",
       "      return null;\n",
       "    }\n",
       "    if (js_urls == null || js_urls.length === 0) {\n",
       "      run_callbacks();\n",
       "      return null;\n",
       "    }\n",
       "    console.log(\"Bokeh: BokehJS not loaded, scheduling load and callback at\", now());\n",
       "    root._bokeh_is_loading = js_urls.length;\n",
       "    for (var i = 0; i < js_urls.length; i++) {\n",
       "      var url = js_urls[i];\n",
       "      var s = document.createElement('script');\n",
       "      s.src = url;\n",
       "      s.async = false;\n",
       "      s.onreadystatechange = s.onload = function() {\n",
       "        root._bokeh_is_loading--;\n",
       "        if (root._bokeh_is_loading === 0) {\n",
       "          console.log(\"Bokeh: all BokehJS libraries loaded\");\n",
       "          run_callbacks()\n",
       "        }\n",
       "      };\n",
       "      s.onerror = function() {\n",
       "        console.warn(\"failed to load library \" + url);\n",
       "      };\n",
       "      console.log(\"Bokeh: injecting script tag for BokehJS library: \", url);\n",
       "      document.getElementsByTagName(\"head\")[0].appendChild(s);\n",
       "    }\n",
       "  };var element = document.getElementById(\"8f018b7d-30cc-44d6-8022-851440f8890b\");\n",
       "  if (element == null) {\n",
       "    console.log(\"Bokeh: ERROR: autoload.js configured with elementid '8f018b7d-30cc-44d6-8022-851440f8890b' but no matching script tag was found. \")\n",
       "    return false;\n",
       "  }\n",
       "\n",
       "  var js_urls = [\"https://cdn.pydata.org/bokeh/release/bokeh-0.12.10.min.js\", \"https://cdn.pydata.org/bokeh/release/bokeh-widgets-0.12.10.min.js\", \"https://cdn.pydata.org/bokeh/release/bokeh-tables-0.12.10.min.js\", \"https://cdn.pydata.org/bokeh/release/bokeh-gl-0.12.10.min.js\"];\n",
       "\n",
       "  var inline_js = [\n",
       "    function(Bokeh) {\n",
       "      Bokeh.set_log_level(\"info\");\n",
       "    },\n",
       "    \n",
       "    function(Bokeh) {\n",
       "      \n",
       "    },\n",
       "    function(Bokeh) {\n",
       "      console.log(\"Bokeh: injecting CSS: https://cdn.pydata.org/bokeh/release/bokeh-0.12.10.min.css\");\n",
       "      Bokeh.embed.inject_css(\"https://cdn.pydata.org/bokeh/release/bokeh-0.12.10.min.css\");\n",
       "      console.log(\"Bokeh: injecting CSS: https://cdn.pydata.org/bokeh/release/bokeh-widgets-0.12.10.min.css\");\n",
       "      Bokeh.embed.inject_css(\"https://cdn.pydata.org/bokeh/release/bokeh-widgets-0.12.10.min.css\");\n",
       "      console.log(\"Bokeh: injecting CSS: https://cdn.pydata.org/bokeh/release/bokeh-tables-0.12.10.min.css\");\n",
       "      Bokeh.embed.inject_css(\"https://cdn.pydata.org/bokeh/release/bokeh-tables-0.12.10.min.css\");\n",
       "    }\n",
       "  ];\n",
       "\n",
       "  function run_inline_js() {\n",
       "    \n",
       "    if ((root.Bokeh !== undefined) || (force === true)) {\n",
       "      for (var i = 0; i < inline_js.length; i++) {\n",
       "        inline_js[i].call(root, root.Bokeh);\n",
       "      }if (force === true) {\n",
       "        display_loaded();\n",
       "      }} else if (Date.now() < root._bokeh_timeout) {\n",
       "      setTimeout(run_inline_js, 100);\n",
       "    } else if (!root._bokeh_failed_load) {\n",
       "      console.log(\"Bokeh: BokehJS failed to load within specified timeout.\");\n",
       "      root._bokeh_failed_load = true;\n",
       "    } else if (force !== true) {\n",
       "      var cell = $(document.getElementById(\"8f018b7d-30cc-44d6-8022-851440f8890b\")).parents('.cell').data().cell;\n",
       "      cell.output_area.append_execute_result(NB_LOAD_WARNING)\n",
       "    }\n",
       "\n",
       "  }\n",
       "\n",
       "  if (root._bokeh_is_loading === 0) {\n",
       "    console.log(\"Bokeh: BokehJS loaded, going straight to plotting\");\n",
       "    run_inline_js();\n",
       "  } else {\n",
       "    load_libs(js_urls, function() {\n",
       "      console.log(\"Bokeh: BokehJS plotting callback run at\", now());\n",
       "      run_inline_js();\n",
       "    });\n",
       "  }\n",
       "}(window));"
      ],
      "application/vnd.bokehjs_load.v0+json": "\n(function(root) {\n  function now() {\n    return new Date();\n  }\n\n  var force = true;\n\n  if (typeof (root._bokeh_onload_callbacks) === \"undefined\" || force === true) {\n    root._bokeh_onload_callbacks = [];\n    root._bokeh_is_loading = undefined;\n  }\n\n  \n\n  \n  if (typeof (root._bokeh_timeout) === \"undefined\" || force === true) {\n    root._bokeh_timeout = Date.now() + 5000;\n    root._bokeh_failed_load = false;\n  }\n\n  var NB_LOAD_WARNING = {'data': {'text/html':\n     \"<div style='background-color: #fdd'>\\n\"+\n     \"<p>\\n\"+\n     \"BokehJS does not appear to have successfully loaded. If loading BokehJS from CDN, this \\n\"+\n     \"may be due to a slow or bad network connection. Possible fixes:\\n\"+\n     \"</p>\\n\"+\n     \"<ul>\\n\"+\n     \"<li>re-rerun `output_notebook()` to attempt to load from CDN again, or</li>\\n\"+\n     \"<li>use INLINE resources instead, as so:</li>\\n\"+\n     \"</ul>\\n\"+\n     \"<code>\\n\"+\n     \"from bokeh.resources import INLINE\\n\"+\n     \"output_notebook(resources=INLINE)\\n\"+\n     \"</code>\\n\"+\n     \"</div>\"}};\n\n  function display_loaded() {\n    var el = document.getElementById(\"8f018b7d-30cc-44d6-8022-851440f8890b\");\n    if (el != null) {\n      el.textContent = \"BokehJS is loading...\";\n    }\n    if (root.Bokeh !== undefined) {\n      if (el != null) {\n        el.textContent = \"BokehJS \" + root.Bokeh.version + \" successfully loaded.\";\n      }\n    } else if (Date.now() < root._bokeh_timeout) {\n      setTimeout(display_loaded, 100)\n    }\n  }\n\n\n  function run_callbacks() {\n    try {\n      root._bokeh_onload_callbacks.forEach(function(callback) { callback() });\n    }\n    finally {\n      delete root._bokeh_onload_callbacks\n    }\n    console.info(\"Bokeh: all callbacks have finished\");\n  }\n\n  function load_libs(js_urls, callback) {\n    root._bokeh_onload_callbacks.push(callback);\n    if (root._bokeh_is_loading > 0) {\n      console.log(\"Bokeh: BokehJS is being loaded, scheduling callback at\", now());\n      return null;\n    }\n    if (js_urls == null || js_urls.length === 0) {\n      run_callbacks();\n      return null;\n    }\n    console.log(\"Bokeh: BokehJS not loaded, scheduling load and callback at\", now());\n    root._bokeh_is_loading = js_urls.length;\n    for (var i = 0; i < js_urls.length; i++) {\n      var url = js_urls[i];\n      var s = document.createElement('script');\n      s.src = url;\n      s.async = false;\n      s.onreadystatechange = s.onload = function() {\n        root._bokeh_is_loading--;\n        if (root._bokeh_is_loading === 0) {\n          console.log(\"Bokeh: all BokehJS libraries loaded\");\n          run_callbacks()\n        }\n      };\n      s.onerror = function() {\n        console.warn(\"failed to load library \" + url);\n      };\n      console.log(\"Bokeh: injecting script tag for BokehJS library: \", url);\n      document.getElementsByTagName(\"head\")[0].appendChild(s);\n    }\n  };var element = document.getElementById(\"8f018b7d-30cc-44d6-8022-851440f8890b\");\n  if (element == null) {\n    console.log(\"Bokeh: ERROR: autoload.js configured with elementid '8f018b7d-30cc-44d6-8022-851440f8890b' but no matching script tag was found. \")\n    return false;\n  }\n\n  var js_urls = [\"https://cdn.pydata.org/bokeh/release/bokeh-0.12.10.min.js\", \"https://cdn.pydata.org/bokeh/release/bokeh-widgets-0.12.10.min.js\", \"https://cdn.pydata.org/bokeh/release/bokeh-tables-0.12.10.min.js\", \"https://cdn.pydata.org/bokeh/release/bokeh-gl-0.12.10.min.js\"];\n\n  var inline_js = [\n    function(Bokeh) {\n      Bokeh.set_log_level(\"info\");\n    },\n    \n    function(Bokeh) {\n      \n    },\n    function(Bokeh) {\n      console.log(\"Bokeh: injecting CSS: https://cdn.pydata.org/bokeh/release/bokeh-0.12.10.min.css\");\n      Bokeh.embed.inject_css(\"https://cdn.pydata.org/bokeh/release/bokeh-0.12.10.min.css\");\n      console.log(\"Bokeh: injecting CSS: https://cdn.pydata.org/bokeh/release/bokeh-widgets-0.12.10.min.css\");\n      Bokeh.embed.inject_css(\"https://cdn.pydata.org/bokeh/release/bokeh-widgets-0.12.10.min.css\");\n      console.log(\"Bokeh: injecting CSS: https://cdn.pydata.org/bokeh/release/bokeh-tables-0.12.10.min.css\");\n      Bokeh.embed.inject_css(\"https://cdn.pydata.org/bokeh/release/bokeh-tables-0.12.10.min.css\");\n    }\n  ];\n\n  function run_inline_js() {\n    \n    if ((root.Bokeh !== undefined) || (force === true)) {\n      for (var i = 0; i < inline_js.length; i++) {\n        inline_js[i].call(root, root.Bokeh);\n      }if (force === true) {\n        display_loaded();\n      }} else if (Date.now() < root._bokeh_timeout) {\n      setTimeout(run_inline_js, 100);\n    } else if (!root._bokeh_failed_load) {\n      console.log(\"Bokeh: BokehJS failed to load within specified timeout.\");\n      root._bokeh_failed_load = true;\n    } else if (force !== true) {\n      var cell = $(document.getElementById(\"8f018b7d-30cc-44d6-8022-851440f8890b\")).parents('.cell').data().cell;\n      cell.output_area.append_execute_result(NB_LOAD_WARNING)\n    }\n\n  }\n\n  if (root._bokeh_is_loading === 0) {\n    console.log(\"Bokeh: BokehJS loaded, going straight to plotting\");\n    run_inline_js();\n  } else {\n    load_libs(js_urls, function() {\n      console.log(\"Bokeh: BokehJS plotting callback run at\", now());\n      run_inline_js();\n    });\n  }\n}(window));"
     },
     "metadata": {},
     "output_type": "display_data"
    }
   ],
   "source": [
    "# Importamos la libreria de bokeh para presentar los datos leidos por pandas\n",
    "from bokeh.io import output_notebook, show\n",
    "from bokeh.plotting import figure\n",
    "from bokeh.models import ColumnDataSource\n",
    "\n",
    "# Llamamos a output_notebook para mostrar mostrar los resultanos en el cuaderno de jupyter\n",
    "output_notebook()"
   ]
  },
  {
   "cell_type": "code",
   "execution_count": 28,
   "metadata": {},
   "outputs": [
    {
     "data": {
      "text/plain": [
       "{'A_RURAL_H_25%': array([ 0.028,  0.053,  0.134,  0.343,  0.103]),\n",
       " 'A_RURAL_H_50%': array([ 0.028,  0.053,  0.134,  0.343,  0.103]),\n",
       " 'A_RURAL_H_75%': array([ 0.028,  0.053,  0.134,  0.343,  0.103]),\n",
       " 'A_RURAL_H_count': array([ 1.,  1.,  1.,  1.,  1.]),\n",
       " 'A_RURAL_H_max': array([ 0.028,  0.053,  0.134,  0.343,  0.103]),\n",
       " 'A_RURAL_H_mean': array([ 0.028,  0.053,  0.134,  0.343,  0.103]),\n",
       " 'A_RURAL_H_min': array([ 0.028,  0.053,  0.134,  0.343,  0.103]),\n",
       " 'A_RURAL_H_std': array([ nan,  nan,  nan,  nan,  nan]),\n",
       " 'A_RURAL_M_25%': array([ 0.025,  0.056,  0.205,  0.497,  0.142]),\n",
       " 'A_RURAL_M_50%': array([ 0.025,  0.056,  0.205,  0.497,  0.142]),\n",
       " 'A_RURAL_M_75%': array([ 0.025,  0.056,  0.205,  0.497,  0.142]),\n",
       " 'A_RURAL_M_count': array([ 1.,  1.,  1.,  1.,  1.]),\n",
       " 'A_RURAL_M_max': array([ 0.025,  0.056,  0.205,  0.497,  0.142]),\n",
       " 'A_RURAL_M_mean': array([ 0.025,  0.056,  0.205,  0.497,  0.142]),\n",
       " 'A_RURAL_M_min': array([ 0.025,  0.056,  0.205,  0.497,  0.142]),\n",
       " 'A_RURAL_M_std': array([ nan,  nan,  nan,  nan,  nan]),\n",
       " 'A_URBANA_H_25%': array([ 0.012,  0.018,  0.038,  0.128,  0.031]),\n",
       " 'A_URBANA_H_50%': array([ 0.012,  0.018,  0.038,  0.128,  0.031]),\n",
       " 'A_URBANA_H_75%': array([ 0.012,  0.018,  0.038,  0.128,  0.031]),\n",
       " 'A_URBANA_H_count': array([ 1.,  1.,  1.,  1.,  1.]),\n",
       " 'A_URBANA_H_max': array([ 0.012,  0.018,  0.038,  0.128,  0.031]),\n",
       " 'A_URBANA_H_mean': array([ 0.012,  0.018,  0.038,  0.128,  0.031]),\n",
       " 'A_URBANA_H_min': array([ 0.012,  0.018,  0.038,  0.128,  0.031]),\n",
       " 'A_URBANA_H_std': array([ nan,  nan,  nan,  nan,  nan]),\n",
       " 'A_URBANA_M_25%': array([ 0.009,  0.017,  0.054,  0.195,  0.043]),\n",
       " 'A_URBANA_M_50%': array([ 0.009,  0.017,  0.054,  0.195,  0.043]),\n",
       " 'A_URBANA_M_75%': array([ 0.009,  0.017,  0.054,  0.195,  0.043]),\n",
       " 'A_URBANA_M_count': array([ 1.,  1.,  1.,  1.,  1.]),\n",
       " 'A_URBANA_M_max': array([ 0.009,  0.017,  0.054,  0.195,  0.043]),\n",
       " 'A_URBANA_M_mean': array([ 0.009,  0.017,  0.054,  0.195,  0.043]),\n",
       " 'A_URBANA_M_min': array([ 0.009,  0.017,  0.054,  0.195,  0.043]),\n",
       " 'A_URBANA_M_std': array([ nan,  nan,  nan,  nan,  nan]),\n",
       " 'GRANDES_GRUPOS_DE_EDAD': array(['15-24 años', '25-39 años', '40-64 años', '65 años y mas',\n",
       "        'Total nacional'], dtype=object),\n",
       " 'TOTAL_H_25%': array([ 0.018,  0.03 ,  0.072,  0.224,  0.058]),\n",
       " 'TOTAL_H_50%': array([ 0.018,  0.03 ,  0.072,  0.224,  0.058]),\n",
       " 'TOTAL_H_75%': array([ 0.018,  0.03 ,  0.072,  0.224,  0.058]),\n",
       " 'TOTAL_H_count': array([ 1.,  1.,  1.,  1.,  1.]),\n",
       " 'TOTAL_H_max': array([ 0.018,  0.03 ,  0.072,  0.224,  0.058]),\n",
       " 'TOTAL_H_mean': array([ 0.018,  0.03 ,  0.072,  0.224,  0.058]),\n",
       " 'TOTAL_H_min': array([ 0.018,  0.03 ,  0.072,  0.224,  0.058]),\n",
       " 'TOTAL_H_std': array([ nan,  nan,  nan,  nan,  nan]),\n",
       " 'TOTAL_M_25%': array([ 0.015,  0.03 ,  0.104,  0.316,  0.077]),\n",
       " 'TOTAL_M_50%': array([ 0.015,  0.03 ,  0.104,  0.316,  0.077]),\n",
       " 'TOTAL_M_75%': array([ 0.015,  0.03 ,  0.104,  0.316,  0.077]),\n",
       " 'TOTAL_M_count': array([ 1.,  1.,  1.,  1.,  1.]),\n",
       " 'TOTAL_M_max': array([ 0.015,  0.03 ,  0.104,  0.316,  0.077]),\n",
       " 'TOTAL_M_mean': array([ 0.015,  0.03 ,  0.104,  0.316,  0.077]),\n",
       " 'TOTAL_M_min': array([ 0.015,  0.03 ,  0.104,  0.316,  0.077]),\n",
       " 'TOTAL_M_std': array([ nan,  nan,  nan,  nan,  nan])}"
      ]
     },
     "execution_count": 28,
     "metadata": {},
     "output_type": "execute_result"
    }
   ],
   "source": [
    "# Agrupamos los valores en base a la columna \"GRANDES_GRUPOS_DE_EDAD\" \n",
    "group1 = tabla1.groupby('GRANDES_GRUPOS_DE_EDAD')\n",
    "\n",
    "# Nos permite obtener Mapas nombres de columnas a secuencias o matrices.\n",
    "source = ColumnDataSource(group1)\n",
    "\n",
    "# Mostramos los nombres de los datos albergados en source - donde buscamos los nombre de los datos que buscamos en concreto\n",
    "source.data"
   ]
  },
  {
   "cell_type": "code",
   "execution_count": 29,
   "metadata": {},
   "outputs": [
    {
     "data": {
      "text/html": [
       "\n",
       "<div class=\"bk-root\">\n",
       "    <div class=\"bk-plotdiv\" id=\"b535ac33-4b84-4a93-934e-3d6a3f93ff96\"></div>\n",
       "</div>"
      ]
     },
     "metadata": {},
     "output_type": "display_data"
    },
    {
     "data": {
      "application/javascript": [
       "(function(root) {\n",
       "  function embed_document(root) {\n",
       "    var docs_json = {\"03080f71-dff0-4977-845f-a9bcd0b0bef0\":{\"roots\":{\"references\":[{\"attributes\":{\"active_drag\":\"auto\",\"active_inspect\":\"auto\",\"active_scroll\":\"auto\",\"active_tap\":\"auto\",\"tools\":[{\"id\":\"9c2ebf0c-c8e9-4e1b-a472-db561cd9ca48\",\"type\":\"PanTool\"},{\"id\":\"cdb6b104-e117-403e-af42-1f31279cf222\",\"type\":\"WheelZoomTool\"},{\"id\":\"214b45da-11ee-43bd-8a64-173c48fc95eb\",\"type\":\"BoxZoomTool\"},{\"id\":\"cf9cc08e-d8e0-4531-8bff-a46be9a3a9a7\",\"type\":\"SaveTool\"},{\"id\":\"2a3c70bf-56eb-4a83-9c3d-581c1672703f\",\"type\":\"ResetTool\"},{\"id\":\"7830b396-4026-45f8-89e8-b13883ecfd26\",\"type\":\"HelpTool\"}]},\"id\":\"af7b437b-51ae-494d-9744-1d098ddc536c\",\"type\":\"Toolbar\"},{\"attributes\":{\"source\":{\"id\":\"1277ffdd-70bf-46aa-9fd6-4599ccf2a79b\",\"type\":\"ColumnDataSource\"}},\"id\":\"0df86e48-52e5-4eb7-a298-002a22610d74\",\"type\":\"CDSView\"},{\"attributes\":{\"callback\":null,\"factors\":[\"15-24 a\\u00f1os\",\"25-39 a\\u00f1os\",\"40-64 a\\u00f1os\",\"65 a\\u00f1os y mas\",\"Total nacional\"]},\"id\":\"3c29c80d-7c09-4025-87fa-283f5626b27d\",\"type\":\"FactorRange\"},{\"attributes\":{},\"id\":\"c78f279e-8f8e-4f32-8281-04ceb7f4c1fe\",\"type\":\"BasicTicker\"},{\"attributes\":{},\"id\":\"ebca7095-b2ee-4e32-9207-d253c6658fdc\",\"type\":\"CategoricalTicker\"},{\"attributes\":{\"fill_alpha\":{\"value\":0.1},\"fill_color\":{\"value\":\"#1f77b4\"},\"line_alpha\":{\"value\":0.1},\"line_color\":{\"value\":\"#1f77b4\"},\"top\":{\"field\":\"A_URBANA_H_mean\"},\"width\":{\"value\":0.9},\"x\":{\"field\":\"GRANDES_GRUPOS_DE_EDAD\"}},\"id\":\"60836d57-2e2b-45f8-8162-ee4b2a892988\",\"type\":\"VBar\"},{\"attributes\":{},\"id\":\"cdb6b104-e117-403e-af42-1f31279cf222\",\"type\":\"WheelZoomTool\"},{\"attributes\":{\"dimension\":1,\"plot\":{\"id\":\"e0d712f4-1116-4b89-91e9-d7678f213cbd\",\"subtype\":\"Figure\",\"type\":\"Plot\"},\"ticker\":{\"id\":\"c78f279e-8f8e-4f32-8281-04ceb7f4c1fe\",\"type\":\"BasicTicker\"}},\"id\":\"2b66e83f-8eeb-4abd-8af2-89aa3d671207\",\"type\":\"Grid\"},{\"attributes\":{\"overlay\":{\"id\":\"154bd3e8-1376-49e4-a418-38fd0dad1308\",\"type\":\"BoxAnnotation\"}},\"id\":\"214b45da-11ee-43bd-8a64-173c48fc95eb\",\"type\":\"BoxZoomTool\"},{\"attributes\":{\"grid_line_color\":{\"value\":null},\"plot\":{\"id\":\"e0d712f4-1116-4b89-91e9-d7678f213cbd\",\"subtype\":\"Figure\",\"type\":\"Plot\"},\"ticker\":{\"id\":\"ebca7095-b2ee-4e32-9207-d253c6658fdc\",\"type\":\"CategoricalTicker\"}},\"id\":\"69bf250d-ad1b-49d0-bd55-2db89ef037ba\",\"type\":\"Grid\"},{\"attributes\":{\"callback\":null,\"column_names\":[\"A_RURAL_H_count\",\"A_RURAL_H_mean\",\"A_RURAL_H_std\",\"A_RURAL_H_min\",\"A_RURAL_H_25%\",\"A_RURAL_H_50%\",\"A_RURAL_H_75%\",\"A_RURAL_H_max\",\"A_RURAL_M_count\",\"A_RURAL_M_mean\",\"A_RURAL_M_std\",\"A_RURAL_M_min\",\"A_RURAL_M_25%\",\"A_RURAL_M_50%\",\"A_RURAL_M_75%\",\"A_RURAL_M_max\",\"A_URBANA_H_count\",\"A_URBANA_H_mean\",\"A_URBANA_H_std\",\"A_URBANA_H_min\",\"A_URBANA_H_25%\",\"A_URBANA_H_50%\",\"A_URBANA_H_75%\",\"A_URBANA_H_max\",\"A_URBANA_M_count\",\"A_URBANA_M_mean\",\"A_URBANA_M_std\",\"A_URBANA_M_min\",\"A_URBANA_M_25%\",\"A_URBANA_M_50%\",\"A_URBANA_M_75%\",\"A_URBANA_M_max\",\"TOTAL_H_count\",\"TOTAL_H_mean\",\"TOTAL_H_std\",\"TOTAL_H_min\",\"TOTAL_H_25%\",\"TOTAL_H_50%\",\"TOTAL_H_75%\",\"TOTAL_H_max\",\"TOTAL_M_count\",\"TOTAL_M_mean\",\"TOTAL_M_std\",\"TOTAL_M_min\",\"TOTAL_M_25%\",\"TOTAL_M_50%\",\"TOTAL_M_75%\",\"TOTAL_M_max\",\"GRANDES_GRUPOS_DE_EDAD\"],\"data\":{\"A_RURAL_H_25%\":{\"__ndarray__\":\"eOkmMQisnD+JQWDl0CKrP/T91HjpJsE/wMqhRbbz1T+S7Xw/NV66Pw==\",\"dtype\":\"float64\",\"shape\":[5]},\"A_RURAL_H_50%\":{\"__ndarray__\":\"eOkmMQisnD+JQWDl0CKrP/T91HjpJsE/wMqhRbbz1T+S7Xw/NV66Pw==\",\"dtype\":\"float64\",\"shape\":[5]},\"A_RURAL_H_75%\":{\"__ndarray__\":\"eOkmMQisnD+JQWDl0CKrP/T91HjpJsE/wMqhRbbz1T+S7Xw/NV66Pw==\",\"dtype\":\"float64\",\"shape\":[5]},\"A_RURAL_H_count\":{\"__ndarray__\":\"AAAAAAAA8D8AAAAAAADwPwAAAAAAAPA/AAAAAAAA8D8AAAAAAADwPw==\",\"dtype\":\"float64\",\"shape\":[5]},\"A_RURAL_H_max\":{\"__ndarray__\":\"eOkmMQisnD+JQWDl0CKrP/T91HjpJsE/wMqhRbbz1T+S7Xw/NV66Pw==\",\"dtype\":\"float64\",\"shape\":[5]},\"A_RURAL_H_mean\":{\"__ndarray__\":\"eOkmMQisnD+JQWDl0CKrP/T91HjpJsE/wMqhRbbz1T+S7Xw/NV66Pw==\",\"dtype\":\"float64\",\"shape\":[5]},\"A_RURAL_H_min\":{\"__ndarray__\":\"eOkmMQisnD+JQWDl0CKrP/T91HjpJsE/wMqhRbbz1T+S7Xw/NV66Pw==\",\"dtype\":\"float64\",\"shape\":[5]},\"A_RURAL_H_std\":{\"__ndarray__\":\"AAAAAAAA+H8AAAAAAAD4fwAAAAAAAPh/AAAAAAAA+H8AAAAAAAD4fw==\",\"dtype\":\"float64\",\"shape\":[5]},\"A_RURAL_M_25%\":{\"__ndarray__\":\"mpmZmZmZmT946SYxCKysPz0K16NwPco/AyuHFtnO3z+TGARWDi3CPw==\",\"dtype\":\"float64\",\"shape\":[5]},\"A_RURAL_M_50%\":{\"__ndarray__\":\"mpmZmZmZmT946SYxCKysPz0K16NwPco/AyuHFtnO3z+TGARWDi3CPw==\",\"dtype\":\"float64\",\"shape\":[5]},\"A_RURAL_M_75%\":{\"__ndarray__\":\"mpmZmZmZmT946SYxCKysPz0K16NwPco/AyuHFtnO3z+TGARWDi3CPw==\",\"dtype\":\"float64\",\"shape\":[5]},\"A_RURAL_M_count\":{\"__ndarray__\":\"AAAAAAAA8D8AAAAAAADwPwAAAAAAAPA/AAAAAAAA8D8AAAAAAADwPw==\",\"dtype\":\"float64\",\"shape\":[5]},\"A_RURAL_M_max\":{\"__ndarray__\":\"mpmZmZmZmT946SYxCKysPz0K16NwPco/AyuHFtnO3z+TGARWDi3CPw==\",\"dtype\":\"float64\",\"shape\":[5]},\"A_RURAL_M_mean\":{\"__ndarray__\":\"mpmZmZmZmT946SYxCKysPz0K16NwPco/AyuHFtnO3z+TGARWDi3CPw==\",\"dtype\":\"float64\",\"shape\":[5]},\"A_RURAL_M_min\":{\"__ndarray__\":\"mpmZmZmZmT946SYxCKysPz0K16NwPco/AyuHFtnO3z+TGARWDi3CPw==\",\"dtype\":\"float64\",\"shape\":[5]},\"A_RURAL_M_std\":{\"__ndarray__\":\"AAAAAAAA+H8AAAAAAAD4fwAAAAAAAPh/AAAAAAAA+H8AAAAAAAD4fw==\",\"dtype\":\"float64\",\"shape\":[5]},\"A_URBANA_H_25%\":{\"__ndarray__\":\"+n5qvHSTiD8830+Nl26SP9v5fmq8dKM//Knx0k1iwD9YObTIdr6fPw==\",\"dtype\":\"float64\",\"shape\":[5]},\"A_URBANA_H_50%\":{\"__ndarray__\":\"+n5qvHSTiD8830+Nl26SP9v5fmq8dKM//Knx0k1iwD9YObTIdr6fPw==\",\"dtype\":\"float64\",\"shape\":[5]},\"A_URBANA_H_75%\":{\"__ndarray__\":\"+n5qvHSTiD8830+Nl26SP9v5fmq8dKM//Knx0k1iwD9YObTIdr6fPw==\",\"dtype\":\"float64\",\"shape\":[5]},\"A_URBANA_H_count\":{\"__ndarray__\":\"AAAAAAAA8D8AAAAAAADwPwAAAAAAAPA/AAAAAAAA8D8AAAAAAADwPw==\",\"dtype\":\"float64\",\"shape\":[5]},\"A_URBANA_H_max\":{\"__ndarray__\":\"+n5qvHSTiD8830+Nl26SP9v5fmq8dKM//Knx0k1iwD9YObTIdr6fPw==\",\"dtype\":\"float64\",\"shape\":[5]},\"A_URBANA_H_mean\":{\"__ndarray__\":\"+n5qvHSTiD8830+Nl26SP9v5fmq8dKM//Knx0k1iwD9YObTIdr6fPw==\",\"dtype\":\"float64\",\"shape\":[5]},\"A_URBANA_H_min\":{\"__ndarray__\":\"+n5qvHSTiD8830+Nl26SP9v5fmq8dKM//Knx0k1iwD9YObTIdr6fPw==\",\"dtype\":\"float64\",\"shape\":[5]},\"A_URBANA_H_std\":{\"__ndarray__\":\"AAAAAAAA+H8AAAAAAAD4fwAAAAAAAPh/AAAAAAAA+H8AAAAAAAD4fw==\",\"dtype\":\"float64\",\"shape\":[5]},\"A_URBANA_M_25%\":{\"__ndarray__\":\"PN9PjZdugj+cxCCwcmiRP9rO91Pjpas/9ihcj8L1yD9qvHSTGASmPw==\",\"dtype\":\"float64\",\"shape\":[5]},\"A_URBANA_M_50%\":{\"__ndarray__\":\"PN9PjZdugj+cxCCwcmiRP9rO91Pjpas/9ihcj8L1yD9qvHSTGASmPw==\",\"dtype\":\"float64\",\"shape\":[5]},\"A_URBANA_M_75%\":{\"__ndarray__\":\"PN9PjZdugj+cxCCwcmiRP9rO91Pjpas/9ihcj8L1yD9qvHSTGASmPw==\",\"dtype\":\"float64\",\"shape\":[5]},\"A_URBANA_M_count\":{\"__ndarray__\":\"AAAAAAAA8D8AAAAAAADwPwAAAAAAAPA/AAAAAAAA8D8AAAAAAADwPw==\",\"dtype\":\"float64\",\"shape\":[5]},\"A_URBANA_M_max\":{\"__ndarray__\":\"PN9PjZdugj+cxCCwcmiRP9rO91Pjpas/9ihcj8L1yD9qvHSTGASmPw==\",\"dtype\":\"float64\",\"shape\":[5]},\"A_URBANA_M_mean\":{\"__ndarray__\":\"PN9PjZdugj+cxCCwcmiRP9rO91Pjpas/9ihcj8L1yD9qvHSTGASmPw==\",\"dtype\":\"float64\",\"shape\":[5]},\"A_URBANA_M_min\":{\"__ndarray__\":\"PN9PjZdugj+cxCCwcmiRP9rO91Pjpas/9ihcj8L1yD9qvHSTGASmPw==\",\"dtype\":\"float64\",\"shape\":[5]},\"A_URBANA_M_std\":{\"__ndarray__\":\"AAAAAAAA+H8AAAAAAAD4fwAAAAAAAPh/AAAAAAAA+H8AAAAAAAD4fw==\",\"dtype\":\"float64\",\"shape\":[5]},\"GRANDES_GRUPOS_DE_EDAD\":[\"15-24 a\\u00f1os\",\"25-39 a\\u00f1os\",\"40-64 a\\u00f1os\",\"65 a\\u00f1os y mas\",\"Total nacional\"],\"TOTAL_H_25%\":{\"__ndarray__\":\"PN9PjZdukj+4HoXrUbiePzzfT42XbrI/eOkmMQiszD8YBFYOLbKtPw==\",\"dtype\":\"float64\",\"shape\":[5]},\"TOTAL_H_50%\":{\"__ndarray__\":\"PN9PjZdukj+4HoXrUbiePzzfT42XbrI/eOkmMQiszD8YBFYOLbKtPw==\",\"dtype\":\"float64\",\"shape\":[5]},\"TOTAL_H_75%\":{\"__ndarray__\":\"PN9PjZdukj+4HoXrUbiePzzfT42XbrI/eOkmMQiszD8YBFYOLbKtPw==\",\"dtype\":\"float64\",\"shape\":[5]},\"TOTAL_H_count\":{\"__ndarray__\":\"AAAAAAAA8D8AAAAAAADwPwAAAAAAAPA/AAAAAAAA8D8AAAAAAADwPw==\",\"dtype\":\"float64\",\"shape\":[5]},\"TOTAL_H_max\":{\"__ndarray__\":\"PN9PjZdukj+4HoXrUbiePzzfT42XbrI/eOkmMQiszD8YBFYOLbKtPw==\",\"dtype\":\"float64\",\"shape\":[5]},\"TOTAL_H_mean\":{\"__ndarray__\":\"PN9PjZdukj+4HoXrUbiePzzfT42XbrI/eOkmMQiszD8YBFYOLbKtPw==\",\"dtype\":\"float64\",\"shape\":[5]},\"TOTAL_H_min\":{\"__ndarray__\":\"PN9PjZdukj+4HoXrUbiePzzfT42XbrI/eOkmMQiszD8YBFYOLbKtPw==\",\"dtype\":\"float64\",\"shape\":[5]},\"TOTAL_H_std\":{\"__ndarray__\":\"AAAAAAAA+H8AAAAAAAD4fwAAAAAAAPh/AAAAAAAA+H8AAAAAAAD4fw==\",\"dtype\":\"float64\",\"shape\":[5]},\"TOTAL_M_25%\":{\"__ndarray__\":\"uB6F61G4jj+4HoXrUbiePzq0yHa+n7o/001iEFg51D+DwMqhRbazPw==\",\"dtype\":\"float64\",\"shape\":[5]},\"TOTAL_M_50%\":{\"__ndarray__\":\"uB6F61G4jj+4HoXrUbiePzq0yHa+n7o/001iEFg51D+DwMqhRbazPw==\",\"dtype\":\"float64\",\"shape\":[5]},\"TOTAL_M_75%\":{\"__ndarray__\":\"uB6F61G4jj+4HoXrUbiePzq0yHa+n7o/001iEFg51D+DwMqhRbazPw==\",\"dtype\":\"float64\",\"shape\":[5]},\"TOTAL_M_count\":{\"__ndarray__\":\"AAAAAAAA8D8AAAAAAADwPwAAAAAAAPA/AAAAAAAA8D8AAAAAAADwPw==\",\"dtype\":\"float64\",\"shape\":[5]},\"TOTAL_M_max\":{\"__ndarray__\":\"uB6F61G4jj+4HoXrUbiePzq0yHa+n7o/001iEFg51D+DwMqhRbazPw==\",\"dtype\":\"float64\",\"shape\":[5]},\"TOTAL_M_mean\":{\"__ndarray__\":\"uB6F61G4jj+4HoXrUbiePzq0yHa+n7o/001iEFg51D+DwMqhRbazPw==\",\"dtype\":\"float64\",\"shape\":[5]},\"TOTAL_M_min\":{\"__ndarray__\":\"uB6F61G4jj+4HoXrUbiePzq0yHa+n7o/001iEFg51D+DwMqhRbazPw==\",\"dtype\":\"float64\",\"shape\":[5]},\"TOTAL_M_std\":{\"__ndarray__\":\"AAAAAAAA+H8AAAAAAAD4fwAAAAAAAPh/AAAAAAAA+H8AAAAAAAD4fw==\",\"dtype\":\"float64\",\"shape\":[5]}}},\"id\":\"1277ffdd-70bf-46aa-9fd6-4599ccf2a79b\",\"type\":\"ColumnDataSource\"},{\"attributes\":{\"axis_label\":\"AREA URBANA - HOMBRES\",\"formatter\":{\"id\":\"3ab9df3a-826a-48da-9466-495ab181dfe6\",\"type\":\"CategoricalTickFormatter\"},\"plot\":{\"id\":\"e0d712f4-1116-4b89-91e9-d7678f213cbd\",\"subtype\":\"Figure\",\"type\":\"Plot\"},\"ticker\":{\"id\":\"ebca7095-b2ee-4e32-9207-d253c6658fdc\",\"type\":\"CategoricalTicker\"}},\"id\":\"9822bdef-1d62-4971-a52f-1a0ffb216c7a\",\"type\":\"CategoricalAxis\"},{\"attributes\":{},\"id\":\"bb6e60a8-49ec-46fa-bb3d-8988865c27ff\",\"type\":\"LinearScale\"},{\"attributes\":{\"bottom_units\":\"screen\",\"fill_alpha\":{\"value\":0.5},\"fill_color\":{\"value\":\"lightgrey\"},\"left_units\":\"screen\",\"level\":\"overlay\",\"line_alpha\":{\"value\":1.0},\"line_color\":{\"value\":\"black\"},\"line_dash\":[4,4],\"line_width\":{\"value\":2},\"plot\":null,\"render_mode\":\"css\",\"right_units\":\"screen\",\"top_units\":\"screen\"},\"id\":\"154bd3e8-1376-49e4-a418-38fd0dad1308\",\"type\":\"BoxAnnotation\"},{\"attributes\":{\"callback\":null,\"start\":0},\"id\":\"79686f53-cbcd-444e-b2c3-1d05fec728cb\",\"type\":\"DataRange1d\"},{\"attributes\":{\"below\":[{\"id\":\"9822bdef-1d62-4971-a52f-1a0ffb216c7a\",\"type\":\"CategoricalAxis\"}],\"left\":[{\"id\":\"298278ef-0fc8-4866-b6cb-2077bd691d9a\",\"type\":\"LinearAxis\"}],\"plot_height\":250,\"plot_width\":750,\"renderers\":[{\"id\":\"9822bdef-1d62-4971-a52f-1a0ffb216c7a\",\"type\":\"CategoricalAxis\"},{\"id\":\"69bf250d-ad1b-49d0-bd55-2db89ef037ba\",\"type\":\"Grid\"},{\"id\":\"298278ef-0fc8-4866-b6cb-2077bd691d9a\",\"type\":\"LinearAxis\"},{\"id\":\"2b66e83f-8eeb-4abd-8af2-89aa3d671207\",\"type\":\"Grid\"},{\"id\":\"154bd3e8-1376-49e4-a418-38fd0dad1308\",\"type\":\"BoxAnnotation\"},{\"id\":\"3cbf459c-e605-4a31-8c73-80446d0a0600\",\"type\":\"GlyphRenderer\"}],\"title\":{\"id\":\"576c0eb6-c0de-4280-ab5c-7ec6c34fd9eb\",\"type\":\"Title\"},\"toolbar\":{\"id\":\"af7b437b-51ae-494d-9744-1d098ddc536c\",\"type\":\"Toolbar\"},\"x_range\":{\"id\":\"3c29c80d-7c09-4025-87fa-283f5626b27d\",\"type\":\"FactorRange\"},\"x_scale\":{\"id\":\"f1e53238-0ce1-4f1a-b27c-783f7e6267cb\",\"type\":\"CategoricalScale\"},\"y_range\":{\"id\":\"79686f53-cbcd-444e-b2c3-1d05fec728cb\",\"type\":\"DataRange1d\"},\"y_scale\":{\"id\":\"bb6e60a8-49ec-46fa-bb3d-8988865c27ff\",\"type\":\"LinearScale\"}},\"id\":\"e0d712f4-1116-4b89-91e9-d7678f213cbd\",\"subtype\":\"Figure\",\"type\":\"Plot\"},{\"attributes\":{},\"id\":\"7830b396-4026-45f8-89e8-b13883ecfd26\",\"type\":\"HelpTool\"},{\"attributes\":{},\"id\":\"cf9cc08e-d8e0-4531-8bff-a46be9a3a9a7\",\"type\":\"SaveTool\"},{\"attributes\":{\"formatter\":{\"id\":\"18d17001-3d11-46b1-8013-5709ec1b4eeb\",\"type\":\"BasicTickFormatter\"},\"plot\":{\"id\":\"e0d712f4-1116-4b89-91e9-d7678f213cbd\",\"subtype\":\"Figure\",\"type\":\"Plot\"},\"ticker\":{\"id\":\"c78f279e-8f8e-4f32-8281-04ceb7f4c1fe\",\"type\":\"BasicTicker\"}},\"id\":\"298278ef-0fc8-4866-b6cb-2077bd691d9a\",\"type\":\"LinearAxis\"},{\"attributes\":{},\"id\":\"3ab9df3a-826a-48da-9466-495ab181dfe6\",\"type\":\"CategoricalTickFormatter\"},{\"attributes\":{},\"id\":\"9c2ebf0c-c8e9-4e1b-a472-db561cd9ca48\",\"type\":\"PanTool\"},{\"attributes\":{\"plot\":null,\"text\":\"ANALFABETISMO POR AREA Y GRUPOS DE EDAD\"},\"id\":\"576c0eb6-c0de-4280-ab5c-7ec6c34fd9eb\",\"type\":\"Title\"},{\"attributes\":{},\"id\":\"18d17001-3d11-46b1-8013-5709ec1b4eeb\",\"type\":\"BasicTickFormatter\"},{\"attributes\":{},\"id\":\"f1e53238-0ce1-4f1a-b27c-783f7e6267cb\",\"type\":\"CategoricalScale\"},{\"attributes\":{\"data_source\":{\"id\":\"1277ffdd-70bf-46aa-9fd6-4599ccf2a79b\",\"type\":\"ColumnDataSource\"},\"glyph\":{\"id\":\"14788844-90ce-4b1b-9df2-3f9d27b62c5f\",\"type\":\"VBar\"},\"hover_glyph\":null,\"muted_glyph\":null,\"nonselection_glyph\":{\"id\":\"60836d57-2e2b-45f8-8162-ee4b2a892988\",\"type\":\"VBar\"},\"selection_glyph\":null,\"view\":{\"id\":\"0df86e48-52e5-4eb7-a298-002a22610d74\",\"type\":\"CDSView\"}},\"id\":\"3cbf459c-e605-4a31-8c73-80446d0a0600\",\"type\":\"GlyphRenderer\"},{\"attributes\":{\"fill_color\":{\"value\":\"#1f77b4\"},\"line_color\":{\"value\":\"white\"},\"top\":{\"field\":\"A_URBANA_H_mean\"},\"width\":{\"value\":0.9},\"x\":{\"field\":\"GRANDES_GRUPOS_DE_EDAD\"}},\"id\":\"14788844-90ce-4b1b-9df2-3f9d27b62c5f\",\"type\":\"VBar\"},{\"attributes\":{},\"id\":\"2a3c70bf-56eb-4a83-9c3d-581c1672703f\",\"type\":\"ResetTool\"}],\"root_ids\":[\"e0d712f4-1116-4b89-91e9-d7678f213cbd\"]},\"title\":\"Bokeh Application\",\"version\":\"0.12.10\"}};\n",
       "    var render_items = [{\"docid\":\"03080f71-dff0-4977-845f-a9bcd0b0bef0\",\"elementid\":\"b535ac33-4b84-4a93-934e-3d6a3f93ff96\",\"modelid\":\"e0d712f4-1116-4b89-91e9-d7678f213cbd\"}];\n",
       "\n",
       "    root.Bokeh.embed.embed_items(docs_json, render_items);\n",
       "  }\n",
       "\n",
       "  if (root.Bokeh !== undefined) {\n",
       "    embed_document(root);\n",
       "  } else {\n",
       "    var attempts = 0;\n",
       "    var timer = setInterval(function(root) {\n",
       "      if (root.Bokeh !== undefined) {\n",
       "        embed_document(root);\n",
       "        clearInterval(timer);\n",
       "      }\n",
       "      attempts++;\n",
       "      if (attempts > 100) {\n",
       "        console.log(\"Bokeh: ERROR: Unable to embed document because BokehJS library is missing\")\n",
       "        clearInterval(timer);\n",
       "      }\n",
       "    }, 10, root)\n",
       "  }\n",
       "})(window);"
      ],
      "application/vnd.bokehjs_exec.v0+json": ""
     },
     "metadata": {
      "application/vnd.bokehjs_exec.v0+json": {
       "id": "e0d712f4-1116-4b89-91e9-d7678f213cbd"
      }
     },
     "output_type": "display_data"
    }
   ],
   "source": [
    "# Agrupamos los valores en base a la columna \"GRANDES_GRUPOS_DE_EDAD\" \n",
    "group1 = tabla1.groupby('GRANDES_GRUPOS_DE_EDAD')\n",
    "\n",
    "# Nos permite obtener Mapas de nombres columnas, secuencias, matrices.\n",
    "source = ColumnDataSource(group1)\n",
    "\n",
    "# Creamos un objeto de figura\n",
    "gph = figure(\n",
    "    plot_height=250, plot_width=750, # Establecemos el tamaño\n",
    "    x_range=group1,  # Establecemos el rango de x\n",
    "    title='ANALFABETISMO POR AREA Y GRUPOS DE EDAD' # Establecemos un titulo para la grafica \n",
    ")\n",
    "\n",
    "# Establecemos los atributos de \"vbar()\"\n",
    "gph.vbar(\n",
    "    x='GRANDES_GRUPOS_DE_EDAD', # Valores de x\n",
    "    top='A_URBANA_H_mean', # Valores de y\n",
    "    width=0.9, # El tamaño de las barras \n",
    "    line_color=\"white\", # El color de la linea separadora\n",
    "    source=source # Determinamos la fuente de datos\n",
    ")\n",
    "\n",
    "gph.xgrid.grid_line_color = None # Determinamos que en la grafica no se presente la linea de las x para hacer mas visible la grafica\n",
    "\n",
    "gph.xaxis.axis_label = \"AREA URBANA - HOMBRES\" # Damos un nombre al eje x\n",
    "\n",
    "gph.y_range.start = 0 # Modificamos para la presentación el rango inicial\n",
    "\n",
    "show(gph) # Mostramos el objeto"
   ]
  },
  {
   "cell_type": "code",
   "execution_count": 30,
   "metadata": {},
   "outputs": [
    {
     "data": {
      "text/html": [
       "\n",
       "<div class=\"bk-root\">\n",
       "    <div class=\"bk-plotdiv\" id=\"3d5f953c-6800-4222-83ac-b440facdf0f6\"></div>\n",
       "</div>"
      ]
     },
     "metadata": {},
     "output_type": "display_data"
    },
    {
     "data": {
      "application/javascript": [
       "(function(root) {\n",
       "  function embed_document(root) {\n",
       "    var docs_json = {\"ddc336f2-6104-445e-8f8a-800df6b78510\":{\"roots\":{\"references\":[{\"attributes\":{},\"id\":\"b89c9a38-ca23-4f95-b13f-d00ce8beb430\",\"type\":\"LinearScale\"},{\"attributes\":{},\"id\":\"f23e9b95-3488-4fbd-b2e1-a81db5036c98\",\"type\":\"CategoricalTickFormatter\"},{\"attributes\":{},\"id\":\"aa198dbd-cf50-4cd8-aef9-4fee07735612\",\"type\":\"WheelZoomTool\"},{\"attributes\":{},\"id\":\"c18a72aa-f151-4bd5-9df3-573a67960740\",\"type\":\"ResetTool\"},{\"attributes\":{\"formatter\":{\"id\":\"6a458dac-a056-4d66-8caf-1fae043b3970\",\"type\":\"BasicTickFormatter\"},\"plot\":{\"id\":\"dbc21cdf-6840-457a-b632-5bdfccdf3782\",\"subtype\":\"Figure\",\"type\":\"Plot\"},\"ticker\":{\"id\":\"99bcd9b8-8d42-49c9-bdc0-cdfeb1e5de58\",\"type\":\"BasicTicker\"}},\"id\":\"da98526c-1997-4636-a0fc-5658b9f9b8bd\",\"type\":\"LinearAxis\"},{\"attributes\":{\"callback\":null,\"start\":0},\"id\":\"e21bfc28-0c4f-45cf-91c1-d1b6f7306a80\",\"type\":\"DataRange1d\"},{\"attributes\":{\"grid_line_color\":{\"value\":null},\"plot\":{\"id\":\"dbc21cdf-6840-457a-b632-5bdfccdf3782\",\"subtype\":\"Figure\",\"type\":\"Plot\"},\"ticker\":{\"id\":\"1b504aaf-22ef-443b-9b8d-77096bd5025b\",\"type\":\"CategoricalTicker\"}},\"id\":\"1c28502f-2732-45f3-8868-f0316b4b7caa\",\"type\":\"Grid\"},{\"attributes\":{\"active_drag\":\"auto\",\"active_inspect\":\"auto\",\"active_scroll\":\"auto\",\"active_tap\":\"auto\",\"tools\":[{\"id\":\"9ea8e20d-152a-4132-9c68-bd682b103ed4\",\"type\":\"PanTool\"},{\"id\":\"aa198dbd-cf50-4cd8-aef9-4fee07735612\",\"type\":\"WheelZoomTool\"},{\"id\":\"141acadb-3716-481a-9b86-cb7c739e61a2\",\"type\":\"BoxZoomTool\"},{\"id\":\"751f43b9-0073-4574-8c24-34c078bde54f\",\"type\":\"SaveTool\"},{\"id\":\"c18a72aa-f151-4bd5-9df3-573a67960740\",\"type\":\"ResetTool\"},{\"id\":\"35bf4b63-559d-4583-994b-e6bb4e823667\",\"type\":\"HelpTool\"}]},\"id\":\"894f3679-f5f1-4ce9-9b45-60ba11cd0667\",\"type\":\"Toolbar\"},{\"attributes\":{},\"id\":\"77da9cd2-8acf-460f-aa1d-9cf9c935e572\",\"type\":\"CategoricalScale\"},{\"attributes\":{\"data_source\":{\"id\":\"2f047568-f9cf-4f3e-aa72-628ee2917e86\",\"type\":\"ColumnDataSource\"},\"glyph\":{\"id\":\"c1d2d1dc-c4f9-4d96-aebd-e2ceec16af4c\",\"type\":\"Line\"},\"hover_glyph\":null,\"muted_glyph\":null,\"nonselection_glyph\":{\"id\":\"a3f85671-b255-401b-99a2-abab9b375a45\",\"type\":\"Line\"},\"selection_glyph\":null,\"view\":{\"id\":\"a70ff32e-8e22-4771-b846-fb7187f88621\",\"type\":\"CDSView\"}},\"id\":\"7e5597ab-562b-4639-ade5-524ae8d1a65d\",\"type\":\"GlyphRenderer\"},{\"attributes\":{},\"id\":\"1b504aaf-22ef-443b-9b8d-77096bd5025b\",\"type\":\"CategoricalTicker\"},{\"attributes\":{},\"id\":\"6a458dac-a056-4d66-8caf-1fae043b3970\",\"type\":\"BasicTickFormatter\"},{\"attributes\":{\"below\":[{\"id\":\"bd7e05e4-eaff-478d-84be-732b9f9ac2fa\",\"type\":\"CategoricalAxis\"}],\"left\":[{\"id\":\"da98526c-1997-4636-a0fc-5658b9f9b8bd\",\"type\":\"LinearAxis\"}],\"plot_height\":250,\"plot_width\":750,\"renderers\":[{\"id\":\"bd7e05e4-eaff-478d-84be-732b9f9ac2fa\",\"type\":\"CategoricalAxis\"},{\"id\":\"1c28502f-2732-45f3-8868-f0316b4b7caa\",\"type\":\"Grid\"},{\"id\":\"da98526c-1997-4636-a0fc-5658b9f9b8bd\",\"type\":\"LinearAxis\"},{\"id\":\"5b7591b4-336f-4c52-88b8-baebfc45124e\",\"type\":\"Grid\"},{\"id\":\"c921a6ae-14c9-46c4-b7f0-ff21d4a571e7\",\"type\":\"BoxAnnotation\"},{\"id\":\"7e5597ab-562b-4639-ade5-524ae8d1a65d\",\"type\":\"GlyphRenderer\"}],\"title\":{\"id\":\"d5534bbd-89c2-4a88-ad3c-f8cb274be66d\",\"type\":\"Title\"},\"toolbar\":{\"id\":\"894f3679-f5f1-4ce9-9b45-60ba11cd0667\",\"type\":\"Toolbar\"},\"x_range\":{\"id\":\"73497c70-707f-4d19-8cfb-18549e0115b2\",\"type\":\"FactorRange\"},\"x_scale\":{\"id\":\"77da9cd2-8acf-460f-aa1d-9cf9c935e572\",\"type\":\"CategoricalScale\"},\"y_range\":{\"id\":\"e21bfc28-0c4f-45cf-91c1-d1b6f7306a80\",\"type\":\"DataRange1d\"},\"y_scale\":{\"id\":\"b89c9a38-ca23-4f95-b13f-d00ce8beb430\",\"type\":\"LinearScale\"}},\"id\":\"dbc21cdf-6840-457a-b632-5bdfccdf3782\",\"subtype\":\"Figure\",\"type\":\"Plot\"},{\"attributes\":{},\"id\":\"35bf4b63-559d-4583-994b-e6bb4e823667\",\"type\":\"HelpTool\"},{\"attributes\":{\"overlay\":{\"id\":\"c921a6ae-14c9-46c4-b7f0-ff21d4a571e7\",\"type\":\"BoxAnnotation\"}},\"id\":\"141acadb-3716-481a-9b86-cb7c739e61a2\",\"type\":\"BoxZoomTool\"},{\"attributes\":{},\"id\":\"99bcd9b8-8d42-49c9-bdc0-cdfeb1e5de58\",\"type\":\"BasicTicker\"},{\"attributes\":{\"line_alpha\":{\"value\":0.1},\"line_color\":{\"value\":\"#1f77b4\"},\"x\":{\"field\":\"GRANDES_GRUPOS_DE_EDAD\"},\"y\":{\"field\":\"A_URBANA_M_mean\"}},\"id\":\"a3f85671-b255-401b-99a2-abab9b375a45\",\"type\":\"Line\"},{\"attributes\":{},\"id\":\"751f43b9-0073-4574-8c24-34c078bde54f\",\"type\":\"SaveTool\"},{\"attributes\":{\"callback\":null,\"column_names\":[\"A_RURAL_H_count\",\"A_RURAL_H_mean\",\"A_RURAL_H_std\",\"A_RURAL_H_min\",\"A_RURAL_H_25%\",\"A_RURAL_H_50%\",\"A_RURAL_H_75%\",\"A_RURAL_H_max\",\"A_RURAL_M_count\",\"A_RURAL_M_mean\",\"A_RURAL_M_std\",\"A_RURAL_M_min\",\"A_RURAL_M_25%\",\"A_RURAL_M_50%\",\"A_RURAL_M_75%\",\"A_RURAL_M_max\",\"A_URBANA_H_count\",\"A_URBANA_H_mean\",\"A_URBANA_H_std\",\"A_URBANA_H_min\",\"A_URBANA_H_25%\",\"A_URBANA_H_50%\",\"A_URBANA_H_75%\",\"A_URBANA_H_max\",\"A_URBANA_M_count\",\"A_URBANA_M_mean\",\"A_URBANA_M_std\",\"A_URBANA_M_min\",\"A_URBANA_M_25%\",\"A_URBANA_M_50%\",\"A_URBANA_M_75%\",\"A_URBANA_M_max\",\"TOTAL_H_count\",\"TOTAL_H_mean\",\"TOTAL_H_std\",\"TOTAL_H_min\",\"TOTAL_H_25%\",\"TOTAL_H_50%\",\"TOTAL_H_75%\",\"TOTAL_H_max\",\"TOTAL_M_count\",\"TOTAL_M_mean\",\"TOTAL_M_std\",\"TOTAL_M_min\",\"TOTAL_M_25%\",\"TOTAL_M_50%\",\"TOTAL_M_75%\",\"TOTAL_M_max\",\"GRANDES_GRUPOS_DE_EDAD\"],\"data\":{\"A_RURAL_H_25%\":{\"__ndarray__\":\"eOkmMQisnD+JQWDl0CKrP/T91HjpJsE/wMqhRbbz1T+S7Xw/NV66Pw==\",\"dtype\":\"float64\",\"shape\":[5]},\"A_RURAL_H_50%\":{\"__ndarray__\":\"eOkmMQisnD+JQWDl0CKrP/T91HjpJsE/wMqhRbbz1T+S7Xw/NV66Pw==\",\"dtype\":\"float64\",\"shape\":[5]},\"A_RURAL_H_75%\":{\"__ndarray__\":\"eOkmMQisnD+JQWDl0CKrP/T91HjpJsE/wMqhRbbz1T+S7Xw/NV66Pw==\",\"dtype\":\"float64\",\"shape\":[5]},\"A_RURAL_H_count\":{\"__ndarray__\":\"AAAAAAAA8D8AAAAAAADwPwAAAAAAAPA/AAAAAAAA8D8AAAAAAADwPw==\",\"dtype\":\"float64\",\"shape\":[5]},\"A_RURAL_H_max\":{\"__ndarray__\":\"eOkmMQisnD+JQWDl0CKrP/T91HjpJsE/wMqhRbbz1T+S7Xw/NV66Pw==\",\"dtype\":\"float64\",\"shape\":[5]},\"A_RURAL_H_mean\":{\"__ndarray__\":\"eOkmMQisnD+JQWDl0CKrP/T91HjpJsE/wMqhRbbz1T+S7Xw/NV66Pw==\",\"dtype\":\"float64\",\"shape\":[5]},\"A_RURAL_H_min\":{\"__ndarray__\":\"eOkmMQisnD+JQWDl0CKrP/T91HjpJsE/wMqhRbbz1T+S7Xw/NV66Pw==\",\"dtype\":\"float64\",\"shape\":[5]},\"A_RURAL_H_std\":{\"__ndarray__\":\"AAAAAAAA+H8AAAAAAAD4fwAAAAAAAPh/AAAAAAAA+H8AAAAAAAD4fw==\",\"dtype\":\"float64\",\"shape\":[5]},\"A_RURAL_M_25%\":{\"__ndarray__\":\"mpmZmZmZmT946SYxCKysPz0K16NwPco/AyuHFtnO3z+TGARWDi3CPw==\",\"dtype\":\"float64\",\"shape\":[5]},\"A_RURAL_M_50%\":{\"__ndarray__\":\"mpmZmZmZmT946SYxCKysPz0K16NwPco/AyuHFtnO3z+TGARWDi3CPw==\",\"dtype\":\"float64\",\"shape\":[5]},\"A_RURAL_M_75%\":{\"__ndarray__\":\"mpmZmZmZmT946SYxCKysPz0K16NwPco/AyuHFtnO3z+TGARWDi3CPw==\",\"dtype\":\"float64\",\"shape\":[5]},\"A_RURAL_M_count\":{\"__ndarray__\":\"AAAAAAAA8D8AAAAAAADwPwAAAAAAAPA/AAAAAAAA8D8AAAAAAADwPw==\",\"dtype\":\"float64\",\"shape\":[5]},\"A_RURAL_M_max\":{\"__ndarray__\":\"mpmZmZmZmT946SYxCKysPz0K16NwPco/AyuHFtnO3z+TGARWDi3CPw==\",\"dtype\":\"float64\",\"shape\":[5]},\"A_RURAL_M_mean\":{\"__ndarray__\":\"mpmZmZmZmT946SYxCKysPz0K16NwPco/AyuHFtnO3z+TGARWDi3CPw==\",\"dtype\":\"float64\",\"shape\":[5]},\"A_RURAL_M_min\":{\"__ndarray__\":\"mpmZmZmZmT946SYxCKysPz0K16NwPco/AyuHFtnO3z+TGARWDi3CPw==\",\"dtype\":\"float64\",\"shape\":[5]},\"A_RURAL_M_std\":{\"__ndarray__\":\"AAAAAAAA+H8AAAAAAAD4fwAAAAAAAPh/AAAAAAAA+H8AAAAAAAD4fw==\",\"dtype\":\"float64\",\"shape\":[5]},\"A_URBANA_H_25%\":{\"__ndarray__\":\"+n5qvHSTiD8830+Nl26SP9v5fmq8dKM//Knx0k1iwD9YObTIdr6fPw==\",\"dtype\":\"float64\",\"shape\":[5]},\"A_URBANA_H_50%\":{\"__ndarray__\":\"+n5qvHSTiD8830+Nl26SP9v5fmq8dKM//Knx0k1iwD9YObTIdr6fPw==\",\"dtype\":\"float64\",\"shape\":[5]},\"A_URBANA_H_75%\":{\"__ndarray__\":\"+n5qvHSTiD8830+Nl26SP9v5fmq8dKM//Knx0k1iwD9YObTIdr6fPw==\",\"dtype\":\"float64\",\"shape\":[5]},\"A_URBANA_H_count\":{\"__ndarray__\":\"AAAAAAAA8D8AAAAAAADwPwAAAAAAAPA/AAAAAAAA8D8AAAAAAADwPw==\",\"dtype\":\"float64\",\"shape\":[5]},\"A_URBANA_H_max\":{\"__ndarray__\":\"+n5qvHSTiD8830+Nl26SP9v5fmq8dKM//Knx0k1iwD9YObTIdr6fPw==\",\"dtype\":\"float64\",\"shape\":[5]},\"A_URBANA_H_mean\":{\"__ndarray__\":\"+n5qvHSTiD8830+Nl26SP9v5fmq8dKM//Knx0k1iwD9YObTIdr6fPw==\",\"dtype\":\"float64\",\"shape\":[5]},\"A_URBANA_H_min\":{\"__ndarray__\":\"+n5qvHSTiD8830+Nl26SP9v5fmq8dKM//Knx0k1iwD9YObTIdr6fPw==\",\"dtype\":\"float64\",\"shape\":[5]},\"A_URBANA_H_std\":{\"__ndarray__\":\"AAAAAAAA+H8AAAAAAAD4fwAAAAAAAPh/AAAAAAAA+H8AAAAAAAD4fw==\",\"dtype\":\"float64\",\"shape\":[5]},\"A_URBANA_M_25%\":{\"__ndarray__\":\"PN9PjZdugj+cxCCwcmiRP9rO91Pjpas/9ihcj8L1yD9qvHSTGASmPw==\",\"dtype\":\"float64\",\"shape\":[5]},\"A_URBANA_M_50%\":{\"__ndarray__\":\"PN9PjZdugj+cxCCwcmiRP9rO91Pjpas/9ihcj8L1yD9qvHSTGASmPw==\",\"dtype\":\"float64\",\"shape\":[5]},\"A_URBANA_M_75%\":{\"__ndarray__\":\"PN9PjZdugj+cxCCwcmiRP9rO91Pjpas/9ihcj8L1yD9qvHSTGASmPw==\",\"dtype\":\"float64\",\"shape\":[5]},\"A_URBANA_M_count\":{\"__ndarray__\":\"AAAAAAAA8D8AAAAAAADwPwAAAAAAAPA/AAAAAAAA8D8AAAAAAADwPw==\",\"dtype\":\"float64\",\"shape\":[5]},\"A_URBANA_M_max\":{\"__ndarray__\":\"PN9PjZdugj+cxCCwcmiRP9rO91Pjpas/9ihcj8L1yD9qvHSTGASmPw==\",\"dtype\":\"float64\",\"shape\":[5]},\"A_URBANA_M_mean\":{\"__ndarray__\":\"PN9PjZdugj+cxCCwcmiRP9rO91Pjpas/9ihcj8L1yD9qvHSTGASmPw==\",\"dtype\":\"float64\",\"shape\":[5]},\"A_URBANA_M_min\":{\"__ndarray__\":\"PN9PjZdugj+cxCCwcmiRP9rO91Pjpas/9ihcj8L1yD9qvHSTGASmPw==\",\"dtype\":\"float64\",\"shape\":[5]},\"A_URBANA_M_std\":{\"__ndarray__\":\"AAAAAAAA+H8AAAAAAAD4fwAAAAAAAPh/AAAAAAAA+H8AAAAAAAD4fw==\",\"dtype\":\"float64\",\"shape\":[5]},\"GRANDES_GRUPOS_DE_EDAD\":[\"15-24 a\\u00f1os\",\"25-39 a\\u00f1os\",\"40-64 a\\u00f1os\",\"65 a\\u00f1os y mas\",\"Total nacional\"],\"TOTAL_H_25%\":{\"__ndarray__\":\"PN9PjZdukj+4HoXrUbiePzzfT42XbrI/eOkmMQiszD8YBFYOLbKtPw==\",\"dtype\":\"float64\",\"shape\":[5]},\"TOTAL_H_50%\":{\"__ndarray__\":\"PN9PjZdukj+4HoXrUbiePzzfT42XbrI/eOkmMQiszD8YBFYOLbKtPw==\",\"dtype\":\"float64\",\"shape\":[5]},\"TOTAL_H_75%\":{\"__ndarray__\":\"PN9PjZdukj+4HoXrUbiePzzfT42XbrI/eOkmMQiszD8YBFYOLbKtPw==\",\"dtype\":\"float64\",\"shape\":[5]},\"TOTAL_H_count\":{\"__ndarray__\":\"AAAAAAAA8D8AAAAAAADwPwAAAAAAAPA/AAAAAAAA8D8AAAAAAADwPw==\",\"dtype\":\"float64\",\"shape\":[5]},\"TOTAL_H_max\":{\"__ndarray__\":\"PN9PjZdukj+4HoXrUbiePzzfT42XbrI/eOkmMQiszD8YBFYOLbKtPw==\",\"dtype\":\"float64\",\"shape\":[5]},\"TOTAL_H_mean\":{\"__ndarray__\":\"PN9PjZdukj+4HoXrUbiePzzfT42XbrI/eOkmMQiszD8YBFYOLbKtPw==\",\"dtype\":\"float64\",\"shape\":[5]},\"TOTAL_H_min\":{\"__ndarray__\":\"PN9PjZdukj+4HoXrUbiePzzfT42XbrI/eOkmMQiszD8YBFYOLbKtPw==\",\"dtype\":\"float64\",\"shape\":[5]},\"TOTAL_H_std\":{\"__ndarray__\":\"AAAAAAAA+H8AAAAAAAD4fwAAAAAAAPh/AAAAAAAA+H8AAAAAAAD4fw==\",\"dtype\":\"float64\",\"shape\":[5]},\"TOTAL_M_25%\":{\"__ndarray__\":\"uB6F61G4jj+4HoXrUbiePzq0yHa+n7o/001iEFg51D+DwMqhRbazPw==\",\"dtype\":\"float64\",\"shape\":[5]},\"TOTAL_M_50%\":{\"__ndarray__\":\"uB6F61G4jj+4HoXrUbiePzq0yHa+n7o/001iEFg51D+DwMqhRbazPw==\",\"dtype\":\"float64\",\"shape\":[5]},\"TOTAL_M_75%\":{\"__ndarray__\":\"uB6F61G4jj+4HoXrUbiePzq0yHa+n7o/001iEFg51D+DwMqhRbazPw==\",\"dtype\":\"float64\",\"shape\":[5]},\"TOTAL_M_count\":{\"__ndarray__\":\"AAAAAAAA8D8AAAAAAADwPwAAAAAAAPA/AAAAAAAA8D8AAAAAAADwPw==\",\"dtype\":\"float64\",\"shape\":[5]},\"TOTAL_M_max\":{\"__ndarray__\":\"uB6F61G4jj+4HoXrUbiePzq0yHa+n7o/001iEFg51D+DwMqhRbazPw==\",\"dtype\":\"float64\",\"shape\":[5]},\"TOTAL_M_mean\":{\"__ndarray__\":\"uB6F61G4jj+4HoXrUbiePzq0yHa+n7o/001iEFg51D+DwMqhRbazPw==\",\"dtype\":\"float64\",\"shape\":[5]},\"TOTAL_M_min\":{\"__ndarray__\":\"uB6F61G4jj+4HoXrUbiePzq0yHa+n7o/001iEFg51D+DwMqhRbazPw==\",\"dtype\":\"float64\",\"shape\":[5]},\"TOTAL_M_std\":{\"__ndarray__\":\"AAAAAAAA+H8AAAAAAAD4fwAAAAAAAPh/AAAAAAAA+H8AAAAAAAD4fw==\",\"dtype\":\"float64\",\"shape\":[5]}}},\"id\":\"2f047568-f9cf-4f3e-aa72-628ee2917e86\",\"type\":\"ColumnDataSource\"},{\"attributes\":{\"line_color\":{\"value\":\"#FF69B4\"},\"x\":{\"field\":\"GRANDES_GRUPOS_DE_EDAD\"},\"y\":{\"field\":\"A_URBANA_M_mean\"}},\"id\":\"c1d2d1dc-c4f9-4d96-aebd-e2ceec16af4c\",\"type\":\"Line\"},{\"attributes\":{\"source\":{\"id\":\"2f047568-f9cf-4f3e-aa72-628ee2917e86\",\"type\":\"ColumnDataSource\"}},\"id\":\"a70ff32e-8e22-4771-b846-fb7187f88621\",\"type\":\"CDSView\"},{\"attributes\":{\"callback\":null,\"factors\":[\"15-24 a\\u00f1os\",\"25-39 a\\u00f1os\",\"40-64 a\\u00f1os\",\"65 a\\u00f1os y mas\",\"Total nacional\"]},\"id\":\"73497c70-707f-4d19-8cfb-18549e0115b2\",\"type\":\"FactorRange\"},{\"attributes\":{},\"id\":\"9ea8e20d-152a-4132-9c68-bd682b103ed4\",\"type\":\"PanTool\"},{\"attributes\":{\"axis_label\":\"AREA URBANA - MUJERES\",\"formatter\":{\"id\":\"f23e9b95-3488-4fbd-b2e1-a81db5036c98\",\"type\":\"CategoricalTickFormatter\"},\"plot\":{\"id\":\"dbc21cdf-6840-457a-b632-5bdfccdf3782\",\"subtype\":\"Figure\",\"type\":\"Plot\"},\"ticker\":{\"id\":\"1b504aaf-22ef-443b-9b8d-77096bd5025b\",\"type\":\"CategoricalTicker\"}},\"id\":\"bd7e05e4-eaff-478d-84be-732b9f9ac2fa\",\"type\":\"CategoricalAxis\"},{\"attributes\":{\"bottom_units\":\"screen\",\"fill_alpha\":{\"value\":0.5},\"fill_color\":{\"value\":\"lightgrey\"},\"left_units\":\"screen\",\"level\":\"overlay\",\"line_alpha\":{\"value\":1.0},\"line_color\":{\"value\":\"black\"},\"line_dash\":[4,4],\"line_width\":{\"value\":2},\"plot\":null,\"render_mode\":\"css\",\"right_units\":\"screen\",\"top_units\":\"screen\"},\"id\":\"c921a6ae-14c9-46c4-b7f0-ff21d4a571e7\",\"type\":\"BoxAnnotation\"},{\"attributes\":{\"plot\":null,\"text\":\"ANALFABETISMO POR AREA Y GRUPOS DE EDAD\"},\"id\":\"d5534bbd-89c2-4a88-ad3c-f8cb274be66d\",\"type\":\"Title\"},{\"attributes\":{\"dimension\":1,\"plot\":{\"id\":\"dbc21cdf-6840-457a-b632-5bdfccdf3782\",\"subtype\":\"Figure\",\"type\":\"Plot\"},\"ticker\":{\"id\":\"99bcd9b8-8d42-49c9-bdc0-cdfeb1e5de58\",\"type\":\"BasicTicker\"}},\"id\":\"5b7591b4-336f-4c52-88b8-baebfc45124e\",\"type\":\"Grid\"}],\"root_ids\":[\"dbc21cdf-6840-457a-b632-5bdfccdf3782\"]},\"title\":\"Bokeh Application\",\"version\":\"0.12.10\"}};\n",
       "    var render_items = [{\"docid\":\"ddc336f2-6104-445e-8f8a-800df6b78510\",\"elementid\":\"3d5f953c-6800-4222-83ac-b440facdf0f6\",\"modelid\":\"dbc21cdf-6840-457a-b632-5bdfccdf3782\"}];\n",
       "\n",
       "    root.Bokeh.embed.embed_items(docs_json, render_items);\n",
       "  }\n",
       "\n",
       "  if (root.Bokeh !== undefined) {\n",
       "    embed_document(root);\n",
       "  } else {\n",
       "    var attempts = 0;\n",
       "    var timer = setInterval(function(root) {\n",
       "      if (root.Bokeh !== undefined) {\n",
       "        embed_document(root);\n",
       "        clearInterval(timer);\n",
       "      }\n",
       "      attempts++;\n",
       "      if (attempts > 100) {\n",
       "        console.log(\"Bokeh: ERROR: Unable to embed document because BokehJS library is missing\")\n",
       "        clearInterval(timer);\n",
       "      }\n",
       "    }, 10, root)\n",
       "  }\n",
       "})(window);"
      ],
      "application/vnd.bokehjs_exec.v0+json": ""
     },
     "metadata": {
      "application/vnd.bokehjs_exec.v0+json": {
       "id": "dbc21cdf-6840-457a-b632-5bdfccdf3782"
      }
     },
     "output_type": "display_data"
    }
   ],
   "source": [
    "# Agrupamos los valores en base a la columna \"GRANDES_GRUPOS_DE_EDAD\" \n",
    "group1 = tabla1.groupby('GRANDES_GRUPOS_DE_EDAD')\n",
    "\n",
    "# Nos permite obtener Mapas nombres de columnas a secuencias o matrices.\n",
    "source = ColumnDataSource(group1)\n",
    "\n",
    "# Creamos un objeto de figura \n",
    "p = figure(\n",
    "    plot_height=250, plot_width=750, # Modificamos tamaño\n",
    "    x_range=group1, # Determinamos el rango x va hacer el grupo1\n",
    "    title='ANALFABETISMO POR AREA Y GRUPOS DE EDAD' # Ponemos un título a la grafica\n",
    ")\n",
    "\n",
    "# Establecemos los atributos de \"line()\"\n",
    "p.line(\n",
    "    x='GRANDES_GRUPOS_DE_EDAD',\n",
    "    y='A_URBANA_M_mean', \n",
    "    color='#FF69B4', # Determinamos el color de la linea \n",
    "    source=source\n",
    ")\n",
    "\n",
    "p.xgrid.grid_line_color = None # No mostramos la linea separadora de x\n",
    "\n",
    "p.xaxis.axis_label = \"AREA URBANA - MUJERES\" # Nombramos al eje x\n",
    "\n",
    "p.y_range.start = 0 # Modificamos para la presentación el rango inicial \n",
    "\n",
    "show(p) # Presentamos"
   ]
  },
  {
   "cell_type": "code",
   "execution_count": 31,
   "metadata": {},
   "outputs": [
    {
     "data": {
      "text/html": [
       "\n",
       "<div class=\"bk-root\">\n",
       "    <div class=\"bk-plotdiv\" id=\"e214e870-48b1-462c-8cdf-ce3a593ab1b2\"></div>\n",
       "</div>"
      ]
     },
     "metadata": {},
     "output_type": "display_data"
    },
    {
     "data": {
      "application/javascript": [
       "(function(root) {\n",
       "  function embed_document(root) {\n",
       "    var docs_json = {\"321bc785-2ebb-4e7b-bca6-b51029dc2668\":{\"roots\":{\"references\":[{\"attributes\":{\"data_source\":{\"id\":\"281c107a-a567-4c83-8d50-edc67f1beca1\",\"type\":\"ColumnDataSource\"},\"glyph\":{\"id\":\"68ee8d6c-81ac-4bd9-b029-2893e08f406e\",\"type\":\"Line\"},\"hover_glyph\":null,\"muted_glyph\":null,\"nonselection_glyph\":{\"id\":\"90c78f2f-8bc2-497a-b82f-8516735685bb\",\"type\":\"Line\"},\"selection_glyph\":null,\"view\":{\"id\":\"9079ed4e-f626-4968-9d65-8edf4a04fbbf\",\"type\":\"CDSView\"}},\"id\":\"8179ab25-bd47-48c8-b6d9-d957191ba12d\",\"type\":\"GlyphRenderer\"},{\"attributes\":{\"line_color\":{\"value\":\"#FF69B4\"},\"x\":{\"field\":\"GRANDES_GRUPOS_DE_EDAD\"},\"y\":{\"field\":\"A_URBANA_M_mean\"}},\"id\":\"68ee8d6c-81ac-4bd9-b029-2893e08f406e\",\"type\":\"Line\"},{\"attributes\":{},\"id\":\"ddffbfed-af12-4721-9ff3-3fbc70826932\",\"type\":\"SaveTool\"},{\"attributes\":{},\"id\":\"07e8aa84-e8af-4829-a6d2-534fbd4007b2\",\"type\":\"CategoricalTicker\"},{\"attributes\":{\"bottom_units\":\"screen\",\"fill_alpha\":{\"value\":0.5},\"fill_color\":{\"value\":\"lightgrey\"},\"left_units\":\"screen\",\"level\":\"overlay\",\"line_alpha\":{\"value\":1.0},\"line_color\":{\"value\":\"black\"},\"line_dash\":[4,4],\"line_width\":{\"value\":2},\"plot\":null,\"render_mode\":\"css\",\"right_units\":\"screen\",\"top_units\":\"screen\"},\"id\":\"8d3d5727-8181-48fd-bcd7-ba9716920510\",\"type\":\"BoxAnnotation\"},{\"attributes\":{},\"id\":\"1d2cf2a9-08a0-44f7-9aa5-0a1c2e15c010\",\"type\":\"BasicTickFormatter\"},{\"attributes\":{\"callback\":null,\"column_names\":[\"A_RURAL_H_count\",\"A_RURAL_H_mean\",\"A_RURAL_H_std\",\"A_RURAL_H_min\",\"A_RURAL_H_25%\",\"A_RURAL_H_50%\",\"A_RURAL_H_75%\",\"A_RURAL_H_max\",\"A_RURAL_M_count\",\"A_RURAL_M_mean\",\"A_RURAL_M_std\",\"A_RURAL_M_min\",\"A_RURAL_M_25%\",\"A_RURAL_M_50%\",\"A_RURAL_M_75%\",\"A_RURAL_M_max\",\"A_URBANA_H_count\",\"A_URBANA_H_mean\",\"A_URBANA_H_std\",\"A_URBANA_H_min\",\"A_URBANA_H_25%\",\"A_URBANA_H_50%\",\"A_URBANA_H_75%\",\"A_URBANA_H_max\",\"A_URBANA_M_count\",\"A_URBANA_M_mean\",\"A_URBANA_M_std\",\"A_URBANA_M_min\",\"A_URBANA_M_25%\",\"A_URBANA_M_50%\",\"A_URBANA_M_75%\",\"A_URBANA_M_max\",\"TOTAL_H_count\",\"TOTAL_H_mean\",\"TOTAL_H_std\",\"TOTAL_H_min\",\"TOTAL_H_25%\",\"TOTAL_H_50%\",\"TOTAL_H_75%\",\"TOTAL_H_max\",\"TOTAL_M_count\",\"TOTAL_M_mean\",\"TOTAL_M_std\",\"TOTAL_M_min\",\"TOTAL_M_25%\",\"TOTAL_M_50%\",\"TOTAL_M_75%\",\"TOTAL_M_max\",\"GRANDES_GRUPOS_DE_EDAD\"],\"data\":{\"A_RURAL_H_25%\":{\"__ndarray__\":\"eOkmMQisnD+JQWDl0CKrP/T91HjpJsE/wMqhRbbz1T+S7Xw/NV66Pw==\",\"dtype\":\"float64\",\"shape\":[5]},\"A_RURAL_H_50%\":{\"__ndarray__\":\"eOkmMQisnD+JQWDl0CKrP/T91HjpJsE/wMqhRbbz1T+S7Xw/NV66Pw==\",\"dtype\":\"float64\",\"shape\":[5]},\"A_RURAL_H_75%\":{\"__ndarray__\":\"eOkmMQisnD+JQWDl0CKrP/T91HjpJsE/wMqhRbbz1T+S7Xw/NV66Pw==\",\"dtype\":\"float64\",\"shape\":[5]},\"A_RURAL_H_count\":{\"__ndarray__\":\"AAAAAAAA8D8AAAAAAADwPwAAAAAAAPA/AAAAAAAA8D8AAAAAAADwPw==\",\"dtype\":\"float64\",\"shape\":[5]},\"A_RURAL_H_max\":{\"__ndarray__\":\"eOkmMQisnD+JQWDl0CKrP/T91HjpJsE/wMqhRbbz1T+S7Xw/NV66Pw==\",\"dtype\":\"float64\",\"shape\":[5]},\"A_RURAL_H_mean\":{\"__ndarray__\":\"eOkmMQisnD+JQWDl0CKrP/T91HjpJsE/wMqhRbbz1T+S7Xw/NV66Pw==\",\"dtype\":\"float64\",\"shape\":[5]},\"A_RURAL_H_min\":{\"__ndarray__\":\"eOkmMQisnD+JQWDl0CKrP/T91HjpJsE/wMqhRbbz1T+S7Xw/NV66Pw==\",\"dtype\":\"float64\",\"shape\":[5]},\"A_RURAL_H_std\":{\"__ndarray__\":\"AAAAAAAA+H8AAAAAAAD4fwAAAAAAAPh/AAAAAAAA+H8AAAAAAAD4fw==\",\"dtype\":\"float64\",\"shape\":[5]},\"A_RURAL_M_25%\":{\"__ndarray__\":\"mpmZmZmZmT946SYxCKysPz0K16NwPco/AyuHFtnO3z+TGARWDi3CPw==\",\"dtype\":\"float64\",\"shape\":[5]},\"A_RURAL_M_50%\":{\"__ndarray__\":\"mpmZmZmZmT946SYxCKysPz0K16NwPco/AyuHFtnO3z+TGARWDi3CPw==\",\"dtype\":\"float64\",\"shape\":[5]},\"A_RURAL_M_75%\":{\"__ndarray__\":\"mpmZmZmZmT946SYxCKysPz0K16NwPco/AyuHFtnO3z+TGARWDi3CPw==\",\"dtype\":\"float64\",\"shape\":[5]},\"A_RURAL_M_count\":{\"__ndarray__\":\"AAAAAAAA8D8AAAAAAADwPwAAAAAAAPA/AAAAAAAA8D8AAAAAAADwPw==\",\"dtype\":\"float64\",\"shape\":[5]},\"A_RURAL_M_max\":{\"__ndarray__\":\"mpmZmZmZmT946SYxCKysPz0K16NwPco/AyuHFtnO3z+TGARWDi3CPw==\",\"dtype\":\"float64\",\"shape\":[5]},\"A_RURAL_M_mean\":{\"__ndarray__\":\"mpmZmZmZmT946SYxCKysPz0K16NwPco/AyuHFtnO3z+TGARWDi3CPw==\",\"dtype\":\"float64\",\"shape\":[5]},\"A_RURAL_M_min\":{\"__ndarray__\":\"mpmZmZmZmT946SYxCKysPz0K16NwPco/AyuHFtnO3z+TGARWDi3CPw==\",\"dtype\":\"float64\",\"shape\":[5]},\"A_RURAL_M_std\":{\"__ndarray__\":\"AAAAAAAA+H8AAAAAAAD4fwAAAAAAAPh/AAAAAAAA+H8AAAAAAAD4fw==\",\"dtype\":\"float64\",\"shape\":[5]},\"A_URBANA_H_25%\":{\"__ndarray__\":\"+n5qvHSTiD8830+Nl26SP9v5fmq8dKM//Knx0k1iwD9YObTIdr6fPw==\",\"dtype\":\"float64\",\"shape\":[5]},\"A_URBANA_H_50%\":{\"__ndarray__\":\"+n5qvHSTiD8830+Nl26SP9v5fmq8dKM//Knx0k1iwD9YObTIdr6fPw==\",\"dtype\":\"float64\",\"shape\":[5]},\"A_URBANA_H_75%\":{\"__ndarray__\":\"+n5qvHSTiD8830+Nl26SP9v5fmq8dKM//Knx0k1iwD9YObTIdr6fPw==\",\"dtype\":\"float64\",\"shape\":[5]},\"A_URBANA_H_count\":{\"__ndarray__\":\"AAAAAAAA8D8AAAAAAADwPwAAAAAAAPA/AAAAAAAA8D8AAAAAAADwPw==\",\"dtype\":\"float64\",\"shape\":[5]},\"A_URBANA_H_max\":{\"__ndarray__\":\"+n5qvHSTiD8830+Nl26SP9v5fmq8dKM//Knx0k1iwD9YObTIdr6fPw==\",\"dtype\":\"float64\",\"shape\":[5]},\"A_URBANA_H_mean\":{\"__ndarray__\":\"+n5qvHSTiD8830+Nl26SP9v5fmq8dKM//Knx0k1iwD9YObTIdr6fPw==\",\"dtype\":\"float64\",\"shape\":[5]},\"A_URBANA_H_min\":{\"__ndarray__\":\"+n5qvHSTiD8830+Nl26SP9v5fmq8dKM//Knx0k1iwD9YObTIdr6fPw==\",\"dtype\":\"float64\",\"shape\":[5]},\"A_URBANA_H_std\":{\"__ndarray__\":\"AAAAAAAA+H8AAAAAAAD4fwAAAAAAAPh/AAAAAAAA+H8AAAAAAAD4fw==\",\"dtype\":\"float64\",\"shape\":[5]},\"A_URBANA_M_25%\":{\"__ndarray__\":\"PN9PjZdugj+cxCCwcmiRP9rO91Pjpas/9ihcj8L1yD9qvHSTGASmPw==\",\"dtype\":\"float64\",\"shape\":[5]},\"A_URBANA_M_50%\":{\"__ndarray__\":\"PN9PjZdugj+cxCCwcmiRP9rO91Pjpas/9ihcj8L1yD9qvHSTGASmPw==\",\"dtype\":\"float64\",\"shape\":[5]},\"A_URBANA_M_75%\":{\"__ndarray__\":\"PN9PjZdugj+cxCCwcmiRP9rO91Pjpas/9ihcj8L1yD9qvHSTGASmPw==\",\"dtype\":\"float64\",\"shape\":[5]},\"A_URBANA_M_count\":{\"__ndarray__\":\"AAAAAAAA8D8AAAAAAADwPwAAAAAAAPA/AAAAAAAA8D8AAAAAAADwPw==\",\"dtype\":\"float64\",\"shape\":[5]},\"A_URBANA_M_max\":{\"__ndarray__\":\"PN9PjZdugj+cxCCwcmiRP9rO91Pjpas/9ihcj8L1yD9qvHSTGASmPw==\",\"dtype\":\"float64\",\"shape\":[5]},\"A_URBANA_M_mean\":{\"__ndarray__\":\"PN9PjZdugj+cxCCwcmiRP9rO91Pjpas/9ihcj8L1yD9qvHSTGASmPw==\",\"dtype\":\"float64\",\"shape\":[5]},\"A_URBANA_M_min\":{\"__ndarray__\":\"PN9PjZdugj+cxCCwcmiRP9rO91Pjpas/9ihcj8L1yD9qvHSTGASmPw==\",\"dtype\":\"float64\",\"shape\":[5]},\"A_URBANA_M_std\":{\"__ndarray__\":\"AAAAAAAA+H8AAAAAAAD4fwAAAAAAAPh/AAAAAAAA+H8AAAAAAAD4fw==\",\"dtype\":\"float64\",\"shape\":[5]},\"GRANDES_GRUPOS_DE_EDAD\":[\"15-24 a\\u00f1os\",\"25-39 a\\u00f1os\",\"40-64 a\\u00f1os\",\"65 a\\u00f1os y mas\",\"Total nacional\"],\"TOTAL_H_25%\":{\"__ndarray__\":\"PN9PjZdukj+4HoXrUbiePzzfT42XbrI/eOkmMQiszD8YBFYOLbKtPw==\",\"dtype\":\"float64\",\"shape\":[5]},\"TOTAL_H_50%\":{\"__ndarray__\":\"PN9PjZdukj+4HoXrUbiePzzfT42XbrI/eOkmMQiszD8YBFYOLbKtPw==\",\"dtype\":\"float64\",\"shape\":[5]},\"TOTAL_H_75%\":{\"__ndarray__\":\"PN9PjZdukj+4HoXrUbiePzzfT42XbrI/eOkmMQiszD8YBFYOLbKtPw==\",\"dtype\":\"float64\",\"shape\":[5]},\"TOTAL_H_count\":{\"__ndarray__\":\"AAAAAAAA8D8AAAAAAADwPwAAAAAAAPA/AAAAAAAA8D8AAAAAAADwPw==\",\"dtype\":\"float64\",\"shape\":[5]},\"TOTAL_H_max\":{\"__ndarray__\":\"PN9PjZdukj+4HoXrUbiePzzfT42XbrI/eOkmMQiszD8YBFYOLbKtPw==\",\"dtype\":\"float64\",\"shape\":[5]},\"TOTAL_H_mean\":{\"__ndarray__\":\"PN9PjZdukj+4HoXrUbiePzzfT42XbrI/eOkmMQiszD8YBFYOLbKtPw==\",\"dtype\":\"float64\",\"shape\":[5]},\"TOTAL_H_min\":{\"__ndarray__\":\"PN9PjZdukj+4HoXrUbiePzzfT42XbrI/eOkmMQiszD8YBFYOLbKtPw==\",\"dtype\":\"float64\",\"shape\":[5]},\"TOTAL_H_std\":{\"__ndarray__\":\"AAAAAAAA+H8AAAAAAAD4fwAAAAAAAPh/AAAAAAAA+H8AAAAAAAD4fw==\",\"dtype\":\"float64\",\"shape\":[5]},\"TOTAL_M_25%\":{\"__ndarray__\":\"uB6F61G4jj+4HoXrUbiePzq0yHa+n7o/001iEFg51D+DwMqhRbazPw==\",\"dtype\":\"float64\",\"shape\":[5]},\"TOTAL_M_50%\":{\"__ndarray__\":\"uB6F61G4jj+4HoXrUbiePzq0yHa+n7o/001iEFg51D+DwMqhRbazPw==\",\"dtype\":\"float64\",\"shape\":[5]},\"TOTAL_M_75%\":{\"__ndarray__\":\"uB6F61G4jj+4HoXrUbiePzq0yHa+n7o/001iEFg51D+DwMqhRbazPw==\",\"dtype\":\"float64\",\"shape\":[5]},\"TOTAL_M_count\":{\"__ndarray__\":\"AAAAAAAA8D8AAAAAAADwPwAAAAAAAPA/AAAAAAAA8D8AAAAAAADwPw==\",\"dtype\":\"float64\",\"shape\":[5]},\"TOTAL_M_max\":{\"__ndarray__\":\"uB6F61G4jj+4HoXrUbiePzq0yHa+n7o/001iEFg51D+DwMqhRbazPw==\",\"dtype\":\"float64\",\"shape\":[5]},\"TOTAL_M_mean\":{\"__ndarray__\":\"uB6F61G4jj+4HoXrUbiePzq0yHa+n7o/001iEFg51D+DwMqhRbazPw==\",\"dtype\":\"float64\",\"shape\":[5]},\"TOTAL_M_min\":{\"__ndarray__\":\"uB6F61G4jj+4HoXrUbiePzq0yHa+n7o/001iEFg51D+DwMqhRbazPw==\",\"dtype\":\"float64\",\"shape\":[5]},\"TOTAL_M_std\":{\"__ndarray__\":\"AAAAAAAA+H8AAAAAAAD4fwAAAAAAAPh/AAAAAAAA+H8AAAAAAAD4fw==\",\"dtype\":\"float64\",\"shape\":[5]}}},\"id\":\"281c107a-a567-4c83-8d50-edc67f1beca1\",\"type\":\"ColumnDataSource\"},{\"attributes\":{\"line_alpha\":{\"value\":0.1},\"line_color\":{\"value\":\"#1f77b4\"},\"x\":{\"field\":\"GRANDES_GRUPOS_DE_EDAD\"},\"y\":{\"field\":\"A_URBANA_M_mean\"}},\"id\":\"90c78f2f-8bc2-497a-b82f-8516735685bb\",\"type\":\"Line\"},{\"attributes\":{},\"id\":\"7df45de7-d8f3-41a9-ab96-a17991564745\",\"type\":\"CategoricalTickFormatter\"},{\"attributes\":{},\"id\":\"b1ad66fb-9cd1-4ed6-8c44-66a3d5386835\",\"type\":\"LinearScale\"},{\"attributes\":{\"source\":{\"id\":\"281c107a-a567-4c83-8d50-edc67f1beca1\",\"type\":\"ColumnDataSource\"}},\"id\":\"9079ed4e-f626-4968-9d65-8edf4a04fbbf\",\"type\":\"CDSView\"},{\"attributes\":{\"formatter\":{\"id\":\"1d2cf2a9-08a0-44f7-9aa5-0a1c2e15c010\",\"type\":\"BasicTickFormatter\"},\"plot\":{\"id\":\"d6618fae-a539-4b72-b855-cd2645ee7fd1\",\"subtype\":\"Figure\",\"type\":\"Plot\"},\"ticker\":{\"id\":\"56a18892-b718-457f-b370-45daab22f59c\",\"type\":\"BasicTicker\"}},\"id\":\"99f4feab-d8e0-4505-9b1a-62dc3b80b9cb\",\"type\":\"LinearAxis\"},{\"attributes\":{\"dimension\":1,\"plot\":{\"id\":\"d6618fae-a539-4b72-b855-cd2645ee7fd1\",\"subtype\":\"Figure\",\"type\":\"Plot\"},\"ticker\":{\"id\":\"56a18892-b718-457f-b370-45daab22f59c\",\"type\":\"BasicTicker\"}},\"id\":\"3e5d6e09-4642-4025-a7a9-2aa4d35a1907\",\"type\":\"Grid\"},{\"attributes\":{},\"id\":\"fc69650b-5de1-48fa-b9fd-9851dd71c24e\",\"type\":\"CategoricalScale\"},{\"attributes\":{\"plot\":null,\"text\":\"ANALFABETISMO POR AREA Y GRUPOS DE EDAD\"},\"id\":\"50de2d85-9c12-4346-b636-ab099534281e\",\"type\":\"Title\"},{\"attributes\":{\"fill_color\":{\"value\":\"#FF69B4\"},\"line_color\":{\"value\":\"#FF69B4\"},\"size\":{\"units\":\"screen\",\"value\":5.5},\"x\":{\"field\":\"GRANDES_GRUPOS_DE_EDAD\"},\"y\":{\"field\":\"A_URBANA_M_mean\"}},\"id\":\"4df5e507-cd4d-423a-906f-8a6dbd22f050\",\"type\":\"Circle\"},{\"attributes\":{\"fill_alpha\":{\"value\":0.1},\"fill_color\":{\"value\":\"#1f77b4\"},\"line_alpha\":{\"value\":0.1},\"line_color\":{\"value\":\"#1f77b4\"},\"size\":{\"units\":\"screen\",\"value\":5.5},\"x\":{\"field\":\"GRANDES_GRUPOS_DE_EDAD\"},\"y\":{\"field\":\"A_URBANA_M_mean\"}},\"id\":\"dde75f40-cb40-4c35-93b3-43ce1b1fea65\",\"type\":\"Circle\"},{\"attributes\":{\"callback\":null,\"factors\":[\"15-24 a\\u00f1os\",\"25-39 a\\u00f1os\",\"40-64 a\\u00f1os\",\"65 a\\u00f1os y mas\",\"Total nacional\"]},\"id\":\"1a80bb97-5f9f-45e7-907a-6584a5256845\",\"type\":\"FactorRange\"},{\"attributes\":{},\"id\":\"f05f9345-1e24-4273-9721-51d5fa9dd396\",\"type\":\"WheelZoomTool\"},{\"attributes\":{\"axis_label\":\"AREA URBANA - MUJERES\",\"formatter\":{\"id\":\"7df45de7-d8f3-41a9-ab96-a17991564745\",\"type\":\"CategoricalTickFormatter\"},\"plot\":{\"id\":\"d6618fae-a539-4b72-b855-cd2645ee7fd1\",\"subtype\":\"Figure\",\"type\":\"Plot\"},\"ticker\":{\"id\":\"07e8aa84-e8af-4829-a6d2-534fbd4007b2\",\"type\":\"CategoricalTicker\"}},\"id\":\"34b90fab-4193-4ec3-8557-4c3daab494ac\",\"type\":\"CategoricalAxis\"},{\"attributes\":{\"source\":{\"id\":\"281c107a-a567-4c83-8d50-edc67f1beca1\",\"type\":\"ColumnDataSource\"}},\"id\":\"f8e05908-8702-412b-8f4f-7eaee4a24ad5\",\"type\":\"CDSView\"},{\"attributes\":{\"overlay\":{\"id\":\"8d3d5727-8181-48fd-bcd7-ba9716920510\",\"type\":\"BoxAnnotation\"}},\"id\":\"de797c7f-bdb0-4b4b-85bd-efb157db39a5\",\"type\":\"BoxZoomTool\"},{\"attributes\":{},\"id\":\"1436955a-0938-4621-b81f-b5239fdc8d98\",\"type\":\"HelpTool\"},{\"attributes\":{\"active_drag\":\"auto\",\"active_inspect\":\"auto\",\"active_scroll\":\"auto\",\"active_tap\":\"auto\",\"tools\":[{\"id\":\"20ba09c8-b69b-4baa-85aa-bea1318860a8\",\"type\":\"PanTool\"},{\"id\":\"f05f9345-1e24-4273-9721-51d5fa9dd396\",\"type\":\"WheelZoomTool\"},{\"id\":\"de797c7f-bdb0-4b4b-85bd-efb157db39a5\",\"type\":\"BoxZoomTool\"},{\"id\":\"ddffbfed-af12-4721-9ff3-3fbc70826932\",\"type\":\"SaveTool\"},{\"id\":\"7117c182-b017-4f54-a5a7-f54776d35670\",\"type\":\"ResetTool\"},{\"id\":\"1436955a-0938-4621-b81f-b5239fdc8d98\",\"type\":\"HelpTool\"}]},\"id\":\"56d8a063-7607-40b2-9713-8e82208210a5\",\"type\":\"Toolbar\"},{\"attributes\":{\"below\":[{\"id\":\"34b90fab-4193-4ec3-8557-4c3daab494ac\",\"type\":\"CategoricalAxis\"}],\"left\":[{\"id\":\"99f4feab-d8e0-4505-9b1a-62dc3b80b9cb\",\"type\":\"LinearAxis\"}],\"plot_height\":250,\"plot_width\":750,\"renderers\":[{\"id\":\"34b90fab-4193-4ec3-8557-4c3daab494ac\",\"type\":\"CategoricalAxis\"},{\"id\":\"ae79253b-3d16-4e5d-9e8e-525aa183a0cd\",\"type\":\"Grid\"},{\"id\":\"99f4feab-d8e0-4505-9b1a-62dc3b80b9cb\",\"type\":\"LinearAxis\"},{\"id\":\"3e5d6e09-4642-4025-a7a9-2aa4d35a1907\",\"type\":\"Grid\"},{\"id\":\"8d3d5727-8181-48fd-bcd7-ba9716920510\",\"type\":\"BoxAnnotation\"},{\"id\":\"8179ab25-bd47-48c8-b6d9-d957191ba12d\",\"type\":\"GlyphRenderer\"},{\"id\":\"ac91614f-6bb3-4d4d-8e6d-57ec876e6776\",\"type\":\"GlyphRenderer\"}],\"title\":{\"id\":\"50de2d85-9c12-4346-b636-ab099534281e\",\"type\":\"Title\"},\"toolbar\":{\"id\":\"56d8a063-7607-40b2-9713-8e82208210a5\",\"type\":\"Toolbar\"},\"x_range\":{\"id\":\"1a80bb97-5f9f-45e7-907a-6584a5256845\",\"type\":\"FactorRange\"},\"x_scale\":{\"id\":\"fc69650b-5de1-48fa-b9fd-9851dd71c24e\",\"type\":\"CategoricalScale\"},\"y_range\":{\"id\":\"a9ef5c5b-2d27-4eff-83ae-f474d9db6110\",\"type\":\"DataRange1d\"},\"y_scale\":{\"id\":\"b1ad66fb-9cd1-4ed6-8c44-66a3d5386835\",\"type\":\"LinearScale\"}},\"id\":\"d6618fae-a539-4b72-b855-cd2645ee7fd1\",\"subtype\":\"Figure\",\"type\":\"Plot\"},{\"attributes\":{\"data_source\":{\"id\":\"281c107a-a567-4c83-8d50-edc67f1beca1\",\"type\":\"ColumnDataSource\"},\"glyph\":{\"id\":\"4df5e507-cd4d-423a-906f-8a6dbd22f050\",\"type\":\"Circle\"},\"hover_glyph\":null,\"muted_glyph\":null,\"nonselection_glyph\":{\"id\":\"dde75f40-cb40-4c35-93b3-43ce1b1fea65\",\"type\":\"Circle\"},\"selection_glyph\":null,\"view\":{\"id\":\"f8e05908-8702-412b-8f4f-7eaee4a24ad5\",\"type\":\"CDSView\"}},\"id\":\"ac91614f-6bb3-4d4d-8e6d-57ec876e6776\",\"type\":\"GlyphRenderer\"},{\"attributes\":{},\"id\":\"7117c182-b017-4f54-a5a7-f54776d35670\",\"type\":\"ResetTool\"},{\"attributes\":{\"plot\":{\"id\":\"d6618fae-a539-4b72-b855-cd2645ee7fd1\",\"subtype\":\"Figure\",\"type\":\"Plot\"},\"ticker\":{\"id\":\"07e8aa84-e8af-4829-a6d2-534fbd4007b2\",\"type\":\"CategoricalTicker\"}},\"id\":\"ae79253b-3d16-4e5d-9e8e-525aa183a0cd\",\"type\":\"Grid\"},{\"attributes\":{},\"id\":\"20ba09c8-b69b-4baa-85aa-bea1318860a8\",\"type\":\"PanTool\"},{\"attributes\":{},\"id\":\"56a18892-b718-457f-b370-45daab22f59c\",\"type\":\"BasicTicker\"},{\"attributes\":{\"callback\":null,\"start\":0},\"id\":\"a9ef5c5b-2d27-4eff-83ae-f474d9db6110\",\"type\":\"DataRange1d\"}],\"root_ids\":[\"d6618fae-a539-4b72-b855-cd2645ee7fd1\"]},\"title\":\"Bokeh Application\",\"version\":\"0.12.10\"}};\n",
       "    var render_items = [{\"docid\":\"321bc785-2ebb-4e7b-bca6-b51029dc2668\",\"elementid\":\"e214e870-48b1-462c-8cdf-ce3a593ab1b2\",\"modelid\":\"d6618fae-a539-4b72-b855-cd2645ee7fd1\"}];\n",
       "\n",
       "    root.Bokeh.embed.embed_items(docs_json, render_items);\n",
       "  }\n",
       "\n",
       "  if (root.Bokeh !== undefined) {\n",
       "    embed_document(root);\n",
       "  } else {\n",
       "    var attempts = 0;\n",
       "    var timer = setInterval(function(root) {\n",
       "      if (root.Bokeh !== undefined) {\n",
       "        embed_document(root);\n",
       "        clearInterval(timer);\n",
       "      }\n",
       "      attempts++;\n",
       "      if (attempts > 100) {\n",
       "        console.log(\"Bokeh: ERROR: Unable to embed document because BokehJS library is missing\")\n",
       "        clearInterval(timer);\n",
       "      }\n",
       "    }, 10, root)\n",
       "  }\n",
       "})(window);"
      ],
      "application/vnd.bokehjs_exec.v0+json": ""
     },
     "metadata": {
      "application/vnd.bokehjs_exec.v0+json": {
       "id": "d6618fae-a539-4b72-b855-cd2645ee7fd1"
      }
     },
     "output_type": "display_data"
    }
   ],
   "source": [
    "# Agrupamos los valores en base a la columna \"GRANDES_GRUPOS_DE_EDAD\" \n",
    "group1 = tabla1.groupby('GRANDES_GRUPOS_DE_EDAD')\n",
    "\n",
    "# Nos permite obtener Mapas nombres de columnas a secuencias o matrices.\n",
    "source = ColumnDataSource(group1)\n",
    "\n",
    "# Creamos un objeto de figura y establecemos su tamaño, rango, y le damos un título \n",
    "p = figure(plot_height=250, plot_width=750, x_range=group1,  title='ANALFABETISMO POR AREA Y GRUPOS DE EDAD')\n",
    "\n",
    "# Podemos crear una grafica que combine dos o más plotting\n",
    "\n",
    "p.line(x='GRANDES_GRUPOS_DE_EDAD', y='A_URBANA_M_mean', color='#FF69B4', source=source)\n",
    "\n",
    "p.circle(\n",
    "    x='GRANDES_GRUPOS_DE_EDAD', \n",
    "    y='A_URBANA_M_mean', \n",
    "    color='#FF69B4', \n",
    "    size=5.5, # Damos el tamaño de los circulos\n",
    "    source=source\n",
    ")\n",
    "\n",
    "p.xaxis.axis_label = \"AREA URBANA - MUJERES\" # Damos un titulo al eje x\n",
    "\n",
    "p.y_range.start = 0 # Modificamos para la presentación el rango inicial \n",
    "\n",
    "show(p)"
   ]
  },
  {
   "cell_type": "code",
   "execution_count": 32,
   "metadata": {},
   "outputs": [
    {
     "data": {
      "text/html": [
       "\n",
       "<div class=\"bk-root\">\n",
       "    <div class=\"bk-plotdiv\" id=\"04dab583-93df-468a-aa1e-e80478c63144\"></div>\n",
       "</div>"
      ]
     },
     "metadata": {},
     "output_type": "display_data"
    },
    {
     "data": {
      "application/javascript": [
       "(function(root) {\n",
       "  function embed_document(root) {\n",
       "    var docs_json = {\"c5b0b301-cb0a-48e9-831f-373e96886094\":{\"roots\":{\"references\":[{\"attributes\":{\"children\":[{\"id\":\"7436be0b-0d9c-41ea-ac6f-7070db94a0c5\",\"type\":\"Row\"}]},\"id\":\"dc411042-5e37-4122-a8dc-851e07e013e2\",\"type\":\"Column\"},{\"attributes\":{\"source\":{\"id\":\"ddc55df5-978b-41ea-9f87-16478d7ce6a7\",\"type\":\"ColumnDataSource\"}},\"id\":\"8871276b-69e5-4e01-a909-4e7a7c5fc6eb\",\"type\":\"CDSView\"},{\"attributes\":{\"callback\":null,\"factors\":[\"15-24 a\\u00f1os\",\"25-39 a\\u00f1os\",\"40-64 a\\u00f1os\",\"65 a\\u00f1os y mas\",\"Total nacional\"]},\"id\":\"62b88cf9-509f-4aa1-a70b-cad2a23c6b74\",\"type\":\"FactorRange\"},{\"attributes\":{},\"id\":\"dcf93e87-c87d-4ca7-bf80-2efeccc5c91f\",\"type\":\"PanTool\"},{\"attributes\":{\"fill_color\":{\"value\":\"#F08080\"},\"line_color\":{\"value\":\"white\"},\"top\":{\"field\":\"TOTAL_H_mean\"},\"width\":{\"value\":0.7},\"x\":{\"field\":\"GRANDES_GRUPOS_DE_EDAD\"}},\"id\":\"30f9f099-de8b-4eaf-ade9-10d37f7bc22b\",\"type\":\"VBar\"},{\"attributes\":{},\"id\":\"50e10683-c14f-4268-a284-e5c9e92896fe\",\"type\":\"LinearScale\"},{\"attributes\":{\"callback\":null,\"factors\":[\"15-24 a\\u00f1os\",\"25-39 a\\u00f1os\",\"40-64 a\\u00f1os\",\"65 a\\u00f1os y mas\",\"Total nacional\"]},\"id\":\"24c17f7a-6fbc-4834-af1a-c789a0715f5e\",\"type\":\"FactorRange\"},{\"attributes\":{},\"id\":\"9751a467-19c8-492f-bf2e-307c621bc0eb\",\"type\":\"ResetTool\"},{\"attributes\":{\"plot\":null,\"text\":\"TOTAL MUJERES\"},\"id\":\"b1c35b7a-05f7-4748-9a47-88ebc9c2c42a\",\"type\":\"Title\"},{\"attributes\":{},\"id\":\"f5b4a94a-61b9-4bfc-adca-63fa215542d8\",\"type\":\"BasicTickFormatter\"},{\"attributes\":{},\"id\":\"a7dbd58c-deff-422b-ad4a-12ef10d72733\",\"type\":\"WheelZoomTool\"},{\"attributes\":{\"data_source\":{\"id\":\"ddc55df5-978b-41ea-9f87-16478d7ce6a7\",\"type\":\"ColumnDataSource\"},\"glyph\":{\"id\":\"b5a37a71-3216-4d61-9e76-87f66bfc73c0\",\"type\":\"VBar\"},\"hover_glyph\":null,\"muted_glyph\":null,\"nonselection_glyph\":{\"id\":\"1990d77d-5e06-4979-a151-b1ee7e158146\",\"type\":\"VBar\"},\"selection_glyph\":null,\"view\":{\"id\":\"a9b91b25-83b2-413f-9f78-9fd0ca998a95\",\"type\":\"CDSView\"}},\"id\":\"abab73eb-21e5-406c-9ad7-d2496034f85e\",\"type\":\"GlyphRenderer\"},{\"attributes\":{},\"id\":\"db8e7e17-b2dc-48e5-9cc7-730d0f79f7b1\",\"type\":\"BasicTickFormatter\"},{\"attributes\":{\"data_source\":{\"id\":\"ddc55df5-978b-41ea-9f87-16478d7ce6a7\",\"type\":\"ColumnDataSource\"},\"glyph\":{\"id\":\"30f9f099-de8b-4eaf-ade9-10d37f7bc22b\",\"type\":\"VBar\"},\"hover_glyph\":null,\"muted_glyph\":null,\"nonselection_glyph\":{\"id\":\"97a4d2b6-529b-41d9-a78b-27cb4aada623\",\"type\":\"VBar\"},\"selection_glyph\":null,\"view\":{\"id\":\"8871276b-69e5-4e01-a909-4e7a7c5fc6eb\",\"type\":\"CDSView\"}},\"id\":\"055e8429-c4e1-40ec-b49e-bafdb1455bcd\",\"type\":\"GlyphRenderer\"},{\"attributes\":{},\"id\":\"63ce3891-4b84-4150-a252-5cd0b8d7f237\",\"type\":\"CategoricalScale\"},{\"attributes\":{},\"id\":\"2b0be0f9-7c88-4df9-a279-e008a7e98ede\",\"type\":\"CategoricalScale\"},{\"attributes\":{\"below\":[{\"id\":\"40dd3dee-028c-46de-a3d0-c648b2093897\",\"type\":\"CategoricalAxis\"}],\"left\":[{\"id\":\"97771465-28e8-4068-a42f-946d5c74ad88\",\"type\":\"LinearAxis\"}],\"plot_height\":450,\"plot_width\":450,\"renderers\":[{\"id\":\"40dd3dee-028c-46de-a3d0-c648b2093897\",\"type\":\"CategoricalAxis\"},{\"id\":\"5b8ea7bd-e0ca-48eb-914e-385758263105\",\"type\":\"Grid\"},{\"id\":\"97771465-28e8-4068-a42f-946d5c74ad88\",\"type\":\"LinearAxis\"},{\"id\":\"fa6ff83c-6ee7-4c36-93d6-759fe10a21a4\",\"type\":\"Grid\"},{\"id\":\"0d37667a-46b3-4af4-be77-c0de88eefb43\",\"type\":\"BoxAnnotation\"},{\"id\":\"abab73eb-21e5-406c-9ad7-d2496034f85e\",\"type\":\"GlyphRenderer\"}],\"title\":{\"id\":\"b1c35b7a-05f7-4748-9a47-88ebc9c2c42a\",\"type\":\"Title\"},\"toolbar\":{\"id\":\"2639cbd1-9b78-4d57-b296-6071093910aa\",\"type\":\"Toolbar\"},\"toolbar_location\":null,\"x_range\":{\"id\":\"62b88cf9-509f-4aa1-a70b-cad2a23c6b74\",\"type\":\"FactorRange\"},\"x_scale\":{\"id\":\"63ce3891-4b84-4150-a252-5cd0b8d7f237\",\"type\":\"CategoricalScale\"},\"y_range\":{\"id\":\"bec83013-f522-4ea2-95ec-81909966c3c1\",\"type\":\"DataRange1d\"},\"y_scale\":{\"id\":\"7eb18510-9fa6-48b5-b7da-ef018a323cc8\",\"type\":\"LinearScale\"}},\"id\":\"34d32cb0-5aa3-4d50-9f8e-cec91ecde186\",\"subtype\":\"Figure\",\"type\":\"Plot\"},{\"attributes\":{},\"id\":\"334ff341-7dc3-4c5e-9f8c-ec570f57c286\",\"type\":\"BasicTicker\"},{\"attributes\":{},\"id\":\"bb91c092-e805-47c4-b814-9864215e1b5e\",\"type\":\"ResetTool\"},{\"attributes\":{\"below\":[{\"id\":\"001f121d-0b61-4908-bc8b-e46be6b3b410\",\"type\":\"CategoricalAxis\"}],\"left\":[{\"id\":\"cdd08cd7-5fdf-4224-ad98-677934c96d67\",\"type\":\"LinearAxis\"}],\"plot_height\":450,\"plot_width\":450,\"renderers\":[{\"id\":\"001f121d-0b61-4908-bc8b-e46be6b3b410\",\"type\":\"CategoricalAxis\"},{\"id\":\"4f3b7d62-7cbf-4fd0-b676-f5ccb30023f9\",\"type\":\"Grid\"},{\"id\":\"cdd08cd7-5fdf-4224-ad98-677934c96d67\",\"type\":\"LinearAxis\"},{\"id\":\"48682036-42ee-4707-a771-d71e1a26591b\",\"type\":\"Grid\"},{\"id\":\"65f6d2a3-6a75-450b-9d84-4259623402eb\",\"type\":\"BoxAnnotation\"},{\"id\":\"055e8429-c4e1-40ec-b49e-bafdb1455bcd\",\"type\":\"GlyphRenderer\"}],\"title\":{\"id\":\"60b0f43d-2f43-42f5-8f6b-21c00de552e9\",\"type\":\"Title\"},\"toolbar\":{\"id\":\"7d5c0fb6-30cb-4d77-bea8-000c20308cf8\",\"type\":\"Toolbar\"},\"toolbar_location\":null,\"x_range\":{\"id\":\"24c17f7a-6fbc-4834-af1a-c789a0715f5e\",\"type\":\"FactorRange\"},\"x_scale\":{\"id\":\"2b0be0f9-7c88-4df9-a279-e008a7e98ede\",\"type\":\"CategoricalScale\"},\"y_range\":{\"id\":\"85f16281-8a4b-43fe-98bd-599616df8a8f\",\"type\":\"DataRange1d\"},\"y_scale\":{\"id\":\"50e10683-c14f-4268-a284-e5c9e92896fe\",\"type\":\"LinearScale\"}},\"id\":\"82c2ba96-dc39-462a-8dea-3abcc1863257\",\"subtype\":\"Figure\",\"type\":\"Plot\"},{\"attributes\":{},\"id\":\"d34cb083-4047-4a21-bbc6-a89d6405858a\",\"type\":\"WheelZoomTool\"},{\"attributes\":{\"formatter\":{\"id\":\"db8e7e17-b2dc-48e5-9cc7-730d0f79f7b1\",\"type\":\"BasicTickFormatter\"},\"plot\":{\"id\":\"82c2ba96-dc39-462a-8dea-3abcc1863257\",\"subtype\":\"Figure\",\"type\":\"Plot\"},\"ticker\":{\"id\":\"948ee617-2345-4070-b64d-916659797e37\",\"type\":\"BasicTicker\"}},\"id\":\"cdd08cd7-5fdf-4224-ad98-677934c96d67\",\"type\":\"LinearAxis\"},{\"attributes\":{\"overlay\":{\"id\":\"0d37667a-46b3-4af4-be77-c0de88eefb43\",\"type\":\"BoxAnnotation\"}},\"id\":\"4ee532f5-64b0-43ca-8e16-9c2691e528d5\",\"type\":\"BoxZoomTool\"},{\"attributes\":{},\"id\":\"430f4567-6f3c-4060-b6e1-9345b387474a\",\"type\":\"PanTool\"},{\"attributes\":{\"callback\":null},\"id\":\"85f16281-8a4b-43fe-98bd-599616df8a8f\",\"type\":\"DataRange1d\"},{\"attributes\":{\"fill_alpha\":{\"value\":0.1},\"fill_color\":{\"value\":\"#1f77b4\"},\"line_alpha\":{\"value\":0.1},\"line_color\":{\"value\":\"#1f77b4\"},\"top\":{\"field\":\"TOTAL_H_mean\"},\"width\":{\"value\":0.7},\"x\":{\"field\":\"GRANDES_GRUPOS_DE_EDAD\"}},\"id\":\"97a4d2b6-529b-41d9-a78b-27cb4aada623\",\"type\":\"VBar\"},{\"attributes\":{},\"id\":\"794ecf5c-aa1d-44f2-8215-196d14c892fe\",\"type\":\"CategoricalTickFormatter\"},{\"attributes\":{\"fill_alpha\":{\"value\":0.1},\"fill_color\":{\"value\":\"#1f77b4\"},\"line_alpha\":{\"value\":0.1},\"line_color\":{\"value\":\"#1f77b4\"},\"top\":{\"field\":\"TOTAL_M_mean\"},\"width\":{\"value\":0.7},\"x\":{\"field\":\"GRANDES_GRUPOS_DE_EDAD\"}},\"id\":\"1990d77d-5e06-4979-a151-b1ee7e158146\",\"type\":\"VBar\"},{\"attributes\":{},\"id\":\"948ee617-2345-4070-b64d-916659797e37\",\"type\":\"BasicTicker\"},{\"attributes\":{\"fill_color\":{\"value\":\"#82B1FF\"},\"line_color\":{\"value\":\"white\"},\"top\":{\"field\":\"TOTAL_M_mean\"},\"width\":{\"value\":0.7},\"x\":{\"field\":\"GRANDES_GRUPOS_DE_EDAD\"}},\"id\":\"b5a37a71-3216-4d61-9e76-87f66bfc73c0\",\"type\":\"VBar\"},{\"attributes\":{\"bottom_units\":\"screen\",\"fill_alpha\":{\"value\":0.5},\"fill_color\":{\"value\":\"lightgrey\"},\"left_units\":\"screen\",\"level\":\"overlay\",\"line_alpha\":{\"value\":1.0},\"line_color\":{\"value\":\"black\"},\"line_dash\":[4,4],\"line_width\":{\"value\":2},\"plot\":null,\"render_mode\":\"css\",\"right_units\":\"screen\",\"top_units\":\"screen\"},\"id\":\"0d37667a-46b3-4af4-be77-c0de88eefb43\",\"type\":\"BoxAnnotation\"},{\"attributes\":{\"source\":{\"id\":\"ddc55df5-978b-41ea-9f87-16478d7ce6a7\",\"type\":\"ColumnDataSource\"}},\"id\":\"a9b91b25-83b2-413f-9f78-9fd0ca998a95\",\"type\":\"CDSView\"},{\"attributes\":{\"children\":[{\"id\":\"907c8066-0357-4387-9f8f-62ff6fd47237\",\"type\":\"ToolbarBox\"},{\"id\":\"dc411042-5e37-4122-a8dc-851e07e013e2\",\"type\":\"Column\"}]},\"id\":\"edb63de2-33e2-4796-b395-d5d05fbbd731\",\"type\":\"Column\"},{\"attributes\":{\"dimension\":1,\"plot\":{\"id\":\"82c2ba96-dc39-462a-8dea-3abcc1863257\",\"subtype\":\"Figure\",\"type\":\"Plot\"},\"ticker\":{\"id\":\"948ee617-2345-4070-b64d-916659797e37\",\"type\":\"BasicTicker\"}},\"id\":\"48682036-42ee-4707-a771-d71e1a26591b\",\"type\":\"Grid\"},{\"attributes\":{},\"id\":\"c37743a7-746b-42b7-b31b-11b91b83dfb1\",\"type\":\"CategoricalTicker\"},{\"attributes\":{},\"id\":\"35e0dae0-eca1-4a1f-a7d5-4188a56368b2\",\"type\":\"CategoricalTickFormatter\"},{\"attributes\":{\"formatter\":{\"id\":\"794ecf5c-aa1d-44f2-8215-196d14c892fe\",\"type\":\"CategoricalTickFormatter\"},\"plot\":{\"id\":\"82c2ba96-dc39-462a-8dea-3abcc1863257\",\"subtype\":\"Figure\",\"type\":\"Plot\"},\"ticker\":{\"id\":\"fc812b64-a02d-4f3e-b330-c3cba450ef8d\",\"type\":\"CategoricalTicker\"}},\"id\":\"001f121d-0b61-4908-bc8b-e46be6b3b410\",\"type\":\"CategoricalAxis\"},{\"attributes\":{\"plot\":{\"id\":\"34d32cb0-5aa3-4d50-9f8e-cec91ecde186\",\"subtype\":\"Figure\",\"type\":\"Plot\"},\"ticker\":{\"id\":\"c37743a7-746b-42b7-b31b-11b91b83dfb1\",\"type\":\"CategoricalTicker\"}},\"id\":\"5b8ea7bd-e0ca-48eb-914e-385758263105\",\"type\":\"Grid\"},{\"attributes\":{\"plot\":null,\"text\":\"TOTAL HOMBRES\"},\"id\":\"60b0f43d-2f43-42f5-8f6b-21c00de552e9\",\"type\":\"Title\"},{\"attributes\":{\"children\":[{\"id\":\"34d32cb0-5aa3-4d50-9f8e-cec91ecde186\",\"subtype\":\"Figure\",\"type\":\"Plot\"},{\"id\":\"82c2ba96-dc39-462a-8dea-3abcc1863257\",\"subtype\":\"Figure\",\"type\":\"Plot\"}]},\"id\":\"7436be0b-0d9c-41ea-ac6f-7070db94a0c5\",\"type\":\"Row\"},{\"attributes\":{\"formatter\":{\"id\":\"35e0dae0-eca1-4a1f-a7d5-4188a56368b2\",\"type\":\"CategoricalTickFormatter\"},\"plot\":{\"id\":\"34d32cb0-5aa3-4d50-9f8e-cec91ecde186\",\"subtype\":\"Figure\",\"type\":\"Plot\"},\"ticker\":{\"id\":\"c37743a7-746b-42b7-b31b-11b91b83dfb1\",\"type\":\"CategoricalTicker\"}},\"id\":\"40dd3dee-028c-46de-a3d0-c648b2093897\",\"type\":\"CategoricalAxis\"},{\"attributes\":{\"active_drag\":\"auto\",\"active_inspect\":\"auto\",\"active_scroll\":\"auto\",\"active_tap\":\"auto\",\"tools\":[{\"id\":\"430f4567-6f3c-4060-b6e1-9345b387474a\",\"type\":\"PanTool\"},{\"id\":\"d34cb083-4047-4a21-bbc6-a89d6405858a\",\"type\":\"WheelZoomTool\"},{\"id\":\"b50c63e0-4783-471d-b4f9-a5aac1a3d334\",\"type\":\"BoxZoomTool\"},{\"id\":\"bb91c092-e805-47c4-b814-9864215e1b5e\",\"type\":\"ResetTool\"}]},\"id\":\"7d5c0fb6-30cb-4d77-bea8-000c20308cf8\",\"type\":\"Toolbar\"},{\"attributes\":{},\"id\":\"7eb18510-9fa6-48b5-b7da-ef018a323cc8\",\"type\":\"LinearScale\"},{\"attributes\":{\"active_drag\":\"auto\",\"active_inspect\":\"auto\",\"active_scroll\":\"auto\",\"active_tap\":\"auto\",\"tools\":[{\"id\":\"dcf93e87-c87d-4ca7-bf80-2efeccc5c91f\",\"type\":\"PanTool\"},{\"id\":\"a7dbd58c-deff-422b-ad4a-12ef10d72733\",\"type\":\"WheelZoomTool\"},{\"id\":\"4ee532f5-64b0-43ca-8e16-9c2691e528d5\",\"type\":\"BoxZoomTool\"},{\"id\":\"9751a467-19c8-492f-bf2e-307c621bc0eb\",\"type\":\"ResetTool\"}]},\"id\":\"2639cbd1-9b78-4d57-b296-6071093910aa\",\"type\":\"Toolbar\"},{\"attributes\":{\"sizing_mode\":\"scale_width\",\"toolbar_location\":\"above\",\"tools\":[{\"id\":\"dcf93e87-c87d-4ca7-bf80-2efeccc5c91f\",\"type\":\"PanTool\"},{\"id\":\"a7dbd58c-deff-422b-ad4a-12ef10d72733\",\"type\":\"WheelZoomTool\"},{\"id\":\"4ee532f5-64b0-43ca-8e16-9c2691e528d5\",\"type\":\"BoxZoomTool\"},{\"id\":\"9751a467-19c8-492f-bf2e-307c621bc0eb\",\"type\":\"ResetTool\"},{\"id\":\"430f4567-6f3c-4060-b6e1-9345b387474a\",\"type\":\"PanTool\"},{\"id\":\"d34cb083-4047-4a21-bbc6-a89d6405858a\",\"type\":\"WheelZoomTool\"},{\"id\":\"b50c63e0-4783-471d-b4f9-a5aac1a3d334\",\"type\":\"BoxZoomTool\"},{\"id\":\"bb91c092-e805-47c4-b814-9864215e1b5e\",\"type\":\"ResetTool\"}]},\"id\":\"907c8066-0357-4387-9f8f-62ff6fd47237\",\"type\":\"ToolbarBox\"},{\"attributes\":{\"overlay\":{\"id\":\"65f6d2a3-6a75-450b-9d84-4259623402eb\",\"type\":\"BoxAnnotation\"}},\"id\":\"b50c63e0-4783-471d-b4f9-a5aac1a3d334\",\"type\":\"BoxZoomTool\"},{\"attributes\":{\"callback\":null},\"id\":\"bec83013-f522-4ea2-95ec-81909966c3c1\",\"type\":\"DataRange1d\"},{\"attributes\":{\"plot\":{\"id\":\"82c2ba96-dc39-462a-8dea-3abcc1863257\",\"subtype\":\"Figure\",\"type\":\"Plot\"},\"ticker\":{\"id\":\"fc812b64-a02d-4f3e-b330-c3cba450ef8d\",\"type\":\"CategoricalTicker\"}},\"id\":\"4f3b7d62-7cbf-4fd0-b676-f5ccb30023f9\",\"type\":\"Grid\"},{\"attributes\":{\"dimension\":1,\"plot\":{\"id\":\"34d32cb0-5aa3-4d50-9f8e-cec91ecde186\",\"subtype\":\"Figure\",\"type\":\"Plot\"},\"ticker\":{\"id\":\"334ff341-7dc3-4c5e-9f8c-ec570f57c286\",\"type\":\"BasicTicker\"}},\"id\":\"fa6ff83c-6ee7-4c36-93d6-759fe10a21a4\",\"type\":\"Grid\"},{\"attributes\":{\"callback\":null,\"column_names\":[\"A_RURAL_H_count\",\"A_RURAL_H_mean\",\"A_RURAL_H_std\",\"A_RURAL_H_min\",\"A_RURAL_H_25%\",\"A_RURAL_H_50%\",\"A_RURAL_H_75%\",\"A_RURAL_H_max\",\"A_RURAL_M_count\",\"A_RURAL_M_mean\",\"A_RURAL_M_std\",\"A_RURAL_M_min\",\"A_RURAL_M_25%\",\"A_RURAL_M_50%\",\"A_RURAL_M_75%\",\"A_RURAL_M_max\",\"A_URBANA_H_count\",\"A_URBANA_H_mean\",\"A_URBANA_H_std\",\"A_URBANA_H_min\",\"A_URBANA_H_25%\",\"A_URBANA_H_50%\",\"A_URBANA_H_75%\",\"A_URBANA_H_max\",\"A_URBANA_M_count\",\"A_URBANA_M_mean\",\"A_URBANA_M_std\",\"A_URBANA_M_min\",\"A_URBANA_M_25%\",\"A_URBANA_M_50%\",\"A_URBANA_M_75%\",\"A_URBANA_M_max\",\"TOTAL_H_count\",\"TOTAL_H_mean\",\"TOTAL_H_std\",\"TOTAL_H_min\",\"TOTAL_H_25%\",\"TOTAL_H_50%\",\"TOTAL_H_75%\",\"TOTAL_H_max\",\"TOTAL_M_count\",\"TOTAL_M_mean\",\"TOTAL_M_std\",\"TOTAL_M_min\",\"TOTAL_M_25%\",\"TOTAL_M_50%\",\"TOTAL_M_75%\",\"TOTAL_M_max\",\"GRANDES_GRUPOS_DE_EDAD\"],\"data\":{\"A_RURAL_H_25%\":{\"__ndarray__\":\"eOkmMQisnD+JQWDl0CKrP/T91HjpJsE/wMqhRbbz1T+S7Xw/NV66Pw==\",\"dtype\":\"float64\",\"shape\":[5]},\"A_RURAL_H_50%\":{\"__ndarray__\":\"eOkmMQisnD+JQWDl0CKrP/T91HjpJsE/wMqhRbbz1T+S7Xw/NV66Pw==\",\"dtype\":\"float64\",\"shape\":[5]},\"A_RURAL_H_75%\":{\"__ndarray__\":\"eOkmMQisnD+JQWDl0CKrP/T91HjpJsE/wMqhRbbz1T+S7Xw/NV66Pw==\",\"dtype\":\"float64\",\"shape\":[5]},\"A_RURAL_H_count\":{\"__ndarray__\":\"AAAAAAAA8D8AAAAAAADwPwAAAAAAAPA/AAAAAAAA8D8AAAAAAADwPw==\",\"dtype\":\"float64\",\"shape\":[5]},\"A_RURAL_H_max\":{\"__ndarray__\":\"eOkmMQisnD+JQWDl0CKrP/T91HjpJsE/wMqhRbbz1T+S7Xw/NV66Pw==\",\"dtype\":\"float64\",\"shape\":[5]},\"A_RURAL_H_mean\":{\"__ndarray__\":\"eOkmMQisnD+JQWDl0CKrP/T91HjpJsE/wMqhRbbz1T+S7Xw/NV66Pw==\",\"dtype\":\"float64\",\"shape\":[5]},\"A_RURAL_H_min\":{\"__ndarray__\":\"eOkmMQisnD+JQWDl0CKrP/T91HjpJsE/wMqhRbbz1T+S7Xw/NV66Pw==\",\"dtype\":\"float64\",\"shape\":[5]},\"A_RURAL_H_std\":{\"__ndarray__\":\"AAAAAAAA+H8AAAAAAAD4fwAAAAAAAPh/AAAAAAAA+H8AAAAAAAD4fw==\",\"dtype\":\"float64\",\"shape\":[5]},\"A_RURAL_M_25%\":{\"__ndarray__\":\"mpmZmZmZmT946SYxCKysPz0K16NwPco/AyuHFtnO3z+TGARWDi3CPw==\",\"dtype\":\"float64\",\"shape\":[5]},\"A_RURAL_M_50%\":{\"__ndarray__\":\"mpmZmZmZmT946SYxCKysPz0K16NwPco/AyuHFtnO3z+TGARWDi3CPw==\",\"dtype\":\"float64\",\"shape\":[5]},\"A_RURAL_M_75%\":{\"__ndarray__\":\"mpmZmZmZmT946SYxCKysPz0K16NwPco/AyuHFtnO3z+TGARWDi3CPw==\",\"dtype\":\"float64\",\"shape\":[5]},\"A_RURAL_M_count\":{\"__ndarray__\":\"AAAAAAAA8D8AAAAAAADwPwAAAAAAAPA/AAAAAAAA8D8AAAAAAADwPw==\",\"dtype\":\"float64\",\"shape\":[5]},\"A_RURAL_M_max\":{\"__ndarray__\":\"mpmZmZmZmT946SYxCKysPz0K16NwPco/AyuHFtnO3z+TGARWDi3CPw==\",\"dtype\":\"float64\",\"shape\":[5]},\"A_RURAL_M_mean\":{\"__ndarray__\":\"mpmZmZmZmT946SYxCKysPz0K16NwPco/AyuHFtnO3z+TGARWDi3CPw==\",\"dtype\":\"float64\",\"shape\":[5]},\"A_RURAL_M_min\":{\"__ndarray__\":\"mpmZmZmZmT946SYxCKysPz0K16NwPco/AyuHFtnO3z+TGARWDi3CPw==\",\"dtype\":\"float64\",\"shape\":[5]},\"A_RURAL_M_std\":{\"__ndarray__\":\"AAAAAAAA+H8AAAAAAAD4fwAAAAAAAPh/AAAAAAAA+H8AAAAAAAD4fw==\",\"dtype\":\"float64\",\"shape\":[5]},\"A_URBANA_H_25%\":{\"__ndarray__\":\"+n5qvHSTiD8830+Nl26SP9v5fmq8dKM//Knx0k1iwD9YObTIdr6fPw==\",\"dtype\":\"float64\",\"shape\":[5]},\"A_URBANA_H_50%\":{\"__ndarray__\":\"+n5qvHSTiD8830+Nl26SP9v5fmq8dKM//Knx0k1iwD9YObTIdr6fPw==\",\"dtype\":\"float64\",\"shape\":[5]},\"A_URBANA_H_75%\":{\"__ndarray__\":\"+n5qvHSTiD8830+Nl26SP9v5fmq8dKM//Knx0k1iwD9YObTIdr6fPw==\",\"dtype\":\"float64\",\"shape\":[5]},\"A_URBANA_H_count\":{\"__ndarray__\":\"AAAAAAAA8D8AAAAAAADwPwAAAAAAAPA/AAAAAAAA8D8AAAAAAADwPw==\",\"dtype\":\"float64\",\"shape\":[5]},\"A_URBANA_H_max\":{\"__ndarray__\":\"+n5qvHSTiD8830+Nl26SP9v5fmq8dKM//Knx0k1iwD9YObTIdr6fPw==\",\"dtype\":\"float64\",\"shape\":[5]},\"A_URBANA_H_mean\":{\"__ndarray__\":\"+n5qvHSTiD8830+Nl26SP9v5fmq8dKM//Knx0k1iwD9YObTIdr6fPw==\",\"dtype\":\"float64\",\"shape\":[5]},\"A_URBANA_H_min\":{\"__ndarray__\":\"+n5qvHSTiD8830+Nl26SP9v5fmq8dKM//Knx0k1iwD9YObTIdr6fPw==\",\"dtype\":\"float64\",\"shape\":[5]},\"A_URBANA_H_std\":{\"__ndarray__\":\"AAAAAAAA+H8AAAAAAAD4fwAAAAAAAPh/AAAAAAAA+H8AAAAAAAD4fw==\",\"dtype\":\"float64\",\"shape\":[5]},\"A_URBANA_M_25%\":{\"__ndarray__\":\"PN9PjZdugj+cxCCwcmiRP9rO91Pjpas/9ihcj8L1yD9qvHSTGASmPw==\",\"dtype\":\"float64\",\"shape\":[5]},\"A_URBANA_M_50%\":{\"__ndarray__\":\"PN9PjZdugj+cxCCwcmiRP9rO91Pjpas/9ihcj8L1yD9qvHSTGASmPw==\",\"dtype\":\"float64\",\"shape\":[5]},\"A_URBANA_M_75%\":{\"__ndarray__\":\"PN9PjZdugj+cxCCwcmiRP9rO91Pjpas/9ihcj8L1yD9qvHSTGASmPw==\",\"dtype\":\"float64\",\"shape\":[5]},\"A_URBANA_M_count\":{\"__ndarray__\":\"AAAAAAAA8D8AAAAAAADwPwAAAAAAAPA/AAAAAAAA8D8AAAAAAADwPw==\",\"dtype\":\"float64\",\"shape\":[5]},\"A_URBANA_M_max\":{\"__ndarray__\":\"PN9PjZdugj+cxCCwcmiRP9rO91Pjpas/9ihcj8L1yD9qvHSTGASmPw==\",\"dtype\":\"float64\",\"shape\":[5]},\"A_URBANA_M_mean\":{\"__ndarray__\":\"PN9PjZdugj+cxCCwcmiRP9rO91Pjpas/9ihcj8L1yD9qvHSTGASmPw==\",\"dtype\":\"float64\",\"shape\":[5]},\"A_URBANA_M_min\":{\"__ndarray__\":\"PN9PjZdugj+cxCCwcmiRP9rO91Pjpas/9ihcj8L1yD9qvHSTGASmPw==\",\"dtype\":\"float64\",\"shape\":[5]},\"A_URBANA_M_std\":{\"__ndarray__\":\"AAAAAAAA+H8AAAAAAAD4fwAAAAAAAPh/AAAAAAAA+H8AAAAAAAD4fw==\",\"dtype\":\"float64\",\"shape\":[5]},\"GRANDES_GRUPOS_DE_EDAD\":[\"15-24 a\\u00f1os\",\"25-39 a\\u00f1os\",\"40-64 a\\u00f1os\",\"65 a\\u00f1os y mas\",\"Total nacional\"],\"TOTAL_H_25%\":{\"__ndarray__\":\"PN9PjZdukj+4HoXrUbiePzzfT42XbrI/eOkmMQiszD8YBFYOLbKtPw==\",\"dtype\":\"float64\",\"shape\":[5]},\"TOTAL_H_50%\":{\"__ndarray__\":\"PN9PjZdukj+4HoXrUbiePzzfT42XbrI/eOkmMQiszD8YBFYOLbKtPw==\",\"dtype\":\"float64\",\"shape\":[5]},\"TOTAL_H_75%\":{\"__ndarray__\":\"PN9PjZdukj+4HoXrUbiePzzfT42XbrI/eOkmMQiszD8YBFYOLbKtPw==\",\"dtype\":\"float64\",\"shape\":[5]},\"TOTAL_H_count\":{\"__ndarray__\":\"AAAAAAAA8D8AAAAAAADwPwAAAAAAAPA/AAAAAAAA8D8AAAAAAADwPw==\",\"dtype\":\"float64\",\"shape\":[5]},\"TOTAL_H_max\":{\"__ndarray__\":\"PN9PjZdukj+4HoXrUbiePzzfT42XbrI/eOkmMQiszD8YBFYOLbKtPw==\",\"dtype\":\"float64\",\"shape\":[5]},\"TOTAL_H_mean\":{\"__ndarray__\":\"PN9PjZdukj+4HoXrUbiePzzfT42XbrI/eOkmMQiszD8YBFYOLbKtPw==\",\"dtype\":\"float64\",\"shape\":[5]},\"TOTAL_H_min\":{\"__ndarray__\":\"PN9PjZdukj+4HoXrUbiePzzfT42XbrI/eOkmMQiszD8YBFYOLbKtPw==\",\"dtype\":\"float64\",\"shape\":[5]},\"TOTAL_H_std\":{\"__ndarray__\":\"AAAAAAAA+H8AAAAAAAD4fwAAAAAAAPh/AAAAAAAA+H8AAAAAAAD4fw==\",\"dtype\":\"float64\",\"shape\":[5]},\"TOTAL_M_25%\":{\"__ndarray__\":\"uB6F61G4jj+4HoXrUbiePzq0yHa+n7o/001iEFg51D+DwMqhRbazPw==\",\"dtype\":\"float64\",\"shape\":[5]},\"TOTAL_M_50%\":{\"__ndarray__\":\"uB6F61G4jj+4HoXrUbiePzq0yHa+n7o/001iEFg51D+DwMqhRbazPw==\",\"dtype\":\"float64\",\"shape\":[5]},\"TOTAL_M_75%\":{\"__ndarray__\":\"uB6F61G4jj+4HoXrUbiePzq0yHa+n7o/001iEFg51D+DwMqhRbazPw==\",\"dtype\":\"float64\",\"shape\":[5]},\"TOTAL_M_count\":{\"__ndarray__\":\"AAAAAAAA8D8AAAAAAADwPwAAAAAAAPA/AAAAAAAA8D8AAAAAAADwPw==\",\"dtype\":\"float64\",\"shape\":[5]},\"TOTAL_M_max\":{\"__ndarray__\":\"uB6F61G4jj+4HoXrUbiePzq0yHa+n7o/001iEFg51D+DwMqhRbazPw==\",\"dtype\":\"float64\",\"shape\":[5]},\"TOTAL_M_mean\":{\"__ndarray__\":\"uB6F61G4jj+4HoXrUbiePzq0yHa+n7o/001iEFg51D+DwMqhRbazPw==\",\"dtype\":\"float64\",\"shape\":[5]},\"TOTAL_M_min\":{\"__ndarray__\":\"uB6F61G4jj+4HoXrUbiePzq0yHa+n7o/001iEFg51D+DwMqhRbazPw==\",\"dtype\":\"float64\",\"shape\":[5]},\"TOTAL_M_std\":{\"__ndarray__\":\"AAAAAAAA+H8AAAAAAAD4fwAAAAAAAPh/AAAAAAAA+H8AAAAAAAD4fw==\",\"dtype\":\"float64\",\"shape\":[5]}}},\"id\":\"ddc55df5-978b-41ea-9f87-16478d7ce6a7\",\"type\":\"ColumnDataSource\"},{\"attributes\":{\"bottom_units\":\"screen\",\"fill_alpha\":{\"value\":0.5},\"fill_color\":{\"value\":\"lightgrey\"},\"left_units\":\"screen\",\"level\":\"overlay\",\"line_alpha\":{\"value\":1.0},\"line_color\":{\"value\":\"black\"},\"line_dash\":[4,4],\"line_width\":{\"value\":2},\"plot\":null,\"render_mode\":\"css\",\"right_units\":\"screen\",\"top_units\":\"screen\"},\"id\":\"65f6d2a3-6a75-450b-9d84-4259623402eb\",\"type\":\"BoxAnnotation\"},{\"attributes\":{},\"id\":\"fc812b64-a02d-4f3e-b330-c3cba450ef8d\",\"type\":\"CategoricalTicker\"},{\"attributes\":{\"formatter\":{\"id\":\"f5b4a94a-61b9-4bfc-adca-63fa215542d8\",\"type\":\"BasicTickFormatter\"},\"plot\":{\"id\":\"34d32cb0-5aa3-4d50-9f8e-cec91ecde186\",\"subtype\":\"Figure\",\"type\":\"Plot\"},\"ticker\":{\"id\":\"334ff341-7dc3-4c5e-9f8c-ec570f57c286\",\"type\":\"BasicTicker\"}},\"id\":\"97771465-28e8-4068-a42f-946d5c74ad88\",\"type\":\"LinearAxis\"}],\"root_ids\":[\"edb63de2-33e2-4796-b395-d5d05fbbd731\"]},\"title\":\"Bokeh Application\",\"version\":\"0.12.10\"}};\n",
       "    var render_items = [{\"docid\":\"c5b0b301-cb0a-48e9-831f-373e96886094\",\"elementid\":\"04dab583-93df-468a-aa1e-e80478c63144\",\"modelid\":\"edb63de2-33e2-4796-b395-d5d05fbbd731\"}];\n",
       "\n",
       "    root.Bokeh.embed.embed_items(docs_json, render_items);\n",
       "  }\n",
       "\n",
       "  if (root.Bokeh !== undefined) {\n",
       "    embed_document(root);\n",
       "  } else {\n",
       "    var attempts = 0;\n",
       "    var timer = setInterval(function(root) {\n",
       "      if (root.Bokeh !== undefined) {\n",
       "        embed_document(root);\n",
       "        clearInterval(timer);\n",
       "      }\n",
       "      attempts++;\n",
       "      if (attempts > 100) {\n",
       "        console.log(\"Bokeh: ERROR: Unable to embed document because BokehJS library is missing\")\n",
       "        clearInterval(timer);\n",
       "      }\n",
       "    }, 10, root)\n",
       "  }\n",
       "})(window);"
      ],
      "application/vnd.bokehjs_exec.v0+json": ""
     },
     "metadata": {
      "application/vnd.bokehjs_exec.v0+json": {
       "id": "edb63de2-33e2-4796-b395-d5d05fbbd731"
      }
     },
     "output_type": "display_data"
    }
   ],
   "source": [
    "# Importamos gridplot - para presentar varias graficas en una\n",
    "from bokeh.layouts import gridplot\n",
    "\n",
    "# Agrupamos los valores en base a la columna \"GRANDES_GRUPOS_DE_EDAD\" \n",
    "group1 = tabla1.groupby('GRANDES_GRUPOS_DE_EDAD')\n",
    "\n",
    "# Nos permite obtener Mapas nombres de columnas a secuencias o matrices.\n",
    "source = ColumnDataSource(group1)\n",
    "\n",
    "# Creamos un una variable con un diccionario que alberga las parametros de la figura ha crear\n",
    "options = dict(plot_width=450, plot_height=450, # Tamaño\n",
    "                x_range=group1, # Mandamos el rango de x\n",
    "               tools=\"pan,wheel_zoom,box_zoom,reset\") # Herramientas de bokeh a mostrar\n",
    "\n",
    "# Creamos un objeto de figura y establecemos su tamaño, rango, y le damos un título \n",
    "graph1 = figure(title='TOTAL MUJERES', # Le damos un título\n",
    "               **options # Enviamos los atributos albergados en options\n",
    "              )\n",
    "\n",
    "graph2 = figure(title='TOTAL HOMBRES', **options)\n",
    "\n",
    "graph1.vbar(x='GRANDES_GRUPOS_DE_EDAD', top='TOTAL_M_mean', width=0.7, line_color=\"white\", color=\"#82B1FF\", source=source)\n",
    "graph2.vbar(x='GRANDES_GRUPOS_DE_EDAD', top='TOTAL_H_mean', width=0.7, line_color=\"white\", color=\"#F08080\", source=source)\n",
    "\n",
    "# Creamos una nueva figura que esta compuesta por las dos figuras creadas anteriormente\n",
    "graph = gridplot([[graph1, graph2]])\n",
    "\n",
    "# Mostramos los resultados\n",
    "show(graph)"
   ]
  },
  {
   "cell_type": "code",
   "execution_count": 33,
   "metadata": {},
   "outputs": [
    {
     "data": {
      "text/html": [
       "\n",
       "<div class=\"bk-root\">\n",
       "    <div class=\"bk-plotdiv\" id=\"06fd1d23-e497-4c59-9d83-eff469f11f66\"></div>\n",
       "</div>"
      ]
     },
     "metadata": {},
     "output_type": "display_data"
    },
    {
     "data": {
      "application/javascript": [
       "(function(root) {\n",
       "  function embed_document(root) {\n",
       "    var docs_json = {\"ff2acf6b-6220-421e-8c66-39351a385b05\":{\"roots\":{\"references\":[{\"attributes\":{\"source\":{\"id\":\"904fa6e7-89d6-4a1c-b86b-948e894252b4\",\"type\":\"ColumnDataSource\"}},\"id\":\"bdd4361e-0be9-4bac-a14c-cc1afcf501b3\",\"type\":\"CDSView\"},{\"attributes\":{},\"id\":\"3130bafe-7526-43c4-90d4-e55d5090fd39\",\"type\":\"ResetTool\"},{\"attributes\":{},\"id\":\"e43254ce-f746-4655-b53c-a32d90b18282\",\"type\":\"WheelZoomTool\"},{\"attributes\":{\"formatter\":{\"id\":\"76c87f03-e340-4e4d-9e1f-6248c48c23b4\",\"type\":\"BasicTickFormatter\"},\"plot\":{\"id\":\"68dab7f9-4c54-4d21-a1c9-cf8738f77212\",\"subtype\":\"Figure\",\"type\":\"Plot\"},\"ticker\":{\"id\":\"18400e35-4def-4be0-8680-2c9f174d7558\",\"type\":\"BasicTicker\"}},\"id\":\"59162271-0ebd-4955-9a70-d0f90275f3ba\",\"type\":\"LinearAxis\"},{\"attributes\":{},\"id\":\"69df4b76-ee32-426c-8c0e-d842dc5b44bf\",\"type\":\"HelpTool\"},{\"attributes\":{\"plot\":null,\"text\":\"AREA URBANA - ANALFABETISMO POR AREA Y GRUPOS DE EDAD\"},\"id\":\"8a61e7af-f5d1-4c47-b4ce-c875af058cc5\",\"type\":\"Title\"},{\"attributes\":{\"overlay\":{\"id\":\"88cde713-88f0-415f-b423-64a90ce2cdf7\",\"type\":\"BoxAnnotation\"}},\"id\":\"53daf7bd-1c15-4ae6-80d2-b652d5b83986\",\"type\":\"BoxZoomTool\"},{\"attributes\":{},\"id\":\"9b58dffe-ca09-4304-b2aa-14b40709077f\",\"type\":\"CategoricalTickFormatter\"},{\"attributes\":{},\"id\":\"5f6b8bf9-9e5a-462c-9f35-1e04852c3169\",\"type\":\"SaveTool\"},{\"attributes\":{\"line_alpha\":{\"value\":0.1},\"line_color\":{\"value\":\"#1f77b4\"},\"x\":{\"field\":\"GRANDES_GRUPOS_DE_EDAD\"},\"y\":{\"field\":\"A_URBANA_H_mean\"}},\"id\":\"4478fb5c-412a-4eb9-8933-1a396e09c4f4\",\"type\":\"Line\"},{\"attributes\":{\"grid_line_color\":{\"value\":null},\"plot\":{\"id\":\"68dab7f9-4c54-4d21-a1c9-cf8738f77212\",\"subtype\":\"Figure\",\"type\":\"Plot\"},\"ticker\":{\"id\":\"30734bdd-0dbb-4780-9b28-0f0be92c034a\",\"type\":\"CategoricalTicker\"}},\"id\":\"50e45bfb-0809-4b3e-ba69-f67c737b928a\",\"type\":\"Grid\"},{\"attributes\":{\"below\":[{\"id\":\"9ef4bb75-1b53-4c56-8b6d-d332d71a4590\",\"type\":\"CategoricalAxis\"}],\"left\":[{\"id\":\"59162271-0ebd-4955-9a70-d0f90275f3ba\",\"type\":\"LinearAxis\"}],\"plot_height\":250,\"plot_width\":900,\"renderers\":[{\"id\":\"9ef4bb75-1b53-4c56-8b6d-d332d71a4590\",\"type\":\"CategoricalAxis\"},{\"id\":\"50e45bfb-0809-4b3e-ba69-f67c737b928a\",\"type\":\"Grid\"},{\"id\":\"59162271-0ebd-4955-9a70-d0f90275f3ba\",\"type\":\"LinearAxis\"},{\"id\":\"63fa18cf-eb02-454c-b2c8-fb55079d04c1\",\"type\":\"Grid\"},{\"id\":\"88cde713-88f0-415f-b423-64a90ce2cdf7\",\"type\":\"BoxAnnotation\"},{\"id\":\"3f6ca66e-7153-4e6d-bf9c-42af822fe06e\",\"type\":\"Legend\"},{\"id\":\"4f3155c3-21ab-4bbb-a1b0-f38bd16f5cdd\",\"type\":\"GlyphRenderer\"},{\"id\":\"7f1ebe2d-a2bf-449b-ad77-8fa0fc78b0a1\",\"type\":\"GlyphRenderer\"}],\"title\":{\"id\":\"8a61e7af-f5d1-4c47-b4ce-c875af058cc5\",\"type\":\"Title\"},\"toolbar\":{\"id\":\"f0eb88d6-d249-487b-8a08-6979e156a87c\",\"type\":\"Toolbar\"},\"x_range\":{\"id\":\"6c485a8f-5982-4dc2-8c28-dfd4f03745fb\",\"type\":\"FactorRange\"},\"x_scale\":{\"id\":\"4bc645e2-d718-4f36-abdc-c32d36481239\",\"type\":\"CategoricalScale\"},\"y_range\":{\"id\":\"2cda3cc4-4f9b-4d5f-bb7f-a6e3f7845b67\",\"type\":\"DataRange1d\"},\"y_scale\":{\"id\":\"35b76db4-4789-4c85-9b41-30870b23e7ed\",\"type\":\"LinearScale\"}},\"id\":\"68dab7f9-4c54-4d21-a1c9-cf8738f77212\",\"subtype\":\"Figure\",\"type\":\"Plot\"},{\"attributes\":{\"items\":[{\"id\":\"ace8c79c-0c96-44dd-8611-4021d8328f17\",\"type\":\"LegendItem\"},{\"id\":\"0edc7814-9792-439e-a126-78216df54e4a\",\"type\":\"LegendItem\"}],\"plot\":{\"id\":\"68dab7f9-4c54-4d21-a1c9-cf8738f77212\",\"subtype\":\"Figure\",\"type\":\"Plot\"}},\"id\":\"3f6ca66e-7153-4e6d-bf9c-42af822fe06e\",\"type\":\"Legend\"},{\"attributes\":{\"line_color\":{\"value\":\"#8C9EFF\"},\"x\":{\"field\":\"GRANDES_GRUPOS_DE_EDAD\"},\"y\":{\"field\":\"A_URBANA_H_mean\"}},\"id\":\"05bbdf97-48c4-44c7-bda6-2cfb8a7d5699\",\"type\":\"Line\"},{\"attributes\":{\"callback\":null},\"id\":\"2cda3cc4-4f9b-4d5f-bb7f-a6e3f7845b67\",\"type\":\"DataRange1d\"},{\"attributes\":{},\"id\":\"35b76db4-4789-4c85-9b41-30870b23e7ed\",\"type\":\"LinearScale\"},{\"attributes\":{\"callback\":null,\"column_names\":[\"A_RURAL_H_count\",\"A_RURAL_H_mean\",\"A_RURAL_H_std\",\"A_RURAL_H_min\",\"A_RURAL_H_25%\",\"A_RURAL_H_50%\",\"A_RURAL_H_75%\",\"A_RURAL_H_max\",\"A_RURAL_M_count\",\"A_RURAL_M_mean\",\"A_RURAL_M_std\",\"A_RURAL_M_min\",\"A_RURAL_M_25%\",\"A_RURAL_M_50%\",\"A_RURAL_M_75%\",\"A_RURAL_M_max\",\"A_URBANA_H_count\",\"A_URBANA_H_mean\",\"A_URBANA_H_std\",\"A_URBANA_H_min\",\"A_URBANA_H_25%\",\"A_URBANA_H_50%\",\"A_URBANA_H_75%\",\"A_URBANA_H_max\",\"A_URBANA_M_count\",\"A_URBANA_M_mean\",\"A_URBANA_M_std\",\"A_URBANA_M_min\",\"A_URBANA_M_25%\",\"A_URBANA_M_50%\",\"A_URBANA_M_75%\",\"A_URBANA_M_max\",\"TOTAL_H_count\",\"TOTAL_H_mean\",\"TOTAL_H_std\",\"TOTAL_H_min\",\"TOTAL_H_25%\",\"TOTAL_H_50%\",\"TOTAL_H_75%\",\"TOTAL_H_max\",\"TOTAL_M_count\",\"TOTAL_M_mean\",\"TOTAL_M_std\",\"TOTAL_M_min\",\"TOTAL_M_25%\",\"TOTAL_M_50%\",\"TOTAL_M_75%\",\"TOTAL_M_max\",\"GRANDES_GRUPOS_DE_EDAD\"],\"data\":{\"A_RURAL_H_25%\":{\"__ndarray__\":\"eOkmMQisnD+JQWDl0CKrP/T91HjpJsE/wMqhRbbz1T+S7Xw/NV66Pw==\",\"dtype\":\"float64\",\"shape\":[5]},\"A_RURAL_H_50%\":{\"__ndarray__\":\"eOkmMQisnD+JQWDl0CKrP/T91HjpJsE/wMqhRbbz1T+S7Xw/NV66Pw==\",\"dtype\":\"float64\",\"shape\":[5]},\"A_RURAL_H_75%\":{\"__ndarray__\":\"eOkmMQisnD+JQWDl0CKrP/T91HjpJsE/wMqhRbbz1T+S7Xw/NV66Pw==\",\"dtype\":\"float64\",\"shape\":[5]},\"A_RURAL_H_count\":{\"__ndarray__\":\"AAAAAAAA8D8AAAAAAADwPwAAAAAAAPA/AAAAAAAA8D8AAAAAAADwPw==\",\"dtype\":\"float64\",\"shape\":[5]},\"A_RURAL_H_max\":{\"__ndarray__\":\"eOkmMQisnD+JQWDl0CKrP/T91HjpJsE/wMqhRbbz1T+S7Xw/NV66Pw==\",\"dtype\":\"float64\",\"shape\":[5]},\"A_RURAL_H_mean\":{\"__ndarray__\":\"eOkmMQisnD+JQWDl0CKrP/T91HjpJsE/wMqhRbbz1T+S7Xw/NV66Pw==\",\"dtype\":\"float64\",\"shape\":[5]},\"A_RURAL_H_min\":{\"__ndarray__\":\"eOkmMQisnD+JQWDl0CKrP/T91HjpJsE/wMqhRbbz1T+S7Xw/NV66Pw==\",\"dtype\":\"float64\",\"shape\":[5]},\"A_RURAL_H_std\":{\"__ndarray__\":\"AAAAAAAA+H8AAAAAAAD4fwAAAAAAAPh/AAAAAAAA+H8AAAAAAAD4fw==\",\"dtype\":\"float64\",\"shape\":[5]},\"A_RURAL_M_25%\":{\"__ndarray__\":\"mpmZmZmZmT946SYxCKysPz0K16NwPco/AyuHFtnO3z+TGARWDi3CPw==\",\"dtype\":\"float64\",\"shape\":[5]},\"A_RURAL_M_50%\":{\"__ndarray__\":\"mpmZmZmZmT946SYxCKysPz0K16NwPco/AyuHFtnO3z+TGARWDi3CPw==\",\"dtype\":\"float64\",\"shape\":[5]},\"A_RURAL_M_75%\":{\"__ndarray__\":\"mpmZmZmZmT946SYxCKysPz0K16NwPco/AyuHFtnO3z+TGARWDi3CPw==\",\"dtype\":\"float64\",\"shape\":[5]},\"A_RURAL_M_count\":{\"__ndarray__\":\"AAAAAAAA8D8AAAAAAADwPwAAAAAAAPA/AAAAAAAA8D8AAAAAAADwPw==\",\"dtype\":\"float64\",\"shape\":[5]},\"A_RURAL_M_max\":{\"__ndarray__\":\"mpmZmZmZmT946SYxCKysPz0K16NwPco/AyuHFtnO3z+TGARWDi3CPw==\",\"dtype\":\"float64\",\"shape\":[5]},\"A_RURAL_M_mean\":{\"__ndarray__\":\"mpmZmZmZmT946SYxCKysPz0K16NwPco/AyuHFtnO3z+TGARWDi3CPw==\",\"dtype\":\"float64\",\"shape\":[5]},\"A_RURAL_M_min\":{\"__ndarray__\":\"mpmZmZmZmT946SYxCKysPz0K16NwPco/AyuHFtnO3z+TGARWDi3CPw==\",\"dtype\":\"float64\",\"shape\":[5]},\"A_RURAL_M_std\":{\"__ndarray__\":\"AAAAAAAA+H8AAAAAAAD4fwAAAAAAAPh/AAAAAAAA+H8AAAAAAAD4fw==\",\"dtype\":\"float64\",\"shape\":[5]},\"A_URBANA_H_25%\":{\"__ndarray__\":\"+n5qvHSTiD8830+Nl26SP9v5fmq8dKM//Knx0k1iwD9YObTIdr6fPw==\",\"dtype\":\"float64\",\"shape\":[5]},\"A_URBANA_H_50%\":{\"__ndarray__\":\"+n5qvHSTiD8830+Nl26SP9v5fmq8dKM//Knx0k1iwD9YObTIdr6fPw==\",\"dtype\":\"float64\",\"shape\":[5]},\"A_URBANA_H_75%\":{\"__ndarray__\":\"+n5qvHSTiD8830+Nl26SP9v5fmq8dKM//Knx0k1iwD9YObTIdr6fPw==\",\"dtype\":\"float64\",\"shape\":[5]},\"A_URBANA_H_count\":{\"__ndarray__\":\"AAAAAAAA8D8AAAAAAADwPwAAAAAAAPA/AAAAAAAA8D8AAAAAAADwPw==\",\"dtype\":\"float64\",\"shape\":[5]},\"A_URBANA_H_max\":{\"__ndarray__\":\"+n5qvHSTiD8830+Nl26SP9v5fmq8dKM//Knx0k1iwD9YObTIdr6fPw==\",\"dtype\":\"float64\",\"shape\":[5]},\"A_URBANA_H_mean\":{\"__ndarray__\":\"+n5qvHSTiD8830+Nl26SP9v5fmq8dKM//Knx0k1iwD9YObTIdr6fPw==\",\"dtype\":\"float64\",\"shape\":[5]},\"A_URBANA_H_min\":{\"__ndarray__\":\"+n5qvHSTiD8830+Nl26SP9v5fmq8dKM//Knx0k1iwD9YObTIdr6fPw==\",\"dtype\":\"float64\",\"shape\":[5]},\"A_URBANA_H_std\":{\"__ndarray__\":\"AAAAAAAA+H8AAAAAAAD4fwAAAAAAAPh/AAAAAAAA+H8AAAAAAAD4fw==\",\"dtype\":\"float64\",\"shape\":[5]},\"A_URBANA_M_25%\":{\"__ndarray__\":\"PN9PjZdugj+cxCCwcmiRP9rO91Pjpas/9ihcj8L1yD9qvHSTGASmPw==\",\"dtype\":\"float64\",\"shape\":[5]},\"A_URBANA_M_50%\":{\"__ndarray__\":\"PN9PjZdugj+cxCCwcmiRP9rO91Pjpas/9ihcj8L1yD9qvHSTGASmPw==\",\"dtype\":\"float64\",\"shape\":[5]},\"A_URBANA_M_75%\":{\"__ndarray__\":\"PN9PjZdugj+cxCCwcmiRP9rO91Pjpas/9ihcj8L1yD9qvHSTGASmPw==\",\"dtype\":\"float64\",\"shape\":[5]},\"A_URBANA_M_count\":{\"__ndarray__\":\"AAAAAAAA8D8AAAAAAADwPwAAAAAAAPA/AAAAAAAA8D8AAAAAAADwPw==\",\"dtype\":\"float64\",\"shape\":[5]},\"A_URBANA_M_max\":{\"__ndarray__\":\"PN9PjZdugj+cxCCwcmiRP9rO91Pjpas/9ihcj8L1yD9qvHSTGASmPw==\",\"dtype\":\"float64\",\"shape\":[5]},\"A_URBANA_M_mean\":{\"__ndarray__\":\"PN9PjZdugj+cxCCwcmiRP9rO91Pjpas/9ihcj8L1yD9qvHSTGASmPw==\",\"dtype\":\"float64\",\"shape\":[5]},\"A_URBANA_M_min\":{\"__ndarray__\":\"PN9PjZdugj+cxCCwcmiRP9rO91Pjpas/9ihcj8L1yD9qvHSTGASmPw==\",\"dtype\":\"float64\",\"shape\":[5]},\"A_URBANA_M_std\":{\"__ndarray__\":\"AAAAAAAA+H8AAAAAAAD4fwAAAAAAAPh/AAAAAAAA+H8AAAAAAAD4fw==\",\"dtype\":\"float64\",\"shape\":[5]},\"GRANDES_GRUPOS_DE_EDAD\":[\"15-24 a\\u00f1os\",\"25-39 a\\u00f1os\",\"40-64 a\\u00f1os\",\"65 a\\u00f1os y mas\",\"Total nacional\"],\"TOTAL_H_25%\":{\"__ndarray__\":\"PN9PjZdukj+4HoXrUbiePzzfT42XbrI/eOkmMQiszD8YBFYOLbKtPw==\",\"dtype\":\"float64\",\"shape\":[5]},\"TOTAL_H_50%\":{\"__ndarray__\":\"PN9PjZdukj+4HoXrUbiePzzfT42XbrI/eOkmMQiszD8YBFYOLbKtPw==\",\"dtype\":\"float64\",\"shape\":[5]},\"TOTAL_H_75%\":{\"__ndarray__\":\"PN9PjZdukj+4HoXrUbiePzzfT42XbrI/eOkmMQiszD8YBFYOLbKtPw==\",\"dtype\":\"float64\",\"shape\":[5]},\"TOTAL_H_count\":{\"__ndarray__\":\"AAAAAAAA8D8AAAAAAADwPwAAAAAAAPA/AAAAAAAA8D8AAAAAAADwPw==\",\"dtype\":\"float64\",\"shape\":[5]},\"TOTAL_H_max\":{\"__ndarray__\":\"PN9PjZdukj+4HoXrUbiePzzfT42XbrI/eOkmMQiszD8YBFYOLbKtPw==\",\"dtype\":\"float64\",\"shape\":[5]},\"TOTAL_H_mean\":{\"__ndarray__\":\"PN9PjZdukj+4HoXrUbiePzzfT42XbrI/eOkmMQiszD8YBFYOLbKtPw==\",\"dtype\":\"float64\",\"shape\":[5]},\"TOTAL_H_min\":{\"__ndarray__\":\"PN9PjZdukj+4HoXrUbiePzzfT42XbrI/eOkmMQiszD8YBFYOLbKtPw==\",\"dtype\":\"float64\",\"shape\":[5]},\"TOTAL_H_std\":{\"__ndarray__\":\"AAAAAAAA+H8AAAAAAAD4fwAAAAAAAPh/AAAAAAAA+H8AAAAAAAD4fw==\",\"dtype\":\"float64\",\"shape\":[5]},\"TOTAL_M_25%\":{\"__ndarray__\":\"uB6F61G4jj+4HoXrUbiePzq0yHa+n7o/001iEFg51D+DwMqhRbazPw==\",\"dtype\":\"float64\",\"shape\":[5]},\"TOTAL_M_50%\":{\"__ndarray__\":\"uB6F61G4jj+4HoXrUbiePzq0yHa+n7o/001iEFg51D+DwMqhRbazPw==\",\"dtype\":\"float64\",\"shape\":[5]},\"TOTAL_M_75%\":{\"__ndarray__\":\"uB6F61G4jj+4HoXrUbiePzq0yHa+n7o/001iEFg51D+DwMqhRbazPw==\",\"dtype\":\"float64\",\"shape\":[5]},\"TOTAL_M_count\":{\"__ndarray__\":\"AAAAAAAA8D8AAAAAAADwPwAAAAAAAPA/AAAAAAAA8D8AAAAAAADwPw==\",\"dtype\":\"float64\",\"shape\":[5]},\"TOTAL_M_max\":{\"__ndarray__\":\"uB6F61G4jj+4HoXrUbiePzq0yHa+n7o/001iEFg51D+DwMqhRbazPw==\",\"dtype\":\"float64\",\"shape\":[5]},\"TOTAL_M_mean\":{\"__ndarray__\":\"uB6F61G4jj+4HoXrUbiePzq0yHa+n7o/001iEFg51D+DwMqhRbazPw==\",\"dtype\":\"float64\",\"shape\":[5]},\"TOTAL_M_min\":{\"__ndarray__\":\"uB6F61G4jj+4HoXrUbiePzq0yHa+n7o/001iEFg51D+DwMqhRbazPw==\",\"dtype\":\"float64\",\"shape\":[5]},\"TOTAL_M_std\":{\"__ndarray__\":\"AAAAAAAA+H8AAAAAAAD4fwAAAAAAAPh/AAAAAAAA+H8AAAAAAAD4fw==\",\"dtype\":\"float64\",\"shape\":[5]}}},\"id\":\"904fa6e7-89d6-4a1c-b86b-948e894252b4\",\"type\":\"ColumnDataSource\"},{\"attributes\":{\"source\":{\"id\":\"904fa6e7-89d6-4a1c-b86b-948e894252b4\",\"type\":\"ColumnDataSource\"}},\"id\":\"e49b5e0c-02f0-49e5-a841-ee3622b3f2f3\",\"type\":\"CDSView\"},{\"attributes\":{},\"id\":\"4bc645e2-d718-4f36-abdc-c32d36481239\",\"type\":\"CategoricalScale\"},{\"attributes\":{},\"id\":\"30734bdd-0dbb-4780-9b28-0f0be92c034a\",\"type\":\"CategoricalTicker\"},{\"attributes\":{\"dimension\":1,\"grid_line_color\":{\"value\":null},\"plot\":{\"id\":\"68dab7f9-4c54-4d21-a1c9-cf8738f77212\",\"subtype\":\"Figure\",\"type\":\"Plot\"},\"ticker\":{\"id\":\"18400e35-4def-4be0-8680-2c9f174d7558\",\"type\":\"BasicTicker\"}},\"id\":\"63fa18cf-eb02-454c-b2c8-fb55079d04c1\",\"type\":\"Grid\"},{\"attributes\":{\"line_alpha\":{\"value\":0.1},\"line_color\":{\"value\":\"#1f77b4\"},\"x\":{\"field\":\"GRANDES_GRUPOS_DE_EDAD\"},\"y\":{\"field\":\"A_URBANA_M_mean\"}},\"id\":\"3ad4bc7d-d9a4-473f-9add-0fe0aeee0bd9\",\"type\":\"Line\"},{\"attributes\":{\"bottom_units\":\"screen\",\"fill_alpha\":{\"value\":0.5},\"fill_color\":{\"value\":\"lightgrey\"},\"left_units\":\"screen\",\"level\":\"overlay\",\"line_alpha\":{\"value\":1.0},\"line_color\":{\"value\":\"black\"},\"line_dash\":[4,4],\"line_width\":{\"value\":2},\"plot\":null,\"render_mode\":\"css\",\"right_units\":\"screen\",\"top_units\":\"screen\"},\"id\":\"88cde713-88f0-415f-b423-64a90ce2cdf7\",\"type\":\"BoxAnnotation\"},{\"attributes\":{\"data_source\":{\"id\":\"904fa6e7-89d6-4a1c-b86b-948e894252b4\",\"type\":\"ColumnDataSource\"},\"glyph\":{\"id\":\"05bbdf97-48c4-44c7-bda6-2cfb8a7d5699\",\"type\":\"Line\"},\"hover_glyph\":null,\"muted_glyph\":null,\"nonselection_glyph\":{\"id\":\"4478fb5c-412a-4eb9-8933-1a396e09c4f4\",\"type\":\"Line\"},\"selection_glyph\":null,\"view\":{\"id\":\"e49b5e0c-02f0-49e5-a841-ee3622b3f2f3\",\"type\":\"CDSView\"}},\"id\":\"7f1ebe2d-a2bf-449b-ad77-8fa0fc78b0a1\",\"type\":\"GlyphRenderer\"},{\"attributes\":{\"label\":{\"value\":\"HOMBRES\"},\"renderers\":[{\"id\":\"7f1ebe2d-a2bf-449b-ad77-8fa0fc78b0a1\",\"type\":\"GlyphRenderer\"}]},\"id\":\"0edc7814-9792-439e-a126-78216df54e4a\",\"type\":\"LegendItem\"},{\"attributes\":{},\"id\":\"18400e35-4def-4be0-8680-2c9f174d7558\",\"type\":\"BasicTicker\"},{\"attributes\":{\"callback\":null,\"factors\":[\"15-24 a\\u00f1os\",\"25-39 a\\u00f1os\",\"40-64 a\\u00f1os\",\"65 a\\u00f1os y mas\",\"Total nacional\"]},\"id\":\"6c485a8f-5982-4dc2-8c28-dfd4f03745fb\",\"type\":\"FactorRange\"},{\"attributes\":{},\"id\":\"70f1b9dd-346e-4dd7-9771-1ac2c14be73a\",\"type\":\"PanTool\"},{\"attributes\":{},\"id\":\"76c87f03-e340-4e4d-9e1f-6248c48c23b4\",\"type\":\"BasicTickFormatter\"},{\"attributes\":{\"active_drag\":\"auto\",\"active_inspect\":\"auto\",\"active_scroll\":\"auto\",\"active_tap\":\"auto\",\"tools\":[{\"id\":\"70f1b9dd-346e-4dd7-9771-1ac2c14be73a\",\"type\":\"PanTool\"},{\"id\":\"e43254ce-f746-4655-b53c-a32d90b18282\",\"type\":\"WheelZoomTool\"},{\"id\":\"53daf7bd-1c15-4ae6-80d2-b652d5b83986\",\"type\":\"BoxZoomTool\"},{\"id\":\"5f6b8bf9-9e5a-462c-9f35-1e04852c3169\",\"type\":\"SaveTool\"},{\"id\":\"3130bafe-7526-43c4-90d4-e55d5090fd39\",\"type\":\"ResetTool\"},{\"id\":\"69df4b76-ee32-426c-8c0e-d842dc5b44bf\",\"type\":\"HelpTool\"}]},\"id\":\"f0eb88d6-d249-487b-8a08-6979e156a87c\",\"type\":\"Toolbar\"},{\"attributes\":{\"label\":{\"value\":\"MUJERES\"},\"renderers\":[{\"id\":\"4f3155c3-21ab-4bbb-a1b0-f38bd16f5cdd\",\"type\":\"GlyphRenderer\"}]},\"id\":\"ace8c79c-0c96-44dd-8611-4021d8328f17\",\"type\":\"LegendItem\"},{\"attributes\":{\"formatter\":{\"id\":\"9b58dffe-ca09-4304-b2aa-14b40709077f\",\"type\":\"CategoricalTickFormatter\"},\"plot\":{\"id\":\"68dab7f9-4c54-4d21-a1c9-cf8738f77212\",\"subtype\":\"Figure\",\"type\":\"Plot\"},\"ticker\":{\"id\":\"30734bdd-0dbb-4780-9b28-0f0be92c034a\",\"type\":\"CategoricalTicker\"}},\"id\":\"9ef4bb75-1b53-4c56-8b6d-d332d71a4590\",\"type\":\"CategoricalAxis\"},{\"attributes\":{\"data_source\":{\"id\":\"904fa6e7-89d6-4a1c-b86b-948e894252b4\",\"type\":\"ColumnDataSource\"},\"glyph\":{\"id\":\"6e85e081-99b9-4bc5-9484-1765e5b657b4\",\"type\":\"Line\"},\"hover_glyph\":null,\"muted_glyph\":null,\"nonselection_glyph\":{\"id\":\"3ad4bc7d-d9a4-473f-9add-0fe0aeee0bd9\",\"type\":\"Line\"},\"selection_glyph\":null,\"view\":{\"id\":\"bdd4361e-0be9-4bac-a14c-cc1afcf501b3\",\"type\":\"CDSView\"}},\"id\":\"4f3155c3-21ab-4bbb-a1b0-f38bd16f5cdd\",\"type\":\"GlyphRenderer\"},{\"attributes\":{\"line_color\":{\"value\":\"#B388FF\"},\"x\":{\"field\":\"GRANDES_GRUPOS_DE_EDAD\"},\"y\":{\"field\":\"A_URBANA_M_mean\"}},\"id\":\"6e85e081-99b9-4bc5-9484-1765e5b657b4\",\"type\":\"Line\"}],\"root_ids\":[\"68dab7f9-4c54-4d21-a1c9-cf8738f77212\"]},\"title\":\"Bokeh Application\",\"version\":\"0.12.10\"}};\n",
       "    var render_items = [{\"docid\":\"ff2acf6b-6220-421e-8c66-39351a385b05\",\"elementid\":\"06fd1d23-e497-4c59-9d83-eff469f11f66\",\"modelid\":\"68dab7f9-4c54-4d21-a1c9-cf8738f77212\"}];\n",
       "\n",
       "    root.Bokeh.embed.embed_items(docs_json, render_items);\n",
       "  }\n",
       "\n",
       "  if (root.Bokeh !== undefined) {\n",
       "    embed_document(root);\n",
       "  } else {\n",
       "    var attempts = 0;\n",
       "    var timer = setInterval(function(root) {\n",
       "      if (root.Bokeh !== undefined) {\n",
       "        embed_document(root);\n",
       "        clearInterval(timer);\n",
       "      }\n",
       "      attempts++;\n",
       "      if (attempts > 100) {\n",
       "        console.log(\"Bokeh: ERROR: Unable to embed document because BokehJS library is missing\")\n",
       "        clearInterval(timer);\n",
       "      }\n",
       "    }, 10, root)\n",
       "  }\n",
       "})(window);"
      ],
      "application/vnd.bokehjs_exec.v0+json": ""
     },
     "metadata": {
      "application/vnd.bokehjs_exec.v0+json": {
       "id": "68dab7f9-4c54-4d21-a1c9-cf8738f77212"
      }
     },
     "output_type": "display_data"
    }
   ],
   "source": [
    "group1 = tabla1.groupby('GRANDES_GRUPOS_DE_EDAD')\n",
    "\n",
    "source = ColumnDataSource(group1)\n",
    "\n",
    "# Creamos un objeto de figura y establecemos su tamaño, rango, y le damos un título \n",
    "graph1 = figure(plot_height=250, plot_width=900, x_range=group1,  title='AREA URBANA - ANALFABETISMO POR AREA Y GRUPOS DE EDAD')\n",
    "\n",
    "\n",
    "graph1.line(\n",
    "    x='GRANDES_GRUPOS_DE_EDAD', \n",
    "    y='A_URBANA_M_mean', \n",
    "    color='#B388FF', \n",
    "    legend='MUJERES', # Nos permite generar un cuadro de legendas predeterminado\n",
    "    source=source\n",
    ")\n",
    "\n",
    "graph1.line(x='GRANDES_GRUPOS_DE_EDAD', y='A_URBANA_H_mean', color='#8C9EFF', legend='HOMBRES', source=source)\n",
    "\n",
    "# No mostramos ningun trasado del plano\n",
    "graph1.xgrid.grid_line_color = None\n",
    "graph1.ygrid.grid_line_color = None\n",
    "\n",
    "show(graph1)"
   ]
  },
  {
   "cell_type": "code",
   "execution_count": 34,
   "metadata": {},
   "outputs": [
    {
     "data": {
      "text/html": [
       "\n",
       "<div class=\"bk-root\">\n",
       "    <div class=\"bk-plotdiv\" id=\"eda207f5-9756-4e44-83da-8d1c7d8d269e\"></div>\n",
       "</div>"
      ]
     },
     "metadata": {},
     "output_type": "display_data"
    },
    {
     "data": {
      "application/javascript": [
       "(function(root) {\n",
       "  function embed_document(root) {\n",
       "    var docs_json = {\"8dbf7911-1d03-4d23-81f0-c35d8c9e0efc\":{\"roots\":{\"references\":[{\"attributes\":{},\"id\":\"a87bb1a7-c12a-40fa-aaa9-874dbba8bfc9\",\"type\":\"PanTool\"},{\"attributes\":{\"children\":[{\"id\":\"984c803d-78ce-4acc-a365-7e33dc1ac647\",\"subtype\":\"Figure\",\"type\":\"Plot\"},{\"id\":\"0e69925b-5383-4863-92c9-479b13ae66ab\",\"subtype\":\"Figure\",\"type\":\"Plot\"}]},\"id\":\"27f2ec79-5e78-428d-a6e5-c384fb522fdd\",\"type\":\"Row\"},{\"attributes\":{},\"id\":\"a7081bdb-f192-4618-8bb2-02a5632a90ba\",\"type\":\"CategoricalTickFormatter\"},{\"attributes\":{\"bottom_units\":\"screen\",\"fill_alpha\":{\"value\":0.5},\"fill_color\":{\"value\":\"lightgrey\"},\"left_units\":\"screen\",\"level\":\"overlay\",\"line_alpha\":{\"value\":1.0},\"line_color\":{\"value\":\"black\"},\"line_dash\":[4,4],\"line_width\":{\"value\":2},\"plot\":null,\"render_mode\":\"css\",\"right_units\":\"screen\",\"top_units\":\"screen\"},\"id\":\"919acb17-f9ac-4787-b2f3-28e138ca8338\",\"type\":\"BoxAnnotation\"},{\"attributes\":{},\"id\":\"7420c367-de1a-4d09-8030-5c18f7d78c90\",\"type\":\"ResetTool\"},{\"attributes\":{\"below\":[{\"id\":\"1ae022b2-3f9d-443e-aa2e-7a89d71b69fb\",\"type\":\"LinearAxis\"}],\"left\":[{\"id\":\"2563a002-a525-4168-9241-44a7b3a28daf\",\"type\":\"CategoricalAxis\"}],\"plot_height\":450,\"plot_width\":480,\"renderers\":[{\"id\":\"1ae022b2-3f9d-443e-aa2e-7a89d71b69fb\",\"type\":\"LinearAxis\"},{\"id\":\"d2ff0166-28b3-4c56-99d3-ac451476c94b\",\"type\":\"Grid\"},{\"id\":\"2563a002-a525-4168-9241-44a7b3a28daf\",\"type\":\"CategoricalAxis\"},{\"id\":\"0a12d40f-d6de-4976-8eab-c3eba24291e7\",\"type\":\"Grid\"},{\"id\":\"deb8609c-f6dd-4e02-a44b-d78e543ed836\",\"type\":\"BoxAnnotation\"},{\"id\":\"7dbd50b2-a4a0-4ec1-987a-7f73c6bb2b18\",\"type\":\"GlyphRenderer\"}],\"title\":{\"id\":\"cda4708f-f5bb-4d27-b661-7064c7644408\",\"type\":\"Title\"},\"toolbar\":{\"id\":\"d80a1b85-917c-4495-b0ac-479d00462de2\",\"type\":\"Toolbar\"},\"toolbar_location\":null,\"x_range\":{\"id\":\"b585c722-ae0a-4ed4-925b-544969993841\",\"type\":\"DataRange1d\"},\"x_scale\":{\"id\":\"455eae82-e9a7-4359-872c-c1268a979ce1\",\"type\":\"LinearScale\"},\"y_range\":{\"id\":\"4dcb6d00-7748-46c1-960f-edd732a3215c\",\"type\":\"FactorRange\"},\"y_scale\":{\"id\":\"1b56aaaf-5b5a-4862-9ab8-c6da0411c2de\",\"type\":\"CategoricalScale\"}},\"id\":\"984c803d-78ce-4acc-a365-7e33dc1ac647\",\"subtype\":\"Figure\",\"type\":\"Plot\"},{\"attributes\":{},\"id\":\"c7129b02-5e76-4c74-80e4-5d91010f4658\",\"type\":\"BasicTickFormatter\"},{\"attributes\":{},\"id\":\"143da2f6-da51-494a-92b8-83f2489023ef\",\"type\":\"ResetTool\"},{\"attributes\":{\"plot\":null,\"text\":\"AREA RURAL - HOMBRES\"},\"id\":\"4fae4ad3-8206-4bee-9e68-dcd080dea411\",\"type\":\"Title\"},{\"attributes\":{\"active_drag\":\"auto\",\"active_inspect\":\"auto\",\"active_scroll\":\"auto\",\"active_tap\":\"auto\",\"tools\":[{\"id\":\"a87bb1a7-c12a-40fa-aaa9-874dbba8bfc9\",\"type\":\"PanTool\"},{\"id\":\"ab4f4cf9-6414-4c98-960e-4b7a66d4db55\",\"type\":\"WheelZoomTool\"},{\"id\":\"e36f6f34-ab0a-4751-a284-d0bfb1e18485\",\"type\":\"BoxZoomTool\"},{\"id\":\"143da2f6-da51-494a-92b8-83f2489023ef\",\"type\":\"ResetTool\"}]},\"id\":\"d80a1b85-917c-4495-b0ac-479d00462de2\",\"type\":\"Toolbar\"},{\"attributes\":{\"callback\":null},\"id\":\"a2fa78c8-b349-42fb-bbe6-1cdb68076249\",\"type\":\"DataRange1d\"},{\"attributes\":{\"children\":[{\"id\":\"27f2ec79-5e78-428d-a6e5-c384fb522fdd\",\"type\":\"Row\"}]},\"id\":\"c5887c31-cd28-47d9-b536-46969b358aa0\",\"type\":\"Column\"},{\"attributes\":{},\"id\":\"4603a6bd-780d-40a4-9d9c-596d82833ca0\",\"type\":\"LinearScale\"},{\"attributes\":{\"callback\":null,\"column_names\":[\"A_RURAL_H_count\",\"A_RURAL_H_mean\",\"A_RURAL_H_std\",\"A_RURAL_H_min\",\"A_RURAL_H_25%\",\"A_RURAL_H_50%\",\"A_RURAL_H_75%\",\"A_RURAL_H_max\",\"A_RURAL_M_count\",\"A_RURAL_M_mean\",\"A_RURAL_M_std\",\"A_RURAL_M_min\",\"A_RURAL_M_25%\",\"A_RURAL_M_50%\",\"A_RURAL_M_75%\",\"A_RURAL_M_max\",\"A_URBANA_H_count\",\"A_URBANA_H_mean\",\"A_URBANA_H_std\",\"A_URBANA_H_min\",\"A_URBANA_H_25%\",\"A_URBANA_H_50%\",\"A_URBANA_H_75%\",\"A_URBANA_H_max\",\"A_URBANA_M_count\",\"A_URBANA_M_mean\",\"A_URBANA_M_std\",\"A_URBANA_M_min\",\"A_URBANA_M_25%\",\"A_URBANA_M_50%\",\"A_URBANA_M_75%\",\"A_URBANA_M_max\",\"TOTAL_H_count\",\"TOTAL_H_mean\",\"TOTAL_H_std\",\"TOTAL_H_min\",\"TOTAL_H_25%\",\"TOTAL_H_50%\",\"TOTAL_H_75%\",\"TOTAL_H_max\",\"TOTAL_M_count\",\"TOTAL_M_mean\",\"TOTAL_M_std\",\"TOTAL_M_min\",\"TOTAL_M_25%\",\"TOTAL_M_50%\",\"TOTAL_M_75%\",\"TOTAL_M_max\",\"GRANDES_GRUPOS_DE_EDAD\"],\"data\":{\"A_RURAL_H_25%\":{\"__ndarray__\":\"eOkmMQisnD+JQWDl0CKrP/T91HjpJsE/wMqhRbbz1T+S7Xw/NV66Pw==\",\"dtype\":\"float64\",\"shape\":[5]},\"A_RURAL_H_50%\":{\"__ndarray__\":\"eOkmMQisnD+JQWDl0CKrP/T91HjpJsE/wMqhRbbz1T+S7Xw/NV66Pw==\",\"dtype\":\"float64\",\"shape\":[5]},\"A_RURAL_H_75%\":{\"__ndarray__\":\"eOkmMQisnD+JQWDl0CKrP/T91HjpJsE/wMqhRbbz1T+S7Xw/NV66Pw==\",\"dtype\":\"float64\",\"shape\":[5]},\"A_RURAL_H_count\":{\"__ndarray__\":\"AAAAAAAA8D8AAAAAAADwPwAAAAAAAPA/AAAAAAAA8D8AAAAAAADwPw==\",\"dtype\":\"float64\",\"shape\":[5]},\"A_RURAL_H_max\":{\"__ndarray__\":\"eOkmMQisnD+JQWDl0CKrP/T91HjpJsE/wMqhRbbz1T+S7Xw/NV66Pw==\",\"dtype\":\"float64\",\"shape\":[5]},\"A_RURAL_H_mean\":{\"__ndarray__\":\"eOkmMQisnD+JQWDl0CKrP/T91HjpJsE/wMqhRbbz1T+S7Xw/NV66Pw==\",\"dtype\":\"float64\",\"shape\":[5]},\"A_RURAL_H_min\":{\"__ndarray__\":\"eOkmMQisnD+JQWDl0CKrP/T91HjpJsE/wMqhRbbz1T+S7Xw/NV66Pw==\",\"dtype\":\"float64\",\"shape\":[5]},\"A_RURAL_H_std\":{\"__ndarray__\":\"AAAAAAAA+H8AAAAAAAD4fwAAAAAAAPh/AAAAAAAA+H8AAAAAAAD4fw==\",\"dtype\":\"float64\",\"shape\":[5]},\"A_RURAL_M_25%\":{\"__ndarray__\":\"mpmZmZmZmT946SYxCKysPz0K16NwPco/AyuHFtnO3z+TGARWDi3CPw==\",\"dtype\":\"float64\",\"shape\":[5]},\"A_RURAL_M_50%\":{\"__ndarray__\":\"mpmZmZmZmT946SYxCKysPz0K16NwPco/AyuHFtnO3z+TGARWDi3CPw==\",\"dtype\":\"float64\",\"shape\":[5]},\"A_RURAL_M_75%\":{\"__ndarray__\":\"mpmZmZmZmT946SYxCKysPz0K16NwPco/AyuHFtnO3z+TGARWDi3CPw==\",\"dtype\":\"float64\",\"shape\":[5]},\"A_RURAL_M_count\":{\"__ndarray__\":\"AAAAAAAA8D8AAAAAAADwPwAAAAAAAPA/AAAAAAAA8D8AAAAAAADwPw==\",\"dtype\":\"float64\",\"shape\":[5]},\"A_RURAL_M_max\":{\"__ndarray__\":\"mpmZmZmZmT946SYxCKysPz0K16NwPco/AyuHFtnO3z+TGARWDi3CPw==\",\"dtype\":\"float64\",\"shape\":[5]},\"A_RURAL_M_mean\":{\"__ndarray__\":\"mpmZmZmZmT946SYxCKysPz0K16NwPco/AyuHFtnO3z+TGARWDi3CPw==\",\"dtype\":\"float64\",\"shape\":[5]},\"A_RURAL_M_min\":{\"__ndarray__\":\"mpmZmZmZmT946SYxCKysPz0K16NwPco/AyuHFtnO3z+TGARWDi3CPw==\",\"dtype\":\"float64\",\"shape\":[5]},\"A_RURAL_M_std\":{\"__ndarray__\":\"AAAAAAAA+H8AAAAAAAD4fwAAAAAAAPh/AAAAAAAA+H8AAAAAAAD4fw==\",\"dtype\":\"float64\",\"shape\":[5]},\"A_URBANA_H_25%\":{\"__ndarray__\":\"+n5qvHSTiD8830+Nl26SP9v5fmq8dKM//Knx0k1iwD9YObTIdr6fPw==\",\"dtype\":\"float64\",\"shape\":[5]},\"A_URBANA_H_50%\":{\"__ndarray__\":\"+n5qvHSTiD8830+Nl26SP9v5fmq8dKM//Knx0k1iwD9YObTIdr6fPw==\",\"dtype\":\"float64\",\"shape\":[5]},\"A_URBANA_H_75%\":{\"__ndarray__\":\"+n5qvHSTiD8830+Nl26SP9v5fmq8dKM//Knx0k1iwD9YObTIdr6fPw==\",\"dtype\":\"float64\",\"shape\":[5]},\"A_URBANA_H_count\":{\"__ndarray__\":\"AAAAAAAA8D8AAAAAAADwPwAAAAAAAPA/AAAAAAAA8D8AAAAAAADwPw==\",\"dtype\":\"float64\",\"shape\":[5]},\"A_URBANA_H_max\":{\"__ndarray__\":\"+n5qvHSTiD8830+Nl26SP9v5fmq8dKM//Knx0k1iwD9YObTIdr6fPw==\",\"dtype\":\"float64\",\"shape\":[5]},\"A_URBANA_H_mean\":{\"__ndarray__\":\"+n5qvHSTiD8830+Nl26SP9v5fmq8dKM//Knx0k1iwD9YObTIdr6fPw==\",\"dtype\":\"float64\",\"shape\":[5]},\"A_URBANA_H_min\":{\"__ndarray__\":\"+n5qvHSTiD8830+Nl26SP9v5fmq8dKM//Knx0k1iwD9YObTIdr6fPw==\",\"dtype\":\"float64\",\"shape\":[5]},\"A_URBANA_H_std\":{\"__ndarray__\":\"AAAAAAAA+H8AAAAAAAD4fwAAAAAAAPh/AAAAAAAA+H8AAAAAAAD4fw==\",\"dtype\":\"float64\",\"shape\":[5]},\"A_URBANA_M_25%\":{\"__ndarray__\":\"PN9PjZdugj+cxCCwcmiRP9rO91Pjpas/9ihcj8L1yD9qvHSTGASmPw==\",\"dtype\":\"float64\",\"shape\":[5]},\"A_URBANA_M_50%\":{\"__ndarray__\":\"PN9PjZdugj+cxCCwcmiRP9rO91Pjpas/9ihcj8L1yD9qvHSTGASmPw==\",\"dtype\":\"float64\",\"shape\":[5]},\"A_URBANA_M_75%\":{\"__ndarray__\":\"PN9PjZdugj+cxCCwcmiRP9rO91Pjpas/9ihcj8L1yD9qvHSTGASmPw==\",\"dtype\":\"float64\",\"shape\":[5]},\"A_URBANA_M_count\":{\"__ndarray__\":\"AAAAAAAA8D8AAAAAAADwPwAAAAAAAPA/AAAAAAAA8D8AAAAAAADwPw==\",\"dtype\":\"float64\",\"shape\":[5]},\"A_URBANA_M_max\":{\"__ndarray__\":\"PN9PjZdugj+cxCCwcmiRP9rO91Pjpas/9ihcj8L1yD9qvHSTGASmPw==\",\"dtype\":\"float64\",\"shape\":[5]},\"A_URBANA_M_mean\":{\"__ndarray__\":\"PN9PjZdugj+cxCCwcmiRP9rO91Pjpas/9ihcj8L1yD9qvHSTGASmPw==\",\"dtype\":\"float64\",\"shape\":[5]},\"A_URBANA_M_min\":{\"__ndarray__\":\"PN9PjZdugj+cxCCwcmiRP9rO91Pjpas/9ihcj8L1yD9qvHSTGASmPw==\",\"dtype\":\"float64\",\"shape\":[5]},\"A_URBANA_M_std\":{\"__ndarray__\":\"AAAAAAAA+H8AAAAAAAD4fwAAAAAAAPh/AAAAAAAA+H8AAAAAAAD4fw==\",\"dtype\":\"float64\",\"shape\":[5]},\"GRANDES_GRUPOS_DE_EDAD\":[\"15-24 a\\u00f1os\",\"25-39 a\\u00f1os\",\"40-64 a\\u00f1os\",\"65 a\\u00f1os y mas\",\"Total nacional\"],\"TOTAL_H_25%\":{\"__ndarray__\":\"PN9PjZdukj+4HoXrUbiePzzfT42XbrI/eOkmMQiszD8YBFYOLbKtPw==\",\"dtype\":\"float64\",\"shape\":[5]},\"TOTAL_H_50%\":{\"__ndarray__\":\"PN9PjZdukj+4HoXrUbiePzzfT42XbrI/eOkmMQiszD8YBFYOLbKtPw==\",\"dtype\":\"float64\",\"shape\":[5]},\"TOTAL_H_75%\":{\"__ndarray__\":\"PN9PjZdukj+4HoXrUbiePzzfT42XbrI/eOkmMQiszD8YBFYOLbKtPw==\",\"dtype\":\"float64\",\"shape\":[5]},\"TOTAL_H_count\":{\"__ndarray__\":\"AAAAAAAA8D8AAAAAAADwPwAAAAAAAPA/AAAAAAAA8D8AAAAAAADwPw==\",\"dtype\":\"float64\",\"shape\":[5]},\"TOTAL_H_max\":{\"__ndarray__\":\"PN9PjZdukj+4HoXrUbiePzzfT42XbrI/eOkmMQiszD8YBFYOLbKtPw==\",\"dtype\":\"float64\",\"shape\":[5]},\"TOTAL_H_mean\":{\"__ndarray__\":\"PN9PjZdukj+4HoXrUbiePzzfT42XbrI/eOkmMQiszD8YBFYOLbKtPw==\",\"dtype\":\"float64\",\"shape\":[5]},\"TOTAL_H_min\":{\"__ndarray__\":\"PN9PjZdukj+4HoXrUbiePzzfT42XbrI/eOkmMQiszD8YBFYOLbKtPw==\",\"dtype\":\"float64\",\"shape\":[5]},\"TOTAL_H_std\":{\"__ndarray__\":\"AAAAAAAA+H8AAAAAAAD4fwAAAAAAAPh/AAAAAAAA+H8AAAAAAAD4fw==\",\"dtype\":\"float64\",\"shape\":[5]},\"TOTAL_M_25%\":{\"__ndarray__\":\"uB6F61G4jj+4HoXrUbiePzq0yHa+n7o/001iEFg51D+DwMqhRbazPw==\",\"dtype\":\"float64\",\"shape\":[5]},\"TOTAL_M_50%\":{\"__ndarray__\":\"uB6F61G4jj+4HoXrUbiePzq0yHa+n7o/001iEFg51D+DwMqhRbazPw==\",\"dtype\":\"float64\",\"shape\":[5]},\"TOTAL_M_75%\":{\"__ndarray__\":\"uB6F61G4jj+4HoXrUbiePzq0yHa+n7o/001iEFg51D+DwMqhRbazPw==\",\"dtype\":\"float64\",\"shape\":[5]},\"TOTAL_M_count\":{\"__ndarray__\":\"AAAAAAAA8D8AAAAAAADwPwAAAAAAAPA/AAAAAAAA8D8AAAAAAADwPw==\",\"dtype\":\"float64\",\"shape\":[5]},\"TOTAL_M_max\":{\"__ndarray__\":\"uB6F61G4jj+4HoXrUbiePzq0yHa+n7o/001iEFg51D+DwMqhRbazPw==\",\"dtype\":\"float64\",\"shape\":[5]},\"TOTAL_M_mean\":{\"__ndarray__\":\"uB6F61G4jj+4HoXrUbiePzq0yHa+n7o/001iEFg51D+DwMqhRbazPw==\",\"dtype\":\"float64\",\"shape\":[5]},\"TOTAL_M_min\":{\"__ndarray__\":\"uB6F61G4jj+4HoXrUbiePzq0yHa+n7o/001iEFg51D+DwMqhRbazPw==\",\"dtype\":\"float64\",\"shape\":[5]},\"TOTAL_M_std\":{\"__ndarray__\":\"AAAAAAAA+H8AAAAAAAD4fwAAAAAAAPh/AAAAAAAA+H8AAAAAAAD4fw==\",\"dtype\":\"float64\",\"shape\":[5]}}},\"id\":\"15010ca2-02fc-4b3e-b4f4-ece918444656\",\"type\":\"ColumnDataSource\"},{\"attributes\":{},\"id\":\"30efa143-6e94-4cc8-a644-3a36ab892a4c\",\"type\":\"BasicTicker\"},{\"attributes\":{\"overlay\":{\"id\":\"deb8609c-f6dd-4e02-a44b-d78e543ed836\",\"type\":\"BoxAnnotation\"}},\"id\":\"e36f6f34-ab0a-4751-a284-d0bfb1e18485\",\"type\":\"BoxZoomTool\"},{\"attributes\":{\"plot\":null,\"text\":\"AREA RURAL - MUJERES\"},\"id\":\"cda4708f-f5bb-4d27-b661-7064c7644408\",\"type\":\"Title\"},{\"attributes\":{\"formatter\":{\"id\":\"c7129b02-5e76-4c74-80e4-5d91010f4658\",\"type\":\"BasicTickFormatter\"},\"plot\":{\"id\":\"984c803d-78ce-4acc-a365-7e33dc1ac647\",\"subtype\":\"Figure\",\"type\":\"Plot\"},\"ticker\":{\"id\":\"30efa143-6e94-4cc8-a644-3a36ab892a4c\",\"type\":\"BasicTicker\"}},\"id\":\"1ae022b2-3f9d-443e-aa2e-7a89d71b69fb\",\"type\":\"LinearAxis\"},{\"attributes\":{},\"id\":\"0aafdc25-6388-4ecf-a04e-7577d08829bc\",\"type\":\"CategoricalTickFormatter\"},{\"attributes\":{},\"id\":\"a5b14e4a-a36a-45c4-9a9e-c59d9466b0ac\",\"type\":\"CategoricalTicker\"},{\"attributes\":{\"formatter\":{\"id\":\"c95e89b3-efc8-442c-9b98-f1d24d21d11b\",\"type\":\"BasicTickFormatter\"},\"plot\":{\"id\":\"0e69925b-5383-4863-92c9-479b13ae66ab\",\"subtype\":\"Figure\",\"type\":\"Plot\"},\"ticker\":{\"id\":\"6e8c9d09-e732-43e8-a6eb-539ec4e71914\",\"type\":\"BasicTicker\"}},\"id\":\"e3e69c6a-e56d-4b5c-8baa-2247d1766a20\",\"type\":\"LinearAxis\"},{\"attributes\":{\"callback\":null,\"factors\":[\"15-24 a\\u00f1os\",\"25-39 a\\u00f1os\",\"40-64 a\\u00f1os\",\"65 a\\u00f1os y mas\",\"Total nacional\"]},\"id\":\"d3ede737-eeba-40fa-8781-c25f7bbfc936\",\"type\":\"FactorRange\"},{\"attributes\":{\"dimension\":1,\"plot\":{\"id\":\"0e69925b-5383-4863-92c9-479b13ae66ab\",\"subtype\":\"Figure\",\"type\":\"Plot\"},\"ticker\":{\"id\":\"a5b14e4a-a36a-45c4-9a9e-c59d9466b0ac\",\"type\":\"CategoricalTicker\"}},\"id\":\"9176dbf1-de3b-4d6d-bf80-f49c18ae5b18\",\"type\":\"Grid\"},{\"attributes\":{\"overlay\":{\"id\":\"919acb17-f9ac-4787-b2f3-28e138ca8338\",\"type\":\"BoxAnnotation\"}},\"id\":\"e723aeb8-3f69-46c8-a285-9cb480bae64e\",\"type\":\"BoxZoomTool\"},{\"attributes\":{\"data_source\":{\"id\":\"15010ca2-02fc-4b3e-b4f4-ece918444656\",\"type\":\"ColumnDataSource\"},\"glyph\":{\"id\":\"2493ab02-6346-4096-8930-f14d78ef6b49\",\"type\":\"HBar\"},\"hover_glyph\":null,\"muted_glyph\":null,\"nonselection_glyph\":{\"id\":\"153aeddd-3f25-4866-a844-acebe13f1058\",\"type\":\"HBar\"},\"selection_glyph\":null,\"view\":{\"id\":\"8fa2e66d-be07-4336-b907-cd53ecf005b4\",\"type\":\"CDSView\"}},\"id\":\"7dbd50b2-a4a0-4ec1-987a-7f73c6bb2b18\",\"type\":\"GlyphRenderer\"},{\"attributes\":{},\"id\":\"c7216e9c-81c3-49e2-a96d-65f46ae18d7c\",\"type\":\"PanTool\"},{\"attributes\":{},\"id\":\"bcc559db-0567-4aea-89a0-15fad8423b3d\",\"type\":\"CategoricalScale\"},{\"attributes\":{\"formatter\":{\"id\":\"a7081bdb-f192-4618-8bb2-02a5632a90ba\",\"type\":\"CategoricalTickFormatter\"},\"plot\":{\"id\":\"0e69925b-5383-4863-92c9-479b13ae66ab\",\"subtype\":\"Figure\",\"type\":\"Plot\"},\"ticker\":{\"id\":\"a5b14e4a-a36a-45c4-9a9e-c59d9466b0ac\",\"type\":\"CategoricalTicker\"}},\"id\":\"c1d9de7a-022c-4a34-b4dc-e99eb6e99b7c\",\"type\":\"CategoricalAxis\"},{\"attributes\":{\"data_source\":{\"id\":\"15010ca2-02fc-4b3e-b4f4-ece918444656\",\"type\":\"ColumnDataSource\"},\"glyph\":{\"id\":\"15a1c85c-5cc3-46aa-b238-475c36d03977\",\"type\":\"HBar\"},\"hover_glyph\":null,\"muted_glyph\":null,\"nonselection_glyph\":{\"id\":\"d62b1cc7-c258-4404-aae6-d1063c4fb15e\",\"type\":\"HBar\"},\"selection_glyph\":null,\"view\":{\"id\":\"19b10589-36a3-434d-bfa5-c32c5b9bbb0e\",\"type\":\"CDSView\"}},\"id\":\"c64fd49d-9e97-4394-a200-233252c86fad\",\"type\":\"GlyphRenderer\"},{\"attributes\":{\"fill_color\":{\"value\":\"#F08080\"},\"height\":{\"value\":0.5},\"line_color\":{\"value\":\"#F08080\"},\"right\":{\"field\":\"A_RURAL_H_mean\"},\"y\":{\"field\":\"GRANDES_GRUPOS_DE_EDAD\"}},\"id\":\"15a1c85c-5cc3-46aa-b238-475c36d03977\",\"type\":\"HBar\"},{\"attributes\":{\"plot\":{\"id\":\"984c803d-78ce-4acc-a365-7e33dc1ac647\",\"subtype\":\"Figure\",\"type\":\"Plot\"},\"ticker\":{\"id\":\"30efa143-6e94-4cc8-a644-3a36ab892a4c\",\"type\":\"BasicTicker\"}},\"id\":\"d2ff0166-28b3-4c56-99d3-ac451476c94b\",\"type\":\"Grid\"},{\"attributes\":{\"plot\":{\"id\":\"0e69925b-5383-4863-92c9-479b13ae66ab\",\"subtype\":\"Figure\",\"type\":\"Plot\"},\"ticker\":{\"id\":\"6e8c9d09-e732-43e8-a6eb-539ec4e71914\",\"type\":\"BasicTicker\"}},\"id\":\"4ace8316-d4fc-410b-9c28-1ec8fe217f5f\",\"type\":\"Grid\"},{\"attributes\":{\"bottom_units\":\"screen\",\"fill_alpha\":{\"value\":0.5},\"fill_color\":{\"value\":\"lightgrey\"},\"left_units\":\"screen\",\"level\":\"overlay\",\"line_alpha\":{\"value\":1.0},\"line_color\":{\"value\":\"black\"},\"line_dash\":[4,4],\"line_width\":{\"value\":2},\"plot\":null,\"render_mode\":\"css\",\"right_units\":\"screen\",\"top_units\":\"screen\"},\"id\":\"deb8609c-f6dd-4e02-a44b-d78e543ed836\",\"type\":\"BoxAnnotation\"},{\"attributes\":{},\"id\":\"6e8c9d09-e732-43e8-a6eb-539ec4e71914\",\"type\":\"BasicTicker\"},{\"attributes\":{\"dimension\":1,\"plot\":{\"id\":\"984c803d-78ce-4acc-a365-7e33dc1ac647\",\"subtype\":\"Figure\",\"type\":\"Plot\"},\"ticker\":{\"id\":\"b04fd2f5-ef90-4d5d-be37-c1f524c5989d\",\"type\":\"CategoricalTicker\"}},\"id\":\"0a12d40f-d6de-4976-8eab-c3eba24291e7\",\"type\":\"Grid\"},{\"attributes\":{\"formatter\":{\"id\":\"0aafdc25-6388-4ecf-a04e-7577d08829bc\",\"type\":\"CategoricalTickFormatter\"},\"plot\":{\"id\":\"984c803d-78ce-4acc-a365-7e33dc1ac647\",\"subtype\":\"Figure\",\"type\":\"Plot\"},\"ticker\":{\"id\":\"b04fd2f5-ef90-4d5d-be37-c1f524c5989d\",\"type\":\"CategoricalTicker\"}},\"id\":\"2563a002-a525-4168-9241-44a7b3a28daf\",\"type\":\"CategoricalAxis\"},{\"attributes\":{\"children\":[{\"id\":\"514570e2-6aa2-450f-9609-08c569b53510\",\"type\":\"ToolbarBox\"},{\"id\":\"c5887c31-cd28-47d9-b536-46969b358aa0\",\"type\":\"Column\"}]},\"id\":\"8a5ea144-12f3-4f2a-b5e5-0e9b3c686740\",\"type\":\"Column\"},{\"attributes\":{\"source\":{\"id\":\"15010ca2-02fc-4b3e-b4f4-ece918444656\",\"type\":\"ColumnDataSource\"}},\"id\":\"19b10589-36a3-434d-bfa5-c32c5b9bbb0e\",\"type\":\"CDSView\"},{\"attributes\":{\"below\":[{\"id\":\"e3e69c6a-e56d-4b5c-8baa-2247d1766a20\",\"type\":\"LinearAxis\"}],\"left\":[{\"id\":\"c1d9de7a-022c-4a34-b4dc-e99eb6e99b7c\",\"type\":\"CategoricalAxis\"}],\"plot_height\":450,\"plot_width\":480,\"renderers\":[{\"id\":\"e3e69c6a-e56d-4b5c-8baa-2247d1766a20\",\"type\":\"LinearAxis\"},{\"id\":\"4ace8316-d4fc-410b-9c28-1ec8fe217f5f\",\"type\":\"Grid\"},{\"id\":\"c1d9de7a-022c-4a34-b4dc-e99eb6e99b7c\",\"type\":\"CategoricalAxis\"},{\"id\":\"9176dbf1-de3b-4d6d-bf80-f49c18ae5b18\",\"type\":\"Grid\"},{\"id\":\"919acb17-f9ac-4787-b2f3-28e138ca8338\",\"type\":\"BoxAnnotation\"},{\"id\":\"c64fd49d-9e97-4394-a200-233252c86fad\",\"type\":\"GlyphRenderer\"}],\"title\":{\"id\":\"4fae4ad3-8206-4bee-9e68-dcd080dea411\",\"type\":\"Title\"},\"toolbar\":{\"id\":\"ba8b5122-23f1-4686-9a30-5efb1fc84bcc\",\"type\":\"Toolbar\"},\"toolbar_location\":null,\"x_range\":{\"id\":\"a2fa78c8-b349-42fb-bbe6-1cdb68076249\",\"type\":\"DataRange1d\"},\"x_scale\":{\"id\":\"4603a6bd-780d-40a4-9d9c-596d82833ca0\",\"type\":\"LinearScale\"},\"y_range\":{\"id\":\"d3ede737-eeba-40fa-8781-c25f7bbfc936\",\"type\":\"FactorRange\"},\"y_scale\":{\"id\":\"bcc559db-0567-4aea-89a0-15fad8423b3d\",\"type\":\"CategoricalScale\"}},\"id\":\"0e69925b-5383-4863-92c9-479b13ae66ab\",\"subtype\":\"Figure\",\"type\":\"Plot\"},{\"attributes\":{\"fill_color\":{\"value\":\"#82B1FF\"},\"height\":{\"value\":0.5},\"line_color\":{\"value\":\"#82B1FF\"},\"right\":{\"field\":\"A_RURAL_M_mean\"},\"y\":{\"field\":\"GRANDES_GRUPOS_DE_EDAD\"}},\"id\":\"2493ab02-6346-4096-8930-f14d78ef6b49\",\"type\":\"HBar\"},{\"attributes\":{\"active_drag\":\"auto\",\"active_inspect\":\"auto\",\"active_scroll\":\"auto\",\"active_tap\":\"auto\",\"tools\":[{\"id\":\"c7216e9c-81c3-49e2-a96d-65f46ae18d7c\",\"type\":\"PanTool\"},{\"id\":\"60dc877d-c315-4429-bc2f-fd18e7285aa8\",\"type\":\"WheelZoomTool\"},{\"id\":\"e723aeb8-3f69-46c8-a285-9cb480bae64e\",\"type\":\"BoxZoomTool\"},{\"id\":\"7420c367-de1a-4d09-8030-5c18f7d78c90\",\"type\":\"ResetTool\"}]},\"id\":\"ba8b5122-23f1-4686-9a30-5efb1fc84bcc\",\"type\":\"Toolbar\"},{\"attributes\":{},\"id\":\"1b56aaaf-5b5a-4862-9ab8-c6da0411c2de\",\"type\":\"CategoricalScale\"},{\"attributes\":{},\"id\":\"455eae82-e9a7-4359-872c-c1268a979ce1\",\"type\":\"LinearScale\"},{\"attributes\":{\"sizing_mode\":\"scale_width\",\"toolbar_location\":\"above\",\"tools\":[{\"id\":\"a87bb1a7-c12a-40fa-aaa9-874dbba8bfc9\",\"type\":\"PanTool\"},{\"id\":\"ab4f4cf9-6414-4c98-960e-4b7a66d4db55\",\"type\":\"WheelZoomTool\"},{\"id\":\"e36f6f34-ab0a-4751-a284-d0bfb1e18485\",\"type\":\"BoxZoomTool\"},{\"id\":\"143da2f6-da51-494a-92b8-83f2489023ef\",\"type\":\"ResetTool\"},{\"id\":\"c7216e9c-81c3-49e2-a96d-65f46ae18d7c\",\"type\":\"PanTool\"},{\"id\":\"60dc877d-c315-4429-bc2f-fd18e7285aa8\",\"type\":\"WheelZoomTool\"},{\"id\":\"e723aeb8-3f69-46c8-a285-9cb480bae64e\",\"type\":\"BoxZoomTool\"},{\"id\":\"7420c367-de1a-4d09-8030-5c18f7d78c90\",\"type\":\"ResetTool\"}]},\"id\":\"514570e2-6aa2-450f-9609-08c569b53510\",\"type\":\"ToolbarBox\"},{\"attributes\":{},\"id\":\"b04fd2f5-ef90-4d5d-be37-c1f524c5989d\",\"type\":\"CategoricalTicker\"},{\"attributes\":{},\"id\":\"c95e89b3-efc8-442c-9b98-f1d24d21d11b\",\"type\":\"BasicTickFormatter\"},{\"attributes\":{\"fill_alpha\":{\"value\":0.1},\"fill_color\":{\"value\":\"#1f77b4\"},\"height\":{\"value\":0.5},\"line_alpha\":{\"value\":0.1},\"line_color\":{\"value\":\"#1f77b4\"},\"right\":{\"field\":\"A_RURAL_M_mean\"},\"y\":{\"field\":\"GRANDES_GRUPOS_DE_EDAD\"}},\"id\":\"153aeddd-3f25-4866-a844-acebe13f1058\",\"type\":\"HBar\"},{\"attributes\":{\"callback\":null},\"id\":\"b585c722-ae0a-4ed4-925b-544969993841\",\"type\":\"DataRange1d\"},{\"attributes\":{\"callback\":null,\"factors\":[\"15-24 a\\u00f1os\",\"25-39 a\\u00f1os\",\"40-64 a\\u00f1os\",\"65 a\\u00f1os y mas\",\"Total nacional\"]},\"id\":\"4dcb6d00-7748-46c1-960f-edd732a3215c\",\"type\":\"FactorRange\"},{\"attributes\":{\"fill_alpha\":{\"value\":0.1},\"fill_color\":{\"value\":\"#1f77b4\"},\"height\":{\"value\":0.5},\"line_alpha\":{\"value\":0.1},\"line_color\":{\"value\":\"#1f77b4\"},\"right\":{\"field\":\"A_RURAL_H_mean\"},\"y\":{\"field\":\"GRANDES_GRUPOS_DE_EDAD\"}},\"id\":\"d62b1cc7-c258-4404-aae6-d1063c4fb15e\",\"type\":\"HBar\"},{\"attributes\":{},\"id\":\"60dc877d-c315-4429-bc2f-fd18e7285aa8\",\"type\":\"WheelZoomTool\"},{\"attributes\":{},\"id\":\"ab4f4cf9-6414-4c98-960e-4b7a66d4db55\",\"type\":\"WheelZoomTool\"},{\"attributes\":{\"source\":{\"id\":\"15010ca2-02fc-4b3e-b4f4-ece918444656\",\"type\":\"ColumnDataSource\"}},\"id\":\"8fa2e66d-be07-4336-b907-cd53ecf005b4\",\"type\":\"CDSView\"}],\"root_ids\":[\"8a5ea144-12f3-4f2a-b5e5-0e9b3c686740\"]},\"title\":\"Bokeh Application\",\"version\":\"0.12.10\"}};\n",
       "    var render_items = [{\"docid\":\"8dbf7911-1d03-4d23-81f0-c35d8c9e0efc\",\"elementid\":\"eda207f5-9756-4e44-83da-8d1c7d8d269e\",\"modelid\":\"8a5ea144-12f3-4f2a-b5e5-0e9b3c686740\"}];\n",
       "\n",
       "    root.Bokeh.embed.embed_items(docs_json, render_items);\n",
       "  }\n",
       "\n",
       "  if (root.Bokeh !== undefined) {\n",
       "    embed_document(root);\n",
       "  } else {\n",
       "    var attempts = 0;\n",
       "    var timer = setInterval(function(root) {\n",
       "      if (root.Bokeh !== undefined) {\n",
       "        embed_document(root);\n",
       "        clearInterval(timer);\n",
       "      }\n",
       "      attempts++;\n",
       "      if (attempts > 100) {\n",
       "        console.log(\"Bokeh: ERROR: Unable to embed document because BokehJS library is missing\")\n",
       "        clearInterval(timer);\n",
       "      }\n",
       "    }, 10, root)\n",
       "  }\n",
       "})(window);"
      ],
      "application/vnd.bokehjs_exec.v0+json": ""
     },
     "metadata": {
      "application/vnd.bokehjs_exec.v0+json": {
       "id": "8a5ea144-12f3-4f2a-b5e5-0e9b3c686740"
      }
     },
     "output_type": "display_data"
    }
   ],
   "source": [
    "from bokeh.layouts import gridplot\n",
    "\n",
    "group1 = tabla1.groupby('GRANDES_GRUPOS_DE_EDAD')\n",
    "\n",
    "source = ColumnDataSource(group1)\n",
    "\n",
    "options = dict(plot_width=480, plot_height=450, y_range=group1, tools=\"pan,wheel_zoom,box_zoom,reset\")\n",
    "\n",
    "# Creamos dos objetos figuras uno para mujeres y otro para hombres\n",
    "graph1 = figure(title='AREA RURAL - MUJERES', **options)\n",
    "graph2 = figure(title='AREA RURAL - HOMBRES',**options)\n",
    "\n",
    "\n",
    "graph1.hbar(\n",
    "    y='GRANDES_GRUPOS_DE_EDAD',  # Establecemos los valores de y\n",
    "    right='A_RURAL_M_mean', # Establecemos los valores de x\n",
    "    height = 0.5, # El tamaño  de las barras\n",
    "    left = 0, # EL comienzo para presentar los valores de x\n",
    "    color=\"#82B1FF\", # Color de la barra \n",
    "    source=source\n",
    ")\n",
    "\n",
    "graph2.hbar(y='GRANDES_GRUPOS_DE_EDAD', right='A_RURAL_H_mean', height=0.5, left=0, color=\"#F08080\", source=source)\n",
    "\n",
    "# Creamos una nueva figura que esta compuesta por las dos figuras creadas anteriormente\n",
    "graph = gridplot([[graph1, graph2]])\n",
    "\n",
    "# Mostramos los resultados\n",
    "show(graph)"
   ]
  },
  {
   "cell_type": "code",
   "execution_count": null,
   "metadata": {
    "collapsed": true
   },
   "outputs": [],
   "source": []
  }
 ],
 "metadata": {
  "kernelspec": {
   "display_name": "Python 3",
   "language": "python",
   "name": "python3"
  },
  "language_info": {
   "codemirror_mode": {
    "name": "ipython",
    "version": 3
   },
   "file_extension": ".py",
   "mimetype": "text/x-python",
   "name": "python",
   "nbconvert_exporter": "python",
   "pygments_lexer": "ipython3",
   "version": "3.6.3"
  }
 },
 "nbformat": 4,
 "nbformat_minor": 2
}
