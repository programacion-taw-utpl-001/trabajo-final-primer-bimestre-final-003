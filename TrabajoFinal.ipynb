{
 "cells": [
  {
   "cell_type": "markdown",
   "metadata": {},
   "source": [
    "<h1 style=\"text-align:center\">Trabajo Final - Primer Bimestre</h1>\n",
    "***\n",
    "* **Manejo y Visualización de Datos con Python**\n",
    "***\n",
    "Para la realización del presente trabajo se llevo a cabo la obtención de los datos estadísticos enfocados en el tema de **Hombres y Mujeres en el Ecuador** extraidos de [Ecuador en Cifras](http://www.ecuadorencifras.gob.ec/estadisticas/).\n",
    "\n",
    "Librerías en python a utilizar: **jupyter, pandas, bokeh.**\n",
    "\n",
    "Autores : **Jorge Hurtado - Jonathan Rosero**\n"
   ]
  },
  {
   "cell_type": "code",
   "execution_count": 2,
   "metadata": {
    "collapsed": true
   },
   "outputs": [],
   "source": [
    "# Se inicia con la importacion de pandas con un respectivo alias para facilitar su llamada\n",
    "import pandas as pd"
   ]
  },
  {
   "cell_type": "code",
   "execution_count": 3,
   "metadata": {
    "scrolled": true
   },
   "outputs": [
    {
     "data": {
      "text/html": [
       "<div>\n",
       "<style>\n",
       "    .dataframe thead tr:only-child th {\n",
       "        text-align: right;\n",
       "    }\n",
       "\n",
       "    .dataframe thead th {\n",
       "        text-align: left;\n",
       "    }\n",
       "\n",
       "    .dataframe tbody tr th {\n",
       "        vertical-align: top;\n",
       "    }\n",
       "</style>\n",
       "<table border=\"1\" class=\"dataframe\">\n",
       "  <thead>\n",
       "    <tr style=\"text-align: right;\">\n",
       "      <th></th>\n",
       "      <th>GRANDES_GRUPOS_DE_EDAD</th>\n",
       "      <th>A_URBANA_M</th>\n",
       "      <th>A_URBANA_H</th>\n",
       "      <th>A_RURAL_M</th>\n",
       "      <th>A_RURAL_H</th>\n",
       "      <th>TOTAL_M</th>\n",
       "      <th>TOTAL_H</th>\n",
       "    </tr>\n",
       "  </thead>\n",
       "  <tbody>\n",
       "    <tr>\n",
       "      <th>0</th>\n",
       "      <td>15-24 años</td>\n",
       "      <td>0.009</td>\n",
       "      <td>0.012</td>\n",
       "      <td>0.025</td>\n",
       "      <td>0.028</td>\n",
       "      <td>0.015</td>\n",
       "      <td>0.018</td>\n",
       "    </tr>\n",
       "    <tr>\n",
       "      <th>1</th>\n",
       "      <td>25-39 años</td>\n",
       "      <td>0.017</td>\n",
       "      <td>0.018</td>\n",
       "      <td>0.056</td>\n",
       "      <td>0.053</td>\n",
       "      <td>0.030</td>\n",
       "      <td>0.030</td>\n",
       "    </tr>\n",
       "    <tr>\n",
       "      <th>2</th>\n",
       "      <td>40-64 años</td>\n",
       "      <td>0.054</td>\n",
       "      <td>0.038</td>\n",
       "      <td>0.205</td>\n",
       "      <td>0.134</td>\n",
       "      <td>0.104</td>\n",
       "      <td>0.072</td>\n",
       "    </tr>\n",
       "    <tr>\n",
       "      <th>3</th>\n",
       "      <td>65 años y mas</td>\n",
       "      <td>0.195</td>\n",
       "      <td>0.128</td>\n",
       "      <td>0.497</td>\n",
       "      <td>0.343</td>\n",
       "      <td>0.316</td>\n",
       "      <td>0.224</td>\n",
       "    </tr>\n",
       "    <tr>\n",
       "      <th>4</th>\n",
       "      <td>Total nacional</td>\n",
       "      <td>0.043</td>\n",
       "      <td>0.031</td>\n",
       "      <td>0.142</td>\n",
       "      <td>0.103</td>\n",
       "      <td>0.077</td>\n",
       "      <td>0.058</td>\n",
       "    </tr>\n",
       "  </tbody>\n",
       "</table>\n",
       "</div>"
      ],
      "text/plain": [
       "  GRANDES_GRUPOS_DE_EDAD  A_URBANA_M  A_URBANA_H  A_RURAL_M  A_RURAL_H  \\\n",
       "0             15-24 años       0.009       0.012      0.025      0.028   \n",
       "1             25-39 años       0.017       0.018      0.056      0.053   \n",
       "2             40-64 años       0.054       0.038      0.205      0.134   \n",
       "3          65 años y mas       0.195       0.128      0.497      0.343   \n",
       "4         Total nacional       0.043       0.031      0.142      0.103   \n",
       "\n",
       "   TOTAL_M  TOTAL_H  \n",
       "0    0.015    0.018  \n",
       "1    0.030    0.030  \n",
       "2    0.104    0.072  \n",
       "3    0.316    0.224  \n",
       "4    0.077    0.058  "
      ]
     },
     "execution_count": 3,
     "metadata": {},
     "output_type": "execute_result"
    }
   ],
   "source": [
    "# Con el uso de \".read_csv\" lemos el archivo con lo datos extraidos de EcuadorEnCifras\n",
    "pd.read_csv('./data/ANALFABETISMO_POR_AREA_Y_GRUPOS_DE_EDAD.csv')"
   ]
  },
  {
   "cell_type": "code",
   "execution_count": 4,
   "metadata": {
    "collapsed": true
   },
   "outputs": [],
   "source": [
    "# Como se va ha trabajar con el con los datos presentados anteriomente los guardamos en una variable\n",
    "tabla1 = pd.read_csv('./data/ANALFABETISMO_POR_AREA_Y_GRUPOS_DE_EDAD.csv')"
   ]
  },
  {
   "cell_type": "code",
   "execution_count": 5,
   "metadata": {},
   "outputs": [
    {
     "data": {
      "text/plain": [
       "pandas.core.frame.DataFrame"
      ]
     },
     "execution_count": 5,
     "metadata": {},
     "output_type": "execute_result"
    }
   ],
   "source": [
    "# Cabe mencionar el tipo de objeto de \"tabla1\" por lo que usaremos los atributos y metodos para explorar entre los datos\n",
    "type(tabla1)"
   ]
  },
  {
   "cell_type": "code",
   "execution_count": 6,
   "metadata": {},
   "outputs": [
    {
     "data": {
      "text/html": [
       "<div>\n",
       "<style>\n",
       "    .dataframe thead tr:only-child th {\n",
       "        text-align: right;\n",
       "    }\n",
       "\n",
       "    .dataframe thead th {\n",
       "        text-align: left;\n",
       "    }\n",
       "\n",
       "    .dataframe tbody tr th {\n",
       "        vertical-align: top;\n",
       "    }\n",
       "</style>\n",
       "<table border=\"1\" class=\"dataframe\">\n",
       "  <thead>\n",
       "    <tr style=\"text-align: right;\">\n",
       "      <th></th>\n",
       "      <th>GRANDES_GRUPOS_DE_EDAD</th>\n",
       "      <th>A_URBANA_M</th>\n",
       "      <th>A_URBANA_H</th>\n",
       "    </tr>\n",
       "  </thead>\n",
       "  <tbody>\n",
       "    <tr>\n",
       "      <th>0</th>\n",
       "      <td>15-24 años</td>\n",
       "      <td>0.009</td>\n",
       "      <td>0.012</td>\n",
       "    </tr>\n",
       "    <tr>\n",
       "      <th>1</th>\n",
       "      <td>25-39 años</td>\n",
       "      <td>0.017</td>\n",
       "      <td>0.018</td>\n",
       "    </tr>\n",
       "    <tr>\n",
       "      <th>2</th>\n",
       "      <td>40-64 años</td>\n",
       "      <td>0.054</td>\n",
       "      <td>0.038</td>\n",
       "    </tr>\n",
       "    <tr>\n",
       "      <th>3</th>\n",
       "      <td>65 años y mas</td>\n",
       "      <td>0.195</td>\n",
       "      <td>0.128</td>\n",
       "    </tr>\n",
       "    <tr>\n",
       "      <th>4</th>\n",
       "      <td>Total nacional</td>\n",
       "      <td>0.043</td>\n",
       "      <td>0.031</td>\n",
       "    </tr>\n",
       "  </tbody>\n",
       "</table>\n",
       "</div>"
      ],
      "text/plain": [
       "  GRANDES_GRUPOS_DE_EDAD  A_URBANA_M  A_URBANA_H\n",
       "0             15-24 años       0.009       0.012\n",
       "1             25-39 años       0.017       0.018\n",
       "2             40-64 años       0.054       0.038\n",
       "3          65 años y mas       0.195       0.128\n",
       "4         Total nacional       0.043       0.031"
      ]
     },
     "execution_count": 6,
     "metadata": {},
     "output_type": "execute_result"
    }
   ],
   "source": [
    "# Pandas nos permite trabajar con subconjunto en caso de tener una tabla dividida bajo ciertos parametros\n",
    "tabla1[['GRANDES_GRUPOS_DE_EDAD', 'A_URBANA_M', 'A_URBANA_H']]"
   ]
  },
  {
   "cell_type": "code",
   "execution_count": 7,
   "metadata": {},
   "outputs": [
    {
     "data": {
      "text/html": [
       "<div>\n",
       "<style>\n",
       "    .dataframe thead tr:only-child th {\n",
       "        text-align: right;\n",
       "    }\n",
       "\n",
       "    .dataframe thead th {\n",
       "        text-align: left;\n",
       "    }\n",
       "\n",
       "    .dataframe tbody tr th {\n",
       "        vertical-align: top;\n",
       "    }\n",
       "</style>\n",
       "<table border=\"1\" class=\"dataframe\">\n",
       "  <thead>\n",
       "    <tr style=\"text-align: right;\">\n",
       "      <th></th>\n",
       "      <th>GRANDES_GRUPOS_DE_EDAD</th>\n",
       "      <th>A_URBANA_M</th>\n",
       "      <th>A_URBANA_H</th>\n",
       "      <th>A_RURAL_M</th>\n",
       "      <th>A_RURAL_H</th>\n",
       "      <th>TOTAL_M</th>\n",
       "      <th>TOTAL_H</th>\n",
       "    </tr>\n",
       "  </thead>\n",
       "  <tbody>\n",
       "    <tr>\n",
       "      <th>2</th>\n",
       "      <td>40-64 años</td>\n",
       "      <td>0.054</td>\n",
       "      <td>0.038</td>\n",
       "      <td>0.205</td>\n",
       "      <td>0.134</td>\n",
       "      <td>0.104</td>\n",
       "      <td>0.072</td>\n",
       "    </tr>\n",
       "  </tbody>\n",
       "</table>\n",
       "</div>"
      ],
      "text/plain": [
       "  GRANDES_GRUPOS_DE_EDAD  A_URBANA_M  A_URBANA_H  A_RURAL_M  A_RURAL_H  \\\n",
       "2             40-64 años       0.054       0.038      0.205      0.134   \n",
       "\n",
       "   TOTAL_M  TOTAL_H  \n",
       "2    0.104    0.072  "
      ]
     },
     "execution_count": 7,
     "metadata": {},
     "output_type": "execute_result"
    }
   ],
   "source": [
    "# A la vez que podemso buscar un dato en especifico\n",
    "tabla1.loc[tabla1.GRANDES_GRUPOS_DE_EDAD == '40-64 años']"
   ]
  },
  {
   "cell_type": "code",
   "execution_count": 8,
   "metadata": {},
   "outputs": [
    {
     "data": {
      "text/plain": [
       "0.0636"
      ]
     },
     "execution_count": 8,
     "metadata": {},
     "output_type": "execute_result"
    }
   ],
   "source": [
    "# También podemos utilizar funciones propias de pandas, en este caso sacamos la media con el uso de \".mean()\"\n",
    "mediaUrbanaM = tabla1.A_URBANA_M.mean()\n",
    "mediaUrbanaM"
   ]
  },
  {
   "cell_type": "code",
   "execution_count": 9,
   "metadata": {},
   "outputs": [
    {
     "data": {
      "text/plain": [
       "GRANDES_GRUPOS_DE_EDAD\n",
       "15-24 años        0.015\n",
       "25-39 años        0.030\n",
       "40-64 años        0.104\n",
       "65 años y mas     0.316\n",
       "Total nacional    0.077\n",
       "Name: TOTAL_M, dtype: float64"
      ]
     },
     "execution_count": 9,
     "metadata": {},
     "output_type": "execute_result"
    }
   ],
   "source": [
    "# Podemos agrupar los datos por columnas\n",
    "tabla1.groupby('GRANDES_GRUPOS_DE_EDAD')['TOTAL_M'].mean()"
   ]
  },
  {
   "cell_type": "code",
   "execution_count": 10,
   "metadata": {},
   "outputs": [
    {
     "data": {
      "text/plain": [
       "<matplotlib.axes._subplots.AxesSubplot at 0x28f33fafeb8>"
      ]
     },
     "execution_count": 10,
     "metadata": {},
     "output_type": "execute_result"
    },
    {
     "data": {
      "image/png": "[encoded data removed]",
      "text/plain": [
       "<matplotlib.figure.Figure at 0x28f33717a58>"
      ]
     },
     "metadata": {},
     "output_type": "display_data"
    }
   ],
   "source": [
    "# Por parte de pandas sugiere la presentacion de los datos tras es uso de matplotlib\n",
    "import matplotlib.pyplot\n",
    "\n",
    "%matplotlib inline\n",
    "\n",
    "gytle = tabla1.groupby('GRANDES_GRUPOS_DE_EDAD')['TOTAL_M'].mean()\n",
    "\n",
    "gytle.plot()"
   ]
  },
  {
   "cell_type": "code",
   "execution_count": 11,
   "metadata": {},
   "outputs": [
    {
     "data": {
      "text/html": [
       "\n",
       "    <div class=\"bk-root\">\n",
       "        <a href=\"https://bokeh.pydata.org\" target=\"_blank\" class=\"bk-logo bk-logo-small bk-logo-notebook\"></a>\n",
       "        <span id=\"82d1207c-1cd9-45b1-878c-26b85feb4f7a\">Loading BokehJS ...</span>\n",
       "    </div>"
      ]
     },
     "metadata": {},
     "output_type": "display_data"
    },
    {
     "data": {
      "application/javascript": [
       "\n",
       "(function(root) {\n",
       "  function now() {\n",
       "    return new Date();\n",
       "  }\n",
       "\n",
       "  var force = true;\n",
       "\n",
       "  if (typeof (root._bokeh_onload_callbacks) === \"undefined\" || force === true) {\n",
       "    root._bokeh_onload_callbacks = [];\n",
       "    root._bokeh_is_loading = undefined;\n",
       "  }\n",
       "\n",
       "  var JS_MIME_TYPE = 'application/javascript';\n",
       "  var HTML_MIME_TYPE = 'text/html';\n",
       "  var EXEC_MIME_TYPE = 'application/vnd.bokehjs_exec.v0+json';\n",
       "  var CLASS_NAME = 'output_bokeh rendered_html';\n",
       "\n",
       "  /**\n",
       "   * Render data to the DOM node\n",
       "   */\n",
       "  function render(props, node) {\n",
       "    var script = document.createElement(\"script\");\n",
       "    node.appendChild(script);\n",
       "  }\n",
       "\n",
       "  /**\n",
       "   * Handle when an output is cleared or removed\n",
       "   */\n",
       "  function handleClearOutput(event, handle) {\n",
       "    var cell = handle.cell;\n",
       "\n",
       "    var id = cell.output_area._bokeh_element_id;\n",
       "    var server_id = cell.output_area._bokeh_server_id;\n",
       "    // Clean up Bokeh references\n",
       "    if (id !== undefined) {\n",
       "      Bokeh.index[id].model.document.clear();\n",
       "      delete Bokeh.index[id];\n",
       "    }\n",
       "\n",
       "    if (server_id !== undefined) {\n",
       "      // Clean up Bokeh references\n",
       "      var cmd = \"from bokeh.io.state import curstate; print(curstate().uuid_to_server['\" + server_id + \"'].get_sessions()[0].document.roots[0]._id)\";\n",
       "      cell.notebook.kernel.execute(cmd, {\n",
       "        iopub: {\n",
       "          output: function(msg) {\n",
       "            var element_id = msg.content.text.trim();\n",
       "            Bokeh.index[element_id].model.document.clear();\n",
       "            delete Bokeh.index[element_id];\n",
       "          }\n",
       "        }\n",
       "      });\n",
       "      // Destroy server and session\n",
       "      var cmd = \"import bokeh.io.notebook as ion; ion.destroy_server('\" + server_id + \"')\";\n",
       "      cell.notebook.kernel.execute(cmd);\n",
       "    }\n",
       "  }\n",
       "\n",
       "  /**\n",
       "   * Handle when a new output is added\n",
       "   */\n",
       "  function handleAddOutput(event, handle) {\n",
       "    var output_area = handle.output_area;\n",
       "    var output = handle.output;\n",
       "\n",
       "    // limit handleAddOutput to display_data with EXEC_MIME_TYPE content only\n",
       "    if ((output.output_type != \"display_data\") || (!output.data.hasOwnProperty(EXEC_MIME_TYPE))) {\n",
       "      return\n",
       "    }\n",
       "\n",
       "    var toinsert = output_area.element.find(`.${CLASS_NAME.split(' ')[0]}`);\n",
       "\n",
       "    if (output.metadata[EXEC_MIME_TYPE][\"id\"] !== undefined) {\n",
       "      toinsert[0].firstChild.textContent = output.data[JS_MIME_TYPE];\n",
       "      // store reference to embed id on output_area\n",
       "      output_area._bokeh_element_id = output.metadata[EXEC_MIME_TYPE][\"id\"];\n",
       "    }\n",
       "    if (output.metadata[EXEC_MIME_TYPE][\"server_id\"] !== undefined) {\n",
       "      var bk_div = document.createElement(\"div\");\n",
       "      bk_div.innerHTML = output.data[HTML_MIME_TYPE];\n",
       "      var script_attrs = bk_div.children[0].attributes;\n",
       "      for (var i = 0; i < script_attrs.length; i++) {\n",
       "        toinsert[0].firstChild.setAttribute(script_attrs[i].name, script_attrs[i].value);\n",
       "      }\n",
       "      // store reference to server id on output_area\n",
       "      output_area._bokeh_server_id = output.metadata[EXEC_MIME_TYPE][\"server_id\"];\n",
       "    }\n",
       "  }\n",
       "\n",
       "  function register_renderer(events, OutputArea) {\n",
       "\n",
       "    function append_mime(data, metadata, element) {\n",
       "      // create a DOM node to render to\n",
       "      var toinsert = this.create_output_subarea(\n",
       "        metadata,\n",
       "        CLASS_NAME,\n",
       "        EXEC_MIME_TYPE\n",
       "      );\n",
       "      this.keyboard_manager.register_events(toinsert);\n",
       "      // Render to node\n",
       "      var props = {data: data, metadata: metadata[EXEC_MIME_TYPE]};\n",
       "      render(props, toinsert[0]);\n",
       "      element.append(toinsert);\n",
       "      return toinsert\n",
       "    }\n",
       "\n",
       "    /* Handle when an output is cleared or removed */\n",
       "    events.on('clear_output.CodeCell', handleClearOutput);\n",
       "    events.on('delete.Cell', handleClearOutput);\n",
       "\n",
       "    /* Handle when a new output is added */\n",
       "    events.on('output_added.OutputArea', handleAddOutput);\n",
       "\n",
       "    /**\n",
       "     * Register the mime type and append_mime function with output_area\n",
       "     */\n",
       "    OutputArea.prototype.register_mime_type(EXEC_MIME_TYPE, append_mime, {\n",
       "      /* Is output safe? */\n",
       "      safe: true,\n",
       "      /* Index of renderer in `output_area.display_order` */\n",
       "      index: 0\n",
       "    });\n",
       "  }\n",
       "\n",
       "  // register the mime type if in Jupyter Notebook environment and previously unregistered\n",
       "  if (root.Jupyter !== undefined) {\n",
       "    var events = require('base/js/events');\n",
       "    var OutputArea = require('notebook/js/outputarea').OutputArea;\n",
       "\n",
       "    if (OutputArea.prototype.mime_types().indexOf(EXEC_MIME_TYPE) == -1) {\n",
       "      register_renderer(events, OutputArea);\n",
       "    }\n",
       "  }\n",
       "\n",
       "  \n",
       "  if (typeof (root._bokeh_timeout) === \"undefined\" || force === true) {\n",
       "    root._bokeh_timeout = Date.now() + 5000;\n",
       "    root._bokeh_failed_load = false;\n",
       "  }\n",
       "\n",
       "  var NB_LOAD_WARNING = {'data': {'text/html':\n",
       "     \"<div style='background-color: #fdd'>\\n\"+\n",
       "     \"<p>\\n\"+\n",
       "     \"BokehJS does not appear to have successfully loaded. If loading BokehJS from CDN, this \\n\"+\n",
       "     \"may be due to a slow or bad network connection. Possible fixes:\\n\"+\n",
       "     \"</p>\\n\"+\n",
       "     \"<ul>\\n\"+\n",
       "     \"<li>re-rerun `output_notebook()` to attempt to load from CDN again, or</li>\\n\"+\n",
       "     \"<li>use INLINE resources instead, as so:</li>\\n\"+\n",
       "     \"</ul>\\n\"+\n",
       "     \"<code>\\n\"+\n",
       "     \"from bokeh.resources import INLINE\\n\"+\n",
       "     \"output_notebook(resources=INLINE)\\n\"+\n",
       "     \"</code>\\n\"+\n",
       "     \"</div>\"}};\n",
       "\n",
       "  function display_loaded() {\n",
       "    var el = document.getElementById(\"82d1207c-1cd9-45b1-878c-26b85feb4f7a\");\n",
       "    if (el != null) {\n",
       "      el.textContent = \"BokehJS is loading...\";\n",
       "    }\n",
       "    if (root.Bokeh !== undefined) {\n",
       "      if (el != null) {\n",
       "        el.textContent = \"BokehJS \" + root.Bokeh.version + \" successfully loaded.\";\n",
       "      }\n",
       "    } else if (Date.now() < root._bokeh_timeout) {\n",
       "      setTimeout(display_loaded, 100)\n",
       "    }\n",
       "  }\n",
       "\n",
       "\n",
       "  function run_callbacks() {\n",
       "    try {\n",
       "      root._bokeh_onload_callbacks.forEach(function(callback) { callback() });\n",
       "    }\n",
       "    finally {\n",
       "      delete root._bokeh_onload_callbacks\n",
       "    }\n",
       "    console.info(\"Bokeh: all callbacks have finished\");\n",
       "  }\n",
       "\n",
       "  function load_libs(js_urls, callback) {\n",
       "    root._bokeh_onload_callbacks.push(callback);\n",
       "    if (root._bokeh_is_loading > 0) {\n",
       "      console.log(\"Bokeh: BokehJS is being loaded, scheduling callback at\", now());\n",
       "      return null;\n",
       "    }\n",
       "    if (js_urls == null || js_urls.length === 0) {\n",
       "      run_callbacks();\n",
       "      return null;\n",
       "    }\n",
       "    console.log(\"Bokeh: BokehJS not loaded, scheduling load and callback at\", now());\n",
       "    root._bokeh_is_loading = js_urls.length;\n",
       "    for (var i = 0; i < js_urls.length; i++) {\n",
       "      var url = js_urls[i];\n",
       "      var s = document.createElement('script');\n",
       "      s.src = url;\n",
       "      s.async = false;\n",
       "      s.onreadystatechange = s.onload = function() {\n",
       "        root._bokeh_is_loading--;\n",
       "        if (root._bokeh_is_loading === 0) {\n",
       "          console.log(\"Bokeh: all BokehJS libraries loaded\");\n",
       "          run_callbacks()\n",
       "        }\n",
       "      };\n",
       "      s.onerror = function() {\n",
       "        console.warn(\"failed to load library \" + url);\n",
       "      };\n",
       "      console.log(\"Bokeh: injecting script tag for BokehJS library: \", url);\n",
       "      document.getElementsByTagName(\"head\")[0].appendChild(s);\n",
       "    }\n",
       "  };var element = document.getElementById(\"82d1207c-1cd9-45b1-878c-26b85feb4f7a\");\n",
       "  if (element == null) {\n",
       "    console.log(\"Bokeh: ERROR: autoload.js configured with elementid '82d1207c-1cd9-45b1-878c-26b85feb4f7a' but no matching script tag was found. \")\n",
       "    return false;\n",
       "  }\n",
       "\n",
       "  var js_urls = [\"https://cdn.pydata.org/bokeh/release/bokeh-0.12.10.min.js\", \"https://cdn.pydata.org/bokeh/release/bokeh-widgets-0.12.10.min.js\", \"https://cdn.pydata.org/bokeh/release/bokeh-tables-0.12.10.min.js\", \"https://cdn.pydata.org/bokeh/release/bokeh-gl-0.12.10.min.js\"];\n",
       "\n",
       "  var inline_js = [\n",
       "    function(Bokeh) {\n",
       "      Bokeh.set_log_level(\"info\");\n",
       "    },\n",
       "    \n",
       "    function(Bokeh) {\n",
       "      \n",
       "    },\n",
       "    function(Bokeh) {\n",
       "      console.log(\"Bokeh: injecting CSS: https://cdn.pydata.org/bokeh/release/bokeh-0.12.10.min.css\");\n",
       "      Bokeh.embed.inject_css(\"https://cdn.pydata.org/bokeh/release/bokeh-0.12.10.min.css\");\n",
       "      console.log(\"Bokeh: injecting CSS: https://cdn.pydata.org/bokeh/release/bokeh-widgets-0.12.10.min.css\");\n",
       "      Bokeh.embed.inject_css(\"https://cdn.pydata.org/bokeh/release/bokeh-widgets-0.12.10.min.css\");\n",
       "      console.log(\"Bokeh: injecting CSS: https://cdn.pydata.org/bokeh/release/bokeh-tables-0.12.10.min.css\");\n",
       "      Bokeh.embed.inject_css(\"https://cdn.pydata.org/bokeh/release/bokeh-tables-0.12.10.min.css\");\n",
       "    }\n",
       "  ];\n",
       "\n",
       "  function run_inline_js() {\n",
       "    \n",
       "    if ((root.Bokeh !== undefined) || (force === true)) {\n",
       "      for (var i = 0; i < inline_js.length; i++) {\n",
       "        inline_js[i].call(root, root.Bokeh);\n",
       "      }if (force === true) {\n",
       "        display_loaded();\n",
       "      }} else if (Date.now() < root._bokeh_timeout) {\n",
       "      setTimeout(run_inline_js, 100);\n",
       "    } else if (!root._bokeh_failed_load) {\n",
       "      console.log(\"Bokeh: BokehJS failed to load within specified timeout.\");\n",
       "      root._bokeh_failed_load = true;\n",
       "    } else if (force !== true) {\n",
       "      var cell = $(document.getElementById(\"82d1207c-1cd9-45b1-878c-26b85feb4f7a\")).parents('.cell').data().cell;\n",
       "      cell.output_area.append_execute_result(NB_LOAD_WARNING)\n",
       "    }\n",
       "\n",
       "  }\n",
       "\n",
       "  if (root._bokeh_is_loading === 0) {\n",
       "    console.log(\"Bokeh: BokehJS loaded, going straight to plotting\");\n",
       "    run_inline_js();\n",
       "  } else {\n",
       "    load_libs(js_urls, function() {\n",
       "      console.log(\"Bokeh: BokehJS plotting callback run at\", now());\n",
       "      run_inline_js();\n",
       "    });\n",
       "  }\n",
       "}(window));"
      ],
      "application/vnd.bokehjs_load.v0+json": "\n(function(root) {\n  function now() {\n    return new Date();\n  }\n\n  var force = true;\n\n  if (typeof (root._bokeh_onload_callbacks) === \"undefined\" || force === true) {\n    root._bokeh_onload_callbacks = [];\n    root._bokeh_is_loading = undefined;\n  }\n\n  \n\n  \n  if (typeof (root._bokeh_timeout) === \"undefined\" || force === true) {\n    root._bokeh_timeout = Date.now() + 5000;\n    root._bokeh_failed_load = false;\n  }\n\n  var NB_LOAD_WARNING = {'data': {'text/html':\n     \"<div style='background-color: #fdd'>\\n\"+\n     \"<p>\\n\"+\n     \"BokehJS does not appear to have successfully loaded. If loading BokehJS from CDN, this \\n\"+\n     \"may be due to a slow or bad network connection. Possible fixes:\\n\"+\n     \"</p>\\n\"+\n     \"<ul>\\n\"+\n     \"<li>re-rerun `output_notebook()` to attempt to load from CDN again, or</li>\\n\"+\n     \"<li>use INLINE resources instead, as so:</li>\\n\"+\n     \"</ul>\\n\"+\n     \"<code>\\n\"+\n     \"from bokeh.resources import INLINE\\n\"+\n     \"output_notebook(resources=INLINE)\\n\"+\n     \"</code>\\n\"+\n     \"</div>\"}};\n\n  function display_loaded() {\n    var el = document.getElementById(\"82d1207c-1cd9-45b1-878c-26b85feb4f7a\");\n    if (el != null) {\n      el.textContent = \"BokehJS is loading...\";\n    }\n    if (root.Bokeh !== undefined) {\n      if (el != null) {\n        el.textContent = \"BokehJS \" + root.Bokeh.version + \" successfully loaded.\";\n      }\n    } else if (Date.now() < root._bokeh_timeout) {\n      setTimeout(display_loaded, 100)\n    }\n  }\n\n\n  function run_callbacks() {\n    try {\n      root._bokeh_onload_callbacks.forEach(function(callback) { callback() });\n    }\n    finally {\n      delete root._bokeh_onload_callbacks\n    }\n    console.info(\"Bokeh: all callbacks have finished\");\n  }\n\n  function load_libs(js_urls, callback) {\n    root._bokeh_onload_callbacks.push(callback);\n    if (root._bokeh_is_loading > 0) {\n      console.log(\"Bokeh: BokehJS is being loaded, scheduling callback at\", now());\n      return null;\n    }\n    if (js_urls == null || js_urls.length === 0) {\n      run_callbacks();\n      return null;\n    }\n    console.log(\"Bokeh: BokehJS not loaded, scheduling load and callback at\", now());\n    root._bokeh_is_loading = js_urls.length;\n    for (var i = 0; i < js_urls.length; i++) {\n      var url = js_urls[i];\n      var s = document.createElement('script');\n      s.src = url;\n      s.async = false;\n      s.onreadystatechange = s.onload = function() {\n        root._bokeh_is_loading--;\n        if (root._bokeh_is_loading === 0) {\n          console.log(\"Bokeh: all BokehJS libraries loaded\");\n          run_callbacks()\n        }\n      };\n      s.onerror = function() {\n        console.warn(\"failed to load library \" + url);\n      };\n      console.log(\"Bokeh: injecting script tag for BokehJS library: \", url);\n      document.getElementsByTagName(\"head\")[0].appendChild(s);\n    }\n  };var element = document.getElementById(\"82d1207c-1cd9-45b1-878c-26b85feb4f7a\");\n  if (element == null) {\n    console.log(\"Bokeh: ERROR: autoload.js configured with elementid '82d1207c-1cd9-45b1-878c-26b85feb4f7a' but no matching script tag was found. \")\n    return false;\n  }\n\n  var js_urls = [\"https://cdn.pydata.org/bokeh/release/bokeh-0.12.10.min.js\", \"https://cdn.pydata.org/bokeh/release/bokeh-widgets-0.12.10.min.js\", \"https://cdn.pydata.org/bokeh/release/bokeh-tables-0.12.10.min.js\", \"https://cdn.pydata.org/bokeh/release/bokeh-gl-0.12.10.min.js\"];\n\n  var inline_js = [\n    function(Bokeh) {\n      Bokeh.set_log_level(\"info\");\n    },\n    \n    function(Bokeh) {\n      \n    },\n    function(Bokeh) {\n      console.log(\"Bokeh: injecting CSS: https://cdn.pydata.org/bokeh/release/bokeh-0.12.10.min.css\");\n      Bokeh.embed.inject_css(\"https://cdn.pydata.org/bokeh/release/bokeh-0.12.10.min.css\");\n      console.log(\"Bokeh: injecting CSS: https://cdn.pydata.org/bokeh/release/bokeh-widgets-0.12.10.min.css\");\n      Bokeh.embed.inject_css(\"https://cdn.pydata.org/bokeh/release/bokeh-widgets-0.12.10.min.css\");\n      console.log(\"Bokeh: injecting CSS: https://cdn.pydata.org/bokeh/release/bokeh-tables-0.12.10.min.css\");\n      Bokeh.embed.inject_css(\"https://cdn.pydata.org/bokeh/release/bokeh-tables-0.12.10.min.css\");\n    }\n  ];\n\n  function run_inline_js() {\n    \n    if ((root.Bokeh !== undefined) || (force === true)) {\n      for (var i = 0; i < inline_js.length; i++) {\n        inline_js[i].call(root, root.Bokeh);\n      }if (force === true) {\n        display_loaded();\n      }} else if (Date.now() < root._bokeh_timeout) {\n      setTimeout(run_inline_js, 100);\n    } else if (!root._bokeh_failed_load) {\n      console.log(\"Bokeh: BokehJS failed to load within specified timeout.\");\n      root._bokeh_failed_load = true;\n    } else if (force !== true) {\n      var cell = $(document.getElementById(\"82d1207c-1cd9-45b1-878c-26b85feb4f7a\")).parents('.cell').data().cell;\n      cell.output_area.append_execute_result(NB_LOAD_WARNING)\n    }\n\n  }\n\n  if (root._bokeh_is_loading === 0) {\n    console.log(\"Bokeh: BokehJS loaded, going straight to plotting\");\n    run_inline_js();\n  } else {\n    load_libs(js_urls, function() {\n      console.log(\"Bokeh: BokehJS plotting callback run at\", now());\n      run_inline_js();\n    });\n  }\n}(window));"
     },
     "metadata": {},
     "output_type": "display_data"
    }
   ],
   "source": [
    "# Importamos la libreria de bokeh para presentar los datos leidos por pandas\n",
    "from bokeh.io import output_notebook, show\n",
    "from bokeh.plotting import figure\n",
    "from bokeh.models import ColumnDataSource\n",
    "\n",
    "# Llamamos a output_notebook para mostrar mostrar los resultanos en el cuaderno de jupyter\n",
    "output_notebook()"
   ]
  },
  {
   "cell_type": "code",
   "execution_count": 12,
   "metadata": {},
   "outputs": [
    {
     "data": {
      "text/html": [
       "\n",
       "<div class=\"bk-root\">\n",
       "    <div class=\"bk-plotdiv\" id=\"599ad54b-e5cc-4483-9f70-296935f59da4\"></div>\n",
       "</div>"
      ]
     },
     "metadata": {},
     "output_type": "display_data"
    },
    {
     "data": {
      "application/javascript": [
       "(function(root) {\n",
       "  function embed_document(root) {\n",
       "    var docs_json = {\"2f91d032-def7-4a3f-94cf-751122c75bed\":{\"roots\":{\"references\":[{\"attributes\":{},\"id\":\"aefef2eb-4a69-4000-ab83-e37475081882\",\"type\":\"PanTool\"},{\"attributes\":{},\"id\":\"56b53353-d022-4463-9b93-f9d0b50abeb4\",\"type\":\"CategoricalTicker\"},{\"attributes\":{\"overlay\":{\"id\":\"b26f0702-3d65-4479-b325-eb0e65ac09d6\",\"type\":\"BoxAnnotation\"}},\"id\":\"ce2855d3-bca4-401b-a9eb-80aecc33a6c2\",\"type\":\"BoxZoomTool\"},{\"attributes\":{\"fill_color\":{\"value\":\"#1f77b4\"},\"line_color\":{\"value\":\"white\"},\"top\":{\"field\":\"A_URBANA_H_mean\"},\"width\":{\"value\":1},\"x\":{\"field\":\"GRANDES_GRUPOS_DE_EDAD\"}},\"id\":\"d601c08d-4d1e-4edf-9713-cfffcd04d4fe\",\"type\":\"VBar\"},{\"attributes\":{\"grid_line_color\":{\"value\":null},\"plot\":{\"id\":\"b4f3a895-5af4-4434-aeba-1037d6e884bf\",\"subtype\":\"Figure\",\"type\":\"Plot\"},\"ticker\":{\"id\":\"56b53353-d022-4463-9b93-f9d0b50abeb4\",\"type\":\"CategoricalTicker\"}},\"id\":\"0b3bd60f-013b-4f84-bcab-86a8c869fef8\",\"type\":\"Grid\"},{\"attributes\":{},\"id\":\"fe978d0a-391a-45f1-a31b-b616656d20d4\",\"type\":\"ResetTool\"},{\"attributes\":{\"bottom_units\":\"screen\",\"fill_alpha\":{\"value\":0.5},\"fill_color\":{\"value\":\"lightgrey\"},\"left_units\":\"screen\",\"level\":\"overlay\",\"line_alpha\":{\"value\":1.0},\"line_color\":{\"value\":\"black\"},\"line_dash\":[4,4],\"line_width\":{\"value\":2},\"plot\":null,\"render_mode\":\"css\",\"right_units\":\"screen\",\"top_units\":\"screen\"},\"id\":\"b26f0702-3d65-4479-b325-eb0e65ac09d6\",\"type\":\"BoxAnnotation\"},{\"attributes\":{\"callback\":null,\"column_names\":[\"A_RURAL_H_count\",\"A_RURAL_H_mean\",\"A_RURAL_H_std\",\"A_RURAL_H_min\",\"A_RURAL_H_25%\",\"A_RURAL_H_50%\",\"A_RURAL_H_75%\",\"A_RURAL_H_max\",\"A_RURAL_M_count\",\"A_RURAL_M_mean\",\"A_RURAL_M_std\",\"A_RURAL_M_min\",\"A_RURAL_M_25%\",\"A_RURAL_M_50%\",\"A_RURAL_M_75%\",\"A_RURAL_M_max\",\"A_URBANA_H_count\",\"A_URBANA_H_mean\",\"A_URBANA_H_std\",\"A_URBANA_H_min\",\"A_URBANA_H_25%\",\"A_URBANA_H_50%\",\"A_URBANA_H_75%\",\"A_URBANA_H_max\",\"A_URBANA_M_count\",\"A_URBANA_M_mean\",\"A_URBANA_M_std\",\"A_URBANA_M_min\",\"A_URBANA_M_25%\",\"A_URBANA_M_50%\",\"A_URBANA_M_75%\",\"A_URBANA_M_max\",\"TOTAL_H_count\",\"TOTAL_H_mean\",\"TOTAL_H_std\",\"TOTAL_H_min\",\"TOTAL_H_25%\",\"TOTAL_H_50%\",\"TOTAL_H_75%\",\"TOTAL_H_max\",\"TOTAL_M_count\",\"TOTAL_M_mean\",\"TOTAL_M_std\",\"TOTAL_M_min\",\"TOTAL_M_25%\",\"TOTAL_M_50%\",\"TOTAL_M_75%\",\"TOTAL_M_max\",\"GRANDES_GRUPOS_DE_EDAD\"],\"data\":{\"A_RURAL_H_25%\":{\"__ndarray__\":\"eOkmMQisnD+JQWDl0CKrP/T91HjpJsE/wMqhRbbz1T+S7Xw/NV66Pw==\",\"dtype\":\"float64\",\"shape\":[5]},\"A_RURAL_H_50%\":{\"__ndarray__\":\"eOkmMQisnD+JQWDl0CKrP/T91HjpJsE/wMqhRbbz1T+S7Xw/NV66Pw==\",\"dtype\":\"float64\",\"shape\":[5]},\"A_RURAL_H_75%\":{\"__ndarray__\":\"eOkmMQisnD+JQWDl0CKrP/T91HjpJsE/wMqhRbbz1T+S7Xw/NV66Pw==\",\"dtype\":\"float64\",\"shape\":[5]},\"A_RURAL_H_count\":{\"__ndarray__\":\"AAAAAAAA8D8AAAAAAADwPwAAAAAAAPA/AAAAAAAA8D8AAAAAAADwPw==\",\"dtype\":\"float64\",\"shape\":[5]},\"A_RURAL_H_max\":{\"__ndarray__\":\"eOkmMQisnD+JQWDl0CKrP/T91HjpJsE/wMqhRbbz1T+S7Xw/NV66Pw==\",\"dtype\":\"float64\",\"shape\":[5]},\"A_RURAL_H_mean\":{\"__ndarray__\":\"eOkmMQisnD+JQWDl0CKrP/T91HjpJsE/wMqhRbbz1T+S7Xw/NV66Pw==\",\"dtype\":\"float64\",\"shape\":[5]},\"A_RURAL_H_min\":{\"__ndarray__\":\"eOkmMQisnD+JQWDl0CKrP/T91HjpJsE/wMqhRbbz1T+S7Xw/NV66Pw==\",\"dtype\":\"float64\",\"shape\":[5]},\"A_RURAL_H_std\":{\"__ndarray__\":\"AAAAAAAA+H8AAAAAAAD4fwAAAAAAAPh/AAAAAAAA+H8AAAAAAAD4fw==\",\"dtype\":\"float64\",\"shape\":[5]},\"A_RURAL_M_25%\":{\"__ndarray__\":\"mpmZmZmZmT946SYxCKysPz0K16NwPco/AyuHFtnO3z+TGARWDi3CPw==\",\"dtype\":\"float64\",\"shape\":[5]},\"A_RURAL_M_50%\":{\"__ndarray__\":\"mpmZmZmZmT946SYxCKysPz0K16NwPco/AyuHFtnO3z+TGARWDi3CPw==\",\"dtype\":\"float64\",\"shape\":[5]},\"A_RURAL_M_75%\":{\"__ndarray__\":\"mpmZmZmZmT946SYxCKysPz0K16NwPco/AyuHFtnO3z+TGARWDi3CPw==\",\"dtype\":\"float64\",\"shape\":[5]},\"A_RURAL_M_count\":{\"__ndarray__\":\"AAAAAAAA8D8AAAAAAADwPwAAAAAAAPA/AAAAAAAA8D8AAAAAAADwPw==\",\"dtype\":\"float64\",\"shape\":[5]},\"A_RURAL_M_max\":{\"__ndarray__\":\"mpmZmZmZmT946SYxCKysPz0K16NwPco/AyuHFtnO3z+TGARWDi3CPw==\",\"dtype\":\"float64\",\"shape\":[5]},\"A_RURAL_M_mean\":{\"__ndarray__\":\"mpmZmZmZmT946SYxCKysPz0K16NwPco/AyuHFtnO3z+TGARWDi3CPw==\",\"dtype\":\"float64\",\"shape\":[5]},\"A_RURAL_M_min\":{\"__ndarray__\":\"mpmZmZmZmT946SYxCKysPz0K16NwPco/AyuHFtnO3z+TGARWDi3CPw==\",\"dtype\":\"float64\",\"shape\":[5]},\"A_RURAL_M_std\":{\"__ndarray__\":\"AAAAAAAA+H8AAAAAAAD4fwAAAAAAAPh/AAAAAAAA+H8AAAAAAAD4fw==\",\"dtype\":\"float64\",\"shape\":[5]},\"A_URBANA_H_25%\":{\"__ndarray__\":\"+n5qvHSTiD8830+Nl26SP9v5fmq8dKM//Knx0k1iwD9YObTIdr6fPw==\",\"dtype\":\"float64\",\"shape\":[5]},\"A_URBANA_H_50%\":{\"__ndarray__\":\"+n5qvHSTiD8830+Nl26SP9v5fmq8dKM//Knx0k1iwD9YObTIdr6fPw==\",\"dtype\":\"float64\",\"shape\":[5]},\"A_URBANA_H_75%\":{\"__ndarray__\":\"+n5qvHSTiD8830+Nl26SP9v5fmq8dKM//Knx0k1iwD9YObTIdr6fPw==\",\"dtype\":\"float64\",\"shape\":[5]},\"A_URBANA_H_count\":{\"__ndarray__\":\"AAAAAAAA8D8AAAAAAADwPwAAAAAAAPA/AAAAAAAA8D8AAAAAAADwPw==\",\"dtype\":\"float64\",\"shape\":[5]},\"A_URBANA_H_max\":{\"__ndarray__\":\"+n5qvHSTiD8830+Nl26SP9v5fmq8dKM//Knx0k1iwD9YObTIdr6fPw==\",\"dtype\":\"float64\",\"shape\":[5]},\"A_URBANA_H_mean\":{\"__ndarray__\":\"+n5qvHSTiD8830+Nl26SP9v5fmq8dKM//Knx0k1iwD9YObTIdr6fPw==\",\"dtype\":\"float64\",\"shape\":[5]},\"A_URBANA_H_min\":{\"__ndarray__\":\"+n5qvHSTiD8830+Nl26SP9v5fmq8dKM//Knx0k1iwD9YObTIdr6fPw==\",\"dtype\":\"float64\",\"shape\":[5]},\"A_URBANA_H_std\":{\"__ndarray__\":\"AAAAAAAA+H8AAAAAAAD4fwAAAAAAAPh/AAAAAAAA+H8AAAAAAAD4fw==\",\"dtype\":\"float64\",\"shape\":[5]},\"A_URBANA_M_25%\":{\"__ndarray__\":\"PN9PjZdugj+cxCCwcmiRP9rO91Pjpas/9ihcj8L1yD9qvHSTGASmPw==\",\"dtype\":\"float64\",\"shape\":[5]},\"A_URBANA_M_50%\":{\"__ndarray__\":\"PN9PjZdugj+cxCCwcmiRP9rO91Pjpas/9ihcj8L1yD9qvHSTGASmPw==\",\"dtype\":\"float64\",\"shape\":[5]},\"A_URBANA_M_75%\":{\"__ndarray__\":\"PN9PjZdugj+cxCCwcmiRP9rO91Pjpas/9ihcj8L1yD9qvHSTGASmPw==\",\"dtype\":\"float64\",\"shape\":[5]},\"A_URBANA_M_count\":{\"__ndarray__\":\"AAAAAAAA8D8AAAAAAADwPwAAAAAAAPA/AAAAAAAA8D8AAAAAAADwPw==\",\"dtype\":\"float64\",\"shape\":[5]},\"A_URBANA_M_max\":{\"__ndarray__\":\"PN9PjZdugj+cxCCwcmiRP9rO91Pjpas/9ihcj8L1yD9qvHSTGASmPw==\",\"dtype\":\"float64\",\"shape\":[5]},\"A_URBANA_M_mean\":{\"__ndarray__\":\"PN9PjZdugj+cxCCwcmiRP9rO91Pjpas/9ihcj8L1yD9qvHSTGASmPw==\",\"dtype\":\"float64\",\"shape\":[5]},\"A_URBANA_M_min\":{\"__ndarray__\":\"PN9PjZdugj+cxCCwcmiRP9rO91Pjpas/9ihcj8L1yD9qvHSTGASmPw==\",\"dtype\":\"float64\",\"shape\":[5]},\"A_URBANA_M_std\":{\"__ndarray__\":\"AAAAAAAA+H8AAAAAAAD4fwAAAAAAAPh/AAAAAAAA+H8AAAAAAAD4fw==\",\"dtype\":\"float64\",\"shape\":[5]},\"GRANDES_GRUPOS_DE_EDAD\":[\"15-24 a\\u00f1os\",\"25-39 a\\u00f1os\",\"40-64 a\\u00f1os\",\"65 a\\u00f1os y mas\",\"Total nacional\"],\"TOTAL_H_25%\":{\"__ndarray__\":\"PN9PjZdukj+4HoXrUbiePzzfT42XbrI/eOkmMQiszD8YBFYOLbKtPw==\",\"dtype\":\"float64\",\"shape\":[5]},\"TOTAL_H_50%\":{\"__ndarray__\":\"PN9PjZdukj+4HoXrUbiePzzfT42XbrI/eOkmMQiszD8YBFYOLbKtPw==\",\"dtype\":\"float64\",\"shape\":[5]},\"TOTAL_H_75%\":{\"__ndarray__\":\"PN9PjZdukj+4HoXrUbiePzzfT42XbrI/eOkmMQiszD8YBFYOLbKtPw==\",\"dtype\":\"float64\",\"shape\":[5]},\"TOTAL_H_count\":{\"__ndarray__\":\"AAAAAAAA8D8AAAAAAADwPwAAAAAAAPA/AAAAAAAA8D8AAAAAAADwPw==\",\"dtype\":\"float64\",\"shape\":[5]},\"TOTAL_H_max\":{\"__ndarray__\":\"PN9PjZdukj+4HoXrUbiePzzfT42XbrI/eOkmMQiszD8YBFYOLbKtPw==\",\"dtype\":\"float64\",\"shape\":[5]},\"TOTAL_H_mean\":{\"__ndarray__\":\"PN9PjZdukj+4HoXrUbiePzzfT42XbrI/eOkmMQiszD8YBFYOLbKtPw==\",\"dtype\":\"float64\",\"shape\":[5]},\"TOTAL_H_min\":{\"__ndarray__\":\"PN9PjZdukj+4HoXrUbiePzzfT42XbrI/eOkmMQiszD8YBFYOLbKtPw==\",\"dtype\":\"float64\",\"shape\":[5]},\"TOTAL_H_std\":{\"__ndarray__\":\"AAAAAAAA+H8AAAAAAAD4fwAAAAAAAPh/AAAAAAAA+H8AAAAAAAD4fw==\",\"dtype\":\"float64\",\"shape\":[5]},\"TOTAL_M_25%\":{\"__ndarray__\":\"uB6F61G4jj+4HoXrUbiePzq0yHa+n7o/001iEFg51D+DwMqhRbazPw==\",\"dtype\":\"float64\",\"shape\":[5]},\"TOTAL_M_50%\":{\"__ndarray__\":\"uB6F61G4jj+4HoXrUbiePzq0yHa+n7o/001iEFg51D+DwMqhRbazPw==\",\"dtype\":\"float64\",\"shape\":[5]},\"TOTAL_M_75%\":{\"__ndarray__\":\"uB6F61G4jj+4HoXrUbiePzq0yHa+n7o/001iEFg51D+DwMqhRbazPw==\",\"dtype\":\"float64\",\"shape\":[5]},\"TOTAL_M_count\":{\"__ndarray__\":\"AAAAAAAA8D8AAAAAAADwPwAAAAAAAPA/AAAAAAAA8D8AAAAAAADwPw==\",\"dtype\":\"float64\",\"shape\":[5]},\"TOTAL_M_max\":{\"__ndarray__\":\"uB6F61G4jj+4HoXrUbiePzq0yHa+n7o/001iEFg51D+DwMqhRbazPw==\",\"dtype\":\"float64\",\"shape\":[5]},\"TOTAL_M_mean\":{\"__ndarray__\":\"uB6F61G4jj+4HoXrUbiePzq0yHa+n7o/001iEFg51D+DwMqhRbazPw==\",\"dtype\":\"float64\",\"shape\":[5]},\"TOTAL_M_min\":{\"__ndarray__\":\"uB6F61G4jj+4HoXrUbiePzq0yHa+n7o/001iEFg51D+DwMqhRbazPw==\",\"dtype\":\"float64\",\"shape\":[5]},\"TOTAL_M_std\":{\"__ndarray__\":\"AAAAAAAA+H8AAAAAAAD4fwAAAAAAAPh/AAAAAAAA+H8AAAAAAAD4fw==\",\"dtype\":\"float64\",\"shape\":[5]}}},\"id\":\"0339f627-b545-4ac3-9d6f-9db861dbc448\",\"type\":\"ColumnDataSource\"},{\"attributes\":{\"plot\":null,\"text\":\"ANALFABETISMO POR AREA Y GRUPOS DE EDAD\"},\"id\":\"d131de5f-2bc6-4dcc-8749-83734171743b\",\"type\":\"Title\"},{\"attributes\":{\"dimension\":1,\"plot\":{\"id\":\"b4f3a895-5af4-4434-aeba-1037d6e884bf\",\"subtype\":\"Figure\",\"type\":\"Plot\"},\"ticker\":{\"id\":\"7ddba16f-af06-48d9-9f13-2738be0bce56\",\"type\":\"BasicTicker\"}},\"id\":\"d58af967-02d1-49bf-a6b5-51f7e06b1e57\",\"type\":\"Grid\"},{\"attributes\":{},\"id\":\"195eaf2a-66b3-49ce-aa23-b59522bf7e56\",\"type\":\"CategoricalTickFormatter\"},{\"attributes\":{\"callback\":null,\"factors\":[\"15-24 a\\u00f1os\",\"25-39 a\\u00f1os\",\"40-64 a\\u00f1os\",\"65 a\\u00f1os y mas\",\"Total nacional\"]},\"id\":\"36d48d95-7b11-4a5c-b8b8-6fd9f0a2bd48\",\"type\":\"FactorRange\"},{\"attributes\":{},\"id\":\"a8c3f45e-cec5-457c-accd-a977933b4a44\",\"type\":\"LinearScale\"},{\"attributes\":{\"source\":{\"id\":\"0339f627-b545-4ac3-9d6f-9db861dbc448\",\"type\":\"ColumnDataSource\"}},\"id\":\"9ab79440-9ebd-4edc-920e-f344f1d19e6d\",\"type\":\"CDSView\"},{\"attributes\":{},\"id\":\"693f3116-617e-4e90-a087-de0aef19df4b\",\"type\":\"BasicTickFormatter\"},{\"attributes\":{\"callback\":null,\"start\":0},\"id\":\"8467aed9-0500-4c56-8d07-522358e9d055\",\"type\":\"DataRange1d\"},{\"attributes\":{\"axis_label\":\"AREA URBANA - HOMBRES\",\"formatter\":{\"id\":\"195eaf2a-66b3-49ce-aa23-b59522bf7e56\",\"type\":\"CategoricalTickFormatter\"},\"plot\":{\"id\":\"b4f3a895-5af4-4434-aeba-1037d6e884bf\",\"subtype\":\"Figure\",\"type\":\"Plot\"},\"ticker\":{\"id\":\"56b53353-d022-4463-9b93-f9d0b50abeb4\",\"type\":\"CategoricalTicker\"}},\"id\":\"c74ee9bc-1b53-49d3-9e3c-4cb27675e4b8\",\"type\":\"CategoricalAxis\"},{\"attributes\":{},\"id\":\"7cddd018-2634-4947-af1c-144946a8c43d\",\"type\":\"HelpTool\"},{\"attributes\":{\"fill_alpha\":{\"value\":0.1},\"fill_color\":{\"value\":\"#1f77b4\"},\"line_alpha\":{\"value\":0.1},\"line_color\":{\"value\":\"#1f77b4\"},\"top\":{\"field\":\"A_URBANA_H_mean\"},\"width\":{\"value\":1},\"x\":{\"field\":\"GRANDES_GRUPOS_DE_EDAD\"}},\"id\":\"d540a298-c0ea-42ef-bbfd-a78e63646dd2\",\"type\":\"VBar\"},{\"attributes\":{},\"id\":\"b876464e-3099-45f2-981e-9a60d9cdc6ad\",\"type\":\"SaveTool\"},{\"attributes\":{},\"id\":\"923cea50-6fff-4c9f-a1de-7bf68b2bb431\",\"type\":\"WheelZoomTool\"},{\"attributes\":{\"below\":[{\"id\":\"c74ee9bc-1b53-49d3-9e3c-4cb27675e4b8\",\"type\":\"CategoricalAxis\"}],\"left\":[{\"id\":\"5d606c12-6183-422d-90c7-8515d4221d04\",\"type\":\"LinearAxis\"}],\"plot_height\":250,\"plot_width\":750,\"renderers\":[{\"id\":\"c74ee9bc-1b53-49d3-9e3c-4cb27675e4b8\",\"type\":\"CategoricalAxis\"},{\"id\":\"0b3bd60f-013b-4f84-bcab-86a8c869fef8\",\"type\":\"Grid\"},{\"id\":\"5d606c12-6183-422d-90c7-8515d4221d04\",\"type\":\"LinearAxis\"},{\"id\":\"d58af967-02d1-49bf-a6b5-51f7e06b1e57\",\"type\":\"Grid\"},{\"id\":\"b26f0702-3d65-4479-b325-eb0e65ac09d6\",\"type\":\"BoxAnnotation\"},{\"id\":\"451c1ce3-ec14-448b-87ed-5f3c9d985acc\",\"type\":\"GlyphRenderer\"}],\"title\":{\"id\":\"d131de5f-2bc6-4dcc-8749-83734171743b\",\"type\":\"Title\"},\"toolbar\":{\"id\":\"3f1af32b-9213-42a8-ab93-7081ddb636fa\",\"type\":\"Toolbar\"},\"x_range\":{\"id\":\"36d48d95-7b11-4a5c-b8b8-6fd9f0a2bd48\",\"type\":\"FactorRange\"},\"x_scale\":{\"id\":\"3bc1a856-7af3-4223-843c-4df2bb22d642\",\"type\":\"CategoricalScale\"},\"y_range\":{\"id\":\"8467aed9-0500-4c56-8d07-522358e9d055\",\"type\":\"DataRange1d\"},\"y_scale\":{\"id\":\"a8c3f45e-cec5-457c-accd-a977933b4a44\",\"type\":\"LinearScale\"}},\"id\":\"b4f3a895-5af4-4434-aeba-1037d6e884bf\",\"subtype\":\"Figure\",\"type\":\"Plot\"},{\"attributes\":{},\"id\":\"7ddba16f-af06-48d9-9f13-2738be0bce56\",\"type\":\"BasicTicker\"},{\"attributes\":{\"formatter\":{\"id\":\"693f3116-617e-4e90-a087-de0aef19df4b\",\"type\":\"BasicTickFormatter\"},\"plot\":{\"id\":\"b4f3a895-5af4-4434-aeba-1037d6e884bf\",\"subtype\":\"Figure\",\"type\":\"Plot\"},\"ticker\":{\"id\":\"7ddba16f-af06-48d9-9f13-2738be0bce56\",\"type\":\"BasicTicker\"}},\"id\":\"5d606c12-6183-422d-90c7-8515d4221d04\",\"type\":\"LinearAxis\"},{\"attributes\":{\"active_drag\":\"auto\",\"active_inspect\":\"auto\",\"active_scroll\":\"auto\",\"active_tap\":\"auto\",\"tools\":[{\"id\":\"aefef2eb-4a69-4000-ab83-e37475081882\",\"type\":\"PanTool\"},{\"id\":\"923cea50-6fff-4c9f-a1de-7bf68b2bb431\",\"type\":\"WheelZoomTool\"},{\"id\":\"ce2855d3-bca4-401b-a9eb-80aecc33a6c2\",\"type\":\"BoxZoomTool\"},{\"id\":\"b876464e-3099-45f2-981e-9a60d9cdc6ad\",\"type\":\"SaveTool\"},{\"id\":\"fe978d0a-391a-45f1-a31b-b616656d20d4\",\"type\":\"ResetTool\"},{\"id\":\"7cddd018-2634-4947-af1c-144946a8c43d\",\"type\":\"HelpTool\"}]},\"id\":\"3f1af32b-9213-42a8-ab93-7081ddb636fa\",\"type\":\"Toolbar\"},{\"attributes\":{\"data_source\":{\"id\":\"0339f627-b545-4ac3-9d6f-9db861dbc448\",\"type\":\"ColumnDataSource\"},\"glyph\":{\"id\":\"d601c08d-4d1e-4edf-9713-cfffcd04d4fe\",\"type\":\"VBar\"},\"hover_glyph\":null,\"muted_glyph\":null,\"nonselection_glyph\":{\"id\":\"d540a298-c0ea-42ef-bbfd-a78e63646dd2\",\"type\":\"VBar\"},\"selection_glyph\":null,\"view\":{\"id\":\"9ab79440-9ebd-4edc-920e-f344f1d19e6d\",\"type\":\"CDSView\"}},\"id\":\"451c1ce3-ec14-448b-87ed-5f3c9d985acc\",\"type\":\"GlyphRenderer\"},{\"attributes\":{},\"id\":\"3bc1a856-7af3-4223-843c-4df2bb22d642\",\"type\":\"CategoricalScale\"}],\"root_ids\":[\"b4f3a895-5af4-4434-aeba-1037d6e884bf\"]},\"title\":\"Bokeh Application\",\"version\":\"0.12.10\"}};\n",
       "    var render_items = [{\"docid\":\"2f91d032-def7-4a3f-94cf-751122c75bed\",\"elementid\":\"599ad54b-e5cc-4483-9f70-296935f59da4\",\"modelid\":\"b4f3a895-5af4-4434-aeba-1037d6e884bf\"}];\n",
       "\n",
       "    root.Bokeh.embed.embed_items(docs_json, render_items);\n",
       "  }\n",
       "\n",
       "  if (root.Bokeh !== undefined) {\n",
       "    embed_document(root);\n",
       "  } else {\n",
       "    var attempts = 0;\n",
       "    var timer = setInterval(function(root) {\n",
       "      if (root.Bokeh !== undefined) {\n",
       "        embed_document(root);\n",
       "        clearInterval(timer);\n",
       "      }\n",
       "      attempts++;\n",
       "      if (attempts > 100) {\n",
       "        console.log(\"Bokeh: ERROR: Unable to embed document because BokehJS library is missing\")\n",
       "        clearInterval(timer);\n",
       "      }\n",
       "    }, 10, root)\n",
       "  }\n",
       "})(window);"
      ],
      "application/vnd.bokehjs_exec.v0+json": ""
     },
     "metadata": {
      "application/vnd.bokehjs_exec.v0+json": {
       "id": "b4f3a895-5af4-4434-aeba-1037d6e884bf"
      }
     },
     "output_type": "display_data"
    }
   ],
   "source": [
    "# Agrupamos los valores en base a la columna \"GRANDES_GRUPOS_DE_EDAD\" \n",
    "group1 = tabla1.groupby('GRANDES_GRUPOS_DE_EDAD')\n",
    "\n",
    "# Nos permite obtener Mapas de nombres columnas, secuencias, matrices.\n",
    "source = ColumnDataSource(group1)\n",
    "\n",
    "# Creamos un objeto de figura\n",
    "gph = figure(\n",
    "    plot_height=250, plot_width=750, # Establecemos el tamaño\n",
    "    x_range=group1,  # Establecemos el rango de x\n",
    "    title='ANALFABETISMO POR AREA Y GRUPOS DE EDAD' # Establecemos un titulo para la grafica \n",
    ")\n",
    "\n",
    "# Establecemos que vamos ha mostrar los datos en forma de barras y establecemos los ejes x,y \n",
    "gph.vbar(x='GRANDES_GRUPOS_DE_EDAD', top='A_URBANA_H_mean', width=1, line_color=\"white\", source=source)\n",
    "\n",
    "\n",
    "gph.xgrid.grid_line_color = None\n",
    "gph.xaxis.axis_label = \"AREA URBANA - HOMBRES\"\n",
    "# Modificamos para la presentación el rango inicial\n",
    "gph.y_range.start = 0\n",
    "\n",
    "show(gph)"
   ]
  },
  {
   "cell_type": "code",
   "execution_count": 13,
   "metadata": {},
   "outputs": [
    {
     "data": {
      "text/html": [
       "\n",
       "<div class=\"bk-root\">\n",
       "    <div class=\"bk-plotdiv\" id=\"c1cd2040-6bab-49f8-aa2b-a23651ee5ffa\"></div>\n",
       "</div>"
      ]
     },
     "metadata": {},
     "output_type": "display_data"
    },
    {
     "data": {
      "application/javascript": [
       "(function(root) {\n",
       "  function embed_document(root) {\n",
       "    var docs_json = {\"9d8b55ce-402e-4429-90e8-74d10ea6818b\":{\"roots\":{\"references\":[{\"attributes\":{},\"id\":\"01e06513-35eb-4318-a704-24b0e5658fda\",\"type\":\"ResetTool\"},{\"attributes\":{},\"id\":\"98a57aeb-c451-41e7-85c5-5075fcb54510\",\"type\":\"SaveTool\"},{\"attributes\":{\"below\":[{\"id\":\"7af40f0f-dcb9-4698-91b8-fd6660dc41de\",\"type\":\"CategoricalAxis\"}],\"left\":[{\"id\":\"66530641-be1c-43d8-9b9f-bc88dd3e30d6\",\"type\":\"LinearAxis\"}],\"plot_height\":250,\"plot_width\":750,\"renderers\":[{\"id\":\"7af40f0f-dcb9-4698-91b8-fd6660dc41de\",\"type\":\"CategoricalAxis\"},{\"id\":\"a045b832-92d4-4c76-afc9-e9cfe23fab0e\",\"type\":\"Grid\"},{\"id\":\"66530641-be1c-43d8-9b9f-bc88dd3e30d6\",\"type\":\"LinearAxis\"},{\"id\":\"4076ef7f-d434-4977-b534-331c21bc60b9\",\"type\":\"Grid\"},{\"id\":\"69ae2110-c456-4bb8-b707-c0dd8cb52ff9\",\"type\":\"BoxAnnotation\"},{\"id\":\"41928877-2e41-4f43-953f-1bbb7a32fe0c\",\"type\":\"GlyphRenderer\"}],\"title\":{\"id\":\"f49d9603-1162-4879-81a8-a24df903f96c\",\"type\":\"Title\"},\"toolbar\":{\"id\":\"8f6f3d68-9c8a-4ec5-abaa-cf2a243355bd\",\"type\":\"Toolbar\"},\"x_range\":{\"id\":\"ca6db251-a970-48e6-96d3-780ba3b020eb\",\"type\":\"FactorRange\"},\"x_scale\":{\"id\":\"a24b8576-3ca2-457b-9980-6c442db8be25\",\"type\":\"CategoricalScale\"},\"y_range\":{\"id\":\"b84d8093-edda-4b32-aa5c-7e6aa9ff806e\",\"type\":\"DataRange1d\"},\"y_scale\":{\"id\":\"cb4855f0-a005-4dc2-8528-74aa83984507\",\"type\":\"LinearScale\"}},\"id\":\"54678806-152f-4d99-a573-01b98788e3ee\",\"subtype\":\"Figure\",\"type\":\"Plot\"},{\"attributes\":{\"bottom_units\":\"screen\",\"fill_alpha\":{\"value\":0.5},\"fill_color\":{\"value\":\"lightgrey\"},\"left_units\":\"screen\",\"level\":\"overlay\",\"line_alpha\":{\"value\":1.0},\"line_color\":{\"value\":\"black\"},\"line_dash\":[4,4],\"line_width\":{\"value\":2},\"plot\":null,\"render_mode\":\"css\",\"right_units\":\"screen\",\"top_units\":\"screen\"},\"id\":\"69ae2110-c456-4bb8-b707-c0dd8cb52ff9\",\"type\":\"BoxAnnotation\"},{\"attributes\":{\"grid_line_color\":{\"value\":null},\"plot\":{\"id\":\"54678806-152f-4d99-a573-01b98788e3ee\",\"subtype\":\"Figure\",\"type\":\"Plot\"},\"ticker\":{\"id\":\"86d918c5-7041-4ec3-aaa2-ff94ca43a290\",\"type\":\"CategoricalTicker\"}},\"id\":\"a045b832-92d4-4c76-afc9-e9cfe23fab0e\",\"type\":\"Grid\"},{\"attributes\":{},\"id\":\"4d2d244a-1ec1-49fe-973d-19d92f4a38c6\",\"type\":\"WheelZoomTool\"},{\"attributes\":{},\"id\":\"cb4855f0-a005-4dc2-8528-74aa83984507\",\"type\":\"LinearScale\"},{\"attributes\":{},\"id\":\"86d918c5-7041-4ec3-aaa2-ff94ca43a290\",\"type\":\"CategoricalTicker\"},{\"attributes\":{\"line_alpha\":{\"value\":0.1},\"line_color\":{\"value\":\"#1f77b4\"},\"x\":{\"field\":\"GRANDES_GRUPOS_DE_EDAD\"},\"y\":{\"field\":\"A_URBANA_M_mean\"}},\"id\":\"5f71908d-73ae-410d-8ef6-44747e1f8b01\",\"type\":\"Line\"},{\"attributes\":{},\"id\":\"0b229737-bb18-4ec0-b1a6-c2c0521dffeb\",\"type\":\"HelpTool\"},{\"attributes\":{\"dimension\":1,\"plot\":{\"id\":\"54678806-152f-4d99-a573-01b98788e3ee\",\"subtype\":\"Figure\",\"type\":\"Plot\"},\"ticker\":{\"id\":\"4ee88806-1208-4cfe-a2c4-7ae9fcceb64c\",\"type\":\"BasicTicker\"}},\"id\":\"4076ef7f-d434-4977-b534-331c21bc60b9\",\"type\":\"Grid\"},{\"attributes\":{\"active_drag\":\"auto\",\"active_inspect\":\"auto\",\"active_scroll\":\"auto\",\"active_tap\":\"auto\",\"tools\":[{\"id\":\"a7ca057c-69a9-4ac1-b4bb-41610845a955\",\"type\":\"PanTool\"},{\"id\":\"4d2d244a-1ec1-49fe-973d-19d92f4a38c6\",\"type\":\"WheelZoomTool\"},{\"id\":\"3e8e59e7-ce94-4b80-86ef-23d260c854bf\",\"type\":\"BoxZoomTool\"},{\"id\":\"98a57aeb-c451-41e7-85c5-5075fcb54510\",\"type\":\"SaveTool\"},{\"id\":\"01e06513-35eb-4318-a704-24b0e5658fda\",\"type\":\"ResetTool\"},{\"id\":\"0b229737-bb18-4ec0-b1a6-c2c0521dffeb\",\"type\":\"HelpTool\"}]},\"id\":\"8f6f3d68-9c8a-4ec5-abaa-cf2a243355bd\",\"type\":\"Toolbar\"},{\"attributes\":{\"data_source\":{\"id\":\"4c8c376d-7d74-43d0-9c64-84b103b9c45d\",\"type\":\"ColumnDataSource\"},\"glyph\":{\"id\":\"d15d0dd0-9bad-4ab9-bcd1-58f3c9e814b3\",\"type\":\"Line\"},\"hover_glyph\":null,\"muted_glyph\":null,\"nonselection_glyph\":{\"id\":\"5f71908d-73ae-410d-8ef6-44747e1f8b01\",\"type\":\"Line\"},\"selection_glyph\":null,\"view\":{\"id\":\"b100d27f-671c-44e8-94e2-55ee975daa0e\",\"type\":\"CDSView\"}},\"id\":\"41928877-2e41-4f43-953f-1bbb7a32fe0c\",\"type\":\"GlyphRenderer\"},{\"attributes\":{\"axis_label\":\"AREA URBANA - MUJERES\",\"formatter\":{\"id\":\"f5a1af55-756f-4e58-a108-6317c8702f83\",\"type\":\"CategoricalTickFormatter\"},\"plot\":{\"id\":\"54678806-152f-4d99-a573-01b98788e3ee\",\"subtype\":\"Figure\",\"type\":\"Plot\"},\"ticker\":{\"id\":\"86d918c5-7041-4ec3-aaa2-ff94ca43a290\",\"type\":\"CategoricalTicker\"}},\"id\":\"7af40f0f-dcb9-4698-91b8-fd6660dc41de\",\"type\":\"CategoricalAxis\"},{\"attributes\":{\"formatter\":{\"id\":\"c31481c0-c50a-42a2-9328-b2520e728f20\",\"type\":\"BasicTickFormatter\"},\"plot\":{\"id\":\"54678806-152f-4d99-a573-01b98788e3ee\",\"subtype\":\"Figure\",\"type\":\"Plot\"},\"ticker\":{\"id\":\"4ee88806-1208-4cfe-a2c4-7ae9fcceb64c\",\"type\":\"BasicTicker\"}},\"id\":\"66530641-be1c-43d8-9b9f-bc88dd3e30d6\",\"type\":\"LinearAxis\"},{\"attributes\":{},\"id\":\"a7ca057c-69a9-4ac1-b4bb-41610845a955\",\"type\":\"PanTool\"},{\"attributes\":{},\"id\":\"a24b8576-3ca2-457b-9980-6c442db8be25\",\"type\":\"CategoricalScale\"},{\"attributes\":{},\"id\":\"4ee88806-1208-4cfe-a2c4-7ae9fcceb64c\",\"type\":\"BasicTicker\"},{\"attributes\":{},\"id\":\"c31481c0-c50a-42a2-9328-b2520e728f20\",\"type\":\"BasicTickFormatter\"},{\"attributes\":{\"callback\":null,\"start\":0},\"id\":\"b84d8093-edda-4b32-aa5c-7e6aa9ff806e\",\"type\":\"DataRange1d\"},{\"attributes\":{\"callback\":null,\"factors\":[\"15-24 a\\u00f1os\",\"25-39 a\\u00f1os\",\"40-64 a\\u00f1os\",\"65 a\\u00f1os y mas\",\"Total nacional\"]},\"id\":\"ca6db251-a970-48e6-96d3-780ba3b020eb\",\"type\":\"FactorRange\"},{\"attributes\":{\"line_color\":{\"value\":\"#FF69B4\"},\"x\":{\"field\":\"GRANDES_GRUPOS_DE_EDAD\"},\"y\":{\"field\":\"A_URBANA_M_mean\"}},\"id\":\"d15d0dd0-9bad-4ab9-bcd1-58f3c9e814b3\",\"type\":\"Line\"},{\"attributes\":{\"source\":{\"id\":\"4c8c376d-7d74-43d0-9c64-84b103b9c45d\",\"type\":\"ColumnDataSource\"}},\"id\":\"b100d27f-671c-44e8-94e2-55ee975daa0e\",\"type\":\"CDSView\"},{\"attributes\":{\"overlay\":{\"id\":\"69ae2110-c456-4bb8-b707-c0dd8cb52ff9\",\"type\":\"BoxAnnotation\"}},\"id\":\"3e8e59e7-ce94-4b80-86ef-23d260c854bf\",\"type\":\"BoxZoomTool\"},{\"attributes\":{\"callback\":null,\"column_names\":[\"A_RURAL_H_count\",\"A_RURAL_H_mean\",\"A_RURAL_H_std\",\"A_RURAL_H_min\",\"A_RURAL_H_25%\",\"A_RURAL_H_50%\",\"A_RURAL_H_75%\",\"A_RURAL_H_max\",\"A_RURAL_M_count\",\"A_RURAL_M_mean\",\"A_RURAL_M_std\",\"A_RURAL_M_min\",\"A_RURAL_M_25%\",\"A_RURAL_M_50%\",\"A_RURAL_M_75%\",\"A_RURAL_M_max\",\"A_URBANA_H_count\",\"A_URBANA_H_mean\",\"A_URBANA_H_std\",\"A_URBANA_H_min\",\"A_URBANA_H_25%\",\"A_URBANA_H_50%\",\"A_URBANA_H_75%\",\"A_URBANA_H_max\",\"A_URBANA_M_count\",\"A_URBANA_M_mean\",\"A_URBANA_M_std\",\"A_URBANA_M_min\",\"A_URBANA_M_25%\",\"A_URBANA_M_50%\",\"A_URBANA_M_75%\",\"A_URBANA_M_max\",\"TOTAL_H_count\",\"TOTAL_H_mean\",\"TOTAL_H_std\",\"TOTAL_H_min\",\"TOTAL_H_25%\",\"TOTAL_H_50%\",\"TOTAL_H_75%\",\"TOTAL_H_max\",\"TOTAL_M_count\",\"TOTAL_M_mean\",\"TOTAL_M_std\",\"TOTAL_M_min\",\"TOTAL_M_25%\",\"TOTAL_M_50%\",\"TOTAL_M_75%\",\"TOTAL_M_max\",\"GRANDES_GRUPOS_DE_EDAD\"],\"data\":{\"A_RURAL_H_25%\":{\"__ndarray__\":\"eOkmMQisnD+JQWDl0CKrP/T91HjpJsE/wMqhRbbz1T+S7Xw/NV66Pw==\",\"dtype\":\"float64\",\"shape\":[5]},\"A_RURAL_H_50%\":{\"__ndarray__\":\"eOkmMQisnD+JQWDl0CKrP/T91HjpJsE/wMqhRbbz1T+S7Xw/NV66Pw==\",\"dtype\":\"float64\",\"shape\":[5]},\"A_RURAL_H_75%\":{\"__ndarray__\":\"eOkmMQisnD+JQWDl0CKrP/T91HjpJsE/wMqhRbbz1T+S7Xw/NV66Pw==\",\"dtype\":\"float64\",\"shape\":[5]},\"A_RURAL_H_count\":{\"__ndarray__\":\"AAAAAAAA8D8AAAAAAADwPwAAAAAAAPA/AAAAAAAA8D8AAAAAAADwPw==\",\"dtype\":\"float64\",\"shape\":[5]},\"A_RURAL_H_max\":{\"__ndarray__\":\"eOkmMQisnD+JQWDl0CKrP/T91HjpJsE/wMqhRbbz1T+S7Xw/NV66Pw==\",\"dtype\":\"float64\",\"shape\":[5]},\"A_RURAL_H_mean\":{\"__ndarray__\":\"eOkmMQisnD+JQWDl0CKrP/T91HjpJsE/wMqhRbbz1T+S7Xw/NV66Pw==\",\"dtype\":\"float64\",\"shape\":[5]},\"A_RURAL_H_min\":{\"__ndarray__\":\"eOkmMQisnD+JQWDl0CKrP/T91HjpJsE/wMqhRbbz1T+S7Xw/NV66Pw==\",\"dtype\":\"float64\",\"shape\":[5]},\"A_RURAL_H_std\":{\"__ndarray__\":\"AAAAAAAA+H8AAAAAAAD4fwAAAAAAAPh/AAAAAAAA+H8AAAAAAAD4fw==\",\"dtype\":\"float64\",\"shape\":[5]},\"A_RURAL_M_25%\":{\"__ndarray__\":\"mpmZmZmZmT946SYxCKysPz0K16NwPco/AyuHFtnO3z+TGARWDi3CPw==\",\"dtype\":\"float64\",\"shape\":[5]},\"A_RURAL_M_50%\":{\"__ndarray__\":\"mpmZmZmZmT946SYxCKysPz0K16NwPco/AyuHFtnO3z+TGARWDi3CPw==\",\"dtype\":\"float64\",\"shape\":[5]},\"A_RURAL_M_75%\":{\"__ndarray__\":\"mpmZmZmZmT946SYxCKysPz0K16NwPco/AyuHFtnO3z+TGARWDi3CPw==\",\"dtype\":\"float64\",\"shape\":[5]},\"A_RURAL_M_count\":{\"__ndarray__\":\"AAAAAAAA8D8AAAAAAADwPwAAAAAAAPA/AAAAAAAA8D8AAAAAAADwPw==\",\"dtype\":\"float64\",\"shape\":[5]},\"A_RURAL_M_max\":{\"__ndarray__\":\"mpmZmZmZmT946SYxCKysPz0K16NwPco/AyuHFtnO3z+TGARWDi3CPw==\",\"dtype\":\"float64\",\"shape\":[5]},\"A_RURAL_M_mean\":{\"__ndarray__\":\"mpmZmZmZmT946SYxCKysPz0K16NwPco/AyuHFtnO3z+TGARWDi3CPw==\",\"dtype\":\"float64\",\"shape\":[5]},\"A_RURAL_M_min\":{\"__ndarray__\":\"mpmZmZmZmT946SYxCKysPz0K16NwPco/AyuHFtnO3z+TGARWDi3CPw==\",\"dtype\":\"float64\",\"shape\":[5]},\"A_RURAL_M_std\":{\"__ndarray__\":\"AAAAAAAA+H8AAAAAAAD4fwAAAAAAAPh/AAAAAAAA+H8AAAAAAAD4fw==\",\"dtype\":\"float64\",\"shape\":[5]},\"A_URBANA_H_25%\":{\"__ndarray__\":\"+n5qvHSTiD8830+Nl26SP9v5fmq8dKM//Knx0k1iwD9YObTIdr6fPw==\",\"dtype\":\"float64\",\"shape\":[5]},\"A_URBANA_H_50%\":{\"__ndarray__\":\"+n5qvHSTiD8830+Nl26SP9v5fmq8dKM//Knx0k1iwD9YObTIdr6fPw==\",\"dtype\":\"float64\",\"shape\":[5]},\"A_URBANA_H_75%\":{\"__ndarray__\":\"+n5qvHSTiD8830+Nl26SP9v5fmq8dKM//Knx0k1iwD9YObTIdr6fPw==\",\"dtype\":\"float64\",\"shape\":[5]},\"A_URBANA_H_count\":{\"__ndarray__\":\"AAAAAAAA8D8AAAAAAADwPwAAAAAAAPA/AAAAAAAA8D8AAAAAAADwPw==\",\"dtype\":\"float64\",\"shape\":[5]},\"A_URBANA_H_max\":{\"__ndarray__\":\"+n5qvHSTiD8830+Nl26SP9v5fmq8dKM//Knx0k1iwD9YObTIdr6fPw==\",\"dtype\":\"float64\",\"shape\":[5]},\"A_URBANA_H_mean\":{\"__ndarray__\":\"+n5qvHSTiD8830+Nl26SP9v5fmq8dKM//Knx0k1iwD9YObTIdr6fPw==\",\"dtype\":\"float64\",\"shape\":[5]},\"A_URBANA_H_min\":{\"__ndarray__\":\"+n5qvHSTiD8830+Nl26SP9v5fmq8dKM//Knx0k1iwD9YObTIdr6fPw==\",\"dtype\":\"float64\",\"shape\":[5]},\"A_URBANA_H_std\":{\"__ndarray__\":\"AAAAAAAA+H8AAAAAAAD4fwAAAAAAAPh/AAAAAAAA+H8AAAAAAAD4fw==\",\"dtype\":\"float64\",\"shape\":[5]},\"A_URBANA_M_25%\":{\"__ndarray__\":\"PN9PjZdugj+cxCCwcmiRP9rO91Pjpas/9ihcj8L1yD9qvHSTGASmPw==\",\"dtype\":\"float64\",\"shape\":[5]},\"A_URBANA_M_50%\":{\"__ndarray__\":\"PN9PjZdugj+cxCCwcmiRP9rO91Pjpas/9ihcj8L1yD9qvHSTGASmPw==\",\"dtype\":\"float64\",\"shape\":[5]},\"A_URBANA_M_75%\":{\"__ndarray__\":\"PN9PjZdugj+cxCCwcmiRP9rO91Pjpas/9ihcj8L1yD9qvHSTGASmPw==\",\"dtype\":\"float64\",\"shape\":[5]},\"A_URBANA_M_count\":{\"__ndarray__\":\"AAAAAAAA8D8AAAAAAADwPwAAAAAAAPA/AAAAAAAA8D8AAAAAAADwPw==\",\"dtype\":\"float64\",\"shape\":[5]},\"A_URBANA_M_max\":{\"__ndarray__\":\"PN9PjZdugj+cxCCwcmiRP9rO91Pjpas/9ihcj8L1yD9qvHSTGASmPw==\",\"dtype\":\"float64\",\"shape\":[5]},\"A_URBANA_M_mean\":{\"__ndarray__\":\"PN9PjZdugj+cxCCwcmiRP9rO91Pjpas/9ihcj8L1yD9qvHSTGASmPw==\",\"dtype\":\"float64\",\"shape\":[5]},\"A_URBANA_M_min\":{\"__ndarray__\":\"PN9PjZdugj+cxCCwcmiRP9rO91Pjpas/9ihcj8L1yD9qvHSTGASmPw==\",\"dtype\":\"float64\",\"shape\":[5]},\"A_URBANA_M_std\":{\"__ndarray__\":\"AAAAAAAA+H8AAAAAAAD4fwAAAAAAAPh/AAAAAAAA+H8AAAAAAAD4fw==\",\"dtype\":\"float64\",\"shape\":[5]},\"GRANDES_GRUPOS_DE_EDAD\":[\"15-24 a\\u00f1os\",\"25-39 a\\u00f1os\",\"40-64 a\\u00f1os\",\"65 a\\u00f1os y mas\",\"Total nacional\"],\"TOTAL_H_25%\":{\"__ndarray__\":\"PN9PjZdukj+4HoXrUbiePzzfT42XbrI/eOkmMQiszD8YBFYOLbKtPw==\",\"dtype\":\"float64\",\"shape\":[5]},\"TOTAL_H_50%\":{\"__ndarray__\":\"PN9PjZdukj+4HoXrUbiePzzfT42XbrI/eOkmMQiszD8YBFYOLbKtPw==\",\"dtype\":\"float64\",\"shape\":[5]},\"TOTAL_H_75%\":{\"__ndarray__\":\"PN9PjZdukj+4HoXrUbiePzzfT42XbrI/eOkmMQiszD8YBFYOLbKtPw==\",\"dtype\":\"float64\",\"shape\":[5]},\"TOTAL_H_count\":{\"__ndarray__\":\"AAAAAAAA8D8AAAAAAADwPwAAAAAAAPA/AAAAAAAA8D8AAAAAAADwPw==\",\"dtype\":\"float64\",\"shape\":[5]},\"TOTAL_H_max\":{\"__ndarray__\":\"PN9PjZdukj+4HoXrUbiePzzfT42XbrI/eOkmMQiszD8YBFYOLbKtPw==\",\"dtype\":\"float64\",\"shape\":[5]},\"TOTAL_H_mean\":{\"__ndarray__\":\"PN9PjZdukj+4HoXrUbiePzzfT42XbrI/eOkmMQiszD8YBFYOLbKtPw==\",\"dtype\":\"float64\",\"shape\":[5]},\"TOTAL_H_min\":{\"__ndarray__\":\"PN9PjZdukj+4HoXrUbiePzzfT42XbrI/eOkmMQiszD8YBFYOLbKtPw==\",\"dtype\":\"float64\",\"shape\":[5]},\"TOTAL_H_std\":{\"__ndarray__\":\"AAAAAAAA+H8AAAAAAAD4fwAAAAAAAPh/AAAAAAAA+H8AAAAAAAD4fw==\",\"dtype\":\"float64\",\"shape\":[5]},\"TOTAL_M_25%\":{\"__ndarray__\":\"uB6F61G4jj+4HoXrUbiePzq0yHa+n7o/001iEFg51D+DwMqhRbazPw==\",\"dtype\":\"float64\",\"shape\":[5]},\"TOTAL_M_50%\":{\"__ndarray__\":\"uB6F61G4jj+4HoXrUbiePzq0yHa+n7o/001iEFg51D+DwMqhRbazPw==\",\"dtype\":\"float64\",\"shape\":[5]},\"TOTAL_M_75%\":{\"__ndarray__\":\"uB6F61G4jj+4HoXrUbiePzq0yHa+n7o/001iEFg51D+DwMqhRbazPw==\",\"dtype\":\"float64\",\"shape\":[5]},\"TOTAL_M_count\":{\"__ndarray__\":\"AAAAAAAA8D8AAAAAAADwPwAAAAAAAPA/AAAAAAAA8D8AAAAAAADwPw==\",\"dtype\":\"float64\",\"shape\":[5]},\"TOTAL_M_max\":{\"__ndarray__\":\"uB6F61G4jj+4HoXrUbiePzq0yHa+n7o/001iEFg51D+DwMqhRbazPw==\",\"dtype\":\"float64\",\"shape\":[5]},\"TOTAL_M_mean\":{\"__ndarray__\":\"uB6F61G4jj+4HoXrUbiePzq0yHa+n7o/001iEFg51D+DwMqhRbazPw==\",\"dtype\":\"float64\",\"shape\":[5]},\"TOTAL_M_min\":{\"__ndarray__\":\"uB6F61G4jj+4HoXrUbiePzq0yHa+n7o/001iEFg51D+DwMqhRbazPw==\",\"dtype\":\"float64\",\"shape\":[5]},\"TOTAL_M_std\":{\"__ndarray__\":\"AAAAAAAA+H8AAAAAAAD4fwAAAAAAAPh/AAAAAAAA+H8AAAAAAAD4fw==\",\"dtype\":\"float64\",\"shape\":[5]}}},\"id\":\"4c8c376d-7d74-43d0-9c64-84b103b9c45d\",\"type\":\"ColumnDataSource\"},{\"attributes\":{\"plot\":null,\"text\":\"ANALFABETISMO POR AREA Y GRUPOS DE EDAD\"},\"id\":\"f49d9603-1162-4879-81a8-a24df903f96c\",\"type\":\"Title\"},{\"attributes\":{},\"id\":\"f5a1af55-756f-4e58-a108-6317c8702f83\",\"type\":\"CategoricalTickFormatter\"}],\"root_ids\":[\"54678806-152f-4d99-a573-01b98788e3ee\"]},\"title\":\"Bokeh Application\",\"version\":\"0.12.10\"}};\n",
       "    var render_items = [{\"docid\":\"9d8b55ce-402e-4429-90e8-74d10ea6818b\",\"elementid\":\"c1cd2040-6bab-49f8-aa2b-a23651ee5ffa\",\"modelid\":\"54678806-152f-4d99-a573-01b98788e3ee\"}];\n",
       "\n",
       "    root.Bokeh.embed.embed_items(docs_json, render_items);\n",
       "  }\n",
       "\n",
       "  if (root.Bokeh !== undefined) {\n",
       "    embed_document(root);\n",
       "  } else {\n",
       "    var attempts = 0;\n",
       "    var timer = setInterval(function(root) {\n",
       "      if (root.Bokeh !== undefined) {\n",
       "        embed_document(root);\n",
       "        clearInterval(timer);\n",
       "      }\n",
       "      attempts++;\n",
       "      if (attempts > 100) {\n",
       "        console.log(\"Bokeh: ERROR: Unable to embed document because BokehJS library is missing\")\n",
       "        clearInterval(timer);\n",
       "      }\n",
       "    }, 10, root)\n",
       "  }\n",
       "})(window);"
      ],
      "application/vnd.bokehjs_exec.v0+json": ""
     },
     "metadata": {
      "application/vnd.bokehjs_exec.v0+json": {
       "id": "54678806-152f-4d99-a573-01b98788e3ee"
      }
     },
     "output_type": "display_data"
    }
   ],
   "source": [
    "# Agrupamos los valores en base a la columna \"GRANDES_GRUPOS_DE_EDAD\" \n",
    "group1 = tabla1.groupby('GRANDES_GRUPOS_DE_EDAD')\n",
    "\n",
    "# Nos permite obtener Mapas nombres de columnas a secuencias o matrices.\n",
    "source = ColumnDataSource(group1)\n",
    "\n",
    "# Creamos un objeto de figura y establecemos su tamaño, rango, y le damos un título \n",
    "p = figure(plot_height=250, plot_width=750, x_range=group1,  title='ANALFABETISMO POR AREA Y GRUPOS DE EDAD')\n",
    "\n",
    "\n",
    "p.line(x='GRANDES_GRUPOS_DE_EDAD', y='A_URBANA_M_mean', color='#FF69B4', source=source)\n",
    "\n",
    "p.xgrid.grid_line_color = None\n",
    "p.xaxis.axis_label = \"AREA URBANA - MUJERES\"\n",
    "# Modificamos para la presentación el rango inicial \n",
    "p.y_range.start = 0\n",
    "\n",
    "show(p)"
   ]
  },
  {
   "cell_type": "code",
   "execution_count": 14,
   "metadata": {},
   "outputs": [
    {
     "data": {
      "text/plain": [
       "{'A_RURAL_H_25%': array([ 0.028,  0.053,  0.134,  0.343,  0.103]),\n",
       " 'A_RURAL_H_50%': array([ 0.028,  0.053,  0.134,  0.343,  0.103]),\n",
       " 'A_RURAL_H_75%': array([ 0.028,  0.053,  0.134,  0.343,  0.103]),\n",
       " 'A_RURAL_H_count': array([ 1.,  1.,  1.,  1.,  1.]),\n",
       " 'A_RURAL_H_max': array([ 0.028,  0.053,  0.134,  0.343,  0.103]),\n",
       " 'A_RURAL_H_mean': array([ 0.028,  0.053,  0.134,  0.343,  0.103]),\n",
       " 'A_RURAL_H_min': array([ 0.028,  0.053,  0.134,  0.343,  0.103]),\n",
       " 'A_RURAL_H_std': array([ nan,  nan,  nan,  nan,  nan]),\n",
       " 'A_RURAL_M_25%': array([ 0.025,  0.056,  0.205,  0.497,  0.142]),\n",
       " 'A_RURAL_M_50%': array([ 0.025,  0.056,  0.205,  0.497,  0.142]),\n",
       " 'A_RURAL_M_75%': array([ 0.025,  0.056,  0.205,  0.497,  0.142]),\n",
       " 'A_RURAL_M_count': array([ 1.,  1.,  1.,  1.,  1.]),\n",
       " 'A_RURAL_M_max': array([ 0.025,  0.056,  0.205,  0.497,  0.142]),\n",
       " 'A_RURAL_M_mean': array([ 0.025,  0.056,  0.205,  0.497,  0.142]),\n",
       " 'A_RURAL_M_min': array([ 0.025,  0.056,  0.205,  0.497,  0.142]),\n",
       " 'A_RURAL_M_std': array([ nan,  nan,  nan,  nan,  nan]),\n",
       " 'A_URBANA_H_25%': array([ 0.012,  0.018,  0.038,  0.128,  0.031]),\n",
       " 'A_URBANA_H_50%': array([ 0.012,  0.018,  0.038,  0.128,  0.031]),\n",
       " 'A_URBANA_H_75%': array([ 0.012,  0.018,  0.038,  0.128,  0.031]),\n",
       " 'A_URBANA_H_count': array([ 1.,  1.,  1.,  1.,  1.]),\n",
       " 'A_URBANA_H_max': array([ 0.012,  0.018,  0.038,  0.128,  0.031]),\n",
       " 'A_URBANA_H_mean': array([ 0.012,  0.018,  0.038,  0.128,  0.031]),\n",
       " 'A_URBANA_H_min': array([ 0.012,  0.018,  0.038,  0.128,  0.031]),\n",
       " 'A_URBANA_H_std': array([ nan,  nan,  nan,  nan,  nan]),\n",
       " 'A_URBANA_M_25%': array([ 0.009,  0.017,  0.054,  0.195,  0.043]),\n",
       " 'A_URBANA_M_50%': array([ 0.009,  0.017,  0.054,  0.195,  0.043]),\n",
       " 'A_URBANA_M_75%': array([ 0.009,  0.017,  0.054,  0.195,  0.043]),\n",
       " 'A_URBANA_M_count': array([ 1.,  1.,  1.,  1.,  1.]),\n",
       " 'A_URBANA_M_max': array([ 0.009,  0.017,  0.054,  0.195,  0.043]),\n",
       " 'A_URBANA_M_mean': array([ 0.009,  0.017,  0.054,  0.195,  0.043]),\n",
       " 'A_URBANA_M_min': array([ 0.009,  0.017,  0.054,  0.195,  0.043]),\n",
       " 'A_URBANA_M_std': array([ nan,  nan,  nan,  nan,  nan]),\n",
       " 'GRANDES_GRUPOS_DE_EDAD': array(['15-24 años', '25-39 años', '40-64 años', '65 años y mas',\n",
       "        'Total nacional'], dtype=object),\n",
       " 'TOTAL_H_25%': array([ 0.018,  0.03 ,  0.072,  0.224,  0.058]),\n",
       " 'TOTAL_H_50%': array([ 0.018,  0.03 ,  0.072,  0.224,  0.058]),\n",
       " 'TOTAL_H_75%': array([ 0.018,  0.03 ,  0.072,  0.224,  0.058]),\n",
       " 'TOTAL_H_count': array([ 1.,  1.,  1.,  1.,  1.]),\n",
       " 'TOTAL_H_max': array([ 0.018,  0.03 ,  0.072,  0.224,  0.058]),\n",
       " 'TOTAL_H_mean': array([ 0.018,  0.03 ,  0.072,  0.224,  0.058]),\n",
       " 'TOTAL_H_min': array([ 0.018,  0.03 ,  0.072,  0.224,  0.058]),\n",
       " 'TOTAL_H_std': array([ nan,  nan,  nan,  nan,  nan]),\n",
       " 'TOTAL_M_25%': array([ 0.015,  0.03 ,  0.104,  0.316,  0.077]),\n",
       " 'TOTAL_M_50%': array([ 0.015,  0.03 ,  0.104,  0.316,  0.077]),\n",
       " 'TOTAL_M_75%': array([ 0.015,  0.03 ,  0.104,  0.316,  0.077]),\n",
       " 'TOTAL_M_count': array([ 1.,  1.,  1.,  1.,  1.]),\n",
       " 'TOTAL_M_max': array([ 0.015,  0.03 ,  0.104,  0.316,  0.077]),\n",
       " 'TOTAL_M_mean': array([ 0.015,  0.03 ,  0.104,  0.316,  0.077]),\n",
       " 'TOTAL_M_min': array([ 0.015,  0.03 ,  0.104,  0.316,  0.077]),\n",
       " 'TOTAL_M_std': array([ nan,  nan,  nan,  nan,  nan])}"
      ]
     },
     "execution_count": 14,
     "metadata": {},
     "output_type": "execute_result"
    }
   ],
   "source": [
    "# Agrupamos los valores en base a la columna \"GRANDES_GRUPOS_DE_EDAD\" \n",
    "group1 = tabla1.groupby('GRANDES_GRUPOS_DE_EDAD')\n",
    "\n",
    "# Nos permite obtener Mapas nombres de columnas a secuencias o matrices.\n",
    "source = ColumnDataSource(group1)\n",
    "\n",
    "# Mostramos los nombres de los datos albergados en source - donde buscamos los nombre de los datos que buscamos en concreto\n",
    "source.data"
   ]
  },
  {
   "cell_type": "code",
   "execution_count": 15,
   "metadata": {},
   "outputs": [
    {
     "data": {
      "text/html": [
       "\n",
       "<div class=\"bk-root\">\n",
       "    <div class=\"bk-plotdiv\" id=\"fa0b5358-6832-4d90-80b5-10211037686c\"></div>\n",
       "</div>"
      ]
     },
     "metadata": {},
     "output_type": "display_data"
    },
    {
     "data": {
      "application/javascript": [
       "(function(root) {\n",
       "  function embed_document(root) {\n",
       "    var docs_json = {\"18a59fef-f5ba-49e8-9e5c-98e2dcd93aee\":{\"roots\":{\"references\":[{\"attributes\":{\"dimension\":1,\"plot\":{\"id\":\"abb0b89b-0c99-4155-a493-d52e0d1cd10d\",\"subtype\":\"Figure\",\"type\":\"Plot\"},\"ticker\":{\"id\":\"2a26c7ec-8069-49aa-a8ec-37e966e3d3b6\",\"type\":\"BasicTicker\"}},\"id\":\"375c3216-0c64-4018-8683-4317571b1fda\",\"type\":\"Grid\"},{\"attributes\":{\"fill_color\":{\"value\":\"#FF69B4\"},\"line_color\":{\"value\":\"#FF69B4\"},\"size\":{\"units\":\"screen\",\"value\":5.5},\"x\":{\"field\":\"GRANDES_GRUPOS_DE_EDAD\"},\"y\":{\"field\":\"A_URBANA_M_mean\"}},\"id\":\"bad427c6-716a-49a5-9608-655ffd7b9a0f\",\"type\":\"Circle\"},{\"attributes\":{},\"id\":\"ae575360-048d-4705-90c6-a58ca188f14c\",\"type\":\"PanTool\"},{\"attributes\":{},\"id\":\"bb51d3ca-7ca8-4c2e-8870-6e93055302de\",\"type\":\"HelpTool\"},{\"attributes\":{\"callback\":null,\"factors\":[\"15-24 a\\u00f1os\",\"25-39 a\\u00f1os\",\"40-64 a\\u00f1os\",\"65 a\\u00f1os y mas\",\"Total nacional\"]},\"id\":\"4e732575-a215-40e5-81bf-1846b44a4da2\",\"type\":\"FactorRange\"},{\"attributes\":{},\"id\":\"5a673eb8-f0c5-429a-ba5d-a14b1ae3cf82\",\"type\":\"WheelZoomTool\"},{\"attributes\":{\"fill_alpha\":{\"value\":0.1},\"fill_color\":{\"value\":\"#1f77b4\"},\"line_alpha\":{\"value\":0.1},\"line_color\":{\"value\":\"#1f77b4\"},\"size\":{\"units\":\"screen\",\"value\":5.5},\"x\":{\"field\":\"GRANDES_GRUPOS_DE_EDAD\"},\"y\":{\"field\":\"A_URBANA_M_mean\"}},\"id\":\"0ea0fdf2-1fc6-4acc-8c33-9fdc1ff190a8\",\"type\":\"Circle\"},{\"attributes\":{\"axis_label\":\"AREA URBANA - MUJERES\",\"formatter\":{\"id\":\"ff80e8bd-c9a4-4644-85d0-915b9c4a74cb\",\"type\":\"CategoricalTickFormatter\"},\"plot\":{\"id\":\"abb0b89b-0c99-4155-a493-d52e0d1cd10d\",\"subtype\":\"Figure\",\"type\":\"Plot\"},\"ticker\":{\"id\":\"a472b938-8b11-4ce3-b263-ced24e6a7c85\",\"type\":\"CategoricalTicker\"}},\"id\":\"fc91d084-6091-4bf3-a324-697e5286274c\",\"type\":\"CategoricalAxis\"},{\"attributes\":{},\"id\":\"a472b938-8b11-4ce3-b263-ced24e6a7c85\",\"type\":\"CategoricalTicker\"},{\"attributes\":{\"callback\":null,\"column_names\":[\"A_RURAL_H_count\",\"A_RURAL_H_mean\",\"A_RURAL_H_std\",\"A_RURAL_H_min\",\"A_RURAL_H_25%\",\"A_RURAL_H_50%\",\"A_RURAL_H_75%\",\"A_RURAL_H_max\",\"A_RURAL_M_count\",\"A_RURAL_M_mean\",\"A_RURAL_M_std\",\"A_RURAL_M_min\",\"A_RURAL_M_25%\",\"A_RURAL_M_50%\",\"A_RURAL_M_75%\",\"A_RURAL_M_max\",\"A_URBANA_H_count\",\"A_URBANA_H_mean\",\"A_URBANA_H_std\",\"A_URBANA_H_min\",\"A_URBANA_H_25%\",\"A_URBANA_H_50%\",\"A_URBANA_H_75%\",\"A_URBANA_H_max\",\"A_URBANA_M_count\",\"A_URBANA_M_mean\",\"A_URBANA_M_std\",\"A_URBANA_M_min\",\"A_URBANA_M_25%\",\"A_URBANA_M_50%\",\"A_URBANA_M_75%\",\"A_URBANA_M_max\",\"TOTAL_H_count\",\"TOTAL_H_mean\",\"TOTAL_H_std\",\"TOTAL_H_min\",\"TOTAL_H_25%\",\"TOTAL_H_50%\",\"TOTAL_H_75%\",\"TOTAL_H_max\",\"TOTAL_M_count\",\"TOTAL_M_mean\",\"TOTAL_M_std\",\"TOTAL_M_min\",\"TOTAL_M_25%\",\"TOTAL_M_50%\",\"TOTAL_M_75%\",\"TOTAL_M_max\",\"GRANDES_GRUPOS_DE_EDAD\"],\"data\":{\"A_RURAL_H_25%\":{\"__ndarray__\":\"eOkmMQisnD+JQWDl0CKrP/T91HjpJsE/wMqhRbbz1T+S7Xw/NV66Pw==\",\"dtype\":\"float64\",\"shape\":[5]},\"A_RURAL_H_50%\":{\"__ndarray__\":\"eOkmMQisnD+JQWDl0CKrP/T91HjpJsE/wMqhRbbz1T+S7Xw/NV66Pw==\",\"dtype\":\"float64\",\"shape\":[5]},\"A_RURAL_H_75%\":{\"__ndarray__\":\"eOkmMQisnD+JQWDl0CKrP/T91HjpJsE/wMqhRbbz1T+S7Xw/NV66Pw==\",\"dtype\":\"float64\",\"shape\":[5]},\"A_RURAL_H_count\":{\"__ndarray__\":\"AAAAAAAA8D8AAAAAAADwPwAAAAAAAPA/AAAAAAAA8D8AAAAAAADwPw==\",\"dtype\":\"float64\",\"shape\":[5]},\"A_RURAL_H_max\":{\"__ndarray__\":\"eOkmMQisnD+JQWDl0CKrP/T91HjpJsE/wMqhRbbz1T+S7Xw/NV66Pw==\",\"dtype\":\"float64\",\"shape\":[5]},\"A_RURAL_H_mean\":{\"__ndarray__\":\"eOkmMQisnD+JQWDl0CKrP/T91HjpJsE/wMqhRbbz1T+S7Xw/NV66Pw==\",\"dtype\":\"float64\",\"shape\":[5]},\"A_RURAL_H_min\":{\"__ndarray__\":\"eOkmMQisnD+JQWDl0CKrP/T91HjpJsE/wMqhRbbz1T+S7Xw/NV66Pw==\",\"dtype\":\"float64\",\"shape\":[5]},\"A_RURAL_H_std\":{\"__ndarray__\":\"AAAAAAAA+H8AAAAAAAD4fwAAAAAAAPh/AAAAAAAA+H8AAAAAAAD4fw==\",\"dtype\":\"float64\",\"shape\":[5]},\"A_RURAL_M_25%\":{\"__ndarray__\":\"mpmZmZmZmT946SYxCKysPz0K16NwPco/AyuHFtnO3z+TGARWDi3CPw==\",\"dtype\":\"float64\",\"shape\":[5]},\"A_RURAL_M_50%\":{\"__ndarray__\":\"mpmZmZmZmT946SYxCKysPz0K16NwPco/AyuHFtnO3z+TGARWDi3CPw==\",\"dtype\":\"float64\",\"shape\":[5]},\"A_RURAL_M_75%\":{\"__ndarray__\":\"mpmZmZmZmT946SYxCKysPz0K16NwPco/AyuHFtnO3z+TGARWDi3CPw==\",\"dtype\":\"float64\",\"shape\":[5]},\"A_RURAL_M_count\":{\"__ndarray__\":\"AAAAAAAA8D8AAAAAAADwPwAAAAAAAPA/AAAAAAAA8D8AAAAAAADwPw==\",\"dtype\":\"float64\",\"shape\":[5]},\"A_RURAL_M_max\":{\"__ndarray__\":\"mpmZmZmZmT946SYxCKysPz0K16NwPco/AyuHFtnO3z+TGARWDi3CPw==\",\"dtype\":\"float64\",\"shape\":[5]},\"A_RURAL_M_mean\":{\"__ndarray__\":\"mpmZmZmZmT946SYxCKysPz0K16NwPco/AyuHFtnO3z+TGARWDi3CPw==\",\"dtype\":\"float64\",\"shape\":[5]},\"A_RURAL_M_min\":{\"__ndarray__\":\"mpmZmZmZmT946SYxCKysPz0K16NwPco/AyuHFtnO3z+TGARWDi3CPw==\",\"dtype\":\"float64\",\"shape\":[5]},\"A_RURAL_M_std\":{\"__ndarray__\":\"AAAAAAAA+H8AAAAAAAD4fwAAAAAAAPh/AAAAAAAA+H8AAAAAAAD4fw==\",\"dtype\":\"float64\",\"shape\":[5]},\"A_URBANA_H_25%\":{\"__ndarray__\":\"+n5qvHSTiD8830+Nl26SP9v5fmq8dKM//Knx0k1iwD9YObTIdr6fPw==\",\"dtype\":\"float64\",\"shape\":[5]},\"A_URBANA_H_50%\":{\"__ndarray__\":\"+n5qvHSTiD8830+Nl26SP9v5fmq8dKM//Knx0k1iwD9YObTIdr6fPw==\",\"dtype\":\"float64\",\"shape\":[5]},\"A_URBANA_H_75%\":{\"__ndarray__\":\"+n5qvHSTiD8830+Nl26SP9v5fmq8dKM//Knx0k1iwD9YObTIdr6fPw==\",\"dtype\":\"float64\",\"shape\":[5]},\"A_URBANA_H_count\":{\"__ndarray__\":\"AAAAAAAA8D8AAAAAAADwPwAAAAAAAPA/AAAAAAAA8D8AAAAAAADwPw==\",\"dtype\":\"float64\",\"shape\":[5]},\"A_URBANA_H_max\":{\"__ndarray__\":\"+n5qvHSTiD8830+Nl26SP9v5fmq8dKM//Knx0k1iwD9YObTIdr6fPw==\",\"dtype\":\"float64\",\"shape\":[5]},\"A_URBANA_H_mean\":{\"__ndarray__\":\"+n5qvHSTiD8830+Nl26SP9v5fmq8dKM//Knx0k1iwD9YObTIdr6fPw==\",\"dtype\":\"float64\",\"shape\":[5]},\"A_URBANA_H_min\":{\"__ndarray__\":\"+n5qvHSTiD8830+Nl26SP9v5fmq8dKM//Knx0k1iwD9YObTIdr6fPw==\",\"dtype\":\"float64\",\"shape\":[5]},\"A_URBANA_H_std\":{\"__ndarray__\":\"AAAAAAAA+H8AAAAAAAD4fwAAAAAAAPh/AAAAAAAA+H8AAAAAAAD4fw==\",\"dtype\":\"float64\",\"shape\":[5]},\"A_URBANA_M_25%\":{\"__ndarray__\":\"PN9PjZdugj+cxCCwcmiRP9rO91Pjpas/9ihcj8L1yD9qvHSTGASmPw==\",\"dtype\":\"float64\",\"shape\":[5]},\"A_URBANA_M_50%\":{\"__ndarray__\":\"PN9PjZdugj+cxCCwcmiRP9rO91Pjpas/9ihcj8L1yD9qvHSTGASmPw==\",\"dtype\":\"float64\",\"shape\":[5]},\"A_URBANA_M_75%\":{\"__ndarray__\":\"PN9PjZdugj+cxCCwcmiRP9rO91Pjpas/9ihcj8L1yD9qvHSTGASmPw==\",\"dtype\":\"float64\",\"shape\":[5]},\"A_URBANA_M_count\":{\"__ndarray__\":\"AAAAAAAA8D8AAAAAAADwPwAAAAAAAPA/AAAAAAAA8D8AAAAAAADwPw==\",\"dtype\":\"float64\",\"shape\":[5]},\"A_URBANA_M_max\":{\"__ndarray__\":\"PN9PjZdugj+cxCCwcmiRP9rO91Pjpas/9ihcj8L1yD9qvHSTGASmPw==\",\"dtype\":\"float64\",\"shape\":[5]},\"A_URBANA_M_mean\":{\"__ndarray__\":\"PN9PjZdugj+cxCCwcmiRP9rO91Pjpas/9ihcj8L1yD9qvHSTGASmPw==\",\"dtype\":\"float64\",\"shape\":[5]},\"A_URBANA_M_min\":{\"__ndarray__\":\"PN9PjZdugj+cxCCwcmiRP9rO91Pjpas/9ihcj8L1yD9qvHSTGASmPw==\",\"dtype\":\"float64\",\"shape\":[5]},\"A_URBANA_M_std\":{\"__ndarray__\":\"AAAAAAAA+H8AAAAAAAD4fwAAAAAAAPh/AAAAAAAA+H8AAAAAAAD4fw==\",\"dtype\":\"float64\",\"shape\":[5]},\"GRANDES_GRUPOS_DE_EDAD\":[\"15-24 a\\u00f1os\",\"25-39 a\\u00f1os\",\"40-64 a\\u00f1os\",\"65 a\\u00f1os y mas\",\"Total nacional\"],\"TOTAL_H_25%\":{\"__ndarray__\":\"PN9PjZdukj+4HoXrUbiePzzfT42XbrI/eOkmMQiszD8YBFYOLbKtPw==\",\"dtype\":\"float64\",\"shape\":[5]},\"TOTAL_H_50%\":{\"__ndarray__\":\"PN9PjZdukj+4HoXrUbiePzzfT42XbrI/eOkmMQiszD8YBFYOLbKtPw==\",\"dtype\":\"float64\",\"shape\":[5]},\"TOTAL_H_75%\":{\"__ndarray__\":\"PN9PjZdukj+4HoXrUbiePzzfT42XbrI/eOkmMQiszD8YBFYOLbKtPw==\",\"dtype\":\"float64\",\"shape\":[5]},\"TOTAL_H_count\":{\"__ndarray__\":\"AAAAAAAA8D8AAAAAAADwPwAAAAAAAPA/AAAAAAAA8D8AAAAAAADwPw==\",\"dtype\":\"float64\",\"shape\":[5]},\"TOTAL_H_max\":{\"__ndarray__\":\"PN9PjZdukj+4HoXrUbiePzzfT42XbrI/eOkmMQiszD8YBFYOLbKtPw==\",\"dtype\":\"float64\",\"shape\":[5]},\"TOTAL_H_mean\":{\"__ndarray__\":\"PN9PjZdukj+4HoXrUbiePzzfT42XbrI/eOkmMQiszD8YBFYOLbKtPw==\",\"dtype\":\"float64\",\"shape\":[5]},\"TOTAL_H_min\":{\"__ndarray__\":\"PN9PjZdukj+4HoXrUbiePzzfT42XbrI/eOkmMQiszD8YBFYOLbKtPw==\",\"dtype\":\"float64\",\"shape\":[5]},\"TOTAL_H_std\":{\"__ndarray__\":\"AAAAAAAA+H8AAAAAAAD4fwAAAAAAAPh/AAAAAAAA+H8AAAAAAAD4fw==\",\"dtype\":\"float64\",\"shape\":[5]},\"TOTAL_M_25%\":{\"__ndarray__\":\"uB6F61G4jj+4HoXrUbiePzq0yHa+n7o/001iEFg51D+DwMqhRbazPw==\",\"dtype\":\"float64\",\"shape\":[5]},\"TOTAL_M_50%\":{\"__ndarray__\":\"uB6F61G4jj+4HoXrUbiePzq0yHa+n7o/001iEFg51D+DwMqhRbazPw==\",\"dtype\":\"float64\",\"shape\":[5]},\"TOTAL_M_75%\":{\"__ndarray__\":\"uB6F61G4jj+4HoXrUbiePzq0yHa+n7o/001iEFg51D+DwMqhRbazPw==\",\"dtype\":\"float64\",\"shape\":[5]},\"TOTAL_M_count\":{\"__ndarray__\":\"AAAAAAAA8D8AAAAAAADwPwAAAAAAAPA/AAAAAAAA8D8AAAAAAADwPw==\",\"dtype\":\"float64\",\"shape\":[5]},\"TOTAL_M_max\":{\"__ndarray__\":\"uB6F61G4jj+4HoXrUbiePzq0yHa+n7o/001iEFg51D+DwMqhRbazPw==\",\"dtype\":\"float64\",\"shape\":[5]},\"TOTAL_M_mean\":{\"__ndarray__\":\"uB6F61G4jj+4HoXrUbiePzq0yHa+n7o/001iEFg51D+DwMqhRbazPw==\",\"dtype\":\"float64\",\"shape\":[5]},\"TOTAL_M_min\":{\"__ndarray__\":\"uB6F61G4jj+4HoXrUbiePzq0yHa+n7o/001iEFg51D+DwMqhRbazPw==\",\"dtype\":\"float64\",\"shape\":[5]},\"TOTAL_M_std\":{\"__ndarray__\":\"AAAAAAAA+H8AAAAAAAD4fwAAAAAAAPh/AAAAAAAA+H8AAAAAAAD4fw==\",\"dtype\":\"float64\",\"shape\":[5]}}},\"id\":\"1407f711-a124-44b6-adcd-2ebb8a4c04e0\",\"type\":\"ColumnDataSource\"},{\"attributes\":{\"line_color\":{\"value\":\"#FF69B4\"},\"x\":{\"field\":\"GRANDES_GRUPOS_DE_EDAD\"},\"y\":{\"field\":\"A_URBANA_M_mean\"}},\"id\":\"b38fff97-e254-46e9-ab47-d7fa1dc5e5b9\",\"type\":\"Line\"},{\"attributes\":{\"plot\":null,\"text\":\"ANALFABETISMO POR AREA Y GRUPOS DE EDAD\"},\"id\":\"361995be-0e1f-4fb4-8538-5c215efd2f76\",\"type\":\"Title\"},{\"attributes\":{\"data_source\":{\"id\":\"1407f711-a124-44b6-adcd-2ebb8a4c04e0\",\"type\":\"ColumnDataSource\"},\"glyph\":{\"id\":\"b38fff97-e254-46e9-ab47-d7fa1dc5e5b9\",\"type\":\"Line\"},\"hover_glyph\":null,\"muted_glyph\":null,\"nonselection_glyph\":{\"id\":\"fa820df0-f64d-4015-ba71-c877f4d9d76a\",\"type\":\"Line\"},\"selection_glyph\":null,\"view\":{\"id\":\"e248f93d-caab-473f-a267-603fcfa43772\",\"type\":\"CDSView\"}},\"id\":\"9461dfb3-552d-4437-9015-773d46f3f86f\",\"type\":\"GlyphRenderer\"},{\"attributes\":{},\"id\":\"8ba5dca1-e50e-4f57-9513-b356d45a2d7a\",\"type\":\"BasicTickFormatter\"},{\"attributes\":{},\"id\":\"ff80e8bd-c9a4-4644-85d0-915b9c4a74cb\",\"type\":\"CategoricalTickFormatter\"},{\"attributes\":{\"callback\":null,\"start\":0},\"id\":\"8daafb70-4f54-4b99-bd38-b4c1bfb6abd2\",\"type\":\"DataRange1d\"},{\"attributes\":{\"source\":{\"id\":\"1407f711-a124-44b6-adcd-2ebb8a4c04e0\",\"type\":\"ColumnDataSource\"}},\"id\":\"e248f93d-caab-473f-a267-603fcfa43772\",\"type\":\"CDSView\"},{\"attributes\":{},\"id\":\"fe493671-6e61-46e8-b633-d1304be3deb8\",\"type\":\"CategoricalScale\"},{\"attributes\":{\"data_source\":{\"id\":\"1407f711-a124-44b6-adcd-2ebb8a4c04e0\",\"type\":\"ColumnDataSource\"},\"glyph\":{\"id\":\"bad427c6-716a-49a5-9608-655ffd7b9a0f\",\"type\":\"Circle\"},\"hover_glyph\":null,\"muted_glyph\":null,\"nonselection_glyph\":{\"id\":\"0ea0fdf2-1fc6-4acc-8c33-9fdc1ff190a8\",\"type\":\"Circle\"},\"selection_glyph\":null,\"view\":{\"id\":\"9dc94dd9-72d8-49a4-84d7-cb13884a918d\",\"type\":\"CDSView\"}},\"id\":\"33e5260f-3ed1-4d14-bdd4-bc9c1c3fe3ca\",\"type\":\"GlyphRenderer\"},{\"attributes\":{},\"id\":\"2a26c7ec-8069-49aa-a8ec-37e966e3d3b6\",\"type\":\"BasicTicker\"},{\"attributes\":{\"below\":[{\"id\":\"fc91d084-6091-4bf3-a324-697e5286274c\",\"type\":\"CategoricalAxis\"}],\"left\":[{\"id\":\"566c7415-f76c-4d64-91f6-0ac1afc72e6c\",\"type\":\"LinearAxis\"}],\"plot_height\":250,\"plot_width\":750,\"renderers\":[{\"id\":\"fc91d084-6091-4bf3-a324-697e5286274c\",\"type\":\"CategoricalAxis\"},{\"id\":\"0aa35ce3-8bf9-49c0-9930-b1ef950f60b5\",\"type\":\"Grid\"},{\"id\":\"566c7415-f76c-4d64-91f6-0ac1afc72e6c\",\"type\":\"LinearAxis\"},{\"id\":\"375c3216-0c64-4018-8683-4317571b1fda\",\"type\":\"Grid\"},{\"id\":\"da82b716-4e45-42e8-aea6-b13de37cb427\",\"type\":\"BoxAnnotation\"},{\"id\":\"9461dfb3-552d-4437-9015-773d46f3f86f\",\"type\":\"GlyphRenderer\"},{\"id\":\"33e5260f-3ed1-4d14-bdd4-bc9c1c3fe3ca\",\"type\":\"GlyphRenderer\"}],\"title\":{\"id\":\"361995be-0e1f-4fb4-8538-5c215efd2f76\",\"type\":\"Title\"},\"toolbar\":{\"id\":\"be3b3cb0-80e8-4f21-8bad-ab222f63f1ef\",\"type\":\"Toolbar\"},\"x_range\":{\"id\":\"4e732575-a215-40e5-81bf-1846b44a4da2\",\"type\":\"FactorRange\"},\"x_scale\":{\"id\":\"fe493671-6e61-46e8-b633-d1304be3deb8\",\"type\":\"CategoricalScale\"},\"y_range\":{\"id\":\"8daafb70-4f54-4b99-bd38-b4c1bfb6abd2\",\"type\":\"DataRange1d\"},\"y_scale\":{\"id\":\"39374200-14cd-470b-8b64-37b0a759c36e\",\"type\":\"LinearScale\"}},\"id\":\"abb0b89b-0c99-4155-a493-d52e0d1cd10d\",\"subtype\":\"Figure\",\"type\":\"Plot\"},{\"attributes\":{\"bottom_units\":\"screen\",\"fill_alpha\":{\"value\":0.5},\"fill_color\":{\"value\":\"lightgrey\"},\"left_units\":\"screen\",\"level\":\"overlay\",\"line_alpha\":{\"value\":1.0},\"line_color\":{\"value\":\"black\"},\"line_dash\":[4,4],\"line_width\":{\"value\":2},\"plot\":null,\"render_mode\":\"css\",\"right_units\":\"screen\",\"top_units\":\"screen\"},\"id\":\"da82b716-4e45-42e8-aea6-b13de37cb427\",\"type\":\"BoxAnnotation\"},{\"attributes\":{},\"id\":\"39374200-14cd-470b-8b64-37b0a759c36e\",\"type\":\"LinearScale\"},{\"attributes\":{\"formatter\":{\"id\":\"8ba5dca1-e50e-4f57-9513-b356d45a2d7a\",\"type\":\"BasicTickFormatter\"},\"plot\":{\"id\":\"abb0b89b-0c99-4155-a493-d52e0d1cd10d\",\"subtype\":\"Figure\",\"type\":\"Plot\"},\"ticker\":{\"id\":\"2a26c7ec-8069-49aa-a8ec-37e966e3d3b6\",\"type\":\"BasicTicker\"}},\"id\":\"566c7415-f76c-4d64-91f6-0ac1afc72e6c\",\"type\":\"LinearAxis\"},{\"attributes\":{\"line_alpha\":{\"value\":0.1},\"line_color\":{\"value\":\"#1f77b4\"},\"x\":{\"field\":\"GRANDES_GRUPOS_DE_EDAD\"},\"y\":{\"field\":\"A_URBANA_M_mean\"}},\"id\":\"fa820df0-f64d-4015-ba71-c877f4d9d76a\",\"type\":\"Line\"},{\"attributes\":{\"active_drag\":\"auto\",\"active_inspect\":\"auto\",\"active_scroll\":\"auto\",\"active_tap\":\"auto\",\"tools\":[{\"id\":\"ae575360-048d-4705-90c6-a58ca188f14c\",\"type\":\"PanTool\"},{\"id\":\"5a673eb8-f0c5-429a-ba5d-a14b1ae3cf82\",\"type\":\"WheelZoomTool\"},{\"id\":\"64eb08f6-0a46-419a-9fd0-627e88d0d13f\",\"type\":\"BoxZoomTool\"},{\"id\":\"ca81b156-dbdd-4439-acdc-f7a641de2203\",\"type\":\"SaveTool\"},{\"id\":\"9c835835-1568-4ca1-9db8-5f23507ecc51\",\"type\":\"ResetTool\"},{\"id\":\"bb51d3ca-7ca8-4c2e-8870-6e93055302de\",\"type\":\"HelpTool\"}]},\"id\":\"be3b3cb0-80e8-4f21-8bad-ab222f63f1ef\",\"type\":\"Toolbar\"},{\"attributes\":{},\"id\":\"9c835835-1568-4ca1-9db8-5f23507ecc51\",\"type\":\"ResetTool\"},{\"attributes\":{\"source\":{\"id\":\"1407f711-a124-44b6-adcd-2ebb8a4c04e0\",\"type\":\"ColumnDataSource\"}},\"id\":\"9dc94dd9-72d8-49a4-84d7-cb13884a918d\",\"type\":\"CDSView\"},{\"attributes\":{},\"id\":\"ca81b156-dbdd-4439-acdc-f7a641de2203\",\"type\":\"SaveTool\"},{\"attributes\":{\"plot\":{\"id\":\"abb0b89b-0c99-4155-a493-d52e0d1cd10d\",\"subtype\":\"Figure\",\"type\":\"Plot\"},\"ticker\":{\"id\":\"a472b938-8b11-4ce3-b263-ced24e6a7c85\",\"type\":\"CategoricalTicker\"}},\"id\":\"0aa35ce3-8bf9-49c0-9930-b1ef950f60b5\",\"type\":\"Grid\"},{\"attributes\":{\"overlay\":{\"id\":\"da82b716-4e45-42e8-aea6-b13de37cb427\",\"type\":\"BoxAnnotation\"}},\"id\":\"64eb08f6-0a46-419a-9fd0-627e88d0d13f\",\"type\":\"BoxZoomTool\"}],\"root_ids\":[\"abb0b89b-0c99-4155-a493-d52e0d1cd10d\"]},\"title\":\"Bokeh Application\",\"version\":\"0.12.10\"}};\n",
       "    var render_items = [{\"docid\":\"18a59fef-f5ba-49e8-9e5c-98e2dcd93aee\",\"elementid\":\"fa0b5358-6832-4d90-80b5-10211037686c\",\"modelid\":\"abb0b89b-0c99-4155-a493-d52e0d1cd10d\"}];\n",
       "\n",
       "    root.Bokeh.embed.embed_items(docs_json, render_items);\n",
       "  }\n",
       "\n",
       "  if (root.Bokeh !== undefined) {\n",
       "    embed_document(root);\n",
       "  } else {\n",
       "    var attempts = 0;\n",
       "    var timer = setInterval(function(root) {\n",
       "      if (root.Bokeh !== undefined) {\n",
       "        embed_document(root);\n",
       "        clearInterval(timer);\n",
       "      }\n",
       "      attempts++;\n",
       "      if (attempts > 100) {\n",
       "        console.log(\"Bokeh: ERROR: Unable to embed document because BokehJS library is missing\")\n",
       "        clearInterval(timer);\n",
       "      }\n",
       "    }, 10, root)\n",
       "  }\n",
       "})(window);"
      ],
      "application/vnd.bokehjs_exec.v0+json": ""
     },
     "metadata": {
      "application/vnd.bokehjs_exec.v0+json": {
       "id": "abb0b89b-0c99-4155-a493-d52e0d1cd10d"
      }
     },
     "output_type": "display_data"
    }
   ],
   "source": [
    "# Agrupamos los valores en base a la columna \"GRANDES_GRUPOS_DE_EDAD\" \n",
    "group1 = tabla1.groupby('GRANDES_GRUPOS_DE_EDAD')\n",
    "\n",
    "# Nos permite obtener Mapas nombres de columnas a secuencias o matrices.\n",
    "source = ColumnDataSource(group1)\n",
    "\n",
    "# Creamos un objeto de figura y establecemos su tamaño, rango, y le damos un título \n",
    "p = figure(plot_height=250, plot_width=750, x_range=group1,  title='ANALFABETISMO POR AREA Y GRUPOS DE EDAD')\n",
    "\n",
    "\n",
    "p.line(x='GRANDES_GRUPOS_DE_EDAD', y='A_URBANA_M_mean', color='#FF69B4', source=source)\n",
    "\n",
    "p.circle(x='GRANDES_GRUPOS_DE_EDAD', y='A_URBANA_M_mean', color='#FF69B4', size=5.5, source=source)\n",
    "\n",
    "\n",
    "p.xaxis.axis_label = \"AREA URBANA - MUJERES\"\n",
    "# Modificamos para la presentación el rango inicial \n",
    "p.y_range.start = 0\n",
    "\n",
    "show(p)"
   ]
  },
  {
   "cell_type": "code",
   "execution_count": 16,
   "metadata": {},
   "outputs": [
    {
     "data": {
      "text/html": [
       "\n",
       "<div class=\"bk-root\">\n",
       "    <div class=\"bk-plotdiv\" id=\"c89a1655-816b-4e5a-8d3f-6b576af01ec3\"></div>\n",
       "</div>"
      ]
     },
     "metadata": {},
     "output_type": "display_data"
    },
    {
     "data": {
      "application/javascript": [
       "(function(root) {\n",
       "  function embed_document(root) {\n",
       "    var docs_json = {\"dda31ab8-e6f1-414a-93f9-c65f7ed1da96\":{\"roots\":{\"references\":[{\"attributes\":{\"overlay\":{\"id\":\"8ab085c1-2ec7-404e-9d1a-7c02fa4df175\",\"type\":\"BoxAnnotation\"}},\"id\":\"b042a94f-7a3a-4232-b14f-9b6d0cd7ed4b\",\"type\":\"BoxZoomTool\"},{\"attributes\":{\"children\":[{\"id\":\"674b6204-6050-43ac-8af9-9e2cf3fbcf78\",\"subtype\":\"Figure\",\"type\":\"Plot\"},{\"id\":\"3b830b75-3194-4019-b3be-66cdce658bea\",\"subtype\":\"Figure\",\"type\":\"Plot\"}]},\"id\":\"bd4bed9c-3857-41be-a6d3-25b1f3dee014\",\"type\":\"Row\"},{\"attributes\":{},\"id\":\"37b78586-5781-4dcb-b247-708543d72505\",\"type\":\"CategoricalScale\"},{\"attributes\":{},\"id\":\"52accee8-ce68-46b2-9aed-fd158ae8417d\",\"type\":\"BasicTicker\"},{\"attributes\":{\"below\":[{\"id\":\"b28b1fa7-0f4f-4f23-a79a-465e09aa099b\",\"type\":\"CategoricalAxis\"}],\"left\":[{\"id\":\"d3f4bb0a-1db2-4115-ac61-11e4af93f38a\",\"type\":\"LinearAxis\"}],\"plot_height\":450,\"plot_width\":450,\"renderers\":[{\"id\":\"b28b1fa7-0f4f-4f23-a79a-465e09aa099b\",\"type\":\"CategoricalAxis\"},{\"id\":\"6485caa9-aea0-4ee7-92d8-78f7aa1ac60e\",\"type\":\"Grid\"},{\"id\":\"d3f4bb0a-1db2-4115-ac61-11e4af93f38a\",\"type\":\"LinearAxis\"},{\"id\":\"dad4b47f-1fac-44a6-a84d-40d92e9b7a81\",\"type\":\"Grid\"},{\"id\":\"f714e020-975c-4405-96a6-f66ab5ab0810\",\"type\":\"BoxAnnotation\"},{\"id\":\"3bab3d47-ab37-4c47-9153-794b901ad580\",\"type\":\"GlyphRenderer\"}],\"title\":{\"id\":\"d20f778f-757c-4db9-9f3e-63bdad2d57fe\",\"type\":\"Title\"},\"toolbar\":{\"id\":\"c58853e3-5ca0-4634-8a99-9c56590213c1\",\"type\":\"Toolbar\"},\"toolbar_location\":null,\"x_range\":{\"id\":\"ba304783-33c7-4170-beb1-9f5a9e98c033\",\"type\":\"FactorRange\"},\"x_scale\":{\"id\":\"55dcba1f-b8c9-4904-b3d0-dd9f2812f61b\",\"type\":\"CategoricalScale\"},\"y_range\":{\"id\":\"d1a956e1-6ac0-4c34-98dd-9e742ff775ef\",\"type\":\"DataRange1d\"},\"y_scale\":{\"id\":\"d0a3508c-a9a4-492c-84c2-2887126d3868\",\"type\":\"LinearScale\"}},\"id\":\"3b830b75-3194-4019-b3be-66cdce658bea\",\"subtype\":\"Figure\",\"type\":\"Plot\"},{\"attributes\":{\"callback\":null,\"column_names\":[\"A_RURAL_H_count\",\"A_RURAL_H_mean\",\"A_RURAL_H_std\",\"A_RURAL_H_min\",\"A_RURAL_H_25%\",\"A_RURAL_H_50%\",\"A_RURAL_H_75%\",\"A_RURAL_H_max\",\"A_RURAL_M_count\",\"A_RURAL_M_mean\",\"A_RURAL_M_std\",\"A_RURAL_M_min\",\"A_RURAL_M_25%\",\"A_RURAL_M_50%\",\"A_RURAL_M_75%\",\"A_RURAL_M_max\",\"A_URBANA_H_count\",\"A_URBANA_H_mean\",\"A_URBANA_H_std\",\"A_URBANA_H_min\",\"A_URBANA_H_25%\",\"A_URBANA_H_50%\",\"A_URBANA_H_75%\",\"A_URBANA_H_max\",\"A_URBANA_M_count\",\"A_URBANA_M_mean\",\"A_URBANA_M_std\",\"A_URBANA_M_min\",\"A_URBANA_M_25%\",\"A_URBANA_M_50%\",\"A_URBANA_M_75%\",\"A_URBANA_M_max\",\"TOTAL_H_count\",\"TOTAL_H_mean\",\"TOTAL_H_std\",\"TOTAL_H_min\",\"TOTAL_H_25%\",\"TOTAL_H_50%\",\"TOTAL_H_75%\",\"TOTAL_H_max\",\"TOTAL_M_count\",\"TOTAL_M_mean\",\"TOTAL_M_std\",\"TOTAL_M_min\",\"TOTAL_M_25%\",\"TOTAL_M_50%\",\"TOTAL_M_75%\",\"TOTAL_M_max\",\"GRANDES_GRUPOS_DE_EDAD\"],\"data\":{\"A_RURAL_H_25%\":{\"__ndarray__\":\"eOkmMQisnD+JQWDl0CKrP/T91HjpJsE/wMqhRbbz1T+S7Xw/NV66Pw==\",\"dtype\":\"float64\",\"shape\":[5]},\"A_RURAL_H_50%\":{\"__ndarray__\":\"eOkmMQisnD+JQWDl0CKrP/T91HjpJsE/wMqhRbbz1T+S7Xw/NV66Pw==\",\"dtype\":\"float64\",\"shape\":[5]},\"A_RURAL_H_75%\":{\"__ndarray__\":\"eOkmMQisnD+JQWDl0CKrP/T91HjpJsE/wMqhRbbz1T+S7Xw/NV66Pw==\",\"dtype\":\"float64\",\"shape\":[5]},\"A_RURAL_H_count\":{\"__ndarray__\":\"AAAAAAAA8D8AAAAAAADwPwAAAAAAAPA/AAAAAAAA8D8AAAAAAADwPw==\",\"dtype\":\"float64\",\"shape\":[5]},\"A_RURAL_H_max\":{\"__ndarray__\":\"eOkmMQisnD+JQWDl0CKrP/T91HjpJsE/wMqhRbbz1T+S7Xw/NV66Pw==\",\"dtype\":\"float64\",\"shape\":[5]},\"A_RURAL_H_mean\":{\"__ndarray__\":\"eOkmMQisnD+JQWDl0CKrP/T91HjpJsE/wMqhRbbz1T+S7Xw/NV66Pw==\",\"dtype\":\"float64\",\"shape\":[5]},\"A_RURAL_H_min\":{\"__ndarray__\":\"eOkmMQisnD+JQWDl0CKrP/T91HjpJsE/wMqhRbbz1T+S7Xw/NV66Pw==\",\"dtype\":\"float64\",\"shape\":[5]},\"A_RURAL_H_std\":{\"__ndarray__\":\"AAAAAAAA+H8AAAAAAAD4fwAAAAAAAPh/AAAAAAAA+H8AAAAAAAD4fw==\",\"dtype\":\"float64\",\"shape\":[5]},\"A_RURAL_M_25%\":{\"__ndarray__\":\"mpmZmZmZmT946SYxCKysPz0K16NwPco/AyuHFtnO3z+TGARWDi3CPw==\",\"dtype\":\"float64\",\"shape\":[5]},\"A_RURAL_M_50%\":{\"__ndarray__\":\"mpmZmZmZmT946SYxCKysPz0K16NwPco/AyuHFtnO3z+TGARWDi3CPw==\",\"dtype\":\"float64\",\"shape\":[5]},\"A_RURAL_M_75%\":{\"__ndarray__\":\"mpmZmZmZmT946SYxCKysPz0K16NwPco/AyuHFtnO3z+TGARWDi3CPw==\",\"dtype\":\"float64\",\"shape\":[5]},\"A_RURAL_M_count\":{\"__ndarray__\":\"AAAAAAAA8D8AAAAAAADwPwAAAAAAAPA/AAAAAAAA8D8AAAAAAADwPw==\",\"dtype\":\"float64\",\"shape\":[5]},\"A_RURAL_M_max\":{\"__ndarray__\":\"mpmZmZmZmT946SYxCKysPz0K16NwPco/AyuHFtnO3z+TGARWDi3CPw==\",\"dtype\":\"float64\",\"shape\":[5]},\"A_RURAL_M_mean\":{\"__ndarray__\":\"mpmZmZmZmT946SYxCKysPz0K16NwPco/AyuHFtnO3z+TGARWDi3CPw==\",\"dtype\":\"float64\",\"shape\":[5]},\"A_RURAL_M_min\":{\"__ndarray__\":\"mpmZmZmZmT946SYxCKysPz0K16NwPco/AyuHFtnO3z+TGARWDi3CPw==\",\"dtype\":\"float64\",\"shape\":[5]},\"A_RURAL_M_std\":{\"__ndarray__\":\"AAAAAAAA+H8AAAAAAAD4fwAAAAAAAPh/AAAAAAAA+H8AAAAAAAD4fw==\",\"dtype\":\"float64\",\"shape\":[5]},\"A_URBANA_H_25%\":{\"__ndarray__\":\"+n5qvHSTiD8830+Nl26SP9v5fmq8dKM//Knx0k1iwD9YObTIdr6fPw==\",\"dtype\":\"float64\",\"shape\":[5]},\"A_URBANA_H_50%\":{\"__ndarray__\":\"+n5qvHSTiD8830+Nl26SP9v5fmq8dKM//Knx0k1iwD9YObTIdr6fPw==\",\"dtype\":\"float64\",\"shape\":[5]},\"A_URBANA_H_75%\":{\"__ndarray__\":\"+n5qvHSTiD8830+Nl26SP9v5fmq8dKM//Knx0k1iwD9YObTIdr6fPw==\",\"dtype\":\"float64\",\"shape\":[5]},\"A_URBANA_H_count\":{\"__ndarray__\":\"AAAAAAAA8D8AAAAAAADwPwAAAAAAAPA/AAAAAAAA8D8AAAAAAADwPw==\",\"dtype\":\"float64\",\"shape\":[5]},\"A_URBANA_H_max\":{\"__ndarray__\":\"+n5qvHSTiD8830+Nl26SP9v5fmq8dKM//Knx0k1iwD9YObTIdr6fPw==\",\"dtype\":\"float64\",\"shape\":[5]},\"A_URBANA_H_mean\":{\"__ndarray__\":\"+n5qvHSTiD8830+Nl26SP9v5fmq8dKM//Knx0k1iwD9YObTIdr6fPw==\",\"dtype\":\"float64\",\"shape\":[5]},\"A_URBANA_H_min\":{\"__ndarray__\":\"+n5qvHSTiD8830+Nl26SP9v5fmq8dKM//Knx0k1iwD9YObTIdr6fPw==\",\"dtype\":\"float64\",\"shape\":[5]},\"A_URBANA_H_std\":{\"__ndarray__\":\"AAAAAAAA+H8AAAAAAAD4fwAAAAAAAPh/AAAAAAAA+H8AAAAAAAD4fw==\",\"dtype\":\"float64\",\"shape\":[5]},\"A_URBANA_M_25%\":{\"__ndarray__\":\"PN9PjZdugj+cxCCwcmiRP9rO91Pjpas/9ihcj8L1yD9qvHSTGASmPw==\",\"dtype\":\"float64\",\"shape\":[5]},\"A_URBANA_M_50%\":{\"__ndarray__\":\"PN9PjZdugj+cxCCwcmiRP9rO91Pjpas/9ihcj8L1yD9qvHSTGASmPw==\",\"dtype\":\"float64\",\"shape\":[5]},\"A_URBANA_M_75%\":{\"__ndarray__\":\"PN9PjZdugj+cxCCwcmiRP9rO91Pjpas/9ihcj8L1yD9qvHSTGASmPw==\",\"dtype\":\"float64\",\"shape\":[5]},\"A_URBANA_M_count\":{\"__ndarray__\":\"AAAAAAAA8D8AAAAAAADwPwAAAAAAAPA/AAAAAAAA8D8AAAAAAADwPw==\",\"dtype\":\"float64\",\"shape\":[5]},\"A_URBANA_M_max\":{\"__ndarray__\":\"PN9PjZdugj+cxCCwcmiRP9rO91Pjpas/9ihcj8L1yD9qvHSTGASmPw==\",\"dtype\":\"float64\",\"shape\":[5]},\"A_URBANA_M_mean\":{\"__ndarray__\":\"PN9PjZdugj+cxCCwcmiRP9rO91Pjpas/9ihcj8L1yD9qvHSTGASmPw==\",\"dtype\":\"float64\",\"shape\":[5]},\"A_URBANA_M_min\":{\"__ndarray__\":\"PN9PjZdugj+cxCCwcmiRP9rO91Pjpas/9ihcj8L1yD9qvHSTGASmPw==\",\"dtype\":\"float64\",\"shape\":[5]},\"A_URBANA_M_std\":{\"__ndarray__\":\"AAAAAAAA+H8AAAAAAAD4fwAAAAAAAPh/AAAAAAAA+H8AAAAAAAD4fw==\",\"dtype\":\"float64\",\"shape\":[5]},\"GRANDES_GRUPOS_DE_EDAD\":[\"15-24 a\\u00f1os\",\"25-39 a\\u00f1os\",\"40-64 a\\u00f1os\",\"65 a\\u00f1os y mas\",\"Total nacional\"],\"TOTAL_H_25%\":{\"__ndarray__\":\"PN9PjZdukj+4HoXrUbiePzzfT42XbrI/eOkmMQiszD8YBFYOLbKtPw==\",\"dtype\":\"float64\",\"shape\":[5]},\"TOTAL_H_50%\":{\"__ndarray__\":\"PN9PjZdukj+4HoXrUbiePzzfT42XbrI/eOkmMQiszD8YBFYOLbKtPw==\",\"dtype\":\"float64\",\"shape\":[5]},\"TOTAL_H_75%\":{\"__ndarray__\":\"PN9PjZdukj+4HoXrUbiePzzfT42XbrI/eOkmMQiszD8YBFYOLbKtPw==\",\"dtype\":\"float64\",\"shape\":[5]},\"TOTAL_H_count\":{\"__ndarray__\":\"AAAAAAAA8D8AAAAAAADwPwAAAAAAAPA/AAAAAAAA8D8AAAAAAADwPw==\",\"dtype\":\"float64\",\"shape\":[5]},\"TOTAL_H_max\":{\"__ndarray__\":\"PN9PjZdukj+4HoXrUbiePzzfT42XbrI/eOkmMQiszD8YBFYOLbKtPw==\",\"dtype\":\"float64\",\"shape\":[5]},\"TOTAL_H_mean\":{\"__ndarray__\":\"PN9PjZdukj+4HoXrUbiePzzfT42XbrI/eOkmMQiszD8YBFYOLbKtPw==\",\"dtype\":\"float64\",\"shape\":[5]},\"TOTAL_H_min\":{\"__ndarray__\":\"PN9PjZdukj+4HoXrUbiePzzfT42XbrI/eOkmMQiszD8YBFYOLbKtPw==\",\"dtype\":\"float64\",\"shape\":[5]},\"TOTAL_H_std\":{\"__ndarray__\":\"AAAAAAAA+H8AAAAAAAD4fwAAAAAAAPh/AAAAAAAA+H8AAAAAAAD4fw==\",\"dtype\":\"float64\",\"shape\":[5]},\"TOTAL_M_25%\":{\"__ndarray__\":\"uB6F61G4jj+4HoXrUbiePzq0yHa+n7o/001iEFg51D+DwMqhRbazPw==\",\"dtype\":\"float64\",\"shape\":[5]},\"TOTAL_M_50%\":{\"__ndarray__\":\"uB6F61G4jj+4HoXrUbiePzq0yHa+n7o/001iEFg51D+DwMqhRbazPw==\",\"dtype\":\"float64\",\"shape\":[5]},\"TOTAL_M_75%\":{\"__ndarray__\":\"uB6F61G4jj+4HoXrUbiePzq0yHa+n7o/001iEFg51D+DwMqhRbazPw==\",\"dtype\":\"float64\",\"shape\":[5]},\"TOTAL_M_count\":{\"__ndarray__\":\"AAAAAAAA8D8AAAAAAADwPwAAAAAAAPA/AAAAAAAA8D8AAAAAAADwPw==\",\"dtype\":\"float64\",\"shape\":[5]},\"TOTAL_M_max\":{\"__ndarray__\":\"uB6F61G4jj+4HoXrUbiePzq0yHa+n7o/001iEFg51D+DwMqhRbazPw==\",\"dtype\":\"float64\",\"shape\":[5]},\"TOTAL_M_mean\":{\"__ndarray__\":\"uB6F61G4jj+4HoXrUbiePzq0yHa+n7o/001iEFg51D+DwMqhRbazPw==\",\"dtype\":\"float64\",\"shape\":[5]},\"TOTAL_M_min\":{\"__ndarray__\":\"uB6F61G4jj+4HoXrUbiePzq0yHa+n7o/001iEFg51D+DwMqhRbazPw==\",\"dtype\":\"float64\",\"shape\":[5]},\"TOTAL_M_std\":{\"__ndarray__\":\"AAAAAAAA+H8AAAAAAAD4fwAAAAAAAPh/AAAAAAAA+H8AAAAAAAD4fw==\",\"dtype\":\"float64\",\"shape\":[5]}}},\"id\":\"57605cb5-6fcd-484b-aab2-edb441afc8bc\",\"type\":\"ColumnDataSource\"},{\"attributes\":{},\"id\":\"039e3ea8-e405-4a4f-a2d5-082093f1fd12\",\"type\":\"BasicTickFormatter\"},{\"attributes\":{\"children\":[{\"id\":\"bd4bed9c-3857-41be-a6d3-25b1f3dee014\",\"type\":\"Row\"}]},\"id\":\"e3af8094-b921-4b5c-a0bc-5eec59963801\",\"type\":\"Column\"},{\"attributes\":{\"source\":{\"id\":\"57605cb5-6fcd-484b-aab2-edb441afc8bc\",\"type\":\"ColumnDataSource\"}},\"id\":\"e0367a52-f6c8-424c-96af-0bdf06a9d1b9\",\"type\":\"CDSView\"},{\"attributes\":{\"data_source\":{\"id\":\"57605cb5-6fcd-484b-aab2-edb441afc8bc\",\"type\":\"ColumnDataSource\"},\"glyph\":{\"id\":\"5ff00d25-7cc9-49dd-85c9-acd582af89ee\",\"type\":\"VBar\"},\"hover_glyph\":null,\"muted_glyph\":null,\"nonselection_glyph\":{\"id\":\"427bfd65-c8d8-4154-b052-b04ddc03e04f\",\"type\":\"VBar\"},\"selection_glyph\":null,\"view\":{\"id\":\"e0367a52-f6c8-424c-96af-0bdf06a9d1b9\",\"type\":\"CDSView\"}},\"id\":\"3bab3d47-ab37-4c47-9153-794b901ad580\",\"type\":\"GlyphRenderer\"},{\"attributes\":{\"formatter\":{\"id\":\"7c61ab2a-e74b-4da6-902e-7e5a8dc2c164\",\"type\":\"CategoricalTickFormatter\"},\"plot\":{\"id\":\"3b830b75-3194-4019-b3be-66cdce658bea\",\"subtype\":\"Figure\",\"type\":\"Plot\"},\"ticker\":{\"id\":\"2c4a81a5-f08e-41b8-a1c3-c207ca2fd489\",\"type\":\"CategoricalTicker\"}},\"id\":\"b28b1fa7-0f4f-4f23-a79a-465e09aa099b\",\"type\":\"CategoricalAxis\"},{\"attributes\":{\"plot\":{\"id\":\"674b6204-6050-43ac-8af9-9e2cf3fbcf78\",\"subtype\":\"Figure\",\"type\":\"Plot\"},\"ticker\":{\"id\":\"b28d2161-b454-4992-93d6-0e62317df0bc\",\"type\":\"CategoricalTicker\"}},\"id\":\"ecc4ef5e-a357-4b49-8b68-7907c5b86902\",\"type\":\"Grid\"},{\"attributes\":{\"formatter\":{\"id\":\"039e3ea8-e405-4a4f-a2d5-082093f1fd12\",\"type\":\"BasicTickFormatter\"},\"plot\":{\"id\":\"3b830b75-3194-4019-b3be-66cdce658bea\",\"subtype\":\"Figure\",\"type\":\"Plot\"},\"ticker\":{\"id\":\"52accee8-ce68-46b2-9aed-fd158ae8417d\",\"type\":\"BasicTicker\"}},\"id\":\"d3f4bb0a-1db2-4115-ac61-11e4af93f38a\",\"type\":\"LinearAxis\"},{\"attributes\":{\"fill_alpha\":{\"value\":0.1},\"fill_color\":{\"value\":\"#1f77b4\"},\"line_alpha\":{\"value\":0.1},\"line_color\":{\"value\":\"#1f77b4\"},\"top\":{\"field\":\"TOTAL_H_mean\"},\"width\":{\"value\":0.7},\"x\":{\"field\":\"GRANDES_GRUPOS_DE_EDAD\"}},\"id\":\"427bfd65-c8d8-4154-b052-b04ddc03e04f\",\"type\":\"VBar\"},{\"attributes\":{\"callback\":null,\"factors\":[\"15-24 a\\u00f1os\",\"25-39 a\\u00f1os\",\"40-64 a\\u00f1os\",\"65 a\\u00f1os y mas\",\"Total nacional\"]},\"id\":\"c165955d-7f5a-48e1-87cb-bf976d2e45ae\",\"type\":\"FactorRange\"},{\"attributes\":{\"fill_color\":{\"value\":\"#F08080\"},\"line_color\":{\"value\":\"white\"},\"top\":{\"field\":\"TOTAL_H_mean\"},\"width\":{\"value\":0.7},\"x\":{\"field\":\"GRANDES_GRUPOS_DE_EDAD\"}},\"id\":\"5ff00d25-7cc9-49dd-85c9-acd582af89ee\",\"type\":\"VBar\"},{\"attributes\":{},\"id\":\"6bfe0419-64fd-4519-8e49-b0ef810874ff\",\"type\":\"PanTool\"},{\"attributes\":{},\"id\":\"3fd98f15-f57c-4ae9-a69d-6306cb4d505b\",\"type\":\"BasicTickFormatter\"},{\"attributes\":{\"plot\":null,\"text\":\"TOTAL HOMBRES\"},\"id\":\"d20f778f-757c-4db9-9f3e-63bdad2d57fe\",\"type\":\"Title\"},{\"attributes\":{},\"id\":\"7c61ab2a-e74b-4da6-902e-7e5a8dc2c164\",\"type\":\"CategoricalTickFormatter\"},{\"attributes\":{},\"id\":\"55dcba1f-b8c9-4904-b3d0-dd9f2812f61b\",\"type\":\"CategoricalScale\"},{\"attributes\":{},\"id\":\"3b5ae4bc-5c14-4853-a13f-2fd693e46172\",\"type\":\"PanTool\"},{\"attributes\":{\"below\":[{\"id\":\"43ef7c12-4f65-4acc-8b16-1706b5b4fa6e\",\"type\":\"CategoricalAxis\"}],\"left\":[{\"id\":\"8a84ee3a-6a7d-4690-be60-2056b319a408\",\"type\":\"LinearAxis\"}],\"plot_height\":450,\"plot_width\":450,\"renderers\":[{\"id\":\"43ef7c12-4f65-4acc-8b16-1706b5b4fa6e\",\"type\":\"CategoricalAxis\"},{\"id\":\"ecc4ef5e-a357-4b49-8b68-7907c5b86902\",\"type\":\"Grid\"},{\"id\":\"8a84ee3a-6a7d-4690-be60-2056b319a408\",\"type\":\"LinearAxis\"},{\"id\":\"651bf5b7-5234-414c-a30e-cd50b22ce17e\",\"type\":\"Grid\"},{\"id\":\"8ab085c1-2ec7-404e-9d1a-7c02fa4df175\",\"type\":\"BoxAnnotation\"},{\"id\":\"e1db6547-9895-42d6-919e-b1cda4640ed3\",\"type\":\"GlyphRenderer\"}],\"title\":{\"id\":\"81ebc6e7-9b6e-4aff-be5c-356e0bbcd8f2\",\"type\":\"Title\"},\"toolbar\":{\"id\":\"4bef238e-c493-4b77-9fa8-69a622367a32\",\"type\":\"Toolbar\"},\"toolbar_location\":null,\"x_range\":{\"id\":\"c165955d-7f5a-48e1-87cb-bf976d2e45ae\",\"type\":\"FactorRange\"},\"x_scale\":{\"id\":\"37b78586-5781-4dcb-b247-708543d72505\",\"type\":\"CategoricalScale\"},\"y_range\":{\"id\":\"3ee1789b-ae94-41bd-91b1-febc35bd4c3b\",\"type\":\"DataRange1d\"},\"y_scale\":{\"id\":\"15aeb784-7382-47f0-8f64-7787254e302e\",\"type\":\"LinearScale\"}},\"id\":\"674b6204-6050-43ac-8af9-9e2cf3fbcf78\",\"subtype\":\"Figure\",\"type\":\"Plot\"},{\"attributes\":{},\"id\":\"dcac9eef-92ce-417e-815c-02198ebad49a\",\"type\":\"WheelZoomTool\"},{\"attributes\":{\"formatter\":{\"id\":\"c22513dc-28ac-43a9-b53f-0955c2e08ef3\",\"type\":\"CategoricalTickFormatter\"},\"plot\":{\"id\":\"674b6204-6050-43ac-8af9-9e2cf3fbcf78\",\"subtype\":\"Figure\",\"type\":\"Plot\"},\"ticker\":{\"id\":\"b28d2161-b454-4992-93d6-0e62317df0bc\",\"type\":\"CategoricalTicker\"}},\"id\":\"43ef7c12-4f65-4acc-8b16-1706b5b4fa6e\",\"type\":\"CategoricalAxis\"},{\"attributes\":{\"callback\":null,\"factors\":[\"15-24 a\\u00f1os\",\"25-39 a\\u00f1os\",\"40-64 a\\u00f1os\",\"65 a\\u00f1os y mas\",\"Total nacional\"]},\"id\":\"ba304783-33c7-4170-beb1-9f5a9e98c033\",\"type\":\"FactorRange\"},{\"attributes\":{\"bottom_units\":\"screen\",\"fill_alpha\":{\"value\":0.5},\"fill_color\":{\"value\":\"lightgrey\"},\"left_units\":\"screen\",\"level\":\"overlay\",\"line_alpha\":{\"value\":1.0},\"line_color\":{\"value\":\"black\"},\"line_dash\":[4,4],\"line_width\":{\"value\":2},\"plot\":null,\"render_mode\":\"css\",\"right_units\":\"screen\",\"top_units\":\"screen\"},\"id\":\"8ab085c1-2ec7-404e-9d1a-7c02fa4df175\",\"type\":\"BoxAnnotation\"},{\"attributes\":{\"active_drag\":\"auto\",\"active_inspect\":\"auto\",\"active_scroll\":\"auto\",\"active_tap\":\"auto\",\"tools\":[{\"id\":\"3b5ae4bc-5c14-4853-a13f-2fd693e46172\",\"type\":\"PanTool\"},{\"id\":\"e60cc5b8-1e0e-4cc9-8f21-1b15eb74cc3c\",\"type\":\"WheelZoomTool\"},{\"id\":\"55d0532d-75aa-4b2d-be0e-3a967efe59f4\",\"type\":\"BoxZoomTool\"},{\"id\":\"c3553be8-38a8-4575-8712-1ee94149acb0\",\"type\":\"ResetTool\"}]},\"id\":\"c58853e3-5ca0-4634-8a99-9c56590213c1\",\"type\":\"Toolbar\"},{\"attributes\":{},\"id\":\"c3553be8-38a8-4575-8712-1ee94149acb0\",\"type\":\"ResetTool\"},{\"attributes\":{},\"id\":\"39269808-4291-49f9-bb3a-04dab5ed3e31\",\"type\":\"BasicTicker\"},{\"attributes\":{},\"id\":\"15aeb784-7382-47f0-8f64-7787254e302e\",\"type\":\"LinearScale\"},{\"attributes\":{\"fill_color\":{\"value\":\"#82B1FF\"},\"line_color\":{\"value\":\"white\"},\"top\":{\"field\":\"TOTAL_M_mean\"},\"width\":{\"value\":0.7},\"x\":{\"field\":\"GRANDES_GRUPOS_DE_EDAD\"}},\"id\":\"48ad723e-e1fd-443f-9459-10e4f1e919a1\",\"type\":\"VBar\"},{\"attributes\":{\"bottom_units\":\"screen\",\"fill_alpha\":{\"value\":0.5},\"fill_color\":{\"value\":\"lightgrey\"},\"left_units\":\"screen\",\"level\":\"overlay\",\"line_alpha\":{\"value\":1.0},\"line_color\":{\"value\":\"black\"},\"line_dash\":[4,4],\"line_width\":{\"value\":2},\"plot\":null,\"render_mode\":\"css\",\"right_units\":\"screen\",\"top_units\":\"screen\"},\"id\":\"f714e020-975c-4405-96a6-f66ab5ab0810\",\"type\":\"BoxAnnotation\"},{\"attributes\":{\"data_source\":{\"id\":\"57605cb5-6fcd-484b-aab2-edb441afc8bc\",\"type\":\"ColumnDataSource\"},\"glyph\":{\"id\":\"48ad723e-e1fd-443f-9459-10e4f1e919a1\",\"type\":\"VBar\"},\"hover_glyph\":null,\"muted_glyph\":null,\"nonselection_glyph\":{\"id\":\"2fd3311c-2e74-4f5f-829f-1245fd499202\",\"type\":\"VBar\"},\"selection_glyph\":null,\"view\":{\"id\":\"84eb63de-3cff-4f83-bbd7-2f973bfdcfa9\",\"type\":\"CDSView\"}},\"id\":\"e1db6547-9895-42d6-919e-b1cda4640ed3\",\"type\":\"GlyphRenderer\"},{\"attributes\":{\"active_drag\":\"auto\",\"active_inspect\":\"auto\",\"active_scroll\":\"auto\",\"active_tap\":\"auto\",\"tools\":[{\"id\":\"6bfe0419-64fd-4519-8e49-b0ef810874ff\",\"type\":\"PanTool\"},{\"id\":\"dcac9eef-92ce-417e-815c-02198ebad49a\",\"type\":\"WheelZoomTool\"},{\"id\":\"b042a94f-7a3a-4232-b14f-9b6d0cd7ed4b\",\"type\":\"BoxZoomTool\"},{\"id\":\"18253d88-dbe8-4262-b5ba-9926a62f4748\",\"type\":\"ResetTool\"}]},\"id\":\"4bef238e-c493-4b77-9fa8-69a622367a32\",\"type\":\"Toolbar\"},{\"attributes\":{},\"id\":\"b28d2161-b454-4992-93d6-0e62317df0bc\",\"type\":\"CategoricalTicker\"},{\"attributes\":{\"dimension\":1,\"plot\":{\"id\":\"674b6204-6050-43ac-8af9-9e2cf3fbcf78\",\"subtype\":\"Figure\",\"type\":\"Plot\"},\"ticker\":{\"id\":\"39269808-4291-49f9-bb3a-04dab5ed3e31\",\"type\":\"BasicTicker\"}},\"id\":\"651bf5b7-5234-414c-a30e-cd50b22ce17e\",\"type\":\"Grid\"},{\"attributes\":{\"source\":{\"id\":\"57605cb5-6fcd-484b-aab2-edb441afc8bc\",\"type\":\"ColumnDataSource\"}},\"id\":\"84eb63de-3cff-4f83-bbd7-2f973bfdcfa9\",\"type\":\"CDSView\"},{\"attributes\":{},\"id\":\"2c4a81a5-f08e-41b8-a1c3-c207ca2fd489\",\"type\":\"CategoricalTicker\"},{\"attributes\":{},\"id\":\"18253d88-dbe8-4262-b5ba-9926a62f4748\",\"type\":\"ResetTool\"},{\"attributes\":{\"plot\":null,\"text\":\"TOTAl MUJERES\"},\"id\":\"81ebc6e7-9b6e-4aff-be5c-356e0bbcd8f2\",\"type\":\"Title\"},{\"attributes\":{\"callback\":null},\"id\":\"d1a956e1-6ac0-4c34-98dd-9e742ff775ef\",\"type\":\"DataRange1d\"},{\"attributes\":{\"fill_alpha\":{\"value\":0.1},\"fill_color\":{\"value\":\"#1f77b4\"},\"line_alpha\":{\"value\":0.1},\"line_color\":{\"value\":\"#1f77b4\"},\"top\":{\"field\":\"TOTAL_M_mean\"},\"width\":{\"value\":0.7},\"x\":{\"field\":\"GRANDES_GRUPOS_DE_EDAD\"}},\"id\":\"2fd3311c-2e74-4f5f-829f-1245fd499202\",\"type\":\"VBar\"},{\"attributes\":{\"formatter\":{\"id\":\"3fd98f15-f57c-4ae9-a69d-6306cb4d505b\",\"type\":\"BasicTickFormatter\"},\"plot\":{\"id\":\"674b6204-6050-43ac-8af9-9e2cf3fbcf78\",\"subtype\":\"Figure\",\"type\":\"Plot\"},\"ticker\":{\"id\":\"39269808-4291-49f9-bb3a-04dab5ed3e31\",\"type\":\"BasicTicker\"}},\"id\":\"8a84ee3a-6a7d-4690-be60-2056b319a408\",\"type\":\"LinearAxis\"},{\"attributes\":{\"callback\":null},\"id\":\"3ee1789b-ae94-41bd-91b1-febc35bd4c3b\",\"type\":\"DataRange1d\"},{\"attributes\":{\"overlay\":{\"id\":\"f714e020-975c-4405-96a6-f66ab5ab0810\",\"type\":\"BoxAnnotation\"}},\"id\":\"55d0532d-75aa-4b2d-be0e-3a967efe59f4\",\"type\":\"BoxZoomTool\"},{\"attributes\":{},\"id\":\"d0a3508c-a9a4-492c-84c2-2887126d3868\",\"type\":\"LinearScale\"},{\"attributes\":{\"children\":[{\"id\":\"335a9769-958d-47d2-ae68-1d35d430903a\",\"type\":\"ToolbarBox\"},{\"id\":\"e3af8094-b921-4b5c-a0bc-5eec59963801\",\"type\":\"Column\"}]},\"id\":\"4f4ab844-2b29-42fb-9be0-682fc2a7ee0a\",\"type\":\"Column\"},{\"attributes\":{},\"id\":\"c22513dc-28ac-43a9-b53f-0955c2e08ef3\",\"type\":\"CategoricalTickFormatter\"},{\"attributes\":{},\"id\":\"e60cc5b8-1e0e-4cc9-8f21-1b15eb74cc3c\",\"type\":\"WheelZoomTool\"},{\"attributes\":{\"dimension\":1,\"plot\":{\"id\":\"3b830b75-3194-4019-b3be-66cdce658bea\",\"subtype\":\"Figure\",\"type\":\"Plot\"},\"ticker\":{\"id\":\"52accee8-ce68-46b2-9aed-fd158ae8417d\",\"type\":\"BasicTicker\"}},\"id\":\"dad4b47f-1fac-44a6-a84d-40d92e9b7a81\",\"type\":\"Grid\"},{\"attributes\":{\"plot\":{\"id\":\"3b830b75-3194-4019-b3be-66cdce658bea\",\"subtype\":\"Figure\",\"type\":\"Plot\"},\"ticker\":{\"id\":\"2c4a81a5-f08e-41b8-a1c3-c207ca2fd489\",\"type\":\"CategoricalTicker\"}},\"id\":\"6485caa9-aea0-4ee7-92d8-78f7aa1ac60e\",\"type\":\"Grid\"},{\"attributes\":{\"sizing_mode\":\"scale_width\",\"toolbar_location\":\"above\",\"tools\":[{\"id\":\"6bfe0419-64fd-4519-8e49-b0ef810874ff\",\"type\":\"PanTool\"},{\"id\":\"dcac9eef-92ce-417e-815c-02198ebad49a\",\"type\":\"WheelZoomTool\"},{\"id\":\"b042a94f-7a3a-4232-b14f-9b6d0cd7ed4b\",\"type\":\"BoxZoomTool\"},{\"id\":\"18253d88-dbe8-4262-b5ba-9926a62f4748\",\"type\":\"ResetTool\"},{\"id\":\"3b5ae4bc-5c14-4853-a13f-2fd693e46172\",\"type\":\"PanTool\"},{\"id\":\"e60cc5b8-1e0e-4cc9-8f21-1b15eb74cc3c\",\"type\":\"WheelZoomTool\"},{\"id\":\"55d0532d-75aa-4b2d-be0e-3a967efe59f4\",\"type\":\"BoxZoomTool\"},{\"id\":\"c3553be8-38a8-4575-8712-1ee94149acb0\",\"type\":\"ResetTool\"}]},\"id\":\"335a9769-958d-47d2-ae68-1d35d430903a\",\"type\":\"ToolbarBox\"}],\"root_ids\":[\"4f4ab844-2b29-42fb-9be0-682fc2a7ee0a\"]},\"title\":\"Bokeh Application\",\"version\":\"0.12.10\"}};\n",
       "    var render_items = [{\"docid\":\"dda31ab8-e6f1-414a-93f9-c65f7ed1da96\",\"elementid\":\"c89a1655-816b-4e5a-8d3f-6b576af01ec3\",\"modelid\":\"4f4ab844-2b29-42fb-9be0-682fc2a7ee0a\"}];\n",
       "\n",
       "    root.Bokeh.embed.embed_items(docs_json, render_items);\n",
       "  }\n",
       "\n",
       "  if (root.Bokeh !== undefined) {\n",
       "    embed_document(root);\n",
       "  } else {\n",
       "    var attempts = 0;\n",
       "    var timer = setInterval(function(root) {\n",
       "      if (root.Bokeh !== undefined) {\n",
       "        embed_document(root);\n",
       "        clearInterval(timer);\n",
       "      }\n",
       "      attempts++;\n",
       "      if (attempts > 100) {\n",
       "        console.log(\"Bokeh: ERROR: Unable to embed document because BokehJS library is missing\")\n",
       "        clearInterval(timer);\n",
       "      }\n",
       "    }, 10, root)\n",
       "  }\n",
       "})(window);"
      ],
      "application/vnd.bokehjs_exec.v0+json": ""
     },
     "metadata": {
      "application/vnd.bokehjs_exec.v0+json": {
       "id": "4f4ab844-2b29-42fb-9be0-682fc2a7ee0a"
      }
     },
     "output_type": "display_data"
    }
   ],
   "source": [
    "# Importamos gridplot - para presentar varias graficas en una\n",
    "from bokeh.layouts import gridplot\n",
    "\n",
    "group1 = tabla1.groupby('GRANDES_GRUPOS_DE_EDAD')\n",
    "\n",
    "source = ColumnDataSource(group1)\n",
    "\n",
    "# Creamos un una variable con un diccionario que alberga las parametros de la figura ha crear\n",
    "options = dict(plot_width=450, plot_height=450, # Tamaño\n",
    "                x_range=group1, # Mandamos el rango de x\n",
    "               tools=\"pan,wheel_zoom,box_zoom,reset\") # Herramientas de bokeh a mostrar\n",
    "\n",
    "# Creamos un objeto de figura y establecemos su tamaño, rango, y le damos un título \n",
    "graph1 = figure(title='TOTAl MUJERES', # Le damos un título\n",
    "               **options # Enviamos los atributos albergados en options\n",
    "              )\n",
    "\n",
    "graph2 = figure(title='TOTAL HOMBRES', **options)\n",
    "\n",
    "graph1.vbar(x='GRANDES_GRUPOS_DE_EDAD', top='TOTAL_M_mean', width=0.7, line_color=\"white\", color=\"#82B1FF\", source=source)\n",
    "graph2.vbar(x='GRANDES_GRUPOS_DE_EDAD', top='TOTAL_H_mean', width=0.7, line_color=\"white\", color=\"#F08080\", source=source)\n",
    "\n",
    "# Creamos una nueva figura que esta compuesta por las dos figuras creadas anteriormente\n",
    "graph = gridplot([[graph1, graph2]])\n",
    "\n",
    "# Mostramos los resultados\n",
    "show(graph)"
   ]
  },
  {
   "cell_type": "code",
   "execution_count": 21,
   "metadata": {},
   "outputs": [
    {
     "data": {
      "text/html": [
       "\n",
       "<div class=\"bk-root\">\n",
       "    <div class=\"bk-plotdiv\" id=\"dd9f4f2f-0ae4-4d16-a9b8-4b2b8ecbb26a\"></div>\n",
       "</div>"
      ]
     },
     "metadata": {},
     "output_type": "display_data"
    },
    {
     "data": {
      "application/javascript": [
       "(function(root) {\n",
       "  function embed_document(root) {\n",
       "    var docs_json = {\"e8708c2e-1e03-45b7-bccb-7cfe8ddee2c6\":{\"roots\":{\"references\":[{\"attributes\":{\"below\":[{\"id\":\"48e7b9e5-e69a-4999-a52d-7ec29ea4ab0d\",\"type\":\"CategoricalAxis\"}],\"left\":[{\"id\":\"8ae63b84-00b8-44ad-9758-b9381ec76117\",\"type\":\"LinearAxis\"}],\"plot_height\":250,\"plot_width\":900,\"renderers\":[{\"id\":\"48e7b9e5-e69a-4999-a52d-7ec29ea4ab0d\",\"type\":\"CategoricalAxis\"},{\"id\":\"eac96b2c-83fc-4b7a-8fe9-d327239f580b\",\"type\":\"Grid\"},{\"id\":\"8ae63b84-00b8-44ad-9758-b9381ec76117\",\"type\":\"LinearAxis\"},{\"id\":\"b66a2153-4752-439f-8220-2902940df737\",\"type\":\"Grid\"},{\"id\":\"864863d8-337d-4ab1-9e35-7ffed07de999\",\"type\":\"BoxAnnotation\"},{\"id\":\"f8fbc137-8295-4023-a903-8dcbb7faa5e2\",\"type\":\"Legend\"},{\"id\":\"0c7db0fe-c24e-4975-b3d5-80796e8f7358\",\"type\":\"GlyphRenderer\"},{\"id\":\"c48c4082-c5c4-4f8c-8790-2668ca1e5aaf\",\"type\":\"GlyphRenderer\"}],\"title\":{\"id\":\"1e6fa4c2-934e-45f2-8972-6bbaf10f35ab\",\"type\":\"Title\"},\"toolbar\":{\"id\":\"98f34015-94d7-48cb-91f1-2b02cd68d560\",\"type\":\"Toolbar\"},\"x_range\":{\"id\":\"1d609c06-8220-42d4-9479-604708420d43\",\"type\":\"FactorRange\"},\"x_scale\":{\"id\":\"2ab65f66-f311-4321-80a3-03699ab0ec57\",\"type\":\"CategoricalScale\"},\"y_range\":{\"id\":\"13c84894-3fc8-4f03-9ef9-dc4d14da480b\",\"type\":\"DataRange1d\"},\"y_scale\":{\"id\":\"d53a43fe-d139-4d59-8a0d-b7b71cad205e\",\"type\":\"LinearScale\"}},\"id\":\"1006e7ec-a4c2-4b5b-a387-bcf72469dcf2\",\"subtype\":\"Figure\",\"type\":\"Plot\"},{\"attributes\":{},\"id\":\"88e0f7cf-f98f-43da-8eae-b7088134686e\",\"type\":\"ResetTool\"},{\"attributes\":{},\"id\":\"56953713-78b3-458e-8275-672795c742af\",\"type\":\"CategoricalTicker\"},{\"attributes\":{\"line_alpha\":{\"value\":0.1},\"line_color\":{\"value\":\"#1f77b4\"},\"x\":{\"field\":\"GRANDES_GRUPOS_DE_EDAD\"},\"y\":{\"field\":\"A_URBANA_M_mean\"}},\"id\":\"d31937b3-9e78-4e5b-9ca3-5f9f555472a2\",\"type\":\"Line\"},{\"attributes\":{\"line_color\":{\"value\":\"#8C9EFF\"},\"x\":{\"field\":\"GRANDES_GRUPOS_DE_EDAD\"},\"y\":{\"field\":\"A_URBANA_H_mean\"}},\"id\":\"85134ad5-9ef2-4419-b47d-acc82548a1fd\",\"type\":\"Line\"},{\"attributes\":{\"data_source\":{\"id\":\"22b1f7b3-5b0e-4bf6-bae8-b42af06b7e86\",\"type\":\"ColumnDataSource\"},\"glyph\":{\"id\":\"5090c90f-4218-4901-a1f0-d6b6d876d1e9\",\"type\":\"Line\"},\"hover_glyph\":null,\"muted_glyph\":null,\"nonselection_glyph\":{\"id\":\"d31937b3-9e78-4e5b-9ca3-5f9f555472a2\",\"type\":\"Line\"},\"selection_glyph\":null,\"view\":{\"id\":\"80747b40-e3a7-499b-98c7-754249f7d865\",\"type\":\"CDSView\"}},\"id\":\"0c7db0fe-c24e-4975-b3d5-80796e8f7358\",\"type\":\"GlyphRenderer\"},{\"attributes\":{\"callback\":null,\"factors\":[\"15-24 a\\u00f1os\",\"25-39 a\\u00f1os\",\"40-64 a\\u00f1os\",\"65 a\\u00f1os y mas\",\"Total nacional\"]},\"id\":\"1d609c06-8220-42d4-9479-604708420d43\",\"type\":\"FactorRange\"},{\"attributes\":{},\"id\":\"61fa4cd9-2aa7-4c5c-a927-9536bdc9f782\",\"type\":\"WheelZoomTool\"},{\"attributes\":{},\"id\":\"1f161539-2fdd-4549-82f9-d5f4c28e42ef\",\"type\":\"PanTool\"},{\"attributes\":{\"line_alpha\":{\"value\":0.1},\"line_color\":{\"value\":\"#1f77b4\"},\"x\":{\"field\":\"GRANDES_GRUPOS_DE_EDAD\"},\"y\":{\"field\":\"A_URBANA_H_mean\"}},\"id\":\"86f192db-9901-4197-b998-d91ff9fc0542\",\"type\":\"Line\"},{\"attributes\":{\"line_color\":{\"value\":\"#B388FF\"},\"x\":{\"field\":\"GRANDES_GRUPOS_DE_EDAD\"},\"y\":{\"field\":\"A_URBANA_M_mean\"}},\"id\":\"5090c90f-4218-4901-a1f0-d6b6d876d1e9\",\"type\":\"Line\"},{\"attributes\":{\"source\":{\"id\":\"22b1f7b3-5b0e-4bf6-bae8-b42af06b7e86\",\"type\":\"ColumnDataSource\"}},\"id\":\"80747b40-e3a7-499b-98c7-754249f7d865\",\"type\":\"CDSView\"},{\"attributes\":{\"overlay\":{\"id\":\"864863d8-337d-4ab1-9e35-7ffed07de999\",\"type\":\"BoxAnnotation\"}},\"id\":\"5a1f10cd-c552-45ae-b635-0b229ead338d\",\"type\":\"BoxZoomTool\"},{\"attributes\":{\"dimension\":1,\"grid_line_color\":{\"value\":null},\"plot\":{\"id\":\"1006e7ec-a4c2-4b5b-a387-bcf72469dcf2\",\"subtype\":\"Figure\",\"type\":\"Plot\"},\"ticker\":{\"id\":\"3bb6c652-1caf-4b21-b128-cb5118db9ae9\",\"type\":\"BasicTicker\"}},\"id\":\"b66a2153-4752-439f-8220-2902940df737\",\"type\":\"Grid\"},{\"attributes\":{\"items\":[{\"id\":\"b9300c17-08e0-420c-ad19-0ca18bd40a70\",\"type\":\"LegendItem\"},{\"id\":\"5f493316-8ced-40aa-8a5c-bf96ef6812a6\",\"type\":\"LegendItem\"}],\"plot\":{\"id\":\"1006e7ec-a4c2-4b5b-a387-bcf72469dcf2\",\"subtype\":\"Figure\",\"type\":\"Plot\"}},\"id\":\"f8fbc137-8295-4023-a903-8dcbb7faa5e2\",\"type\":\"Legend\"},{\"attributes\":{\"label\":{\"value\":\"HOMBRES\"},\"renderers\":[{\"id\":\"c48c4082-c5c4-4f8c-8790-2668ca1e5aaf\",\"type\":\"GlyphRenderer\"}]},\"id\":\"5f493316-8ced-40aa-8a5c-bf96ef6812a6\",\"type\":\"LegendItem\"},{\"attributes\":{},\"id\":\"2ab65f66-f311-4321-80a3-03699ab0ec57\",\"type\":\"CategoricalScale\"},{\"attributes\":{},\"id\":\"9d853eba-b2fb-4da7-bb7d-2025ac70e173\",\"type\":\"SaveTool\"},{\"attributes\":{},\"id\":\"5ff8de2d-ded9-4ea3-aa44-dd157b953a43\",\"type\":\"BasicTickFormatter\"},{\"attributes\":{\"callback\":null},\"id\":\"13c84894-3fc8-4f03-9ef9-dc4d14da480b\",\"type\":\"DataRange1d\"},{\"attributes\":{\"callback\":null,\"column_names\":[\"A_RURAL_H_count\",\"A_RURAL_H_mean\",\"A_RURAL_H_std\",\"A_RURAL_H_min\",\"A_RURAL_H_25%\",\"A_RURAL_H_50%\",\"A_RURAL_H_75%\",\"A_RURAL_H_max\",\"A_RURAL_M_count\",\"A_RURAL_M_mean\",\"A_RURAL_M_std\",\"A_RURAL_M_min\",\"A_RURAL_M_25%\",\"A_RURAL_M_50%\",\"A_RURAL_M_75%\",\"A_RURAL_M_max\",\"A_URBANA_H_count\",\"A_URBANA_H_mean\",\"A_URBANA_H_std\",\"A_URBANA_H_min\",\"A_URBANA_H_25%\",\"A_URBANA_H_50%\",\"A_URBANA_H_75%\",\"A_URBANA_H_max\",\"A_URBANA_M_count\",\"A_URBANA_M_mean\",\"A_URBANA_M_std\",\"A_URBANA_M_min\",\"A_URBANA_M_25%\",\"A_URBANA_M_50%\",\"A_URBANA_M_75%\",\"A_URBANA_M_max\",\"TOTAL_H_count\",\"TOTAL_H_mean\",\"TOTAL_H_std\",\"TOTAL_H_min\",\"TOTAL_H_25%\",\"TOTAL_H_50%\",\"TOTAL_H_75%\",\"TOTAL_H_max\",\"TOTAL_M_count\",\"TOTAL_M_mean\",\"TOTAL_M_std\",\"TOTAL_M_min\",\"TOTAL_M_25%\",\"TOTAL_M_50%\",\"TOTAL_M_75%\",\"TOTAL_M_max\",\"GRANDES_GRUPOS_DE_EDAD\"],\"data\":{\"A_RURAL_H_25%\":{\"__ndarray__\":\"eOkmMQisnD+JQWDl0CKrP/T91HjpJsE/wMqhRbbz1T+S7Xw/NV66Pw==\",\"dtype\":\"float64\",\"shape\":[5]},\"A_RURAL_H_50%\":{\"__ndarray__\":\"eOkmMQisnD+JQWDl0CKrP/T91HjpJsE/wMqhRbbz1T+S7Xw/NV66Pw==\",\"dtype\":\"float64\",\"shape\":[5]},\"A_RURAL_H_75%\":{\"__ndarray__\":\"eOkmMQisnD+JQWDl0CKrP/T91HjpJsE/wMqhRbbz1T+S7Xw/NV66Pw==\",\"dtype\":\"float64\",\"shape\":[5]},\"A_RURAL_H_count\":{\"__ndarray__\":\"AAAAAAAA8D8AAAAAAADwPwAAAAAAAPA/AAAAAAAA8D8AAAAAAADwPw==\",\"dtype\":\"float64\",\"shape\":[5]},\"A_RURAL_H_max\":{\"__ndarray__\":\"eOkmMQisnD+JQWDl0CKrP/T91HjpJsE/wMqhRbbz1T+S7Xw/NV66Pw==\",\"dtype\":\"float64\",\"shape\":[5]},\"A_RURAL_H_mean\":{\"__ndarray__\":\"eOkmMQisnD+JQWDl0CKrP/T91HjpJsE/wMqhRbbz1T+S7Xw/NV66Pw==\",\"dtype\":\"float64\",\"shape\":[5]},\"A_RURAL_H_min\":{\"__ndarray__\":\"eOkmMQisnD+JQWDl0CKrP/T91HjpJsE/wMqhRbbz1T+S7Xw/NV66Pw==\",\"dtype\":\"float64\",\"shape\":[5]},\"A_RURAL_H_std\":{\"__ndarray__\":\"AAAAAAAA+H8AAAAAAAD4fwAAAAAAAPh/AAAAAAAA+H8AAAAAAAD4fw==\",\"dtype\":\"float64\",\"shape\":[5]},\"A_RURAL_M_25%\":{\"__ndarray__\":\"mpmZmZmZmT946SYxCKysPz0K16NwPco/AyuHFtnO3z+TGARWDi3CPw==\",\"dtype\":\"float64\",\"shape\":[5]},\"A_RURAL_M_50%\":{\"__ndarray__\":\"mpmZmZmZmT946SYxCKysPz0K16NwPco/AyuHFtnO3z+TGARWDi3CPw==\",\"dtype\":\"float64\",\"shape\":[5]},\"A_RURAL_M_75%\":{\"__ndarray__\":\"mpmZmZmZmT946SYxCKysPz0K16NwPco/AyuHFtnO3z+TGARWDi3CPw==\",\"dtype\":\"float64\",\"shape\":[5]},\"A_RURAL_M_count\":{\"__ndarray__\":\"AAAAAAAA8D8AAAAAAADwPwAAAAAAAPA/AAAAAAAA8D8AAAAAAADwPw==\",\"dtype\":\"float64\",\"shape\":[5]},\"A_RURAL_M_max\":{\"__ndarray__\":\"mpmZmZmZmT946SYxCKysPz0K16NwPco/AyuHFtnO3z+TGARWDi3CPw==\",\"dtype\":\"float64\",\"shape\":[5]},\"A_RURAL_M_mean\":{\"__ndarray__\":\"mpmZmZmZmT946SYxCKysPz0K16NwPco/AyuHFtnO3z+TGARWDi3CPw==\",\"dtype\":\"float64\",\"shape\":[5]},\"A_RURAL_M_min\":{\"__ndarray__\":\"mpmZmZmZmT946SYxCKysPz0K16NwPco/AyuHFtnO3z+TGARWDi3CPw==\",\"dtype\":\"float64\",\"shape\":[5]},\"A_RURAL_M_std\":{\"__ndarray__\":\"AAAAAAAA+H8AAAAAAAD4fwAAAAAAAPh/AAAAAAAA+H8AAAAAAAD4fw==\",\"dtype\":\"float64\",\"shape\":[5]},\"A_URBANA_H_25%\":{\"__ndarray__\":\"+n5qvHSTiD8830+Nl26SP9v5fmq8dKM//Knx0k1iwD9YObTIdr6fPw==\",\"dtype\":\"float64\",\"shape\":[5]},\"A_URBANA_H_50%\":{\"__ndarray__\":\"+n5qvHSTiD8830+Nl26SP9v5fmq8dKM//Knx0k1iwD9YObTIdr6fPw==\",\"dtype\":\"float64\",\"shape\":[5]},\"A_URBANA_H_75%\":{\"__ndarray__\":\"+n5qvHSTiD8830+Nl26SP9v5fmq8dKM//Knx0k1iwD9YObTIdr6fPw==\",\"dtype\":\"float64\",\"shape\":[5]},\"A_URBANA_H_count\":{\"__ndarray__\":\"AAAAAAAA8D8AAAAAAADwPwAAAAAAAPA/AAAAAAAA8D8AAAAAAADwPw==\",\"dtype\":\"float64\",\"shape\":[5]},\"A_URBANA_H_max\":{\"__ndarray__\":\"+n5qvHSTiD8830+Nl26SP9v5fmq8dKM//Knx0k1iwD9YObTIdr6fPw==\",\"dtype\":\"float64\",\"shape\":[5]},\"A_URBANA_H_mean\":{\"__ndarray__\":\"+n5qvHSTiD8830+Nl26SP9v5fmq8dKM//Knx0k1iwD9YObTIdr6fPw==\",\"dtype\":\"float64\",\"shape\":[5]},\"A_URBANA_H_min\":{\"__ndarray__\":\"+n5qvHSTiD8830+Nl26SP9v5fmq8dKM//Knx0k1iwD9YObTIdr6fPw==\",\"dtype\":\"float64\",\"shape\":[5]},\"A_URBANA_H_std\":{\"__ndarray__\":\"AAAAAAAA+H8AAAAAAAD4fwAAAAAAAPh/AAAAAAAA+H8AAAAAAAD4fw==\",\"dtype\":\"float64\",\"shape\":[5]},\"A_URBANA_M_25%\":{\"__ndarray__\":\"PN9PjZdugj+cxCCwcmiRP9rO91Pjpas/9ihcj8L1yD9qvHSTGASmPw==\",\"dtype\":\"float64\",\"shape\":[5]},\"A_URBANA_M_50%\":{\"__ndarray__\":\"PN9PjZdugj+cxCCwcmiRP9rO91Pjpas/9ihcj8L1yD9qvHSTGASmPw==\",\"dtype\":\"float64\",\"shape\":[5]},\"A_URBANA_M_75%\":{\"__ndarray__\":\"PN9PjZdugj+cxCCwcmiRP9rO91Pjpas/9ihcj8L1yD9qvHSTGASmPw==\",\"dtype\":\"float64\",\"shape\":[5]},\"A_URBANA_M_count\":{\"__ndarray__\":\"AAAAAAAA8D8AAAAAAADwPwAAAAAAAPA/AAAAAAAA8D8AAAAAAADwPw==\",\"dtype\":\"float64\",\"shape\":[5]},\"A_URBANA_M_max\":{\"__ndarray__\":\"PN9PjZdugj+cxCCwcmiRP9rO91Pjpas/9ihcj8L1yD9qvHSTGASmPw==\",\"dtype\":\"float64\",\"shape\":[5]},\"A_URBANA_M_mean\":{\"__ndarray__\":\"PN9PjZdugj+cxCCwcmiRP9rO91Pjpas/9ihcj8L1yD9qvHSTGASmPw==\",\"dtype\":\"float64\",\"shape\":[5]},\"A_URBANA_M_min\":{\"__ndarray__\":\"PN9PjZdugj+cxCCwcmiRP9rO91Pjpas/9ihcj8L1yD9qvHSTGASmPw==\",\"dtype\":\"float64\",\"shape\":[5]},\"A_URBANA_M_std\":{\"__ndarray__\":\"AAAAAAAA+H8AAAAAAAD4fwAAAAAAAPh/AAAAAAAA+H8AAAAAAAD4fw==\",\"dtype\":\"float64\",\"shape\":[5]},\"GRANDES_GRUPOS_DE_EDAD\":[\"15-24 a\\u00f1os\",\"25-39 a\\u00f1os\",\"40-64 a\\u00f1os\",\"65 a\\u00f1os y mas\",\"Total nacional\"],\"TOTAL_H_25%\":{\"__ndarray__\":\"PN9PjZdukj+4HoXrUbiePzzfT42XbrI/eOkmMQiszD8YBFYOLbKtPw==\",\"dtype\":\"float64\",\"shape\":[5]},\"TOTAL_H_50%\":{\"__ndarray__\":\"PN9PjZdukj+4HoXrUbiePzzfT42XbrI/eOkmMQiszD8YBFYOLbKtPw==\",\"dtype\":\"float64\",\"shape\":[5]},\"TOTAL_H_75%\":{\"__ndarray__\":\"PN9PjZdukj+4HoXrUbiePzzfT42XbrI/eOkmMQiszD8YBFYOLbKtPw==\",\"dtype\":\"float64\",\"shape\":[5]},\"TOTAL_H_count\":{\"__ndarray__\":\"AAAAAAAA8D8AAAAAAADwPwAAAAAAAPA/AAAAAAAA8D8AAAAAAADwPw==\",\"dtype\":\"float64\",\"shape\":[5]},\"TOTAL_H_max\":{\"__ndarray__\":\"PN9PjZdukj+4HoXrUbiePzzfT42XbrI/eOkmMQiszD8YBFYOLbKtPw==\",\"dtype\":\"float64\",\"shape\":[5]},\"TOTAL_H_mean\":{\"__ndarray__\":\"PN9PjZdukj+4HoXrUbiePzzfT42XbrI/eOkmMQiszD8YBFYOLbKtPw==\",\"dtype\":\"float64\",\"shape\":[5]},\"TOTAL_H_min\":{\"__ndarray__\":\"PN9PjZdukj+4HoXrUbiePzzfT42XbrI/eOkmMQiszD8YBFYOLbKtPw==\",\"dtype\":\"float64\",\"shape\":[5]},\"TOTAL_H_std\":{\"__ndarray__\":\"AAAAAAAA+H8AAAAAAAD4fwAAAAAAAPh/AAAAAAAA+H8AAAAAAAD4fw==\",\"dtype\":\"float64\",\"shape\":[5]},\"TOTAL_M_25%\":{\"__ndarray__\":\"uB6F61G4jj+4HoXrUbiePzq0yHa+n7o/001iEFg51D+DwMqhRbazPw==\",\"dtype\":\"float64\",\"shape\":[5]},\"TOTAL_M_50%\":{\"__ndarray__\":\"uB6F61G4jj+4HoXrUbiePzq0yHa+n7o/001iEFg51D+DwMqhRbazPw==\",\"dtype\":\"float64\",\"shape\":[5]},\"TOTAL_M_75%\":{\"__ndarray__\":\"uB6F61G4jj+4HoXrUbiePzq0yHa+n7o/001iEFg51D+DwMqhRbazPw==\",\"dtype\":\"float64\",\"shape\":[5]},\"TOTAL_M_count\":{\"__ndarray__\":\"AAAAAAAA8D8AAAAAAADwPwAAAAAAAPA/AAAAAAAA8D8AAAAAAADwPw==\",\"dtype\":\"float64\",\"shape\":[5]},\"TOTAL_M_max\":{\"__ndarray__\":\"uB6F61G4jj+4HoXrUbiePzq0yHa+n7o/001iEFg51D+DwMqhRbazPw==\",\"dtype\":\"float64\",\"shape\":[5]},\"TOTAL_M_mean\":{\"__ndarray__\":\"uB6F61G4jj+4HoXrUbiePzq0yHa+n7o/001iEFg51D+DwMqhRbazPw==\",\"dtype\":\"float64\",\"shape\":[5]},\"TOTAL_M_min\":{\"__ndarray__\":\"uB6F61G4jj+4HoXrUbiePzq0yHa+n7o/001iEFg51D+DwMqhRbazPw==\",\"dtype\":\"float64\",\"shape\":[5]},\"TOTAL_M_std\":{\"__ndarray__\":\"AAAAAAAA+H8AAAAAAAD4fwAAAAAAAPh/AAAAAAAA+H8AAAAAAAD4fw==\",\"dtype\":\"float64\",\"shape\":[5]}}},\"id\":\"22b1f7b3-5b0e-4bf6-bae8-b42af06b7e86\",\"type\":\"ColumnDataSource\"},{\"attributes\":{},\"id\":\"c4c32f6f-ee70-4710-a73e-49c2a812bf1d\",\"type\":\"CategoricalTickFormatter\"},{\"attributes\":{\"bottom_units\":\"screen\",\"fill_alpha\":{\"value\":0.5},\"fill_color\":{\"value\":\"lightgrey\"},\"left_units\":\"screen\",\"level\":\"overlay\",\"line_alpha\":{\"value\":1.0},\"line_color\":{\"value\":\"black\"},\"line_dash\":[4,4],\"line_width\":{\"value\":2},\"plot\":null,\"render_mode\":\"css\",\"right_units\":\"screen\",\"top_units\":\"screen\"},\"id\":\"864863d8-337d-4ab1-9e35-7ffed07de999\",\"type\":\"BoxAnnotation\"},{\"attributes\":{},\"id\":\"d53a43fe-d139-4d59-8a0d-b7b71cad205e\",\"type\":\"LinearScale\"},{\"attributes\":{\"plot\":null,\"text\":\"AREA URBANA - ANALFABETISMO POR AREA Y GRUPOS DE EDAD\"},\"id\":\"1e6fa4c2-934e-45f2-8972-6bbaf10f35ab\",\"type\":\"Title\"},{\"attributes\":{\"data_source\":{\"id\":\"22b1f7b3-5b0e-4bf6-bae8-b42af06b7e86\",\"type\":\"ColumnDataSource\"},\"glyph\":{\"id\":\"85134ad5-9ef2-4419-b47d-acc82548a1fd\",\"type\":\"Line\"},\"hover_glyph\":null,\"muted_glyph\":null,\"nonselection_glyph\":{\"id\":\"86f192db-9901-4197-b998-d91ff9fc0542\",\"type\":\"Line\"},\"selection_glyph\":null,\"view\":{\"id\":\"d6bc940d-58fc-44fa-9491-12673f60a76d\",\"type\":\"CDSView\"}},\"id\":\"c48c4082-c5c4-4f8c-8790-2668ca1e5aaf\",\"type\":\"GlyphRenderer\"},{\"attributes\":{\"label\":{\"value\":\"MUJERES\"},\"renderers\":[{\"id\":\"0c7db0fe-c24e-4975-b3d5-80796e8f7358\",\"type\":\"GlyphRenderer\"}]},\"id\":\"b9300c17-08e0-420c-ad19-0ca18bd40a70\",\"type\":\"LegendItem\"},{\"attributes\":{\"formatter\":{\"id\":\"5ff8de2d-ded9-4ea3-aa44-dd157b953a43\",\"type\":\"BasicTickFormatter\"},\"plot\":{\"id\":\"1006e7ec-a4c2-4b5b-a387-bcf72469dcf2\",\"subtype\":\"Figure\",\"type\":\"Plot\"},\"ticker\":{\"id\":\"3bb6c652-1caf-4b21-b128-cb5118db9ae9\",\"type\":\"BasicTicker\"}},\"id\":\"8ae63b84-00b8-44ad-9758-b9381ec76117\",\"type\":\"LinearAxis\"},{\"attributes\":{\"grid_line_color\":{\"value\":null},\"plot\":{\"id\":\"1006e7ec-a4c2-4b5b-a387-bcf72469dcf2\",\"subtype\":\"Figure\",\"type\":\"Plot\"},\"ticker\":{\"id\":\"56953713-78b3-458e-8275-672795c742af\",\"type\":\"CategoricalTicker\"}},\"id\":\"eac96b2c-83fc-4b7a-8fe9-d327239f580b\",\"type\":\"Grid\"},{\"attributes\":{},\"id\":\"3bb6c652-1caf-4b21-b128-cb5118db9ae9\",\"type\":\"BasicTicker\"},{\"attributes\":{\"active_drag\":\"auto\",\"active_inspect\":\"auto\",\"active_scroll\":\"auto\",\"active_tap\":\"auto\",\"tools\":[{\"id\":\"1f161539-2fdd-4549-82f9-d5f4c28e42ef\",\"type\":\"PanTool\"},{\"id\":\"61fa4cd9-2aa7-4c5c-a927-9536bdc9f782\",\"type\":\"WheelZoomTool\"},{\"id\":\"5a1f10cd-c552-45ae-b635-0b229ead338d\",\"type\":\"BoxZoomTool\"},{\"id\":\"9d853eba-b2fb-4da7-bb7d-2025ac70e173\",\"type\":\"SaveTool\"},{\"id\":\"88e0f7cf-f98f-43da-8eae-b7088134686e\",\"type\":\"ResetTool\"},{\"id\":\"13ad0196-567b-49e5-bbeb-0599cfa2a36a\",\"type\":\"HelpTool\"}]},\"id\":\"98f34015-94d7-48cb-91f1-2b02cd68d560\",\"type\":\"Toolbar\"},{\"attributes\":{\"formatter\":{\"id\":\"c4c32f6f-ee70-4710-a73e-49c2a812bf1d\",\"type\":\"CategoricalTickFormatter\"},\"plot\":{\"id\":\"1006e7ec-a4c2-4b5b-a387-bcf72469dcf2\",\"subtype\":\"Figure\",\"type\":\"Plot\"},\"ticker\":{\"id\":\"56953713-78b3-458e-8275-672795c742af\",\"type\":\"CategoricalTicker\"}},\"id\":\"48e7b9e5-e69a-4999-a52d-7ec29ea4ab0d\",\"type\":\"CategoricalAxis\"},{\"attributes\":{},\"id\":\"13ad0196-567b-49e5-bbeb-0599cfa2a36a\",\"type\":\"HelpTool\"},{\"attributes\":{\"source\":{\"id\":\"22b1f7b3-5b0e-4bf6-bae8-b42af06b7e86\",\"type\":\"ColumnDataSource\"}},\"id\":\"d6bc940d-58fc-44fa-9491-12673f60a76d\",\"type\":\"CDSView\"}],\"root_ids\":[\"1006e7ec-a4c2-4b5b-a387-bcf72469dcf2\"]},\"title\":\"Bokeh Application\",\"version\":\"0.12.10\"}};\n",
       "    var render_items = [{\"docid\":\"e8708c2e-1e03-45b7-bccb-7cfe8ddee2c6\",\"elementid\":\"dd9f4f2f-0ae4-4d16-a9b8-4b2b8ecbb26a\",\"modelid\":\"1006e7ec-a4c2-4b5b-a387-bcf72469dcf2\"}];\n",
       "\n",
       "    root.Bokeh.embed.embed_items(docs_json, render_items);\n",
       "  }\n",
       "\n",
       "  if (root.Bokeh !== undefined) {\n",
       "    embed_document(root);\n",
       "  } else {\n",
       "    var attempts = 0;\n",
       "    var timer = setInterval(function(root) {\n",
       "      if (root.Bokeh !== undefined) {\n",
       "        embed_document(root);\n",
       "        clearInterval(timer);\n",
       "      }\n",
       "      attempts++;\n",
       "      if (attempts > 100) {\n",
       "        console.log(\"Bokeh: ERROR: Unable to embed document because BokehJS library is missing\")\n",
       "        clearInterval(timer);\n",
       "      }\n",
       "    }, 10, root)\n",
       "  }\n",
       "})(window);"
      ],
      "application/vnd.bokehjs_exec.v0+json": ""
     },
     "metadata": {
      "application/vnd.bokehjs_exec.v0+json": {
       "id": "1006e7ec-a4c2-4b5b-a387-bcf72469dcf2"
      }
     },
     "output_type": "display_data"
    }
   ],
   "source": [
    "group1 = tabla1.groupby('GRANDES_GRUPOS_DE_EDAD')\n",
    "\n",
    "source = ColumnDataSource(group1)\n",
    "\n",
    "# Creamos un objeto de figura y establecemos su tamaño, rango, y le damos un título \n",
    "graph1 = figure(plot_height=250, plot_width=900, x_range=group1,  title='AREA URBANA - ANALFABETISMO POR AREA Y GRUPOS DE EDAD')\n",
    "\n",
    "\n",
    "graph1.line(x='GRANDES_GRUPOS_DE_EDAD', y='A_URBANA_M_mean', color='#B388FF', legend='MUJERES', source=source)\n",
    "graph1.line(x='GRANDES_GRUPOS_DE_EDAD', y='A_URBANA_H_mean', color='#8C9EFF', legend='HOMBRES', source=source)\n",
    "\n",
    "\n",
    "graph1.xgrid.grid_line_color = None\n",
    "graph1.ygrid.grid_line_color = None\n",
    "show(graph1)"
   ]
  },
  {
   "cell_type": "code",
   "execution_count": null,
   "metadata": {
    "collapsed": true
   },
   "outputs": [],
   "source": []
  }
 ],
 "metadata": {
  "kernelspec": {
   "display_name": "Python 3",
   "language": "python",
   "name": "python3"
  },
  "language_info": {
   "codemirror_mode": {
    "name": "ipython",
    "version": 3
   },
   "file_extension": ".py",
   "mimetype": "text/x-python",
   "name": "python",
   "nbconvert_exporter": "python",
   "pygments_lexer": "ipython3",
   "version": "3.6.3"
  }
 },
 "nbformat": 4,
 "nbformat_minor": 2
}
