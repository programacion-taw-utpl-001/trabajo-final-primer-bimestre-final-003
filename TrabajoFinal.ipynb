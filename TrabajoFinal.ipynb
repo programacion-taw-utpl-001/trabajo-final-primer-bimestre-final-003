{
 "cells": [
  {
   "cell_type": "markdown",
   "metadata": {},
   "source": [
    "<h1 style=\"text-align:center\">Trabajo Final - Primer Bimestre</h1>\n",
    "***\n",
    "* **Manejo y Visualización de Datos con Python**\n",
    "***\n",
    "Para la realización del presente trabajo se llevo a cabo la obtención de los datos estadísticos enfocados en el tema de **Hombres y Mujeres en el Ecuador** extraidos de [Ecuador en Cifras](http://www.ecuadorencifras.gob.ec/estadisticas/).\n",
    "\n",
    "Librerías en python a utilizar: **jupyter, pandas, bokeh.**\n",
    "\n",
    "Autores : **Jorge Hurtado - Jonathan Rosero**\n"
   ]
  },
  {
   "cell_type": "code",
<<<<<<< HEAD
   "execution_count": 6,
=======
   "execution_count": 2,
>>>>>>> 74e24a0353612893c53a89d887405642d06d7354
   "metadata": {
    "collapsed": true
   },
   "outputs": [],
   "source": [
    "# Se inicia con la importacion de pandas con un respectivo alias para facilitar su llamada\n",
    "import pandas as pd"
   ]
  },
  {
   "cell_type": "code",
<<<<<<< HEAD
   "execution_count": 7,
=======
   "execution_count": 3,
>>>>>>> 74e24a0353612893c53a89d887405642d06d7354
   "metadata": {
    "scrolled": true
   },
   "outputs": [
    {
     "data": {
      "text/html": [
       "<div>\n",
       "<style>\n",
       "    .dataframe thead tr:only-child th {\n",
       "        text-align: right;\n",
       "    }\n",
       "\n",
       "    .dataframe thead th {\n",
       "        text-align: left;\n",
       "    }\n",
       "\n",
       "    .dataframe tbody tr th {\n",
       "        vertical-align: top;\n",
       "    }\n",
       "</style>\n",
       "<table border=\"1\" class=\"dataframe\">\n",
       "  <thead>\n",
       "    <tr style=\"text-align: right;\">\n",
       "      <th></th>\n",
       "      <th>GRANDES_GRUPOS_DE_EDAD</th>\n",
       "      <th>A_URBANA_M</th>\n",
       "      <th>A_URBANA_H</th>\n",
       "      <th>A_RURAL_M</th>\n",
       "      <th>A_RURAL_H</th>\n",
       "      <th>TOTAL_M</th>\n",
       "      <th>TOTAL_H</th>\n",
       "    </tr>\n",
       "  </thead>\n",
       "  <tbody>\n",
       "    <tr>\n",
       "      <th>0</th>\n",
       "      <td>15-24 años</td>\n",
       "      <td>0.009</td>\n",
       "      <td>0.012</td>\n",
       "      <td>0.025</td>\n",
       "      <td>0.028</td>\n",
       "      <td>0.015</td>\n",
       "      <td>0.018</td>\n",
       "    </tr>\n",
       "    <tr>\n",
       "      <th>1</th>\n",
       "      <td>25-39 años</td>\n",
       "      <td>0.017</td>\n",
       "      <td>0.018</td>\n",
       "      <td>0.056</td>\n",
       "      <td>0.053</td>\n",
       "      <td>0.030</td>\n",
       "      <td>0.030</td>\n",
       "    </tr>\n",
       "    <tr>\n",
       "      <th>2</th>\n",
       "      <td>40-64 años</td>\n",
       "      <td>0.054</td>\n",
       "      <td>0.038</td>\n",
       "      <td>0.205</td>\n",
       "      <td>0.134</td>\n",
       "      <td>0.104</td>\n",
       "      <td>0.072</td>\n",
       "    </tr>\n",
       "    <tr>\n",
       "      <th>3</th>\n",
       "      <td>65 años y mas</td>\n",
       "      <td>0.195</td>\n",
       "      <td>0.128</td>\n",
       "      <td>0.497</td>\n",
       "      <td>0.343</td>\n",
       "      <td>0.316</td>\n",
       "      <td>0.224</td>\n",
       "    </tr>\n",
       "    <tr>\n",
       "      <th>4</th>\n",
       "      <td>Total nacional</td>\n",
       "      <td>0.043</td>\n",
       "      <td>0.031</td>\n",
       "      <td>0.142</td>\n",
       "      <td>0.103</td>\n",
       "      <td>0.077</td>\n",
       "      <td>0.058</td>\n",
       "    </tr>\n",
       "  </tbody>\n",
       "</table>\n",
       "</div>"
      ],
      "text/plain": [
       "  GRANDES_GRUPOS_DE_EDAD  A_URBANA_M  A_URBANA_H  A_RURAL_M  A_RURAL_H  \\\n",
       "0             15-24 años       0.009       0.012      0.025      0.028   \n",
       "1             25-39 años       0.017       0.018      0.056      0.053   \n",
       "2             40-64 años       0.054       0.038      0.205      0.134   \n",
       "3          65 años y mas       0.195       0.128      0.497      0.343   \n",
       "4         Total nacional       0.043       0.031      0.142      0.103   \n",
       "\n",
       "   TOTAL_M  TOTAL_H  \n",
       "0    0.015    0.018  \n",
       "1    0.030    0.030  \n",
       "2    0.104    0.072  \n",
       "3    0.316    0.224  \n",
       "4    0.077    0.058  "
      ]
     },
<<<<<<< HEAD
     "execution_count": 7,
=======
     "execution_count": 3,
>>>>>>> 74e24a0353612893c53a89d887405642d06d7354
     "metadata": {},
     "output_type": "execute_result"
    }
   ],
   "source": [
    "# Con el uso de \".read_csv\" lemos el archivo con lo datos extraidos de EcuadorEnCifras\n",
    "pd.read_csv('./data/ANALFABETISMO_POR_AREA_Y_GRUPOS_DE_EDAD.csv')"
   ]
  },
  {
   "cell_type": "code",
<<<<<<< HEAD
   "execution_count": 8,
=======
   "execution_count": 4,
>>>>>>> 74e24a0353612893c53a89d887405642d06d7354
   "metadata": {
    "collapsed": true
   },
   "outputs": [],
   "source": [
    "# Como se va ha trabajar con el con los datos presentados anteriomente los guardamos en una variable\n",
    "tabla1 = pd.read_csv('./data/ANALFABETISMO_POR_AREA_Y_GRUPOS_DE_EDAD.csv')"
   ]
  },
  {
   "cell_type": "code",
<<<<<<< HEAD
   "execution_count": 9,
=======
   "execution_count": 5,
>>>>>>> 74e24a0353612893c53a89d887405642d06d7354
   "metadata": {},
   "outputs": [
    {
     "data": {
      "text/plain": [
       "pandas.core.frame.DataFrame"
      ]
     },
<<<<<<< HEAD
     "execution_count": 9,
=======
     "execution_count": 5,
>>>>>>> 74e24a0353612893c53a89d887405642d06d7354
     "metadata": {},
     "output_type": "execute_result"
    }
   ],
   "source": [
    "# Cabe mencionar el tipo de objeto de \"tabla1\" por lo que usaremos los atributos y metodos para explorar entre los datos\n",
    "type(tabla1)"
   ]
  },
  {
   "cell_type": "code",
<<<<<<< HEAD
   "execution_count": 10,
=======
   "execution_count": 6,
>>>>>>> 74e24a0353612893c53a89d887405642d06d7354
   "metadata": {},
   "outputs": [
    {
     "data": {
      "text/html": [
       "<div>\n",
       "<style>\n",
       "    .dataframe thead tr:only-child th {\n",
       "        text-align: right;\n",
       "    }\n",
       "\n",
       "    .dataframe thead th {\n",
       "        text-align: left;\n",
       "    }\n",
       "\n",
       "    .dataframe tbody tr th {\n",
       "        vertical-align: top;\n",
       "    }\n",
       "</style>\n",
       "<table border=\"1\" class=\"dataframe\">\n",
       "  <thead>\n",
       "    <tr style=\"text-align: right;\">\n",
       "      <th></th>\n",
       "      <th>GRANDES_GRUPOS_DE_EDAD</th>\n",
       "      <th>A_URBANA_M</th>\n",
       "      <th>A_URBANA_H</th>\n",
       "    </tr>\n",
       "  </thead>\n",
       "  <tbody>\n",
       "    <tr>\n",
       "      <th>0</th>\n",
       "      <td>15-24 años</td>\n",
       "      <td>0.009</td>\n",
       "      <td>0.012</td>\n",
       "    </tr>\n",
       "    <tr>\n",
       "      <th>1</th>\n",
       "      <td>25-39 años</td>\n",
       "      <td>0.017</td>\n",
       "      <td>0.018</td>\n",
       "    </tr>\n",
       "    <tr>\n",
       "      <th>2</th>\n",
       "      <td>40-64 años</td>\n",
       "      <td>0.054</td>\n",
       "      <td>0.038</td>\n",
       "    </tr>\n",
       "    <tr>\n",
       "      <th>3</th>\n",
       "      <td>65 años y mas</td>\n",
       "      <td>0.195</td>\n",
       "      <td>0.128</td>\n",
       "    </tr>\n",
       "    <tr>\n",
       "      <th>4</th>\n",
       "      <td>Total nacional</td>\n",
       "      <td>0.043</td>\n",
       "      <td>0.031</td>\n",
       "    </tr>\n",
       "  </tbody>\n",
       "</table>\n",
       "</div>"
      ],
      "text/plain": [
       "  GRANDES_GRUPOS_DE_EDAD  A_URBANA_M  A_URBANA_H\n",
       "0             15-24 años       0.009       0.012\n",
       "1             25-39 años       0.017       0.018\n",
       "2             40-64 años       0.054       0.038\n",
       "3          65 años y mas       0.195       0.128\n",
       "4         Total nacional       0.043       0.031"
      ]
     },
<<<<<<< HEAD
     "execution_count": 10,
=======
     "execution_count": 6,
>>>>>>> 74e24a0353612893c53a89d887405642d06d7354
     "metadata": {},
     "output_type": "execute_result"
    }
   ],
   "source": [
    "# Pandas nos permite trabajar con subconjunto en caso de tener una tabla dividida bajo ciertos parametros\n",
    "tabla1[['GRANDES_GRUPOS_DE_EDAD', 'A_URBANA_M', 'A_URBANA_H']]"
   ]
  },
  {
   "cell_type": "code",
   "execution_count": 11,
   "metadata": {},
   "outputs": [
    {
     "data": {
      "text/html": [
       "<div>\n",
       "<style>\n",
       "    .dataframe thead tr:only-child th {\n",
       "        text-align: right;\n",
       "    }\n",
       "\n",
       "    .dataframe thead th {\n",
       "        text-align: left;\n",
       "    }\n",
       "\n",
       "    .dataframe tbody tr th {\n",
       "        vertical-align: top;\n",
       "    }\n",
       "</style>\n",
       "<table border=\"1\" class=\"dataframe\">\n",
       "  <thead>\n",
       "    <tr style=\"text-align: right;\">\n",
       "      <th></th>\n",
       "      <th>GRANDES_GRUPOS_DE_EDAD</th>\n",
       "      <th>A_URBANA_M</th>\n",
       "      <th>A_URBANA_H</th>\n",
       "      <th>A_RURAL_M</th>\n",
       "      <th>A_RURAL_H</th>\n",
       "      <th>TOTAL_M</th>\n",
       "      <th>TOTAL_H</th>\n",
       "    </tr>\n",
       "  </thead>\n",
       "  <tbody>\n",
       "    <tr>\n",
       "      <th>2</th>\n",
       "      <td>40-64 años</td>\n",
       "      <td>0.054</td>\n",
       "      <td>0.038</td>\n",
       "      <td>0.205</td>\n",
       "      <td>0.134</td>\n",
       "      <td>0.104</td>\n",
       "      <td>0.072</td>\n",
       "    </tr>\n",
       "  </tbody>\n",
       "</table>\n",
       "</div>"
      ],
      "text/plain": [
       "  GRANDES_GRUPOS_DE_EDAD  A_URBANA_M  A_URBANA_H  A_RURAL_M  A_RURAL_H  \\\n",
       "2             40-64 años       0.054       0.038      0.205      0.134   \n",
       "\n",
       "   TOTAL_M  TOTAL_H  \n",
       "2    0.104    0.072  "
      ]
     },
     "execution_count": 11,
     "metadata": {},
     "output_type": "execute_result"
    }
   ],
   "source": [
    "# A la vez que podemso buscar un dato en especifico\n",
    "tabla1.loc[tabla1.GRANDES_GRUPOS_DE_EDAD == '40-64 años']"
   ]
  },
  {
   "cell_type": "code",
   "execution_count": 12,
   "metadata": {},
   "outputs": [
    {
     "data": {
      "text/plain": [
       "0.0636"
      ]
     },
     "execution_count": 12,
     "metadata": {},
     "output_type": "execute_result"
    }
   ],
   "source": [
    "# También podemos utilizar funciones propias de pandas, en este caso sacamos la media con el uso de \".mean()\"\n",
    "mediaUrbanaM = tabla1.A_URBANA_M.mean()\n",
    "mediaUrbanaM"
   ]
  },
  {
   "cell_type": "code",
   "execution_count": 13,
   "metadata": {},
   "outputs": [
    {
     "data": {
      "text/plain": [
       "GRANDES_GRUPOS_DE_EDAD\n",
       "15-24 años        0.015\n",
       "25-39 años        0.030\n",
       "40-64 años        0.104\n",
       "65 años y mas     0.316\n",
       "Total nacional    0.077\n",
       "Name: TOTAL_M, dtype: float64"
      ]
     },
     "execution_count": 13,
     "metadata": {},
     "output_type": "execute_result"
    }
   ],
   "source": [
    "# Podemos agrupar los datos por columnas\n",
    "tabla1.groupby('GRANDES_GRUPOS_DE_EDAD')['TOTAL_M'].mean()"
   ]
  },
  {
   "cell_type": "code",
   "execution_count": 14,
   "metadata": {},
   "outputs": [
    {
     "data": {
      "text/plain": [
       "<matplotlib.axes._subplots.AxesSubplot at 0x25ae9b0efd0>"
      ]
     },
     "execution_count": 14,
     "metadata": {},
     "output_type": "execute_result"
    },
    {
     "data": {
      "image/png": "iVBORw0KGgoAAAANSUhEUgAAAZ0AAAELCAYAAAAC4Fv8AAAABHNCSVQICAgIfAhkiAAAAAlwSFlz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\nvqO09eUAAAAASUVORK5CYII=\n",
      "text/plain": [
       "<matplotlib.figure.Figure at 0x25ae99c7198>"
      ]
     },
     "metadata": {},
     "output_type": "display_data"
    }
   ],
   "source": [
    "# Por parte de pandas sugiere la presentacion de los datos tras es uso de matplotlib\n",
    "import matplotlib.pyplot\n",
    "\n",
    "%matplotlib inline\n",
    "\n",
    "gytle = tabla1.groupby('GRANDES_GRUPOS_DE_EDAD')['TOTAL_M'].mean()\n",
    "\n",
    "gytle.plot()"
   ]
  },
  {
   "cell_type": "code",
   "execution_count": 15,
   "metadata": {},
   "outputs": [
    {
     "data": {
      "text/html": [
       "\n",
       "    <div class=\"bk-root\">\n",
       "        <a href=\"https://bokeh.pydata.org\" target=\"_blank\" class=\"bk-logo bk-logo-small bk-logo-notebook\"></a>\n",
       "        <span id=\"d0e71ad7-0a03-4f32-85d3-a51b16c0c55e\">Loading BokehJS ...</span>\n",
       "    </div>"
      ]
     },
     "metadata": {},
     "output_type": "display_data"
    },
    {
     "data": {
      "application/javascript": [
       "\n",
       "(function(root) {\n",
       "  function now() {\n",
       "    return new Date();\n",
       "  }\n",
       "\n",
       "  var force = true;\n",
       "\n",
       "  if (typeof (root._bokeh_onload_callbacks) === \"undefined\" || force === true) {\n",
       "    root._bokeh_onload_callbacks = [];\n",
       "    root._bokeh_is_loading = undefined;\n",
       "  }\n",
       "\n",
       "  var JS_MIME_TYPE = 'application/javascript';\n",
       "  var HTML_MIME_TYPE = 'text/html';\n",
       "  var EXEC_MIME_TYPE = 'application/vnd.bokehjs_exec.v0+json';\n",
       "  var CLASS_NAME = 'output_bokeh rendered_html';\n",
       "\n",
       "  /**\n",
       "   * Render data to the DOM node\n",
       "   */\n",
       "  function render(props, node) {\n",
       "    var script = document.createElement(\"script\");\n",
       "    node.appendChild(script);\n",
       "  }\n",
       "\n",
       "  /**\n",
       "   * Handle when an output is cleared or removed\n",
       "   */\n",
       "  function handleClearOutput(event, handle) {\n",
       "    var cell = handle.cell;\n",
       "\n",
       "    var id = cell.output_area._bokeh_element_id;\n",
       "    var server_id = cell.output_area._bokeh_server_id;\n",
       "    // Clean up Bokeh references\n",
       "    if (id !== undefined) {\n",
       "      Bokeh.index[id].model.document.clear();\n",
       "      delete Bokeh.index[id];\n",
       "    }\n",
       "\n",
       "    if (server_id !== undefined) {\n",
       "      // Clean up Bokeh references\n",
       "      var cmd = \"from bokeh.io.state import curstate; print(curstate().uuid_to_server['\" + server_id + \"'].get_sessions()[0].document.roots[0]._id)\";\n",
       "      cell.notebook.kernel.execute(cmd, {\n",
       "        iopub: {\n",
       "          output: function(msg) {\n",
       "            var element_id = msg.content.text.trim();\n",
       "            Bokeh.index[element_id].model.document.clear();\n",
       "            delete Bokeh.index[element_id];\n",
       "          }\n",
       "        }\n",
       "      });\n",
       "      // Destroy server and session\n",
       "      var cmd = \"import bokeh.io.notebook as ion; ion.destroy_server('\" + server_id + \"')\";\n",
       "      cell.notebook.kernel.execute(cmd);\n",
       "    }\n",
       "  }\n",
       "\n",
       "  /**\n",
       "   * Handle when a new output is added\n",
       "   */\n",
       "  function handleAddOutput(event, handle) {\n",
       "    var output_area = handle.output_area;\n",
       "    var output = handle.output;\n",
       "\n",
       "    // limit handleAddOutput to display_data with EXEC_MIME_TYPE content only\n",
       "    if ((output.output_type != \"display_data\") || (!output.data.hasOwnProperty(EXEC_MIME_TYPE))) {\n",
       "      return\n",
       "    }\n",
       "\n",
       "    var toinsert = output_area.element.find(`.${CLASS_NAME.split(' ')[0]}`);\n",
       "\n",
       "    if (output.metadata[EXEC_MIME_TYPE][\"id\"] !== undefined) {\n",
       "      toinsert[0].firstChild.textContent = output.data[JS_MIME_TYPE];\n",
       "      // store reference to embed id on output_area\n",
       "      output_area._bokeh_element_id = output.metadata[EXEC_MIME_TYPE][\"id\"];\n",
       "    }\n",
       "    if (output.metadata[EXEC_MIME_TYPE][\"server_id\"] !== undefined) {\n",
       "      var bk_div = document.createElement(\"div\");\n",
       "      bk_div.innerHTML = output.data[HTML_MIME_TYPE];\n",
       "      var script_attrs = bk_div.children[0].attributes;\n",
       "      for (var i = 0; i < script_attrs.length; i++) {\n",
       "        toinsert[0].firstChild.setAttribute(script_attrs[i].name, script_attrs[i].value);\n",
       "      }\n",
       "      // store reference to server id on output_area\n",
       "      output_area._bokeh_server_id = output.metadata[EXEC_MIME_TYPE][\"server_id\"];\n",
       "    }\n",
       "  }\n",
       "\n",
       "  function register_renderer(events, OutputArea) {\n",
       "\n",
       "    function append_mime(data, metadata, element) {\n",
       "      // create a DOM node to render to\n",
       "      var toinsert = this.create_output_subarea(\n",
       "        metadata,\n",
       "        CLASS_NAME,\n",
       "        EXEC_MIME_TYPE\n",
       "      );\n",
       "      this.keyboard_manager.register_events(toinsert);\n",
       "      // Render to node\n",
       "      var props = {data: data, metadata: metadata[EXEC_MIME_TYPE]};\n",
       "      render(props, toinsert[0]);\n",
       "      element.append(toinsert);\n",
       "      return toinsert\n",
       "    }\n",
       "\n",
       "    /* Handle when an output is cleared or removed */\n",
       "    events.on('clear_output.CodeCell', handleClearOutput);\n",
       "    events.on('delete.Cell', handleClearOutput);\n",
       "\n",
       "    /* Handle when a new output is added */\n",
       "    events.on('output_added.OutputArea', handleAddOutput);\n",
       "\n",
       "    /**\n",
       "     * Register the mime type and append_mime function with output_area\n",
       "     */\n",
       "    OutputArea.prototype.register_mime_type(EXEC_MIME_TYPE, append_mime, {\n",
       "      /* Is output safe? */\n",
       "      safe: true,\n",
       "      /* Index of renderer in `output_area.display_order` */\n",
       "      index: 0\n",
       "    });\n",
       "  }\n",
       "\n",
       "  // register the mime type if in Jupyter Notebook environment and previously unregistered\n",
       "  if (root.Jupyter !== undefined) {\n",
       "    var events = require('base/js/events');\n",
       "    var OutputArea = require('notebook/js/outputarea').OutputArea;\n",
       "\n",
       "    if (OutputArea.prototype.mime_types().indexOf(EXEC_MIME_TYPE) == -1) {\n",
       "      register_renderer(events, OutputArea);\n",
       "    }\n",
       "  }\n",
       "\n",
       "  \n",
       "  if (typeof (root._bokeh_timeout) === \"undefined\" || force === true) {\n",
       "    root._bokeh_timeout = Date.now() + 5000;\n",
       "    root._bokeh_failed_load = false;\n",
       "  }\n",
       "\n",
       "  var NB_LOAD_WARNING = {'data': {'text/html':\n",
       "     \"<div style='background-color: #fdd'>\\n\"+\n",
       "     \"<p>\\n\"+\n",
       "     \"BokehJS does not appear to have successfully loaded. If loading BokehJS from CDN, this \\n\"+\n",
       "     \"may be due to a slow or bad network connection. Possible fixes:\\n\"+\n",
       "     \"</p>\\n\"+\n",
       "     \"<ul>\\n\"+\n",
       "     \"<li>re-rerun `output_notebook()` to attempt to load from CDN again, or</li>\\n\"+\n",
       "     \"<li>use INLINE resources instead, as so:</li>\\n\"+\n",
       "     \"</ul>\\n\"+\n",
       "     \"<code>\\n\"+\n",
       "     \"from bokeh.resources import INLINE\\n\"+\n",
       "     \"output_notebook(resources=INLINE)\\n\"+\n",
       "     \"</code>\\n\"+\n",
       "     \"</div>\"}};\n",
       "\n",
       "  function display_loaded() {\n",
       "    var el = document.getElementById(\"d0e71ad7-0a03-4f32-85d3-a51b16c0c55e\");\n",
       "    if (el != null) {\n",
       "      el.textContent = \"BokehJS is loading...\";\n",
       "    }\n",
       "    if (root.Bokeh !== undefined) {\n",
       "      if (el != null) {\n",
       "        el.textContent = \"BokehJS \" + root.Bokeh.version + \" successfully loaded.\";\n",
       "      }\n",
       "    } else if (Date.now() < root._bokeh_timeout) {\n",
       "      setTimeout(display_loaded, 100)\n",
       "    }\n",
       "  }\n",
       "\n",
       "\n",
       "  function run_callbacks() {\n",
       "    try {\n",
       "      root._bokeh_onload_callbacks.forEach(function(callback) { callback() });\n",
       "    }\n",
       "    finally {\n",
       "      delete root._bokeh_onload_callbacks\n",
       "    }\n",
       "    console.info(\"Bokeh: all callbacks have finished\");\n",
       "  }\n",
       "\n",
       "  function load_libs(js_urls, callback) {\n",
       "    root._bokeh_onload_callbacks.push(callback);\n",
       "    if (root._bokeh_is_loading > 0) {\n",
       "      console.log(\"Bokeh: BokehJS is being loaded, scheduling callback at\", now());\n",
       "      return null;\n",
       "    }\n",
       "    if (js_urls == null || js_urls.length === 0) {\n",
       "      run_callbacks();\n",
       "      return null;\n",
       "    }\n",
       "    console.log(\"Bokeh: BokehJS not loaded, scheduling load and callback at\", now());\n",
       "    root._bokeh_is_loading = js_urls.length;\n",
       "    for (var i = 0; i < js_urls.length; i++) {\n",
       "      var url = js_urls[i];\n",
       "      var s = document.createElement('script');\n",
       "      s.src = url;\n",
       "      s.async = false;\n",
       "      s.onreadystatechange = s.onload = function() {\n",
       "        root._bokeh_is_loading--;\n",
       "        if (root._bokeh_is_loading === 0) {\n",
       "          console.log(\"Bokeh: all BokehJS libraries loaded\");\n",
       "          run_callbacks()\n",
       "        }\n",
       "      };\n",
       "      s.onerror = function() {\n",
       "        console.warn(\"failed to load library \" + url);\n",
       "      };\n",
       "      console.log(\"Bokeh: injecting script tag for BokehJS library: \", url);\n",
       "      document.getElementsByTagName(\"head\")[0].appendChild(s);\n",
       "    }\n",
       "  };var element = document.getElementById(\"d0e71ad7-0a03-4f32-85d3-a51b16c0c55e\");\n",
       "  if (element == null) {\n",
       "    console.log(\"Bokeh: ERROR: autoload.js configured with elementid 'd0e71ad7-0a03-4f32-85d3-a51b16c0c55e' but no matching script tag was found. \")\n",
       "    return false;\n",
       "  }\n",
       "\n",
       "  var js_urls = [\"https://cdn.pydata.org/bokeh/release/bokeh-0.12.10.min.js\", \"https://cdn.pydata.org/bokeh/release/bokeh-widgets-0.12.10.min.js\", \"https://cdn.pydata.org/bokeh/release/bokeh-tables-0.12.10.min.js\", \"https://cdn.pydata.org/bokeh/release/bokeh-gl-0.12.10.min.js\"];\n",
       "\n",
       "  var inline_js = [\n",
       "    function(Bokeh) {\n",
       "      Bokeh.set_log_level(\"info\");\n",
       "    },\n",
       "    \n",
       "    function(Bokeh) {\n",
       "      \n",
       "    },\n",
       "    function(Bokeh) {\n",
       "      console.log(\"Bokeh: injecting CSS: https://cdn.pydata.org/bokeh/release/bokeh-0.12.10.min.css\");\n",
       "      Bokeh.embed.inject_css(\"https://cdn.pydata.org/bokeh/release/bokeh-0.12.10.min.css\");\n",
       "      console.log(\"Bokeh: injecting CSS: https://cdn.pydata.org/bokeh/release/bokeh-widgets-0.12.10.min.css\");\n",
       "      Bokeh.embed.inject_css(\"https://cdn.pydata.org/bokeh/release/bokeh-widgets-0.12.10.min.css\");\n",
       "      console.log(\"Bokeh: injecting CSS: https://cdn.pydata.org/bokeh/release/bokeh-tables-0.12.10.min.css\");\n",
       "      Bokeh.embed.inject_css(\"https://cdn.pydata.org/bokeh/release/bokeh-tables-0.12.10.min.css\");\n",
       "    }\n",
       "  ];\n",
       "\n",
       "  function run_inline_js() {\n",
       "    \n",
       "    if ((root.Bokeh !== undefined) || (force === true)) {\n",
       "      for (var i = 0; i < inline_js.length; i++) {\n",
       "        inline_js[i].call(root, root.Bokeh);\n",
       "      }if (force === true) {\n",
       "        display_loaded();\n",
       "      }} else if (Date.now() < root._bokeh_timeout) {\n",
       "      setTimeout(run_inline_js, 100);\n",
       "    } else if (!root._bokeh_failed_load) {\n",
       "      console.log(\"Bokeh: BokehJS failed to load within specified timeout.\");\n",
       "      root._bokeh_failed_load = true;\n",
       "    } else if (force !== true) {\n",
       "      var cell = $(document.getElementById(\"d0e71ad7-0a03-4f32-85d3-a51b16c0c55e\")).parents('.cell').data().cell;\n",
       "      cell.output_area.append_execute_result(NB_LOAD_WARNING)\n",
       "    }\n",
       "\n",
       "  }\n",
       "\n",
       "  if (root._bokeh_is_loading === 0) {\n",
       "    console.log(\"Bokeh: BokehJS loaded, going straight to plotting\");\n",
       "    run_inline_js();\n",
       "  } else {\n",
       "    load_libs(js_urls, function() {\n",
       "      console.log(\"Bokeh: BokehJS plotting callback run at\", now());\n",
       "      run_inline_js();\n",
       "    });\n",
       "  }\n",
       "}(window));"
      ],
      "application/vnd.bokehjs_load.v0+json": "\n(function(root) {\n  function now() {\n    return new Date();\n  }\n\n  var force = true;\n\n  if (typeof (root._bokeh_onload_callbacks) === \"undefined\" || force === true) {\n    root._bokeh_onload_callbacks = [];\n    root._bokeh_is_loading = undefined;\n  }\n\n  \n\n  \n  if (typeof (root._bokeh_timeout) === \"undefined\" || force === true) {\n    root._bokeh_timeout = Date.now() + 5000;\n    root._bokeh_failed_load = false;\n  }\n\n  var NB_LOAD_WARNING = {'data': {'text/html':\n     \"<div style='background-color: #fdd'>\\n\"+\n     \"<p>\\n\"+\n     \"BokehJS does not appear to have successfully loaded. If loading BokehJS from CDN, this \\n\"+\n     \"may be due to a slow or bad network connection. Possible fixes:\\n\"+\n     \"</p>\\n\"+\n     \"<ul>\\n\"+\n     \"<li>re-rerun `output_notebook()` to attempt to load from CDN again, or</li>\\n\"+\n     \"<li>use INLINE resources instead, as so:</li>\\n\"+\n     \"</ul>\\n\"+\n     \"<code>\\n\"+\n     \"from bokeh.resources import INLINE\\n\"+\n     \"output_notebook(resources=INLINE)\\n\"+\n     \"</code>\\n\"+\n     \"</div>\"}};\n\n  function display_loaded() {\n    var el = document.getElementById(\"d0e71ad7-0a03-4f32-85d3-a51b16c0c55e\");\n    if (el != null) {\n      el.textContent = \"BokehJS is loading...\";\n    }\n    if (root.Bokeh !== undefined) {\n      if (el != null) {\n        el.textContent = \"BokehJS \" + root.Bokeh.version + \" successfully loaded.\";\n      }\n    } else if (Date.now() < root._bokeh_timeout) {\n      setTimeout(display_loaded, 100)\n    }\n  }\n\n\n  function run_callbacks() {\n    try {\n      root._bokeh_onload_callbacks.forEach(function(callback) { callback() });\n    }\n    finally {\n      delete root._bokeh_onload_callbacks\n    }\n    console.info(\"Bokeh: all callbacks have finished\");\n  }\n\n  function load_libs(js_urls, callback) {\n    root._bokeh_onload_callbacks.push(callback);\n    if (root._bokeh_is_loading > 0) {\n      console.log(\"Bokeh: BokehJS is being loaded, scheduling callback at\", now());\n      return null;\n    }\n    if (js_urls == null || js_urls.length === 0) {\n      run_callbacks();\n      return null;\n    }\n    console.log(\"Bokeh: BokehJS not loaded, scheduling load and callback at\", now());\n    root._bokeh_is_loading = js_urls.length;\n    for (var i = 0; i < js_urls.length; i++) {\n      var url = js_urls[i];\n      var s = document.createElement('script');\n      s.src = url;\n      s.async = false;\n      s.onreadystatechange = s.onload = function() {\n        root._bokeh_is_loading--;\n        if (root._bokeh_is_loading === 0) {\n          console.log(\"Bokeh: all BokehJS libraries loaded\");\n          run_callbacks()\n        }\n      };\n      s.onerror = function() {\n        console.warn(\"failed to load library \" + url);\n      };\n      console.log(\"Bokeh: injecting script tag for BokehJS library: \", url);\n      document.getElementsByTagName(\"head\")[0].appendChild(s);\n    }\n  };var element = document.getElementById(\"d0e71ad7-0a03-4f32-85d3-a51b16c0c55e\");\n  if (element == null) {\n    console.log(\"Bokeh: ERROR: autoload.js configured with elementid 'd0e71ad7-0a03-4f32-85d3-a51b16c0c55e' but no matching script tag was found. \")\n    return false;\n  }\n\n  var js_urls = [\"https://cdn.pydata.org/bokeh/release/bokeh-0.12.10.min.js\", \"https://cdn.pydata.org/bokeh/release/bokeh-widgets-0.12.10.min.js\", \"https://cdn.pydata.org/bokeh/release/bokeh-tables-0.12.10.min.js\", \"https://cdn.pydata.org/bokeh/release/bokeh-gl-0.12.10.min.js\"];\n\n  var inline_js = [\n    function(Bokeh) {\n      Bokeh.set_log_level(\"info\");\n    },\n    \n    function(Bokeh) {\n      \n    },\n    function(Bokeh) {\n      console.log(\"Bokeh: injecting CSS: https://cdn.pydata.org/bokeh/release/bokeh-0.12.10.min.css\");\n      Bokeh.embed.inject_css(\"https://cdn.pydata.org/bokeh/release/bokeh-0.12.10.min.css\");\n      console.log(\"Bokeh: injecting CSS: https://cdn.pydata.org/bokeh/release/bokeh-widgets-0.12.10.min.css\");\n      Bokeh.embed.inject_css(\"https://cdn.pydata.org/bokeh/release/bokeh-widgets-0.12.10.min.css\");\n      console.log(\"Bokeh: injecting CSS: https://cdn.pydata.org/bokeh/release/bokeh-tables-0.12.10.min.css\");\n      Bokeh.embed.inject_css(\"https://cdn.pydata.org/bokeh/release/bokeh-tables-0.12.10.min.css\");\n    }\n  ];\n\n  function run_inline_js() {\n    \n    if ((root.Bokeh !== undefined) || (force === true)) {\n      for (var i = 0; i < inline_js.length; i++) {\n        inline_js[i].call(root, root.Bokeh);\n      }if (force === true) {\n        display_loaded();\n      }} else if (Date.now() < root._bokeh_timeout) {\n      setTimeout(run_inline_js, 100);\n    } else if (!root._bokeh_failed_load) {\n      console.log(\"Bokeh: BokehJS failed to load within specified timeout.\");\n      root._bokeh_failed_load = true;\n    } else if (force !== true) {\n      var cell = $(document.getElementById(\"d0e71ad7-0a03-4f32-85d3-a51b16c0c55e\")).parents('.cell').data().cell;\n      cell.output_area.append_execute_result(NB_LOAD_WARNING)\n    }\n\n  }\n\n  if (root._bokeh_is_loading === 0) {\n    console.log(\"Bokeh: BokehJS loaded, going straight to plotting\");\n    run_inline_js();\n  } else {\n    load_libs(js_urls, function() {\n      console.log(\"Bokeh: BokehJS plotting callback run at\", now());\n      run_inline_js();\n    });\n  }\n}(window));"
     },
     "metadata": {},
     "output_type": "display_data"
    }
   ],
   "source": [
    "# Importamos la libreria de bokeh para presentar los datos leidos por pandas\n",
    "from bokeh.io import output_notebook, show\n",
    "from bokeh.plotting import figure\n",
    "from bokeh.models import ColumnDataSource\n",
    "\n",
    "# Llamamos a output_notebook para mostrar mostrar los resultanos en el cuaderno de jupyter\n",
    "output_notebook()"
   ]
  },
  {
   "cell_type": "code",
   "execution_count": 16,
   "metadata": {},
   "outputs": [
    {
     "data": {
      "text/html": [
       "\n",
       "<div class=\"bk-root\">\n",
       "    <div class=\"bk-plotdiv\" id=\"2f6e34b0-136d-48f7-8b1d-73a107c5b3c3\"></div>\n",
       "</div>"
      ]
     },
     "metadata": {},
     "output_type": "display_data"
    },
    {
     "data": {
      "application/javascript": [
       "(function(root) {\n",
       "  function embed_document(root) {\n",
       "    var docs_json = {\"095779b3-2e18-438c-b285-ff08de1e8409\":{\"roots\":{\"references\":[{\"attributes\":{},\"id\":\"6bda6acf-15a8-426d-a153-8f6fc1f77de9\",\"type\":\"SaveTool\"},{\"attributes\":{\"plot\":null,\"text\":\"ANALFABETISMO POR AREA Y GRUPOS DE EDAD\"},\"id\":\"09c615d0-0c38-4992-bb2f-bdfb78bd1de0\",\"type\":\"Title\"},{\"attributes\":{},\"id\":\"029ca0db-2d94-495c-a36b-2de3e37b8b2d\",\"type\":\"CategoricalTickFormatter\"},{\"attributes\":{},\"id\":\"32fa7415-6080-42e3-9073-469e6621b2fa\",\"type\":\"BasicTickFormatter\"},{\"attributes\":{\"callback\":null,\"column_names\":[\"A_RURAL_H_count\",\"A_RURAL_H_mean\",\"A_RURAL_H_std\",\"A_RURAL_H_min\",\"A_RURAL_H_25%\",\"A_RURAL_H_50%\",\"A_RURAL_H_75%\",\"A_RURAL_H_max\",\"A_RURAL_M_count\",\"A_RURAL_M_mean\",\"A_RURAL_M_std\",\"A_RURAL_M_min\",\"A_RURAL_M_25%\",\"A_RURAL_M_50%\",\"A_RURAL_M_75%\",\"A_RURAL_M_max\",\"A_URBANA_H_count\",\"A_URBANA_H_mean\",\"A_URBANA_H_std\",\"A_URBANA_H_min\",\"A_URBANA_H_25%\",\"A_URBANA_H_50%\",\"A_URBANA_H_75%\",\"A_URBANA_H_max\",\"A_URBANA_M_count\",\"A_URBANA_M_mean\",\"A_URBANA_M_std\",\"A_URBANA_M_min\",\"A_URBANA_M_25%\",\"A_URBANA_M_50%\",\"A_URBANA_M_75%\",\"A_URBANA_M_max\",\"TOTAL_H_count\",\"TOTAL_H_mean\",\"TOTAL_H_std\",\"TOTAL_H_min\",\"TOTAL_H_25%\",\"TOTAL_H_50%\",\"TOTAL_H_75%\",\"TOTAL_H_max\",\"TOTAL_M_count\",\"TOTAL_M_mean\",\"TOTAL_M_std\",\"TOTAL_M_min\",\"TOTAL_M_25%\",\"TOTAL_M_50%\",\"TOTAL_M_75%\",\"TOTAL_M_max\",\"GRANDES_GRUPOS_DE_EDAD\"],\"data\":{\"A_RURAL_H_25%\":{\"__ndarray__\":\"eOkmMQisnD+JQWDl0CKrP/T91HjpJsE/wMqhRbbz1T+S7Xw/NV66Pw==\",\"dtype\":\"float64\",\"shape\":[5]},\"A_RURAL_H_50%\":{\"__ndarray__\":\"eOkmMQisnD+JQWDl0CKrP/T91HjpJsE/wMqhRbbz1T+S7Xw/NV66Pw==\",\"dtype\":\"float64\",\"shape\":[5]},\"A_RURAL_H_75%\":{\"__ndarray__\":\"eOkmMQisnD+JQWDl0CKrP/T91HjpJsE/wMqhRbbz1T+S7Xw/NV66Pw==\",\"dtype\":\"float64\",\"shape\":[5]},\"A_RURAL_H_count\":{\"__ndarray__\":\"AAAAAAAA8D8AAAAAAADwPwAAAAAAAPA/AAAAAAAA8D8AAAAAAADwPw==\",\"dtype\":\"float64\",\"shape\":[5]},\"A_RURAL_H_max\":{\"__ndarray__\":\"eOkmMQisnD+JQWDl0CKrP/T91HjpJsE/wMqhRbbz1T+S7Xw/NV66Pw==\",\"dtype\":\"float64\",\"shape\":[5]},\"A_RURAL_H_mean\":{\"__ndarray__\":\"eOkmMQisnD+JQWDl0CKrP/T91HjpJsE/wMqhRbbz1T+S7Xw/NV66Pw==\",\"dtype\":\"float64\",\"shape\":[5]},\"A_RURAL_H_min\":{\"__ndarray__\":\"eOkmMQisnD+JQWDl0CKrP/T91HjpJsE/wMqhRbbz1T+S7Xw/NV66Pw==\",\"dtype\":\"float64\",\"shape\":[5]},\"A_RURAL_H_std\":{\"__ndarray__\":\"AAAAAAAA+H8AAAAAAAD4fwAAAAAAAPh/AAAAAAAA+H8AAAAAAAD4fw==\",\"dtype\":\"float64\",\"shape\":[5]},\"A_RURAL_M_25%\":{\"__ndarray__\":\"mpmZmZmZmT946SYxCKysPz0K16NwPco/AyuHFtnO3z+TGARWDi3CPw==\",\"dtype\":\"float64\",\"shape\":[5]},\"A_RURAL_M_50%\":{\"__ndarray__\":\"mpmZmZmZmT946SYxCKysPz0K16NwPco/AyuHFtnO3z+TGARWDi3CPw==\",\"dtype\":\"float64\",\"shape\":[5]},\"A_RURAL_M_75%\":{\"__ndarray__\":\"mpmZmZmZmT946SYxCKysPz0K16NwPco/AyuHFtnO3z+TGARWDi3CPw==\",\"dtype\":\"float64\",\"shape\":[5]},\"A_RURAL_M_count\":{\"__ndarray__\":\"AAAAAAAA8D8AAAAAAADwPwAAAAAAAPA/AAAAAAAA8D8AAAAAAADwPw==\",\"dtype\":\"float64\",\"shape\":[5]},\"A_RURAL_M_max\":{\"__ndarray__\":\"mpmZmZmZmT946SYxCKysPz0K16NwPco/AyuHFtnO3z+TGARWDi3CPw==\",\"dtype\":\"float64\",\"shape\":[5]},\"A_RURAL_M_mean\":{\"__ndarray__\":\"mpmZmZmZmT946SYxCKysPz0K16NwPco/AyuHFtnO3z+TGARWDi3CPw==\",\"dtype\":\"float64\",\"shape\":[5]},\"A_RURAL_M_min\":{\"__ndarray__\":\"mpmZmZmZmT946SYxCKysPz0K16NwPco/AyuHFtnO3z+TGARWDi3CPw==\",\"dtype\":\"float64\",\"shape\":[5]},\"A_RURAL_M_std\":{\"__ndarray__\":\"AAAAAAAA+H8AAAAAAAD4fwAAAAAAAPh/AAAAAAAA+H8AAAAAAAD4fw==\",\"dtype\":\"float64\",\"shape\":[5]},\"A_URBANA_H_25%\":{\"__ndarray__\":\"+n5qvHSTiD8830+Nl26SP9v5fmq8dKM//Knx0k1iwD9YObTIdr6fPw==\",\"dtype\":\"float64\",\"shape\":[5]},\"A_URBANA_H_50%\":{\"__ndarray__\":\"+n5qvHSTiD8830+Nl26SP9v5fmq8dKM//Knx0k1iwD9YObTIdr6fPw==\",\"dtype\":\"float64\",\"shape\":[5]},\"A_URBANA_H_75%\":{\"__ndarray__\":\"+n5qvHSTiD8830+Nl26SP9v5fmq8dKM//Knx0k1iwD9YObTIdr6fPw==\",\"dtype\":\"float64\",\"shape\":[5]},\"A_URBANA_H_count\":{\"__ndarray__\":\"AAAAAAAA8D8AAAAAAADwPwAAAAAAAPA/AAAAAAAA8D8AAAAAAADwPw==\",\"dtype\":\"float64\",\"shape\":[5]},\"A_URBANA_H_max\":{\"__ndarray__\":\"+n5qvHSTiD8830+Nl26SP9v5fmq8dKM//Knx0k1iwD9YObTIdr6fPw==\",\"dtype\":\"float64\",\"shape\":[5]},\"A_URBANA_H_mean\":{\"__ndarray__\":\"+n5qvHSTiD8830+Nl26SP9v5fmq8dKM//Knx0k1iwD9YObTIdr6fPw==\",\"dtype\":\"float64\",\"shape\":[5]},\"A_URBANA_H_min\":{\"__ndarray__\":\"+n5qvHSTiD8830+Nl26SP9v5fmq8dKM//Knx0k1iwD9YObTIdr6fPw==\",\"dtype\":\"float64\",\"shape\":[5]},\"A_URBANA_H_std\":{\"__ndarray__\":\"AAAAAAAA+H8AAAAAAAD4fwAAAAAAAPh/AAAAAAAA+H8AAAAAAAD4fw==\",\"dtype\":\"float64\",\"shape\":[5]},\"A_URBANA_M_25%\":{\"__ndarray__\":\"PN9PjZdugj+cxCCwcmiRP9rO91Pjpas/9ihcj8L1yD9qvHSTGASmPw==\",\"dtype\":\"float64\",\"shape\":[5]},\"A_URBANA_M_50%\":{\"__ndarray__\":\"PN9PjZdugj+cxCCwcmiRP9rO91Pjpas/9ihcj8L1yD9qvHSTGASmPw==\",\"dtype\":\"float64\",\"shape\":[5]},\"A_URBANA_M_75%\":{\"__ndarray__\":\"PN9PjZdugj+cxCCwcmiRP9rO91Pjpas/9ihcj8L1yD9qvHSTGASmPw==\",\"dtype\":\"float64\",\"shape\":[5]},\"A_URBANA_M_count\":{\"__ndarray__\":\"AAAAAAAA8D8AAAAAAADwPwAAAAAAAPA/AAAAAAAA8D8AAAAAAADwPw==\",\"dtype\":\"float64\",\"shape\":[5]},\"A_URBANA_M_max\":{\"__ndarray__\":\"PN9PjZdugj+cxCCwcmiRP9rO91Pjpas/9ihcj8L1yD9qvHSTGASmPw==\",\"dtype\":\"float64\",\"shape\":[5]},\"A_URBANA_M_mean\":{\"__ndarray__\":\"PN9PjZdugj+cxCCwcmiRP9rO91Pjpas/9ihcj8L1yD9qvHSTGASmPw==\",\"dtype\":\"float64\",\"shape\":[5]},\"A_URBANA_M_min\":{\"__ndarray__\":\"PN9PjZdugj+cxCCwcmiRP9rO91Pjpas/9ihcj8L1yD9qvHSTGASmPw==\",\"dtype\":\"float64\",\"shape\":[5]},\"A_URBANA_M_std\":{\"__ndarray__\":\"AAAAAAAA+H8AAAAAAAD4fwAAAAAAAPh/AAAAAAAA+H8AAAAAAAD4fw==\",\"dtype\":\"float64\",\"shape\":[5]},\"GRANDES_GRUPOS_DE_EDAD\":[\"15-24 a\\u00f1os\",\"25-39 a\\u00f1os\",\"40-64 a\\u00f1os\",\"65 a\\u00f1os y mas\",\"Total nacional\"],\"TOTAL_H_25%\":{\"__ndarray__\":\"PN9PjZdukj+4HoXrUbiePzzfT42XbrI/eOkmMQiszD8YBFYOLbKtPw==\",\"dtype\":\"float64\",\"shape\":[5]},\"TOTAL_H_50%\":{\"__ndarray__\":\"PN9PjZdukj+4HoXrUbiePzzfT42XbrI/eOkmMQiszD8YBFYOLbKtPw==\",\"dtype\":\"float64\",\"shape\":[5]},\"TOTAL_H_75%\":{\"__ndarray__\":\"PN9PjZdukj+4HoXrUbiePzzfT42XbrI/eOkmMQiszD8YBFYOLbKtPw==\",\"dtype\":\"float64\",\"shape\":[5]},\"TOTAL_H_count\":{\"__ndarray__\":\"AAAAAAAA8D8AAAAAAADwPwAAAAAAAPA/AAAAAAAA8D8AAAAAAADwPw==\",\"dtype\":\"float64\",\"shape\":[5]},\"TOTAL_H_max\":{\"__ndarray__\":\"PN9PjZdukj+4HoXrUbiePzzfT42XbrI/eOkmMQiszD8YBFYOLbKtPw==\",\"dtype\":\"float64\",\"shape\":[5]},\"TOTAL_H_mean\":{\"__ndarray__\":\"PN9PjZdukj+4HoXrUbiePzzfT42XbrI/eOkmMQiszD8YBFYOLbKtPw==\",\"dtype\":\"float64\",\"shape\":[5]},\"TOTAL_H_min\":{\"__ndarray__\":\"PN9PjZdukj+4HoXrUbiePzzfT42XbrI/eOkmMQiszD8YBFYOLbKtPw==\",\"dtype\":\"float64\",\"shape\":[5]},\"TOTAL_H_std\":{\"__ndarray__\":\"AAAAAAAA+H8AAAAAAAD4fwAAAAAAAPh/AAAAAAAA+H8AAAAAAAD4fw==\",\"dtype\":\"float64\",\"shape\":[5]},\"TOTAL_M_25%\":{\"__ndarray__\":\"uB6F61G4jj+4HoXrUbiePzq0yHa+n7o/001iEFg51D+DwMqhRbazPw==\",\"dtype\":\"float64\",\"shape\":[5]},\"TOTAL_M_50%\":{\"__ndarray__\":\"uB6F61G4jj+4HoXrUbiePzq0yHa+n7o/001iEFg51D+DwMqhRbazPw==\",\"dtype\":\"float64\",\"shape\":[5]},\"TOTAL_M_75%\":{\"__ndarray__\":\"uB6F61G4jj+4HoXrUbiePzq0yHa+n7o/001iEFg51D+DwMqhRbazPw==\",\"dtype\":\"float64\",\"shape\":[5]},\"TOTAL_M_count\":{\"__ndarray__\":\"AAAAAAAA8D8AAAAAAADwPwAAAAAAAPA/AAAAAAAA8D8AAAAAAADwPw==\",\"dtype\":\"float64\",\"shape\":[5]},\"TOTAL_M_max\":{\"__ndarray__\":\"uB6F61G4jj+4HoXrUbiePzq0yHa+n7o/001iEFg51D+DwMqhRbazPw==\",\"dtype\":\"float64\",\"shape\":[5]},\"TOTAL_M_mean\":{\"__ndarray__\":\"uB6F61G4jj+4HoXrUbiePzq0yHa+n7o/001iEFg51D+DwMqhRbazPw==\",\"dtype\":\"float64\",\"shape\":[5]},\"TOTAL_M_min\":{\"__ndarray__\":\"uB6F61G4jj+4HoXrUbiePzq0yHa+n7o/001iEFg51D+DwMqhRbazPw==\",\"dtype\":\"float64\",\"shape\":[5]},\"TOTAL_M_std\":{\"__ndarray__\":\"AAAAAAAA+H8AAAAAAAD4fwAAAAAAAPh/AAAAAAAA+H8AAAAAAAD4fw==\",\"dtype\":\"float64\",\"shape\":[5]}}},\"id\":\"5efb460c-b8eb-4150-ac6e-7c03210f0fab\",\"type\":\"ColumnDataSource\"},{\"attributes\":{\"dimension\":1,\"plot\":{\"id\":\"cd2d696d-3239-4e25-8d7a-beca8e94fcff\",\"subtype\":\"Figure\",\"type\":\"Plot\"},\"ticker\":{\"id\":\"ac0c0f3c-9cee-4492-85ff-745163e59f32\",\"type\":\"BasicTicker\"}},\"id\":\"f8883652-fe8a-4cd2-a4e6-b73370b6a928\",\"type\":\"Grid\"},{\"attributes\":{\"active_drag\":\"auto\",\"active_inspect\":\"auto\",\"active_scroll\":\"auto\",\"active_tap\":\"auto\",\"tools\":[{\"id\":\"ccf84968-efe3-438b-923f-e8be2d746f5d\",\"type\":\"PanTool\"},{\"id\":\"5da00423-2858-40c0-9c07-07b22970919b\",\"type\":\"WheelZoomTool\"},{\"id\":\"cdd5d2a1-ac2b-4988-ba3e-dbf5d27d643a\",\"type\":\"BoxZoomTool\"},{\"id\":\"6bda6acf-15a8-426d-a153-8f6fc1f77de9\",\"type\":\"SaveTool\"},{\"id\":\"728cf4e8-0b5c-46a7-87f3-04acbf016d6e\",\"type\":\"ResetTool\"},{\"id\":\"9baccda2-067e-4174-b901-ac5af982239b\",\"type\":\"HelpTool\"}]},\"id\":\"d76fd267-699c-46dc-af5a-e326814000a0\",\"type\":\"Toolbar\"},{\"attributes\":{\"formatter\":{\"id\":\"32fa7415-6080-42e3-9073-469e6621b2fa\",\"type\":\"BasicTickFormatter\"},\"plot\":{\"id\":\"cd2d696d-3239-4e25-8d7a-beca8e94fcff\",\"subtype\":\"Figure\",\"type\":\"Plot\"},\"ticker\":{\"id\":\"ac0c0f3c-9cee-4492-85ff-745163e59f32\",\"type\":\"BasicTicker\"}},\"id\":\"eace4885-efa2-4bbf-af4f-065c2433b4fb\",\"type\":\"LinearAxis\"},{\"attributes\":{},\"id\":\"ac0c0f3c-9cee-4492-85ff-745163e59f32\",\"type\":\"BasicTicker\"},{\"attributes\":{\"data_source\":{\"id\":\"5efb460c-b8eb-4150-ac6e-7c03210f0fab\",\"type\":\"ColumnDataSource\"},\"glyph\":{\"id\":\"3006de77-37a9-43b8-891b-78baea9dec72\",\"type\":\"VBar\"},\"hover_glyph\":null,\"muted_glyph\":null,\"nonselection_glyph\":{\"id\":\"6dac26d9-fcea-46c0-8f3d-18827c37baa3\",\"type\":\"VBar\"},\"selection_glyph\":null,\"view\":{\"id\":\"bb3bef0a-b9a5-4a38-a477-f2c90c53dbf8\",\"type\":\"CDSView\"}},\"id\":\"c0c6a7ca-29d3-46da-b5ff-64f28fb86914\",\"type\":\"GlyphRenderer\"},{\"attributes\":{},\"id\":\"bbdb156c-55a7-47a3-8417-9f27aed515d0\",\"type\":\"CategoricalTicker\"},{\"attributes\":{\"below\":[{\"id\":\"056c403e-a730-452d-aa18-fafad16970f5\",\"type\":\"CategoricalAxis\"}],\"left\":[{\"id\":\"eace4885-efa2-4bbf-af4f-065c2433b4fb\",\"type\":\"LinearAxis\"}],\"plot_height\":250,\"plot_width\":750,\"renderers\":[{\"id\":\"056c403e-a730-452d-aa18-fafad16970f5\",\"type\":\"CategoricalAxis\"},{\"id\":\"a052a68a-ac28-42f1-9cb4-51b1c09c675f\",\"type\":\"Grid\"},{\"id\":\"eace4885-efa2-4bbf-af4f-065c2433b4fb\",\"type\":\"LinearAxis\"},{\"id\":\"f8883652-fe8a-4cd2-a4e6-b73370b6a928\",\"type\":\"Grid\"},{\"id\":\"30fd8d66-4719-457d-98f4-b1cdb5f6005d\",\"type\":\"BoxAnnotation\"},{\"id\":\"c0c6a7ca-29d3-46da-b5ff-64f28fb86914\",\"type\":\"GlyphRenderer\"}],\"title\":{\"id\":\"09c615d0-0c38-4992-bb2f-bdfb78bd1de0\",\"type\":\"Title\"},\"toolbar\":{\"id\":\"d76fd267-699c-46dc-af5a-e326814000a0\",\"type\":\"Toolbar\"},\"x_range\":{\"id\":\"22ad6689-fd46-4ce2-95f6-6e05f0b9291b\",\"type\":\"FactorRange\"},\"x_scale\":{\"id\":\"24091b49-5bc7-44b2-ae10-10bab8cc1e6a\",\"type\":\"CategoricalScale\"},\"y_range\":{\"id\":\"6ba7fd5a-0767-4ff4-95ba-054a7f72cfa2\",\"type\":\"DataRange1d\"},\"y_scale\":{\"id\":\"460db370-776b-4078-915e-b08ea007ef16\",\"type\":\"LinearScale\"}},\"id\":\"cd2d696d-3239-4e25-8d7a-beca8e94fcff\",\"subtype\":\"Figure\",\"type\":\"Plot\"},{\"attributes\":{},\"id\":\"460db370-776b-4078-915e-b08ea007ef16\",\"type\":\"LinearScale\"},{\"attributes\":{},\"id\":\"728cf4e8-0b5c-46a7-87f3-04acbf016d6e\",\"type\":\"ResetTool\"},{\"attributes\":{\"callback\":null,\"factors\":[\"15-24 a\\u00f1os\",\"25-39 a\\u00f1os\",\"40-64 a\\u00f1os\",\"65 a\\u00f1os y mas\",\"Total nacional\"]},\"id\":\"22ad6689-fd46-4ce2-95f6-6e05f0b9291b\",\"type\":\"FactorRange\"},{\"attributes\":{},\"id\":\"9baccda2-067e-4174-b901-ac5af982239b\",\"type\":\"HelpTool\"},{\"attributes\":{},\"id\":\"24091b49-5bc7-44b2-ae10-10bab8cc1e6a\",\"type\":\"CategoricalScale\"},{\"attributes\":{\"fill_alpha\":{\"value\":0.1},\"fill_color\":{\"value\":\"#1f77b4\"},\"line_alpha\":{\"value\":0.1},\"line_color\":{\"value\":\"#1f77b4\"},\"top\":{\"field\":\"A_URBANA_H_mean\"},\"width\":{\"value\":1},\"x\":{\"field\":\"GRANDES_GRUPOS_DE_EDAD\"}},\"id\":\"6dac26d9-fcea-46c0-8f3d-18827c37baa3\",\"type\":\"VBar\"},{\"attributes\":{\"overlay\":{\"id\":\"30fd8d66-4719-457d-98f4-b1cdb5f6005d\",\"type\":\"BoxAnnotation\"}},\"id\":\"cdd5d2a1-ac2b-4988-ba3e-dbf5d27d643a\",\"type\":\"BoxZoomTool\"},{\"attributes\":{\"bottom_units\":\"screen\",\"fill_alpha\":{\"value\":0.5},\"fill_color\":{\"value\":\"lightgrey\"},\"left_units\":\"screen\",\"level\":\"overlay\",\"line_alpha\":{\"value\":1.0},\"line_color\":{\"value\":\"black\"},\"line_dash\":[4,4],\"line_width\":{\"value\":2},\"plot\":null,\"render_mode\":\"css\",\"right_units\":\"screen\",\"top_units\":\"screen\"},\"id\":\"30fd8d66-4719-457d-98f4-b1cdb5f6005d\",\"type\":\"BoxAnnotation\"},{\"attributes\":{\"grid_line_color\":{\"value\":null},\"plot\":{\"id\":\"cd2d696d-3239-4e25-8d7a-beca8e94fcff\",\"subtype\":\"Figure\",\"type\":\"Plot\"},\"ticker\":{\"id\":\"bbdb156c-55a7-47a3-8417-9f27aed515d0\",\"type\":\"CategoricalTicker\"}},\"id\":\"a052a68a-ac28-42f1-9cb4-51b1c09c675f\",\"type\":\"Grid\"},{\"attributes\":{\"source\":{\"id\":\"5efb460c-b8eb-4150-ac6e-7c03210f0fab\",\"type\":\"ColumnDataSource\"}},\"id\":\"bb3bef0a-b9a5-4a38-a477-f2c90c53dbf8\",\"type\":\"CDSView\"},{\"attributes\":{\"axis_label\":\"AREA URBANA - HOMBRES\",\"formatter\":{\"id\":\"029ca0db-2d94-495c-a36b-2de3e37b8b2d\",\"type\":\"CategoricalTickFormatter\"},\"plot\":{\"id\":\"cd2d696d-3239-4e25-8d7a-beca8e94fcff\",\"subtype\":\"Figure\",\"type\":\"Plot\"},\"ticker\":{\"id\":\"bbdb156c-55a7-47a3-8417-9f27aed515d0\",\"type\":\"CategoricalTicker\"}},\"id\":\"056c403e-a730-452d-aa18-fafad16970f5\",\"type\":\"CategoricalAxis\"},{\"attributes\":{},\"id\":\"ccf84968-efe3-438b-923f-e8be2d746f5d\",\"type\":\"PanTool\"},{\"attributes\":{\"fill_color\":{\"value\":\"#1f77b4\"},\"line_color\":{\"value\":\"white\"},\"top\":{\"field\":\"A_URBANA_H_mean\"},\"width\":{\"value\":1},\"x\":{\"field\":\"GRANDES_GRUPOS_DE_EDAD\"}},\"id\":\"3006de77-37a9-43b8-891b-78baea9dec72\",\"type\":\"VBar\"},{\"attributes\":{},\"id\":\"5da00423-2858-40c0-9c07-07b22970919b\",\"type\":\"WheelZoomTool\"},{\"attributes\":{\"callback\":null,\"start\":0},\"id\":\"6ba7fd5a-0767-4ff4-95ba-054a7f72cfa2\",\"type\":\"DataRange1d\"}],\"root_ids\":[\"cd2d696d-3239-4e25-8d7a-beca8e94fcff\"]},\"title\":\"Bokeh Application\",\"version\":\"0.12.10\"}};\n",
       "    var render_items = [{\"docid\":\"095779b3-2e18-438c-b285-ff08de1e8409\",\"elementid\":\"2f6e34b0-136d-48f7-8b1d-73a107c5b3c3\",\"modelid\":\"cd2d696d-3239-4e25-8d7a-beca8e94fcff\"}];\n",
       "\n",
       "    root.Bokeh.embed.embed_items(docs_json, render_items);\n",
       "  }\n",
       "\n",
       "  if (root.Bokeh !== undefined) {\n",
       "    embed_document(root);\n",
       "  } else {\n",
       "    var attempts = 0;\n",
       "    var timer = setInterval(function(root) {\n",
       "      if (root.Bokeh !== undefined) {\n",
       "        embed_document(root);\n",
       "        clearInterval(timer);\n",
       "      }\n",
       "      attempts++;\n",
       "      if (attempts > 100) {\n",
       "        console.log(\"Bokeh: ERROR: Unable to embed document because BokehJS library is missing\")\n",
       "        clearInterval(timer);\n",
       "      }\n",
       "    }, 10, root)\n",
       "  }\n",
       "})(window);"
      ],
      "application/vnd.bokehjs_exec.v0+json": ""
     },
     "metadata": {
      "application/vnd.bokehjs_exec.v0+json": {
       "id": "cd2d696d-3239-4e25-8d7a-beca8e94fcff"
      }
     },
     "output_type": "display_data"
    }
   ],
   "source": [
    "# Agrupamos los valores en base a la columna \"GRANDES_GRUPOS_DE_EDAD\" \n",
    "group1 = tabla1.groupby('GRANDES_GRUPOS_DE_EDAD')\n",
    "\n",
    "# Nos permite obtener Mapas de nombres columnas, secuencias, matrices.\n",
    "source = ColumnDataSource(group1)\n",
    "\n",
    "# Creamos un objeto de figura\n",
    "gph = figure(\n",
    "    plot_height=250, plot_width=750, # Establecemos el tamaño\n",
    "    x_range=group1,  # Establecemos el rango de x\n",
    "    title='ANALFABETISMO POR AREA Y GRUPOS DE EDAD' # Establecemos un titulo para la grafica \n",
    ")\n",
    "\n",
    "# Establecemos que vamos ha mostrar los datos en forma de barras y establecemos los ejes x,y \n",
    "gph.vbar(x='GRANDES_GRUPOS_DE_EDAD', top='A_URBANA_H_mean', width=1, line_color=\"white\", source=source)\n",
    "\n",
    "gph.xgrid.grid_line_color = None\n",
    "gph.xaxis.axis_label = \"AREA URBANA - HOMBRES\"\n",
    "# Modificamos para la presentación el rango inicial \n",
    "gph.y_range.start = 0\n",
    "\n",
    "show(gph)"
   ]
  },
  {
   "cell_type": "code",
   "execution_count": 17,
   "metadata": {},
   "outputs": [
    {
     "data": {
      "text/html": [
       "\n",
       "<div class=\"bk-root\">\n",
       "    <div class=\"bk-plotdiv\" id=\"f31da1b1-c6f8-446c-9c15-c370b1b2363a\"></div>\n",
       "</div>"
      ]
     },
     "metadata": {},
     "output_type": "display_data"
    },
    {
     "data": {
      "application/javascript": [
       "(function(root) {\n",
       "  function embed_document(root) {\n",
       "    var docs_json = {\"033620c1-7322-43a7-aae3-421c0d7e9e9b\":{\"roots\":{\"references\":[{\"attributes\":{\"line_alpha\":{\"value\":0.1},\"line_color\":{\"value\":\"#1f77b4\"},\"x\":{\"field\":\"GRANDES_GRUPOS_DE_EDAD\"},\"y\":{\"field\":\"A_URBANA_M_mean\"}},\"id\":\"9a247cb5-da89-4ac2-99c0-8c44d43dec6e\",\"type\":\"Line\"},{\"attributes\":{},\"id\":\"6701056c-83d3-4852-8279-ce5e37c1ac2f\",\"type\":\"BasicTicker\"},{\"attributes\":{},\"id\":\"632f4e14-5303-47db-bd55-a3c1303c1e1a\",\"type\":\"ResetTool\"},{\"attributes\":{},\"id\":\"df48418c-ae8c-413b-8d54-ef30e260dab3\",\"type\":\"SaveTool\"},{\"attributes\":{\"formatter\":{\"id\":\"5709229e-0281-4336-b103-2b521cde4f45\",\"type\":\"BasicTickFormatter\"},\"plot\":{\"id\":\"73f1d105-152d-45df-9f3d-49ee02267450\",\"subtype\":\"Figure\",\"type\":\"Plot\"},\"ticker\":{\"id\":\"6701056c-83d3-4852-8279-ce5e37c1ac2f\",\"type\":\"BasicTicker\"}},\"id\":\"f296b548-a1e1-42ce-b8ba-341a32b549a9\",\"type\":\"LinearAxis\"},{\"attributes\":{\"data_source\":{\"id\":\"63654d39-33f3-4859-b9c1-3078b091350a\",\"type\":\"ColumnDataSource\"},\"glyph\":{\"id\":\"7271e877-fa71-4cae-abba-f5378a195ed7\",\"type\":\"Line\"},\"hover_glyph\":null,\"muted_glyph\":null,\"nonselection_glyph\":{\"id\":\"9a247cb5-da89-4ac2-99c0-8c44d43dec6e\",\"type\":\"Line\"},\"selection_glyph\":null,\"view\":{\"id\":\"44b6dccb-1566-4818-981e-1e98bad0b77f\",\"type\":\"CDSView\"}},\"id\":\"0dcf3cb4-9b53-4067-a6c5-5df3a8af8d1a\",\"type\":\"GlyphRenderer\"},{\"attributes\":{},\"id\":\"5709229e-0281-4336-b103-2b521cde4f45\",\"type\":\"BasicTickFormatter\"},{\"attributes\":{\"plot\":null,\"text\":\"ANALFABETISMO POR AREA Y GRUPOS DE EDAD\"},\"id\":\"191a0dec-6663-4da2-bca2-50a8c5fdbaad\",\"type\":\"Title\"},{\"attributes\":{},\"id\":\"9c55d8af-16d2-49bb-8a5f-0a0e22b30045\",\"type\":\"LinearScale\"},{\"attributes\":{},\"id\":\"3cb43bb3-8ab6-492f-b623-b6dccd0035db\",\"type\":\"WheelZoomTool\"},{\"attributes\":{\"bottom_units\":\"screen\",\"fill_alpha\":{\"value\":0.5},\"fill_color\":{\"value\":\"lightgrey\"},\"left_units\":\"screen\",\"level\":\"overlay\",\"line_alpha\":{\"value\":1.0},\"line_color\":{\"value\":\"black\"},\"line_dash\":[4,4],\"line_width\":{\"value\":2},\"plot\":null,\"render_mode\":\"css\",\"right_units\":\"screen\",\"top_units\":\"screen\"},\"id\":\"fc750b90-4672-4dbb-bdf2-e7e2b0862430\",\"type\":\"BoxAnnotation\"},{\"attributes\":{\"overlay\":{\"id\":\"fc750b90-4672-4dbb-bdf2-e7e2b0862430\",\"type\":\"BoxAnnotation\"}},\"id\":\"ad52895e-d5ed-478e-a4eb-aa4371edce4a\",\"type\":\"BoxZoomTool\"},{\"attributes\":{\"callback\":null,\"factors\":[\"15-24 a\\u00f1os\",\"25-39 a\\u00f1os\",\"40-64 a\\u00f1os\",\"65 a\\u00f1os y mas\",\"Total nacional\"]},\"id\":\"84758451-f6e3-4673-ae62-489380e39b88\",\"type\":\"FactorRange\"},{\"attributes\":{\"dimension\":1,\"plot\":{\"id\":\"73f1d105-152d-45df-9f3d-49ee02267450\",\"subtype\":\"Figure\",\"type\":\"Plot\"},\"ticker\":{\"id\":\"6701056c-83d3-4852-8279-ce5e37c1ac2f\",\"type\":\"BasicTicker\"}},\"id\":\"42605b48-a4fe-41fe-8ed4-515a53af9a3e\",\"type\":\"Grid\"},{\"attributes\":{},\"id\":\"e6e555da-96ed-4109-bd2e-872805fdc66f\",\"type\":\"CategoricalTickFormatter\"},{\"attributes\":{},\"id\":\"f8bd05cf-3823-4e30-8712-d2bb05af0a5a\",\"type\":\"HelpTool\"},{\"attributes\":{\"callback\":null,\"column_names\":[\"A_RURAL_H_count\",\"A_RURAL_H_mean\",\"A_RURAL_H_std\",\"A_RURAL_H_min\",\"A_RURAL_H_25%\",\"A_RURAL_H_50%\",\"A_RURAL_H_75%\",\"A_RURAL_H_max\",\"A_RURAL_M_count\",\"A_RURAL_M_mean\",\"A_RURAL_M_std\",\"A_RURAL_M_min\",\"A_RURAL_M_25%\",\"A_RURAL_M_50%\",\"A_RURAL_M_75%\",\"A_RURAL_M_max\",\"A_URBANA_H_count\",\"A_URBANA_H_mean\",\"A_URBANA_H_std\",\"A_URBANA_H_min\",\"A_URBANA_H_25%\",\"A_URBANA_H_50%\",\"A_URBANA_H_75%\",\"A_URBANA_H_max\",\"A_URBANA_M_count\",\"A_URBANA_M_mean\",\"A_URBANA_M_std\",\"A_URBANA_M_min\",\"A_URBANA_M_25%\",\"A_URBANA_M_50%\",\"A_URBANA_M_75%\",\"A_URBANA_M_max\",\"TOTAL_H_count\",\"TOTAL_H_mean\",\"TOTAL_H_std\",\"TOTAL_H_min\",\"TOTAL_H_25%\",\"TOTAL_H_50%\",\"TOTAL_H_75%\",\"TOTAL_H_max\",\"TOTAL_M_count\",\"TOTAL_M_mean\",\"TOTAL_M_std\",\"TOTAL_M_min\",\"TOTAL_M_25%\",\"TOTAL_M_50%\",\"TOTAL_M_75%\",\"TOTAL_M_max\",\"GRANDES_GRUPOS_DE_EDAD\"],\"data\":{\"A_RURAL_H_25%\":{\"__ndarray__\":\"eOkmMQisnD+JQWDl0CKrP/T91HjpJsE/wMqhRbbz1T+S7Xw/NV66Pw==\",\"dtype\":\"float64\",\"shape\":[5]},\"A_RURAL_H_50%\":{\"__ndarray__\":\"eOkmMQisnD+JQWDl0CKrP/T91HjpJsE/wMqhRbbz1T+S7Xw/NV66Pw==\",\"dtype\":\"float64\",\"shape\":[5]},\"A_RURAL_H_75%\":{\"__ndarray__\":\"eOkmMQisnD+JQWDl0CKrP/T91HjpJsE/wMqhRbbz1T+S7Xw/NV66Pw==\",\"dtype\":\"float64\",\"shape\":[5]},\"A_RURAL_H_count\":{\"__ndarray__\":\"AAAAAAAA8D8AAAAAAADwPwAAAAAAAPA/AAAAAAAA8D8AAAAAAADwPw==\",\"dtype\":\"float64\",\"shape\":[5]},\"A_RURAL_H_max\":{\"__ndarray__\":\"eOkmMQisnD+JQWDl0CKrP/T91HjpJsE/wMqhRbbz1T+S7Xw/NV66Pw==\",\"dtype\":\"float64\",\"shape\":[5]},\"A_RURAL_H_mean\":{\"__ndarray__\":\"eOkmMQisnD+JQWDl0CKrP/T91HjpJsE/wMqhRbbz1T+S7Xw/NV66Pw==\",\"dtype\":\"float64\",\"shape\":[5]},\"A_RURAL_H_min\":{\"__ndarray__\":\"eOkmMQisnD+JQWDl0CKrP/T91HjpJsE/wMqhRbbz1T+S7Xw/NV66Pw==\",\"dtype\":\"float64\",\"shape\":[5]},\"A_RURAL_H_std\":{\"__ndarray__\":\"AAAAAAAA+H8AAAAAAAD4fwAAAAAAAPh/AAAAAAAA+H8AAAAAAAD4fw==\",\"dtype\":\"float64\",\"shape\":[5]},\"A_RURAL_M_25%\":{\"__ndarray__\":\"mpmZmZmZmT946SYxCKysPz0K16NwPco/AyuHFtnO3z+TGARWDi3CPw==\",\"dtype\":\"float64\",\"shape\":[5]},\"A_RURAL_M_50%\":{\"__ndarray__\":\"mpmZmZmZmT946SYxCKysPz0K16NwPco/AyuHFtnO3z+TGARWDi3CPw==\",\"dtype\":\"float64\",\"shape\":[5]},\"A_RURAL_M_75%\":{\"__ndarray__\":\"mpmZmZmZmT946SYxCKysPz0K16NwPco/AyuHFtnO3z+TGARWDi3CPw==\",\"dtype\":\"float64\",\"shape\":[5]},\"A_RURAL_M_count\":{\"__ndarray__\":\"AAAAAAAA8D8AAAAAAADwPwAAAAAAAPA/AAAAAAAA8D8AAAAAAADwPw==\",\"dtype\":\"float64\",\"shape\":[5]},\"A_RURAL_M_max\":{\"__ndarray__\":\"mpmZmZmZmT946SYxCKysPz0K16NwPco/AyuHFtnO3z+TGARWDi3CPw==\",\"dtype\":\"float64\",\"shape\":[5]},\"A_RURAL_M_mean\":{\"__ndarray__\":\"mpmZmZmZmT946SYxCKysPz0K16NwPco/AyuHFtnO3z+TGARWDi3CPw==\",\"dtype\":\"float64\",\"shape\":[5]},\"A_RURAL_M_min\":{\"__ndarray__\":\"mpmZmZmZmT946SYxCKysPz0K16NwPco/AyuHFtnO3z+TGARWDi3CPw==\",\"dtype\":\"float64\",\"shape\":[5]},\"A_RURAL_M_std\":{\"__ndarray__\":\"AAAAAAAA+H8AAAAAAAD4fwAAAAAAAPh/AAAAAAAA+H8AAAAAAAD4fw==\",\"dtype\":\"float64\",\"shape\":[5]},\"A_URBANA_H_25%\":{\"__ndarray__\":\"+n5qvHSTiD8830+Nl26SP9v5fmq8dKM//Knx0k1iwD9YObTIdr6fPw==\",\"dtype\":\"float64\",\"shape\":[5]},\"A_URBANA_H_50%\":{\"__ndarray__\":\"+n5qvHSTiD8830+Nl26SP9v5fmq8dKM//Knx0k1iwD9YObTIdr6fPw==\",\"dtype\":\"float64\",\"shape\":[5]},\"A_URBANA_H_75%\":{\"__ndarray__\":\"+n5qvHSTiD8830+Nl26SP9v5fmq8dKM//Knx0k1iwD9YObTIdr6fPw==\",\"dtype\":\"float64\",\"shape\":[5]},\"A_URBANA_H_count\":{\"__ndarray__\":\"AAAAAAAA8D8AAAAAAADwPwAAAAAAAPA/AAAAAAAA8D8AAAAAAADwPw==\",\"dtype\":\"float64\",\"shape\":[5]},\"A_URBANA_H_max\":{\"__ndarray__\":\"+n5qvHSTiD8830+Nl26SP9v5fmq8dKM//Knx0k1iwD9YObTIdr6fPw==\",\"dtype\":\"float64\",\"shape\":[5]},\"A_URBANA_H_mean\":{\"__ndarray__\":\"+n5qvHSTiD8830+Nl26SP9v5fmq8dKM//Knx0k1iwD9YObTIdr6fPw==\",\"dtype\":\"float64\",\"shape\":[5]},\"A_URBANA_H_min\":{\"__ndarray__\":\"+n5qvHSTiD8830+Nl26SP9v5fmq8dKM//Knx0k1iwD9YObTIdr6fPw==\",\"dtype\":\"float64\",\"shape\":[5]},\"A_URBANA_H_std\":{\"__ndarray__\":\"AAAAAAAA+H8AAAAAAAD4fwAAAAAAAPh/AAAAAAAA+H8AAAAAAAD4fw==\",\"dtype\":\"float64\",\"shape\":[5]},\"A_URBANA_M_25%\":{\"__ndarray__\":\"PN9PjZdugj+cxCCwcmiRP9rO91Pjpas/9ihcj8L1yD9qvHSTGASmPw==\",\"dtype\":\"float64\",\"shape\":[5]},\"A_URBANA_M_50%\":{\"__ndarray__\":\"PN9PjZdugj+cxCCwcmiRP9rO91Pjpas/9ihcj8L1yD9qvHSTGASmPw==\",\"dtype\":\"float64\",\"shape\":[5]},\"A_URBANA_M_75%\":{\"__ndarray__\":\"PN9PjZdugj+cxCCwcmiRP9rO91Pjpas/9ihcj8L1yD9qvHSTGASmPw==\",\"dtype\":\"float64\",\"shape\":[5]},\"A_URBANA_M_count\":{\"__ndarray__\":\"AAAAAAAA8D8AAAAAAADwPwAAAAAAAPA/AAAAAAAA8D8AAAAAAADwPw==\",\"dtype\":\"float64\",\"shape\":[5]},\"A_URBANA_M_max\":{\"__ndarray__\":\"PN9PjZdugj+cxCCwcmiRP9rO91Pjpas/9ihcj8L1yD9qvHSTGASmPw==\",\"dtype\":\"float64\",\"shape\":[5]},\"A_URBANA_M_mean\":{\"__ndarray__\":\"PN9PjZdugj+cxCCwcmiRP9rO91Pjpas/9ihcj8L1yD9qvHSTGASmPw==\",\"dtype\":\"float64\",\"shape\":[5]},\"A_URBANA_M_min\":{\"__ndarray__\":\"PN9PjZdugj+cxCCwcmiRP9rO91Pjpas/9ihcj8L1yD9qvHSTGASmPw==\",\"dtype\":\"float64\",\"shape\":[5]},\"A_URBANA_M_std\":{\"__ndarray__\":\"AAAAAAAA+H8AAAAAAAD4fwAAAAAAAPh/AAAAAAAA+H8AAAAAAAD4fw==\",\"dtype\":\"float64\",\"shape\":[5]},\"GRANDES_GRUPOS_DE_EDAD\":[\"15-24 a\\u00f1os\",\"25-39 a\\u00f1os\",\"40-64 a\\u00f1os\",\"65 a\\u00f1os y mas\",\"Total nacional\"],\"TOTAL_H_25%\":{\"__ndarray__\":\"PN9PjZdukj+4HoXrUbiePzzfT42XbrI/eOkmMQiszD8YBFYOLbKtPw==\",\"dtype\":\"float64\",\"shape\":[5]},\"TOTAL_H_50%\":{\"__ndarray__\":\"PN9PjZdukj+4HoXrUbiePzzfT42XbrI/eOkmMQiszD8YBFYOLbKtPw==\",\"dtype\":\"float64\",\"shape\":[5]},\"TOTAL_H_75%\":{\"__ndarray__\":\"PN9PjZdukj+4HoXrUbiePzzfT42XbrI/eOkmMQiszD8YBFYOLbKtPw==\",\"dtype\":\"float64\",\"shape\":[5]},\"TOTAL_H_count\":{\"__ndarray__\":\"AAAAAAAA8D8AAAAAAADwPwAAAAAAAPA/AAAAAAAA8D8AAAAAAADwPw==\",\"dtype\":\"float64\",\"shape\":[5]},\"TOTAL_H_max\":{\"__ndarray__\":\"PN9PjZdukj+4HoXrUbiePzzfT42XbrI/eOkmMQiszD8YBFYOLbKtPw==\",\"dtype\":\"float64\",\"shape\":[5]},\"TOTAL_H_mean\":{\"__ndarray__\":\"PN9PjZdukj+4HoXrUbiePzzfT42XbrI/eOkmMQiszD8YBFYOLbKtPw==\",\"dtype\":\"float64\",\"shape\":[5]},\"TOTAL_H_min\":{\"__ndarray__\":\"PN9PjZdukj+4HoXrUbiePzzfT42XbrI/eOkmMQiszD8YBFYOLbKtPw==\",\"dtype\":\"float64\",\"shape\":[5]},\"TOTAL_H_std\":{\"__ndarray__\":\"AAAAAAAA+H8AAAAAAAD4fwAAAAAAAPh/AAAAAAAA+H8AAAAAAAD4fw==\",\"dtype\":\"float64\",\"shape\":[5]},\"TOTAL_M_25%\":{\"__ndarray__\":\"uB6F61G4jj+4HoXrUbiePzq0yHa+n7o/001iEFg51D+DwMqhRbazPw==\",\"dtype\":\"float64\",\"shape\":[5]},\"TOTAL_M_50%\":{\"__ndarray__\":\"uB6F61G4jj+4HoXrUbiePzq0yHa+n7o/001iEFg51D+DwMqhRbazPw==\",\"dtype\":\"float64\",\"shape\":[5]},\"TOTAL_M_75%\":{\"__ndarray__\":\"uB6F61G4jj+4HoXrUbiePzq0yHa+n7o/001iEFg51D+DwMqhRbazPw==\",\"dtype\":\"float64\",\"shape\":[5]},\"TOTAL_M_count\":{\"__ndarray__\":\"AAAAAAAA8D8AAAAAAADwPwAAAAAAAPA/AAAAAAAA8D8AAAAAAADwPw==\",\"dtype\":\"float64\",\"shape\":[5]},\"TOTAL_M_max\":{\"__ndarray__\":\"uB6F61G4jj+4HoXrUbiePzq0yHa+n7o/001iEFg51D+DwMqhRbazPw==\",\"dtype\":\"float64\",\"shape\":[5]},\"TOTAL_M_mean\":{\"__ndarray__\":\"uB6F61G4jj+4HoXrUbiePzq0yHa+n7o/001iEFg51D+DwMqhRbazPw==\",\"dtype\":\"float64\",\"shape\":[5]},\"TOTAL_M_min\":{\"__ndarray__\":\"uB6F61G4jj+4HoXrUbiePzq0yHa+n7o/001iEFg51D+DwMqhRbazPw==\",\"dtype\":\"float64\",\"shape\":[5]},\"TOTAL_M_std\":{\"__ndarray__\":\"AAAAAAAA+H8AAAAAAAD4fwAAAAAAAPh/AAAAAAAA+H8AAAAAAAD4fw==\",\"dtype\":\"float64\",\"shape\":[5]}}},\"id\":\"63654d39-33f3-4859-b9c1-3078b091350a\",\"type\":\"ColumnDataSource\"},{\"attributes\":{\"grid_line_color\":{\"value\":null},\"plot\":{\"id\":\"73f1d105-152d-45df-9f3d-49ee02267450\",\"subtype\":\"Figure\",\"type\":\"Plot\"},\"ticker\":{\"id\":\"75cb247d-22c1-437a-961b-7ad5dc96e1be\",\"type\":\"CategoricalTicker\"}},\"id\":\"c351ac75-b7f4-4935-85cc-446275c888b8\",\"type\":\"Grid\"},{\"attributes\":{\"callback\":null,\"start\":0},\"id\":\"ec7960b4-56a8-46d8-98ef-4d3aba8852ad\",\"type\":\"DataRange1d\"},{\"attributes\":{\"active_drag\":\"auto\",\"active_inspect\":\"auto\",\"active_scroll\":\"auto\",\"active_tap\":\"auto\",\"tools\":[{\"id\":\"28de399b-dab7-422f-842c-3663eb74d92e\",\"type\":\"PanTool\"},{\"id\":\"3cb43bb3-8ab6-492f-b623-b6dccd0035db\",\"type\":\"WheelZoomTool\"},{\"id\":\"ad52895e-d5ed-478e-a4eb-aa4371edce4a\",\"type\":\"BoxZoomTool\"},{\"id\":\"df48418c-ae8c-413b-8d54-ef30e260dab3\",\"type\":\"SaveTool\"},{\"id\":\"632f4e14-5303-47db-bd55-a3c1303c1e1a\",\"type\":\"ResetTool\"},{\"id\":\"f8bd05cf-3823-4e30-8712-d2bb05af0a5a\",\"type\":\"HelpTool\"}]},\"id\":\"8a89b660-61ab-4985-8137-6813621b9136\",\"type\":\"Toolbar\"},{\"attributes\":{},\"id\":\"28de399b-dab7-422f-842c-3663eb74d92e\",\"type\":\"PanTool\"},{\"attributes\":{},\"id\":\"75cb247d-22c1-437a-961b-7ad5dc96e1be\",\"type\":\"CategoricalTicker\"},{\"attributes\":{\"below\":[{\"id\":\"b16394a5-e833-4f24-b1ff-4fd2aad20c0f\",\"type\":\"CategoricalAxis\"}],\"left\":[{\"id\":\"f296b548-a1e1-42ce-b8ba-341a32b549a9\",\"type\":\"LinearAxis\"}],\"plot_height\":250,\"plot_width\":750,\"renderers\":[{\"id\":\"b16394a5-e833-4f24-b1ff-4fd2aad20c0f\",\"type\":\"CategoricalAxis\"},{\"id\":\"c351ac75-b7f4-4935-85cc-446275c888b8\",\"type\":\"Grid\"},{\"id\":\"f296b548-a1e1-42ce-b8ba-341a32b549a9\",\"type\":\"LinearAxis\"},{\"id\":\"42605b48-a4fe-41fe-8ed4-515a53af9a3e\",\"type\":\"Grid\"},{\"id\":\"fc750b90-4672-4dbb-bdf2-e7e2b0862430\",\"type\":\"BoxAnnotation\"},{\"id\":\"0dcf3cb4-9b53-4067-a6c5-5df3a8af8d1a\",\"type\":\"GlyphRenderer\"}],\"title\":{\"id\":\"191a0dec-6663-4da2-bca2-50a8c5fdbaad\",\"type\":\"Title\"},\"toolbar\":{\"id\":\"8a89b660-61ab-4985-8137-6813621b9136\",\"type\":\"Toolbar\"},\"x_range\":{\"id\":\"84758451-f6e3-4673-ae62-489380e39b88\",\"type\":\"FactorRange\"},\"x_scale\":{\"id\":\"03ae6fb1-0796-45ef-8ba0-275147f61106\",\"type\":\"CategoricalScale\"},\"y_range\":{\"id\":\"ec7960b4-56a8-46d8-98ef-4d3aba8852ad\",\"type\":\"DataRange1d\"},\"y_scale\":{\"id\":\"9c55d8af-16d2-49bb-8a5f-0a0e22b30045\",\"type\":\"LinearScale\"}},\"id\":\"73f1d105-152d-45df-9f3d-49ee02267450\",\"subtype\":\"Figure\",\"type\":\"Plot\"},{\"attributes\":{\"source\":{\"id\":\"63654d39-33f3-4859-b9c1-3078b091350a\",\"type\":\"ColumnDataSource\"}},\"id\":\"44b6dccb-1566-4818-981e-1e98bad0b77f\",\"type\":\"CDSView\"},{\"attributes\":{},\"id\":\"03ae6fb1-0796-45ef-8ba0-275147f61106\",\"type\":\"CategoricalScale\"},{\"attributes\":{\"line_color\":{\"value\":\"#FF69B4\"},\"x\":{\"field\":\"GRANDES_GRUPOS_DE_EDAD\"},\"y\":{\"field\":\"A_URBANA_M_mean\"}},\"id\":\"7271e877-fa71-4cae-abba-f5378a195ed7\",\"type\":\"Line\"},{\"attributes\":{\"axis_label\":\"AREA URBANA - MUJERES\",\"formatter\":{\"id\":\"e6e555da-96ed-4109-bd2e-872805fdc66f\",\"type\":\"CategoricalTickFormatter\"},\"plot\":{\"id\":\"73f1d105-152d-45df-9f3d-49ee02267450\",\"subtype\":\"Figure\",\"type\":\"Plot\"},\"ticker\":{\"id\":\"75cb247d-22c1-437a-961b-7ad5dc96e1be\",\"type\":\"CategoricalTicker\"}},\"id\":\"b16394a5-e833-4f24-b1ff-4fd2aad20c0f\",\"type\":\"CategoricalAxis\"}],\"root_ids\":[\"73f1d105-152d-45df-9f3d-49ee02267450\"]},\"title\":\"Bokeh Application\",\"version\":\"0.12.10\"}};\n",
       "    var render_items = [{\"docid\":\"033620c1-7322-43a7-aae3-421c0d7e9e9b\",\"elementid\":\"f31da1b1-c6f8-446c-9c15-c370b1b2363a\",\"modelid\":\"73f1d105-152d-45df-9f3d-49ee02267450\"}];\n",
       "\n",
       "    root.Bokeh.embed.embed_items(docs_json, render_items);\n",
       "  }\n",
       "\n",
       "  if (root.Bokeh !== undefined) {\n",
       "    embed_document(root);\n",
       "  } else {\n",
       "    var attempts = 0;\n",
       "    var timer = setInterval(function(root) {\n",
       "      if (root.Bokeh !== undefined) {\n",
       "        embed_document(root);\n",
       "        clearInterval(timer);\n",
       "      }\n",
       "      attempts++;\n",
       "      if (attempts > 100) {\n",
       "        console.log(\"Bokeh: ERROR: Unable to embed document because BokehJS library is missing\")\n",
       "        clearInterval(timer);\n",
       "      }\n",
       "    }, 10, root)\n",
       "  }\n",
       "})(window);"
      ],
      "application/vnd.bokehjs_exec.v0+json": ""
     },
     "metadata": {
      "application/vnd.bokehjs_exec.v0+json": {
       "id": "73f1d105-152d-45df-9f3d-49ee02267450"
      }
     },
     "output_type": "display_data"
    }
   ],
   "source": [
    "# Agrupamos los valores en base a la columna \"GRANDES_GRUPOS_DE_EDAD\" \n",
    "group1 = tabla1.groupby('GRANDES_GRUPOS_DE_EDAD')\n",
    "\n",
    "# Nos permite obtener Mapas nombres de columnas a secuencias o matrices.\n",
    "source = ColumnDataSource(group1)\n",
    "\n",
    "# Creamos un objeto de figura y establecemos su tamaño, rango, y le damos un título \n",
    "p = figure(plot_height=250, plot_width=750, x_range=group1,  title='ANALFABETISMO POR AREA Y GRUPOS DE EDAD', )\n",
    "\n",
    "\n",
    "p.line(x='GRANDES_GRUPOS_DE_EDAD', y='A_URBANA_M_mean', color='#FF69B4', source=source)\n",
    "\n",
    "p.xgrid.grid_line_color = None\n",
    "p.xaxis.axis_label = \"AREA URBANA - MUJERES\"\n",
    "# Modificamos para la presentación el rango inicial \n",
    "p.y_range.start = 0\n",
    "\n",
    "show(p)"
   ]
  },
  {
   "cell_type": "code",
   "execution_count": 18,
   "metadata": {},
   "outputs": [
    {
     "data": {
      "text/plain": [
       "{'A_RURAL_H_25%': array([ 0.028,  0.053,  0.134,  0.343,  0.103]),\n",
       " 'A_RURAL_H_50%': array([ 0.028,  0.053,  0.134,  0.343,  0.103]),\n",
       " 'A_RURAL_H_75%': array([ 0.028,  0.053,  0.134,  0.343,  0.103]),\n",
       " 'A_RURAL_H_count': array([ 1.,  1.,  1.,  1.,  1.]),\n",
       " 'A_RURAL_H_max': array([ 0.028,  0.053,  0.134,  0.343,  0.103]),\n",
       " 'A_RURAL_H_mean': array([ 0.028,  0.053,  0.134,  0.343,  0.103]),\n",
       " 'A_RURAL_H_min': array([ 0.028,  0.053,  0.134,  0.343,  0.103]),\n",
       " 'A_RURAL_H_std': array([ nan,  nan,  nan,  nan,  nan]),\n",
       " 'A_RURAL_M_25%': array([ 0.025,  0.056,  0.205,  0.497,  0.142]),\n",
       " 'A_RURAL_M_50%': array([ 0.025,  0.056,  0.205,  0.497,  0.142]),\n",
       " 'A_RURAL_M_75%': array([ 0.025,  0.056,  0.205,  0.497,  0.142]),\n",
       " 'A_RURAL_M_count': array([ 1.,  1.,  1.,  1.,  1.]),\n",
       " 'A_RURAL_M_max': array([ 0.025,  0.056,  0.205,  0.497,  0.142]),\n",
       " 'A_RURAL_M_mean': array([ 0.025,  0.056,  0.205,  0.497,  0.142]),\n",
       " 'A_RURAL_M_min': array([ 0.025,  0.056,  0.205,  0.497,  0.142]),\n",
       " 'A_RURAL_M_std': array([ nan,  nan,  nan,  nan,  nan]),\n",
       " 'A_URBANA_H_25%': array([ 0.012,  0.018,  0.038,  0.128,  0.031]),\n",
       " 'A_URBANA_H_50%': array([ 0.012,  0.018,  0.038,  0.128,  0.031]),\n",
       " 'A_URBANA_H_75%': array([ 0.012,  0.018,  0.038,  0.128,  0.031]),\n",
       " 'A_URBANA_H_count': array([ 1.,  1.,  1.,  1.,  1.]),\n",
       " 'A_URBANA_H_max': array([ 0.012,  0.018,  0.038,  0.128,  0.031]),\n",
       " 'A_URBANA_H_mean': array([ 0.012,  0.018,  0.038,  0.128,  0.031]),\n",
       " 'A_URBANA_H_min': array([ 0.012,  0.018,  0.038,  0.128,  0.031]),\n",
       " 'A_URBANA_H_std': array([ nan,  nan,  nan,  nan,  nan]),\n",
       " 'A_URBANA_M_25%': array([ 0.009,  0.017,  0.054,  0.195,  0.043]),\n",
       " 'A_URBANA_M_50%': array([ 0.009,  0.017,  0.054,  0.195,  0.043]),\n",
       " 'A_URBANA_M_75%': array([ 0.009,  0.017,  0.054,  0.195,  0.043]),\n",
       " 'A_URBANA_M_count': array([ 1.,  1.,  1.,  1.,  1.]),\n",
       " 'A_URBANA_M_max': array([ 0.009,  0.017,  0.054,  0.195,  0.043]),\n",
       " 'A_URBANA_M_mean': array([ 0.009,  0.017,  0.054,  0.195,  0.043]),\n",
       " 'A_URBANA_M_min': array([ 0.009,  0.017,  0.054,  0.195,  0.043]),\n",
       " 'A_URBANA_M_std': array([ nan,  nan,  nan,  nan,  nan]),\n",
       " 'GRANDES_GRUPOS_DE_EDAD': array(['15-24 años', '25-39 años', '40-64 años', '65 años y mas',\n",
       "        'Total nacional'], dtype=object),\n",
       " 'TOTAL_H_25%': array([ 0.018,  0.03 ,  0.072,  0.224,  0.058]),\n",
       " 'TOTAL_H_50%': array([ 0.018,  0.03 ,  0.072,  0.224,  0.058]),\n",
       " 'TOTAL_H_75%': array([ 0.018,  0.03 ,  0.072,  0.224,  0.058]),\n",
       " 'TOTAL_H_count': array([ 1.,  1.,  1.,  1.,  1.]),\n",
       " 'TOTAL_H_max': array([ 0.018,  0.03 ,  0.072,  0.224,  0.058]),\n",
       " 'TOTAL_H_mean': array([ 0.018,  0.03 ,  0.072,  0.224,  0.058]),\n",
       " 'TOTAL_H_min': array([ 0.018,  0.03 ,  0.072,  0.224,  0.058]),\n",
       " 'TOTAL_H_std': array([ nan,  nan,  nan,  nan,  nan]),\n",
       " 'TOTAL_M_25%': array([ 0.015,  0.03 ,  0.104,  0.316,  0.077]),\n",
       " 'TOTAL_M_50%': array([ 0.015,  0.03 ,  0.104,  0.316,  0.077]),\n",
       " 'TOTAL_M_75%': array([ 0.015,  0.03 ,  0.104,  0.316,  0.077]),\n",
       " 'TOTAL_M_count': array([ 1.,  1.,  1.,  1.,  1.]),\n",
       " 'TOTAL_M_max': array([ 0.015,  0.03 ,  0.104,  0.316,  0.077]),\n",
       " 'TOTAL_M_mean': array([ 0.015,  0.03 ,  0.104,  0.316,  0.077]),\n",
       " 'TOTAL_M_min': array([ 0.015,  0.03 ,  0.104,  0.316,  0.077]),\n",
       " 'TOTAL_M_std': array([ nan,  nan,  nan,  nan,  nan])}"
      ]
     },
     "execution_count": 18,
     "metadata": {},
     "output_type": "execute_result"
    }
   ],
   "source": [
    "# Agrupamos los valores en base a la columna \"GRANDES_GRUPOS_DE_EDAD\" \n",
    "group1 = tabla1.groupby('GRANDES_GRUPOS_DE_EDAD')\n",
    "\n",
    "# Nos permite obtener Mapas nombres de columnas a secuencias o matrices.\n",
    "source = ColumnDataSource(group1)\n",
    "\n",
    "# Mostramos los nombres de los datos albergados en source - donde buscamos los nombre de los datos que buscamos en concreto\n",
    "source.data"
   ]
  },
  {
   "cell_type": "code",
   "execution_count": 19,
   "metadata": {},
   "outputs": [
    {
     "data": {
      "text/html": [
       "\n",
       "<div class=\"bk-root\">\n",
       "    <div class=\"bk-plotdiv\" id=\"8ec3308a-d687-4beb-9bb2-29104f45dfde\"></div>\n",
       "</div>"
      ]
     },
     "metadata": {},
     "output_type": "display_data"
    },
    {
     "data": {
      "application/javascript": [
       "(function(root) {\n",
       "  function embed_document(root) {\n",
       "    var docs_json = {\"a0a686eb-fe3b-4701-b4ab-4d2ca7a28c36\":{\"roots\":{\"references\":[{\"attributes\":{},\"id\":\"0c6a1976-67aa-4d3d-be50-087a090647fd\",\"type\":\"BasicTicker\"},{\"attributes\":{\"callback\":null,\"start\":0},\"id\":\"75448e4f-c535-40a3-9c97-1daea3f6af44\",\"type\":\"DataRange1d\"},{\"attributes\":{\"callback\":null,\"column_names\":[\"A_RURAL_H_count\",\"A_RURAL_H_mean\",\"A_RURAL_H_std\",\"A_RURAL_H_min\",\"A_RURAL_H_25%\",\"A_RURAL_H_50%\",\"A_RURAL_H_75%\",\"A_RURAL_H_max\",\"A_RURAL_M_count\",\"A_RURAL_M_mean\",\"A_RURAL_M_std\",\"A_RURAL_M_min\",\"A_RURAL_M_25%\",\"A_RURAL_M_50%\",\"A_RURAL_M_75%\",\"A_RURAL_M_max\",\"A_URBANA_H_count\",\"A_URBANA_H_mean\",\"A_URBANA_H_std\",\"A_URBANA_H_min\",\"A_URBANA_H_25%\",\"A_URBANA_H_50%\",\"A_URBANA_H_75%\",\"A_URBANA_H_max\",\"A_URBANA_M_count\",\"A_URBANA_M_mean\",\"A_URBANA_M_std\",\"A_URBANA_M_min\",\"A_URBANA_M_25%\",\"A_URBANA_M_50%\",\"A_URBANA_M_75%\",\"A_URBANA_M_max\",\"TOTAL_H_count\",\"TOTAL_H_mean\",\"TOTAL_H_std\",\"TOTAL_H_min\",\"TOTAL_H_25%\",\"TOTAL_H_50%\",\"TOTAL_H_75%\",\"TOTAL_H_max\",\"TOTAL_M_count\",\"TOTAL_M_mean\",\"TOTAL_M_std\",\"TOTAL_M_min\",\"TOTAL_M_25%\",\"TOTAL_M_50%\",\"TOTAL_M_75%\",\"TOTAL_M_max\",\"GRANDES_GRUPOS_DE_EDAD\"],\"data\":{\"A_RURAL_H_25%\":{\"__ndarray__\":\"eOkmMQisnD+JQWDl0CKrP/T91HjpJsE/wMqhRbbz1T+S7Xw/NV66Pw==\",\"dtype\":\"float64\",\"shape\":[5]},\"A_RURAL_H_50%\":{\"__ndarray__\":\"eOkmMQisnD+JQWDl0CKrP/T91HjpJsE/wMqhRbbz1T+S7Xw/NV66Pw==\",\"dtype\":\"float64\",\"shape\":[5]},\"A_RURAL_H_75%\":{\"__ndarray__\":\"eOkmMQisnD+JQWDl0CKrP/T91HjpJsE/wMqhRbbz1T+S7Xw/NV66Pw==\",\"dtype\":\"float64\",\"shape\":[5]},\"A_RURAL_H_count\":{\"__ndarray__\":\"AAAAAAAA8D8AAAAAAADwPwAAAAAAAPA/AAAAAAAA8D8AAAAAAADwPw==\",\"dtype\":\"float64\",\"shape\":[5]},\"A_RURAL_H_max\":{\"__ndarray__\":\"eOkmMQisnD+JQWDl0CKrP/T91HjpJsE/wMqhRbbz1T+S7Xw/NV66Pw==\",\"dtype\":\"float64\",\"shape\":[5]},\"A_RURAL_H_mean\":{\"__ndarray__\":\"eOkmMQisnD+JQWDl0CKrP/T91HjpJsE/wMqhRbbz1T+S7Xw/NV66Pw==\",\"dtype\":\"float64\",\"shape\":[5]},\"A_RURAL_H_min\":{\"__ndarray__\":\"eOkmMQisnD+JQWDl0CKrP/T91HjpJsE/wMqhRbbz1T+S7Xw/NV66Pw==\",\"dtype\":\"float64\",\"shape\":[5]},\"A_RURAL_H_std\":{\"__ndarray__\":\"AAAAAAAA+H8AAAAAAAD4fwAAAAAAAPh/AAAAAAAA+H8AAAAAAAD4fw==\",\"dtype\":\"float64\",\"shape\":[5]},\"A_RURAL_M_25%\":{\"__ndarray__\":\"mpmZmZmZmT946SYxCKysPz0K16NwPco/AyuHFtnO3z+TGARWDi3CPw==\",\"dtype\":\"float64\",\"shape\":[5]},\"A_RURAL_M_50%\":{\"__ndarray__\":\"mpmZmZmZmT946SYxCKysPz0K16NwPco/AyuHFtnO3z+TGARWDi3CPw==\",\"dtype\":\"float64\",\"shape\":[5]},\"A_RURAL_M_75%\":{\"__ndarray__\":\"mpmZmZmZmT946SYxCKysPz0K16NwPco/AyuHFtnO3z+TGARWDi3CPw==\",\"dtype\":\"float64\",\"shape\":[5]},\"A_RURAL_M_count\":{\"__ndarray__\":\"AAAAAAAA8D8AAAAAAADwPwAAAAAAAPA/AAAAAAAA8D8AAAAAAADwPw==\",\"dtype\":\"float64\",\"shape\":[5]},\"A_RURAL_M_max\":{\"__ndarray__\":\"mpmZmZmZmT946SYxCKysPz0K16NwPco/AyuHFtnO3z+TGARWDi3CPw==\",\"dtype\":\"float64\",\"shape\":[5]},\"A_RURAL_M_mean\":{\"__ndarray__\":\"mpmZmZmZmT946SYxCKysPz0K16NwPco/AyuHFtnO3z+TGARWDi3CPw==\",\"dtype\":\"float64\",\"shape\":[5]},\"A_RURAL_M_min\":{\"__ndarray__\":\"mpmZmZmZmT946SYxCKysPz0K16NwPco/AyuHFtnO3z+TGARWDi3CPw==\",\"dtype\":\"float64\",\"shape\":[5]},\"A_RURAL_M_std\":{\"__ndarray__\":\"AAAAAAAA+H8AAAAAAAD4fwAAAAAAAPh/AAAAAAAA+H8AAAAAAAD4fw==\",\"dtype\":\"float64\",\"shape\":[5]},\"A_URBANA_H_25%\":{\"__ndarray__\":\"+n5qvHSTiD8830+Nl26SP9v5fmq8dKM//Knx0k1iwD9YObTIdr6fPw==\",\"dtype\":\"float64\",\"shape\":[5]},\"A_URBANA_H_50%\":{\"__ndarray__\":\"+n5qvHSTiD8830+Nl26SP9v5fmq8dKM//Knx0k1iwD9YObTIdr6fPw==\",\"dtype\":\"float64\",\"shape\":[5]},\"A_URBANA_H_75%\":{\"__ndarray__\":\"+n5qvHSTiD8830+Nl26SP9v5fmq8dKM//Knx0k1iwD9YObTIdr6fPw==\",\"dtype\":\"float64\",\"shape\":[5]},\"A_URBANA_H_count\":{\"__ndarray__\":\"AAAAAAAA8D8AAAAAAADwPwAAAAAAAPA/AAAAAAAA8D8AAAAAAADwPw==\",\"dtype\":\"float64\",\"shape\":[5]},\"A_URBANA_H_max\":{\"__ndarray__\":\"+n5qvHSTiD8830+Nl26SP9v5fmq8dKM//Knx0k1iwD9YObTIdr6fPw==\",\"dtype\":\"float64\",\"shape\":[5]},\"A_URBANA_H_mean\":{\"__ndarray__\":\"+n5qvHSTiD8830+Nl26SP9v5fmq8dKM//Knx0k1iwD9YObTIdr6fPw==\",\"dtype\":\"float64\",\"shape\":[5]},\"A_URBANA_H_min\":{\"__ndarray__\":\"+n5qvHSTiD8830+Nl26SP9v5fmq8dKM//Knx0k1iwD9YObTIdr6fPw==\",\"dtype\":\"float64\",\"shape\":[5]},\"A_URBANA_H_std\":{\"__ndarray__\":\"AAAAAAAA+H8AAAAAAAD4fwAAAAAAAPh/AAAAAAAA+H8AAAAAAAD4fw==\",\"dtype\":\"float64\",\"shape\":[5]},\"A_URBANA_M_25%\":{\"__ndarray__\":\"PN9PjZdugj+cxCCwcmiRP9rO91Pjpas/9ihcj8L1yD9qvHSTGASmPw==\",\"dtype\":\"float64\",\"shape\":[5]},\"A_URBANA_M_50%\":{\"__ndarray__\":\"PN9PjZdugj+cxCCwcmiRP9rO91Pjpas/9ihcj8L1yD9qvHSTGASmPw==\",\"dtype\":\"float64\",\"shape\":[5]},\"A_URBANA_M_75%\":{\"__ndarray__\":\"PN9PjZdugj+cxCCwcmiRP9rO91Pjpas/9ihcj8L1yD9qvHSTGASmPw==\",\"dtype\":\"float64\",\"shape\":[5]},\"A_URBANA_M_count\":{\"__ndarray__\":\"AAAAAAAA8D8AAAAAAADwPwAAAAAAAPA/AAAAAAAA8D8AAAAAAADwPw==\",\"dtype\":\"float64\",\"shape\":[5]},\"A_URBANA_M_max\":{\"__ndarray__\":\"PN9PjZdugj+cxCCwcmiRP9rO91Pjpas/9ihcj8L1yD9qvHSTGASmPw==\",\"dtype\":\"float64\",\"shape\":[5]},\"A_URBANA_M_mean\":{\"__ndarray__\":\"PN9PjZdugj+cxCCwcmiRP9rO91Pjpas/9ihcj8L1yD9qvHSTGASmPw==\",\"dtype\":\"float64\",\"shape\":[5]},\"A_URBANA_M_min\":{\"__ndarray__\":\"PN9PjZdugj+cxCCwcmiRP9rO91Pjpas/9ihcj8L1yD9qvHSTGASmPw==\",\"dtype\":\"float64\",\"shape\":[5]},\"A_URBANA_M_std\":{\"__ndarray__\":\"AAAAAAAA+H8AAAAAAAD4fwAAAAAAAPh/AAAAAAAA+H8AAAAAAAD4fw==\",\"dtype\":\"float64\",\"shape\":[5]},\"GRANDES_GRUPOS_DE_EDAD\":[\"15-24 a\\u00f1os\",\"25-39 a\\u00f1os\",\"40-64 a\\u00f1os\",\"65 a\\u00f1os y mas\",\"Total nacional\"],\"TOTAL_H_25%\":{\"__ndarray__\":\"PN9PjZdukj+4HoXrUbiePzzfT42XbrI/eOkmMQiszD8YBFYOLbKtPw==\",\"dtype\":\"float64\",\"shape\":[5]},\"TOTAL_H_50%\":{\"__ndarray__\":\"PN9PjZdukj+4HoXrUbiePzzfT42XbrI/eOkmMQiszD8YBFYOLbKtPw==\",\"dtype\":\"float64\",\"shape\":[5]},\"TOTAL_H_75%\":{\"__ndarray__\":\"PN9PjZdukj+4HoXrUbiePzzfT42XbrI/eOkmMQiszD8YBFYOLbKtPw==\",\"dtype\":\"float64\",\"shape\":[5]},\"TOTAL_H_count\":{\"__ndarray__\":\"AAAAAAAA8D8AAAAAAADwPwAAAAAAAPA/AAAAAAAA8D8AAAAAAADwPw==\",\"dtype\":\"float64\",\"shape\":[5]},\"TOTAL_H_max\":{\"__ndarray__\":\"PN9PjZdukj+4HoXrUbiePzzfT42XbrI/eOkmMQiszD8YBFYOLbKtPw==\",\"dtype\":\"float64\",\"shape\":[5]},\"TOTAL_H_mean\":{\"__ndarray__\":\"PN9PjZdukj+4HoXrUbiePzzfT42XbrI/eOkmMQiszD8YBFYOLbKtPw==\",\"dtype\":\"float64\",\"shape\":[5]},\"TOTAL_H_min\":{\"__ndarray__\":\"PN9PjZdukj+4HoXrUbiePzzfT42XbrI/eOkmMQiszD8YBFYOLbKtPw==\",\"dtype\":\"float64\",\"shape\":[5]},\"TOTAL_H_std\":{\"__ndarray__\":\"AAAAAAAA+H8AAAAAAAD4fwAAAAAAAPh/AAAAAAAA+H8AAAAAAAD4fw==\",\"dtype\":\"float64\",\"shape\":[5]},\"TOTAL_M_25%\":{\"__ndarray__\":\"uB6F61G4jj+4HoXrUbiePzq0yHa+n7o/001iEFg51D+DwMqhRbazPw==\",\"dtype\":\"float64\",\"shape\":[5]},\"TOTAL_M_50%\":{\"__ndarray__\":\"uB6F61G4jj+4HoXrUbiePzq0yHa+n7o/001iEFg51D+DwMqhRbazPw==\",\"dtype\":\"float64\",\"shape\":[5]},\"TOTAL_M_75%\":{\"__ndarray__\":\"uB6F61G4jj+4HoXrUbiePzq0yHa+n7o/001iEFg51D+DwMqhRbazPw==\",\"dtype\":\"float64\",\"shape\":[5]},\"TOTAL_M_count\":{\"__ndarray__\":\"AAAAAAAA8D8AAAAAAADwPwAAAAAAAPA/AAAAAAAA8D8AAAAAAADwPw==\",\"dtype\":\"float64\",\"shape\":[5]},\"TOTAL_M_max\":{\"__ndarray__\":\"uB6F61G4jj+4HoXrUbiePzq0yHa+n7o/001iEFg51D+DwMqhRbazPw==\",\"dtype\":\"float64\",\"shape\":[5]},\"TOTAL_M_mean\":{\"__ndarray__\":\"uB6F61G4jj+4HoXrUbiePzq0yHa+n7o/001iEFg51D+DwMqhRbazPw==\",\"dtype\":\"float64\",\"shape\":[5]},\"TOTAL_M_min\":{\"__ndarray__\":\"uB6F61G4jj+4HoXrUbiePzq0yHa+n7o/001iEFg51D+DwMqhRbazPw==\",\"dtype\":\"float64\",\"shape\":[5]},\"TOTAL_M_std\":{\"__ndarray__\":\"AAAAAAAA+H8AAAAAAAD4fwAAAAAAAPh/AAAAAAAA+H8AAAAAAAD4fw==\",\"dtype\":\"float64\",\"shape\":[5]}}},\"id\":\"d39ae83a-e6cd-4ad9-bc20-114a1eb8db5a\",\"type\":\"ColumnDataSource\"},{\"attributes\":{},\"id\":\"2057e225-bb82-49a1-904d-469af52afc9a\",\"type\":\"WheelZoomTool\"},{\"attributes\":{\"formatter\":{\"id\":\"60cd7033-16b9-49e3-9aa6-911dbb841378\",\"type\":\"BasicTickFormatter\"},\"plot\":{\"id\":\"83c6dd33-7cba-4a1d-b1cc-009b46454f0a\",\"subtype\":\"Figure\",\"type\":\"Plot\"},\"ticker\":{\"id\":\"0c6a1976-67aa-4d3d-be50-087a090647fd\",\"type\":\"BasicTicker\"}},\"id\":\"a712bf00-2814-4ccc-8036-85e89c097cdc\",\"type\":\"LinearAxis\"},{\"attributes\":{\"source\":{\"id\":\"d39ae83a-e6cd-4ad9-bc20-114a1eb8db5a\",\"type\":\"ColumnDataSource\"}},\"id\":\"0765eef6-d470-4953-89b5-27f286404484\",\"type\":\"CDSView\"},{\"attributes\":{},\"id\":\"c9fb87d9-c466-4c40-bf22-780a80c27c9e\",\"type\":\"HelpTool\"},{\"attributes\":{\"axis_label\":\"AREA URBANA - MUJERES\",\"formatter\":{\"id\":\"4bafbbf3-0ca0-47cb-b4ec-fefc458e26ac\",\"type\":\"CategoricalTickFormatter\"},\"plot\":{\"id\":\"83c6dd33-7cba-4a1d-b1cc-009b46454f0a\",\"subtype\":\"Figure\",\"type\":\"Plot\"},\"ticker\":{\"id\":\"bad46e7d-4e33-42af-a79e-d9c40c71c7b7\",\"type\":\"CategoricalTicker\"}},\"id\":\"cd37f3bd-60fd-491b-b1fa-c9d8bc5f22f5\",\"type\":\"CategoricalAxis\"},{\"attributes\":{\"fill_alpha\":{\"value\":0.1},\"fill_color\":{\"value\":\"#1f77b4\"},\"line_alpha\":{\"value\":0.1},\"line_color\":{\"value\":\"#1f77b4\"},\"size\":{\"units\":\"screen\",\"value\":5.5},\"x\":{\"field\":\"GRANDES_GRUPOS_DE_EDAD\"},\"y\":{\"field\":\"A_URBANA_M_mean\"}},\"id\":\"9d14cb86-f1df-41be-ae7e-fa14f145e9a1\",\"type\":\"Circle\"},{\"attributes\":{},\"id\":\"60cd7033-16b9-49e3-9aa6-911dbb841378\",\"type\":\"BasicTickFormatter\"},{\"attributes\":{},\"id\":\"1bedefaa-aed4-4d46-91b9-5750eeb60382\",\"type\":\"PanTool\"},{\"attributes\":{\"overlay\":{\"id\":\"def88fa0-abb2-48ce-a086-ed08aaf5b76d\",\"type\":\"BoxAnnotation\"}},\"id\":\"b3781054-fc63-4c49-a83d-8e9f7238b72b\",\"type\":\"BoxZoomTool\"},{\"attributes\":{\"dimension\":1,\"plot\":{\"id\":\"83c6dd33-7cba-4a1d-b1cc-009b46454f0a\",\"subtype\":\"Figure\",\"type\":\"Plot\"},\"ticker\":{\"id\":\"0c6a1976-67aa-4d3d-be50-087a090647fd\",\"type\":\"BasicTicker\"}},\"id\":\"3226fcb3-9999-4c74-861e-52420686baad\",\"type\":\"Grid\"},{\"attributes\":{},\"id\":\"2134033f-6332-4a5f-8cdd-0ea7bebab575\",\"type\":\"ResetTool\"},{\"attributes\":{},\"id\":\"c5bb2eb9-53d0-46f1-a5a6-83651f26cc86\",\"type\":\"SaveTool\"},{\"attributes\":{},\"id\":\"f744b7e9-0726-4d90-9a93-9ba0b1a2685e\",\"type\":\"CategoricalScale\"},{\"attributes\":{\"plot\":null,\"text\":\"ANALFABETISMO POR AREA Y GRUPOS DE EDAD\"},\"id\":\"480ec9b2-cda9-4e50-b91b-a481e49515ce\",\"type\":\"Title\"},{\"attributes\":{\"bottom_units\":\"screen\",\"fill_alpha\":{\"value\":0.5},\"fill_color\":{\"value\":\"lightgrey\"},\"left_units\":\"screen\",\"level\":\"overlay\",\"line_alpha\":{\"value\":1.0},\"line_color\":{\"value\":\"black\"},\"line_dash\":[4,4],\"line_width\":{\"value\":2},\"plot\":null,\"render_mode\":\"css\",\"right_units\":\"screen\",\"top_units\":\"screen\"},\"id\":\"def88fa0-abb2-48ce-a086-ed08aaf5b76d\",\"type\":\"BoxAnnotation\"},{\"attributes\":{},\"id\":\"6ec9f05f-3960-4c2e-a380-3b30aa8ed2c9\",\"type\":\"LinearScale\"},{\"attributes\":{\"callback\":null,\"factors\":[\"15-24 a\\u00f1os\",\"25-39 a\\u00f1os\",\"40-64 a\\u00f1os\",\"65 a\\u00f1os y mas\",\"Total nacional\"]},\"id\":\"ca56c22c-c895-4a16-92d8-84cab64da1e6\",\"type\":\"FactorRange\"},{\"attributes\":{\"source\":{\"id\":\"d39ae83a-e6cd-4ad9-bc20-114a1eb8db5a\",\"type\":\"ColumnDataSource\"}},\"id\":\"0814079c-f68d-4eb3-9ca4-c7f10ecb6cc2\",\"type\":\"CDSView\"},{\"attributes\":{\"data_source\":{\"id\":\"d39ae83a-e6cd-4ad9-bc20-114a1eb8db5a\",\"type\":\"ColumnDataSource\"},\"glyph\":{\"id\":\"c10beddb-4608-446d-a7ff-85778abb1d3e\",\"type\":\"Line\"},\"hover_glyph\":null,\"muted_glyph\":null,\"nonselection_glyph\":{\"id\":\"b0102681-c91f-406e-a85d-a5f133b48d7c\",\"type\":\"Line\"},\"selection_glyph\":null,\"view\":{\"id\":\"0765eef6-d470-4953-89b5-27f286404484\",\"type\":\"CDSView\"}},\"id\":\"de452d91-eb61-44c5-aea8-23dd5af3bb65\",\"type\":\"GlyphRenderer\"},{\"attributes\":{\"line_color\":{\"value\":\"#FF69B4\"},\"x\":{\"field\":\"GRANDES_GRUPOS_DE_EDAD\"},\"y\":{\"field\":\"A_URBANA_M_mean\"}},\"id\":\"c10beddb-4608-446d-a7ff-85778abb1d3e\",\"type\":\"Line\"},{\"attributes\":{\"active_drag\":\"auto\",\"active_inspect\":\"auto\",\"active_scroll\":\"auto\",\"active_tap\":\"auto\",\"tools\":[{\"id\":\"1bedefaa-aed4-4d46-91b9-5750eeb60382\",\"type\":\"PanTool\"},{\"id\":\"2057e225-bb82-49a1-904d-469af52afc9a\",\"type\":\"WheelZoomTool\"},{\"id\":\"b3781054-fc63-4c49-a83d-8e9f7238b72b\",\"type\":\"BoxZoomTool\"},{\"id\":\"c5bb2eb9-53d0-46f1-a5a6-83651f26cc86\",\"type\":\"SaveTool\"},{\"id\":\"2134033f-6332-4a5f-8cdd-0ea7bebab575\",\"type\":\"ResetTool\"},{\"id\":\"c9fb87d9-c466-4c40-bf22-780a80c27c9e\",\"type\":\"HelpTool\"}]},\"id\":\"df49d67a-76d6-4e92-8a38-64eb6fff41e2\",\"type\":\"Toolbar\"},{\"attributes\":{\"plot\":{\"id\":\"83c6dd33-7cba-4a1d-b1cc-009b46454f0a\",\"subtype\":\"Figure\",\"type\":\"Plot\"},\"ticker\":{\"id\":\"bad46e7d-4e33-42af-a79e-d9c40c71c7b7\",\"type\":\"CategoricalTicker\"}},\"id\":\"de1b82d1-2685-41b0-ab72-ca23627b02b1\",\"type\":\"Grid\"},{\"attributes\":{},\"id\":\"4bafbbf3-0ca0-47cb-b4ec-fefc458e26ac\",\"type\":\"CategoricalTickFormatter\"},{\"attributes\":{},\"id\":\"bad46e7d-4e33-42af-a79e-d9c40c71c7b7\",\"type\":\"CategoricalTicker\"},{\"attributes\":{\"data_source\":{\"id\":\"d39ae83a-e6cd-4ad9-bc20-114a1eb8db5a\",\"type\":\"ColumnDataSource\"},\"glyph\":{\"id\":\"a67b457a-382d-47cf-8260-f342708f7a61\",\"type\":\"Circle\"},\"hover_glyph\":null,\"muted_glyph\":null,\"nonselection_glyph\":{\"id\":\"9d14cb86-f1df-41be-ae7e-fa14f145e9a1\",\"type\":\"Circle\"},\"selection_glyph\":null,\"view\":{\"id\":\"0814079c-f68d-4eb3-9ca4-c7f10ecb6cc2\",\"type\":\"CDSView\"}},\"id\":\"5e12adaf-f464-4729-a417-4c0477603b42\",\"type\":\"GlyphRenderer\"},{\"attributes\":{\"fill_color\":{\"value\":\"#FF69B4\"},\"line_color\":{\"value\":\"#FF69B4\"},\"size\":{\"units\":\"screen\",\"value\":5.5},\"x\":{\"field\":\"GRANDES_GRUPOS_DE_EDAD\"},\"y\":{\"field\":\"A_URBANA_M_mean\"}},\"id\":\"a67b457a-382d-47cf-8260-f342708f7a61\",\"type\":\"Circle\"},{\"attributes\":{\"below\":[{\"id\":\"cd37f3bd-60fd-491b-b1fa-c9d8bc5f22f5\",\"type\":\"CategoricalAxis\"}],\"left\":[{\"id\":\"a712bf00-2814-4ccc-8036-85e89c097cdc\",\"type\":\"LinearAxis\"}],\"plot_height\":250,\"plot_width\":750,\"renderers\":[{\"id\":\"cd37f3bd-60fd-491b-b1fa-c9d8bc5f22f5\",\"type\":\"CategoricalAxis\"},{\"id\":\"de1b82d1-2685-41b0-ab72-ca23627b02b1\",\"type\":\"Grid\"},{\"id\":\"a712bf00-2814-4ccc-8036-85e89c097cdc\",\"type\":\"LinearAxis\"},{\"id\":\"3226fcb3-9999-4c74-861e-52420686baad\",\"type\":\"Grid\"},{\"id\":\"def88fa0-abb2-48ce-a086-ed08aaf5b76d\",\"type\":\"BoxAnnotation\"},{\"id\":\"de452d91-eb61-44c5-aea8-23dd5af3bb65\",\"type\":\"GlyphRenderer\"},{\"id\":\"5e12adaf-f464-4729-a417-4c0477603b42\",\"type\":\"GlyphRenderer\"}],\"title\":{\"id\":\"480ec9b2-cda9-4e50-b91b-a481e49515ce\",\"type\":\"Title\"},\"toolbar\":{\"id\":\"df49d67a-76d6-4e92-8a38-64eb6fff41e2\",\"type\":\"Toolbar\"},\"x_range\":{\"id\":\"ca56c22c-c895-4a16-92d8-84cab64da1e6\",\"type\":\"FactorRange\"},\"x_scale\":{\"id\":\"f744b7e9-0726-4d90-9a93-9ba0b1a2685e\",\"type\":\"CategoricalScale\"},\"y_range\":{\"id\":\"75448e4f-c535-40a3-9c97-1daea3f6af44\",\"type\":\"DataRange1d\"},\"y_scale\":{\"id\":\"6ec9f05f-3960-4c2e-a380-3b30aa8ed2c9\",\"type\":\"LinearScale\"}},\"id\":\"83c6dd33-7cba-4a1d-b1cc-009b46454f0a\",\"subtype\":\"Figure\",\"type\":\"Plot\"},{\"attributes\":{\"line_alpha\":{\"value\":0.1},\"line_color\":{\"value\":\"#1f77b4\"},\"x\":{\"field\":\"GRANDES_GRUPOS_DE_EDAD\"},\"y\":{\"field\":\"A_URBANA_M_mean\"}},\"id\":\"b0102681-c91f-406e-a85d-a5f133b48d7c\",\"type\":\"Line\"}],\"root_ids\":[\"83c6dd33-7cba-4a1d-b1cc-009b46454f0a\"]},\"title\":\"Bokeh Application\",\"version\":\"0.12.10\"}};\n",
       "    var render_items = [{\"docid\":\"a0a686eb-fe3b-4701-b4ab-4d2ca7a28c36\",\"elementid\":\"8ec3308a-d687-4beb-9bb2-29104f45dfde\",\"modelid\":\"83c6dd33-7cba-4a1d-b1cc-009b46454f0a\"}];\n",
       "\n",
       "    root.Bokeh.embed.embed_items(docs_json, render_items);\n",
       "  }\n",
       "\n",
       "  if (root.Bokeh !== undefined) {\n",
       "    embed_document(root);\n",
       "  } else {\n",
       "    var attempts = 0;\n",
       "    var timer = setInterval(function(root) {\n",
       "      if (root.Bokeh !== undefined) {\n",
       "        embed_document(root);\n",
       "        clearInterval(timer);\n",
       "      }\n",
       "      attempts++;\n",
       "      if (attempts > 100) {\n",
       "        console.log(\"Bokeh: ERROR: Unable to embed document because BokehJS library is missing\")\n",
       "        clearInterval(timer);\n",
       "      }\n",
       "    }, 10, root)\n",
       "  }\n",
       "})(window);"
      ],
      "application/vnd.bokehjs_exec.v0+json": ""
     },
     "metadata": {
      "application/vnd.bokehjs_exec.v0+json": {
       "id": "83c6dd33-7cba-4a1d-b1cc-009b46454f0a"
      }
     },
     "output_type": "display_data"
    }
   ],
   "source": [
    "# Agrupamos los valores en base a la columna \"GRANDES_GRUPOS_DE_EDAD\" \n",
    "group1 = tabla1.groupby('GRANDES_GRUPOS_DE_EDAD')\n",
    "\n",
    "# Nos permite obtener Mapas nombres de columnas a secuencias o matrices.\n",
    "source = ColumnDataSource(group1)\n",
    "\n",
    "# Creamos un objeto de figura y establecemos su tamaño, rango, y le damos un título \n",
    "p = figure(plot_height=250, plot_width=750, x_range=group1,  title='ANALFABETISMO POR AREA Y GRUPOS DE EDAD', )\n",
    "\n",
    "\n",
    "p.line(x='GRANDES_GRUPOS_DE_EDAD', y='A_URBANA_M_mean', color='#FF69B4', source=source)\n",
    "\n",
    "p.circle(x='GRANDES_GRUPOS_DE_EDAD', y='A_URBANA_M_mean', color='#FF69B4', size=5.5, source=source)\n",
    "\n",
    "\n",
    "p.xaxis.axis_label = \"AREA URBANA - MUJERES\"\n",
    "# Modificamos para la presentación el rango inicial \n",
    "p.y_range.start = 0\n",
    "\n",
    "show(p)"
   ]
  },
  {
   "cell_type": "code",
   "execution_count": 30,
   "metadata": {},
   "outputs": [
    {
     "name": "stderr",
     "output_type": "stream",
     "text": [
      "E-1001 (BAD_COLUMN_NAME): Glyph refers to nonexistent column name: cyl, displ, mpg [renderer: GlyphRenderer(id='4422d3cf-2f87-45ee-89dc-f8d4aa134dff', ...)]\n",
      "E-1001 (BAD_COLUMN_NAME): Glyph refers to nonexistent column name: displ, hp [renderer: GlyphRenderer(id='18450e32-77ae-4d93-88a5-87fe26008a25', ...)]\n",
      "E-1001 (BAD_COLUMN_NAME): Glyph refers to nonexistent column name: mpg, yr [renderer: GlyphRenderer(id='fb308d9c-0d88-4e3f-a513-94e50e95465d', ...)]\n"
     ]
    },
    {
     "data": {
      "text/html": [
       "\n",
       "<div class=\"bk-root\">\n",
       "    <div class=\"bk-plotdiv\" id=\"4d888bb6-4b0b-4d6b-ba6a-04e8e1262165\"></div>\n",
       "</div>"
      ]
     },
     "metadata": {},
     "output_type": "display_data"
    },
    {
     "data": {
      "application/javascript": [
       "(function(root) {\n",
       "  function embed_document(root) {\n",
       "    var docs_json = {\"b36042fe-f425-4456-bb5d-b116c16d750d\":{\"roots\":{\"references\":[{\"attributes\":{\"plot\":{\"id\":\"41e93803-c21a-421a-ba60-7f3014278691\",\"subtype\":\"Figure\",\"type\":\"Plot\"},\"ticker\":{\"id\":\"443c2ddd-232c-4e3e-a555-d31937d42310\",\"type\":\"BasicTicker\"}},\"id\":\"49b67c7a-2ec7-4bf8-849e-0194bfd066cf\",\"type\":\"Grid\"},{\"attributes\":{},\"id\":\"60896e4b-672a-4e5e-8fbe-52049c7acdda\",\"type\":\"BasicTicker\"},{\"attributes\":{\"formatter\":{\"id\":\"8b324c03-8bb3-420c-b456-cc756f3964ae\",\"type\":\"BasicTickFormatter\"},\"plot\":{\"id\":\"167766b6-8c92-45d9-80d2-6e661aafac88\",\"subtype\":\"Figure\",\"type\":\"Plot\"},\"ticker\":{\"id\":\"60896e4b-672a-4e5e-8fbe-52049c7acdda\",\"type\":\"BasicTicker\"}},\"id\":\"f12abbda-f4af-42fe-b898-a4787f5d3d3a\",\"type\":\"LinearAxis\"},{\"attributes\":{\"overlay\":{\"id\":\"18fc68b7-3e8e-45f3-9237-d2a87c58c08f\",\"type\":\"BoxAnnotation\"}},\"id\":\"4cdd3fda-c199-4496-9df5-2a5b47123ea2\",\"type\":\"BoxZoomTool\"},{\"attributes\":{\"plot\":null,\"text\":\"HP vs. Displacement\"},\"id\":\"86d2b464-3b43-4862-a007-a89346888b64\",\"type\":\"Title\"},{\"attributes\":{},\"id\":\"1f7589a5-11ba-4172-9f06-a6087e5a6c6e\",\"type\":\"BasicTickFormatter\"},{\"attributes\":{\"callback\":null},\"id\":\"eed52985-8c0b-4ccc-9480-324a2b1eee53\",\"type\":\"DataRange1d\"},{\"attributes\":{\"fill_alpha\":{\"value\":0.1},\"fill_color\":{\"value\":\"#1f77b4\"},\"line_alpha\":{\"value\":0.1},\"line_color\":{\"value\":\"#1f77b4\"},\"x\":{\"field\":\"hp\"},\"y\":{\"field\":\"displ\"}},\"id\":\"c04a73d2-0e0f-4791-a30d-0cc31b08d314\",\"type\":\"Circle\"},{\"attributes\":{},\"id\":\"3fed248a-f6e8-4a48-b4e3-f9683e694a38\",\"type\":\"BasicTickFormatter\"},{\"attributes\":{\"dimension\":1,\"plot\":{\"id\":\"167766b6-8c92-45d9-80d2-6e661aafac88\",\"subtype\":\"Figure\",\"type\":\"Plot\"},\"ticker\":{\"id\":\"cc9732e7-cbee-4ff8-81ea-c9d0f3573869\",\"type\":\"BasicTicker\"}},\"id\":\"bfeefa87-9a69-4abd-bd90-ab659b93e89d\",\"type\":\"Grid\"},{\"attributes\":{},\"id\":\"b4d99fed-b8bf-433a-a134-1c1bcc427e12\",\"type\":\"LinearScale\"},{\"attributes\":{\"data_source\":{\"id\":\"bb01fc5b-d5ba-4197-a246-930da2d93065\",\"type\":\"ColumnDataSource\"},\"glyph\":{\"id\":\"1bb07f51-72ba-44ac-a4bf-c0d715343ea4\",\"type\":\"Circle\"},\"hover_glyph\":null,\"muted_glyph\":null,\"nonselection_glyph\":{\"id\":\"c04a73d2-0e0f-4791-a30d-0cc31b08d314\",\"type\":\"Circle\"},\"selection_glyph\":null,\"view\":{\"id\":\"db0f377d-3dfc-4cbc-ba91-7d08a187031d\",\"type\":\"CDSView\"}},\"id\":\"18450e32-77ae-4d93-88a5-87fe26008a25\",\"type\":\"GlyphRenderer\"},{\"attributes\":{},\"id\":\"181b3d58-2b4b-413a-9ef8-ba37755037c7\",\"type\":\"LinearScale\"},{\"attributes\":{},\"id\":\"cc9732e7-cbee-4ff8-81ea-c9d0f3573869\",\"type\":\"BasicTicker\"},{\"attributes\":{\"overlay\":{\"id\":\"a57d11cf-4cb7-447e-a214-f1054d9fe3cc\",\"type\":\"BoxAnnotation\"}},\"id\":\"986c80bd-9431-482b-b78b-28bcc25a247b\",\"type\":\"BoxZoomTool\"},{\"attributes\":{\"plot\":{\"id\":\"167766b6-8c92-45d9-80d2-6e661aafac88\",\"subtype\":\"Figure\",\"type\":\"Plot\"},\"ticker\":{\"id\":\"60896e4b-672a-4e5e-8fbe-52049c7acdda\",\"type\":\"BasicTicker\"}},\"id\":\"b7d24986-e48b-42d4-92ff-05e438023969\",\"type\":\"Grid\"},{\"attributes\":{\"callback\":null},\"id\":\"e2a2bfc1-2066-4248-af0b-3a62b083ece5\",\"type\":\"DataRange1d\"},{\"attributes\":{},\"id\":\"b5ab262e-d199-4697-9917-f3765cfbacd7\",\"type\":\"WheelZoomTool\"},{\"attributes\":{\"plot\":null,\"text\":\"MPG vs. Displacement\"},\"id\":\"9fd3785c-f273-48aa-b60c-b14fc542f854\",\"type\":\"Title\"},{\"attributes\":{\"formatter\":{\"id\":\"f7ce59ae-f1b7-4099-9a30-63029860e8df\",\"type\":\"BasicTickFormatter\"},\"plot\":{\"id\":\"167766b6-8c92-45d9-80d2-6e661aafac88\",\"subtype\":\"Figure\",\"type\":\"Plot\"},\"ticker\":{\"id\":\"cc9732e7-cbee-4ff8-81ea-c9d0f3573869\",\"type\":\"BasicTicker\"}},\"id\":\"a4181f42-0a86-4255-abe2-61b89f95eea3\",\"type\":\"LinearAxis\"},{\"attributes\":{},\"id\":\"a0bafe9e-16dc-4665-846f-3bfe93e15504\",\"type\":\"WheelZoomTool\"},{\"attributes\":{},\"id\":\"7dc00f00-bcc1-424a-95b8-4482c6e73b8f\",\"type\":\"PanTool\"},{\"attributes\":{},\"id\":\"f7ce59ae-f1b7-4099-9a30-63029860e8df\",\"type\":\"BasicTickFormatter\"},{\"attributes\":{\"callback\":null},\"id\":\"303ab87b-5229-48bf-87b1-1172bc4155f1\",\"type\":\"DataRange1d\"},{\"attributes\":{\"fill_color\":{\"value\":\"blue\"},\"line_color\":{\"value\":\"blue\"},\"x\":{\"field\":\"yr\"},\"y\":{\"field\":\"mpg\"}},\"id\":\"8a7a9669-848b-43fa-942b-231e762cf515\",\"type\":\"Circle\"},{\"attributes\":{\"source\":{\"id\":\"bb01fc5b-d5ba-4197-a246-930da2d93065\",\"type\":\"ColumnDataSource\"}},\"id\":\"db0f377d-3dfc-4cbc-ba91-7d08a187031d\",\"type\":\"CDSView\"},{\"attributes\":{\"dimension\":1,\"plot\":{\"id\":\"41e93803-c21a-421a-ba60-7f3014278691\",\"subtype\":\"Figure\",\"type\":\"Plot\"},\"ticker\":{\"id\":\"4c1a32ae-fd2b-491a-a2c1-55584091cf86\",\"type\":\"BasicTicker\"}},\"id\":\"54d4d8b5-7497-4ff0-b14b-bb5988478b73\",\"type\":\"Grid\"},{\"attributes\":{\"bottom_units\":\"screen\",\"fill_alpha\":{\"value\":0.5},\"fill_color\":{\"value\":\"lightgrey\"},\"left_units\":\"screen\",\"level\":\"overlay\",\"line_alpha\":{\"value\":1.0},\"line_color\":{\"value\":\"black\"},\"line_dash\":[4,4],\"line_width\":{\"value\":2},\"plot\":null,\"render_mode\":\"css\",\"right_units\":\"screen\",\"top_units\":\"screen\"},\"id\":\"4ce9d7e1-e1d4-4cbf-b970-6527dd56c00f\",\"type\":\"BoxAnnotation\"},{\"attributes\":{\"children\":[{\"id\":\"36eb2534-00b0-4ccc-8355-de105f6a97c6\",\"type\":\"Row\"}]},\"id\":\"51eae1f7-cc84-4b37-8332-844123a3a2ac\",\"type\":\"Column\"},{\"attributes\":{},\"id\":\"4c1a32ae-fd2b-491a-a2c1-55584091cf86\",\"type\":\"BasicTicker\"},{\"attributes\":{\"bottom_units\":\"screen\",\"fill_alpha\":{\"value\":0.5},\"fill_color\":{\"value\":\"lightgrey\"},\"left_units\":\"screen\",\"level\":\"overlay\",\"line_alpha\":{\"value\":1.0},\"line_color\":{\"value\":\"black\"},\"line_dash\":[4,4],\"line_width\":{\"value\":2},\"plot\":null,\"render_mode\":\"css\",\"right_units\":\"screen\",\"top_units\":\"screen\"},\"id\":\"18fc68b7-3e8e-45f3-9237-d2a87c58c08f\",\"type\":\"BoxAnnotation\"},{\"attributes\":{\"active_drag\":\"auto\",\"active_inspect\":\"auto\",\"active_scroll\":\"auto\",\"active_tap\":\"auto\",\"tools\":[{\"id\":\"7799d2c3-c158-4630-85b0-33006e121e4e\",\"type\":\"PanTool\"},{\"id\":\"a0bafe9e-16dc-4665-846f-3bfe93e15504\",\"type\":\"WheelZoomTool\"},{\"id\":\"986c80bd-9431-482b-b78b-28bcc25a247b\",\"type\":\"BoxZoomTool\"}]},\"id\":\"fd3ece27-f397-421b-a98a-a9e4815ea37c\",\"type\":\"Toolbar\"},{\"attributes\":{},\"id\":\"36f6fd15-d574-4bfa-8934-f673d5b97a31\",\"type\":\"PanTool\"},{\"attributes\":{\"formatter\":{\"id\":\"b5f74f46-0697-4918-942b-b593cd6e00cf\",\"type\":\"BasicTickFormatter\"},\"plot\":{\"id\":\"36811ec8-c3a3-4943-b486-a1a60c643506\",\"subtype\":\"Figure\",\"type\":\"Plot\"},\"ticker\":{\"id\":\"287cc2d8-d3f3-4262-9694-30b4e9231441\",\"type\":\"BasicTicker\"}},\"id\":\"be01d090-2d9d-4e79-9d52-51248f44d4a9\",\"type\":\"LinearAxis\"},{\"attributes\":{},\"id\":\"4f43b5af-a262-449e-b978-6cfcf4129dec\",\"type\":\"BasicTickFormatter\"},{\"attributes\":{},\"id\":\"e534c656-794e-43b2-9618-98ca0a6555dc\",\"type\":\"WheelZoomTool\"},{\"attributes\":{\"overlay\":{\"id\":\"4ce9d7e1-e1d4-4cbf-b970-6527dd56c00f\",\"type\":\"BoxAnnotation\"}},\"id\":\"509c83d9-7097-47b0-991c-00583603f5e1\",\"type\":\"BoxZoomTool\"},{\"attributes\":{\"fill_alpha\":{\"value\":0.1},\"fill_color\":{\"value\":\"#1f77b4\"},\"line_alpha\":{\"value\":0.1},\"line_color\":{\"value\":\"#1f77b4\"},\"size\":{\"field\":\"cyl\",\"units\":\"screen\"},\"x\":{\"field\":\"mpg\"},\"y\":{\"field\":\"displ\"}},\"id\":\"f6046f17-6de5-4c67-a901-3289e463465a\",\"type\":\"Circle\"},{\"attributes\":{\"data_source\":{\"id\":\"bb01fc5b-d5ba-4197-a246-930da2d93065\",\"type\":\"ColumnDataSource\"},\"glyph\":{\"id\":\"f3505da4-84d2-4829-bf9f-116399afbe79\",\"type\":\"Circle\"},\"hover_glyph\":null,\"muted_glyph\":null,\"nonselection_glyph\":{\"id\":\"f6046f17-6de5-4c67-a901-3289e463465a\",\"type\":\"Circle\"},\"selection_glyph\":null,\"view\":{\"id\":\"ae1ac601-2872-4c20-ba73-cfeeb55180a7\",\"type\":\"CDSView\"}},\"id\":\"4422d3cf-2f87-45ee-89dc-f8d4aa134dff\",\"type\":\"GlyphRenderer\"},{\"attributes\":{},\"id\":\"29e8ac75-3adb-4196-a232-57c073bd9711\",\"type\":\"LinearScale\"},{\"attributes\":{\"sizing_mode\":\"scale_width\",\"tools\":[{\"id\":\"7799d2c3-c158-4630-85b0-33006e121e4e\",\"type\":\"PanTool\"},{\"id\":\"a0bafe9e-16dc-4665-846f-3bfe93e15504\",\"type\":\"WheelZoomTool\"},{\"id\":\"986c80bd-9431-482b-b78b-28bcc25a247b\",\"type\":\"BoxZoomTool\"},{\"id\":\"7dc00f00-bcc1-424a-95b8-4482c6e73b8f\",\"type\":\"PanTool\"},{\"id\":\"b5ab262e-d199-4697-9917-f3765cfbacd7\",\"type\":\"WheelZoomTool\"},{\"id\":\"4cdd3fda-c199-4496-9df5-2a5b47123ea2\",\"type\":\"BoxZoomTool\"},{\"id\":\"36f6fd15-d574-4bfa-8934-f673d5b97a31\",\"type\":\"PanTool\"},{\"id\":\"e534c656-794e-43b2-9618-98ca0a6555dc\",\"type\":\"WheelZoomTool\"},{\"id\":\"509c83d9-7097-47b0-991c-00583603f5e1\",\"type\":\"BoxZoomTool\"}]},\"id\":\"10e8a6c1-2cd9-4f1a-b911-c1c49b5932ba\",\"type\":\"ToolbarBox\"},{\"attributes\":{},\"id\":\"b5f74f46-0697-4918-942b-b593cd6e00cf\",\"type\":\"BasicTickFormatter\"},{\"attributes\":{\"children\":[{\"id\":\"51eae1f7-cc84-4b37-8332-844123a3a2ac\",\"type\":\"Column\"},{\"id\":\"10e8a6c1-2cd9-4f1a-b911-c1c49b5932ba\",\"type\":\"ToolbarBox\"}]},\"id\":\"ecb9e3aa-9490-470a-8899-fed83514823d\",\"type\":\"Row\"},{\"attributes\":{\"children\":[{\"id\":\"36811ec8-c3a3-4943-b486-a1a60c643506\",\"subtype\":\"Figure\",\"type\":\"Plot\"},{\"id\":\"41e93803-c21a-421a-ba60-7f3014278691\",\"subtype\":\"Figure\",\"type\":\"Plot\"},{\"id\":\"167766b6-8c92-45d9-80d2-6e661aafac88\",\"subtype\":\"Figure\",\"type\":\"Plot\"}]},\"id\":\"36eb2534-00b0-4ccc-8355-de105f6a97c6\",\"type\":\"Row\"},{\"attributes\":{\"source\":{\"id\":\"bb01fc5b-d5ba-4197-a246-930da2d93065\",\"type\":\"ColumnDataSource\"}},\"id\":\"ae1ac601-2872-4c20-ba73-cfeeb55180a7\",\"type\":\"CDSView\"},{\"attributes\":{\"below\":[{\"id\":\"be01d090-2d9d-4e79-9d52-51248f44d4a9\",\"type\":\"LinearAxis\"}],\"left\":[{\"id\":\"94a07b73-b20b-474c-8770-dbc7b1b38410\",\"type\":\"LinearAxis\"}],\"plot_height\":300,\"plot_width\":315,\"renderers\":[{\"id\":\"be01d090-2d9d-4e79-9d52-51248f44d4a9\",\"type\":\"LinearAxis\"},{\"id\":\"d7fd3a8e-053a-4168-9ca4-de01a17a1d75\",\"type\":\"Grid\"},{\"id\":\"94a07b73-b20b-474c-8770-dbc7b1b38410\",\"type\":\"LinearAxis\"},{\"id\":\"be39c148-877c-4bcd-8d30-1ce21dc9553c\",\"type\":\"Grid\"},{\"id\":\"a57d11cf-4cb7-447e-a214-f1054d9fe3cc\",\"type\":\"BoxAnnotation\"},{\"id\":\"fb308d9c-0d88-4e3f-a513-94e50e95465d\",\"type\":\"GlyphRenderer\"}],\"title\":{\"id\":\"b1e0649b-0ca2-48a9-86db-e7e108e82aa5\",\"type\":\"Title\"},\"toolbar\":{\"id\":\"fd3ece27-f397-421b-a98a-a9e4815ea37c\",\"type\":\"Toolbar\"},\"toolbar_location\":null,\"x_range\":{\"id\":\"d5429d88-ed0b-4fb4-aa5b-5e1cf0c7924d\",\"type\":\"DataRange1d\"},\"x_scale\":{\"id\":\"b4d99fed-b8bf-433a-a134-1c1bcc427e12\",\"type\":\"LinearScale\"},\"y_range\":{\"id\":\"31c3f173-276c-416c-9767-eb9cd2398cab\",\"type\":\"DataRange1d\"},\"y_scale\":{\"id\":\"29e8ac75-3adb-4196-a232-57c073bd9711\",\"type\":\"LinearScale\"}},\"id\":\"36811ec8-c3a3-4943-b486-a1a60c643506\",\"subtype\":\"Figure\",\"type\":\"Plot\"},{\"attributes\":{},\"id\":\"287cc2d8-d3f3-4262-9694-30b4e9231441\",\"type\":\"BasicTicker\"},{\"attributes\":{\"below\":[{\"id\":\"7c1d7056-b14d-4476-9c59-2e7e845cfe88\",\"type\":\"LinearAxis\"}],\"left\":[{\"id\":\"7610338b-a5f1-4eb9-b77d-5ab898b9539f\",\"type\":\"LinearAxis\"}],\"plot_height\":300,\"plot_width\":315,\"renderers\":[{\"id\":\"7c1d7056-b14d-4476-9c59-2e7e845cfe88\",\"type\":\"LinearAxis\"},{\"id\":\"49b67c7a-2ec7-4bf8-849e-0194bfd066cf\",\"type\":\"Grid\"},{\"id\":\"7610338b-a5f1-4eb9-b77d-5ab898b9539f\",\"type\":\"LinearAxis\"},{\"id\":\"54d4d8b5-7497-4ff0-b14b-bb5988478b73\",\"type\":\"Grid\"},{\"id\":\"18fc68b7-3e8e-45f3-9237-d2a87c58c08f\",\"type\":\"BoxAnnotation\"},{\"id\":\"18450e32-77ae-4d93-88a5-87fe26008a25\",\"type\":\"GlyphRenderer\"}],\"title\":{\"id\":\"86d2b464-3b43-4862-a007-a89346888b64\",\"type\":\"Title\"},\"toolbar\":{\"id\":\"ade5a4f0-25c4-4cfc-97ea-c70d378c4717\",\"type\":\"Toolbar\"},\"toolbar_location\":null,\"x_range\":{\"id\":\"303ab87b-5229-48bf-87b1-1172bc4155f1\",\"type\":\"DataRange1d\"},\"x_scale\":{\"id\":\"4ccb07b1-828d-4462-bb08-3fd83829ec0d\",\"type\":\"LinearScale\"},\"y_range\":{\"id\":\"c24b092d-bc18-4d9b-8072-23fa9d25f1d6\",\"type\":\"DataRange1d\"},\"y_scale\":{\"id\":\"9d3a3513-ec45-4cff-999e-e2aa3c21439f\",\"type\":\"LinearScale\"}},\"id\":\"41e93803-c21a-421a-ba60-7f3014278691\",\"subtype\":\"Figure\",\"type\":\"Plot\"},{\"attributes\":{},\"id\":\"51d2a7e3-ac29-42f4-ac6f-b141305ff2c9\",\"type\":\"LinearScale\"},{\"attributes\":{},\"id\":\"8b324c03-8bb3-420c-b456-cc756f3964ae\",\"type\":\"BasicTickFormatter\"},{\"attributes\":{},\"id\":\"4ccb07b1-828d-4462-bb08-3fd83829ec0d\",\"type\":\"LinearScale\"},{\"attributes\":{\"active_drag\":\"auto\",\"active_inspect\":\"auto\",\"active_scroll\":\"auto\",\"active_tap\":\"auto\",\"tools\":[{\"id\":\"7dc00f00-bcc1-424a-95b8-4482c6e73b8f\",\"type\":\"PanTool\"},{\"id\":\"b5ab262e-d199-4697-9917-f3765cfbacd7\",\"type\":\"WheelZoomTool\"},{\"id\":\"4cdd3fda-c199-4496-9df5-2a5b47123ea2\",\"type\":\"BoxZoomTool\"}]},\"id\":\"ade5a4f0-25c4-4cfc-97ea-c70d378c4717\",\"type\":\"Toolbar\"},{\"attributes\":{\"active_drag\":\"auto\",\"active_inspect\":\"auto\",\"active_scroll\":\"auto\",\"active_tap\":\"auto\",\"tools\":[{\"id\":\"36f6fd15-d574-4bfa-8934-f673d5b97a31\",\"type\":\"PanTool\"},{\"id\":\"e534c656-794e-43b2-9618-98ca0a6555dc\",\"type\":\"WheelZoomTool\"},{\"id\":\"509c83d9-7097-47b0-991c-00583603f5e1\",\"type\":\"BoxZoomTool\"}]},\"id\":\"d07c4361-583c-430e-ba19-b2d1a3b3f2f8\",\"type\":\"Toolbar\"},{\"attributes\":{},\"id\":\"443c2ddd-232c-4e3e-a555-d31937d42310\",\"type\":\"BasicTicker\"},{\"attributes\":{\"bottom_units\":\"screen\",\"fill_alpha\":{\"value\":0.5},\"fill_color\":{\"value\":\"lightgrey\"},\"left_units\":\"screen\",\"level\":\"overlay\",\"line_alpha\":{\"value\":1.0},\"line_color\":{\"value\":\"black\"},\"line_dash\":[4,4],\"line_width\":{\"value\":2},\"plot\":null,\"render_mode\":\"css\",\"right_units\":\"screen\",\"top_units\":\"screen\"},\"id\":\"a57d11cf-4cb7-447e-a214-f1054d9fe3cc\",\"type\":\"BoxAnnotation\"},{\"attributes\":{},\"id\":\"7799d2c3-c158-4630-85b0-33006e121e4e\",\"type\":\"PanTool\"},{\"attributes\":{\"below\":[{\"id\":\"f12abbda-f4af-42fe-b898-a4787f5d3d3a\",\"type\":\"LinearAxis\"}],\"left\":[{\"id\":\"a4181f42-0a86-4255-abe2-61b89f95eea3\",\"type\":\"LinearAxis\"}],\"plot_height\":300,\"plot_width\":315,\"renderers\":[{\"id\":\"f12abbda-f4af-42fe-b898-a4787f5d3d3a\",\"type\":\"LinearAxis\"},{\"id\":\"b7d24986-e48b-42d4-92ff-05e438023969\",\"type\":\"Grid\"},{\"id\":\"a4181f42-0a86-4255-abe2-61b89f95eea3\",\"type\":\"LinearAxis\"},{\"id\":\"bfeefa87-9a69-4abd-bd90-ab659b93e89d\",\"type\":\"Grid\"},{\"id\":\"4ce9d7e1-e1d4-4cbf-b970-6527dd56c00f\",\"type\":\"BoxAnnotation\"},{\"id\":\"4422d3cf-2f87-45ee-89dc-f8d4aa134dff\",\"type\":\"GlyphRenderer\"}],\"title\":{\"id\":\"9fd3785c-f273-48aa-b60c-b14fc542f854\",\"type\":\"Title\"},\"toolbar\":{\"id\":\"d07c4361-583c-430e-ba19-b2d1a3b3f2f8\",\"type\":\"Toolbar\"},\"toolbar_location\":null,\"x_range\":{\"id\":\"eed52985-8c0b-4ccc-9480-324a2b1eee53\",\"type\":\"DataRange1d\"},\"x_scale\":{\"id\":\"51d2a7e3-ac29-42f4-ac6f-b141305ff2c9\",\"type\":\"LinearScale\"},\"y_range\":{\"id\":\"e2a2bfc1-2066-4248-af0b-3a62b083ece5\",\"type\":\"DataRange1d\"},\"y_scale\":{\"id\":\"181b3d58-2b4b-413a-9ef8-ba37755037c7\",\"type\":\"LinearScale\"}},\"id\":\"167766b6-8c92-45d9-80d2-6e661aafac88\",\"subtype\":\"Figure\",\"type\":\"Plot\"},{\"attributes\":{\"dimension\":1,\"plot\":{\"id\":\"36811ec8-c3a3-4943-b486-a1a60c643506\",\"subtype\":\"Figure\",\"type\":\"Plot\"},\"ticker\":{\"id\":\"3b68e20a-f05b-4f4e-ba7c-83ac5bc0ac39\",\"type\":\"BasicTicker\"}},\"id\":\"be39c148-877c-4bcd-8d30-1ce21dc9553c\",\"type\":\"Grid\"},{\"attributes\":{\"formatter\":{\"id\":\"4f43b5af-a262-449e-b978-6cfcf4129dec\",\"type\":\"BasicTickFormatter\"},\"plot\":{\"id\":\"36811ec8-c3a3-4943-b486-a1a60c643506\",\"subtype\":\"Figure\",\"type\":\"Plot\"},\"ticker\":{\"id\":\"3b68e20a-f05b-4f4e-ba7c-83ac5bc0ac39\",\"type\":\"BasicTicker\"}},\"id\":\"94a07b73-b20b-474c-8770-dbc7b1b38410\",\"type\":\"LinearAxis\"},{\"attributes\":{\"formatter\":{\"id\":\"1f7589a5-11ba-4172-9f06-a6087e5a6c6e\",\"type\":\"BasicTickFormatter\"},\"plot\":{\"id\":\"41e93803-c21a-421a-ba60-7f3014278691\",\"subtype\":\"Figure\",\"type\":\"Plot\"},\"ticker\":{\"id\":\"443c2ddd-232c-4e3e-a555-d31937d42310\",\"type\":\"BasicTicker\"}},\"id\":\"7c1d7056-b14d-4476-9c59-2e7e845cfe88\",\"type\":\"LinearAxis\"},{\"attributes\":{\"fill_alpha\":{\"value\":0.1},\"fill_color\":{\"value\":\"#1f77b4\"},\"line_alpha\":{\"value\":0.1},\"line_color\":{\"value\":\"#1f77b4\"},\"x\":{\"field\":\"yr\"},\"y\":{\"field\":\"mpg\"}},\"id\":\"76ef3663-70fb-4255-b2a9-22efd33c8042\",\"type\":\"Circle\"},{\"attributes\":{\"callback\":null},\"id\":\"31c3f173-276c-416c-9767-eb9cd2398cab\",\"type\":\"DataRange1d\"},{\"attributes\":{\"callback\":null},\"id\":\"d5429d88-ed0b-4fb4-aa5b-5e1cf0c7924d\",\"type\":\"DataRange1d\"},{\"attributes\":{},\"id\":\"9d3a3513-ec45-4cff-999e-e2aa3c21439f\",\"type\":\"LinearScale\"},{\"attributes\":{\"fill_color\":{\"value\":\"green\"},\"line_color\":{\"value\":\"green\"},\"x\":{\"field\":\"hp\"},\"y\":{\"field\":\"displ\"}},\"id\":\"1bb07f51-72ba-44ac-a4bf-c0d715343ea4\",\"type\":\"Circle\"},{\"attributes\":{\"plot\":{\"id\":\"36811ec8-c3a3-4943-b486-a1a60c643506\",\"subtype\":\"Figure\",\"type\":\"Plot\"},\"ticker\":{\"id\":\"287cc2d8-d3f3-4262-9694-30b4e9231441\",\"type\":\"BasicTicker\"}},\"id\":\"d7fd3a8e-053a-4168-9ca4-de01a17a1d75\",\"type\":\"Grid\"},{\"attributes\":{\"callback\":null},\"id\":\"c24b092d-bc18-4d9b-8072-23fa9d25f1d6\",\"type\":\"DataRange1d\"},{\"attributes\":{\"source\":{\"id\":\"bb01fc5b-d5ba-4197-a246-930da2d93065\",\"type\":\"ColumnDataSource\"}},\"id\":\"0ed4b525-5745-469d-9b71-98d5d5863496\",\"type\":\"CDSView\"},{\"attributes\":{\"plot\":null,\"text\":\"MPG by Year\"},\"id\":\"b1e0649b-0ca2-48a9-86db-e7e108e82aa5\",\"type\":\"Title\"},{\"attributes\":{\"formatter\":{\"id\":\"3fed248a-f6e8-4a48-b4e3-f9683e694a38\",\"type\":\"BasicTickFormatter\"},\"plot\":{\"id\":\"41e93803-c21a-421a-ba60-7f3014278691\",\"subtype\":\"Figure\",\"type\":\"Plot\"},\"ticker\":{\"id\":\"4c1a32ae-fd2b-491a-a2c1-55584091cf86\",\"type\":\"BasicTicker\"}},\"id\":\"7610338b-a5f1-4eb9-b77d-5ab898b9539f\",\"type\":\"LinearAxis\"},{\"attributes\":{\"callback\":null,\"column_names\":[\"A_RURAL_H_count\",\"A_RURAL_H_mean\",\"A_RURAL_H_std\",\"A_RURAL_H_min\",\"A_RURAL_H_25%\",\"A_RURAL_H_50%\",\"A_RURAL_H_75%\",\"A_RURAL_H_max\",\"A_RURAL_M_count\",\"A_RURAL_M_mean\",\"A_RURAL_M_std\",\"A_RURAL_M_min\",\"A_RURAL_M_25%\",\"A_RURAL_M_50%\",\"A_RURAL_M_75%\",\"A_RURAL_M_max\",\"A_URBANA_H_count\",\"A_URBANA_H_mean\",\"A_URBANA_H_std\",\"A_URBANA_H_min\",\"A_URBANA_H_25%\",\"A_URBANA_H_50%\",\"A_URBANA_H_75%\",\"A_URBANA_H_max\",\"A_URBANA_M_count\",\"A_URBANA_M_mean\",\"A_URBANA_M_std\",\"A_URBANA_M_min\",\"A_URBANA_M_25%\",\"A_URBANA_M_50%\",\"A_URBANA_M_75%\",\"A_URBANA_M_max\",\"TOTAL_H_count\",\"TOTAL_H_mean\",\"TOTAL_H_std\",\"TOTAL_H_min\",\"TOTAL_H_25%\",\"TOTAL_H_50%\",\"TOTAL_H_75%\",\"TOTAL_H_max\",\"TOTAL_M_count\",\"TOTAL_M_mean\",\"TOTAL_M_std\",\"TOTAL_M_min\",\"TOTAL_M_25%\",\"TOTAL_M_50%\",\"TOTAL_M_75%\",\"TOTAL_M_max\",\"GRANDES_GRUPOS_DE_EDAD\"],\"data\":{\"A_RURAL_H_25%\":{\"__ndarray__\":\"eOkmMQisnD+JQWDl0CKrP/T91HjpJsE/wMqhRbbz1T+S7Xw/NV66Pw==\",\"dtype\":\"float64\",\"shape\":[5]},\"A_RURAL_H_50%\":{\"__ndarray__\":\"eOkmMQisnD+JQWDl0CKrP/T91HjpJsE/wMqhRbbz1T+S7Xw/NV66Pw==\",\"dtype\":\"float64\",\"shape\":[5]},\"A_RURAL_H_75%\":{\"__ndarray__\":\"eOkmMQisnD+JQWDl0CKrP/T91HjpJsE/wMqhRbbz1T+S7Xw/NV66Pw==\",\"dtype\":\"float64\",\"shape\":[5]},\"A_RURAL_H_count\":{\"__ndarray__\":\"AAAAAAAA8D8AAAAAAADwPwAAAAAAAPA/AAAAAAAA8D8AAAAAAADwPw==\",\"dtype\":\"float64\",\"shape\":[5]},\"A_RURAL_H_max\":{\"__ndarray__\":\"eOkmMQisnD+JQWDl0CKrP/T91HjpJsE/wMqhRbbz1T+S7Xw/NV66Pw==\",\"dtype\":\"float64\",\"shape\":[5]},\"A_RURAL_H_mean\":{\"__ndarray__\":\"eOkmMQisnD+JQWDl0CKrP/T91HjpJsE/wMqhRbbz1T+S7Xw/NV66Pw==\",\"dtype\":\"float64\",\"shape\":[5]},\"A_RURAL_H_min\":{\"__ndarray__\":\"eOkmMQisnD+JQWDl0CKrP/T91HjpJsE/wMqhRbbz1T+S7Xw/NV66Pw==\",\"dtype\":\"float64\",\"shape\":[5]},\"A_RURAL_H_std\":{\"__ndarray__\":\"AAAAAAAA+H8AAAAAAAD4fwAAAAAAAPh/AAAAAAAA+H8AAAAAAAD4fw==\",\"dtype\":\"float64\",\"shape\":[5]},\"A_RURAL_M_25%\":{\"__ndarray__\":\"mpmZmZmZmT946SYxCKysPz0K16NwPco/AyuHFtnO3z+TGARWDi3CPw==\",\"dtype\":\"float64\",\"shape\":[5]},\"A_RURAL_M_50%\":{\"__ndarray__\":\"mpmZmZmZmT946SYxCKysPz0K16NwPco/AyuHFtnO3z+TGARWDi3CPw==\",\"dtype\":\"float64\",\"shape\":[5]},\"A_RURAL_M_75%\":{\"__ndarray__\":\"mpmZmZmZmT946SYxCKysPz0K16NwPco/AyuHFtnO3z+TGARWDi3CPw==\",\"dtype\":\"float64\",\"shape\":[5]},\"A_RURAL_M_count\":{\"__ndarray__\":\"AAAAAAAA8D8AAAAAAADwPwAAAAAAAPA/AAAAAAAA8D8AAAAAAADwPw==\",\"dtype\":\"float64\",\"shape\":[5]},\"A_RURAL_M_max\":{\"__ndarray__\":\"mpmZmZmZmT946SYxCKysPz0K16NwPco/AyuHFtnO3z+TGARWDi3CPw==\",\"dtype\":\"float64\",\"shape\":[5]},\"A_RURAL_M_mean\":{\"__ndarray__\":\"mpmZmZmZmT946SYxCKysPz0K16NwPco/AyuHFtnO3z+TGARWDi3CPw==\",\"dtype\":\"float64\",\"shape\":[5]},\"A_RURAL_M_min\":{\"__ndarray__\":\"mpmZmZmZmT946SYxCKysPz0K16NwPco/AyuHFtnO3z+TGARWDi3CPw==\",\"dtype\":\"float64\",\"shape\":[5]},\"A_RURAL_M_std\":{\"__ndarray__\":\"AAAAAAAA+H8AAAAAAAD4fwAAAAAAAPh/AAAAAAAA+H8AAAAAAAD4fw==\",\"dtype\":\"float64\",\"shape\":[5]},\"A_URBANA_H_25%\":{\"__ndarray__\":\"+n5qvHSTiD8830+Nl26SP9v5fmq8dKM//Knx0k1iwD9YObTIdr6fPw==\",\"dtype\":\"float64\",\"shape\":[5]},\"A_URBANA_H_50%\":{\"__ndarray__\":\"+n5qvHSTiD8830+Nl26SP9v5fmq8dKM//Knx0k1iwD9YObTIdr6fPw==\",\"dtype\":\"float64\",\"shape\":[5]},\"A_URBANA_H_75%\":{\"__ndarray__\":\"+n5qvHSTiD8830+Nl26SP9v5fmq8dKM//Knx0k1iwD9YObTIdr6fPw==\",\"dtype\":\"float64\",\"shape\":[5]},\"A_URBANA_H_count\":{\"__ndarray__\":\"AAAAAAAA8D8AAAAAAADwPwAAAAAAAPA/AAAAAAAA8D8AAAAAAADwPw==\",\"dtype\":\"float64\",\"shape\":[5]},\"A_URBANA_H_max\":{\"__ndarray__\":\"+n5qvHSTiD8830+Nl26SP9v5fmq8dKM//Knx0k1iwD9YObTIdr6fPw==\",\"dtype\":\"float64\",\"shape\":[5]},\"A_URBANA_H_mean\":{\"__ndarray__\":\"+n5qvHSTiD8830+Nl26SP9v5fmq8dKM//Knx0k1iwD9YObTIdr6fPw==\",\"dtype\":\"float64\",\"shape\":[5]},\"A_URBANA_H_min\":{\"__ndarray__\":\"+n5qvHSTiD8830+Nl26SP9v5fmq8dKM//Knx0k1iwD9YObTIdr6fPw==\",\"dtype\":\"float64\",\"shape\":[5]},\"A_URBANA_H_std\":{\"__ndarray__\":\"AAAAAAAA+H8AAAAAAAD4fwAAAAAAAPh/AAAAAAAA+H8AAAAAAAD4fw==\",\"dtype\":\"float64\",\"shape\":[5]},\"A_URBANA_M_25%\":{\"__ndarray__\":\"PN9PjZdugj+cxCCwcmiRP9rO91Pjpas/9ihcj8L1yD9qvHSTGASmPw==\",\"dtype\":\"float64\",\"shape\":[5]},\"A_URBANA_M_50%\":{\"__ndarray__\":\"PN9PjZdugj+cxCCwcmiRP9rO91Pjpas/9ihcj8L1yD9qvHSTGASmPw==\",\"dtype\":\"float64\",\"shape\":[5]},\"A_URBANA_M_75%\":{\"__ndarray__\":\"PN9PjZdugj+cxCCwcmiRP9rO91Pjpas/9ihcj8L1yD9qvHSTGASmPw==\",\"dtype\":\"float64\",\"shape\":[5]},\"A_URBANA_M_count\":{\"__ndarray__\":\"AAAAAAAA8D8AAAAAAADwPwAAAAAAAPA/AAAAAAAA8D8AAAAAAADwPw==\",\"dtype\":\"float64\",\"shape\":[5]},\"A_URBANA_M_max\":{\"__ndarray__\":\"PN9PjZdugj+cxCCwcmiRP9rO91Pjpas/9ihcj8L1yD9qvHSTGASmPw==\",\"dtype\":\"float64\",\"shape\":[5]},\"A_URBANA_M_mean\":{\"__ndarray__\":\"PN9PjZdugj+cxCCwcmiRP9rO91Pjpas/9ihcj8L1yD9qvHSTGASmPw==\",\"dtype\":\"float64\",\"shape\":[5]},\"A_URBANA_M_min\":{\"__ndarray__\":\"PN9PjZdugj+cxCCwcmiRP9rO91Pjpas/9ihcj8L1yD9qvHSTGASmPw==\",\"dtype\":\"float64\",\"shape\":[5]},\"A_URBANA_M_std\":{\"__ndarray__\":\"AAAAAAAA+H8AAAAAAAD4fwAAAAAAAPh/AAAAAAAA+H8AAAAAAAD4fw==\",\"dtype\":\"float64\",\"shape\":[5]},\"GRANDES_GRUPOS_DE_EDAD\":[\"15-24 a\\u00f1os\",\"25-39 a\\u00f1os\",\"40-64 a\\u00f1os\",\"65 a\\u00f1os y mas\",\"Total nacional\"],\"TOTAL_H_25%\":{\"__ndarray__\":\"PN9PjZdukj+4HoXrUbiePzzfT42XbrI/eOkmMQiszD8YBFYOLbKtPw==\",\"dtype\":\"float64\",\"shape\":[5]},\"TOTAL_H_50%\":{\"__ndarray__\":\"PN9PjZdukj+4HoXrUbiePzzfT42XbrI/eOkmMQiszD8YBFYOLbKtPw==\",\"dtype\":\"float64\",\"shape\":[5]},\"TOTAL_H_75%\":{\"__ndarray__\":\"PN9PjZdukj+4HoXrUbiePzzfT42XbrI/eOkmMQiszD8YBFYOLbKtPw==\",\"dtype\":\"float64\",\"shape\":[5]},\"TOTAL_H_count\":{\"__ndarray__\":\"AAAAAAAA8D8AAAAAAADwPwAAAAAAAPA/AAAAAAAA8D8AAAAAAADwPw==\",\"dtype\":\"float64\",\"shape\":[5]},\"TOTAL_H_max\":{\"__ndarray__\":\"PN9PjZdukj+4HoXrUbiePzzfT42XbrI/eOkmMQiszD8YBFYOLbKtPw==\",\"dtype\":\"float64\",\"shape\":[5]},\"TOTAL_H_mean\":{\"__ndarray__\":\"PN9PjZdukj+4HoXrUbiePzzfT42XbrI/eOkmMQiszD8YBFYOLbKtPw==\",\"dtype\":\"float64\",\"shape\":[5]},\"TOTAL_H_min\":{\"__ndarray__\":\"PN9PjZdukj+4HoXrUbiePzzfT42XbrI/eOkmMQiszD8YBFYOLbKtPw==\",\"dtype\":\"float64\",\"shape\":[5]},\"TOTAL_H_std\":{\"__ndarray__\":\"AAAAAAAA+H8AAAAAAAD4fwAAAAAAAPh/AAAAAAAA+H8AAAAAAAD4fw==\",\"dtype\":\"float64\",\"shape\":[5]},\"TOTAL_M_25%\":{\"__ndarray__\":\"uB6F61G4jj+4HoXrUbiePzq0yHa+n7o/001iEFg51D+DwMqhRbazPw==\",\"dtype\":\"float64\",\"shape\":[5]},\"TOTAL_M_50%\":{\"__ndarray__\":\"uB6F61G4jj+4HoXrUbiePzq0yHa+n7o/001iEFg51D+DwMqhRbazPw==\",\"dtype\":\"float64\",\"shape\":[5]},\"TOTAL_M_75%\":{\"__ndarray__\":\"uB6F61G4jj+4HoXrUbiePzq0yHa+n7o/001iEFg51D+DwMqhRbazPw==\",\"dtype\":\"float64\",\"shape\":[5]},\"TOTAL_M_count\":{\"__ndarray__\":\"AAAAAAAA8D8AAAAAAADwPwAAAAAAAPA/AAAAAAAA8D8AAAAAAADwPw==\",\"dtype\":\"float64\",\"shape\":[5]},\"TOTAL_M_max\":{\"__ndarray__\":\"uB6F61G4jj+4HoXrUbiePzq0yHa+n7o/001iEFg51D+DwMqhRbazPw==\",\"dtype\":\"float64\",\"shape\":[5]},\"TOTAL_M_mean\":{\"__ndarray__\":\"uB6F61G4jj+4HoXrUbiePzq0yHa+n7o/001iEFg51D+DwMqhRbazPw==\",\"dtype\":\"float64\",\"shape\":[5]},\"TOTAL_M_min\":{\"__ndarray__\":\"uB6F61G4jj+4HoXrUbiePzq0yHa+n7o/001iEFg51D+DwMqhRbazPw==\",\"dtype\":\"float64\",\"shape\":[5]},\"TOTAL_M_std\":{\"__ndarray__\":\"AAAAAAAA+H8AAAAAAAD4fwAAAAAAAPh/AAAAAAAA+H8AAAAAAAD4fw==\",\"dtype\":\"float64\",\"shape\":[5]}}},\"id\":\"bb01fc5b-d5ba-4197-a246-930da2d93065\",\"type\":\"ColumnDataSource\"},{\"attributes\":{\"fill_color\":{\"value\":null},\"line_color\":{\"value\":\"red\"},\"size\":{\"field\":\"cyl\",\"units\":\"screen\"},\"x\":{\"field\":\"mpg\"},\"y\":{\"field\":\"displ\"}},\"id\":\"f3505da4-84d2-4829-bf9f-116399afbe79\",\"type\":\"Circle\"},{\"attributes\":{\"data_source\":{\"id\":\"bb01fc5b-d5ba-4197-a246-930da2d93065\",\"type\":\"ColumnDataSource\"},\"glyph\":{\"id\":\"8a7a9669-848b-43fa-942b-231e762cf515\",\"type\":\"Circle\"},\"hover_glyph\":null,\"muted_glyph\":null,\"nonselection_glyph\":{\"id\":\"76ef3663-70fb-4255-b2a9-22efd33c8042\",\"type\":\"Circle\"},\"selection_glyph\":null,\"view\":{\"id\":\"0ed4b525-5745-469d-9b71-98d5d5863496\",\"type\":\"CDSView\"}},\"id\":\"fb308d9c-0d88-4e3f-a513-94e50e95465d\",\"type\":\"GlyphRenderer\"},{\"attributes\":{},\"id\":\"3b68e20a-f05b-4f4e-ba7c-83ac5bc0ac39\",\"type\":\"BasicTicker\"}],\"root_ids\":[\"ecb9e3aa-9490-470a-8899-fed83514823d\"]},\"title\":\"Bokeh Application\",\"version\":\"0.12.10\"}};\n",
       "    var render_items = [{\"docid\":\"b36042fe-f425-4456-bb5d-b116c16d750d\",\"elementid\":\"4d888bb6-4b0b-4d6b-ba6a-04e8e1262165\",\"modelid\":\"ecb9e3aa-9490-470a-8899-fed83514823d\"}];\n",
       "\n",
       "    root.Bokeh.embed.embed_items(docs_json, render_items);\n",
       "  }\n",
       "\n",
       "  if (root.Bokeh !== undefined) {\n",
       "    embed_document(root);\n",
       "  } else {\n",
       "    var attempts = 0;\n",
       "    var timer = setInterval(function(root) {\n",
       "      if (root.Bokeh !== undefined) {\n",
       "        embed_document(root);\n",
       "        clearInterval(timer);\n",
       "      }\n",
       "      attempts++;\n",
       "      if (attempts > 100) {\n",
       "        console.log(\"Bokeh: ERROR: Unable to embed document because BokehJS library is missing\")\n",
       "        clearInterval(timer);\n",
       "      }\n",
       "    }, 10, root)\n",
       "  }\n",
       "})(window);"
      ],
      "application/vnd.bokehjs_exec.v0+json": ""
     },
     "metadata": {
      "application/vnd.bokehjs_exec.v0+json": {
       "id": "ecb9e3aa-9490-470a-8899-fed83514823d"
      }
     },
     "output_type": "display_data"
    }
   ],
   "source": [
    "# Importamos gridplot - para presentar varias graficas en una\n",
    "from bokeh.layouts import gridplot\n",
    "\n",
    "source = ColumnDataSource(group1)\n",
    "\n",
    "# Creamos un una variable con un diccionario que alberga las parametros de la figura ha crear\n",
    "options = dict(plot_width=315, plot_height=300, # Tamaño\n",
    "               tools=\"pan,wheel_zoom,box_zoom\") # Herramientas de bokeh a mostrar\n",
    "\n",
    "p1 = figure(title=\"Total HOMBRES\", **options)\n",
    "p1.circle(\"\", \"\", color=\"blue\", source=source)\n",
    "\n",
    "p2 = figure(title=\"Total MUJERES\", **options)\n",
    "p2.circle(\"\", \"\", color=\"green\", source=source)\n",
    "\n",
    "p = gridplot([[ p1, p2]], toolbar_location=\"right\")\n",
    "\n",
    "show(p)"
   ]
  },
  {
   "cell_type": "code",
   "execution_count": null,
   "metadata": {
    "collapsed": true
   },
   "outputs": [],
   "source": []
  },
  {
   "cell_type": "code",
   "execution_count": null,
   "metadata": {
    "collapsed": true
   },
   "outputs": [],
   "source": []
  }
 ],
 "metadata": {
  "kernelspec": {
   "display_name": "Python 3",
   "language": "python",
   "name": "python3"
  },
  "language_info": {
   "codemirror_mode": {
    "name": "ipython",
    "version": 3
   },
   "file_extension": ".py",
   "mimetype": "text/x-python",
   "name": "python",
   "nbconvert_exporter": "python",
   "pygments_lexer": "ipython3",
   "version": "3.6.3"
  }
 },
 "nbformat": 4,
 "nbformat_minor": 2
}
