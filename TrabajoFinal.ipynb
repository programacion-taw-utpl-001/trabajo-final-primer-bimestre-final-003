{
 "cells": [
  {
   "cell_type": "markdown",
   "metadata": {},
   "source": [
    "<h1 style=\"text-align:center\">Trabajo Final - Primer Bimestre</h1>\n",
    "***\n",
    "* **Manejo y Visualización de Datos con Python**\n",
    "***\n",
    "Para la realización del presente trabajo se llevo a cabo la obtención de los datos estadísticos enfocados en el tema de **Hombres y Mujeres en el Ecuador** extraidos de [Ecuador en Cifras](http://www.ecuadorencifras.gob.ec/estadisticas/).\n",
    "\n",
    "Librerías en python a utilizar: **jupyter, pandas, bokeh.**\n",
    "\n",
    "Autores : **Jorge Hurtado - Jonathan Rosero**\n"
   ]
  },
  {
   "cell_type": "code",
   "execution_count": 2,
   "metadata": {
    "collapsed": true
   },
   "outputs": [],
   "source": [
    "# Se inicia con la importacion de pandas con un respectivo alias para facilitar su llamada\n",
    "import pandas as pd"
   ]
  },
  {
   "cell_type": "code",
   "execution_count": 3,
   "metadata": {
    "scrolled": true
   },
   "outputs": [
    {
     "data": {
      "text/html": [
       "<div>\n",
       "<style>\n",
       "    .dataframe thead tr:only-child th {\n",
       "        text-align: right;\n",
       "    }\n",
       "\n",
       "    .dataframe thead th {\n",
       "        text-align: left;\n",
       "    }\n",
       "\n",
       "    .dataframe tbody tr th {\n",
       "        vertical-align: top;\n",
       "    }\n",
       "</style>\n",
       "<table border=\"1\" class=\"dataframe\">\n",
       "  <thead>\n",
       "    <tr style=\"text-align: right;\">\n",
       "      <th></th>\n",
       "      <th>GRANDES_GRUPOS_DE_EDAD</th>\n",
       "      <th>A_URBANA_M</th>\n",
       "      <th>A_URBANA_H</th>\n",
       "      <th>A_RURAL_M</th>\n",
       "      <th>A_RURAL_H</th>\n",
       "      <th>TOTAL_M</th>\n",
       "      <th>TOTAL_H</th>\n",
       "    </tr>\n",
       "  </thead>\n",
       "  <tbody>\n",
       "    <tr>\n",
       "      <th>0</th>\n",
       "      <td>15-24 años</td>\n",
       "      <td>0.009</td>\n",
       "      <td>0.012</td>\n",
       "      <td>0.025</td>\n",
       "      <td>0.028</td>\n",
       "      <td>0.015</td>\n",
       "      <td>0.018</td>\n",
       "    </tr>\n",
       "    <tr>\n",
       "      <th>1</th>\n",
       "      <td>25-39 años</td>\n",
       "      <td>0.017</td>\n",
       "      <td>0.018</td>\n",
       "      <td>0.056</td>\n",
       "      <td>0.053</td>\n",
       "      <td>0.030</td>\n",
       "      <td>0.030</td>\n",
       "    </tr>\n",
       "    <tr>\n",
       "      <th>2</th>\n",
       "      <td>40-64 años</td>\n",
       "      <td>0.054</td>\n",
       "      <td>0.038</td>\n",
       "      <td>0.205</td>\n",
       "      <td>0.134</td>\n",
       "      <td>0.104</td>\n",
       "      <td>0.072</td>\n",
       "    </tr>\n",
       "    <tr>\n",
       "      <th>3</th>\n",
       "      <td>65 años y mas</td>\n",
       "      <td>0.195</td>\n",
       "      <td>0.128</td>\n",
       "      <td>0.497</td>\n",
       "      <td>0.343</td>\n",
       "      <td>0.316</td>\n",
       "      <td>0.224</td>\n",
       "    </tr>\n",
       "    <tr>\n",
       "      <th>4</th>\n",
       "      <td>Total nacional</td>\n",
       "      <td>0.043</td>\n",
       "      <td>0.031</td>\n",
       "      <td>0.142</td>\n",
       "      <td>0.103</td>\n",
       "      <td>0.077</td>\n",
       "      <td>0.058</td>\n",
       "    </tr>\n",
       "  </tbody>\n",
       "</table>\n",
       "</div>"
      ],
      "text/plain": [
       "  GRANDES_GRUPOS_DE_EDAD  A_URBANA_M  A_URBANA_H  A_RURAL_M  A_RURAL_H  \\\n",
       "0             15-24 años       0.009       0.012      0.025      0.028   \n",
       "1             25-39 años       0.017       0.018      0.056      0.053   \n",
       "2             40-64 años       0.054       0.038      0.205      0.134   \n",
       "3          65 años y mas       0.195       0.128      0.497      0.343   \n",
       "4         Total nacional       0.043       0.031      0.142      0.103   \n",
       "\n",
       "   TOTAL_M  TOTAL_H  \n",
       "0    0.015    0.018  \n",
       "1    0.030    0.030  \n",
       "2    0.104    0.072  \n",
       "3    0.316    0.224  \n",
       "4    0.077    0.058  "
      ]
     },
     "execution_count": 3,
     "metadata": {},
     "output_type": "execute_result"
    }
   ],
   "source": [
    "# Con el uso de \".read_csv\" lemos el archivo con lo datos extraidos de EcuadorEnCifras\n",
    "pd.read_csv('./data/ANALFABETISMO_POR_AREA_Y_GRUPOS_DE_EDAD.csv')"
   ]
  },
  {
   "cell_type": "code",
   "execution_count": 4,
   "metadata": {
    "collapsed": true
   },
   "outputs": [],
   "source": [
    "# Como se va ha trabajar con el con los datos presentados anteriomente los guardamos en una variable\n",
    "tabla1 = pd.read_csv('./data/ANALFABETISMO_POR_AREA_Y_GRUPOS_DE_EDAD.csv')"
   ]
  },
  {
   "cell_type": "code",
   "execution_count": 5,
   "metadata": {},
   "outputs": [
    {
     "data": {
      "text/plain": [
       "pandas.core.frame.DataFrame"
      ]
     },
     "execution_count": 5,
     "metadata": {},
     "output_type": "execute_result"
    }
   ],
   "source": [
    "# Cabe mencionar el tipo de objeto de \"tabla1\" por lo que usaremos los atributos y metodos para explorar entre los datos\n",
    "type(tabla1)"
   ]
  },
  {
   "cell_type": "code",
   "execution_count": 6,
   "metadata": {},
   "outputs": [
    {
     "data": {
      "text/html": [
       "<div>\n",
       "<style>\n",
       "    .dataframe thead tr:only-child th {\n",
       "        text-align: right;\n",
       "    }\n",
       "\n",
       "    .dataframe thead th {\n",
       "        text-align: left;\n",
       "    }\n",
       "\n",
       "    .dataframe tbody tr th {\n",
       "        vertical-align: top;\n",
       "    }\n",
       "</style>\n",
       "<table border=\"1\" class=\"dataframe\">\n",
       "  <thead>\n",
       "    <tr style=\"text-align: right;\">\n",
       "      <th></th>\n",
       "      <th>GRANDES_GRUPOS_DE_EDAD</th>\n",
       "      <th>A_URBANA_M</th>\n",
       "      <th>A_URBANA_H</th>\n",
       "    </tr>\n",
       "  </thead>\n",
       "  <tbody>\n",
       "    <tr>\n",
       "      <th>0</th>\n",
       "      <td>15-24 años</td>\n",
       "      <td>0.009</td>\n",
       "      <td>0.012</td>\n",
       "    </tr>\n",
       "    <tr>\n",
       "      <th>1</th>\n",
       "      <td>25-39 años</td>\n",
       "      <td>0.017</td>\n",
       "      <td>0.018</td>\n",
       "    </tr>\n",
       "    <tr>\n",
       "      <th>2</th>\n",
       "      <td>40-64 años</td>\n",
       "      <td>0.054</td>\n",
       "      <td>0.038</td>\n",
       "    </tr>\n",
       "    <tr>\n",
       "      <th>3</th>\n",
       "      <td>65 años y mas</td>\n",
       "      <td>0.195</td>\n",
       "      <td>0.128</td>\n",
       "    </tr>\n",
       "    <tr>\n",
       "      <th>4</th>\n",
       "      <td>Total nacional</td>\n",
       "      <td>0.043</td>\n",
       "      <td>0.031</td>\n",
       "    </tr>\n",
       "  </tbody>\n",
       "</table>\n",
       "</div>"
      ],
      "text/plain": [
       "  GRANDES_GRUPOS_DE_EDAD  A_URBANA_M  A_URBANA_H\n",
       "0             15-24 años       0.009       0.012\n",
       "1             25-39 años       0.017       0.018\n",
       "2             40-64 años       0.054       0.038\n",
       "3          65 años y mas       0.195       0.128\n",
       "4         Total nacional       0.043       0.031"
      ]
     },
     "execution_count": 6,
     "metadata": {},
     "output_type": "execute_result"
    }
   ],
   "source": [
    "# Pandas nos permite trabajar con subconjunto en caso de tener una tabla dividida bajo ciertos parametros\n",
    "tabla1[['GRANDES_GRUPOS_DE_EDAD', 'A_URBANA_M', 'A_URBANA_H']]"
   ]
  },
  {
   "cell_type": "code",
   "execution_count": 24,
   "metadata": {},
   "outputs": [
    {
     "data": {
      "text/html": [
       "<div>\n",
       "<style>\n",
       "    .dataframe thead tr:only-child th {\n",
       "        text-align: right;\n",
       "    }\n",
       "\n",
       "    .dataframe thead th {\n",
       "        text-align: left;\n",
       "    }\n",
       "\n",
       "    .dataframe tbody tr th {\n",
       "        vertical-align: top;\n",
       "    }\n",
       "</style>\n",
       "<table border=\"1\" class=\"dataframe\">\n",
       "  <thead>\n",
       "    <tr style=\"text-align: right;\">\n",
       "      <th></th>\n",
       "      <th>GRANDES_GRUPOS_DE_EDAD</th>\n",
       "      <th>A_URBANA_M</th>\n",
       "      <th>A_URBANA_H</th>\n",
       "      <th>A_RURAL_M</th>\n",
       "      <th>A_RURAL_H</th>\n",
       "      <th>TOTAL_M</th>\n",
       "      <th>TOTAL_H</th>\n",
       "    </tr>\n",
       "  </thead>\n",
       "  <tbody>\n",
       "    <tr>\n",
       "      <th>2</th>\n",
       "      <td>40-64 años</td>\n",
       "      <td>0.054</td>\n",
       "      <td>0.038</td>\n",
       "      <td>0.205</td>\n",
       "      <td>0.134</td>\n",
       "      <td>0.104</td>\n",
       "      <td>0.072</td>\n",
       "    </tr>\n",
       "  </tbody>\n",
       "</table>\n",
       "</div>"
      ],
      "text/plain": [
       "  GRANDES_GRUPOS_DE_EDAD  A_URBANA_M  A_URBANA_H  A_RURAL_M  A_RURAL_H  \\\n",
       "2             40-64 años       0.054       0.038      0.205      0.134   \n",
       "\n",
       "   TOTAL_M  TOTAL_H  \n",
       "2    0.104    0.072  "
      ]
     },
     "execution_count": 24,
     "metadata": {},
     "output_type": "execute_result"
    }
   ],
   "source": [
    "# A la vez que podemso buscar un dato en especifico\n",
    "tabla1.loc[tabla1.GRANDES_GRUPOS_DE_EDAD == '40-64 años']"
   ]
  },
  {
   "cell_type": "code",
   "execution_count": 25,
   "metadata": {},
   "outputs": [
    {
     "data": {
      "text/plain": [
       "0.0636"
      ]
     },
     "execution_count": 25,
     "metadata": {},
     "output_type": "execute_result"
    }
   ],
   "source": [
    "# También podemos utilizar funciones propias de pandas, en este caso sacamos la media con el uso de \".mean()\"\n",
    "mediaUrbanaM = tabla1.A_URBANA_M.mean()\n",
    "mediaUrbanaM"
   ]
  },
  {
   "cell_type": "code",
   "execution_count": 26,
   "metadata": {},
   "outputs": [
    {
     "data": {
      "text/plain": [
       "GRANDES_GRUPOS_DE_EDAD\n",
       "15-24 años        0.015\n",
       "25-39 años        0.030\n",
       "40-64 años        0.104\n",
       "65 años y mas     0.316\n",
       "Total nacional    0.077\n",
       "Name: TOTAL_M, dtype: float64"
      ]
     },
     "execution_count": 26,
     "metadata": {},
     "output_type": "execute_result"
    }
   ],
   "source": [
    "# Podemos agrupar los datos por columnas\n",
    "tabla1.groupby('GRANDES_GRUPOS_DE_EDAD')['TOTAL_M'].mean()"
   ]
  },
  {
   "cell_type": "code",
   "execution_count": 27,
   "metadata": {},
   "outputs": [
    {
     "data": {
      "text/plain": [
       "<matplotlib.axes._subplots.AxesSubplot at 0x1a07ab540b8>"
      ]
     },
     "execution_count": 27,
     "metadata": {},
     "output_type": "execute_result"
    },
    {
     "data": {
      "image/png": "[encoded data removed]",
      "text/plain": [
       "<matplotlib.figure.Figure at 0x1a07a270ac8>"
      ]
     },
     "metadata": {},
     "output_type": "display_data"
    }
   ],
   "source": [
    "# Por parte de pandas sugiere la presentacion de los datos tras es uso de matplotlib\n",
    "import matplotlib.pyplot\n",
    "\n",
    "%matplotlib inline\n",
    "\n",
    "gytle = tabla1.groupby('GRANDES_GRUPOS_DE_EDAD')['TOTAL_M'].mean()\n",
    "\n",
    "gytle.plot()"
   ]
  },
  {
   "cell_type": "code",
   "execution_count": 28,
   "metadata": {},
   "outputs": [
    {
     "data": {
      "text/html": [
       "\n",
       "    <div class=\"bk-root\">\n",
       "        <a href=\"https://bokeh.pydata.org\" target=\"_blank\" class=\"bk-logo bk-logo-small bk-logo-notebook\"></a>\n",
       "        <span id=\"b6f12e65-98e2-497f-bbdc-612df8a4945c\">Loading BokehJS ...</span>\n",
       "    </div>"
      ]
     },
     "metadata": {},
     "output_type": "display_data"
    },
    {
     "data": {
      "application/javascript": [
       "\n",
       "(function(root) {\n",
       "  function now() {\n",
       "    return new Date();\n",
       "  }\n",
       "\n",
       "  var force = true;\n",
       "\n",
       "  if (typeof (root._bokeh_onload_callbacks) === \"undefined\" || force === true) {\n",
       "    root._bokeh_onload_callbacks = [];\n",
       "    root._bokeh_is_loading = undefined;\n",
       "  }\n",
       "\n",
       "  var JS_MIME_TYPE = 'application/javascript';\n",
       "  var HTML_MIME_TYPE = 'text/html';\n",
       "  var EXEC_MIME_TYPE = 'application/vnd.bokehjs_exec.v0+json';\n",
       "  var CLASS_NAME = 'output_bokeh rendered_html';\n",
       "\n",
       "  /**\n",
       "   * Render data to the DOM node\n",
       "   */\n",
       "  function render(props, node) {\n",
       "    var script = document.createElement(\"script\");\n",
       "    node.appendChild(script);\n",
       "  }\n",
       "\n",
       "  /**\n",
       "   * Handle when an output is cleared or removed\n",
       "   */\n",
       "  function handleClearOutput(event, handle) {\n",
       "    var cell = handle.cell;\n",
       "\n",
       "    var id = cell.output_area._bokeh_element_id;\n",
       "    var server_id = cell.output_area._bokeh_server_id;\n",
       "    // Clean up Bokeh references\n",
       "    if (id !== undefined) {\n",
       "      Bokeh.index[id].model.document.clear();\n",
       "      delete Bokeh.index[id];\n",
       "    }\n",
       "\n",
       "    if (server_id !== undefined) {\n",
       "      // Clean up Bokeh references\n",
       "      var cmd = \"from bokeh.io.state import curstate; print(curstate().uuid_to_server['\" + server_id + \"'].get_sessions()[0].document.roots[0]._id)\";\n",
       "      cell.notebook.kernel.execute(cmd, {\n",
       "        iopub: {\n",
       "          output: function(msg) {\n",
       "            var element_id = msg.content.text.trim();\n",
       "            Bokeh.index[element_id].model.document.clear();\n",
       "            delete Bokeh.index[element_id];\n",
       "          }\n",
       "        }\n",
       "      });\n",
       "      // Destroy server and session\n",
       "      var cmd = \"import bokeh.io.notebook as ion; ion.destroy_server('\" + server_id + \"')\";\n",
       "      cell.notebook.kernel.execute(cmd);\n",
       "    }\n",
       "  }\n",
       "\n",
       "  /**\n",
       "   * Handle when a new output is added\n",
       "   */\n",
       "  function handleAddOutput(event, handle) {\n",
       "    var output_area = handle.output_area;\n",
       "    var output = handle.output;\n",
       "\n",
       "    // limit handleAddOutput to display_data with EXEC_MIME_TYPE content only\n",
       "    if ((output.output_type != \"display_data\") || (!output.data.hasOwnProperty(EXEC_MIME_TYPE))) {\n",
       "      return\n",
       "    }\n",
       "\n",
       "    var toinsert = output_area.element.find(`.${CLASS_NAME.split(' ')[0]}`);\n",
       "\n",
       "    if (output.metadata[EXEC_MIME_TYPE][\"id\"] !== undefined) {\n",
       "      toinsert[0].firstChild.textContent = output.data[JS_MIME_TYPE];\n",
       "      // store reference to embed id on output_area\n",
       "      output_area._bokeh_element_id = output.metadata[EXEC_MIME_TYPE][\"id\"];\n",
       "    }\n",
       "    if (output.metadata[EXEC_MIME_TYPE][\"server_id\"] !== undefined) {\n",
       "      var bk_div = document.createElement(\"div\");\n",
       "      bk_div.innerHTML = output.data[HTML_MIME_TYPE];\n",
       "      var script_attrs = bk_div.children[0].attributes;\n",
       "      for (var i = 0; i < script_attrs.length; i++) {\n",
       "        toinsert[0].firstChild.setAttribute(script_attrs[i].name, script_attrs[i].value);\n",
       "      }\n",
       "      // store reference to server id on output_area\n",
       "      output_area._bokeh_server_id = output.metadata[EXEC_MIME_TYPE][\"server_id\"];\n",
       "    }\n",
       "  }\n",
       "\n",
       "  function register_renderer(events, OutputArea) {\n",
       "\n",
       "    function append_mime(data, metadata, element) {\n",
       "      // create a DOM node to render to\n",
       "      var toinsert = this.create_output_subarea(\n",
       "        metadata,\n",
       "        CLASS_NAME,\n",
       "        EXEC_MIME_TYPE\n",
       "      );\n",
       "      this.keyboard_manager.register_events(toinsert);\n",
       "      // Render to node\n",
       "      var props = {data: data, metadata: metadata[EXEC_MIME_TYPE]};\n",
       "      render(props, toinsert[0]);\n",
       "      element.append(toinsert);\n",
       "      return toinsert\n",
       "    }\n",
       "\n",
       "    /* Handle when an output is cleared or removed */\n",
       "    events.on('clear_output.CodeCell', handleClearOutput);\n",
       "    events.on('delete.Cell', handleClearOutput);\n",
       "\n",
       "    /* Handle when a new output is added */\n",
       "    events.on('output_added.OutputArea', handleAddOutput);\n",
       "\n",
       "    /**\n",
       "     * Register the mime type and append_mime function with output_area\n",
       "     */\n",
       "    OutputArea.prototype.register_mime_type(EXEC_MIME_TYPE, append_mime, {\n",
       "      /* Is output safe? */\n",
       "      safe: true,\n",
       "      /* Index of renderer in `output_area.display_order` */\n",
       "      index: 0\n",
       "    });\n",
       "  }\n",
       "\n",
       "  // register the mime type if in Jupyter Notebook environment and previously unregistered\n",
       "  if (root.Jupyter !== undefined) {\n",
       "    var events = require('base/js/events');\n",
       "    var OutputArea = require('notebook/js/outputarea').OutputArea;\n",
       "\n",
       "    if (OutputArea.prototype.mime_types().indexOf(EXEC_MIME_TYPE) == -1) {\n",
       "      register_renderer(events, OutputArea);\n",
       "    }\n",
       "  }\n",
       "\n",
       "  \n",
       "  if (typeof (root._bokeh_timeout) === \"undefined\" || force === true) {\n",
       "    root._bokeh_timeout = Date.now() + 5000;\n",
       "    root._bokeh_failed_load = false;\n",
       "  }\n",
       "\n",
       "  var NB_LOAD_WARNING = {'data': {'text/html':\n",
       "     \"<div style='background-color: #fdd'>\\n\"+\n",
       "     \"<p>\\n\"+\n",
       "     \"BokehJS does not appear to have successfully loaded. If loading BokehJS from CDN, this \\n\"+\n",
       "     \"may be due to a slow or bad network connection. Possible fixes:\\n\"+\n",
       "     \"</p>\\n\"+\n",
       "     \"<ul>\\n\"+\n",
       "     \"<li>re-rerun `output_notebook()` to attempt to load from CDN again, or</li>\\n\"+\n",
       "     \"<li>use INLINE resources instead, as so:</li>\\n\"+\n",
       "     \"</ul>\\n\"+\n",
       "     \"<code>\\n\"+\n",
       "     \"from bokeh.resources import INLINE\\n\"+\n",
       "     \"output_notebook(resources=INLINE)\\n\"+\n",
       "     \"</code>\\n\"+\n",
       "     \"</div>\"}};\n",
       "\n",
       "  function display_loaded() {\n",
       "    var el = document.getElementById(\"b6f12e65-98e2-497f-bbdc-612df8a4945c\");\n",
       "    if (el != null) {\n",
       "      el.textContent = \"BokehJS is loading...\";\n",
       "    }\n",
       "    if (root.Bokeh !== undefined) {\n",
       "      if (el != null) {\n",
       "        el.textContent = \"BokehJS \" + root.Bokeh.version + \" successfully loaded.\";\n",
       "      }\n",
       "    } else if (Date.now() < root._bokeh_timeout) {\n",
       "      setTimeout(display_loaded, 100)\n",
       "    }\n",
       "  }\n",
       "\n",
       "\n",
       "  function run_callbacks() {\n",
       "    try {\n",
       "      root._bokeh_onload_callbacks.forEach(function(callback) { callback() });\n",
       "    }\n",
       "    finally {\n",
       "      delete root._bokeh_onload_callbacks\n",
       "    }\n",
       "    console.info(\"Bokeh: all callbacks have finished\");\n",
       "  }\n",
       "\n",
       "  function load_libs(js_urls, callback) {\n",
       "    root._bokeh_onload_callbacks.push(callback);\n",
       "    if (root._bokeh_is_loading > 0) {\n",
       "      console.log(\"Bokeh: BokehJS is being loaded, scheduling callback at\", now());\n",
       "      return null;\n",
       "    }\n",
       "    if (js_urls == null || js_urls.length === 0) {\n",
       "      run_callbacks();\n",
       "      return null;\n",
       "    }\n",
       "    console.log(\"Bokeh: BokehJS not loaded, scheduling load and callback at\", now());\n",
       "    root._bokeh_is_loading = js_urls.length;\n",
       "    for (var i = 0; i < js_urls.length; i++) {\n",
       "      var url = js_urls[i];\n",
       "      var s = document.createElement('script');\n",
       "      s.src = url;\n",
       "      s.async = false;\n",
       "      s.onreadystatechange = s.onload = function() {\n",
       "        root._bokeh_is_loading--;\n",
       "        if (root._bokeh_is_loading === 0) {\n",
       "          console.log(\"Bokeh: all BokehJS libraries loaded\");\n",
       "          run_callbacks()\n",
       "        }\n",
       "      };\n",
       "      s.onerror = function() {\n",
       "        console.warn(\"failed to load library \" + url);\n",
       "      };\n",
       "      console.log(\"Bokeh: injecting script tag for BokehJS library: \", url);\n",
       "      document.getElementsByTagName(\"head\")[0].appendChild(s);\n",
       "    }\n",
       "  };var element = document.getElementById(\"b6f12e65-98e2-497f-bbdc-612df8a4945c\");\n",
       "  if (element == null) {\n",
       "    console.log(\"Bokeh: ERROR: autoload.js configured with elementid 'b6f12e65-98e2-497f-bbdc-612df8a4945c' but no matching script tag was found. \")\n",
       "    return false;\n",
       "  }\n",
       "\n",
       "  var js_urls = [\"https://cdn.pydata.org/bokeh/release/bokeh-0.12.10.min.js\", \"https://cdn.pydata.org/bokeh/release/bokeh-widgets-0.12.10.min.js\", \"https://cdn.pydata.org/bokeh/release/bokeh-tables-0.12.10.min.js\", \"https://cdn.pydata.org/bokeh/release/bokeh-gl-0.12.10.min.js\"];\n",
       "\n",
       "  var inline_js = [\n",
       "    function(Bokeh) {\n",
       "      Bokeh.set_log_level(\"info\");\n",
       "    },\n",
       "    \n",
       "    function(Bokeh) {\n",
       "      \n",
       "    },\n",
       "    function(Bokeh) {\n",
       "      console.log(\"Bokeh: injecting CSS: https://cdn.pydata.org/bokeh/release/bokeh-0.12.10.min.css\");\n",
       "      Bokeh.embed.inject_css(\"https://cdn.pydata.org/bokeh/release/bokeh-0.12.10.min.css\");\n",
       "      console.log(\"Bokeh: injecting CSS: https://cdn.pydata.org/bokeh/release/bokeh-widgets-0.12.10.min.css\");\n",
       "      Bokeh.embed.inject_css(\"https://cdn.pydata.org/bokeh/release/bokeh-widgets-0.12.10.min.css\");\n",
       "      console.log(\"Bokeh: injecting CSS: https://cdn.pydata.org/bokeh/release/bokeh-tables-0.12.10.min.css\");\n",
       "      Bokeh.embed.inject_css(\"https://cdn.pydata.org/bokeh/release/bokeh-tables-0.12.10.min.css\");\n",
       "    }\n",
       "  ];\n",
       "\n",
       "  function run_inline_js() {\n",
       "    \n",
       "    if ((root.Bokeh !== undefined) || (force === true)) {\n",
       "      for (var i = 0; i < inline_js.length; i++) {\n",
       "        inline_js[i].call(root, root.Bokeh);\n",
       "      }if (force === true) {\n",
       "        display_loaded();\n",
       "      }} else if (Date.now() < root._bokeh_timeout) {\n",
       "      setTimeout(run_inline_js, 100);\n",
       "    } else if (!root._bokeh_failed_load) {\n",
       "      console.log(\"Bokeh: BokehJS failed to load within specified timeout.\");\n",
       "      root._bokeh_failed_load = true;\n",
       "    } else if (force !== true) {\n",
       "      var cell = $(document.getElementById(\"b6f12e65-98e2-497f-bbdc-612df8a4945c\")).parents('.cell').data().cell;\n",
       "      cell.output_area.append_execute_result(NB_LOAD_WARNING)\n",
       "    }\n",
       "\n",
       "  }\n",
       "\n",
       "  if (root._bokeh_is_loading === 0) {\n",
       "    console.log(\"Bokeh: BokehJS loaded, going straight to plotting\");\n",
       "    run_inline_js();\n",
       "  } else {\n",
       "    load_libs(js_urls, function() {\n",
       "      console.log(\"Bokeh: BokehJS plotting callback run at\", now());\n",
       "      run_inline_js();\n",
       "    });\n",
       "  }\n",
       "}(window));"
      ],
      "application/vnd.bokehjs_load.v0+json": "\n(function(root) {\n  function now() {\n    return new Date();\n  }\n\n  var force = true;\n\n  if (typeof (root._bokeh_onload_callbacks) === \"undefined\" || force === true) {\n    root._bokeh_onload_callbacks = [];\n    root._bokeh_is_loading = undefined;\n  }\n\n  \n\n  \n  if (typeof (root._bokeh_timeout) === \"undefined\" || force === true) {\n    root._bokeh_timeout = Date.now() + 5000;\n    root._bokeh_failed_load = false;\n  }\n\n  var NB_LOAD_WARNING = {'data': {'text/html':\n     \"<div style='background-color: #fdd'>\\n\"+\n     \"<p>\\n\"+\n     \"BokehJS does not appear to have successfully loaded. If loading BokehJS from CDN, this \\n\"+\n     \"may be due to a slow or bad network connection. Possible fixes:\\n\"+\n     \"</p>\\n\"+\n     \"<ul>\\n\"+\n     \"<li>re-rerun `output_notebook()` to attempt to load from CDN again, or</li>\\n\"+\n     \"<li>use INLINE resources instead, as so:</li>\\n\"+\n     \"</ul>\\n\"+\n     \"<code>\\n\"+\n     \"from bokeh.resources import INLINE\\n\"+\n     \"output_notebook(resources=INLINE)\\n\"+\n     \"</code>\\n\"+\n     \"</div>\"}};\n\n  function display_loaded() {\n    var el = document.getElementById(\"b6f12e65-98e2-497f-bbdc-612df8a4945c\");\n    if (el != null) {\n      el.textContent = \"BokehJS is loading...\";\n    }\n    if (root.Bokeh !== undefined) {\n      if (el != null) {\n        el.textContent = \"BokehJS \" + root.Bokeh.version + \" successfully loaded.\";\n      }\n    } else if (Date.now() < root._bokeh_timeout) {\n      setTimeout(display_loaded, 100)\n    }\n  }\n\n\n  function run_callbacks() {\n    try {\n      root._bokeh_onload_callbacks.forEach(function(callback) { callback() });\n    }\n    finally {\n      delete root._bokeh_onload_callbacks\n    }\n    console.info(\"Bokeh: all callbacks have finished\");\n  }\n\n  function load_libs(js_urls, callback) {\n    root._bokeh_onload_callbacks.push(callback);\n    if (root._bokeh_is_loading > 0) {\n      console.log(\"Bokeh: BokehJS is being loaded, scheduling callback at\", now());\n      return null;\n    }\n    if (js_urls == null || js_urls.length === 0) {\n      run_callbacks();\n      return null;\n    }\n    console.log(\"Bokeh: BokehJS not loaded, scheduling load and callback at\", now());\n    root._bokeh_is_loading = js_urls.length;\n    for (var i = 0; i < js_urls.length; i++) {\n      var url = js_urls[i];\n      var s = document.createElement('script');\n      s.src = url;\n      s.async = false;\n      s.onreadystatechange = s.onload = function() {\n        root._bokeh_is_loading--;\n        if (root._bokeh_is_loading === 0) {\n          console.log(\"Bokeh: all BokehJS libraries loaded\");\n          run_callbacks()\n        }\n      };\n      s.onerror = function() {\n        console.warn(\"failed to load library \" + url);\n      };\n      console.log(\"Bokeh: injecting script tag for BokehJS library: \", url);\n      document.getElementsByTagName(\"head\")[0].appendChild(s);\n    }\n  };var element = document.getElementById(\"b6f12e65-98e2-497f-bbdc-612df8a4945c\");\n  if (element == null) {\n    console.log(\"Bokeh: ERROR: autoload.js configured with elementid 'b6f12e65-98e2-497f-bbdc-612df8a4945c' but no matching script tag was found. \")\n    return false;\n  }\n\n  var js_urls = [\"https://cdn.pydata.org/bokeh/release/bokeh-0.12.10.min.js\", \"https://cdn.pydata.org/bokeh/release/bokeh-widgets-0.12.10.min.js\", \"https://cdn.pydata.org/bokeh/release/bokeh-tables-0.12.10.min.js\", \"https://cdn.pydata.org/bokeh/release/bokeh-gl-0.12.10.min.js\"];\n\n  var inline_js = [\n    function(Bokeh) {\n      Bokeh.set_log_level(\"info\");\n    },\n    \n    function(Bokeh) {\n      \n    },\n    function(Bokeh) {\n      console.log(\"Bokeh: injecting CSS: https://cdn.pydata.org/bokeh/release/bokeh-0.12.10.min.css\");\n      Bokeh.embed.inject_css(\"https://cdn.pydata.org/bokeh/release/bokeh-0.12.10.min.css\");\n      console.log(\"Bokeh: injecting CSS: https://cdn.pydata.org/bokeh/release/bokeh-widgets-0.12.10.min.css\");\n      Bokeh.embed.inject_css(\"https://cdn.pydata.org/bokeh/release/bokeh-widgets-0.12.10.min.css\");\n      console.log(\"Bokeh: injecting CSS: https://cdn.pydata.org/bokeh/release/bokeh-tables-0.12.10.min.css\");\n      Bokeh.embed.inject_css(\"https://cdn.pydata.org/bokeh/release/bokeh-tables-0.12.10.min.css\");\n    }\n  ];\n\n  function run_inline_js() {\n    \n    if ((root.Bokeh !== undefined) || (force === true)) {\n      for (var i = 0; i < inline_js.length; i++) {\n        inline_js[i].call(root, root.Bokeh);\n      }if (force === true) {\n        display_loaded();\n      }} else if (Date.now() < root._bokeh_timeout) {\n      setTimeout(run_inline_js, 100);\n    } else if (!root._bokeh_failed_load) {\n      console.log(\"Bokeh: BokehJS failed to load within specified timeout.\");\n      root._bokeh_failed_load = true;\n    } else if (force !== true) {\n      var cell = $(document.getElementById(\"b6f12e65-98e2-497f-bbdc-612df8a4945c\")).parents('.cell').data().cell;\n      cell.output_area.append_execute_result(NB_LOAD_WARNING)\n    }\n\n  }\n\n  if (root._bokeh_is_loading === 0) {\n    console.log(\"Bokeh: BokehJS loaded, going straight to plotting\");\n    run_inline_js();\n  } else {\n    load_libs(js_urls, function() {\n      console.log(\"Bokeh: BokehJS plotting callback run at\", now());\n      run_inline_js();\n    });\n  }\n}(window));"
     },
     "metadata": {},
     "output_type": "display_data"
    }
   ],
   "source": [
    "# Importamos la libreria de bokeh para presentar los datos leidos por pandas\n",
    "from bokeh.io import output_notebook, show\n",
    "from bokeh.plotting import figure\n",
    "\n",
    "# Llamamos a output_notebook para mostrar mostrar los resultanos en el cuaderno de jupyter\n",
    "output_notebook()"
   ]
  },
  {
   "cell_type": "code",
   "execution_count": 74,
   "metadata": {},
   "outputs": [
    {
     "data": {
      "text/html": [
       "\n",
       "<div class=\"bk-root\">\n",
       "    <div class=\"bk-plotdiv\" id=\"37bfbd22-381b-4b35-a032-f1fcd9f54198\"></div>\n",
       "</div>"
      ]
     },
     "metadata": {},
     "output_type": "display_data"
    },
    {
     "data": {
      "application/javascript": [
       "(function(root) {\n",
       "  function embed_document(root) {\n",
       "    var docs_json = {\"ed2921c6-5392-4ef7-b3bf-caa15ed6f6e5\":{\"roots\":{\"references\":[{\"attributes\":{},\"id\":\"95267310-57e2-47ed-a4d3-6807b3172782\",\"type\":\"CategoricalScale\"},{\"attributes\":{\"bottom_units\":\"screen\",\"fill_alpha\":{\"value\":0.5},\"fill_color\":{\"value\":\"lightgrey\"},\"left_units\":\"screen\",\"level\":\"overlay\",\"line_alpha\":{\"value\":1.0},\"line_color\":{\"value\":\"black\"},\"line_dash\":[4,4],\"line_width\":{\"value\":2},\"plot\":null,\"render_mode\":\"css\",\"right_units\":\"screen\",\"top_units\":\"screen\"},\"id\":\"c91bff62-af7c-400e-a3f6-69ed23adcda0\",\"type\":\"BoxAnnotation\"},{\"attributes\":{\"callback\":null,\"column_names\":[\"A_RURAL_H_count\",\"A_RURAL_H_mean\",\"A_RURAL_H_std\",\"A_RURAL_H_min\",\"A_RURAL_H_25%\",\"A_RURAL_H_50%\",\"A_RURAL_H_75%\",\"A_RURAL_H_max\",\"A_RURAL_M_count\",\"A_RURAL_M_mean\",\"A_RURAL_M_std\",\"A_RURAL_M_min\",\"A_RURAL_M_25%\",\"A_RURAL_M_50%\",\"A_RURAL_M_75%\",\"A_RURAL_M_max\",\"A_URBANA_H_count\",\"A_URBANA_H_mean\",\"A_URBANA_H_std\",\"A_URBANA_H_min\",\"A_URBANA_H_25%\",\"A_URBANA_H_50%\",\"A_URBANA_H_75%\",\"A_URBANA_H_max\",\"A_URBANA_M_count\",\"A_URBANA_M_mean\",\"A_URBANA_M_std\",\"A_URBANA_M_min\",\"A_URBANA_M_25%\",\"A_URBANA_M_50%\",\"A_URBANA_M_75%\",\"A_URBANA_M_max\",\"TOTAL_H_count\",\"TOTAL_H_mean\",\"TOTAL_H_std\",\"TOTAL_H_min\",\"TOTAL_H_25%\",\"TOTAL_H_50%\",\"TOTAL_H_75%\",\"TOTAL_H_max\",\"TOTAL_M_count\",\"TOTAL_M_mean\",\"TOTAL_M_std\",\"TOTAL_M_min\",\"TOTAL_M_25%\",\"TOTAL_M_50%\",\"TOTAL_M_75%\",\"TOTAL_M_max\",\"GRANDES_GRUPOS_DE_EDAD\"],\"data\":{\"A_RURAL_H_25%\":{\"__ndarray__\":\"eOkmMQisnD+JQWDl0CKrP/T91HjpJsE/wMqhRbbz1T+S7Xw/NV66Pw==\",\"dtype\":\"float64\",\"shape\":[5]},\"A_RURAL_H_50%\":{\"__ndarray__\":\"eOkmMQisnD+JQWDl0CKrP/T91HjpJsE/wMqhRbbz1T+S7Xw/NV66Pw==\",\"dtype\":\"float64\",\"shape\":[5]},\"A_RURAL_H_75%\":{\"__ndarray__\":\"eOkmMQisnD+JQWDl0CKrP/T91HjpJsE/wMqhRbbz1T+S7Xw/NV66Pw==\",\"dtype\":\"float64\",\"shape\":[5]},\"A_RURAL_H_count\":{\"__ndarray__\":\"AAAAAAAA8D8AAAAAAADwPwAAAAAAAPA/AAAAAAAA8D8AAAAAAADwPw==\",\"dtype\":\"float64\",\"shape\":[5]},\"A_RURAL_H_max\":{\"__ndarray__\":\"eOkmMQisnD+JQWDl0CKrP/T91HjpJsE/wMqhRbbz1T+S7Xw/NV66Pw==\",\"dtype\":\"float64\",\"shape\":[5]},\"A_RURAL_H_mean\":{\"__ndarray__\":\"eOkmMQisnD+JQWDl0CKrP/T91HjpJsE/wMqhRbbz1T+S7Xw/NV66Pw==\",\"dtype\":\"float64\",\"shape\":[5]},\"A_RURAL_H_min\":{\"__ndarray__\":\"eOkmMQisnD+JQWDl0CKrP/T91HjpJsE/wMqhRbbz1T+S7Xw/NV66Pw==\",\"dtype\":\"float64\",\"shape\":[5]},\"A_RURAL_H_std\":{\"__ndarray__\":\"AAAAAAAA+H8AAAAAAAD4fwAAAAAAAPh/AAAAAAAA+H8AAAAAAAD4fw==\",\"dtype\":\"float64\",\"shape\":[5]},\"A_RURAL_M_25%\":{\"__ndarray__\":\"mpmZmZmZmT946SYxCKysPz0K16NwPco/AyuHFtnO3z+TGARWDi3CPw==\",\"dtype\":\"float64\",\"shape\":[5]},\"A_RURAL_M_50%\":{\"__ndarray__\":\"mpmZmZmZmT946SYxCKysPz0K16NwPco/AyuHFtnO3z+TGARWDi3CPw==\",\"dtype\":\"float64\",\"shape\":[5]},\"A_RURAL_M_75%\":{\"__ndarray__\":\"mpmZmZmZmT946SYxCKysPz0K16NwPco/AyuHFtnO3z+TGARWDi3CPw==\",\"dtype\":\"float64\",\"shape\":[5]},\"A_RURAL_M_count\":{\"__ndarray__\":\"AAAAAAAA8D8AAAAAAADwPwAAAAAAAPA/AAAAAAAA8D8AAAAAAADwPw==\",\"dtype\":\"float64\",\"shape\":[5]},\"A_RURAL_M_max\":{\"__ndarray__\":\"mpmZmZmZmT946SYxCKysPz0K16NwPco/AyuHFtnO3z+TGARWDi3CPw==\",\"dtype\":\"float64\",\"shape\":[5]},\"A_RURAL_M_mean\":{\"__ndarray__\":\"mpmZmZmZmT946SYxCKysPz0K16NwPco/AyuHFtnO3z+TGARWDi3CPw==\",\"dtype\":\"float64\",\"shape\":[5]},\"A_RURAL_M_min\":{\"__ndarray__\":\"mpmZmZmZmT946SYxCKysPz0K16NwPco/AyuHFtnO3z+TGARWDi3CPw==\",\"dtype\":\"float64\",\"shape\":[5]},\"A_RURAL_M_std\":{\"__ndarray__\":\"AAAAAAAA+H8AAAAAAAD4fwAAAAAAAPh/AAAAAAAA+H8AAAAAAAD4fw==\",\"dtype\":\"float64\",\"shape\":[5]},\"A_URBANA_H_25%\":{\"__ndarray__\":\"+n5qvHSTiD8830+Nl26SP9v5fmq8dKM//Knx0k1iwD9YObTIdr6fPw==\",\"dtype\":\"float64\",\"shape\":[5]},\"A_URBANA_H_50%\":{\"__ndarray__\":\"+n5qvHSTiD8830+Nl26SP9v5fmq8dKM//Knx0k1iwD9YObTIdr6fPw==\",\"dtype\":\"float64\",\"shape\":[5]},\"A_URBANA_H_75%\":{\"__ndarray__\":\"+n5qvHSTiD8830+Nl26SP9v5fmq8dKM//Knx0k1iwD9YObTIdr6fPw==\",\"dtype\":\"float64\",\"shape\":[5]},\"A_URBANA_H_count\":{\"__ndarray__\":\"AAAAAAAA8D8AAAAAAADwPwAAAAAAAPA/AAAAAAAA8D8AAAAAAADwPw==\",\"dtype\":\"float64\",\"shape\":[5]},\"A_URBANA_H_max\":{\"__ndarray__\":\"+n5qvHSTiD8830+Nl26SP9v5fmq8dKM//Knx0k1iwD9YObTIdr6fPw==\",\"dtype\":\"float64\",\"shape\":[5]},\"A_URBANA_H_mean\":{\"__ndarray__\":\"+n5qvHSTiD8830+Nl26SP9v5fmq8dKM//Knx0k1iwD9YObTIdr6fPw==\",\"dtype\":\"float64\",\"shape\":[5]},\"A_URBANA_H_min\":{\"__ndarray__\":\"+n5qvHSTiD8830+Nl26SP9v5fmq8dKM//Knx0k1iwD9YObTIdr6fPw==\",\"dtype\":\"float64\",\"shape\":[5]},\"A_URBANA_H_std\":{\"__ndarray__\":\"AAAAAAAA+H8AAAAAAAD4fwAAAAAAAPh/AAAAAAAA+H8AAAAAAAD4fw==\",\"dtype\":\"float64\",\"shape\":[5]},\"A_URBANA_M_25%\":{\"__ndarray__\":\"PN9PjZdugj+cxCCwcmiRP9rO91Pjpas/9ihcj8L1yD9qvHSTGASmPw==\",\"dtype\":\"float64\",\"shape\":[5]},\"A_URBANA_M_50%\":{\"__ndarray__\":\"PN9PjZdugj+cxCCwcmiRP9rO91Pjpas/9ihcj8L1yD9qvHSTGASmPw==\",\"dtype\":\"float64\",\"shape\":[5]},\"A_URBANA_M_75%\":{\"__ndarray__\":\"PN9PjZdugj+cxCCwcmiRP9rO91Pjpas/9ihcj8L1yD9qvHSTGASmPw==\",\"dtype\":\"float64\",\"shape\":[5]},\"A_URBANA_M_count\":{\"__ndarray__\":\"AAAAAAAA8D8AAAAAAADwPwAAAAAAAPA/AAAAAAAA8D8AAAAAAADwPw==\",\"dtype\":\"float64\",\"shape\":[5]},\"A_URBANA_M_max\":{\"__ndarray__\":\"PN9PjZdugj+cxCCwcmiRP9rO91Pjpas/9ihcj8L1yD9qvHSTGASmPw==\",\"dtype\":\"float64\",\"shape\":[5]},\"A_URBANA_M_mean\":{\"__ndarray__\":\"PN9PjZdugj+cxCCwcmiRP9rO91Pjpas/9ihcj8L1yD9qvHSTGASmPw==\",\"dtype\":\"float64\",\"shape\":[5]},\"A_URBANA_M_min\":{\"__ndarray__\":\"PN9PjZdugj+cxCCwcmiRP9rO91Pjpas/9ihcj8L1yD9qvHSTGASmPw==\",\"dtype\":\"float64\",\"shape\":[5]},\"A_URBANA_M_std\":{\"__ndarray__\":\"AAAAAAAA+H8AAAAAAAD4fwAAAAAAAPh/AAAAAAAA+H8AAAAAAAD4fw==\",\"dtype\":\"float64\",\"shape\":[5]},\"GRANDES_GRUPOS_DE_EDAD\":[\"15-24 a\\u00f1os\",\"25-39 a\\u00f1os\",\"40-64 a\\u00f1os\",\"65 a\\u00f1os y mas\",\"Total nacional\"],\"TOTAL_H_25%\":{\"__ndarray__\":\"PN9PjZdukj+4HoXrUbiePzzfT42XbrI/eOkmMQiszD8YBFYOLbKtPw==\",\"dtype\":\"float64\",\"shape\":[5]},\"TOTAL_H_50%\":{\"__ndarray__\":\"PN9PjZdukj+4HoXrUbiePzzfT42XbrI/eOkmMQiszD8YBFYOLbKtPw==\",\"dtype\":\"float64\",\"shape\":[5]},\"TOTAL_H_75%\":{\"__ndarray__\":\"PN9PjZdukj+4HoXrUbiePzzfT42XbrI/eOkmMQiszD8YBFYOLbKtPw==\",\"dtype\":\"float64\",\"shape\":[5]},\"TOTAL_H_count\":{\"__ndarray__\":\"AAAAAAAA8D8AAAAAAADwPwAAAAAAAPA/AAAAAAAA8D8AAAAAAADwPw==\",\"dtype\":\"float64\",\"shape\":[5]},\"TOTAL_H_max\":{\"__ndarray__\":\"PN9PjZdukj+4HoXrUbiePzzfT42XbrI/eOkmMQiszD8YBFYOLbKtPw==\",\"dtype\":\"float64\",\"shape\":[5]},\"TOTAL_H_mean\":{\"__ndarray__\":\"PN9PjZdukj+4HoXrUbiePzzfT42XbrI/eOkmMQiszD8YBFYOLbKtPw==\",\"dtype\":\"float64\",\"shape\":[5]},\"TOTAL_H_min\":{\"__ndarray__\":\"PN9PjZdukj+4HoXrUbiePzzfT42XbrI/eOkmMQiszD8YBFYOLbKtPw==\",\"dtype\":\"float64\",\"shape\":[5]},\"TOTAL_H_std\":{\"__ndarray__\":\"AAAAAAAA+H8AAAAAAAD4fwAAAAAAAPh/AAAAAAAA+H8AAAAAAAD4fw==\",\"dtype\":\"float64\",\"shape\":[5]},\"TOTAL_M_25%\":{\"__ndarray__\":\"uB6F61G4jj+4HoXrUbiePzq0yHa+n7o/001iEFg51D+DwMqhRbazPw==\",\"dtype\":\"float64\",\"shape\":[5]},\"TOTAL_M_50%\":{\"__ndarray__\":\"uB6F61G4jj+4HoXrUbiePzq0yHa+n7o/001iEFg51D+DwMqhRbazPw==\",\"dtype\":\"float64\",\"shape\":[5]},\"TOTAL_M_75%\":{\"__ndarray__\":\"uB6F61G4jj+4HoXrUbiePzq0yHa+n7o/001iEFg51D+DwMqhRbazPw==\",\"dtype\":\"float64\",\"shape\":[5]},\"TOTAL_M_count\":{\"__ndarray__\":\"AAAAAAAA8D8AAAAAAADwPwAAAAAAAPA/AAAAAAAA8D8AAAAAAADwPw==\",\"dtype\":\"float64\",\"shape\":[5]},\"TOTAL_M_max\":{\"__ndarray__\":\"uB6F61G4jj+4HoXrUbiePzq0yHa+n7o/001iEFg51D+DwMqhRbazPw==\",\"dtype\":\"float64\",\"shape\":[5]},\"TOTAL_M_mean\":{\"__ndarray__\":\"uB6F61G4jj+4HoXrUbiePzq0yHa+n7o/001iEFg51D+DwMqhRbazPw==\",\"dtype\":\"float64\",\"shape\":[5]},\"TOTAL_M_min\":{\"__ndarray__\":\"uB6F61G4jj+4HoXrUbiePzq0yHa+n7o/001iEFg51D+DwMqhRbazPw==\",\"dtype\":\"float64\",\"shape\":[5]},\"TOTAL_M_std\":{\"__ndarray__\":\"AAAAAAAA+H8AAAAAAAD4fwAAAAAAAPh/AAAAAAAA+H8AAAAAAAD4fw==\",\"dtype\":\"float64\",\"shape\":[5]}}},\"id\":\"0ad66438-9bb2-4bfd-b05b-5349a069ead3\",\"type\":\"ColumnDataSource\"},{\"attributes\":{\"fill_color\":{\"value\":\"#1f77b4\"},\"line_color\":{\"value\":\"white\"},\"top\":{\"field\":\"A_URBANA_M_mean\"},\"width\":{\"value\":1},\"x\":{\"field\":\"GRANDES_GRUPOS_DE_EDAD\"}},\"id\":\"50d5b915-e95e-41e6-8360-5c2c0257cfdd\",\"type\":\"VBar\"},{\"attributes\":{\"dimension\":1,\"plot\":{\"id\":\"3d35c396-5f67-4cfd-8fb5-90a226369a8d\",\"subtype\":\"Figure\",\"type\":\"Plot\"},\"ticker\":{\"id\":\"765ee838-9abe-42b7-b0a2-10388ac4401c\",\"type\":\"BasicTicker\"}},\"id\":\"965874c2-765a-43ab-8350-dbfc756f3b93\",\"type\":\"Grid\"},{\"attributes\":{\"active_drag\":\"auto\",\"active_inspect\":\"auto\",\"active_scroll\":\"auto\",\"active_tap\":\"auto\",\"tools\":[{\"id\":\"f48da54f-2082-4c74-8e4a-5284963cb9a6\",\"type\":\"PanTool\"},{\"id\":\"5f4bb1bf-ddcb-452c-bef6-8d61c76daca7\",\"type\":\"WheelZoomTool\"},{\"id\":\"7384b795-27ff-4f01-ae7d-b713d657469e\",\"type\":\"BoxZoomTool\"},{\"id\":\"23a705a4-b546-4e33-9653-865589e3577b\",\"type\":\"SaveTool\"},{\"id\":\"1c5e9807-8c2f-408a-a873-1481bce7a0e6\",\"type\":\"ResetTool\"},{\"id\":\"80367237-d751-4829-aabc-8f3eb50c6f34\",\"type\":\"HelpTool\"}]},\"id\":\"cbe28676-526b-456e-9373-42bbd70416e9\",\"type\":\"Toolbar\"},{\"attributes\":{},\"id\":\"765ee838-9abe-42b7-b0a2-10388ac4401c\",\"type\":\"BasicTicker\"},{\"attributes\":{\"axis_label\":\"AREA URBANA - HOMBRES\",\"formatter\":{\"id\":\"a7ea08fd-2bd8-4d8d-8f69-89d0f4438417\",\"type\":\"CategoricalTickFormatter\"},\"plot\":{\"id\":\"3d35c396-5f67-4cfd-8fb5-90a226369a8d\",\"subtype\":\"Figure\",\"type\":\"Plot\"},\"ticker\":{\"id\":\"f5b3a7b7-5aaf-452b-b341-64cd90b0c93c\",\"type\":\"CategoricalTicker\"}},\"id\":\"1429f4ad-3388-493b-b5a5-4cd25ba0a5ff\",\"type\":\"CategoricalAxis\"},{\"attributes\":{},\"id\":\"80367237-d751-4829-aabc-8f3eb50c6f34\",\"type\":\"HelpTool\"},{\"attributes\":{\"source\":{\"id\":\"0ad66438-9bb2-4bfd-b05b-5349a069ead3\",\"type\":\"ColumnDataSource\"}},\"id\":\"ea1b2057-6ac0-4136-aad5-fc2309ee3548\",\"type\":\"CDSView\"},{\"attributes\":{},\"id\":\"74937e19-17e6-4d51-8996-e10dd11849f7\",\"type\":\"BasicTickFormatter\"},{\"attributes\":{\"callback\":null,\"start\":0},\"id\":\"94984ea3-2dee-4995-bad3-e9e72123871c\",\"type\":\"DataRange1d\"},{\"attributes\":{\"grid_line_color\":{\"value\":null},\"plot\":{\"id\":\"3d35c396-5f67-4cfd-8fb5-90a226369a8d\",\"subtype\":\"Figure\",\"type\":\"Plot\"},\"ticker\":{\"id\":\"f5b3a7b7-5aaf-452b-b341-64cd90b0c93c\",\"type\":\"CategoricalTicker\"}},\"id\":\"4b529d74-77b5-482b-bc2b-e9ef4052ffb6\",\"type\":\"Grid\"},{\"attributes\":{\"below\":[{\"id\":\"1429f4ad-3388-493b-b5a5-4cd25ba0a5ff\",\"type\":\"CategoricalAxis\"}],\"left\":[{\"id\":\"7def8e83-386a-4116-ad0d-fd134aa2cbb9\",\"type\":\"LinearAxis\"}],\"plot_height\":250,\"plot_width\":750,\"renderers\":[{\"id\":\"1429f4ad-3388-493b-b5a5-4cd25ba0a5ff\",\"type\":\"CategoricalAxis\"},{\"id\":\"4b529d74-77b5-482b-bc2b-e9ef4052ffb6\",\"type\":\"Grid\"},{\"id\":\"7def8e83-386a-4116-ad0d-fd134aa2cbb9\",\"type\":\"LinearAxis\"},{\"id\":\"965874c2-765a-43ab-8350-dbfc756f3b93\",\"type\":\"Grid\"},{\"id\":\"c91bff62-af7c-400e-a3f6-69ed23adcda0\",\"type\":\"BoxAnnotation\"},{\"id\":\"12340b11-1dab-4c71-8565-3ce34557885c\",\"type\":\"GlyphRenderer\"}],\"title\":{\"id\":\"f233b5f8-01d2-4665-bec3-7263772187cc\",\"type\":\"Title\"},\"toolbar\":{\"id\":\"cbe28676-526b-456e-9373-42bbd70416e9\",\"type\":\"Toolbar\"},\"x_range\":{\"id\":\"c3c7df97-451a-49db-85ad-2cb19d3bceba\",\"type\":\"FactorRange\"},\"x_scale\":{\"id\":\"95267310-57e2-47ed-a4d3-6807b3172782\",\"type\":\"CategoricalScale\"},\"y_range\":{\"id\":\"94984ea3-2dee-4995-bad3-e9e72123871c\",\"type\":\"DataRange1d\"},\"y_scale\":{\"id\":\"8d27f56d-59e0-4ee3-9255-c4de55506466\",\"type\":\"LinearScale\"}},\"id\":\"3d35c396-5f67-4cfd-8fb5-90a226369a8d\",\"subtype\":\"Figure\",\"type\":\"Plot\"},{\"attributes\":{\"data_source\":{\"id\":\"0ad66438-9bb2-4bfd-b05b-5349a069ead3\",\"type\":\"ColumnDataSource\"},\"glyph\":{\"id\":\"50d5b915-e95e-41e6-8360-5c2c0257cfdd\",\"type\":\"VBar\"},\"hover_glyph\":null,\"muted_glyph\":null,\"nonselection_glyph\":{\"id\":\"fcd9da6e-9643-4994-aed6-197905b7dacb\",\"type\":\"VBar\"},\"selection_glyph\":null,\"view\":{\"id\":\"ea1b2057-6ac0-4136-aad5-fc2309ee3548\",\"type\":\"CDSView\"}},\"id\":\"12340b11-1dab-4c71-8565-3ce34557885c\",\"type\":\"GlyphRenderer\"},{\"attributes\":{},\"id\":\"a7ea08fd-2bd8-4d8d-8f69-89d0f4438417\",\"type\":\"CategoricalTickFormatter\"},{\"attributes\":{},\"id\":\"8d27f56d-59e0-4ee3-9255-c4de55506466\",\"type\":\"LinearScale\"},{\"attributes\":{},\"id\":\"f48da54f-2082-4c74-8e4a-5284963cb9a6\",\"type\":\"PanTool\"},{\"attributes\":{},\"id\":\"f5b3a7b7-5aaf-452b-b341-64cd90b0c93c\",\"type\":\"CategoricalTicker\"},{\"attributes\":{\"fill_alpha\":{\"value\":0.1},\"fill_color\":{\"value\":\"#1f77b4\"},\"line_alpha\":{\"value\":0.1},\"line_color\":{\"value\":\"#1f77b4\"},\"top\":{\"field\":\"A_URBANA_M_mean\"},\"width\":{\"value\":1},\"x\":{\"field\":\"GRANDES_GRUPOS_DE_EDAD\"}},\"id\":\"fcd9da6e-9643-4994-aed6-197905b7dacb\",\"type\":\"VBar\"},{\"attributes\":{},\"id\":\"1c5e9807-8c2f-408a-a873-1481bce7a0e6\",\"type\":\"ResetTool\"},{\"attributes\":{\"overlay\":{\"id\":\"c91bff62-af7c-400e-a3f6-69ed23adcda0\",\"type\":\"BoxAnnotation\"}},\"id\":\"7384b795-27ff-4f01-ae7d-b713d657469e\",\"type\":\"BoxZoomTool\"},{\"attributes\":{\"plot\":null,\"text\":\"ANALFABETISMO POR AREA Y GRUPOS DE EDAD\"},\"id\":\"f233b5f8-01d2-4665-bec3-7263772187cc\",\"type\":\"Title\"},{\"attributes\":{},\"id\":\"23a705a4-b546-4e33-9653-865589e3577b\",\"type\":\"SaveTool\"},{\"attributes\":{\"callback\":null,\"factors\":[\"15-24 a\\u00f1os\",\"25-39 a\\u00f1os\",\"40-64 a\\u00f1os\",\"65 a\\u00f1os y mas\",\"Total nacional\"]},\"id\":\"c3c7df97-451a-49db-85ad-2cb19d3bceba\",\"type\":\"FactorRange\"},{\"attributes\":{\"formatter\":{\"id\":\"74937e19-17e6-4d51-8996-e10dd11849f7\",\"type\":\"BasicTickFormatter\"},\"plot\":{\"id\":\"3d35c396-5f67-4cfd-8fb5-90a226369a8d\",\"subtype\":\"Figure\",\"type\":\"Plot\"},\"ticker\":{\"id\":\"765ee838-9abe-42b7-b0a2-10388ac4401c\",\"type\":\"BasicTicker\"}},\"id\":\"7def8e83-386a-4116-ad0d-fd134aa2cbb9\",\"type\":\"LinearAxis\"},{\"attributes\":{},\"id\":\"5f4bb1bf-ddcb-452c-bef6-8d61c76daca7\",\"type\":\"WheelZoomTool\"}],\"root_ids\":[\"3d35c396-5f67-4cfd-8fb5-90a226369a8d\"]},\"title\":\"Bokeh Application\",\"version\":\"0.12.10\"}};\n",
       "    var render_items = [{\"docid\":\"ed2921c6-5392-4ef7-b3bf-caa15ed6f6e5\",\"elementid\":\"37bfbd22-381b-4b35-a032-f1fcd9f54198\",\"modelid\":\"3d35c396-5f67-4cfd-8fb5-90a226369a8d\"}];\n",
       "\n",
       "    root.Bokeh.embed.embed_items(docs_json, render_items);\n",
       "  }\n",
       "\n",
       "  if (root.Bokeh !== undefined) {\n",
       "    embed_document(root);\n",
       "  } else {\n",
       "    var attempts = 0;\n",
       "    var timer = setInterval(function(root) {\n",
       "      if (root.Bokeh !== undefined) {\n",
       "        embed_document(root);\n",
       "        clearInterval(timer);\n",
       "      }\n",
       "      attempts++;\n",
       "      if (attempts > 100) {\n",
       "        console.log(\"Bokeh: ERROR: Unable to embed document because BokehJS library is missing\")\n",
       "        clearInterval(timer);\n",
       "      }\n",
       "    }, 10, root)\n",
       "  }\n",
       "})(window);"
      ],
      "application/vnd.bokehjs_exec.v0+json": ""
     },
     "metadata": {
      "application/vnd.bokehjs_exec.v0+json": {
       "id": "3d35c396-5f67-4cfd-8fb5-90a226369a8d"
      }
     },
     "output_type": "display_data"
    }
   ],
   "source": [
    "# Agrupamos los valores en base a la columna \"GRANDES_GRUPOS_DE_EDAD\" \n",
    "group1 = tabla1.groupby('GRANDES_GRUPOS_DE_EDAD')\n",
    "\n",
    "# Nos permite obtener Mapas nombres de columnas a secuencias o matrices.\n",
    "source = ColumnDataSource(group1)\n",
    "\n",
    "# Creamos un objeto de figura y establecemos su tamaño, rango, y le damos un título \n",
    "p = figure(plot_height=250, plot_width=750, x_range=group1,  title='ANALFABETISMO POR AREA Y GRUPOS DE EDAD', )\n",
    "\n",
    "# Establecemos que vamos ha mostrar los datos en forma de barras y establecemos los ejes x,y \n",
    "p.vbar(x='GRANDES_GRUPOS_DE_EDAD', top='A_URBANA_M_mean', width=1, line_color=\"white\", source=source)\n",
    "\n",
    "p.xgrid.grid_line_color = None\n",
    "p.xaxis.axis_label = \"AREA URBANA - HOMBRES\"\n",
    "# Modificamos para la presentación el rango inicial \n",
    "p.y_range.start = 0\n",
    "\n",
    "show(p)"
   ]
  },
  {
   "cell_type": "code",
   "execution_count": null,
   "metadata": {
    "collapsed": true
   },
   "outputs": [],
   "source": []
  }
 ],
 "metadata": {
  "kernelspec": {
   "display_name": "Python 3",
   "language": "python",
   "name": "python3"
  },
  "language_info": {
   "codemirror_mode": {
    "name": "ipython",
    "version": 3
   },
   "file_extension": ".py",
   "mimetype": "text/x-python",
   "name": "python",
   "nbconvert_exporter": "python",
   "pygments_lexer": "ipython3",
   "version": "3.6.3"
  }
 },
 "nbformat": 4,
 "nbformat_minor": 2
}
