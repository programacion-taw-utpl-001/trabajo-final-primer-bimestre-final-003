{
 "cells": [
  {
   "cell_type": "markdown",
   "metadata": {},
   "source": [
    "<h1 style=\"text-align:center\">Trabajo Final - Primer Bimestre</h1>\n",
    "***\n",
    "* **Manejo y Visualización de Datos con Python**\n",
    "***\n",
    "Para la realización del presente trabajo se llevo a cabo la obtención de los datos estadísticos enfocados en el tema de **Hombres y Mujeres en el Ecuador** extraidos de [Ecuador en Cifras](http://www.ecuadorencifras.gob.ec/estadisticas/).\n",
    "\n",
    "Librerías en python a utilizar: **jupyter, pandas, bokeh.**\n",
    "\n",
    "Autores : **Jorge Hurtado - Jonathan Rosero**\n"
   ]
  },
  {
   "cell_type": "code",
   "execution_count": 1,
   "metadata": {
    "collapsed": true
   },
   "outputs": [],
   "source": [
    "# Se inicia con la importacion de pandas con un respectivo alias para facilitar su llamada\n",
    "import pandas as pd"
   ]
  },
  {
   "cell_type": "code",
   "execution_count": 2,
   "metadata": {
    "scrolled": true
   },
   "outputs": [
    {
     "data": {
      "text/html": [
       "<div>\n",
       "<style>\n",
       "    .dataframe thead tr:only-child th {\n",
       "        text-align: right;\n",
       "    }\n",
       "\n",
       "    .dataframe thead th {\n",
       "        text-align: left;\n",
       "    }\n",
       "\n",
       "    .dataframe tbody tr th {\n",
       "        vertical-align: top;\n",
       "    }\n",
       "</style>\n",
       "<table border=\"1\" class=\"dataframe\">\n",
       "  <thead>\n",
       "    <tr style=\"text-align: right;\">\n",
       "      <th></th>\n",
       "      <th>GRANDES_GRUPOS_DE_EDAD</th>\n",
       "      <th>A_URBANA_M</th>\n",
       "      <th>A_URBANA_H</th>\n",
       "      <th>A_RURAL_M</th>\n",
       "      <th>A_RURAL_H</th>\n",
       "      <th>TOTAL_M</th>\n",
       "      <th>TOTAL_H</th>\n",
       "    </tr>\n",
       "  </thead>\n",
       "  <tbody>\n",
       "    <tr>\n",
       "      <th>0</th>\n",
       "      <td>15-24 años</td>\n",
       "      <td>0.009</td>\n",
       "      <td>0.012</td>\n",
       "      <td>0.025</td>\n",
       "      <td>0.028</td>\n",
       "      <td>0.015</td>\n",
       "      <td>0.018</td>\n",
       "    </tr>\n",
       "    <tr>\n",
       "      <th>1</th>\n",
       "      <td>25-39 años</td>\n",
       "      <td>0.017</td>\n",
       "      <td>0.018</td>\n",
       "      <td>0.056</td>\n",
       "      <td>0.053</td>\n",
       "      <td>0.030</td>\n",
       "      <td>0.030</td>\n",
       "    </tr>\n",
       "    <tr>\n",
       "      <th>2</th>\n",
       "      <td>40-64 años</td>\n",
       "      <td>0.054</td>\n",
       "      <td>0.038</td>\n",
       "      <td>0.205</td>\n",
       "      <td>0.134</td>\n",
       "      <td>0.104</td>\n",
       "      <td>0.072</td>\n",
       "    </tr>\n",
       "    <tr>\n",
       "      <th>3</th>\n",
       "      <td>65 años y mas</td>\n",
       "      <td>0.195</td>\n",
       "      <td>0.128</td>\n",
       "      <td>0.497</td>\n",
       "      <td>0.343</td>\n",
       "      <td>0.316</td>\n",
       "      <td>0.224</td>\n",
       "    </tr>\n",
       "    <tr>\n",
       "      <th>4</th>\n",
       "      <td>Total nacional</td>\n",
       "      <td>0.043</td>\n",
       "      <td>0.031</td>\n",
       "      <td>0.142</td>\n",
       "      <td>0.103</td>\n",
       "      <td>0.077</td>\n",
       "      <td>0.058</td>\n",
       "    </tr>\n",
       "  </tbody>\n",
       "</table>\n",
       "</div>"
      ],
      "text/plain": [
       "  GRANDES_GRUPOS_DE_EDAD  A_URBANA_M  A_URBANA_H  A_RURAL_M  A_RURAL_H  \\\n",
       "0             15-24 años       0.009       0.012      0.025      0.028   \n",
       "1             25-39 años       0.017       0.018      0.056      0.053   \n",
       "2             40-64 años       0.054       0.038      0.205      0.134   \n",
       "3          65 años y mas       0.195       0.128      0.497      0.343   \n",
       "4         Total nacional       0.043       0.031      0.142      0.103   \n",
       "\n",
       "   TOTAL_M  TOTAL_H  \n",
       "0    0.015    0.018  \n",
       "1    0.030    0.030  \n",
       "2    0.104    0.072  \n",
       "3    0.316    0.224  \n",
       "4    0.077    0.058  "
      ]
     },
     "execution_count": 2,
     "metadata": {},
     "output_type": "execute_result"
    }
   ],
   "source": [
    "# Con el uso de \".read_csv\" lemos el archivo con lo datos extraidos de EcuadorEnCifras\n",
    "pd.read_csv('./data/ANALFABETISMO_POR_AREA_Y_GRUPOS_DE_EDAD.csv')"
   ]
  },
  {
   "cell_type": "code",
   "execution_count": 3,
   "metadata": {
    "collapsed": true
   },
   "outputs": [],
   "source": [
    "# Como se va ha trabajar con el con los datos presentados anteriomente los guardamos en una variable\n",
    "tabla1 = pd.read_csv('./data/ANALFABETISMO_POR_AREA_Y_GRUPOS_DE_EDAD.csv')"
   ]
  },
  {
   "cell_type": "code",
   "execution_count": 4,
   "metadata": {},
   "outputs": [
    {
     "data": {
      "text/plain": [
       "pandas.core.frame.DataFrame"
      ]
     },
     "execution_count": 4,
     "metadata": {},
     "output_type": "execute_result"
    }
   ],
   "source": [
    "# Cabe mencionar el tipo de objeto de \"tabla1\" por lo que usaremos los atributos y metodos para explorar entre los datos\n",
    "type(tabla1)"
   ]
  },
  {
   "cell_type": "code",
   "execution_count": 5,
   "metadata": {},
   "outputs": [
    {
     "data": {
      "text/html": [
       "<div>\n",
       "<style>\n",
       "    .dataframe thead tr:only-child th {\n",
       "        text-align: right;\n",
       "    }\n",
       "\n",
       "    .dataframe thead th {\n",
       "        text-align: left;\n",
       "    }\n",
       "\n",
       "    .dataframe tbody tr th {\n",
       "        vertical-align: top;\n",
       "    }\n",
       "</style>\n",
       "<table border=\"1\" class=\"dataframe\">\n",
       "  <thead>\n",
       "    <tr style=\"text-align: right;\">\n",
       "      <th></th>\n",
       "      <th>GRANDES_GRUPOS_DE_EDAD</th>\n",
       "      <th>A_URBANA_M</th>\n",
       "      <th>A_URBANA_H</th>\n",
       "    </tr>\n",
       "  </thead>\n",
       "  <tbody>\n",
       "    <tr>\n",
       "      <th>0</th>\n",
       "      <td>15-24 años</td>\n",
       "      <td>0.009</td>\n",
       "      <td>0.012</td>\n",
       "    </tr>\n",
       "    <tr>\n",
       "      <th>1</th>\n",
       "      <td>25-39 años</td>\n",
       "      <td>0.017</td>\n",
       "      <td>0.018</td>\n",
       "    </tr>\n",
       "    <tr>\n",
       "      <th>2</th>\n",
       "      <td>40-64 años</td>\n",
       "      <td>0.054</td>\n",
       "      <td>0.038</td>\n",
       "    </tr>\n",
       "    <tr>\n",
       "      <th>3</th>\n",
       "      <td>65 años y mas</td>\n",
       "      <td>0.195</td>\n",
       "      <td>0.128</td>\n",
       "    </tr>\n",
       "    <tr>\n",
       "      <th>4</th>\n",
       "      <td>Total nacional</td>\n",
       "      <td>0.043</td>\n",
       "      <td>0.031</td>\n",
       "    </tr>\n",
       "  </tbody>\n",
       "</table>\n",
       "</div>"
      ],
      "text/plain": [
       "  GRANDES_GRUPOS_DE_EDAD  A_URBANA_M  A_URBANA_H\n",
       "0             15-24 años       0.009       0.012\n",
       "1             25-39 años       0.017       0.018\n",
       "2             40-64 años       0.054       0.038\n",
       "3          65 años y mas       0.195       0.128\n",
       "4         Total nacional       0.043       0.031"
      ]
     },
     "execution_count": 5,
     "metadata": {},
     "output_type": "execute_result"
    }
   ],
   "source": [
    "# Pandas nos permite trabajar con subconjunto en caso de tener una tabla dividida bajo ciertos parametros\n",
    "tabla1[['GRANDES_GRUPOS_DE_EDAD', 'A_URBANA_M', 'A_URBANA_H']]"
   ]
  },
  {
   "cell_type": "code",
   "execution_count": 6,
   "metadata": {},
   "outputs": [
    {
     "data": {
      "text/html": [
       "<div>\n",
       "<style>\n",
       "    .dataframe thead tr:only-child th {\n",
       "        text-align: right;\n",
       "    }\n",
       "\n",
       "    .dataframe thead th {\n",
       "        text-align: left;\n",
       "    }\n",
       "\n",
       "    .dataframe tbody tr th {\n",
       "        vertical-align: top;\n",
       "    }\n",
       "</style>\n",
       "<table border=\"1\" class=\"dataframe\">\n",
       "  <thead>\n",
       "    <tr style=\"text-align: right;\">\n",
       "      <th></th>\n",
       "      <th>GRANDES_GRUPOS_DE_EDAD</th>\n",
       "      <th>A_URBANA_M</th>\n",
       "      <th>A_URBANA_H</th>\n",
       "      <th>A_RURAL_M</th>\n",
       "      <th>A_RURAL_H</th>\n",
       "      <th>TOTAL_M</th>\n",
       "      <th>TOTAL_H</th>\n",
       "    </tr>\n",
       "  </thead>\n",
       "  <tbody>\n",
       "    <tr>\n",
       "      <th>2</th>\n",
       "      <td>40-64 años</td>\n",
       "      <td>0.054</td>\n",
       "      <td>0.038</td>\n",
       "      <td>0.205</td>\n",
       "      <td>0.134</td>\n",
       "      <td>0.104</td>\n",
       "      <td>0.072</td>\n",
       "    </tr>\n",
       "  </tbody>\n",
       "</table>\n",
       "</div>"
      ],
      "text/plain": [
       "  GRANDES_GRUPOS_DE_EDAD  A_URBANA_M  A_URBANA_H  A_RURAL_M  A_RURAL_H  \\\n",
       "2             40-64 años       0.054       0.038      0.205      0.134   \n",
       "\n",
       "   TOTAL_M  TOTAL_H  \n",
       "2    0.104    0.072  "
      ]
     },
     "execution_count": 6,
     "metadata": {},
     "output_type": "execute_result"
    }
   ],
   "source": [
    "# A la vez que podemso buscar un dato en especifico\n",
    "tabla1.loc[tabla1.GRANDES_GRUPOS_DE_EDAD == '40-64 años']"
   ]
  },
  {
   "cell_type": "code",
   "execution_count": 7,
   "metadata": {},
   "outputs": [
    {
     "data": {
      "text/plain": [
       "0.0636"
      ]
     },
     "execution_count": 7,
     "metadata": {},
     "output_type": "execute_result"
    }
   ],
   "source": [
    "# También podemos utilizar funciones propias de pandas, en este caso sacamos la media con el uso de \".mean()\"\n",
    "mediaUrbanaM = tabla1.A_URBANA_M.mean()\n",
    "mediaUrbanaM"
   ]
  },
  {
   "cell_type": "code",
   "execution_count": 8,
   "metadata": {},
   "outputs": [
    {
     "data": {
      "text/plain": [
       "GRANDES_GRUPOS_DE_EDAD\n",
       "15-24 años        0.015\n",
       "25-39 años        0.030\n",
       "40-64 años        0.104\n",
       "65 años y mas     0.316\n",
       "Total nacional    0.077\n",
       "Name: TOTAL_M, dtype: float64"
      ]
     },
     "execution_count": 8,
     "metadata": {},
     "output_type": "execute_result"
    }
   ],
   "source": [
    "# Podemos agrupar los datos por columnas\n",
    "tabla1.groupby('GRANDES_GRUPOS_DE_EDAD')['TOTAL_M'].mean()"
   ]
  },
  {
   "cell_type": "code",
   "execution_count": 9,
   "metadata": {},
   "outputs": [
    {
     "data": {
      "text/plain": [
       "<matplotlib.axes._subplots.AxesSubplot at 0x26bf3126e80>"
      ]
     },
     "execution_count": 9,
     "metadata": {},
     "output_type": "execute_result"
    },
    {
     "data": {
      "image/png": "[encoded data removed]",
      "text/plain": [
       "<matplotlib.figure.Figure at 0x26bf2829cc0>"
      ]
     },
     "metadata": {},
     "output_type": "display_data"
    }
   ],
   "source": [
    "# Por parte de pandas sugiere la presentacion de los datos tras es uso de matplotlib\n",
    "import matplotlib.pyplot\n",
    "\n",
    "%matplotlib inline\n",
    "\n",
    "gytle = tabla1.groupby('GRANDES_GRUPOS_DE_EDAD')['TOTAL_M'].mean()\n",
    "\n",
    "gytle.plot()"
   ]
  },
  {
   "cell_type": "code",
   "execution_count": 10,
   "metadata": {},
   "outputs": [
    {
     "data": {
      "text/html": [
       "\n",
       "    <div class=\"bk-root\">\n",
       "        <a href=\"https://bokeh.pydata.org\" target=\"_blank\" class=\"bk-logo bk-logo-small bk-logo-notebook\"></a>\n",
       "        <span id=\"d59d2a0e-baac-412a-89d9-fe364008526d\">Loading BokehJS ...</span>\n",
       "    </div>"
      ]
     },
     "metadata": {},
     "output_type": "display_data"
    },
    {
     "data": {
      "application/javascript": [
       "\n",
       "(function(root) {\n",
       "  function now() {\n",
       "    return new Date();\n",
       "  }\n",
       "\n",
       "  var force = true;\n",
       "\n",
       "  if (typeof (root._bokeh_onload_callbacks) === \"undefined\" || force === true) {\n",
       "    root._bokeh_onload_callbacks = [];\n",
       "    root._bokeh_is_loading = undefined;\n",
       "  }\n",
       "\n",
       "  var JS_MIME_TYPE = 'application/javascript';\n",
       "  var HTML_MIME_TYPE = 'text/html';\n",
       "  var EXEC_MIME_TYPE = 'application/vnd.bokehjs_exec.v0+json';\n",
       "  var CLASS_NAME = 'output_bokeh rendered_html';\n",
       "\n",
       "  /**\n",
       "   * Render data to the DOM node\n",
       "   */\n",
       "  function render(props, node) {\n",
       "    var script = document.createElement(\"script\");\n",
       "    node.appendChild(script);\n",
       "  }\n",
       "\n",
       "  /**\n",
       "   * Handle when an output is cleared or removed\n",
       "   */\n",
       "  function handleClearOutput(event, handle) {\n",
       "    var cell = handle.cell;\n",
       "\n",
       "    var id = cell.output_area._bokeh_element_id;\n",
       "    var server_id = cell.output_area._bokeh_server_id;\n",
       "    // Clean up Bokeh references\n",
       "    if (id !== undefined) {\n",
       "      Bokeh.index[id].model.document.clear();\n",
       "      delete Bokeh.index[id];\n",
       "    }\n",
       "\n",
       "    if (server_id !== undefined) {\n",
       "      // Clean up Bokeh references\n",
       "      var cmd = \"from bokeh.io.state import curstate; print(curstate().uuid_to_server['\" + server_id + \"'].get_sessions()[0].document.roots[0]._id)\";\n",
       "      cell.notebook.kernel.execute(cmd, {\n",
       "        iopub: {\n",
       "          output: function(msg) {\n",
       "            var element_id = msg.content.text.trim();\n",
       "            Bokeh.index[element_id].model.document.clear();\n",
       "            delete Bokeh.index[element_id];\n",
       "          }\n",
       "        }\n",
       "      });\n",
       "      // Destroy server and session\n",
       "      var cmd = \"import bokeh.io.notebook as ion; ion.destroy_server('\" + server_id + \"')\";\n",
       "      cell.notebook.kernel.execute(cmd);\n",
       "    }\n",
       "  }\n",
       "\n",
       "  /**\n",
       "   * Handle when a new output is added\n",
       "   */\n",
       "  function handleAddOutput(event, handle) {\n",
       "    var output_area = handle.output_area;\n",
       "    var output = handle.output;\n",
       "\n",
       "    // limit handleAddOutput to display_data with EXEC_MIME_TYPE content only\n",
       "    if ((output.output_type != \"display_data\") || (!output.data.hasOwnProperty(EXEC_MIME_TYPE))) {\n",
       "      return\n",
       "    }\n",
       "\n",
       "    var toinsert = output_area.element.find(`.${CLASS_NAME.split(' ')[0]}`);\n",
       "\n",
       "    if (output.metadata[EXEC_MIME_TYPE][\"id\"] !== undefined) {\n",
       "      toinsert[0].firstChild.textContent = output.data[JS_MIME_TYPE];\n",
       "      // store reference to embed id on output_area\n",
       "      output_area._bokeh_element_id = output.metadata[EXEC_MIME_TYPE][\"id\"];\n",
       "    }\n",
       "    if (output.metadata[EXEC_MIME_TYPE][\"server_id\"] !== undefined) {\n",
       "      var bk_div = document.createElement(\"div\");\n",
       "      bk_div.innerHTML = output.data[HTML_MIME_TYPE];\n",
       "      var script_attrs = bk_div.children[0].attributes;\n",
       "      for (var i = 0; i < script_attrs.length; i++) {\n",
       "        toinsert[0].firstChild.setAttribute(script_attrs[i].name, script_attrs[i].value);\n",
       "      }\n",
       "      // store reference to server id on output_area\n",
       "      output_area._bokeh_server_id = output.metadata[EXEC_MIME_TYPE][\"server_id\"];\n",
       "    }\n",
       "  }\n",
       "\n",
       "  function register_renderer(events, OutputArea) {\n",
       "\n",
       "    function append_mime(data, metadata, element) {\n",
       "      // create a DOM node to render to\n",
       "      var toinsert = this.create_output_subarea(\n",
       "        metadata,\n",
       "        CLASS_NAME,\n",
       "        EXEC_MIME_TYPE\n",
       "      );\n",
       "      this.keyboard_manager.register_events(toinsert);\n",
       "      // Render to node\n",
       "      var props = {data: data, metadata: metadata[EXEC_MIME_TYPE]};\n",
       "      render(props, toinsert[0]);\n",
       "      element.append(toinsert);\n",
       "      return toinsert\n",
       "    }\n",
       "\n",
       "    /* Handle when an output is cleared or removed */\n",
       "    events.on('clear_output.CodeCell', handleClearOutput);\n",
       "    events.on('delete.Cell', handleClearOutput);\n",
       "\n",
       "    /* Handle when a new output is added */\n",
       "    events.on('output_added.OutputArea', handleAddOutput);\n",
       "\n",
       "    /**\n",
       "     * Register the mime type and append_mime function with output_area\n",
       "     */\n",
       "    OutputArea.prototype.register_mime_type(EXEC_MIME_TYPE, append_mime, {\n",
       "      /* Is output safe? */\n",
       "      safe: true,\n",
       "      /* Index of renderer in `output_area.display_order` */\n",
       "      index: 0\n",
       "    });\n",
       "  }\n",
       "\n",
       "  // register the mime type if in Jupyter Notebook environment and previously unregistered\n",
       "  if (root.Jupyter !== undefined) {\n",
       "    var events = require('base/js/events');\n",
       "    var OutputArea = require('notebook/js/outputarea').OutputArea;\n",
       "\n",
       "    if (OutputArea.prototype.mime_types().indexOf(EXEC_MIME_TYPE) == -1) {\n",
       "      register_renderer(events, OutputArea);\n",
       "    }\n",
       "  }\n",
       "\n",
       "  \n",
       "  if (typeof (root._bokeh_timeout) === \"undefined\" || force === true) {\n",
       "    root._bokeh_timeout = Date.now() + 5000;\n",
       "    root._bokeh_failed_load = false;\n",
       "  }\n",
       "\n",
       "  var NB_LOAD_WARNING = {'data': {'text/html':\n",
       "     \"<div style='background-color: #fdd'>\\n\"+\n",
       "     \"<p>\\n\"+\n",
       "     \"BokehJS does not appear to have successfully loaded. If loading BokehJS from CDN, this \\n\"+\n",
       "     \"may be due to a slow or bad network connection. Possible fixes:\\n\"+\n",
       "     \"</p>\\n\"+\n",
       "     \"<ul>\\n\"+\n",
       "     \"<li>re-rerun `output_notebook()` to attempt to load from CDN again, or</li>\\n\"+\n",
       "     \"<li>use INLINE resources instead, as so:</li>\\n\"+\n",
       "     \"</ul>\\n\"+\n",
       "     \"<code>\\n\"+\n",
       "     \"from bokeh.resources import INLINE\\n\"+\n",
       "     \"output_notebook(resources=INLINE)\\n\"+\n",
       "     \"</code>\\n\"+\n",
       "     \"</div>\"}};\n",
       "\n",
       "  function display_loaded() {\n",
       "    var el = document.getElementById(\"d59d2a0e-baac-412a-89d9-fe364008526d\");\n",
       "    if (el != null) {\n",
       "      el.textContent = \"BokehJS is loading...\";\n",
       "    }\n",
       "    if (root.Bokeh !== undefined) {\n",
       "      if (el != null) {\n",
       "        el.textContent = \"BokehJS \" + root.Bokeh.version + \" successfully loaded.\";\n",
       "      }\n",
       "    } else if (Date.now() < root._bokeh_timeout) {\n",
       "      setTimeout(display_loaded, 100)\n",
       "    }\n",
       "  }\n",
       "\n",
       "\n",
       "  function run_callbacks() {\n",
       "    try {\n",
       "      root._bokeh_onload_callbacks.forEach(function(callback) { callback() });\n",
       "    }\n",
       "    finally {\n",
       "      delete root._bokeh_onload_callbacks\n",
       "    }\n",
       "    console.info(\"Bokeh: all callbacks have finished\");\n",
       "  }\n",
       "\n",
       "  function load_libs(js_urls, callback) {\n",
       "    root._bokeh_onload_callbacks.push(callback);\n",
       "    if (root._bokeh_is_loading > 0) {\n",
       "      console.log(\"Bokeh: BokehJS is being loaded, scheduling callback at\", now());\n",
       "      return null;\n",
       "    }\n",
       "    if (js_urls == null || js_urls.length === 0) {\n",
       "      run_callbacks();\n",
       "      return null;\n",
       "    }\n",
       "    console.log(\"Bokeh: BokehJS not loaded, scheduling load and callback at\", now());\n",
       "    root._bokeh_is_loading = js_urls.length;\n",
       "    for (var i = 0; i < js_urls.length; i++) {\n",
       "      var url = js_urls[i];\n",
       "      var s = document.createElement('script');\n",
       "      s.src = url;\n",
       "      s.async = false;\n",
       "      s.onreadystatechange = s.onload = function() {\n",
       "        root._bokeh_is_loading--;\n",
       "        if (root._bokeh_is_loading === 0) {\n",
       "          console.log(\"Bokeh: all BokehJS libraries loaded\");\n",
       "          run_callbacks()\n",
       "        }\n",
       "      };\n",
       "      s.onerror = function() {\n",
       "        console.warn(\"failed to load library \" + url);\n",
       "      };\n",
       "      console.log(\"Bokeh: injecting script tag for BokehJS library: \", url);\n",
       "      document.getElementsByTagName(\"head\")[0].appendChild(s);\n",
       "    }\n",
       "  };var element = document.getElementById(\"d59d2a0e-baac-412a-89d9-fe364008526d\");\n",
       "  if (element == null) {\n",
       "    console.log(\"Bokeh: ERROR: autoload.js configured with elementid 'd59d2a0e-baac-412a-89d9-fe364008526d' but no matching script tag was found. \")\n",
       "    return false;\n",
       "  }\n",
       "\n",
       "  var js_urls = [\"https://cdn.pydata.org/bokeh/release/bokeh-0.12.10.min.js\", \"https://cdn.pydata.org/bokeh/release/bokeh-widgets-0.12.10.min.js\", \"https://cdn.pydata.org/bokeh/release/bokeh-tables-0.12.10.min.js\", \"https://cdn.pydata.org/bokeh/release/bokeh-gl-0.12.10.min.js\"];\n",
       "\n",
       "  var inline_js = [\n",
       "    function(Bokeh) {\n",
       "      Bokeh.set_log_level(\"info\");\n",
       "    },\n",
       "    \n",
       "    function(Bokeh) {\n",
       "      \n",
       "    },\n",
       "    function(Bokeh) {\n",
       "      console.log(\"Bokeh: injecting CSS: https://cdn.pydata.org/bokeh/release/bokeh-0.12.10.min.css\");\n",
       "      Bokeh.embed.inject_css(\"https://cdn.pydata.org/bokeh/release/bokeh-0.12.10.min.css\");\n",
       "      console.log(\"Bokeh: injecting CSS: https://cdn.pydata.org/bokeh/release/bokeh-widgets-0.12.10.min.css\");\n",
       "      Bokeh.embed.inject_css(\"https://cdn.pydata.org/bokeh/release/bokeh-widgets-0.12.10.min.css\");\n",
       "      console.log(\"Bokeh: injecting CSS: https://cdn.pydata.org/bokeh/release/bokeh-tables-0.12.10.min.css\");\n",
       "      Bokeh.embed.inject_css(\"https://cdn.pydata.org/bokeh/release/bokeh-tables-0.12.10.min.css\");\n",
       "    }\n",
       "  ];\n",
       "\n",
       "  function run_inline_js() {\n",
       "    \n",
       "    if ((root.Bokeh !== undefined) || (force === true)) {\n",
       "      for (var i = 0; i < inline_js.length; i++) {\n",
       "        inline_js[i].call(root, root.Bokeh);\n",
       "      }if (force === true) {\n",
       "        display_loaded();\n",
       "      }} else if (Date.now() < root._bokeh_timeout) {\n",
       "      setTimeout(run_inline_js, 100);\n",
       "    } else if (!root._bokeh_failed_load) {\n",
       "      console.log(\"Bokeh: BokehJS failed to load within specified timeout.\");\n",
       "      root._bokeh_failed_load = true;\n",
       "    } else if (force !== true) {\n",
       "      var cell = $(document.getElementById(\"d59d2a0e-baac-412a-89d9-fe364008526d\")).parents('.cell').data().cell;\n",
       "      cell.output_area.append_execute_result(NB_LOAD_WARNING)\n",
       "    }\n",
       "\n",
       "  }\n",
       "\n",
       "  if (root._bokeh_is_loading === 0) {\n",
       "    console.log(\"Bokeh: BokehJS loaded, going straight to plotting\");\n",
       "    run_inline_js();\n",
       "  } else {\n",
       "    load_libs(js_urls, function() {\n",
       "      console.log(\"Bokeh: BokehJS plotting callback run at\", now());\n",
       "      run_inline_js();\n",
       "    });\n",
       "  }\n",
       "}(window));"
      ],
      "application/vnd.bokehjs_load.v0+json": "\n(function(root) {\n  function now() {\n    return new Date();\n  }\n\n  var force = true;\n\n  if (typeof (root._bokeh_onload_callbacks) === \"undefined\" || force === true) {\n    root._bokeh_onload_callbacks = [];\n    root._bokeh_is_loading = undefined;\n  }\n\n  \n\n  \n  if (typeof (root._bokeh_timeout) === \"undefined\" || force === true) {\n    root._bokeh_timeout = Date.now() + 5000;\n    root._bokeh_failed_load = false;\n  }\n\n  var NB_LOAD_WARNING = {'data': {'text/html':\n     \"<div style='background-color: #fdd'>\\n\"+\n     \"<p>\\n\"+\n     \"BokehJS does not appear to have successfully loaded. If loading BokehJS from CDN, this \\n\"+\n     \"may be due to a slow or bad network connection. Possible fixes:\\n\"+\n     \"</p>\\n\"+\n     \"<ul>\\n\"+\n     \"<li>re-rerun `output_notebook()` to attempt to load from CDN again, or</li>\\n\"+\n     \"<li>use INLINE resources instead, as so:</li>\\n\"+\n     \"</ul>\\n\"+\n     \"<code>\\n\"+\n     \"from bokeh.resources import INLINE\\n\"+\n     \"output_notebook(resources=INLINE)\\n\"+\n     \"</code>\\n\"+\n     \"</div>\"}};\n\n  function display_loaded() {\n    var el = document.getElementById(\"d59d2a0e-baac-412a-89d9-fe364008526d\");\n    if (el != null) {\n      el.textContent = \"BokehJS is loading...\";\n    }\n    if (root.Bokeh !== undefined) {\n      if (el != null) {\n        el.textContent = \"BokehJS \" + root.Bokeh.version + \" successfully loaded.\";\n      }\n    } else if (Date.now() < root._bokeh_timeout) {\n      setTimeout(display_loaded, 100)\n    }\n  }\n\n\n  function run_callbacks() {\n    try {\n      root._bokeh_onload_callbacks.forEach(function(callback) { callback() });\n    }\n    finally {\n      delete root._bokeh_onload_callbacks\n    }\n    console.info(\"Bokeh: all callbacks have finished\");\n  }\n\n  function load_libs(js_urls, callback) {\n    root._bokeh_onload_callbacks.push(callback);\n    if (root._bokeh_is_loading > 0) {\n      console.log(\"Bokeh: BokehJS is being loaded, scheduling callback at\", now());\n      return null;\n    }\n    if (js_urls == null || js_urls.length === 0) {\n      run_callbacks();\n      return null;\n    }\n    console.log(\"Bokeh: BokehJS not loaded, scheduling load and callback at\", now());\n    root._bokeh_is_loading = js_urls.length;\n    for (var i = 0; i < js_urls.length; i++) {\n      var url = js_urls[i];\n      var s = document.createElement('script');\n      s.src = url;\n      s.async = false;\n      s.onreadystatechange = s.onload = function() {\n        root._bokeh_is_loading--;\n        if (root._bokeh_is_loading === 0) {\n          console.log(\"Bokeh: all BokehJS libraries loaded\");\n          run_callbacks()\n        }\n      };\n      s.onerror = function() {\n        console.warn(\"failed to load library \" + url);\n      };\n      console.log(\"Bokeh: injecting script tag for BokehJS library: \", url);\n      document.getElementsByTagName(\"head\")[0].appendChild(s);\n    }\n  };var element = document.getElementById(\"d59d2a0e-baac-412a-89d9-fe364008526d\");\n  if (element == null) {\n    console.log(\"Bokeh: ERROR: autoload.js configured with elementid 'd59d2a0e-baac-412a-89d9-fe364008526d' but no matching script tag was found. \")\n    return false;\n  }\n\n  var js_urls = [\"https://cdn.pydata.org/bokeh/release/bokeh-0.12.10.min.js\", \"https://cdn.pydata.org/bokeh/release/bokeh-widgets-0.12.10.min.js\", \"https://cdn.pydata.org/bokeh/release/bokeh-tables-0.12.10.min.js\", \"https://cdn.pydata.org/bokeh/release/bokeh-gl-0.12.10.min.js\"];\n\n  var inline_js = [\n    function(Bokeh) {\n      Bokeh.set_log_level(\"info\");\n    },\n    \n    function(Bokeh) {\n      \n    },\n    function(Bokeh) {\n      console.log(\"Bokeh: injecting CSS: https://cdn.pydata.org/bokeh/release/bokeh-0.12.10.min.css\");\n      Bokeh.embed.inject_css(\"https://cdn.pydata.org/bokeh/release/bokeh-0.12.10.min.css\");\n      console.log(\"Bokeh: injecting CSS: https://cdn.pydata.org/bokeh/release/bokeh-widgets-0.12.10.min.css\");\n      Bokeh.embed.inject_css(\"https://cdn.pydata.org/bokeh/release/bokeh-widgets-0.12.10.min.css\");\n      console.log(\"Bokeh: injecting CSS: https://cdn.pydata.org/bokeh/release/bokeh-tables-0.12.10.min.css\");\n      Bokeh.embed.inject_css(\"https://cdn.pydata.org/bokeh/release/bokeh-tables-0.12.10.min.css\");\n    }\n  ];\n\n  function run_inline_js() {\n    \n    if ((root.Bokeh !== undefined) || (force === true)) {\n      for (var i = 0; i < inline_js.length; i++) {\n        inline_js[i].call(root, root.Bokeh);\n      }if (force === true) {\n        display_loaded();\n      }} else if (Date.now() < root._bokeh_timeout) {\n      setTimeout(run_inline_js, 100);\n    } else if (!root._bokeh_failed_load) {\n      console.log(\"Bokeh: BokehJS failed to load within specified timeout.\");\n      root._bokeh_failed_load = true;\n    } else if (force !== true) {\n      var cell = $(document.getElementById(\"d59d2a0e-baac-412a-89d9-fe364008526d\")).parents('.cell').data().cell;\n      cell.output_area.append_execute_result(NB_LOAD_WARNING)\n    }\n\n  }\n\n  if (root._bokeh_is_loading === 0) {\n    console.log(\"Bokeh: BokehJS loaded, going straight to plotting\");\n    run_inline_js();\n  } else {\n    load_libs(js_urls, function() {\n      console.log(\"Bokeh: BokehJS plotting callback run at\", now());\n      run_inline_js();\n    });\n  }\n}(window));"
     },
     "metadata": {},
     "output_type": "display_data"
    }
   ],
   "source": [
    "# Importamos la libreria de bokeh para presentar los datos leidos por pandas\n",
    "from bokeh.io import output_notebook, show\n",
    "from bokeh.plotting import figure\n",
    "from bokeh.models import ColumnDataSource\n",
    "\n",
    "# Llamamos a output_notebook para mostrar mostrar los resultanos en el cuaderno de jupyter\n",
    "output_notebook()"
   ]
  },
  {
   "cell_type": "code",
   "execution_count": 11,
   "metadata": {},
   "outputs": [
    {
     "data": {
      "text/html": [
       "\n",
       "<div class=\"bk-root\">\n",
       "    <div class=\"bk-plotdiv\" id=\"6be02fce-dbce-4312-a95d-bf110a175978\"></div>\n",
       "</div>"
      ]
     },
     "metadata": {},
     "output_type": "display_data"
    },
    {
     "data": {
      "application/javascript": [
       "(function(root) {\n",
       "  function embed_document(root) {\n",
       "    var docs_json = {\"7c0ce033-273c-4218-bebc-453b7820628f\":{\"roots\":{\"references\":[{\"attributes\":{\"plot\":null,\"text\":\"ANALFABETISMO POR AREA Y GRUPOS DE EDAD\"},\"id\":\"6b64ad53-3b99-4770-8fa1-89c39a4d4fd3\",\"type\":\"Title\"},{\"attributes\":{\"grid_line_color\":{\"value\":null},\"plot\":{\"id\":\"7d1dfbd3-d249-455d-9599-c1e4e6e2f886\",\"subtype\":\"Figure\",\"type\":\"Plot\"},\"ticker\":{\"id\":\"735a14b1-8c94-4691-b3fe-58171d04bff5\",\"type\":\"CategoricalTicker\"}},\"id\":\"08395271-5748-4cfa-ab5b-1ee15e298abf\",\"type\":\"Grid\"},{\"attributes\":{\"data_source\":{\"id\":\"8f1bc863-755e-46a5-a354-f41592786b57\",\"type\":\"ColumnDataSource\"},\"glyph\":{\"id\":\"e1dc0eac-b6f2-4035-adef-01189cf3fc65\",\"type\":\"VBar\"},\"hover_glyph\":null,\"muted_glyph\":null,\"nonselection_glyph\":{\"id\":\"7c746334-fafd-4aa9-9894-6cc53a171b46\",\"type\":\"VBar\"},\"selection_glyph\":null,\"view\":{\"id\":\"71b38937-915e-462b-8eef-04b533296b1b\",\"type\":\"CDSView\"}},\"id\":\"0bab41ed-24e9-4634-9ac6-da76d6f2eccd\",\"type\":\"GlyphRenderer\"},{\"attributes\":{\"axis_label\":\"AREA URBANA - HOMBRES\",\"formatter\":{\"id\":\"a79fdb40-93cb-4a12-b628-12cae97967ee\",\"type\":\"CategoricalTickFormatter\"},\"plot\":{\"id\":\"7d1dfbd3-d249-455d-9599-c1e4e6e2f886\",\"subtype\":\"Figure\",\"type\":\"Plot\"},\"ticker\":{\"id\":\"735a14b1-8c94-4691-b3fe-58171d04bff5\",\"type\":\"CategoricalTicker\"}},\"id\":\"ed3cf918-7bfc-40c2-af69-6b668bb78927\",\"type\":\"CategoricalAxis\"},{\"attributes\":{\"overlay\":{\"id\":\"ea71bd46-4393-466b-bc81-0a24f9194769\",\"type\":\"BoxAnnotation\"}},\"id\":\"516bc6ec-fd76-44ab-928a-1d709516a57a\",\"type\":\"BoxZoomTool\"},{\"attributes\":{},\"id\":\"735a14b1-8c94-4691-b3fe-58171d04bff5\",\"type\":\"CategoricalTicker\"},{\"attributes\":{\"callback\":null,\"column_names\":[\"A_RURAL_H_count\",\"A_RURAL_H_mean\",\"A_RURAL_H_std\",\"A_RURAL_H_min\",\"A_RURAL_H_25%\",\"A_RURAL_H_50%\",\"A_RURAL_H_75%\",\"A_RURAL_H_max\",\"A_RURAL_M_count\",\"A_RURAL_M_mean\",\"A_RURAL_M_std\",\"A_RURAL_M_min\",\"A_RURAL_M_25%\",\"A_RURAL_M_50%\",\"A_RURAL_M_75%\",\"A_RURAL_M_max\",\"A_URBANA_H_count\",\"A_URBANA_H_mean\",\"A_URBANA_H_std\",\"A_URBANA_H_min\",\"A_URBANA_H_25%\",\"A_URBANA_H_50%\",\"A_URBANA_H_75%\",\"A_URBANA_H_max\",\"A_URBANA_M_count\",\"A_URBANA_M_mean\",\"A_URBANA_M_std\",\"A_URBANA_M_min\",\"A_URBANA_M_25%\",\"A_URBANA_M_50%\",\"A_URBANA_M_75%\",\"A_URBANA_M_max\",\"TOTAL_H_count\",\"TOTAL_H_mean\",\"TOTAL_H_std\",\"TOTAL_H_min\",\"TOTAL_H_25%\",\"TOTAL_H_50%\",\"TOTAL_H_75%\",\"TOTAL_H_max\",\"TOTAL_M_count\",\"TOTAL_M_mean\",\"TOTAL_M_std\",\"TOTAL_M_min\",\"TOTAL_M_25%\",\"TOTAL_M_50%\",\"TOTAL_M_75%\",\"TOTAL_M_max\",\"GRANDES_GRUPOS_DE_EDAD\"],\"data\":{\"A_RURAL_H_25%\":{\"__ndarray__\":\"eOkmMQisnD+JQWDl0CKrP/T91HjpJsE/wMqhRbbz1T+S7Xw/NV66Pw==\",\"dtype\":\"float64\",\"shape\":[5]},\"A_RURAL_H_50%\":{\"__ndarray__\":\"eOkmMQisnD+JQWDl0CKrP/T91HjpJsE/wMqhRbbz1T+S7Xw/NV66Pw==\",\"dtype\":\"float64\",\"shape\":[5]},\"A_RURAL_H_75%\":{\"__ndarray__\":\"eOkmMQisnD+JQWDl0CKrP/T91HjpJsE/wMqhRbbz1T+S7Xw/NV66Pw==\",\"dtype\":\"float64\",\"shape\":[5]},\"A_RURAL_H_count\":{\"__ndarray__\":\"AAAAAAAA8D8AAAAAAADwPwAAAAAAAPA/AAAAAAAA8D8AAAAAAADwPw==\",\"dtype\":\"float64\",\"shape\":[5]},\"A_RURAL_H_max\":{\"__ndarray__\":\"eOkmMQisnD+JQWDl0CKrP/T91HjpJsE/wMqhRbbz1T+S7Xw/NV66Pw==\",\"dtype\":\"float64\",\"shape\":[5]},\"A_RURAL_H_mean\":{\"__ndarray__\":\"eOkmMQisnD+JQWDl0CKrP/T91HjpJsE/wMqhRbbz1T+S7Xw/NV66Pw==\",\"dtype\":\"float64\",\"shape\":[5]},\"A_RURAL_H_min\":{\"__ndarray__\":\"eOkmMQisnD+JQWDl0CKrP/T91HjpJsE/wMqhRbbz1T+S7Xw/NV66Pw==\",\"dtype\":\"float64\",\"shape\":[5]},\"A_RURAL_H_std\":{\"__ndarray__\":\"AAAAAAAA+H8AAAAAAAD4fwAAAAAAAPh/AAAAAAAA+H8AAAAAAAD4fw==\",\"dtype\":\"float64\",\"shape\":[5]},\"A_RURAL_M_25%\":{\"__ndarray__\":\"mpmZmZmZmT946SYxCKysPz0K16NwPco/AyuHFtnO3z+TGARWDi3CPw==\",\"dtype\":\"float64\",\"shape\":[5]},\"A_RURAL_M_50%\":{\"__ndarray__\":\"mpmZmZmZmT946SYxCKysPz0K16NwPco/AyuHFtnO3z+TGARWDi3CPw==\",\"dtype\":\"float64\",\"shape\":[5]},\"A_RURAL_M_75%\":{\"__ndarray__\":\"mpmZmZmZmT946SYxCKysPz0K16NwPco/AyuHFtnO3z+TGARWDi3CPw==\",\"dtype\":\"float64\",\"shape\":[5]},\"A_RURAL_M_count\":{\"__ndarray__\":\"AAAAAAAA8D8AAAAAAADwPwAAAAAAAPA/AAAAAAAA8D8AAAAAAADwPw==\",\"dtype\":\"float64\",\"shape\":[5]},\"A_RURAL_M_max\":{\"__ndarray__\":\"mpmZmZmZmT946SYxCKysPz0K16NwPco/AyuHFtnO3z+TGARWDi3CPw==\",\"dtype\":\"float64\",\"shape\":[5]},\"A_RURAL_M_mean\":{\"__ndarray__\":\"mpmZmZmZmT946SYxCKysPz0K16NwPco/AyuHFtnO3z+TGARWDi3CPw==\",\"dtype\":\"float64\",\"shape\":[5]},\"A_RURAL_M_min\":{\"__ndarray__\":\"mpmZmZmZmT946SYxCKysPz0K16NwPco/AyuHFtnO3z+TGARWDi3CPw==\",\"dtype\":\"float64\",\"shape\":[5]},\"A_RURAL_M_std\":{\"__ndarray__\":\"AAAAAAAA+H8AAAAAAAD4fwAAAAAAAPh/AAAAAAAA+H8AAAAAAAD4fw==\",\"dtype\":\"float64\",\"shape\":[5]},\"A_URBANA_H_25%\":{\"__ndarray__\":\"+n5qvHSTiD8830+Nl26SP9v5fmq8dKM//Knx0k1iwD9YObTIdr6fPw==\",\"dtype\":\"float64\",\"shape\":[5]},\"A_URBANA_H_50%\":{\"__ndarray__\":\"+n5qvHSTiD8830+Nl26SP9v5fmq8dKM//Knx0k1iwD9YObTIdr6fPw==\",\"dtype\":\"float64\",\"shape\":[5]},\"A_URBANA_H_75%\":{\"__ndarray__\":\"+n5qvHSTiD8830+Nl26SP9v5fmq8dKM//Knx0k1iwD9YObTIdr6fPw==\",\"dtype\":\"float64\",\"shape\":[5]},\"A_URBANA_H_count\":{\"__ndarray__\":\"AAAAAAAA8D8AAAAAAADwPwAAAAAAAPA/AAAAAAAA8D8AAAAAAADwPw==\",\"dtype\":\"float64\",\"shape\":[5]},\"A_URBANA_H_max\":{\"__ndarray__\":\"+n5qvHSTiD8830+Nl26SP9v5fmq8dKM//Knx0k1iwD9YObTIdr6fPw==\",\"dtype\":\"float64\",\"shape\":[5]},\"A_URBANA_H_mean\":{\"__ndarray__\":\"+n5qvHSTiD8830+Nl26SP9v5fmq8dKM//Knx0k1iwD9YObTIdr6fPw==\",\"dtype\":\"float64\",\"shape\":[5]},\"A_URBANA_H_min\":{\"__ndarray__\":\"+n5qvHSTiD8830+Nl26SP9v5fmq8dKM//Knx0k1iwD9YObTIdr6fPw==\",\"dtype\":\"float64\",\"shape\":[5]},\"A_URBANA_H_std\":{\"__ndarray__\":\"AAAAAAAA+H8AAAAAAAD4fwAAAAAAAPh/AAAAAAAA+H8AAAAAAAD4fw==\",\"dtype\":\"float64\",\"shape\":[5]},\"A_URBANA_M_25%\":{\"__ndarray__\":\"PN9PjZdugj+cxCCwcmiRP9rO91Pjpas/9ihcj8L1yD9qvHSTGASmPw==\",\"dtype\":\"float64\",\"shape\":[5]},\"A_URBANA_M_50%\":{\"__ndarray__\":\"PN9PjZdugj+cxCCwcmiRP9rO91Pjpas/9ihcj8L1yD9qvHSTGASmPw==\",\"dtype\":\"float64\",\"shape\":[5]},\"A_URBANA_M_75%\":{\"__ndarray__\":\"PN9PjZdugj+cxCCwcmiRP9rO91Pjpas/9ihcj8L1yD9qvHSTGASmPw==\",\"dtype\":\"float64\",\"shape\":[5]},\"A_URBANA_M_count\":{\"__ndarray__\":\"AAAAAAAA8D8AAAAAAADwPwAAAAAAAPA/AAAAAAAA8D8AAAAAAADwPw==\",\"dtype\":\"float64\",\"shape\":[5]},\"A_URBANA_M_max\":{\"__ndarray__\":\"PN9PjZdugj+cxCCwcmiRP9rO91Pjpas/9ihcj8L1yD9qvHSTGASmPw==\",\"dtype\":\"float64\",\"shape\":[5]},\"A_URBANA_M_mean\":{\"__ndarray__\":\"PN9PjZdugj+cxCCwcmiRP9rO91Pjpas/9ihcj8L1yD9qvHSTGASmPw==\",\"dtype\":\"float64\",\"shape\":[5]},\"A_URBANA_M_min\":{\"__ndarray__\":\"PN9PjZdugj+cxCCwcmiRP9rO91Pjpas/9ihcj8L1yD9qvHSTGASmPw==\",\"dtype\":\"float64\",\"shape\":[5]},\"A_URBANA_M_std\":{\"__ndarray__\":\"AAAAAAAA+H8AAAAAAAD4fwAAAAAAAPh/AAAAAAAA+H8AAAAAAAD4fw==\",\"dtype\":\"float64\",\"shape\":[5]},\"GRANDES_GRUPOS_DE_EDAD\":[\"15-24 a\\u00f1os\",\"25-39 a\\u00f1os\",\"40-64 a\\u00f1os\",\"65 a\\u00f1os y mas\",\"Total nacional\"],\"TOTAL_H_25%\":{\"__ndarray__\":\"PN9PjZdukj+4HoXrUbiePzzfT42XbrI/eOkmMQiszD8YBFYOLbKtPw==\",\"dtype\":\"float64\",\"shape\":[5]},\"TOTAL_H_50%\":{\"__ndarray__\":\"PN9PjZdukj+4HoXrUbiePzzfT42XbrI/eOkmMQiszD8YBFYOLbKtPw==\",\"dtype\":\"float64\",\"shape\":[5]},\"TOTAL_H_75%\":{\"__ndarray__\":\"PN9PjZdukj+4HoXrUbiePzzfT42XbrI/eOkmMQiszD8YBFYOLbKtPw==\",\"dtype\":\"float64\",\"shape\":[5]},\"TOTAL_H_count\":{\"__ndarray__\":\"AAAAAAAA8D8AAAAAAADwPwAAAAAAAPA/AAAAAAAA8D8AAAAAAADwPw==\",\"dtype\":\"float64\",\"shape\":[5]},\"TOTAL_H_max\":{\"__ndarray__\":\"PN9PjZdukj+4HoXrUbiePzzfT42XbrI/eOkmMQiszD8YBFYOLbKtPw==\",\"dtype\":\"float64\",\"shape\":[5]},\"TOTAL_H_mean\":{\"__ndarray__\":\"PN9PjZdukj+4HoXrUbiePzzfT42XbrI/eOkmMQiszD8YBFYOLbKtPw==\",\"dtype\":\"float64\",\"shape\":[5]},\"TOTAL_H_min\":{\"__ndarray__\":\"PN9PjZdukj+4HoXrUbiePzzfT42XbrI/eOkmMQiszD8YBFYOLbKtPw==\",\"dtype\":\"float64\",\"shape\":[5]},\"TOTAL_H_std\":{\"__ndarray__\":\"AAAAAAAA+H8AAAAAAAD4fwAAAAAAAPh/AAAAAAAA+H8AAAAAAAD4fw==\",\"dtype\":\"float64\",\"shape\":[5]},\"TOTAL_M_25%\":{\"__ndarray__\":\"uB6F61G4jj+4HoXrUbiePzq0yHa+n7o/001iEFg51D+DwMqhRbazPw==\",\"dtype\":\"float64\",\"shape\":[5]},\"TOTAL_M_50%\":{\"__ndarray__\":\"uB6F61G4jj+4HoXrUbiePzq0yHa+n7o/001iEFg51D+DwMqhRbazPw==\",\"dtype\":\"float64\",\"shape\":[5]},\"TOTAL_M_75%\":{\"__ndarray__\":\"uB6F61G4jj+4HoXrUbiePzq0yHa+n7o/001iEFg51D+DwMqhRbazPw==\",\"dtype\":\"float64\",\"shape\":[5]},\"TOTAL_M_count\":{\"__ndarray__\":\"AAAAAAAA8D8AAAAAAADwPwAAAAAAAPA/AAAAAAAA8D8AAAAAAADwPw==\",\"dtype\":\"float64\",\"shape\":[5]},\"TOTAL_M_max\":{\"__ndarray__\":\"uB6F61G4jj+4HoXrUbiePzq0yHa+n7o/001iEFg51D+DwMqhRbazPw==\",\"dtype\":\"float64\",\"shape\":[5]},\"TOTAL_M_mean\":{\"__ndarray__\":\"uB6F61G4jj+4HoXrUbiePzq0yHa+n7o/001iEFg51D+DwMqhRbazPw==\",\"dtype\":\"float64\",\"shape\":[5]},\"TOTAL_M_min\":{\"__ndarray__\":\"uB6F61G4jj+4HoXrUbiePzq0yHa+n7o/001iEFg51D+DwMqhRbazPw==\",\"dtype\":\"float64\",\"shape\":[5]},\"TOTAL_M_std\":{\"__ndarray__\":\"AAAAAAAA+H8AAAAAAAD4fwAAAAAAAPh/AAAAAAAA+H8AAAAAAAD4fw==\",\"dtype\":\"float64\",\"shape\":[5]}}},\"id\":\"8f1bc863-755e-46a5-a354-f41592786b57\",\"type\":\"ColumnDataSource\"},{\"attributes\":{},\"id\":\"ec37859a-3d7b-48cd-b6e6-46a4c70ae8d0\",\"type\":\"ResetTool\"},{\"attributes\":{\"below\":[{\"id\":\"ed3cf918-7bfc-40c2-af69-6b668bb78927\",\"type\":\"CategoricalAxis\"}],\"left\":[{\"id\":\"eddb658e-677f-4f8d-b311-0f021d712b05\",\"type\":\"LinearAxis\"}],\"plot_height\":250,\"plot_width\":750,\"renderers\":[{\"id\":\"ed3cf918-7bfc-40c2-af69-6b668bb78927\",\"type\":\"CategoricalAxis\"},{\"id\":\"08395271-5748-4cfa-ab5b-1ee15e298abf\",\"type\":\"Grid\"},{\"id\":\"eddb658e-677f-4f8d-b311-0f021d712b05\",\"type\":\"LinearAxis\"},{\"id\":\"5e3259f3-5063-456b-9d78-f0ded1b7178e\",\"type\":\"Grid\"},{\"id\":\"ea71bd46-4393-466b-bc81-0a24f9194769\",\"type\":\"BoxAnnotation\"},{\"id\":\"0bab41ed-24e9-4634-9ac6-da76d6f2eccd\",\"type\":\"GlyphRenderer\"}],\"title\":{\"id\":\"6b64ad53-3b99-4770-8fa1-89c39a4d4fd3\",\"type\":\"Title\"},\"toolbar\":{\"id\":\"7aaf0d57-f196-4a92-a957-868e667f657e\",\"type\":\"Toolbar\"},\"x_range\":{\"id\":\"dc82c1e3-4993-4828-94f8-51f4a9a7add7\",\"type\":\"FactorRange\"},\"x_scale\":{\"id\":\"a7c921dd-ee85-4d16-9b09-74d8941281c2\",\"type\":\"CategoricalScale\"},\"y_range\":{\"id\":\"3f89e494-bf6b-48ef-a8ae-28e9ca657006\",\"type\":\"DataRange1d\"},\"y_scale\":{\"id\":\"5b6e6eb7-a653-4a18-b750-13ae1b492004\",\"type\":\"LinearScale\"}},\"id\":\"7d1dfbd3-d249-455d-9599-c1e4e6e2f886\",\"subtype\":\"Figure\",\"type\":\"Plot\"},{\"attributes\":{},\"id\":\"7c627957-de99-471e-8c4d-ee1917ba2575\",\"type\":\"WheelZoomTool\"},{\"attributes\":{},\"id\":\"a79fdb40-93cb-4a12-b628-12cae97967ee\",\"type\":\"CategoricalTickFormatter\"},{\"attributes\":{},\"id\":\"e9d4a98d-c1d5-40c2-8590-229b507c2b15\",\"type\":\"BasicTickFormatter\"},{\"attributes\":{},\"id\":\"68f466df-c10f-416b-9286-41e4b37c7187\",\"type\":\"BasicTicker\"},{\"attributes\":{},\"id\":\"a7c921dd-ee85-4d16-9b09-74d8941281c2\",\"type\":\"CategoricalScale\"},{\"attributes\":{\"source\":{\"id\":\"8f1bc863-755e-46a5-a354-f41592786b57\",\"type\":\"ColumnDataSource\"}},\"id\":\"71b38937-915e-462b-8eef-04b533296b1b\",\"type\":\"CDSView\"},{\"attributes\":{\"bottom_units\":\"screen\",\"fill_alpha\":{\"value\":0.5},\"fill_color\":{\"value\":\"lightgrey\"},\"left_units\":\"screen\",\"level\":\"overlay\",\"line_alpha\":{\"value\":1.0},\"line_color\":{\"value\":\"black\"},\"line_dash\":[4,4],\"line_width\":{\"value\":2},\"plot\":null,\"render_mode\":\"css\",\"right_units\":\"screen\",\"top_units\":\"screen\"},\"id\":\"ea71bd46-4393-466b-bc81-0a24f9194769\",\"type\":\"BoxAnnotation\"},{\"attributes\":{\"formatter\":{\"id\":\"e9d4a98d-c1d5-40c2-8590-229b507c2b15\",\"type\":\"BasicTickFormatter\"},\"plot\":{\"id\":\"7d1dfbd3-d249-455d-9599-c1e4e6e2f886\",\"subtype\":\"Figure\",\"type\":\"Plot\"},\"ticker\":{\"id\":\"68f466df-c10f-416b-9286-41e4b37c7187\",\"type\":\"BasicTicker\"}},\"id\":\"eddb658e-677f-4f8d-b311-0f021d712b05\",\"type\":\"LinearAxis\"},{\"attributes\":{\"fill_alpha\":{\"value\":0.1},\"fill_color\":{\"value\":\"#1f77b4\"},\"line_alpha\":{\"value\":0.1},\"line_color\":{\"value\":\"#1f77b4\"},\"top\":{\"field\":\"A_URBANA_H_mean\"},\"width\":{\"value\":1},\"x\":{\"field\":\"GRANDES_GRUPOS_DE_EDAD\"}},\"id\":\"7c746334-fafd-4aa9-9894-6cc53a171b46\",\"type\":\"VBar\"},{\"attributes\":{},\"id\":\"32248b77-739b-4fa3-a100-367ae4d56e25\",\"type\":\"HelpTool\"},{\"attributes\":{\"fill_color\":{\"value\":\"#1f77b4\"},\"line_color\":{\"value\":\"white\"},\"top\":{\"field\":\"A_URBANA_H_mean\"},\"width\":{\"value\":1},\"x\":{\"field\":\"GRANDES_GRUPOS_DE_EDAD\"}},\"id\":\"e1dc0eac-b6f2-4035-adef-01189cf3fc65\",\"type\":\"VBar\"},{\"attributes\":{},\"id\":\"08430f3f-e108-4644-a59e-f3f4e3db9acf\",\"type\":\"SaveTool\"},{\"attributes\":{\"dimension\":1,\"plot\":{\"id\":\"7d1dfbd3-d249-455d-9599-c1e4e6e2f886\",\"subtype\":\"Figure\",\"type\":\"Plot\"},\"ticker\":{\"id\":\"68f466df-c10f-416b-9286-41e4b37c7187\",\"type\":\"BasicTicker\"}},\"id\":\"5e3259f3-5063-456b-9d78-f0ded1b7178e\",\"type\":\"Grid\"},{\"attributes\":{\"active_drag\":\"auto\",\"active_inspect\":\"auto\",\"active_scroll\":\"auto\",\"active_tap\":\"auto\",\"tools\":[{\"id\":\"09cc948c-4379-4f65-b960-e43ca3d0034e\",\"type\":\"PanTool\"},{\"id\":\"7c627957-de99-471e-8c4d-ee1917ba2575\",\"type\":\"WheelZoomTool\"},{\"id\":\"516bc6ec-fd76-44ab-928a-1d709516a57a\",\"type\":\"BoxZoomTool\"},{\"id\":\"08430f3f-e108-4644-a59e-f3f4e3db9acf\",\"type\":\"SaveTool\"},{\"id\":\"ec37859a-3d7b-48cd-b6e6-46a4c70ae8d0\",\"type\":\"ResetTool\"},{\"id\":\"32248b77-739b-4fa3-a100-367ae4d56e25\",\"type\":\"HelpTool\"}]},\"id\":\"7aaf0d57-f196-4a92-a957-868e667f657e\",\"type\":\"Toolbar\"},{\"attributes\":{},\"id\":\"09cc948c-4379-4f65-b960-e43ca3d0034e\",\"type\":\"PanTool\"},{\"attributes\":{},\"id\":\"5b6e6eb7-a653-4a18-b750-13ae1b492004\",\"type\":\"LinearScale\"},{\"attributes\":{\"callback\":null,\"factors\":[\"15-24 a\\u00f1os\",\"25-39 a\\u00f1os\",\"40-64 a\\u00f1os\",\"65 a\\u00f1os y mas\",\"Total nacional\"]},\"id\":\"dc82c1e3-4993-4828-94f8-51f4a9a7add7\",\"type\":\"FactorRange\"},{\"attributes\":{\"callback\":null,\"start\":0},\"id\":\"3f89e494-bf6b-48ef-a8ae-28e9ca657006\",\"type\":\"DataRange1d\"}],\"root_ids\":[\"7d1dfbd3-d249-455d-9599-c1e4e6e2f886\"]},\"title\":\"Bokeh Application\",\"version\":\"0.12.10\"}};\n",
       "    var render_items = [{\"docid\":\"7c0ce033-273c-4218-bebc-453b7820628f\",\"elementid\":\"6be02fce-dbce-4312-a95d-bf110a175978\",\"modelid\":\"7d1dfbd3-d249-455d-9599-c1e4e6e2f886\"}];\n",
       "\n",
       "    root.Bokeh.embed.embed_items(docs_json, render_items);\n",
       "  }\n",
       "\n",
       "  if (root.Bokeh !== undefined) {\n",
       "    embed_document(root);\n",
       "  } else {\n",
       "    var attempts = 0;\n",
       "    var timer = setInterval(function(root) {\n",
       "      if (root.Bokeh !== undefined) {\n",
       "        embed_document(root);\n",
       "        clearInterval(timer);\n",
       "      }\n",
       "      attempts++;\n",
       "      if (attempts > 100) {\n",
       "        console.log(\"Bokeh: ERROR: Unable to embed document because BokehJS library is missing\")\n",
       "        clearInterval(timer);\n",
       "      }\n",
       "    }, 10, root)\n",
       "  }\n",
       "})(window);"
      ],
      "application/vnd.bokehjs_exec.v0+json": ""
     },
     "metadata": {
      "application/vnd.bokehjs_exec.v0+json": {
       "id": "7d1dfbd3-d249-455d-9599-c1e4e6e2f886"
      }
     },
     "output_type": "display_data"
    }
   ],
   "source": [
    "# Agrupamos los valores en base a la columna \"GRANDES_GRUPOS_DE_EDAD\" \n",
    "group1 = tabla1.groupby('GRANDES_GRUPOS_DE_EDAD')\n",
    "\n",
    "# Nos permite obtener Mapas de nombres columnas, secuencias, matrices.\n",
    "source = ColumnDataSource(group1)\n",
    "\n",
    "# Creamos un objeto de figura\n",
    "gph = figure(\n",
    "    plot_height=250, plot_width=750, # Establecemos el tamaño\n",
    "    x_range=group1,  # Establecemos el rango de x\n",
    "    title='ANALFABETISMO POR AREA Y GRUPOS DE EDAD' # Establecemos un titulo para la grafica \n",
    ")\n",
    "\n",
    "# Establecemos que vamos ha mostrar los datos en forma de barras y establecemos los ejes x,y \n",
    "gph.vbar(x='GRANDES_GRUPOS_DE_EDAD', top='A_URBANA_H_mean', width=1, line_color=\"white\", source=source)\n",
    "\n",
    "gph.xgrid.grid_line_color = None\n",
    "gph.xaxis.axis_label = \"AREA URBANA - HOMBRES\"\n",
    "# Modificamos para la presentación el rango inicial \n",
    "gph.y_range.start = 0\n",
    "\n",
    "show(gph)"
   ]
  },
  {
   "cell_type": "code",
   "execution_count": 34,
   "metadata": {},
   "outputs": [
    {
     "data": {
      "text/html": [
       "\n",
       "<div class=\"bk-root\">\n",
       "    <div class=\"bk-plotdiv\" id=\"91615877-3a4f-497a-820b-f82f6921accc\"></div>\n",
       "</div>"
      ]
     },
     "metadata": {},
     "output_type": "display_data"
    },
    {
     "data": {
      "application/javascript": [
       "(function(root) {\n",
       "  function embed_document(root) {\n",
       "    var docs_json = {\"8522362e-47a0-4bf3-8484-d2a7251a69e9\":{\"roots\":{\"references\":[{\"attributes\":{},\"id\":\"512b3056-f0b7-4164-ab94-98412d130b54\",\"type\":\"BasicTickFormatter\"},{\"attributes\":{\"callback\":null,\"start\":0},\"id\":\"9cd02962-7de5-4802-b921-ee55e38d09b7\",\"type\":\"DataRange1d\"},{\"attributes\":{\"source\":{\"id\":\"045f1149-a3d1-42c7-b727-a4c16966988c\",\"type\":\"ColumnDataSource\"}},\"id\":\"de0a6e44-faec-4d31-b548-df2813c4f2d6\",\"type\":\"CDSView\"},{\"attributes\":{},\"id\":\"4c275a90-8ccd-4466-9ab7-1de942dc2c2d\",\"type\":\"HelpTool\"},{\"attributes\":{\"active_drag\":\"auto\",\"active_inspect\":\"auto\",\"active_scroll\":\"auto\",\"active_tap\":\"auto\",\"tools\":[{\"id\":\"f64538fc-8109-47a3-a5d8-b69030302223\",\"type\":\"PanTool\"},{\"id\":\"d732877d-7523-41da-a398-4089c87b366f\",\"type\":\"WheelZoomTool\"},{\"id\":\"fc50ee92-3ee4-4517-81f9-672ad6068237\",\"type\":\"BoxZoomTool\"},{\"id\":\"7e923814-0292-4aca-9c89-f1d8a5346b6c\",\"type\":\"SaveTool\"},{\"id\":\"1bce7b71-94ae-439d-a4dd-0ef71de3f5a9\",\"type\":\"ResetTool\"},{\"id\":\"4c275a90-8ccd-4466-9ab7-1de942dc2c2d\",\"type\":\"HelpTool\"}]},\"id\":\"7e297b95-2703-43a9-9add-25a930a63dcb\",\"type\":\"Toolbar\"},{\"attributes\":{\"callback\":null,\"factors\":[\"15-24 a\\u00f1os\",\"25-39 a\\u00f1os\",\"40-64 a\\u00f1os\",\"65 a\\u00f1os y mas\",\"Total nacional\"]},\"id\":\"1d2fd801-f377-4eea-865c-d27a7cfe3961\",\"type\":\"FactorRange\"},{\"attributes\":{\"plot\":null,\"text\":\"ANALFABETISMO POR AREA Y GRUPOS DE EDAD\"},\"id\":\"7680f5dd-2001-4ed4-8815-2bef785453fd\",\"type\":\"Title\"},{\"attributes\":{\"formatter\":{\"id\":\"512b3056-f0b7-4164-ab94-98412d130b54\",\"type\":\"BasicTickFormatter\"},\"plot\":{\"id\":\"f2cd2bb1-bc5a-4082-ae36-77f6754365fc\",\"subtype\":\"Figure\",\"type\":\"Plot\"},\"ticker\":{\"id\":\"9d471793-2bd5-4316-8dd0-70b92a4fb655\",\"type\":\"BasicTicker\"}},\"id\":\"3aed1543-c790-4716-8008-28fae9077f20\",\"type\":\"LinearAxis\"},{\"attributes\":{\"bottom_units\":\"screen\",\"fill_alpha\":{\"value\":0.5},\"fill_color\":{\"value\":\"lightgrey\"},\"left_units\":\"screen\",\"level\":\"overlay\",\"line_alpha\":{\"value\":1.0},\"line_color\":{\"value\":\"black\"},\"line_dash\":[4,4],\"line_width\":{\"value\":2},\"plot\":null,\"render_mode\":\"css\",\"right_units\":\"screen\",\"top_units\":\"screen\"},\"id\":\"0a0ba88e-0b39-4f49-ae05-839dfe188de4\",\"type\":\"BoxAnnotation\"},{\"attributes\":{\"grid_line_color\":{\"value\":null},\"plot\":{\"id\":\"f2cd2bb1-bc5a-4082-ae36-77f6754365fc\",\"subtype\":\"Figure\",\"type\":\"Plot\"},\"ticker\":{\"id\":\"cd44bb40-c24d-491b-92c8-c820e38fdace\",\"type\":\"CategoricalTicker\"}},\"id\":\"dcf60f49-eb59-458f-88a2-521bfaa4b911\",\"type\":\"Grid\"},{\"attributes\":{\"data_source\":{\"id\":\"045f1149-a3d1-42c7-b727-a4c16966988c\",\"type\":\"ColumnDataSource\"},\"glyph\":{\"id\":\"786b4e09-b0a8-4d09-bdd6-640c02ac7280\",\"type\":\"Line\"},\"hover_glyph\":null,\"muted_glyph\":null,\"nonselection_glyph\":{\"id\":\"d020ceca-81e2-41db-866e-fcbcdecf91e1\",\"type\":\"Line\"},\"selection_glyph\":null,\"view\":{\"id\":\"de0a6e44-faec-4d31-b548-df2813c4f2d6\",\"type\":\"CDSView\"}},\"id\":\"c5efd8ac-7392-440a-8cc3-70e6e10e6614\",\"type\":\"GlyphRenderer\"},{\"attributes\":{\"line_alpha\":{\"value\":0.1},\"line_color\":{\"value\":\"#1f77b4\"},\"x\":{\"field\":\"GRANDES_GRUPOS_DE_EDAD\"},\"y\":{\"field\":\"A_URBANA_M_mean\"}},\"id\":\"d020ceca-81e2-41db-866e-fcbcdecf91e1\",\"type\":\"Line\"},{\"attributes\":{},\"id\":\"143042bc-2d61-443d-b23a-7b9f7bda52b5\",\"type\":\"LinearScale\"},{\"attributes\":{\"below\":[{\"id\":\"96c08037-b0ba-48eb-ae4f-835354fb3e6a\",\"type\":\"CategoricalAxis\"}],\"left\":[{\"id\":\"3aed1543-c790-4716-8008-28fae9077f20\",\"type\":\"LinearAxis\"}],\"plot_height\":250,\"plot_width\":750,\"renderers\":[{\"id\":\"96c08037-b0ba-48eb-ae4f-835354fb3e6a\",\"type\":\"CategoricalAxis\"},{\"id\":\"dcf60f49-eb59-458f-88a2-521bfaa4b911\",\"type\":\"Grid\"},{\"id\":\"3aed1543-c790-4716-8008-28fae9077f20\",\"type\":\"LinearAxis\"},{\"id\":\"1ca58ece-afb5-4f76-be3d-839b2c7df128\",\"type\":\"Grid\"},{\"id\":\"0a0ba88e-0b39-4f49-ae05-839dfe188de4\",\"type\":\"BoxAnnotation\"},{\"id\":\"c5efd8ac-7392-440a-8cc3-70e6e10e6614\",\"type\":\"GlyphRenderer\"}],\"title\":{\"id\":\"7680f5dd-2001-4ed4-8815-2bef785453fd\",\"type\":\"Title\"},\"toolbar\":{\"id\":\"7e297b95-2703-43a9-9add-25a930a63dcb\",\"type\":\"Toolbar\"},\"x_range\":{\"id\":\"1d2fd801-f377-4eea-865c-d27a7cfe3961\",\"type\":\"FactorRange\"},\"x_scale\":{\"id\":\"5f17a2ab-83f4-4bd8-aced-363aeb599582\",\"type\":\"CategoricalScale\"},\"y_range\":{\"id\":\"9cd02962-7de5-4802-b921-ee55e38d09b7\",\"type\":\"DataRange1d\"},\"y_scale\":{\"id\":\"143042bc-2d61-443d-b23a-7b9f7bda52b5\",\"type\":\"LinearScale\"}},\"id\":\"f2cd2bb1-bc5a-4082-ae36-77f6754365fc\",\"subtype\":\"Figure\",\"type\":\"Plot\"},{\"attributes\":{},\"id\":\"5f17a2ab-83f4-4bd8-aced-363aeb599582\",\"type\":\"CategoricalScale\"},{\"attributes\":{},\"id\":\"cd44bb40-c24d-491b-92c8-c820e38fdace\",\"type\":\"CategoricalTicker\"},{\"attributes\":{},\"id\":\"f64538fc-8109-47a3-a5d8-b69030302223\",\"type\":\"PanTool\"},{\"attributes\":{\"overlay\":{\"id\":\"0a0ba88e-0b39-4f49-ae05-839dfe188de4\",\"type\":\"BoxAnnotation\"}},\"id\":\"fc50ee92-3ee4-4517-81f9-672ad6068237\",\"type\":\"BoxZoomTool\"},{\"attributes\":{},\"id\":\"d732877d-7523-41da-a398-4089c87b366f\",\"type\":\"WheelZoomTool\"},{\"attributes\":{},\"id\":\"1bce7b71-94ae-439d-a4dd-0ef71de3f5a9\",\"type\":\"ResetTool\"},{\"attributes\":{\"line_color\":{\"value\":\"#FF69B4\"},\"x\":{\"field\":\"GRANDES_GRUPOS_DE_EDAD\"},\"y\":{\"field\":\"A_URBANA_M_mean\"}},\"id\":\"786b4e09-b0a8-4d09-bdd6-640c02ac7280\",\"type\":\"Line\"},{\"attributes\":{},\"id\":\"9d471793-2bd5-4316-8dd0-70b92a4fb655\",\"type\":\"BasicTicker\"},{\"attributes\":{\"axis_label\":\"AREA URBANA - MUJERES\",\"formatter\":{\"id\":\"1b86a1e4-8b57-4201-811b-c211ff8ddfc1\",\"type\":\"CategoricalTickFormatter\"},\"plot\":{\"id\":\"f2cd2bb1-bc5a-4082-ae36-77f6754365fc\",\"subtype\":\"Figure\",\"type\":\"Plot\"},\"ticker\":{\"id\":\"cd44bb40-c24d-491b-92c8-c820e38fdace\",\"type\":\"CategoricalTicker\"}},\"id\":\"96c08037-b0ba-48eb-ae4f-835354fb3e6a\",\"type\":\"CategoricalAxis\"},{\"attributes\":{\"dimension\":1,\"plot\":{\"id\":\"f2cd2bb1-bc5a-4082-ae36-77f6754365fc\",\"subtype\":\"Figure\",\"type\":\"Plot\"},\"ticker\":{\"id\":\"9d471793-2bd5-4316-8dd0-70b92a4fb655\",\"type\":\"BasicTicker\"}},\"id\":\"1ca58ece-afb5-4f76-be3d-839b2c7df128\",\"type\":\"Grid\"},{\"attributes\":{},\"id\":\"1b86a1e4-8b57-4201-811b-c211ff8ddfc1\",\"type\":\"CategoricalTickFormatter\"},{\"attributes\":{},\"id\":\"7e923814-0292-4aca-9c89-f1d8a5346b6c\",\"type\":\"SaveTool\"},{\"attributes\":{\"callback\":null,\"column_names\":[\"A_RURAL_H_count\",\"A_RURAL_H_mean\",\"A_RURAL_H_std\",\"A_RURAL_H_min\",\"A_RURAL_H_25%\",\"A_RURAL_H_50%\",\"A_RURAL_H_75%\",\"A_RURAL_H_max\",\"A_RURAL_M_count\",\"A_RURAL_M_mean\",\"A_RURAL_M_std\",\"A_RURAL_M_min\",\"A_RURAL_M_25%\",\"A_RURAL_M_50%\",\"A_RURAL_M_75%\",\"A_RURAL_M_max\",\"A_URBANA_H_count\",\"A_URBANA_H_mean\",\"A_URBANA_H_std\",\"A_URBANA_H_min\",\"A_URBANA_H_25%\",\"A_URBANA_H_50%\",\"A_URBANA_H_75%\",\"A_URBANA_H_max\",\"A_URBANA_M_count\",\"A_URBANA_M_mean\",\"A_URBANA_M_std\",\"A_URBANA_M_min\",\"A_URBANA_M_25%\",\"A_URBANA_M_50%\",\"A_URBANA_M_75%\",\"A_URBANA_M_max\",\"TOTAL_H_count\",\"TOTAL_H_mean\",\"TOTAL_H_std\",\"TOTAL_H_min\",\"TOTAL_H_25%\",\"TOTAL_H_50%\",\"TOTAL_H_75%\",\"TOTAL_H_max\",\"TOTAL_M_count\",\"TOTAL_M_mean\",\"TOTAL_M_std\",\"TOTAL_M_min\",\"TOTAL_M_25%\",\"TOTAL_M_50%\",\"TOTAL_M_75%\",\"TOTAL_M_max\",\"GRANDES_GRUPOS_DE_EDAD\"],\"data\":{\"A_RURAL_H_25%\":{\"__ndarray__\":\"eOkmMQisnD+JQWDl0CKrP/T91HjpJsE/wMqhRbbz1T+S7Xw/NV66Pw==\",\"dtype\":\"float64\",\"shape\":[5]},\"A_RURAL_H_50%\":{\"__ndarray__\":\"eOkmMQisnD+JQWDl0CKrP/T91HjpJsE/wMqhRbbz1T+S7Xw/NV66Pw==\",\"dtype\":\"float64\",\"shape\":[5]},\"A_RURAL_H_75%\":{\"__ndarray__\":\"eOkmMQisnD+JQWDl0CKrP/T91HjpJsE/wMqhRbbz1T+S7Xw/NV66Pw==\",\"dtype\":\"float64\",\"shape\":[5]},\"A_RURAL_H_count\":{\"__ndarray__\":\"AAAAAAAA8D8AAAAAAADwPwAAAAAAAPA/AAAAAAAA8D8AAAAAAADwPw==\",\"dtype\":\"float64\",\"shape\":[5]},\"A_RURAL_H_max\":{\"__ndarray__\":\"eOkmMQisnD+JQWDl0CKrP/T91HjpJsE/wMqhRbbz1T+S7Xw/NV66Pw==\",\"dtype\":\"float64\",\"shape\":[5]},\"A_RURAL_H_mean\":{\"__ndarray__\":\"eOkmMQisnD+JQWDl0CKrP/T91HjpJsE/wMqhRbbz1T+S7Xw/NV66Pw==\",\"dtype\":\"float64\",\"shape\":[5]},\"A_RURAL_H_min\":{\"__ndarray__\":\"eOkmMQisnD+JQWDl0CKrP/T91HjpJsE/wMqhRbbz1T+S7Xw/NV66Pw==\",\"dtype\":\"float64\",\"shape\":[5]},\"A_RURAL_H_std\":{\"__ndarray__\":\"AAAAAAAA+H8AAAAAAAD4fwAAAAAAAPh/AAAAAAAA+H8AAAAAAAD4fw==\",\"dtype\":\"float64\",\"shape\":[5]},\"A_RURAL_M_25%\":{\"__ndarray__\":\"mpmZmZmZmT946SYxCKysPz0K16NwPco/AyuHFtnO3z+TGARWDi3CPw==\",\"dtype\":\"float64\",\"shape\":[5]},\"A_RURAL_M_50%\":{\"__ndarray__\":\"mpmZmZmZmT946SYxCKysPz0K16NwPco/AyuHFtnO3z+TGARWDi3CPw==\",\"dtype\":\"float64\",\"shape\":[5]},\"A_RURAL_M_75%\":{\"__ndarray__\":\"mpmZmZmZmT946SYxCKysPz0K16NwPco/AyuHFtnO3z+TGARWDi3CPw==\",\"dtype\":\"float64\",\"shape\":[5]},\"A_RURAL_M_count\":{\"__ndarray__\":\"AAAAAAAA8D8AAAAAAADwPwAAAAAAAPA/AAAAAAAA8D8AAAAAAADwPw==\",\"dtype\":\"float64\",\"shape\":[5]},\"A_RURAL_M_max\":{\"__ndarray__\":\"mpmZmZmZmT946SYxCKysPz0K16NwPco/AyuHFtnO3z+TGARWDi3CPw==\",\"dtype\":\"float64\",\"shape\":[5]},\"A_RURAL_M_mean\":{\"__ndarray__\":\"mpmZmZmZmT946SYxCKysPz0K16NwPco/AyuHFtnO3z+TGARWDi3CPw==\",\"dtype\":\"float64\",\"shape\":[5]},\"A_RURAL_M_min\":{\"__ndarray__\":\"mpmZmZmZmT946SYxCKysPz0K16NwPco/AyuHFtnO3z+TGARWDi3CPw==\",\"dtype\":\"float64\",\"shape\":[5]},\"A_RURAL_M_std\":{\"__ndarray__\":\"AAAAAAAA+H8AAAAAAAD4fwAAAAAAAPh/AAAAAAAA+H8AAAAAAAD4fw==\",\"dtype\":\"float64\",\"shape\":[5]},\"A_URBANA_H_25%\":{\"__ndarray__\":\"+n5qvHSTiD8830+Nl26SP9v5fmq8dKM//Knx0k1iwD9YObTIdr6fPw==\",\"dtype\":\"float64\",\"shape\":[5]},\"A_URBANA_H_50%\":{\"__ndarray__\":\"+n5qvHSTiD8830+Nl26SP9v5fmq8dKM//Knx0k1iwD9YObTIdr6fPw==\",\"dtype\":\"float64\",\"shape\":[5]},\"A_URBANA_H_75%\":{\"__ndarray__\":\"+n5qvHSTiD8830+Nl26SP9v5fmq8dKM//Knx0k1iwD9YObTIdr6fPw==\",\"dtype\":\"float64\",\"shape\":[5]},\"A_URBANA_H_count\":{\"__ndarray__\":\"AAAAAAAA8D8AAAAAAADwPwAAAAAAAPA/AAAAAAAA8D8AAAAAAADwPw==\",\"dtype\":\"float64\",\"shape\":[5]},\"A_URBANA_H_max\":{\"__ndarray__\":\"+n5qvHSTiD8830+Nl26SP9v5fmq8dKM//Knx0k1iwD9YObTIdr6fPw==\",\"dtype\":\"float64\",\"shape\":[5]},\"A_URBANA_H_mean\":{\"__ndarray__\":\"+n5qvHSTiD8830+Nl26SP9v5fmq8dKM//Knx0k1iwD9YObTIdr6fPw==\",\"dtype\":\"float64\",\"shape\":[5]},\"A_URBANA_H_min\":{\"__ndarray__\":\"+n5qvHSTiD8830+Nl26SP9v5fmq8dKM//Knx0k1iwD9YObTIdr6fPw==\",\"dtype\":\"float64\",\"shape\":[5]},\"A_URBANA_H_std\":{\"__ndarray__\":\"AAAAAAAA+H8AAAAAAAD4fwAAAAAAAPh/AAAAAAAA+H8AAAAAAAD4fw==\",\"dtype\":\"float64\",\"shape\":[5]},\"A_URBANA_M_25%\":{\"__ndarray__\":\"PN9PjZdugj+cxCCwcmiRP9rO91Pjpas/9ihcj8L1yD9qvHSTGASmPw==\",\"dtype\":\"float64\",\"shape\":[5]},\"A_URBANA_M_50%\":{\"__ndarray__\":\"PN9PjZdugj+cxCCwcmiRP9rO91Pjpas/9ihcj8L1yD9qvHSTGASmPw==\",\"dtype\":\"float64\",\"shape\":[5]},\"A_URBANA_M_75%\":{\"__ndarray__\":\"PN9PjZdugj+cxCCwcmiRP9rO91Pjpas/9ihcj8L1yD9qvHSTGASmPw==\",\"dtype\":\"float64\",\"shape\":[5]},\"A_URBANA_M_count\":{\"__ndarray__\":\"AAAAAAAA8D8AAAAAAADwPwAAAAAAAPA/AAAAAAAA8D8AAAAAAADwPw==\",\"dtype\":\"float64\",\"shape\":[5]},\"A_URBANA_M_max\":{\"__ndarray__\":\"PN9PjZdugj+cxCCwcmiRP9rO91Pjpas/9ihcj8L1yD9qvHSTGASmPw==\",\"dtype\":\"float64\",\"shape\":[5]},\"A_URBANA_M_mean\":{\"__ndarray__\":\"PN9PjZdugj+cxCCwcmiRP9rO91Pjpas/9ihcj8L1yD9qvHSTGASmPw==\",\"dtype\":\"float64\",\"shape\":[5]},\"A_URBANA_M_min\":{\"__ndarray__\":\"PN9PjZdugj+cxCCwcmiRP9rO91Pjpas/9ihcj8L1yD9qvHSTGASmPw==\",\"dtype\":\"float64\",\"shape\":[5]},\"A_URBANA_M_std\":{\"__ndarray__\":\"AAAAAAAA+H8AAAAAAAD4fwAAAAAAAPh/AAAAAAAA+H8AAAAAAAD4fw==\",\"dtype\":\"float64\",\"shape\":[5]},\"GRANDES_GRUPOS_DE_EDAD\":[\"15-24 a\\u00f1os\",\"25-39 a\\u00f1os\",\"40-64 a\\u00f1os\",\"65 a\\u00f1os y mas\",\"Total nacional\"],\"TOTAL_H_25%\":{\"__ndarray__\":\"PN9PjZdukj+4HoXrUbiePzzfT42XbrI/eOkmMQiszD8YBFYOLbKtPw==\",\"dtype\":\"float64\",\"shape\":[5]},\"TOTAL_H_50%\":{\"__ndarray__\":\"PN9PjZdukj+4HoXrUbiePzzfT42XbrI/eOkmMQiszD8YBFYOLbKtPw==\",\"dtype\":\"float64\",\"shape\":[5]},\"TOTAL_H_75%\":{\"__ndarray__\":\"PN9PjZdukj+4HoXrUbiePzzfT42XbrI/eOkmMQiszD8YBFYOLbKtPw==\",\"dtype\":\"float64\",\"shape\":[5]},\"TOTAL_H_count\":{\"__ndarray__\":\"AAAAAAAA8D8AAAAAAADwPwAAAAAAAPA/AAAAAAAA8D8AAAAAAADwPw==\",\"dtype\":\"float64\",\"shape\":[5]},\"TOTAL_H_max\":{\"__ndarray__\":\"PN9PjZdukj+4HoXrUbiePzzfT42XbrI/eOkmMQiszD8YBFYOLbKtPw==\",\"dtype\":\"float64\",\"shape\":[5]},\"TOTAL_H_mean\":{\"__ndarray__\":\"PN9PjZdukj+4HoXrUbiePzzfT42XbrI/eOkmMQiszD8YBFYOLbKtPw==\",\"dtype\":\"float64\",\"shape\":[5]},\"TOTAL_H_min\":{\"__ndarray__\":\"PN9PjZdukj+4HoXrUbiePzzfT42XbrI/eOkmMQiszD8YBFYOLbKtPw==\",\"dtype\":\"float64\",\"shape\":[5]},\"TOTAL_H_std\":{\"__ndarray__\":\"AAAAAAAA+H8AAAAAAAD4fwAAAAAAAPh/AAAAAAAA+H8AAAAAAAD4fw==\",\"dtype\":\"float64\",\"shape\":[5]},\"TOTAL_M_25%\":{\"__ndarray__\":\"uB6F61G4jj+4HoXrUbiePzq0yHa+n7o/001iEFg51D+DwMqhRbazPw==\",\"dtype\":\"float64\",\"shape\":[5]},\"TOTAL_M_50%\":{\"__ndarray__\":\"uB6F61G4jj+4HoXrUbiePzq0yHa+n7o/001iEFg51D+DwMqhRbazPw==\",\"dtype\":\"float64\",\"shape\":[5]},\"TOTAL_M_75%\":{\"__ndarray__\":\"uB6F61G4jj+4HoXrUbiePzq0yHa+n7o/001iEFg51D+DwMqhRbazPw==\",\"dtype\":\"float64\",\"shape\":[5]},\"TOTAL_M_count\":{\"__ndarray__\":\"AAAAAAAA8D8AAAAAAADwPwAAAAAAAPA/AAAAAAAA8D8AAAAAAADwPw==\",\"dtype\":\"float64\",\"shape\":[5]},\"TOTAL_M_max\":{\"__ndarray__\":\"uB6F61G4jj+4HoXrUbiePzq0yHa+n7o/001iEFg51D+DwMqhRbazPw==\",\"dtype\":\"float64\",\"shape\":[5]},\"TOTAL_M_mean\":{\"__ndarray__\":\"uB6F61G4jj+4HoXrUbiePzq0yHa+n7o/001iEFg51D+DwMqhRbazPw==\",\"dtype\":\"float64\",\"shape\":[5]},\"TOTAL_M_min\":{\"__ndarray__\":\"uB6F61G4jj+4HoXrUbiePzq0yHa+n7o/001iEFg51D+DwMqhRbazPw==\",\"dtype\":\"float64\",\"shape\":[5]},\"TOTAL_M_std\":{\"__ndarray__\":\"AAAAAAAA+H8AAAAAAAD4fwAAAAAAAPh/AAAAAAAA+H8AAAAAAAD4fw==\",\"dtype\":\"float64\",\"shape\":[5]}}},\"id\":\"045f1149-a3d1-42c7-b727-a4c16966988c\",\"type\":\"ColumnDataSource\"}],\"root_ids\":[\"f2cd2bb1-bc5a-4082-ae36-77f6754365fc\"]},\"title\":\"Bokeh Application\",\"version\":\"0.12.10\"}};\n",
       "    var render_items = [{\"docid\":\"8522362e-47a0-4bf3-8484-d2a7251a69e9\",\"elementid\":\"91615877-3a4f-497a-820b-f82f6921accc\",\"modelid\":\"f2cd2bb1-bc5a-4082-ae36-77f6754365fc\"}];\n",
       "\n",
       "    root.Bokeh.embed.embed_items(docs_json, render_items);\n",
       "  }\n",
       "\n",
       "  if (root.Bokeh !== undefined) {\n",
       "    embed_document(root);\n",
       "  } else {\n",
       "    var attempts = 0;\n",
       "    var timer = setInterval(function(root) {\n",
       "      if (root.Bokeh !== undefined) {\n",
       "        embed_document(root);\n",
       "        clearInterval(timer);\n",
       "      }\n",
       "      attempts++;\n",
       "      if (attempts > 100) {\n",
       "        console.log(\"Bokeh: ERROR: Unable to embed document because BokehJS library is missing\")\n",
       "        clearInterval(timer);\n",
       "      }\n",
       "    }, 10, root)\n",
       "  }\n",
       "})(window);"
      ],
      "application/vnd.bokehjs_exec.v0+json": ""
     },
     "metadata": {
      "application/vnd.bokehjs_exec.v0+json": {
       "id": "f2cd2bb1-bc5a-4082-ae36-77f6754365fc"
      }
     },
     "output_type": "display_data"
    }
   ],
   "source": [
    "# Agrupamos los valores en base a la columna \"GRANDES_GRUPOS_DE_EDAD\" \n",
    "group1 = tabla1.groupby('GRANDES_GRUPOS_DE_EDAD')\n",
    "\n",
    "# Nos permite obtener Mapas nombres de columnas a secuencias o matrices.\n",
    "source = ColumnDataSource(group1)\n",
    "\n",
    "# Creamos un objeto de figura y establecemos su tamaño, rango, y le damos un título \n",
    "p = figure(plot_height=250, plot_width=750, x_range=group1,  title='ANALFABETISMO POR AREA Y GRUPOS DE EDAD')\n",
    "\n",
    "\n",
    "p.line(x='GRANDES_GRUPOS_DE_EDAD', y='A_URBANA_M_mean', color='#FF69B4', source=source)\n",
    "\n",
    "p.xgrid.grid_line_color = None\n",
    "p.xaxis.axis_label = \"AREA URBANA - MUJERES\"\n",
    "# Modificamos para la presentación el rango inicial \n",
    "p.y_range.start = 0\n",
    "\n",
    "show(p)"
   ]
  },
  {
   "cell_type": "code",
   "execution_count": 13,
   "metadata": {},
   "outputs": [
    {
     "data": {
      "text/plain": [
       "{'A_RURAL_H_25%': array([ 0.028,  0.053,  0.134,  0.343,  0.103]),\n",
       " 'A_RURAL_H_50%': array([ 0.028,  0.053,  0.134,  0.343,  0.103]),\n",
       " 'A_RURAL_H_75%': array([ 0.028,  0.053,  0.134,  0.343,  0.103]),\n",
       " 'A_RURAL_H_count': array([ 1.,  1.,  1.,  1.,  1.]),\n",
       " 'A_RURAL_H_max': array([ 0.028,  0.053,  0.134,  0.343,  0.103]),\n",
       " 'A_RURAL_H_mean': array([ 0.028,  0.053,  0.134,  0.343,  0.103]),\n",
       " 'A_RURAL_H_min': array([ 0.028,  0.053,  0.134,  0.343,  0.103]),\n",
       " 'A_RURAL_H_std': array([ nan,  nan,  nan,  nan,  nan]),\n",
       " 'A_RURAL_M_25%': array([ 0.025,  0.056,  0.205,  0.497,  0.142]),\n",
       " 'A_RURAL_M_50%': array([ 0.025,  0.056,  0.205,  0.497,  0.142]),\n",
       " 'A_RURAL_M_75%': array([ 0.025,  0.056,  0.205,  0.497,  0.142]),\n",
       " 'A_RURAL_M_count': array([ 1.,  1.,  1.,  1.,  1.]),\n",
       " 'A_RURAL_M_max': array([ 0.025,  0.056,  0.205,  0.497,  0.142]),\n",
       " 'A_RURAL_M_mean': array([ 0.025,  0.056,  0.205,  0.497,  0.142]),\n",
       " 'A_RURAL_M_min': array([ 0.025,  0.056,  0.205,  0.497,  0.142]),\n",
       " 'A_RURAL_M_std': array([ nan,  nan,  nan,  nan,  nan]),\n",
       " 'A_URBANA_H_25%': array([ 0.012,  0.018,  0.038,  0.128,  0.031]),\n",
       " 'A_URBANA_H_50%': array([ 0.012,  0.018,  0.038,  0.128,  0.031]),\n",
       " 'A_URBANA_H_75%': array([ 0.012,  0.018,  0.038,  0.128,  0.031]),\n",
       " 'A_URBANA_H_count': array([ 1.,  1.,  1.,  1.,  1.]),\n",
       " 'A_URBANA_H_max': array([ 0.012,  0.018,  0.038,  0.128,  0.031]),\n",
       " 'A_URBANA_H_mean': array([ 0.012,  0.018,  0.038,  0.128,  0.031]),\n",
       " 'A_URBANA_H_min': array([ 0.012,  0.018,  0.038,  0.128,  0.031]),\n",
       " 'A_URBANA_H_std': array([ nan,  nan,  nan,  nan,  nan]),\n",
       " 'A_URBANA_M_25%': array([ 0.009,  0.017,  0.054,  0.195,  0.043]),\n",
       " 'A_URBANA_M_50%': array([ 0.009,  0.017,  0.054,  0.195,  0.043]),\n",
       " 'A_URBANA_M_75%': array([ 0.009,  0.017,  0.054,  0.195,  0.043]),\n",
       " 'A_URBANA_M_count': array([ 1.,  1.,  1.,  1.,  1.]),\n",
       " 'A_URBANA_M_max': array([ 0.009,  0.017,  0.054,  0.195,  0.043]),\n",
       " 'A_URBANA_M_mean': array([ 0.009,  0.017,  0.054,  0.195,  0.043]),\n",
       " 'A_URBANA_M_min': array([ 0.009,  0.017,  0.054,  0.195,  0.043]),\n",
       " 'A_URBANA_M_std': array([ nan,  nan,  nan,  nan,  nan]),\n",
       " 'GRANDES_GRUPOS_DE_EDAD': array(['15-24 años', '25-39 años', '40-64 años', '65 años y mas',\n",
       "        'Total nacional'], dtype=object),\n",
       " 'TOTAL_H_25%': array([ 0.018,  0.03 ,  0.072,  0.224,  0.058]),\n",
       " 'TOTAL_H_50%': array([ 0.018,  0.03 ,  0.072,  0.224,  0.058]),\n",
       " 'TOTAL_H_75%': array([ 0.018,  0.03 ,  0.072,  0.224,  0.058]),\n",
       " 'TOTAL_H_count': array([ 1.,  1.,  1.,  1.,  1.]),\n",
       " 'TOTAL_H_max': array([ 0.018,  0.03 ,  0.072,  0.224,  0.058]),\n",
       " 'TOTAL_H_mean': array([ 0.018,  0.03 ,  0.072,  0.224,  0.058]),\n",
       " 'TOTAL_H_min': array([ 0.018,  0.03 ,  0.072,  0.224,  0.058]),\n",
       " 'TOTAL_H_std': array([ nan,  nan,  nan,  nan,  nan]),\n",
       " 'TOTAL_M_25%': array([ 0.015,  0.03 ,  0.104,  0.316,  0.077]),\n",
       " 'TOTAL_M_50%': array([ 0.015,  0.03 ,  0.104,  0.316,  0.077]),\n",
       " 'TOTAL_M_75%': array([ 0.015,  0.03 ,  0.104,  0.316,  0.077]),\n",
       " 'TOTAL_M_count': array([ 1.,  1.,  1.,  1.,  1.]),\n",
       " 'TOTAL_M_max': array([ 0.015,  0.03 ,  0.104,  0.316,  0.077]),\n",
       " 'TOTAL_M_mean': array([ 0.015,  0.03 ,  0.104,  0.316,  0.077]),\n",
       " 'TOTAL_M_min': array([ 0.015,  0.03 ,  0.104,  0.316,  0.077]),\n",
       " 'TOTAL_M_std': array([ nan,  nan,  nan,  nan,  nan])}"
      ]
     },
     "execution_count": 13,
     "metadata": {},
     "output_type": "execute_result"
    }
   ],
   "source": [
    "# Agrupamos los valores en base a la columna \"GRANDES_GRUPOS_DE_EDAD\" \n",
    "group1 = tabla1.groupby('GRANDES_GRUPOS_DE_EDAD')\n",
    "\n",
    "# Nos permite obtener Mapas nombres de columnas a secuencias o matrices.\n",
    "source = ColumnDataSource(group1)\n",
    "\n",
    "# Mostramos los nombres de los datos albergados en source - donde buscamos los nombre de los datos que buscamos en concreto\n",
    "source.data"
   ]
  },
  {
   "cell_type": "code",
   "execution_count": 22,
   "metadata": {},
   "outputs": [
    {
     "data": {
      "text/html": [
       "\n",
       "<div class=\"bk-root\">\n",
       "    <div class=\"bk-plotdiv\" id=\"677ac976-2689-41a1-bed4-d513ee671645\"></div>\n",
       "</div>"
      ]
     },
     "metadata": {},
     "output_type": "display_data"
    },
    {
     "data": {
      "application/javascript": [
       "(function(root) {\n",
       "  function embed_document(root) {\n",
       "    var docs_json = {\"79cc2bd2-7cf2-410c-a31d-bcfd1bb25596\":{\"roots\":{\"references\":[{\"attributes\":{\"axis_label\":\"AREA URBANA - MUJERES\",\"formatter\":{\"id\":\"cccc8942-f96f-4543-a719-88855c204e78\",\"type\":\"CategoricalTickFormatter\"},\"plot\":{\"id\":\"faacb209-5b1c-43e7-8985-2dd4bb601582\",\"subtype\":\"Figure\",\"type\":\"Plot\"},\"ticker\":{\"id\":\"29f2a092-62d9-464e-b634-197f34d7725f\",\"type\":\"CategoricalTicker\"}},\"id\":\"082f5767-ace3-4760-8492-ac81448f6e7d\",\"type\":\"CategoricalAxis\"},{\"attributes\":{},\"id\":\"f826ec27-f3e1-44aa-8ed3-e15bb1a56699\",\"type\":\"CategoricalScale\"},{\"attributes\":{\"callback\":null,\"start\":0},\"id\":\"e3a91aaa-fbbe-4143-856c-fe86ca8c4830\",\"type\":\"DataRange1d\"},{\"attributes\":{\"below\":[{\"id\":\"082f5767-ace3-4760-8492-ac81448f6e7d\",\"type\":\"CategoricalAxis\"}],\"left\":[{\"id\":\"b0503596-5987-4995-be2c-714aaa8e8779\",\"type\":\"LinearAxis\"}],\"plot_height\":250,\"plot_width\":750,\"renderers\":[{\"id\":\"082f5767-ace3-4760-8492-ac81448f6e7d\",\"type\":\"CategoricalAxis\"},{\"id\":\"5f2889f8-d202-4515-a0db-6250bdaa2f43\",\"type\":\"Grid\"},{\"id\":\"b0503596-5987-4995-be2c-714aaa8e8779\",\"type\":\"LinearAxis\"},{\"id\":\"8268f19f-4900-4cd4-bfdc-2726904ab15b\",\"type\":\"Grid\"},{\"id\":\"dd1a4594-b4b9-4c08-9a3a-fd94c8d9f395\",\"type\":\"BoxAnnotation\"},{\"id\":\"b2c901aa-3cd3-4702-a3b9-26815a6630bf\",\"type\":\"GlyphRenderer\"},{\"id\":\"2137509c-88d6-4115-9b5a-419e6ce97963\",\"type\":\"GlyphRenderer\"}],\"title\":{\"id\":\"cae1505c-5f5c-466b-9bf1-ec52e69fe8ab\",\"type\":\"Title\"},\"toolbar\":{\"id\":\"b5df3d95-cc86-4835-a70b-f5290500c2c1\",\"type\":\"Toolbar\"},\"x_range\":{\"id\":\"31393cf2-3c27-42f2-bd0b-b2ab46603b57\",\"type\":\"FactorRange\"},\"x_scale\":{\"id\":\"f826ec27-f3e1-44aa-8ed3-e15bb1a56699\",\"type\":\"CategoricalScale\"},\"y_range\":{\"id\":\"e3a91aaa-fbbe-4143-856c-fe86ca8c4830\",\"type\":\"DataRange1d\"},\"y_scale\":{\"id\":\"601546be-70c7-4417-8c7e-8d3598929076\",\"type\":\"LinearScale\"}},\"id\":\"faacb209-5b1c-43e7-8985-2dd4bb601582\",\"subtype\":\"Figure\",\"type\":\"Plot\"},{\"attributes\":{\"formatter\":{\"id\":\"0b334db8-0cce-4b96-9ca8-9c8817db0f59\",\"type\":\"BasicTickFormatter\"},\"plot\":{\"id\":\"faacb209-5b1c-43e7-8985-2dd4bb601582\",\"subtype\":\"Figure\",\"type\":\"Plot\"},\"ticker\":{\"id\":\"a1eea876-631d-4e5c-b79c-d78c3b4c0954\",\"type\":\"BasicTicker\"}},\"id\":\"b0503596-5987-4995-be2c-714aaa8e8779\",\"type\":\"LinearAxis\"},{\"attributes\":{},\"id\":\"cccc8942-f96f-4543-a719-88855c204e78\",\"type\":\"CategoricalTickFormatter\"},{\"attributes\":{},\"id\":\"a1eea876-631d-4e5c-b79c-d78c3b4c0954\",\"type\":\"BasicTicker\"},{\"attributes\":{\"callback\":null,\"column_names\":[\"A_RURAL_H_count\",\"A_RURAL_H_mean\",\"A_RURAL_H_std\",\"A_RURAL_H_min\",\"A_RURAL_H_25%\",\"A_RURAL_H_50%\",\"A_RURAL_H_75%\",\"A_RURAL_H_max\",\"A_RURAL_M_count\",\"A_RURAL_M_mean\",\"A_RURAL_M_std\",\"A_RURAL_M_min\",\"A_RURAL_M_25%\",\"A_RURAL_M_50%\",\"A_RURAL_M_75%\",\"A_RURAL_M_max\",\"A_URBANA_H_count\",\"A_URBANA_H_mean\",\"A_URBANA_H_std\",\"A_URBANA_H_min\",\"A_URBANA_H_25%\",\"A_URBANA_H_50%\",\"A_URBANA_H_75%\",\"A_URBANA_H_max\",\"A_URBANA_M_count\",\"A_URBANA_M_mean\",\"A_URBANA_M_std\",\"A_URBANA_M_min\",\"A_URBANA_M_25%\",\"A_URBANA_M_50%\",\"A_URBANA_M_75%\",\"A_URBANA_M_max\",\"TOTAL_H_count\",\"TOTAL_H_mean\",\"TOTAL_H_std\",\"TOTAL_H_min\",\"TOTAL_H_25%\",\"TOTAL_H_50%\",\"TOTAL_H_75%\",\"TOTAL_H_max\",\"TOTAL_M_count\",\"TOTAL_M_mean\",\"TOTAL_M_std\",\"TOTAL_M_min\",\"TOTAL_M_25%\",\"TOTAL_M_50%\",\"TOTAL_M_75%\",\"TOTAL_M_max\",\"GRANDES_GRUPOS_DE_EDAD\"],\"data\":{\"A_RURAL_H_25%\":{\"__ndarray__\":\"eOkmMQisnD+JQWDl0CKrP/T91HjpJsE/wMqhRbbz1T+S7Xw/NV66Pw==\",\"dtype\":\"float64\",\"shape\":[5]},\"A_RURAL_H_50%\":{\"__ndarray__\":\"eOkmMQisnD+JQWDl0CKrP/T91HjpJsE/wMqhRbbz1T+S7Xw/NV66Pw==\",\"dtype\":\"float64\",\"shape\":[5]},\"A_RURAL_H_75%\":{\"__ndarray__\":\"eOkmMQisnD+JQWDl0CKrP/T91HjpJsE/wMqhRbbz1T+S7Xw/NV66Pw==\",\"dtype\":\"float64\",\"shape\":[5]},\"A_RURAL_H_count\":{\"__ndarray__\":\"AAAAAAAA8D8AAAAAAADwPwAAAAAAAPA/AAAAAAAA8D8AAAAAAADwPw==\",\"dtype\":\"float64\",\"shape\":[5]},\"A_RURAL_H_max\":{\"__ndarray__\":\"eOkmMQisnD+JQWDl0CKrP/T91HjpJsE/wMqhRbbz1T+S7Xw/NV66Pw==\",\"dtype\":\"float64\",\"shape\":[5]},\"A_RURAL_H_mean\":{\"__ndarray__\":\"eOkmMQisnD+JQWDl0CKrP/T91HjpJsE/wMqhRbbz1T+S7Xw/NV66Pw==\",\"dtype\":\"float64\",\"shape\":[5]},\"A_RURAL_H_min\":{\"__ndarray__\":\"eOkmMQisnD+JQWDl0CKrP/T91HjpJsE/wMqhRbbz1T+S7Xw/NV66Pw==\",\"dtype\":\"float64\",\"shape\":[5]},\"A_RURAL_H_std\":{\"__ndarray__\":\"AAAAAAAA+H8AAAAAAAD4fwAAAAAAAPh/AAAAAAAA+H8AAAAAAAD4fw==\",\"dtype\":\"float64\",\"shape\":[5]},\"A_RURAL_M_25%\":{\"__ndarray__\":\"mpmZmZmZmT946SYxCKysPz0K16NwPco/AyuHFtnO3z+TGARWDi3CPw==\",\"dtype\":\"float64\",\"shape\":[5]},\"A_RURAL_M_50%\":{\"__ndarray__\":\"mpmZmZmZmT946SYxCKysPz0K16NwPco/AyuHFtnO3z+TGARWDi3CPw==\",\"dtype\":\"float64\",\"shape\":[5]},\"A_RURAL_M_75%\":{\"__ndarray__\":\"mpmZmZmZmT946SYxCKysPz0K16NwPco/AyuHFtnO3z+TGARWDi3CPw==\",\"dtype\":\"float64\",\"shape\":[5]},\"A_RURAL_M_count\":{\"__ndarray__\":\"AAAAAAAA8D8AAAAAAADwPwAAAAAAAPA/AAAAAAAA8D8AAAAAAADwPw==\",\"dtype\":\"float64\",\"shape\":[5]},\"A_RURAL_M_max\":{\"__ndarray__\":\"mpmZmZmZmT946SYxCKysPz0K16NwPco/AyuHFtnO3z+TGARWDi3CPw==\",\"dtype\":\"float64\",\"shape\":[5]},\"A_RURAL_M_mean\":{\"__ndarray__\":\"mpmZmZmZmT946SYxCKysPz0K16NwPco/AyuHFtnO3z+TGARWDi3CPw==\",\"dtype\":\"float64\",\"shape\":[5]},\"A_RURAL_M_min\":{\"__ndarray__\":\"mpmZmZmZmT946SYxCKysPz0K16NwPco/AyuHFtnO3z+TGARWDi3CPw==\",\"dtype\":\"float64\",\"shape\":[5]},\"A_RURAL_M_std\":{\"__ndarray__\":\"AAAAAAAA+H8AAAAAAAD4fwAAAAAAAPh/AAAAAAAA+H8AAAAAAAD4fw==\",\"dtype\":\"float64\",\"shape\":[5]},\"A_URBANA_H_25%\":{\"__ndarray__\":\"+n5qvHSTiD8830+Nl26SP9v5fmq8dKM//Knx0k1iwD9YObTIdr6fPw==\",\"dtype\":\"float64\",\"shape\":[5]},\"A_URBANA_H_50%\":{\"__ndarray__\":\"+n5qvHSTiD8830+Nl26SP9v5fmq8dKM//Knx0k1iwD9YObTIdr6fPw==\",\"dtype\":\"float64\",\"shape\":[5]},\"A_URBANA_H_75%\":{\"__ndarray__\":\"+n5qvHSTiD8830+Nl26SP9v5fmq8dKM//Knx0k1iwD9YObTIdr6fPw==\",\"dtype\":\"float64\",\"shape\":[5]},\"A_URBANA_H_count\":{\"__ndarray__\":\"AAAAAAAA8D8AAAAAAADwPwAAAAAAAPA/AAAAAAAA8D8AAAAAAADwPw==\",\"dtype\":\"float64\",\"shape\":[5]},\"A_URBANA_H_max\":{\"__ndarray__\":\"+n5qvHSTiD8830+Nl26SP9v5fmq8dKM//Knx0k1iwD9YObTIdr6fPw==\",\"dtype\":\"float64\",\"shape\":[5]},\"A_URBANA_H_mean\":{\"__ndarray__\":\"+n5qvHSTiD8830+Nl26SP9v5fmq8dKM//Knx0k1iwD9YObTIdr6fPw==\",\"dtype\":\"float64\",\"shape\":[5]},\"A_URBANA_H_min\":{\"__ndarray__\":\"+n5qvHSTiD8830+Nl26SP9v5fmq8dKM//Knx0k1iwD9YObTIdr6fPw==\",\"dtype\":\"float64\",\"shape\":[5]},\"A_URBANA_H_std\":{\"__ndarray__\":\"AAAAAAAA+H8AAAAAAAD4fwAAAAAAAPh/AAAAAAAA+H8AAAAAAAD4fw==\",\"dtype\":\"float64\",\"shape\":[5]},\"A_URBANA_M_25%\":{\"__ndarray__\":\"PN9PjZdugj+cxCCwcmiRP9rO91Pjpas/9ihcj8L1yD9qvHSTGASmPw==\",\"dtype\":\"float64\",\"shape\":[5]},\"A_URBANA_M_50%\":{\"__ndarray__\":\"PN9PjZdugj+cxCCwcmiRP9rO91Pjpas/9ihcj8L1yD9qvHSTGASmPw==\",\"dtype\":\"float64\",\"shape\":[5]},\"A_URBANA_M_75%\":{\"__ndarray__\":\"PN9PjZdugj+cxCCwcmiRP9rO91Pjpas/9ihcj8L1yD9qvHSTGASmPw==\",\"dtype\":\"float64\",\"shape\":[5]},\"A_URBANA_M_count\":{\"__ndarray__\":\"AAAAAAAA8D8AAAAAAADwPwAAAAAAAPA/AAAAAAAA8D8AAAAAAADwPw==\",\"dtype\":\"float64\",\"shape\":[5]},\"A_URBANA_M_max\":{\"__ndarray__\":\"PN9PjZdugj+cxCCwcmiRP9rO91Pjpas/9ihcj8L1yD9qvHSTGASmPw==\",\"dtype\":\"float64\",\"shape\":[5]},\"A_URBANA_M_mean\":{\"__ndarray__\":\"PN9PjZdugj+cxCCwcmiRP9rO91Pjpas/9ihcj8L1yD9qvHSTGASmPw==\",\"dtype\":\"float64\",\"shape\":[5]},\"A_URBANA_M_min\":{\"__ndarray__\":\"PN9PjZdugj+cxCCwcmiRP9rO91Pjpas/9ihcj8L1yD9qvHSTGASmPw==\",\"dtype\":\"float64\",\"shape\":[5]},\"A_URBANA_M_std\":{\"__ndarray__\":\"AAAAAAAA+H8AAAAAAAD4fwAAAAAAAPh/AAAAAAAA+H8AAAAAAAD4fw==\",\"dtype\":\"float64\",\"shape\":[5]},\"GRANDES_GRUPOS_DE_EDAD\":[\"15-24 a\\u00f1os\",\"25-39 a\\u00f1os\",\"40-64 a\\u00f1os\",\"65 a\\u00f1os y mas\",\"Total nacional\"],\"TOTAL_H_25%\":{\"__ndarray__\":\"PN9PjZdukj+4HoXrUbiePzzfT42XbrI/eOkmMQiszD8YBFYOLbKtPw==\",\"dtype\":\"float64\",\"shape\":[5]},\"TOTAL_H_50%\":{\"__ndarray__\":\"PN9PjZdukj+4HoXrUbiePzzfT42XbrI/eOkmMQiszD8YBFYOLbKtPw==\",\"dtype\":\"float64\",\"shape\":[5]},\"TOTAL_H_75%\":{\"__ndarray__\":\"PN9PjZdukj+4HoXrUbiePzzfT42XbrI/eOkmMQiszD8YBFYOLbKtPw==\",\"dtype\":\"float64\",\"shape\":[5]},\"TOTAL_H_count\":{\"__ndarray__\":\"AAAAAAAA8D8AAAAAAADwPwAAAAAAAPA/AAAAAAAA8D8AAAAAAADwPw==\",\"dtype\":\"float64\",\"shape\":[5]},\"TOTAL_H_max\":{\"__ndarray__\":\"PN9PjZdukj+4HoXrUbiePzzfT42XbrI/eOkmMQiszD8YBFYOLbKtPw==\",\"dtype\":\"float64\",\"shape\":[5]},\"TOTAL_H_mean\":{\"__ndarray__\":\"PN9PjZdukj+4HoXrUbiePzzfT42XbrI/eOkmMQiszD8YBFYOLbKtPw==\",\"dtype\":\"float64\",\"shape\":[5]},\"TOTAL_H_min\":{\"__ndarray__\":\"PN9PjZdukj+4HoXrUbiePzzfT42XbrI/eOkmMQiszD8YBFYOLbKtPw==\",\"dtype\":\"float64\",\"shape\":[5]},\"TOTAL_H_std\":{\"__ndarray__\":\"AAAAAAAA+H8AAAAAAAD4fwAAAAAAAPh/AAAAAAAA+H8AAAAAAAD4fw==\",\"dtype\":\"float64\",\"shape\":[5]},\"TOTAL_M_25%\":{\"__ndarray__\":\"uB6F61G4jj+4HoXrUbiePzq0yHa+n7o/001iEFg51D+DwMqhRbazPw==\",\"dtype\":\"float64\",\"shape\":[5]},\"TOTAL_M_50%\":{\"__ndarray__\":\"uB6F61G4jj+4HoXrUbiePzq0yHa+n7o/001iEFg51D+DwMqhRbazPw==\",\"dtype\":\"float64\",\"shape\":[5]},\"TOTAL_M_75%\":{\"__ndarray__\":\"uB6F61G4jj+4HoXrUbiePzq0yHa+n7o/001iEFg51D+DwMqhRbazPw==\",\"dtype\":\"float64\",\"shape\":[5]},\"TOTAL_M_count\":{\"__ndarray__\":\"AAAAAAAA8D8AAAAAAADwPwAAAAAAAPA/AAAAAAAA8D8AAAAAAADwPw==\",\"dtype\":\"float64\",\"shape\":[5]},\"TOTAL_M_max\":{\"__ndarray__\":\"uB6F61G4jj+4HoXrUbiePzq0yHa+n7o/001iEFg51D+DwMqhRbazPw==\",\"dtype\":\"float64\",\"shape\":[5]},\"TOTAL_M_mean\":{\"__ndarray__\":\"uB6F61G4jj+4HoXrUbiePzq0yHa+n7o/001iEFg51D+DwMqhRbazPw==\",\"dtype\":\"float64\",\"shape\":[5]},\"TOTAL_M_min\":{\"__ndarray__\":\"uB6F61G4jj+4HoXrUbiePzq0yHa+n7o/001iEFg51D+DwMqhRbazPw==\",\"dtype\":\"float64\",\"shape\":[5]},\"TOTAL_M_std\":{\"__ndarray__\":\"AAAAAAAA+H8AAAAAAAD4fwAAAAAAAPh/AAAAAAAA+H8AAAAAAAD4fw==\",\"dtype\":\"float64\",\"shape\":[5]}}},\"id\":\"9dc8141b-0345-440a-b34f-f5e5cfbd24ba\",\"type\":\"ColumnDataSource\"},{\"attributes\":{\"fill_alpha\":{\"value\":0.1},\"fill_color\":{\"value\":\"#1f77b4\"},\"line_alpha\":{\"value\":0.1},\"line_color\":{\"value\":\"#1f77b4\"},\"size\":{\"units\":\"screen\",\"value\":5.5},\"x\":{\"field\":\"GRANDES_GRUPOS_DE_EDAD\"},\"y\":{\"field\":\"A_URBANA_M_mean\"}},\"id\":\"7cfde122-975d-420f-9da6-b78c481060df\",\"type\":\"Circle\"},{\"attributes\":{\"fill_color\":{\"value\":\"#FF69B4\"},\"line_color\":{\"value\":\"#FF69B4\"},\"size\":{\"units\":\"screen\",\"value\":5.5},\"x\":{\"field\":\"GRANDES_GRUPOS_DE_EDAD\"},\"y\":{\"field\":\"A_URBANA_M_mean\"}},\"id\":\"bfb0649d-f78e-4206-99b3-ab8ee3b3e8ff\",\"type\":\"Circle\"},{\"attributes\":{},\"id\":\"63cec478-5103-4500-8251-5e3152bcde7a\",\"type\":\"ResetTool\"},{\"attributes\":{\"data_source\":{\"id\":\"9dc8141b-0345-440a-b34f-f5e5cfbd24ba\",\"type\":\"ColumnDataSource\"},\"glyph\":{\"id\":\"aadd96f9-c3a9-437a-81be-04d6a9265f1e\",\"type\":\"Line\"},\"hover_glyph\":null,\"muted_glyph\":null,\"nonselection_glyph\":{\"id\":\"0a8baa9b-8a3c-4095-9d5e-ff00a0fbed50\",\"type\":\"Line\"},\"selection_glyph\":null,\"view\":{\"id\":\"98e031ec-1adb-41b6-b842-d200b3f767bc\",\"type\":\"CDSView\"}},\"id\":\"b2c901aa-3cd3-4702-a3b9-26815a6630bf\",\"type\":\"GlyphRenderer\"},{\"attributes\":{\"line_color\":{\"value\":\"#FF69B4\"},\"x\":{\"field\":\"GRANDES_GRUPOS_DE_EDAD\"},\"y\":{\"field\":\"A_URBANA_M_mean\"}},\"id\":\"aadd96f9-c3a9-437a-81be-04d6a9265f1e\",\"type\":\"Line\"},{\"attributes\":{\"source\":{\"id\":\"9dc8141b-0345-440a-b34f-f5e5cfbd24ba\",\"type\":\"ColumnDataSource\"}},\"id\":\"665be599-5d91-4280-8c10-acf4d59a40e8\",\"type\":\"CDSView\"},{\"attributes\":{},\"id\":\"29f2a092-62d9-464e-b634-197f34d7725f\",\"type\":\"CategoricalTicker\"},{\"attributes\":{},\"id\":\"aba0b4a8-1914-4af1-b47c-7edaf5141cfa\",\"type\":\"HelpTool\"},{\"attributes\":{\"data_source\":{\"id\":\"9dc8141b-0345-440a-b34f-f5e5cfbd24ba\",\"type\":\"ColumnDataSource\"},\"glyph\":{\"id\":\"bfb0649d-f78e-4206-99b3-ab8ee3b3e8ff\",\"type\":\"Circle\"},\"hover_glyph\":null,\"muted_glyph\":null,\"nonselection_glyph\":{\"id\":\"7cfde122-975d-420f-9da6-b78c481060df\",\"type\":\"Circle\"},\"selection_glyph\":null,\"view\":{\"id\":\"665be599-5d91-4280-8c10-acf4d59a40e8\",\"type\":\"CDSView\"}},\"id\":\"2137509c-88d6-4115-9b5a-419e6ce97963\",\"type\":\"GlyphRenderer\"},{\"attributes\":{},\"id\":\"947d395d-3482-46d2-a041-197036992137\",\"type\":\"PanTool\"},{\"attributes\":{\"bottom_units\":\"screen\",\"fill_alpha\":{\"value\":0.5},\"fill_color\":{\"value\":\"lightgrey\"},\"left_units\":\"screen\",\"level\":\"overlay\",\"line_alpha\":{\"value\":1.0},\"line_color\":{\"value\":\"black\"},\"line_dash\":[4,4],\"line_width\":{\"value\":2},\"plot\":null,\"render_mode\":\"css\",\"right_units\":\"screen\",\"top_units\":\"screen\"},\"id\":\"dd1a4594-b4b9-4c08-9a3a-fd94c8d9f395\",\"type\":\"BoxAnnotation\"},{\"attributes\":{\"plot\":null,\"text\":\"ANALFABETISMO POR AREA Y GRUPOS DE EDAD\"},\"id\":\"cae1505c-5f5c-466b-9bf1-ec52e69fe8ab\",\"type\":\"Title\"},{\"attributes\":{\"line_alpha\":{\"value\":0.1},\"line_color\":{\"value\":\"#1f77b4\"},\"x\":{\"field\":\"GRANDES_GRUPOS_DE_EDAD\"},\"y\":{\"field\":\"A_URBANA_M_mean\"}},\"id\":\"0a8baa9b-8a3c-4095-9d5e-ff00a0fbed50\",\"type\":\"Line\"},{\"attributes\":{},\"id\":\"601546be-70c7-4417-8c7e-8d3598929076\",\"type\":\"LinearScale\"},{\"attributes\":{\"source\":{\"id\":\"9dc8141b-0345-440a-b34f-f5e5cfbd24ba\",\"type\":\"ColumnDataSource\"}},\"id\":\"98e031ec-1adb-41b6-b842-d200b3f767bc\",\"type\":\"CDSView\"},{\"attributes\":{},\"id\":\"5d482b30-9dc7-4862-b8f3-cb392dbf02fa\",\"type\":\"SaveTool\"},{\"attributes\":{\"dimension\":1,\"plot\":{\"id\":\"faacb209-5b1c-43e7-8985-2dd4bb601582\",\"subtype\":\"Figure\",\"type\":\"Plot\"},\"ticker\":{\"id\":\"a1eea876-631d-4e5c-b79c-d78c3b4c0954\",\"type\":\"BasicTicker\"}},\"id\":\"8268f19f-4900-4cd4-bfdc-2726904ab15b\",\"type\":\"Grid\"},{\"attributes\":{\"overlay\":{\"id\":\"dd1a4594-b4b9-4c08-9a3a-fd94c8d9f395\",\"type\":\"BoxAnnotation\"}},\"id\":\"d534f8e0-b997-4fca-84b4-080231a36798\",\"type\":\"BoxZoomTool\"},{\"attributes\":{},\"id\":\"fa2798f7-784b-437b-9b2f-14cc42399c78\",\"type\":\"WheelZoomTool\"},{\"attributes\":{\"plot\":{\"id\":\"faacb209-5b1c-43e7-8985-2dd4bb601582\",\"subtype\":\"Figure\",\"type\":\"Plot\"},\"ticker\":{\"id\":\"29f2a092-62d9-464e-b634-197f34d7725f\",\"type\":\"CategoricalTicker\"}},\"id\":\"5f2889f8-d202-4515-a0db-6250bdaa2f43\",\"type\":\"Grid\"},{\"attributes\":{\"callback\":null,\"factors\":[\"15-24 a\\u00f1os\",\"25-39 a\\u00f1os\",\"40-64 a\\u00f1os\",\"65 a\\u00f1os y mas\",\"Total nacional\"]},\"id\":\"31393cf2-3c27-42f2-bd0b-b2ab46603b57\",\"type\":\"FactorRange\"},{\"attributes\":{},\"id\":\"0b334db8-0cce-4b96-9ca8-9c8817db0f59\",\"type\":\"BasicTickFormatter\"},{\"attributes\":{\"active_drag\":\"auto\",\"active_inspect\":\"auto\",\"active_scroll\":\"auto\",\"active_tap\":\"auto\",\"tools\":[{\"id\":\"947d395d-3482-46d2-a041-197036992137\",\"type\":\"PanTool\"},{\"id\":\"fa2798f7-784b-437b-9b2f-14cc42399c78\",\"type\":\"WheelZoomTool\"},{\"id\":\"d534f8e0-b997-4fca-84b4-080231a36798\",\"type\":\"BoxZoomTool\"},{\"id\":\"5d482b30-9dc7-4862-b8f3-cb392dbf02fa\",\"type\":\"SaveTool\"},{\"id\":\"63cec478-5103-4500-8251-5e3152bcde7a\",\"type\":\"ResetTool\"},{\"id\":\"aba0b4a8-1914-4af1-b47c-7edaf5141cfa\",\"type\":\"HelpTool\"}]},\"id\":\"b5df3d95-cc86-4835-a70b-f5290500c2c1\",\"type\":\"Toolbar\"}],\"root_ids\":[\"faacb209-5b1c-43e7-8985-2dd4bb601582\"]},\"title\":\"Bokeh Application\",\"version\":\"0.12.10\"}};\n",
       "    var render_items = [{\"docid\":\"79cc2bd2-7cf2-410c-a31d-bcfd1bb25596\",\"elementid\":\"677ac976-2689-41a1-bed4-d513ee671645\",\"modelid\":\"faacb209-5b1c-43e7-8985-2dd4bb601582\"}];\n",
       "\n",
       "    root.Bokeh.embed.embed_items(docs_json, render_items);\n",
       "  }\n",
       "\n",
       "  if (root.Bokeh !== undefined) {\n",
       "    embed_document(root);\n",
       "  } else {\n",
       "    var attempts = 0;\n",
       "    var timer = setInterval(function(root) {\n",
       "      if (root.Bokeh !== undefined) {\n",
       "        embed_document(root);\n",
       "        clearInterval(timer);\n",
       "      }\n",
       "      attempts++;\n",
       "      if (attempts > 100) {\n",
       "        console.log(\"Bokeh: ERROR: Unable to embed document because BokehJS library is missing\")\n",
       "        clearInterval(timer);\n",
       "      }\n",
       "    }, 10, root)\n",
       "  }\n",
       "})(window);"
      ],
      "application/vnd.bokehjs_exec.v0+json": ""
     },
     "metadata": {
      "application/vnd.bokehjs_exec.v0+json": {
       "id": "faacb209-5b1c-43e7-8985-2dd4bb601582"
      }
     },
     "output_type": "display_data"
    }
   ],
   "source": [
    "# Agrupamos los valores en base a la columna \"GRANDES_GRUPOS_DE_EDAD\" \n",
    "group1 = tabla1.groupby('GRANDES_GRUPOS_DE_EDAD')\n",
    "\n",
    "# Nos permite obtener Mapas nombres de columnas a secuencias o matrices.\n",
    "source = ColumnDataSource(group1)\n",
    "\n",
    "# Creamos un objeto de figura y establecemos su tamaño, rango, y le damos un título \n",
    "p = figure(plot_height=250, plot_width=750, x_range=group1,  title='ANALFABETISMO POR AREA Y GRUPOS DE EDAD', )\n",
    "\n",
    "\n",
    "p.line(x='GRANDES_GRUPOS_DE_EDAD', y='A_URBANA_M_mean', color='#FF69B4', source=source)\n",
    "\n",
    "p.circle(x='GRANDES_GRUPOS_DE_EDAD', y='A_URBANA_M_mean', color='#FF69B4', size=5.5, source=source)\n",
    "\n",
    "\n",
    "p.xaxis.axis_label = \"AREA URBANA - MUJERES\"\n",
    "# Modificamos para la presentación el rango inicial \n",
    "p.y_range.start = 0\n",
    "\n",
    "show(p)"
   ]
  },
  {
   "cell_type": "code",
   "execution_count": 50,
   "metadata": {},
   "outputs": [
    {
     "data": {
      "text/html": [
       "\n",
       "<div class=\"bk-root\">\n",
       "    <div class=\"bk-plotdiv\" id=\"cb092600-93c4-4ddc-b687-546fb4e0bff2\"></div>\n",
       "</div>"
      ]
     },
     "metadata": {},
     "output_type": "display_data"
    },
    {
     "data": {
      "application/javascript": [
       "(function(root) {\n",
       "  function embed_document(root) {\n",
       "    var docs_json = {\"dadb2489-c38f-41c8-8422-7682e4d5ce46\":{\"roots\":{\"references\":[{\"attributes\":{\"formatter\":{\"id\":\"e85d143d-bd22-4a39-b915-91816dd9dda5\",\"type\":\"CategoricalTickFormatter\"},\"plot\":{\"id\":\"69df6c3c-dc74-4273-94e9-35aa60574aa7\",\"subtype\":\"Figure\",\"type\":\"Plot\"},\"ticker\":{\"id\":\"1cce6bdf-08c5-4168-b02b-eac6cd4dc7b3\",\"type\":\"CategoricalTicker\"}},\"id\":\"65286039-db74-4be0-a914-7503b05f6157\",\"type\":\"CategoricalAxis\"},{\"attributes\":{\"formatter\":{\"id\":\"3b0a41d0-1839-4de9-a7fe-5d7e937dfc52\",\"type\":\"BasicTickFormatter\"},\"plot\":{\"id\":\"69df6c3c-dc74-4273-94e9-35aa60574aa7\",\"subtype\":\"Figure\",\"type\":\"Plot\"},\"ticker\":{\"id\":\"74e1aa85-1103-415f-9f84-fee92e416fc2\",\"type\":\"BasicTicker\"}},\"id\":\"1b962ffd-527f-4465-a3f0-db5c6192dee5\",\"type\":\"LinearAxis\"},{\"attributes\":{},\"id\":\"e85d143d-bd22-4a39-b915-91816dd9dda5\",\"type\":\"CategoricalTickFormatter\"},{\"attributes\":{\"children\":[{\"id\":\"144d1e9c-b562-48a5-be9f-1da2246388f3\",\"type\":\"Row\"}]},\"id\":\"6501184b-c3f8-4fd6-8a8f-5ba53e62a04e\",\"type\":\"Column\"},{\"attributes\":{\"callback\":null,\"factors\":[\"15-24 a\\u00f1os\",\"25-39 a\\u00f1os\",\"40-64 a\\u00f1os\",\"65 a\\u00f1os y mas\",\"Total nacional\"]},\"id\":\"b1e23375-c365-4a83-a21e-f5fe1724c149\",\"type\":\"FactorRange\"},{\"attributes\":{\"fill_alpha\":{\"value\":0.1},\"fill_color\":{\"value\":\"#1f77b4\"},\"line_alpha\":{\"value\":0.1},\"line_color\":{\"value\":\"#1f77b4\"},\"top\":{\"field\":\"TOTAL_H_mean\"},\"width\":{\"value\":0.7},\"x\":{\"field\":\"GRANDES_GRUPOS_DE_EDAD\"}},\"id\":\"040c485a-c422-4fb5-9487-e37e532cb3ba\",\"type\":\"VBar\"},{\"attributes\":{\"callback\":null,\"factors\":[\"15-24 a\\u00f1os\",\"25-39 a\\u00f1os\",\"40-64 a\\u00f1os\",\"65 a\\u00f1os y mas\",\"Total nacional\"]},\"id\":\"f0b80495-f674-471a-9232-a6ddd3c1848b\",\"type\":\"FactorRange\"},{\"attributes\":{},\"id\":\"9ef65fcc-efdb-4855-91fb-9bc457b74600\",\"type\":\"LinearScale\"},{\"attributes\":{},\"id\":\"dc073bf7-2a45-454b-8cfe-7cb041b92932\",\"type\":\"BasicTicker\"},{\"attributes\":{\"bottom_units\":\"screen\",\"fill_alpha\":{\"value\":0.5},\"fill_color\":{\"value\":\"lightgrey\"},\"left_units\":\"screen\",\"level\":\"overlay\",\"line_alpha\":{\"value\":1.0},\"line_color\":{\"value\":\"black\"},\"line_dash\":[4,4],\"line_width\":{\"value\":2},\"plot\":null,\"render_mode\":\"css\",\"right_units\":\"screen\",\"top_units\":\"screen\"},\"id\":\"4bd40cff-c0e1-4858-a39e-f1219a0f0f95\",\"type\":\"BoxAnnotation\"},{\"attributes\":{\"formatter\":{\"id\":\"69081d7a-bc9f-4fad-9bfa-256561bc7284\",\"type\":\"CategoricalTickFormatter\"},\"plot\":{\"id\":\"2b88280d-8f2f-4a75-b380-264c6014b839\",\"subtype\":\"Figure\",\"type\":\"Plot\"},\"ticker\":{\"id\":\"068873a8-0ad1-4174-bc89-0ae98df6a0aa\",\"type\":\"CategoricalTicker\"}},\"id\":\"9d572737-9058-426a-9304-5c45cadfdd72\",\"type\":\"CategoricalAxis\"},{\"attributes\":{\"plot\":{\"id\":\"69df6c3c-dc74-4273-94e9-35aa60574aa7\",\"subtype\":\"Figure\",\"type\":\"Plot\"},\"ticker\":{\"id\":\"1cce6bdf-08c5-4168-b02b-eac6cd4dc7b3\",\"type\":\"CategoricalTicker\"}},\"id\":\"f1fbd4e0-f386-4b6f-bccb-9b0a6f566c90\",\"type\":\"Grid\"},{\"attributes\":{},\"id\":\"76f4f3da-abba-4b21-bf0f-d2bb53951ba9\",\"type\":\"WheelZoomTool\"},{\"attributes\":{\"callback\":null},\"id\":\"2022ae72-87b5-49cf-b9f0-b0e3d7865d8f\",\"type\":\"DataRange1d\"},{\"attributes\":{},\"id\":\"3b0a41d0-1839-4de9-a7fe-5d7e937dfc52\",\"type\":\"BasicTickFormatter\"},{\"attributes\":{\"fill_alpha\":{\"value\":0.1},\"fill_color\":{\"value\":\"#1f77b4\"},\"line_alpha\":{\"value\":0.1},\"line_color\":{\"value\":\"#1f77b4\"},\"top\":{\"field\":\"TOTAL_M_mean\"},\"width\":{\"value\":0.7},\"x\":{\"field\":\"GRANDES_GRUPOS_DE_EDAD\"}},\"id\":\"e0c8cd14-8391-40cd-9548-5cc8a3082649\",\"type\":\"VBar\"},{\"attributes\":{},\"id\":\"6a5228e2-7de3-424a-ac25-cfa61b190267\",\"type\":\"PanTool\"},{\"attributes\":{\"sizing_mode\":\"scale_width\",\"toolbar_location\":\"above\",\"tools\":[{\"id\":\"6a5228e2-7de3-424a-ac25-cfa61b190267\",\"type\":\"PanTool\"},{\"id\":\"76f4f3da-abba-4b21-bf0f-d2bb53951ba9\",\"type\":\"WheelZoomTool\"},{\"id\":\"e4c380f4-a879-4c3d-8b9a-dc4068322eaf\",\"type\":\"BoxZoomTool\"},{\"id\":\"0ec6db6e-4533-412b-8472-5977eab2b95e\",\"type\":\"PanTool\"},{\"id\":\"4c50e7e6-c147-441f-b0d3-16ac2ff09ba7\",\"type\":\"WheelZoomTool\"},{\"id\":\"ed2426ad-43e7-47e5-8d41-c89356506aea\",\"type\":\"BoxZoomTool\"}]},\"id\":\"9c6fe8ba-39cf-4971-ab88-ceabe6d225cc\",\"type\":\"ToolbarBox\"},{\"attributes\":{},\"id\":\"7076a133-b712-436d-b7e6-79e8d88d8a27\",\"type\":\"CategoricalScale\"},{\"attributes\":{},\"id\":\"1cce6bdf-08c5-4168-b02b-eac6cd4dc7b3\",\"type\":\"CategoricalTicker\"},{\"attributes\":{\"below\":[{\"id\":\"65286039-db74-4be0-a914-7503b05f6157\",\"type\":\"CategoricalAxis\"}],\"left\":[{\"id\":\"1b962ffd-527f-4465-a3f0-db5c6192dee5\",\"type\":\"LinearAxis\"}],\"plot_height\":450,\"plot_width\":450,\"renderers\":[{\"id\":\"65286039-db74-4be0-a914-7503b05f6157\",\"type\":\"CategoricalAxis\"},{\"id\":\"f1fbd4e0-f386-4b6f-bccb-9b0a6f566c90\",\"type\":\"Grid\"},{\"id\":\"1b962ffd-527f-4465-a3f0-db5c6192dee5\",\"type\":\"LinearAxis\"},{\"id\":\"5682033d-3993-47bf-9513-351bfdc5878a\",\"type\":\"Grid\"},{\"id\":\"61a1622e-233d-4511-9ffe-779a30960ca1\",\"type\":\"BoxAnnotation\"},{\"id\":\"50ea2163-e955-49a6-ba87-6f27f1c9f334\",\"type\":\"GlyphRenderer\"}],\"title\":{\"id\":\"00054899-45cc-4156-8bd0-d9bc4367fbb0\",\"type\":\"Title\"},\"toolbar\":{\"id\":\"ff02fbf6-7f5e-456c-9c7d-37ee194e7ec2\",\"type\":\"Toolbar\"},\"toolbar_location\":null,\"x_range\":{\"id\":\"b1e23375-c365-4a83-a21e-f5fe1724c149\",\"type\":\"FactorRange\"},\"x_scale\":{\"id\":\"7076a133-b712-436d-b7e6-79e8d88d8a27\",\"type\":\"CategoricalScale\"},\"y_range\":{\"id\":\"2022ae72-87b5-49cf-b9f0-b0e3d7865d8f\",\"type\":\"DataRange1d\"},\"y_scale\":{\"id\":\"9ef65fcc-efdb-4855-91fb-9bc457b74600\",\"type\":\"LinearScale\"}},\"id\":\"69df6c3c-dc74-4273-94e9-35aa60574aa7\",\"subtype\":\"Figure\",\"type\":\"Plot\"},{\"attributes\":{\"plot\":null,\"text\":\"TOTAl MUJERES\"},\"id\":\"00054899-45cc-4156-8bd0-d9bc4367fbb0\",\"type\":\"Title\"},{\"attributes\":{\"overlay\":{\"id\":\"4bd40cff-c0e1-4858-a39e-f1219a0f0f95\",\"type\":\"BoxAnnotation\"}},\"id\":\"ed2426ad-43e7-47e5-8d41-c89356506aea\",\"type\":\"BoxZoomTool\"},{\"attributes\":{\"source\":{\"id\":\"218ffea0-bc1f-4b96-aaa9-d7a71a04907a\",\"type\":\"ColumnDataSource\"}},\"id\":\"0ae17014-851e-447c-aed2-79a2ec0abddd\",\"type\":\"CDSView\"},{\"attributes\":{\"bottom_units\":\"screen\",\"fill_alpha\":{\"value\":0.5},\"fill_color\":{\"value\":\"lightgrey\"},\"left_units\":\"screen\",\"level\":\"overlay\",\"line_alpha\":{\"value\":1.0},\"line_color\":{\"value\":\"black\"},\"line_dash\":[4,4],\"line_width\":{\"value\":2},\"plot\":null,\"render_mode\":\"css\",\"right_units\":\"screen\",\"top_units\":\"screen\"},\"id\":\"61a1622e-233d-4511-9ffe-779a30960ca1\",\"type\":\"BoxAnnotation\"},{\"attributes\":{},\"id\":\"4c50e7e6-c147-441f-b0d3-16ac2ff09ba7\",\"type\":\"WheelZoomTool\"},{\"attributes\":{\"fill_color\":{\"value\":\"#F08080\"},\"line_color\":{\"value\":\"white\"},\"top\":{\"field\":\"TOTAL_H_mean\"},\"width\":{\"value\":0.7},\"x\":{\"field\":\"GRANDES_GRUPOS_DE_EDAD\"}},\"id\":\"aa7c7ecc-0c15-4747-8764-e6c7fbe5b361\",\"type\":\"VBar\"},{\"attributes\":{\"plot\":{\"id\":\"2b88280d-8f2f-4a75-b380-264c6014b839\",\"subtype\":\"Figure\",\"type\":\"Plot\"},\"ticker\":{\"id\":\"068873a8-0ad1-4174-bc89-0ae98df6a0aa\",\"type\":\"CategoricalTicker\"}},\"id\":\"84bc86d0-4175-4667-964e-aca91ae6ffa4\",\"type\":\"Grid\"},{\"attributes\":{},\"id\":\"291e07b9-1765-4816-9270-5144e575dc35\",\"type\":\"BasicTickFormatter\"},{\"attributes\":{\"callback\":null},\"id\":\"357cb82e-6668-47d7-8a49-cef40f3680eb\",\"type\":\"DataRange1d\"},{\"attributes\":{\"overlay\":{\"id\":\"61a1622e-233d-4511-9ffe-779a30960ca1\",\"type\":\"BoxAnnotation\"}},\"id\":\"e4c380f4-a879-4c3d-8b9a-dc4068322eaf\",\"type\":\"BoxZoomTool\"},{\"attributes\":{},\"id\":\"74e1aa85-1103-415f-9f84-fee92e416fc2\",\"type\":\"BasicTicker\"},{\"attributes\":{\"formatter\":{\"id\":\"291e07b9-1765-4816-9270-5144e575dc35\",\"type\":\"BasicTickFormatter\"},\"plot\":{\"id\":\"2b88280d-8f2f-4a75-b380-264c6014b839\",\"subtype\":\"Figure\",\"type\":\"Plot\"},\"ticker\":{\"id\":\"dc073bf7-2a45-454b-8cfe-7cb041b92932\",\"type\":\"BasicTicker\"}},\"id\":\"82275bbb-58e8-4327-ab2f-e508b3634474\",\"type\":\"LinearAxis\"},{\"attributes\":{},\"id\":\"69081d7a-bc9f-4fad-9bfa-256561bc7284\",\"type\":\"CategoricalTickFormatter\"},{\"attributes\":{\"active_drag\":\"auto\",\"active_inspect\":\"auto\",\"active_scroll\":\"auto\",\"active_tap\":\"auto\",\"tools\":[{\"id\":\"0ec6db6e-4533-412b-8472-5977eab2b95e\",\"type\":\"PanTool\"},{\"id\":\"4c50e7e6-c147-441f-b0d3-16ac2ff09ba7\",\"type\":\"WheelZoomTool\"},{\"id\":\"ed2426ad-43e7-47e5-8d41-c89356506aea\",\"type\":\"BoxZoomTool\"}]},\"id\":\"51409615-ecbc-477e-b212-e4b20d85286d\",\"type\":\"Toolbar\"},{\"attributes\":{\"data_source\":{\"id\":\"218ffea0-bc1f-4b96-aaa9-d7a71a04907a\",\"type\":\"ColumnDataSource\"},\"glyph\":{\"id\":\"9b466087-95e6-4772-b94c-0355407ade55\",\"type\":\"VBar\"},\"hover_glyph\":null,\"muted_glyph\":null,\"nonselection_glyph\":{\"id\":\"e0c8cd14-8391-40cd-9548-5cc8a3082649\",\"type\":\"VBar\"},\"selection_glyph\":null,\"view\":{\"id\":\"ee7d7504-9334-4f33-9f87-f4604fb3ecd1\",\"type\":\"CDSView\"}},\"id\":\"50ea2163-e955-49a6-ba87-6f27f1c9f334\",\"type\":\"GlyphRenderer\"},{\"attributes\":{\"plot\":null,\"text\":\"TOTAL HOMBRES\"},\"id\":\"c8638fc8-92aa-45c6-96d3-ef06d46d0024\",\"type\":\"Title\"},{\"attributes\":{},\"id\":\"76c3f2d2-c491-4bae-8d95-0c862136e969\",\"type\":\"LinearScale\"},{\"attributes\":{\"children\":[{\"id\":\"9c6fe8ba-39cf-4971-ab88-ceabe6d225cc\",\"type\":\"ToolbarBox\"},{\"id\":\"6501184b-c3f8-4fd6-8a8f-5ba53e62a04e\",\"type\":\"Column\"}]},\"id\":\"008a578b-0cde-4662-ac7a-d366739402e4\",\"type\":\"Column\"},{\"attributes\":{\"below\":[{\"id\":\"9d572737-9058-426a-9304-5c45cadfdd72\",\"type\":\"CategoricalAxis\"}],\"left\":[{\"id\":\"82275bbb-58e8-4327-ab2f-e508b3634474\",\"type\":\"LinearAxis\"}],\"plot_height\":450,\"plot_width\":450,\"renderers\":[{\"id\":\"9d572737-9058-426a-9304-5c45cadfdd72\",\"type\":\"CategoricalAxis\"},{\"id\":\"84bc86d0-4175-4667-964e-aca91ae6ffa4\",\"type\":\"Grid\"},{\"id\":\"82275bbb-58e8-4327-ab2f-e508b3634474\",\"type\":\"LinearAxis\"},{\"id\":\"4d555e0f-c37a-4a91-b5a0-50b8ea10d114\",\"type\":\"Grid\"},{\"id\":\"4bd40cff-c0e1-4858-a39e-f1219a0f0f95\",\"type\":\"BoxAnnotation\"},{\"id\":\"0ed0ba30-33c7-4001-a445-d6760a2619d0\",\"type\":\"GlyphRenderer\"}],\"title\":{\"id\":\"c8638fc8-92aa-45c6-96d3-ef06d46d0024\",\"type\":\"Title\"},\"toolbar\":{\"id\":\"51409615-ecbc-477e-b212-e4b20d85286d\",\"type\":\"Toolbar\"},\"toolbar_location\":null,\"x_range\":{\"id\":\"f0b80495-f674-471a-9232-a6ddd3c1848b\",\"type\":\"FactorRange\"},\"x_scale\":{\"id\":\"a70b0fce-dbb6-46cb-a7fc-668cd9b70bc5\",\"type\":\"CategoricalScale\"},\"y_range\":{\"id\":\"357cb82e-6668-47d7-8a49-cef40f3680eb\",\"type\":\"DataRange1d\"},\"y_scale\":{\"id\":\"76c3f2d2-c491-4bae-8d95-0c862136e969\",\"type\":\"LinearScale\"}},\"id\":\"2b88280d-8f2f-4a75-b380-264c6014b839\",\"subtype\":\"Figure\",\"type\":\"Plot\"},{\"attributes\":{\"active_drag\":\"auto\",\"active_inspect\":\"auto\",\"active_scroll\":\"auto\",\"active_tap\":\"auto\",\"tools\":[{\"id\":\"6a5228e2-7de3-424a-ac25-cfa61b190267\",\"type\":\"PanTool\"},{\"id\":\"76f4f3da-abba-4b21-bf0f-d2bb53951ba9\",\"type\":\"WheelZoomTool\"},{\"id\":\"e4c380f4-a879-4c3d-8b9a-dc4068322eaf\",\"type\":\"BoxZoomTool\"}]},\"id\":\"ff02fbf6-7f5e-456c-9c7d-37ee194e7ec2\",\"type\":\"Toolbar\"},{\"attributes\":{},\"id\":\"0ec6db6e-4533-412b-8472-5977eab2b95e\",\"type\":\"PanTool\"},{\"attributes\":{\"callback\":null,\"column_names\":[\"A_RURAL_H_count\",\"A_RURAL_H_mean\",\"A_RURAL_H_std\",\"A_RURAL_H_min\",\"A_RURAL_H_25%\",\"A_RURAL_H_50%\",\"A_RURAL_H_75%\",\"A_RURAL_H_max\",\"A_RURAL_M_count\",\"A_RURAL_M_mean\",\"A_RURAL_M_std\",\"A_RURAL_M_min\",\"A_RURAL_M_25%\",\"A_RURAL_M_50%\",\"A_RURAL_M_75%\",\"A_RURAL_M_max\",\"A_URBANA_H_count\",\"A_URBANA_H_mean\",\"A_URBANA_H_std\",\"A_URBANA_H_min\",\"A_URBANA_H_25%\",\"A_URBANA_H_50%\",\"A_URBANA_H_75%\",\"A_URBANA_H_max\",\"A_URBANA_M_count\",\"A_URBANA_M_mean\",\"A_URBANA_M_std\",\"A_URBANA_M_min\",\"A_URBANA_M_25%\",\"A_URBANA_M_50%\",\"A_URBANA_M_75%\",\"A_URBANA_M_max\",\"TOTAL_H_count\",\"TOTAL_H_mean\",\"TOTAL_H_std\",\"TOTAL_H_min\",\"TOTAL_H_25%\",\"TOTAL_H_50%\",\"TOTAL_H_75%\",\"TOTAL_H_max\",\"TOTAL_M_count\",\"TOTAL_M_mean\",\"TOTAL_M_std\",\"TOTAL_M_min\",\"TOTAL_M_25%\",\"TOTAL_M_50%\",\"TOTAL_M_75%\",\"TOTAL_M_max\",\"GRANDES_GRUPOS_DE_EDAD\"],\"data\":{\"A_RURAL_H_25%\":{\"__ndarray__\":\"eOkmMQisnD+JQWDl0CKrP/T91HjpJsE/wMqhRbbz1T+S7Xw/NV66Pw==\",\"dtype\":\"float64\",\"shape\":[5]},\"A_RURAL_H_50%\":{\"__ndarray__\":\"eOkmMQisnD+JQWDl0CKrP/T91HjpJsE/wMqhRbbz1T+S7Xw/NV66Pw==\",\"dtype\":\"float64\",\"shape\":[5]},\"A_RURAL_H_75%\":{\"__ndarray__\":\"eOkmMQisnD+JQWDl0CKrP/T91HjpJsE/wMqhRbbz1T+S7Xw/NV66Pw==\",\"dtype\":\"float64\",\"shape\":[5]},\"A_RURAL_H_count\":{\"__ndarray__\":\"AAAAAAAA8D8AAAAAAADwPwAAAAAAAPA/AAAAAAAA8D8AAAAAAADwPw==\",\"dtype\":\"float64\",\"shape\":[5]},\"A_RURAL_H_max\":{\"__ndarray__\":\"eOkmMQisnD+JQWDl0CKrP/T91HjpJsE/wMqhRbbz1T+S7Xw/NV66Pw==\",\"dtype\":\"float64\",\"shape\":[5]},\"A_RURAL_H_mean\":{\"__ndarray__\":\"eOkmMQisnD+JQWDl0CKrP/T91HjpJsE/wMqhRbbz1T+S7Xw/NV66Pw==\",\"dtype\":\"float64\",\"shape\":[5]},\"A_RURAL_H_min\":{\"__ndarray__\":\"eOkmMQisnD+JQWDl0CKrP/T91HjpJsE/wMqhRbbz1T+S7Xw/NV66Pw==\",\"dtype\":\"float64\",\"shape\":[5]},\"A_RURAL_H_std\":{\"__ndarray__\":\"AAAAAAAA+H8AAAAAAAD4fwAAAAAAAPh/AAAAAAAA+H8AAAAAAAD4fw==\",\"dtype\":\"float64\",\"shape\":[5]},\"A_RURAL_M_25%\":{\"__ndarray__\":\"mpmZmZmZmT946SYxCKysPz0K16NwPco/AyuHFtnO3z+TGARWDi3CPw==\",\"dtype\":\"float64\",\"shape\":[5]},\"A_RURAL_M_50%\":{\"__ndarray__\":\"mpmZmZmZmT946SYxCKysPz0K16NwPco/AyuHFtnO3z+TGARWDi3CPw==\",\"dtype\":\"float64\",\"shape\":[5]},\"A_RURAL_M_75%\":{\"__ndarray__\":\"mpmZmZmZmT946SYxCKysPz0K16NwPco/AyuHFtnO3z+TGARWDi3CPw==\",\"dtype\":\"float64\",\"shape\":[5]},\"A_RURAL_M_count\":{\"__ndarray__\":\"AAAAAAAA8D8AAAAAAADwPwAAAAAAAPA/AAAAAAAA8D8AAAAAAADwPw==\",\"dtype\":\"float64\",\"shape\":[5]},\"A_RURAL_M_max\":{\"__ndarray__\":\"mpmZmZmZmT946SYxCKysPz0K16NwPco/AyuHFtnO3z+TGARWDi3CPw==\",\"dtype\":\"float64\",\"shape\":[5]},\"A_RURAL_M_mean\":{\"__ndarray__\":\"mpmZmZmZmT946SYxCKysPz0K16NwPco/AyuHFtnO3z+TGARWDi3CPw==\",\"dtype\":\"float64\",\"shape\":[5]},\"A_RURAL_M_min\":{\"__ndarray__\":\"mpmZmZmZmT946SYxCKysPz0K16NwPco/AyuHFtnO3z+TGARWDi3CPw==\",\"dtype\":\"float64\",\"shape\":[5]},\"A_RURAL_M_std\":{\"__ndarray__\":\"AAAAAAAA+H8AAAAAAAD4fwAAAAAAAPh/AAAAAAAA+H8AAAAAAAD4fw==\",\"dtype\":\"float64\",\"shape\":[5]},\"A_URBANA_H_25%\":{\"__ndarray__\":\"+n5qvHSTiD8830+Nl26SP9v5fmq8dKM//Knx0k1iwD9YObTIdr6fPw==\",\"dtype\":\"float64\",\"shape\":[5]},\"A_URBANA_H_50%\":{\"__ndarray__\":\"+n5qvHSTiD8830+Nl26SP9v5fmq8dKM//Knx0k1iwD9YObTIdr6fPw==\",\"dtype\":\"float64\",\"shape\":[5]},\"A_URBANA_H_75%\":{\"__ndarray__\":\"+n5qvHSTiD8830+Nl26SP9v5fmq8dKM//Knx0k1iwD9YObTIdr6fPw==\",\"dtype\":\"float64\",\"shape\":[5]},\"A_URBANA_H_count\":{\"__ndarray__\":\"AAAAAAAA8D8AAAAAAADwPwAAAAAAAPA/AAAAAAAA8D8AAAAAAADwPw==\",\"dtype\":\"float64\",\"shape\":[5]},\"A_URBANA_H_max\":{\"__ndarray__\":\"+n5qvHSTiD8830+Nl26SP9v5fmq8dKM//Knx0k1iwD9YObTIdr6fPw==\",\"dtype\":\"float64\",\"shape\":[5]},\"A_URBANA_H_mean\":{\"__ndarray__\":\"+n5qvHSTiD8830+Nl26SP9v5fmq8dKM//Knx0k1iwD9YObTIdr6fPw==\",\"dtype\":\"float64\",\"shape\":[5]},\"A_URBANA_H_min\":{\"__ndarray__\":\"+n5qvHSTiD8830+Nl26SP9v5fmq8dKM//Knx0k1iwD9YObTIdr6fPw==\",\"dtype\":\"float64\",\"shape\":[5]},\"A_URBANA_H_std\":{\"__ndarray__\":\"AAAAAAAA+H8AAAAAAAD4fwAAAAAAAPh/AAAAAAAA+H8AAAAAAAD4fw==\",\"dtype\":\"float64\",\"shape\":[5]},\"A_URBANA_M_25%\":{\"__ndarray__\":\"PN9PjZdugj+cxCCwcmiRP9rO91Pjpas/9ihcj8L1yD9qvHSTGASmPw==\",\"dtype\":\"float64\",\"shape\":[5]},\"A_URBANA_M_50%\":{\"__ndarray__\":\"PN9PjZdugj+cxCCwcmiRP9rO91Pjpas/9ihcj8L1yD9qvHSTGASmPw==\",\"dtype\":\"float64\",\"shape\":[5]},\"A_URBANA_M_75%\":{\"__ndarray__\":\"PN9PjZdugj+cxCCwcmiRP9rO91Pjpas/9ihcj8L1yD9qvHSTGASmPw==\",\"dtype\":\"float64\",\"shape\":[5]},\"A_URBANA_M_count\":{\"__ndarray__\":\"AAAAAAAA8D8AAAAAAADwPwAAAAAAAPA/AAAAAAAA8D8AAAAAAADwPw==\",\"dtype\":\"float64\",\"shape\":[5]},\"A_URBANA_M_max\":{\"__ndarray__\":\"PN9PjZdugj+cxCCwcmiRP9rO91Pjpas/9ihcj8L1yD9qvHSTGASmPw==\",\"dtype\":\"float64\",\"shape\":[5]},\"A_URBANA_M_mean\":{\"__ndarray__\":\"PN9PjZdugj+cxCCwcmiRP9rO91Pjpas/9ihcj8L1yD9qvHSTGASmPw==\",\"dtype\":\"float64\",\"shape\":[5]},\"A_URBANA_M_min\":{\"__ndarray__\":\"PN9PjZdugj+cxCCwcmiRP9rO91Pjpas/9ihcj8L1yD9qvHSTGASmPw==\",\"dtype\":\"float64\",\"shape\":[5]},\"A_URBANA_M_std\":{\"__ndarray__\":\"AAAAAAAA+H8AAAAAAAD4fwAAAAAAAPh/AAAAAAAA+H8AAAAAAAD4fw==\",\"dtype\":\"float64\",\"shape\":[5]},\"GRANDES_GRUPOS_DE_EDAD\":[\"15-24 a\\u00f1os\",\"25-39 a\\u00f1os\",\"40-64 a\\u00f1os\",\"65 a\\u00f1os y mas\",\"Total nacional\"],\"TOTAL_H_25%\":{\"__ndarray__\":\"PN9PjZdukj+4HoXrUbiePzzfT42XbrI/eOkmMQiszD8YBFYOLbKtPw==\",\"dtype\":\"float64\",\"shape\":[5]},\"TOTAL_H_50%\":{\"__ndarray__\":\"PN9PjZdukj+4HoXrUbiePzzfT42XbrI/eOkmMQiszD8YBFYOLbKtPw==\",\"dtype\":\"float64\",\"shape\":[5]},\"TOTAL_H_75%\":{\"__ndarray__\":\"PN9PjZdukj+4HoXrUbiePzzfT42XbrI/eOkmMQiszD8YBFYOLbKtPw==\",\"dtype\":\"float64\",\"shape\":[5]},\"TOTAL_H_count\":{\"__ndarray__\":\"AAAAAAAA8D8AAAAAAADwPwAAAAAAAPA/AAAAAAAA8D8AAAAAAADwPw==\",\"dtype\":\"float64\",\"shape\":[5]},\"TOTAL_H_max\":{\"__ndarray__\":\"PN9PjZdukj+4HoXrUbiePzzfT42XbrI/eOkmMQiszD8YBFYOLbKtPw==\",\"dtype\":\"float64\",\"shape\":[5]},\"TOTAL_H_mean\":{\"__ndarray__\":\"PN9PjZdukj+4HoXrUbiePzzfT42XbrI/eOkmMQiszD8YBFYOLbKtPw==\",\"dtype\":\"float64\",\"shape\":[5]},\"TOTAL_H_min\":{\"__ndarray__\":\"PN9PjZdukj+4HoXrUbiePzzfT42XbrI/eOkmMQiszD8YBFYOLbKtPw==\",\"dtype\":\"float64\",\"shape\":[5]},\"TOTAL_H_std\":{\"__ndarray__\":\"AAAAAAAA+H8AAAAAAAD4fwAAAAAAAPh/AAAAAAAA+H8AAAAAAAD4fw==\",\"dtype\":\"float64\",\"shape\":[5]},\"TOTAL_M_25%\":{\"__ndarray__\":\"uB6F61G4jj+4HoXrUbiePzq0yHa+n7o/001iEFg51D+DwMqhRbazPw==\",\"dtype\":\"float64\",\"shape\":[5]},\"TOTAL_M_50%\":{\"__ndarray__\":\"uB6F61G4jj+4HoXrUbiePzq0yHa+n7o/001iEFg51D+DwMqhRbazPw==\",\"dtype\":\"float64\",\"shape\":[5]},\"TOTAL_M_75%\":{\"__ndarray__\":\"uB6F61G4jj+4HoXrUbiePzq0yHa+n7o/001iEFg51D+DwMqhRbazPw==\",\"dtype\":\"float64\",\"shape\":[5]},\"TOTAL_M_count\":{\"__ndarray__\":\"AAAAAAAA8D8AAAAAAADwPwAAAAAAAPA/AAAAAAAA8D8AAAAAAADwPw==\",\"dtype\":\"float64\",\"shape\":[5]},\"TOTAL_M_max\":{\"__ndarray__\":\"uB6F61G4jj+4HoXrUbiePzq0yHa+n7o/001iEFg51D+DwMqhRbazPw==\",\"dtype\":\"float64\",\"shape\":[5]},\"TOTAL_M_mean\":{\"__ndarray__\":\"uB6F61G4jj+4HoXrUbiePzq0yHa+n7o/001iEFg51D+DwMqhRbazPw==\",\"dtype\":\"float64\",\"shape\":[5]},\"TOTAL_M_min\":{\"__ndarray__\":\"uB6F61G4jj+4HoXrUbiePzq0yHa+n7o/001iEFg51D+DwMqhRbazPw==\",\"dtype\":\"float64\",\"shape\":[5]},\"TOTAL_M_std\":{\"__ndarray__\":\"AAAAAAAA+H8AAAAAAAD4fwAAAAAAAPh/AAAAAAAA+H8AAAAAAAD4fw==\",\"dtype\":\"float64\",\"shape\":[5]}}},\"id\":\"218ffea0-bc1f-4b96-aaa9-d7a71a04907a\",\"type\":\"ColumnDataSource\"},{\"attributes\":{},\"id\":\"068873a8-0ad1-4174-bc89-0ae98df6a0aa\",\"type\":\"CategoricalTicker\"},{\"attributes\":{\"children\":[{\"id\":\"69df6c3c-dc74-4273-94e9-35aa60574aa7\",\"subtype\":\"Figure\",\"type\":\"Plot\"},{\"id\":\"2b88280d-8f2f-4a75-b380-264c6014b839\",\"subtype\":\"Figure\",\"type\":\"Plot\"}]},\"id\":\"144d1e9c-b562-48a5-be9f-1da2246388f3\",\"type\":\"Row\"},{\"attributes\":{\"data_source\":{\"id\":\"218ffea0-bc1f-4b96-aaa9-d7a71a04907a\",\"type\":\"ColumnDataSource\"},\"glyph\":{\"id\":\"aa7c7ecc-0c15-4747-8764-e6c7fbe5b361\",\"type\":\"VBar\"},\"hover_glyph\":null,\"muted_glyph\":null,\"nonselection_glyph\":{\"id\":\"040c485a-c422-4fb5-9487-e37e532cb3ba\",\"type\":\"VBar\"},\"selection_glyph\":null,\"view\":{\"id\":\"0ae17014-851e-447c-aed2-79a2ec0abddd\",\"type\":\"CDSView\"}},\"id\":\"0ed0ba30-33c7-4001-a445-d6760a2619d0\",\"type\":\"GlyphRenderer\"},{\"attributes\":{\"fill_color\":{\"value\":\"#00FF39\"},\"line_color\":{\"value\":\"white\"},\"top\":{\"field\":\"TOTAL_M_mean\"},\"width\":{\"value\":0.7},\"x\":{\"field\":\"GRANDES_GRUPOS_DE_EDAD\"}},\"id\":\"9b466087-95e6-4772-b94c-0355407ade55\",\"type\":\"VBar\"},{\"attributes\":{\"source\":{\"id\":\"218ffea0-bc1f-4b96-aaa9-d7a71a04907a\",\"type\":\"ColumnDataSource\"}},\"id\":\"ee7d7504-9334-4f33-9f87-f4604fb3ecd1\",\"type\":\"CDSView\"},{\"attributes\":{\"dimension\":1,\"plot\":{\"id\":\"2b88280d-8f2f-4a75-b380-264c6014b839\",\"subtype\":\"Figure\",\"type\":\"Plot\"},\"ticker\":{\"id\":\"dc073bf7-2a45-454b-8cfe-7cb041b92932\",\"type\":\"BasicTicker\"}},\"id\":\"4d555e0f-c37a-4a91-b5a0-50b8ea10d114\",\"type\":\"Grid\"},{\"attributes\":{},\"id\":\"a70b0fce-dbb6-46cb-a7fc-668cd9b70bc5\",\"type\":\"CategoricalScale\"},{\"attributes\":{\"dimension\":1,\"plot\":{\"id\":\"69df6c3c-dc74-4273-94e9-35aa60574aa7\",\"subtype\":\"Figure\",\"type\":\"Plot\"},\"ticker\":{\"id\":\"74e1aa85-1103-415f-9f84-fee92e416fc2\",\"type\":\"BasicTicker\"}},\"id\":\"5682033d-3993-47bf-9513-351bfdc5878a\",\"type\":\"Grid\"}],\"root_ids\":[\"008a578b-0cde-4662-ac7a-d366739402e4\"]},\"title\":\"Bokeh Application\",\"version\":\"0.12.10\"}};\n",
       "    var render_items = [{\"docid\":\"dadb2489-c38f-41c8-8422-7682e4d5ce46\",\"elementid\":\"cb092600-93c4-4ddc-b687-546fb4e0bff2\",\"modelid\":\"008a578b-0cde-4662-ac7a-d366739402e4\"}];\n",
       "\n",
       "    root.Bokeh.embed.embed_items(docs_json, render_items);\n",
       "  }\n",
       "\n",
       "  if (root.Bokeh !== undefined) {\n",
       "    embed_document(root);\n",
       "  } else {\n",
       "    var attempts = 0;\n",
       "    var timer = setInterval(function(root) {\n",
       "      if (root.Bokeh !== undefined) {\n",
       "        embed_document(root);\n",
       "        clearInterval(timer);\n",
       "      }\n",
       "      attempts++;\n",
       "      if (attempts > 100) {\n",
       "        console.log(\"Bokeh: ERROR: Unable to embed document because BokehJS library is missing\")\n",
       "        clearInterval(timer);\n",
       "      }\n",
       "    }, 10, root)\n",
       "  }\n",
       "})(window);"
      ],
      "application/vnd.bokehjs_exec.v0+json": ""
     },
     "metadata": {
      "application/vnd.bokehjs_exec.v0+json": {
       "id": "008a578b-0cde-4662-ac7a-d366739402e4"
      }
     },
     "output_type": "display_data"
    }
   ],
   "source": [
    "# Importamos gridplot - para presentar varias graficas en una\n",
    "from bokeh.layouts import gridplot\n",
    "\n",
    "group1 = tabla1.groupby('GRANDES_GRUPOS_DE_EDAD')\n",
    "\n",
    "source = ColumnDataSource(group1)\n",
    "\n",
    "# Creamos un una variable con un diccionario que alberga las parametros de la figura ha crear\n",
    "options = dict(plot_width=450, plot_height=450, # Tamaño\n",
    "                x_range=group1, # Mandamos el rango de x\n",
    "               tools=\"pan,wheel_zoom,box_zoom\") # Herramientas de bokeh a mostrar\n",
    "\n",
    "# Creamos un objeto de figura y establecemos su tamaño, rango, y le damos un título \n",
    "graph1 = figure(title='TOTAl MUJERES', # Le damos un título\n",
    "               **options # Enviamos los atributos albergados en options\n",
    "              )\n",
    "graph2 = figure(title='TOTAL HOMBRES', **options)\n",
    "\n",
    "graph1.vbar(x='GRANDES_GRUPOS_DE_EDAD', top='TOTAL_M_mean', width=0.7, line_color=\"white\", color=\"#00FF39\", source=source)\n",
    "graph2.vbar(x='GRANDES_GRUPOS_DE_EDAD', top='TOTAL_H_mean', width=0.7, line_color=\"white\", color=\"#F08080\", source=source)\n",
    "\n",
    "graph = gridplot([[graph1, graph2]])\n",
    "\n",
    "show(graph)"
   ]
  },
  {
   "cell_type": "code",
   "execution_count": null,
   "metadata": {
    "collapsed": true
   },
   "outputs": [],
   "source": []
  }
 ],
 "metadata": {
  "kernelspec": {
   "display_name": "Python 3",
   "language": "python",
   "name": "python3"
  },
  "language_info": {
   "codemirror_mode": {
    "name": "ipython",
    "version": 3
   },
   "file_extension": ".py",
   "mimetype": "text/x-python",
   "name": "python",
   "nbconvert_exporter": "python",
   "pygments_lexer": "ipython3",
   "version": "3.6.3"
  }
 },
 "nbformat": 4,
 "nbformat_minor": 2
}
